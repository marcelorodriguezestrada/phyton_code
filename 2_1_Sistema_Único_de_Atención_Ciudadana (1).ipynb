{
 "cells": [
  {
   "cell_type": "markdown",
   "metadata": {
    "id": "itWmrrcVfdH9"
   },
   "source": [
    " <img src=\"https://eant.tech/imagenes/logo.png\" width=25% height=80%  >  \n",
    "\n",
    "\n",
    "## <img src=\"http://icons.iconarchive.com/icons/cornmanthe3rd/plex/256/Other-python-icon.png\" width=\"40\"> Ejercicio Sistema Único de Atención Ciudadana 🚙🌳🛣️🧹\n",
    "\n",
    "Las tematicas que vamos a trabajar son las siguientes:\n",
    "\n",
    "TEMATICA | LETRAS\n",
    "---|---\n",
    "* 🚙 TRÁNSITO | [`'A'`, `'B'`, `'C'`, `'D'`, `'E'`, `'F'`]\n",
    "* 🧹LIMPIEZA Y RECOLECCIÓN | [`'G'`, `'H'`, `'I'`, `'J'`, `'K'`, `'L'`]\n",
    "* 🌳 ARBOLADO Y ESPACIOS VERDES| [`'M'`, `'N'`, `'O'`, `'P'`, `'Q'`, `'R'`]\n",
    "* 🛣️ CALLES Y VEREDAS | [`'S'`, `'T'`, `'U'`, `'V'`, `'W'`, `'X'`, `'Y'`, `'Z'`]\n",
    "\n",
    ">La tematica seleccionar depende de tu apellido, por ejemplo si es `Martinez` deberas realizar los siguientes ejercicios basandote en el topico de **Arbolado y espacios verdes**\n",
    "\n",
    "---\n",
    "\n",
    "\n",
    "🔹  Importar el archivo de [Sistema Único de Atención Ciudadana](https://data.buenosaires.gob.ar/dataset/sistema-unico-atencion-ciudadana) \n"
   ]
  },
  {
   "cell_type": "code",
   "execution_count": 1,
   "metadata": {
    "executionInfo": {
     "elapsed": 10,
     "status": "ok",
     "timestamp": 1628720906249,
     "user": {
      "displayName": "Pablo Mandelbaum",
      "photoUrl": "https://lh3.googleusercontent.com/a-/AOh14Ghp2qqB12NOxAk4IOguEe7mr7kd7zaBYSGjBEJcYKM=s64",
      "userId": "09719579371232433582"
     },
     "user_tz": 180
    },
    "id": "6jhAEdTDij_t"
   },
   "outputs": [],
   "source": [
    "import pandas as pd\n",
    "import numpy as np\n",
    "import datetime as dt\n",
    "import os\n"
   ]
  },
  {
   "cell_type": "markdown",
   "metadata": {
    "id": "4oJaM8WipBUB"
   },
   "source": [
    "🔹 Visualizar las columnas del dataframe"
   ]
  },
  {
   "cell_type": "code",
   "execution_count": 1,
   "metadata": {
    "colab": {
     "base_uri": "https://localhost:8080/"
    },
    "executionInfo": {
     "elapsed": 264,
     "status": "ok",
     "timestamp": 1628721878499,
     "user": {
      "displayName": "Pablo Mandelbaum",
      "photoUrl": "https://lh3.googleusercontent.com/a-/AOh14Ghp2qqB12NOxAk4IOguEe7mr7kd7zaBYSGjBEJcYKM=s64",
      "userId": "09719579371232433582"
     },
     "user_tz": 180
    },
    "id": "PxYCUzlagSjB",
    "outputId": "848fd36b-ac2b-4aa8-ae0b-aa113f3104e0"
   },
   "outputs": [
    {
     "ename": "ModuleNotFoundError",
     "evalue": "No module named 'google.colab'",
     "output_type": "error",
     "traceback": [
      "\u001b[1;31m---------------------------------------------------------------------------\u001b[0m",
      "\u001b[1;31mModuleNotFoundError\u001b[0m                       Traceback (most recent call last)",
      "\u001b[1;32m<ipython-input-1-d5df0069828e>\u001b[0m in \u001b[0;36m<module>\u001b[1;34m\u001b[0m\n\u001b[1;32m----> 1\u001b[1;33m \u001b[1;32mfrom\u001b[0m \u001b[0mgoogle\u001b[0m\u001b[1;33m.\u001b[0m\u001b[0mcolab\u001b[0m \u001b[1;32mimport\u001b[0m \u001b[0mdrive\u001b[0m\u001b[1;33m\u001b[0m\u001b[1;33m\u001b[0m\u001b[0m\n\u001b[0m\u001b[0;32m      2\u001b[0m \u001b[0mdrive\u001b[0m\u001b[1;33m.\u001b[0m\u001b[0mmount\u001b[0m\u001b[1;33m(\u001b[0m\u001b[1;34m'/content/drive'\u001b[0m\u001b[1;33m)\u001b[0m\u001b[1;33m\u001b[0m\u001b[1;33m\u001b[0m\u001b[0m\n",
      "\u001b[1;31mModuleNotFoundError\u001b[0m: No module named 'google.colab'"
     ]
    }
   ],
   "source": [
    "from google.colab import drive\n",
    "drive.mount('/content/drive')"
   ]
  },
  {
   "cell_type": "markdown",
   "metadata": {
    "id": "5sR1wVdigP7s"
   },
   "source": [
    "🔹 Utilizar las funciones para validar y verificar los datos importados: \n",
    "\n",
    "orden | descripcion |   | método |\n",
    "---|---|---|---|\n",
    "1️⃣ | Comprobar la importación de los datos    |     ➡️ | pd.DataFrame.head()\n",
    "2️⃣ | Analizar los tipos de datos importados    |   ➡️ |pd.DataFrame.info()\n",
    "3️⃣ | Obtener un análisis de cada variable númerica | ➡️ |pd.DataFrame.describe()\n",
    "4️⃣ | Conocer los valores de variables categóricas  | ➡️ |pd.Series.unique()\n"
   ]
  },
  {
   "cell_type": "code",
   "execution_count": 16,
   "metadata": {
    "colab": {
     "base_uri": "https://localhost:8080/",
     "height": 874
    },
    "executionInfo": {
     "elapsed": 1954,
     "status": "ok",
     "timestamp": 1628722342114,
     "user": {
      "displayName": "Pablo Mandelbaum",
      "photoUrl": "https://lh3.googleusercontent.com/a-/AOh14Ghp2qqB12NOxAk4IOguEe7mr7kd7zaBYSGjBEJcYKM=s64",
      "userId": "09719579371232433582"
     },
     "user_tz": 180
    },
    "id": "IQW1PFzQgPnN",
    "outputId": "929d46d2-c02e-479a-d7a4-6c84f70bd12d"
   },
   "outputs": [
    {
     "name": "stdout",
     "output_type": "stream",
     "text": [
      "<class 'pandas.core.frame.DataFrame'>\n",
      "RangeIndex: 340645 entries, 0 to 340644\n",
      "Data columns (total 19 columns):\n",
      " #   Column                     Non-Null Count   Dtype  \n",
      "---  ------                     --------------   -----  \n",
      " 0   contacto                   340645 non-null  object \n",
      " 1   periodo                    340645 non-null  int64  \n",
      " 2   categoria                  156865 non-null  object \n",
      " 3   subcategoria               156479 non-null  object \n",
      " 4   concepto                   340645 non-null  object \n",
      " 5   tipo_prestacion            340645 non-null  object \n",
      " 6   fecha_ingreso              340645 non-null  object \n",
      " 7   hora_ingreso               340645 non-null  object \n",
      " 8   domicilio_cgpc             325779 non-null  object \n",
      " 9   domicilio_barrio           325779 non-null  object \n",
      " 10  domicilio_calle            252496 non-null  object \n",
      " 11  domicilio_altura           238088 non-null  float64\n",
      " 12  domicilio_esquina_proxima  14408 non-null   object \n",
      " 13  lat                        325910 non-null  float64\n",
      " 14  long                       325910 non-null  float64\n",
      " 15  canal                      286245 non-null  object \n",
      " 16  genero                     291232 non-null  object \n",
      " 17  estado_del_contacto        340645 non-null  object \n",
      " 18  fecha_cierre_contacto      287689 non-null  object \n",
      "dtypes: float64(3), int64(1), object(15)\n",
      "memory usage: 49.4+ MB\n"
     ]
    },
    {
     "data": {
      "text/html": [
       "<div>\n",
       "<style scoped>\n",
       "    .dataframe tbody tr th:only-of-type {\n",
       "        vertical-align: middle;\n",
       "    }\n",
       "\n",
       "    .dataframe tbody tr th {\n",
       "        vertical-align: top;\n",
       "    }\n",
       "\n",
       "    .dataframe thead th {\n",
       "        text-align: right;\n",
       "    }\n",
       "</style>\n",
       "<table border=\"1\" class=\"dataframe\">\n",
       "  <thead>\n",
       "    <tr style=\"text-align: right;\">\n",
       "      <th></th>\n",
       "      <th>contacto</th>\n",
       "      <th>periodo</th>\n",
       "      <th>categoria</th>\n",
       "      <th>subcategoria</th>\n",
       "      <th>concepto</th>\n",
       "      <th>tipo_prestacion</th>\n",
       "      <th>fecha_ingreso</th>\n",
       "      <th>hora_ingreso</th>\n",
       "      <th>domicilio_cgpc</th>\n",
       "      <th>domicilio_barrio</th>\n",
       "      <th>domicilio_calle</th>\n",
       "      <th>domicilio_altura</th>\n",
       "      <th>domicilio_esquina_proxima</th>\n",
       "      <th>lat</th>\n",
       "      <th>long</th>\n",
       "      <th>canal</th>\n",
       "      <th>genero</th>\n",
       "      <th>estado_del_contacto</th>\n",
       "      <th>fecha_cierre_contacto</th>\n",
       "    </tr>\n",
       "  </thead>\n",
       "  <tbody>\n",
       "    <tr>\n",
       "      <th>0</th>\n",
       "      <td>00000001/20</td>\n",
       "      <td>202001</td>\n",
       "      <td>TRÁNSITO</td>\n",
       "      <td>DENUNCIA VIAL</td>\n",
       "      <td>VEHÍCULO MAL ESTACIONADO</td>\n",
       "      <td>DENUNCIA</td>\n",
       "      <td>2020-01-01</td>\n",
       "      <td>01:09:05 a.m.</td>\n",
       "      <td>COMUNA 6</td>\n",
       "      <td>CABALLITO</td>\n",
       "      <td>PUEYRREDON, HONORIO, DR. AV.</td>\n",
       "      <td>1070.0</td>\n",
       "      <td>NaN</td>\n",
       "      <td>-34.608243</td>\n",
       "      <td>-58.445167</td>\n",
       "      <td>Comunas</td>\n",
       "      <td>Femenino</td>\n",
       "      <td>Cerrado</td>\n",
       "      <td>2020-01-01</td>\n",
       "    </tr>\n",
       "    <tr>\n",
       "      <th>1</th>\n",
       "      <td>00000002/20</td>\n",
       "      <td>202001</td>\n",
       "      <td>TRÁNSITO</td>\n",
       "      <td>DENUNCIA VIAL</td>\n",
       "      <td>VEHÍCULO MAL ESTACIONADO</td>\n",
       "      <td>DENUNCIA</td>\n",
       "      <td>2020-01-01</td>\n",
       "      <td>01:17:27 a.m.</td>\n",
       "      <td>COMUNA 4</td>\n",
       "      <td>PARQUE PATRICIOS</td>\n",
       "      <td>CASEROS AV.</td>\n",
       "      <td>3223.0</td>\n",
       "      <td>NaN</td>\n",
       "      <td>-34.637739</td>\n",
       "      <td>-58.409650</td>\n",
       "      <td>Comunas</td>\n",
       "      <td>Femenino</td>\n",
       "      <td>Cerrado</td>\n",
       "      <td>2020-01-01</td>\n",
       "    </tr>\n",
       "    <tr>\n",
       "      <th>2</th>\n",
       "      <td>00000003/20</td>\n",
       "      <td>202001</td>\n",
       "      <td>ARBOLADO Y ESPACIOS VERDES</td>\n",
       "      <td>PLANTACIÓN DE ÁRBOL</td>\n",
       "      <td>PLANTACIÓN DE ÁRBOL</td>\n",
       "      <td>SOLICITUD</td>\n",
       "      <td>2020-01-01</td>\n",
       "      <td>01:17:53 a.m.</td>\n",
       "      <td>COMUNA 13</td>\n",
       "      <td>COLEGIALES</td>\n",
       "      <td>CONDE</td>\n",
       "      <td>1014.0</td>\n",
       "      <td>NaN</td>\n",
       "      <td>-34.576143</td>\n",
       "      <td>-58.453507</td>\n",
       "      <td>Comunas</td>\n",
       "      <td>Masculino</td>\n",
       "      <td>Cerrado</td>\n",
       "      <td>2020-01-07</td>\n",
       "    </tr>\n",
       "    <tr>\n",
       "      <th>3</th>\n",
       "      <td>00000004/20</td>\n",
       "      <td>202001</td>\n",
       "      <td>ARBOLADO Y ESPACIOS VERDES</td>\n",
       "      <td>PLANTACIÓN DE ÁRBOL</td>\n",
       "      <td>PLANTACIÓN DE ÁRBOL</td>\n",
       "      <td>SOLICITUD</td>\n",
       "      <td>2020-01-01</td>\n",
       "      <td>01:19:07 a.m.</td>\n",
       "      <td>COMUNA 13</td>\n",
       "      <td>COLEGIALES</td>\n",
       "      <td>LACROZE, FEDERICO AV.</td>\n",
       "      <td>3160.0</td>\n",
       "      <td>NaN</td>\n",
       "      <td>-34.577616</td>\n",
       "      <td>-58.449108</td>\n",
       "      <td>Comunas</td>\n",
       "      <td>Masculino</td>\n",
       "      <td>Abierto</td>\n",
       "      <td>NaN</td>\n",
       "    </tr>\n",
       "    <tr>\n",
       "      <th>4</th>\n",
       "      <td>00000005/20</td>\n",
       "      <td>202001</td>\n",
       "      <td>LIMPIEZA Y RECOLECCIÓN</td>\n",
       "      <td>LIMPIEZA DE VÍA PÚBLICA</td>\n",
       "      <td>RECOLECCIÓN DE RESIDUOS FUERA DEL CONTENEDOR</td>\n",
       "      <td>SOLICITUD</td>\n",
       "      <td>2020-01-01</td>\n",
       "      <td>01:19:43 a.m.</td>\n",
       "      <td>COMUNA 12</td>\n",
       "      <td>COGHLAN</td>\n",
       "      <td>WASHINGTON</td>\n",
       "      <td>2519.0</td>\n",
       "      <td>NaN</td>\n",
       "      <td>-34.565914</td>\n",
       "      <td>-58.472585</td>\n",
       "      <td>Comunas</td>\n",
       "      <td>Femenino</td>\n",
       "      <td>Cerrado</td>\n",
       "      <td>2020-01-02</td>\n",
       "    </tr>\n",
       "  </tbody>\n",
       "</table>\n",
       "</div>"
      ],
      "text/plain": [
       "      contacto  periodo  ... estado_del_contacto fecha_cierre_contacto\n",
       "0  00000001/20   202001  ...             Cerrado            2020-01-01\n",
       "1  00000002/20   202001  ...             Cerrado            2020-01-01\n",
       "2  00000003/20   202001  ...             Cerrado            2020-01-07\n",
       "3  00000004/20   202001  ...             Abierto                   NaN\n",
       "4  00000005/20   202001  ...             Cerrado            2020-01-02\n",
       "\n",
       "[5 rows x 19 columns]"
      ]
     },
     "execution_count": 16,
     "metadata": {
      "tags": []
     },
     "output_type": "execute_result"
    }
   ],
   "source": [
    "sist = pd.read_csv(\"/content/drive/MyDrive/Colab Notebooks/sistema-unico-de-atencion-ciudadana-2020.csv\")\n",
    "sist.info()\n",
    "sist.head()"
   ]
  },
  {
   "cell_type": "markdown",
   "metadata": {
    "id": "G6Efg0imiCLi"
   },
   "source": [
    "🔹 Generar una dataframe en base a la tematica "
   ]
  },
  {
   "cell_type": "code",
   "execution_count": 28,
   "metadata": {
    "colab": {
     "base_uri": "https://localhost:8080/",
     "height": 950
    },
    "executionInfo": {
     "elapsed": 271,
     "status": "ok",
     "timestamp": 1628723468303,
     "user": {
      "displayName": "Pablo Mandelbaum",
      "photoUrl": "https://lh3.googleusercontent.com/a-/AOh14Ghp2qqB12NOxAk4IOguEe7mr7kd7zaBYSGjBEJcYKM=s64",
      "userId": "09719579371232433582"
     },
     "user_tz": 180
    },
    "id": "9zU2fQ7QvBqC",
    "outputId": "3133e3e8-67e2-484e-c5d4-882a2540eb3e"
   },
   "outputs": [
    {
     "data": {
      "text/html": [
       "<div>\n",
       "<style scoped>\n",
       "    .dataframe tbody tr th:only-of-type {\n",
       "        vertical-align: middle;\n",
       "    }\n",
       "\n",
       "    .dataframe tbody tr th {\n",
       "        vertical-align: top;\n",
       "    }\n",
       "\n",
       "    .dataframe thead th {\n",
       "        text-align: right;\n",
       "    }\n",
       "</style>\n",
       "<table border=\"1\" class=\"dataframe\">\n",
       "  <thead>\n",
       "    <tr style=\"text-align: right;\">\n",
       "      <th></th>\n",
       "      <th>contacto</th>\n",
       "      <th>periodo</th>\n",
       "      <th>categoria</th>\n",
       "      <th>subcategoria</th>\n",
       "      <th>concepto</th>\n",
       "      <th>tipo_prestacion</th>\n",
       "      <th>fecha_ingreso</th>\n",
       "      <th>hora_ingreso</th>\n",
       "      <th>domicilio_cgpc</th>\n",
       "      <th>domicilio_barrio</th>\n",
       "      <th>domicilio_calle</th>\n",
       "      <th>domicilio_altura</th>\n",
       "      <th>domicilio_esquina_proxima</th>\n",
       "      <th>lat</th>\n",
       "      <th>long</th>\n",
       "      <th>canal</th>\n",
       "      <th>genero</th>\n",
       "      <th>estado_del_contacto</th>\n",
       "      <th>fecha_cierre_contacto</th>\n",
       "    </tr>\n",
       "  </thead>\n",
       "  <tbody>\n",
       "    <tr>\n",
       "      <th>2</th>\n",
       "      <td>00000003/20</td>\n",
       "      <td>202001</td>\n",
       "      <td>ARBOLADO Y ESPACIOS VERDES</td>\n",
       "      <td>PLANTACIÓN DE ÁRBOL</td>\n",
       "      <td>PLANTACIÓN DE ÁRBOL</td>\n",
       "      <td>SOLICITUD</td>\n",
       "      <td>2020-01-01</td>\n",
       "      <td>01:17:53 a.m.</td>\n",
       "      <td>COMUNA 13</td>\n",
       "      <td>COLEGIALES</td>\n",
       "      <td>CONDE</td>\n",
       "      <td>1014.0</td>\n",
       "      <td>NaN</td>\n",
       "      <td>-34.576143</td>\n",
       "      <td>-58.453507</td>\n",
       "      <td>Comunas</td>\n",
       "      <td>Masculino</td>\n",
       "      <td>Cerrado</td>\n",
       "      <td>2020-01-07</td>\n",
       "    </tr>\n",
       "    <tr>\n",
       "      <th>3</th>\n",
       "      <td>00000004/20</td>\n",
       "      <td>202001</td>\n",
       "      <td>ARBOLADO Y ESPACIOS VERDES</td>\n",
       "      <td>PLANTACIÓN DE ÁRBOL</td>\n",
       "      <td>PLANTACIÓN DE ÁRBOL</td>\n",
       "      <td>SOLICITUD</td>\n",
       "      <td>2020-01-01</td>\n",
       "      <td>01:19:07 a.m.</td>\n",
       "      <td>COMUNA 13</td>\n",
       "      <td>COLEGIALES</td>\n",
       "      <td>LACROZE, FEDERICO AV.</td>\n",
       "      <td>3160.0</td>\n",
       "      <td>NaN</td>\n",
       "      <td>-34.577616</td>\n",
       "      <td>-58.449108</td>\n",
       "      <td>Comunas</td>\n",
       "      <td>Masculino</td>\n",
       "      <td>Abierto</td>\n",
       "      <td>NaN</td>\n",
       "    </tr>\n",
       "    <tr>\n",
       "      <th>6</th>\n",
       "      <td>00000007/20</td>\n",
       "      <td>202001</td>\n",
       "      <td>ARBOLADO Y ESPACIOS VERDES</td>\n",
       "      <td>PODA DE ÁRBOL Y DESPEJE DE LUMINARIA</td>\n",
       "      <td>PODA DE ÁRBOL/DESPEJE DE LUMINARIA O SEMÁFORO</td>\n",
       "      <td>SOLICITUD</td>\n",
       "      <td>2020-01-01</td>\n",
       "      <td>01:33:14 a.m.</td>\n",
       "      <td>COMUNA 5</td>\n",
       "      <td>BOEDO</td>\n",
       "      <td>ALZAGA</td>\n",
       "      <td>2013.0</td>\n",
       "      <td>NaN</td>\n",
       "      <td>-34.635323</td>\n",
       "      <td>-58.415138</td>\n",
       "      <td>Comunas</td>\n",
       "      <td>Masculino</td>\n",
       "      <td>Cerrado</td>\n",
       "      <td>2020-01-06</td>\n",
       "    </tr>\n",
       "    <tr>\n",
       "      <th>75</th>\n",
       "      <td>00000077/20</td>\n",
       "      <td>202001</td>\n",
       "      <td>ARBOLADO Y ESPACIOS VERDES</td>\n",
       "      <td>PODA DE ÁRBOL Y DESPEJE DE LUMINARIA</td>\n",
       "      <td>PODA DE ÁRBOL/DESPEJE DE LUMINARIA O SEMÁFORO</td>\n",
       "      <td>SOLICITUD</td>\n",
       "      <td>2020-01-01</td>\n",
       "      <td>09:40:37 a.m.</td>\n",
       "      <td>COMUNA 7</td>\n",
       "      <td>PARQUE CHACABUCO</td>\n",
       "      <td>ESTRADA</td>\n",
       "      <td>278.0</td>\n",
       "      <td>NaN</td>\n",
       "      <td>-34.631012</td>\n",
       "      <td>-58.429672</td>\n",
       "      <td>Comunas</td>\n",
       "      <td>Femenino</td>\n",
       "      <td>Cerrado</td>\n",
       "      <td>2020-01-03</td>\n",
       "    </tr>\n",
       "    <tr>\n",
       "      <th>83</th>\n",
       "      <td>00000086/20</td>\n",
       "      <td>202001</td>\n",
       "      <td>ARBOLADO Y ESPACIOS VERDES</td>\n",
       "      <td>PLANTACIÓN DE ÁRBOL</td>\n",
       "      <td>PLANTACIÓN DE ÁRBOL</td>\n",
       "      <td>SOLICITUD</td>\n",
       "      <td>2020-01-01</td>\n",
       "      <td>11:01:06 a.m.</td>\n",
       "      <td>COMUNA 13</td>\n",
       "      <td>BELGRANO</td>\n",
       "      <td>MIGUELETES</td>\n",
       "      <td>2248.0</td>\n",
       "      <td>NaN</td>\n",
       "      <td>-34.554654</td>\n",
       "      <td>-58.447919</td>\n",
       "      <td>Comunas</td>\n",
       "      <td>Masculino</td>\n",
       "      <td>Abierto</td>\n",
       "      <td>NaN</td>\n",
       "    </tr>\n",
       "    <tr>\n",
       "      <th>...</th>\n",
       "      <td>...</td>\n",
       "      <td>...</td>\n",
       "      <td>...</td>\n",
       "      <td>...</td>\n",
       "      <td>...</td>\n",
       "      <td>...</td>\n",
       "      <td>...</td>\n",
       "      <td>...</td>\n",
       "      <td>...</td>\n",
       "      <td>...</td>\n",
       "      <td>...</td>\n",
       "      <td>...</td>\n",
       "      <td>...</td>\n",
       "      <td>...</td>\n",
       "      <td>...</td>\n",
       "      <td>...</td>\n",
       "      <td>...</td>\n",
       "      <td>...</td>\n",
       "      <td>...</td>\n",
       "    </tr>\n",
       "    <tr>\n",
       "      <th>340476</th>\n",
       "      <td>00360160/20</td>\n",
       "      <td>202007</td>\n",
       "      <td>ARBOLADO Y ESPACIOS VERDES</td>\n",
       "      <td>EXTRACCIÓN DE ÁRBOL</td>\n",
       "      <td>EXTRACCIÓN DE ÁRBOL</td>\n",
       "      <td>SOLICITUD</td>\n",
       "      <td>2020-07-31</td>\n",
       "      <td>06:54:27 p.m.</td>\n",
       "      <td>COMUNA 12</td>\n",
       "      <td>VILLA URQUIZA</td>\n",
       "      <td>NUÑEZ</td>\n",
       "      <td>4998.0</td>\n",
       "      <td>NaN</td>\n",
       "      <td>-34.562625</td>\n",
       "      <td>-58.490847</td>\n",
       "      <td>Comunas</td>\n",
       "      <td>Masculino</td>\n",
       "      <td>Abierto</td>\n",
       "      <td>NaN</td>\n",
       "    </tr>\n",
       "    <tr>\n",
       "      <th>340513</th>\n",
       "      <td>00360200/20</td>\n",
       "      <td>202007</td>\n",
       "      <td>ARBOLADO Y ESPACIOS VERDES</td>\n",
       "      <td>PROBLEMA CON INTERVENCIONES DE ARBOLADO</td>\n",
       "      <td>PROBLEMAS CON INTERVENCIONES DE ARBOLADO</td>\n",
       "      <td>QUEJA</td>\n",
       "      <td>2020-07-31</td>\n",
       "      <td>07:41:18 p.m.</td>\n",
       "      <td>COMUNA 9</td>\n",
       "      <td>PARQUE AVELLANEDA</td>\n",
       "      <td>EL CERRO</td>\n",
       "      <td>3425.0</td>\n",
       "      <td>NaN</td>\n",
       "      <td>-34.647575</td>\n",
       "      <td>-58.465735</td>\n",
       "      <td>App</td>\n",
       "      <td>Masculino</td>\n",
       "      <td>Abierto</td>\n",
       "      <td>NaN</td>\n",
       "    </tr>\n",
       "    <tr>\n",
       "      <th>340590</th>\n",
       "      <td>00360275/20</td>\n",
       "      <td>202007</td>\n",
       "      <td>ARBOLADO Y ESPACIOS VERDES</td>\n",
       "      <td>EXTRACCIÓN DE ÁRBOL</td>\n",
       "      <td>EXTRACCIÓN DE ÁRBOL</td>\n",
       "      <td>SOLICITUD</td>\n",
       "      <td>2020-07-31</td>\n",
       "      <td>09:08:58 p.m.</td>\n",
       "      <td>COMUNA 12</td>\n",
       "      <td>COGHLAN</td>\n",
       "      <td>QUESADA</td>\n",
       "      <td>3415.0</td>\n",
       "      <td>NaN</td>\n",
       "      <td>-34.559876</td>\n",
       "      <td>-58.473698</td>\n",
       "      <td>App</td>\n",
       "      <td>Femenino</td>\n",
       "      <td>Abierto</td>\n",
       "      <td>NaN</td>\n",
       "    </tr>\n",
       "    <tr>\n",
       "      <th>340626</th>\n",
       "      <td>00360313/20</td>\n",
       "      <td>202007</td>\n",
       "      <td>ARBOLADO Y ESPACIOS VERDES</td>\n",
       "      <td>EXTRACCIÓN DE ÁRBOL</td>\n",
       "      <td>EXTRACCIÓN DE ÁRBOL</td>\n",
       "      <td>SOLICITUD</td>\n",
       "      <td>2020-07-31</td>\n",
       "      <td>10:28:43 p.m.</td>\n",
       "      <td>COMUNA 9</td>\n",
       "      <td>PARQUE AVELLANEDA</td>\n",
       "      <td>PERON, EVA AV.</td>\n",
       "      <td>4845.0</td>\n",
       "      <td>NaN</td>\n",
       "      <td>-34.657231</td>\n",
       "      <td>-58.478183</td>\n",
       "      <td>App</td>\n",
       "      <td>Femenino</td>\n",
       "      <td>Abierto</td>\n",
       "      <td>NaN</td>\n",
       "    </tr>\n",
       "    <tr>\n",
       "      <th>340635</th>\n",
       "      <td>00360322/20</td>\n",
       "      <td>202007</td>\n",
       "      <td>ARBOLADO Y ESPACIOS VERDES</td>\n",
       "      <td>EXTRACCIÓN DE ÁRBOL</td>\n",
       "      <td>EXTRACCIÓN DE ÁRBOL</td>\n",
       "      <td>SOLICITUD</td>\n",
       "      <td>2020-07-31</td>\n",
       "      <td>11:23:08 p.m.</td>\n",
       "      <td>COMUNA 15</td>\n",
       "      <td>VILLA CRESPO</td>\n",
       "      <td>OLAYA</td>\n",
       "      <td>1721.0</td>\n",
       "      <td>NaN</td>\n",
       "      <td>-34.601420</td>\n",
       "      <td>-58.447814</td>\n",
       "      <td>App</td>\n",
       "      <td>Masculino</td>\n",
       "      <td>Abierto</td>\n",
       "      <td>NaN</td>\n",
       "    </tr>\n",
       "  </tbody>\n",
       "</table>\n",
       "<p>17384 rows × 19 columns</p>\n",
       "</div>"
      ],
      "text/plain": [
       "           contacto  periodo  ... estado_del_contacto fecha_cierre_contacto\n",
       "2       00000003/20   202001  ...             Cerrado            2020-01-07\n",
       "3       00000004/20   202001  ...             Abierto                   NaN\n",
       "6       00000007/20   202001  ...             Cerrado            2020-01-06\n",
       "75      00000077/20   202001  ...             Cerrado            2020-01-03\n",
       "83      00000086/20   202001  ...             Abierto                   NaN\n",
       "...             ...      ...  ...                 ...                   ...\n",
       "340476  00360160/20   202007  ...             Abierto                   NaN\n",
       "340513  00360200/20   202007  ...             Abierto                   NaN\n",
       "340590  00360275/20   202007  ...             Abierto                   NaN\n",
       "340626  00360313/20   202007  ...             Abierto                   NaN\n",
       "340635  00360322/20   202007  ...             Abierto                   NaN\n",
       "\n",
       "[17384 rows x 19 columns]"
      ]
     },
     "execution_count": 28,
     "metadata": {
      "tags": []
     },
     "output_type": "execute_result"
    }
   ],
   "source": [
    "arboles=sist.loc[sist.categoria==\"ARBOLADO Y ESPACIOS VERDES\", :]\n",
    "arboles"
   ]
  },
  {
   "cell_type": "markdown",
   "metadata": {
    "id": "-mg38dxqiVAd"
   },
   "source": [
    "🔹 Generar una lista con los valores únicos sobre las subcategorías de los reclamos."
   ]
  },
  {
   "cell_type": "code",
   "execution_count": 21,
   "metadata": {
    "colab": {
     "base_uri": "https://localhost:8080/"
    },
    "executionInfo": {
     "elapsed": 303,
     "status": "ok",
     "timestamp": 1628722906489,
     "user": {
      "displayName": "Pablo Mandelbaum",
      "photoUrl": "https://lh3.googleusercontent.com/a-/AOh14Ghp2qqB12NOxAk4IOguEe7mr7kd7zaBYSGjBEJcYKM=s64",
      "userId": "09719579371232433582"
     },
     "user_tz": 180
    },
    "id": "8cnfCCRciYmS",
    "outputId": "b2d87973-18c1-4e49-ccc6-7a82cbe09875"
   },
   "outputs": [
    {
     "data": {
      "text/plain": [
       "PODA DE ÁRBOL Y DESPEJE DE LUMINARIA       8722\n",
       "EXTRACCIÓN DE ÁRBOL                        3186\n",
       "PROBLEMA CON INTERVENCIONES DE ARBOLADO    2476\n",
       "PLANTACIÓN DE ÁRBOL                        2096\n",
       "PARQUES Y PLAZAS                            904\n",
       "Name: subcategoria, dtype: int64"
      ]
     },
     "execution_count": 21,
     "metadata": {
      "tags": []
     },
     "output_type": "execute_result"
    }
   ],
   "source": [
    "arboles.subcategoria.value_counts()"
   ]
  },
  {
   "cell_type": "markdown",
   "metadata": {
    "id": "UuHRZsdVjyfZ"
   },
   "source": [
    "🔹 Cual es la comuna con más reclamos?"
   ]
  },
  {
   "cell_type": "code",
   "execution_count": 32,
   "metadata": {
    "colab": {
     "base_uri": "https://localhost:8080/"
    },
    "executionInfo": {
     "elapsed": 254,
     "status": "ok",
     "timestamp": 1628723580612,
     "user": {
      "displayName": "Pablo Mandelbaum",
      "photoUrl": "https://lh3.googleusercontent.com/a-/AOh14Ghp2qqB12NOxAk4IOguEe7mr7kd7zaBYSGjBEJcYKM=s64",
      "userId": "09719579371232433582"
     },
     "user_tz": 180
    },
    "id": "Xj_cLxDSjjNe",
    "outputId": "4088044c-d97c-4275-c4e3-19085e23025b"
   },
   "outputs": [
    {
     "data": {
      "text/plain": [
       "COMUNA 12    191\n",
       "COMUNA 10    181\n",
       "COMUNA 11    144\n",
       "COMUNA 9     132\n",
       "COMUNA 15    129\n",
       "COMUNA 4     112\n",
       "COMUNA 7     101\n",
       "COMUNA 13     97\n",
       "COMUNA 5      82\n",
       "COMUNA 6      77\n",
       "COMUNA 14     74\n",
       "COMUNA 8      54\n",
       "COMUNA 3      50\n",
       "COMUNA 1      48\n",
       "COMUNA 2      37\n",
       "Name: domicilio_cgpc, dtype: int64"
      ]
     },
     "execution_count": 32,
     "metadata": {
      "tags": []
     },
     "output_type": "execute_result"
    }
   ],
   "source": [
    "quejas=arboles.loc[sist.tipo_prestacion\t==\"QUEJA\", :]\n",
    "quejas.domicilio_cgpc.value_counts()"
   ]
  },
  {
   "cell_type": "markdown",
   "metadata": {
    "id": "EN1Tg2k6kNmp"
   },
   "source": [
    "🔹 Porque canal se realiza el reclamo?"
   ]
  },
  {
   "cell_type": "code",
   "execution_count": 33,
   "metadata": {
    "colab": {
     "base_uri": "https://localhost:8080/"
    },
    "executionInfo": {
     "elapsed": 252,
     "status": "ok",
     "timestamp": 1628723722567,
     "user": {
      "displayName": "Pablo Mandelbaum",
      "photoUrl": "https://lh3.googleusercontent.com/a-/AOh14Ghp2qqB12NOxAk4IOguEe7mr7kd7zaBYSGjBEJcYKM=s64",
      "userId": "09719579371232433582"
     },
     "user_tz": 180
    },
    "id": "zmATOmk6kNKW",
    "outputId": "cee8d2ce-31f7-40e3-b732-927ed423c7c7"
   },
   "outputs": [
    {
     "data": {
      "text/plain": [
       "147        576\n",
       "App        420\n",
       "Comunas    364\n",
       "Web        133\n",
       "Name: canal, dtype: int64"
      ]
     },
     "execution_count": 33,
     "metadata": {
      "tags": []
     },
     "output_type": "execute_result"
    }
   ],
   "source": [
    "quejas.canal.value_counts()"
   ]
  },
  {
   "cell_type": "markdown",
   "metadata": {
    "id": "8D9xUIuhlOdy"
   },
   "source": [
    "🔹 Que tipo de registro se ingresan en mayor cantidad? Por tipo de registro se refiere a la variable que contiene si son reclamos, solicitudes o incidentes."
   ]
  },
  {
   "cell_type": "code",
   "execution_count": 34,
   "metadata": {
    "colab": {
     "base_uri": "https://localhost:8080/"
    },
    "executionInfo": {
     "elapsed": 267,
     "status": "ok",
     "timestamp": 1628723792771,
     "user": {
      "displayName": "Pablo Mandelbaum",
      "photoUrl": "https://lh3.googleusercontent.com/a-/AOh14Ghp2qqB12NOxAk4IOguEe7mr7kd7zaBYSGjBEJcYKM=s64",
      "userId": "09719579371232433582"
     },
     "user_tz": 180
    },
    "id": "ZkYI72hvlRPO",
    "outputId": "c356f6f0-10d9-4c87-fff0-129240b08c1d"
   },
   "outputs": [
    {
     "data": {
      "text/plain": [
       "SOLICITUD    15875\n",
       "QUEJA         1509\n",
       "Name: tipo_prestacion, dtype: int64"
      ]
     },
     "execution_count": 34,
     "metadata": {
      "tags": []
     },
     "output_type": "execute_result"
    }
   ],
   "source": [
    "arboles.tipo_prestacion.value_counts()"
   ]
  },
  {
   "cell_type": "markdown",
   "metadata": {
    "id": "Yj2-waILljEJ"
   },
   "source": [
    "🔹 En base a la categoría genere un dataframe con la cantidad de registros que hay por cada subcategorias y exprese los valores como porcentuales."
   ]
  },
  {
   "cell_type": "code",
   "execution_count": 53,
   "metadata": {
    "colab": {
     "base_uri": "https://localhost:8080/"
    },
    "executionInfo": {
     "elapsed": 250,
     "status": "ok",
     "timestamp": 1628725069869,
     "user": {
      "displayName": "Pablo Mandelbaum",
      "photoUrl": "https://lh3.googleusercontent.com/a-/AOh14Ghp2qqB12NOxAk4IOguEe7mr7kd7zaBYSGjBEJcYKM=s64",
      "userId": "09719579371232433582"
     },
     "user_tz": 180
    },
    "id": "Y7TYXcfmlifS",
    "outputId": "443db313-9843-4e50-d184-e77dfb971adf"
   },
   "outputs": [
    {
     "data": {
      "text/plain": [
       "PODA DE ÁRBOL Y DESPEJE DE LUMINARIA       50.172572\n",
       "EXTRACCIÓN DE ÁRBOL                        18.327197\n",
       "PROBLEMA CON INTERVENCIONES DE ARBOLADO    14.242982\n",
       "PLANTACIÓN DE ÁRBOL                        12.057064\n",
       "PARQUES Y PLAZAS                            5.200184\n",
       "Name: subcategoria, dtype: float64"
      ]
     },
     "execution_count": 53,
     "metadata": {
      "tags": []
     },
     "output_type": "execute_result"
    }
   ],
   "source": [
    "categoria=arboles[\"subcategoria\"].value_counts(normalize=True)*100\n",
    "categoria"
   ]
  },
  {
   "cell_type": "markdown",
   "metadata": {
    "id": "ITnhG7TSmwOG"
   },
   "source": [
    "🔹 Cuáles son los 3 conceptos con menos reclamos? Ordenar en forma creciente."
   ]
  },
  {
   "cell_type": "code",
   "execution_count": 58,
   "metadata": {
    "colab": {
     "base_uri": "https://localhost:8080/"
    },
    "executionInfo": {
     "elapsed": 260,
     "status": "ok",
     "timestamp": 1628725237137,
     "user": {
      "displayName": "Pablo Mandelbaum",
      "photoUrl": "https://lh3.googleusercontent.com/a-/AOh14Ghp2qqB12NOxAk4IOguEe7mr7kd7zaBYSGjBEJcYKM=s64",
      "userId": "09719579371232433582"
     },
     "user_tz": 180
    },
    "id": "C0qGB72cm8DM",
    "outputId": "67e1874e-9d75-4d1a-a868-adf03663380c"
   },
   "outputs": [
    {
     "data": {
      "text/plain": [
       "INSTALACIÓN DE REJAS EN PARQUE/PLAZA                 10\n",
       "INSTALACIÓN DE FUENTES EN PARQUE / PLAZA              8\n",
       "INSTALACIÓN DE CESTOS DE BASURA EN PARQUE / PLAZA     7\n",
       "Name: concepto, dtype: int64"
      ]
     },
     "execution_count": 58,
     "metadata": {
      "tags": []
     },
     "output_type": "execute_result"
    }
   ],
   "source": [
    "arboles[\"concepto\"].value_counts().tail(3)"
   ]
  },
  {
   "cell_type": "markdown",
   "metadata": {
    "id": "AzldY3R9nLjh"
   },
   "source": [
    "🔹 Cuántos reclamos hay pendiente todavía? Genere un dataframe con dicho registros"
   ]
  },
  {
   "cell_type": "code",
   "execution_count": 65,
   "metadata": {
    "colab": {
     "base_uri": "https://localhost:8080/",
     "height": 111
    },
    "executionInfo": {
     "elapsed": 252,
     "status": "ok",
     "timestamp": 1628725737918,
     "user": {
      "displayName": "Pablo Mandelbaum",
      "photoUrl": "https://lh3.googleusercontent.com/a-/AOh14Ghp2qqB12NOxAk4IOguEe7mr7kd7zaBYSGjBEJcYKM=s64",
      "userId": "09719579371232433582"
     },
     "user_tz": 180
    },
    "id": "jCOxONV3mUHj",
    "outputId": "44ddc063-3f0f-45eb-f5cd-6b3af9c484d9"
   },
   "outputs": [
    {
     "data": {
      "text/html": [
       "<div>\n",
       "<style scoped>\n",
       "    .dataframe tbody tr th:only-of-type {\n",
       "        vertical-align: middle;\n",
       "    }\n",
       "\n",
       "    .dataframe tbody tr th {\n",
       "        vertical-align: top;\n",
       "    }\n",
       "\n",
       "    .dataframe thead th {\n",
       "        text-align: right;\n",
       "    }\n",
       "</style>\n",
       "<table border=\"1\" class=\"dataframe\">\n",
       "  <thead>\n",
       "    <tr style=\"text-align: right;\">\n",
       "      <th></th>\n",
       "      <th>estado_del_contacto</th>\n",
       "    </tr>\n",
       "  </thead>\n",
       "  <tbody>\n",
       "    <tr>\n",
       "      <th>False</th>\n",
       "      <td>9402</td>\n",
       "    </tr>\n",
       "    <tr>\n",
       "      <th>True</th>\n",
       "      <td>7982</td>\n",
       "    </tr>\n",
       "  </tbody>\n",
       "</table>\n",
       "</div>"
      ],
      "text/plain": [
       "       estado_del_contacto\n",
       "False                 9402\n",
       "True                  7982"
      ]
     },
     "execution_count": 65,
     "metadata": {
      "tags": []
     },
     "output_type": "execute_result"
    }
   ],
   "source": [
    "pendiente=(arboles[\"estado_del_contacto\"]==\"Abierto\").value_counts()\n",
    "pendiente\n",
    "pd.DataFrame(pendiente)"
   ]
  },
  {
   "cell_type": "markdown",
   "metadata": {
    "id": "c7n2YsH-tRvd"
   },
   "source": [
    "🔹 Cual es la comuna que tiene mas reclamos abiertos? Para resolverlo genere un dataframe con el agrupamiento por periodo y tipo de concepto "
   ]
  },
  {
   "cell_type": "code",
   "execution_count": 81,
   "metadata": {
    "colab": {
     "base_uri": "https://localhost:8080/",
     "height": 450
    },
    "executionInfo": {
     "elapsed": 269,
     "status": "ok",
     "timestamp": 1628726481450,
     "user": {
      "displayName": "Pablo Mandelbaum",
      "photoUrl": "https://lh3.googleusercontent.com/a-/AOh14Ghp2qqB12NOxAk4IOguEe7mr7kd7zaBYSGjBEJcYKM=s64",
      "userId": "09719579371232433582"
     },
     "user_tz": 180
    },
    "id": "BCpxfHXAtSLH",
    "outputId": "86318dfa-bd8d-4be3-96f6-c5b2558fab2d"
   },
   "outputs": [
    {
     "data": {
      "text/html": [
       "<div>\n",
       "<style scoped>\n",
       "    .dataframe tbody tr th:only-of-type {\n",
       "        vertical-align: middle;\n",
       "    }\n",
       "\n",
       "    .dataframe tbody tr th {\n",
       "        vertical-align: top;\n",
       "    }\n",
       "\n",
       "    .dataframe thead th {\n",
       "        text-align: right;\n",
       "    }\n",
       "</style>\n",
       "<table border=\"1\" class=\"dataframe\">\n",
       "  <thead>\n",
       "    <tr style=\"text-align: right;\">\n",
       "      <th></th>\n",
       "      <th></th>\n",
       "      <th></th>\n",
       "      <th>0</th>\n",
       "    </tr>\n",
       "    <tr>\n",
       "      <th>domicilio_cgpc</th>\n",
       "      <th>periodo</th>\n",
       "      <th>concepto</th>\n",
       "      <th></th>\n",
       "    </tr>\n",
       "  </thead>\n",
       "  <tbody>\n",
       "    <tr>\n",
       "      <th>COMUNA 12</th>\n",
       "      <th>202005</th>\n",
       "      <th>PODA DE ÁRBOL/DESPEJE DE LUMINARIA O SEMÁFORO</th>\n",
       "      <td>120</td>\n",
       "    </tr>\n",
       "    <tr>\n",
       "      <th>COMUNA 9</th>\n",
       "      <th>202005</th>\n",
       "      <th>PODA DE ÁRBOL/DESPEJE DE LUMINARIA O SEMÁFORO</th>\n",
       "      <td>98</td>\n",
       "    </tr>\n",
       "    <tr>\n",
       "      <th rowspan=\"2\" valign=\"top\">COMUNA 12</th>\n",
       "      <th>202006</th>\n",
       "      <th>PODA DE ÁRBOL/DESPEJE DE LUMINARIA O SEMÁFORO</th>\n",
       "      <td>95</td>\n",
       "    </tr>\n",
       "    <tr>\n",
       "      <th>202004</th>\n",
       "      <th>PODA DE ÁRBOL/DESPEJE DE LUMINARIA O SEMÁFORO</th>\n",
       "      <td>85</td>\n",
       "    </tr>\n",
       "    <tr>\n",
       "      <th>COMUNA 10</th>\n",
       "      <th>202003</th>\n",
       "      <th>PODA DE ÁRBOL/DESPEJE DE LUMINARIA O SEMÁFORO</th>\n",
       "      <td>85</td>\n",
       "    </tr>\n",
       "    <tr>\n",
       "      <th>...</th>\n",
       "      <th>...</th>\n",
       "      <th>...</th>\n",
       "      <td>...</td>\n",
       "    </tr>\n",
       "    <tr>\n",
       "      <th rowspan=\"2\" valign=\"top\">COMUNA 4</th>\n",
       "      <th rowspan=\"2\" valign=\"top\">202002</th>\n",
       "      <th>INCONVENIENTES CON LAS TAREAS DE GUARDIÁN DE PLAZA</th>\n",
       "      <td>1</td>\n",
       "    </tr>\n",
       "    <tr>\n",
       "      <th>INSTALACIÓN DE BANCOS, MESAS Y SILLAS EN PARQUE/PLAZA</th>\n",
       "      <td>1</td>\n",
       "    </tr>\n",
       "    <tr>\n",
       "      <th>COMUNA 12</th>\n",
       "      <th>202004</th>\n",
       "      <th>MANTENIMIENTO DE CESPED Y/O RIEGO EN PARQUE/PLAZA</th>\n",
       "      <td>1</td>\n",
       "    </tr>\n",
       "    <tr>\n",
       "      <th>COMUNA 4</th>\n",
       "      <th>202002</th>\n",
       "      <th>MANTENIMIENTO DE BANCOS, MESAS Y SILLAS EN PARQUE/PLAZA</th>\n",
       "      <td>1</td>\n",
       "    </tr>\n",
       "    <tr>\n",
       "      <th>COMUNA 2</th>\n",
       "      <th>202003</th>\n",
       "      <th>EXTRACCIÓN DE ÁRBOL</th>\n",
       "      <td>1</td>\n",
       "    </tr>\n",
       "  </tbody>\n",
       "</table>\n",
       "<p>661 rows × 1 columns</p>\n",
       "</div>"
      ],
      "text/plain": [
       "                                                                             0\n",
       "domicilio_cgpc periodo concepto                                               \n",
       "COMUNA 12      202005  PODA DE ÁRBOL/DESPEJE DE LUMINARIA O SEMÁFORO       120\n",
       "COMUNA 9       202005  PODA DE ÁRBOL/DESPEJE DE LUMINARIA O SEMÁFORO        98\n",
       "COMUNA 12      202006  PODA DE ÁRBOL/DESPEJE DE LUMINARIA O SEMÁFORO        95\n",
       "               202004  PODA DE ÁRBOL/DESPEJE DE LUMINARIA O SEMÁFORO        85\n",
       "COMUNA 10      202003  PODA DE ÁRBOL/DESPEJE DE LUMINARIA O SEMÁFORO        85\n",
       "...                                                                        ...\n",
       "COMUNA 4       202002  INCONVENIENTES CON LAS TAREAS DE GUARDIÁN DE PLAZA    1\n",
       "                       INSTALACIÓN DE BANCOS, MESAS Y SILLAS EN PARQUE...    1\n",
       "COMUNA 12      202004  MANTENIMIENTO DE CESPED Y/O RIEGO EN PARQUE/PLAZA     1\n",
       "COMUNA 4       202002  MANTENIMIENTO DE BANCOS, MESAS Y SILLAS EN PARQ...    1\n",
       "COMUNA 2       202003  EXTRACCIÓN DE ÁRBOL                                   1\n",
       "\n",
       "[661 rows x 1 columns]"
      ]
     },
     "execution_count": 81,
     "metadata": {
      "tags": []
     },
     "output_type": "execute_result"
    }
   ],
   "source": [
    "abierto =arboles.loc[arboles.estado_del_contacto\t==\"Abierto\", :]\n",
    "agrupado=pd.DataFrame(abierto.loc[:,[\"domicilio_cgpc\", \"periodo\", \"concepto\"]].value_counts())\n",
    "agrupado"
   ]
  },
  {
   "cell_type": "markdown",
   "metadata": {
    "id": "9lwYhfiyoDqx"
   },
   "source": [
    "🔹 Cuál es la subcategoria que tiene más casos que tardan más de 10 días en resolver un incidente?\n",
    "\n",
    "> **Pista I:** Para realizar este ejercicio es necesario utilizar **pd.to_datetime(df[col],format='%Y-%m-%d')** para converir en formato fecha. \n",
    "\n",
    "> **Pista II:** Posteriormente puede generar una nueva columna que contenga la diferencia entre: $$ fechaCierreContacto -fechaIngreso $$\n",
    "\n",
    "> **Pista III:** Recuerde que este control se debe realizar sobre las observaciones que el estado sea **Cerrado** "
   ]
  },
  {
   "cell_type": "code",
   "execution_count": 111,
   "metadata": {
    "colab": {
     "base_uri": "https://localhost:8080/",
     "height": 1000
    },
    "executionInfo": {
     "elapsed": 283,
     "status": "ok",
     "timestamp": 1628728293523,
     "user": {
      "displayName": "Pablo Mandelbaum",
      "photoUrl": "https://lh3.googleusercontent.com/a-/AOh14Ghp2qqB12NOxAk4IOguEe7mr7kd7zaBYSGjBEJcYKM=s64",
      "userId": "09719579371232433582"
     },
     "user_tz": 180
    },
    "id": "fWaf4jB7pd_N",
    "outputId": "0b1dd2b0-54de-46ec-9abb-4cf57ef9aae1"
   },
   "outputs": [
    {
     "name": "stderr",
     "output_type": "stream",
     "text": [
      "/usr/local/lib/python3.7/dist-packages/ipykernel_launcher.py:2: SettingWithCopyWarning: \n",
      "A value is trying to be set on a copy of a slice from a DataFrame.\n",
      "Try using .loc[row_indexer,col_indexer] = value instead\n",
      "\n",
      "See the caveats in the documentation: https://pandas.pydata.org/pandas-docs/stable/user_guide/indexing.html#returning-a-view-versus-a-copy\n",
      "  \n"
     ]
    },
    {
     "data": {
      "text/html": [
       "<div>\n",
       "<style scoped>\n",
       "    .dataframe tbody tr th:only-of-type {\n",
       "        vertical-align: middle;\n",
       "    }\n",
       "\n",
       "    .dataframe tbody tr th {\n",
       "        vertical-align: top;\n",
       "    }\n",
       "\n",
       "    .dataframe thead th {\n",
       "        text-align: right;\n",
       "    }\n",
       "</style>\n",
       "<table border=\"1\" class=\"dataframe\">\n",
       "  <thead>\n",
       "    <tr style=\"text-align: right;\">\n",
       "      <th></th>\n",
       "      <th>contacto</th>\n",
       "      <th>periodo</th>\n",
       "      <th>categoria</th>\n",
       "      <th>subcategoria</th>\n",
       "      <th>concepto</th>\n",
       "      <th>tipo_prestacion</th>\n",
       "      <th>fecha_ingreso</th>\n",
       "      <th>hora_ingreso</th>\n",
       "      <th>domicilio_cgpc</th>\n",
       "      <th>domicilio_barrio</th>\n",
       "      <th>domicilio_calle</th>\n",
       "      <th>domicilio_altura</th>\n",
       "      <th>domicilio_esquina_proxima</th>\n",
       "      <th>lat</th>\n",
       "      <th>long</th>\n",
       "      <th>canal</th>\n",
       "      <th>genero</th>\n",
       "      <th>estado_del_contacto</th>\n",
       "      <th>fecha_cierre_contacto</th>\n",
       "      <th>diff_dias</th>\n",
       "    </tr>\n",
       "  </thead>\n",
       "  <tbody>\n",
       "    <tr>\n",
       "      <th>2</th>\n",
       "      <td>00000003/20</td>\n",
       "      <td>202001</td>\n",
       "      <td>ARBOLADO Y ESPACIOS VERDES</td>\n",
       "      <td>PLANTACIÓN DE ÁRBOL</td>\n",
       "      <td>PLANTACIÓN DE ÁRBOL</td>\n",
       "      <td>SOLICITUD</td>\n",
       "      <td>2020-01-01</td>\n",
       "      <td>01:17:53 a.m.</td>\n",
       "      <td>COMUNA 13</td>\n",
       "      <td>COLEGIALES</td>\n",
       "      <td>CONDE</td>\n",
       "      <td>1014.0</td>\n",
       "      <td>NaN</td>\n",
       "      <td>-34.576143</td>\n",
       "      <td>-58.453507</td>\n",
       "      <td>Comunas</td>\n",
       "      <td>Masculino</td>\n",
       "      <td>Cerrado</td>\n",
       "      <td>2020-01-07</td>\n",
       "      <td>6 days</td>\n",
       "    </tr>\n",
       "    <tr>\n",
       "      <th>6</th>\n",
       "      <td>00000007/20</td>\n",
       "      <td>202001</td>\n",
       "      <td>ARBOLADO Y ESPACIOS VERDES</td>\n",
       "      <td>PODA DE ÁRBOL Y DESPEJE DE LUMINARIA</td>\n",
       "      <td>PODA DE ÁRBOL/DESPEJE DE LUMINARIA O SEMÁFORO</td>\n",
       "      <td>SOLICITUD</td>\n",
       "      <td>2020-01-01</td>\n",
       "      <td>01:33:14 a.m.</td>\n",
       "      <td>COMUNA 5</td>\n",
       "      <td>BOEDO</td>\n",
       "      <td>ALZAGA</td>\n",
       "      <td>2013.0</td>\n",
       "      <td>NaN</td>\n",
       "      <td>-34.635323</td>\n",
       "      <td>-58.415138</td>\n",
       "      <td>Comunas</td>\n",
       "      <td>Masculino</td>\n",
       "      <td>Cerrado</td>\n",
       "      <td>2020-01-06</td>\n",
       "      <td>5 days</td>\n",
       "    </tr>\n",
       "    <tr>\n",
       "      <th>75</th>\n",
       "      <td>00000077/20</td>\n",
       "      <td>202001</td>\n",
       "      <td>ARBOLADO Y ESPACIOS VERDES</td>\n",
       "      <td>PODA DE ÁRBOL Y DESPEJE DE LUMINARIA</td>\n",
       "      <td>PODA DE ÁRBOL/DESPEJE DE LUMINARIA O SEMÁFORO</td>\n",
       "      <td>SOLICITUD</td>\n",
       "      <td>2020-01-01</td>\n",
       "      <td>09:40:37 a.m.</td>\n",
       "      <td>COMUNA 7</td>\n",
       "      <td>PARQUE CHACABUCO</td>\n",
       "      <td>ESTRADA</td>\n",
       "      <td>278.0</td>\n",
       "      <td>NaN</td>\n",
       "      <td>-34.631012</td>\n",
       "      <td>-58.429672</td>\n",
       "      <td>Comunas</td>\n",
       "      <td>Femenino</td>\n",
       "      <td>Cerrado</td>\n",
       "      <td>2020-01-03</td>\n",
       "      <td>2 days</td>\n",
       "    </tr>\n",
       "    <tr>\n",
       "      <th>105</th>\n",
       "      <td>00000110/20</td>\n",
       "      <td>202001</td>\n",
       "      <td>ARBOLADO Y ESPACIOS VERDES</td>\n",
       "      <td>PARQUES Y PLAZAS</td>\n",
       "      <td>INCONVENIENTES CON LAS TAREAS DE GUARDIÁN DE P...</td>\n",
       "      <td>QUEJA</td>\n",
       "      <td>2020-01-01</td>\n",
       "      <td>12:37:27 p.m.</td>\n",
       "      <td>COMUNA 8</td>\n",
       "      <td>VILLA SOLDATI</td>\n",
       "      <td>NaN</td>\n",
       "      <td>NaN</td>\n",
       "      <td>NaN</td>\n",
       "      <td>-34.663493</td>\n",
       "      <td>-58.435825</td>\n",
       "      <td>App</td>\n",
       "      <td>Masculino</td>\n",
       "      <td>Cerrado</td>\n",
       "      <td>2020-01-02</td>\n",
       "      <td>1 days</td>\n",
       "    </tr>\n",
       "    <tr>\n",
       "      <th>112</th>\n",
       "      <td>00000117/20</td>\n",
       "      <td>202001</td>\n",
       "      <td>ARBOLADO Y ESPACIOS VERDES</td>\n",
       "      <td>PARQUES Y PLAZAS</td>\n",
       "      <td>MANTENIMIENTO DE PATIO DE JUEGOS EN PARQUE/PLAZA</td>\n",
       "      <td>SOLICITUD</td>\n",
       "      <td>2020-01-01</td>\n",
       "      <td>12:44:10 p.m.</td>\n",
       "      <td>COMUNA 8</td>\n",
       "      <td>VILLA SOLDATI</td>\n",
       "      <td>NaN</td>\n",
       "      <td>NaN</td>\n",
       "      <td>NaN</td>\n",
       "      <td>-34.663493</td>\n",
       "      <td>-58.435825</td>\n",
       "      <td>Comunas</td>\n",
       "      <td>Masculino</td>\n",
       "      <td>Cerrado</td>\n",
       "      <td>2020-01-02</td>\n",
       "      <td>1 days</td>\n",
       "    </tr>\n",
       "    <tr>\n",
       "      <th>...</th>\n",
       "      <td>...</td>\n",
       "      <td>...</td>\n",
       "      <td>...</td>\n",
       "      <td>...</td>\n",
       "      <td>...</td>\n",
       "      <td>...</td>\n",
       "      <td>...</td>\n",
       "      <td>...</td>\n",
       "      <td>...</td>\n",
       "      <td>...</td>\n",
       "      <td>...</td>\n",
       "      <td>...</td>\n",
       "      <td>...</td>\n",
       "      <td>...</td>\n",
       "      <td>...</td>\n",
       "      <td>...</td>\n",
       "      <td>...</td>\n",
       "      <td>...</td>\n",
       "      <td>...</td>\n",
       "      <td>...</td>\n",
       "    </tr>\n",
       "    <tr>\n",
       "      <th>338889</th>\n",
       "      <td>00358518/20</td>\n",
       "      <td>202007</td>\n",
       "      <td>ARBOLADO Y ESPACIOS VERDES</td>\n",
       "      <td>PLANTACIÓN DE ÁRBOL</td>\n",
       "      <td>PLANTACIÓN DE ÁRBOL</td>\n",
       "      <td>SOLICITUD</td>\n",
       "      <td>2020-07-30</td>\n",
       "      <td>12:34:45 p.m.</td>\n",
       "      <td>COMUNA 7</td>\n",
       "      <td>FLORES</td>\n",
       "      <td>RENAN</td>\n",
       "      <td>1141.0</td>\n",
       "      <td>NaN</td>\n",
       "      <td>-34.641322</td>\n",
       "      <td>-58.455720</td>\n",
       "      <td>App</td>\n",
       "      <td>Masculino</td>\n",
       "      <td>Cerrado</td>\n",
       "      <td>2020-08-10</td>\n",
       "      <td>11 days</td>\n",
       "    </tr>\n",
       "    <tr>\n",
       "      <th>339247</th>\n",
       "      <td>00358884/20</td>\n",
       "      <td>202007</td>\n",
       "      <td>ARBOLADO Y ESPACIOS VERDES</td>\n",
       "      <td>EXTRACCIÓN DE ÁRBOL</td>\n",
       "      <td>EXTRACCIÓN DE ÁRBOL</td>\n",
       "      <td>SOLICITUD</td>\n",
       "      <td>2020-07-30</td>\n",
       "      <td>04:31:52 p.m.</td>\n",
       "      <td>COMUNA 8</td>\n",
       "      <td>VILLA LUGANO</td>\n",
       "      <td>LEGUIZAMON, MARTINIANO</td>\n",
       "      <td>3046.0</td>\n",
       "      <td>NaN</td>\n",
       "      <td>-34.667237</td>\n",
       "      <td>-58.490111</td>\n",
       "      <td>Comunas</td>\n",
       "      <td>Masculino</td>\n",
       "      <td>Cerrado</td>\n",
       "      <td>2020-08-07</td>\n",
       "      <td>8 days</td>\n",
       "    </tr>\n",
       "    <tr>\n",
       "      <th>339989</th>\n",
       "      <td>00359651/20</td>\n",
       "      <td>202007</td>\n",
       "      <td>ARBOLADO Y ESPACIOS VERDES</td>\n",
       "      <td>PODA DE ÁRBOL Y DESPEJE DE LUMINARIA</td>\n",
       "      <td>PODA DE ÁRBOL/DESPEJE DE LUMINARIA O SEMÁFORO</td>\n",
       "      <td>SOLICITUD</td>\n",
       "      <td>2020-07-31</td>\n",
       "      <td>12:58:12 p.m.</td>\n",
       "      <td>COMUNA 1</td>\n",
       "      <td>CONSTITUCION</td>\n",
       "      <td>COCHABAMBA</td>\n",
       "      <td>1635.0</td>\n",
       "      <td>NaN</td>\n",
       "      <td>-34.623873</td>\n",
       "      <td>-58.388948</td>\n",
       "      <td>App</td>\n",
       "      <td>Femenino</td>\n",
       "      <td>Cerrado</td>\n",
       "      <td>2020-08-06</td>\n",
       "      <td>6 days</td>\n",
       "    </tr>\n",
       "    <tr>\n",
       "      <th>340297</th>\n",
       "      <td>00359976/20</td>\n",
       "      <td>202007</td>\n",
       "      <td>ARBOLADO Y ESPACIOS VERDES</td>\n",
       "      <td>PLANTACIÓN DE ÁRBOL</td>\n",
       "      <td>PLANTACIÓN DE ÁRBOL</td>\n",
       "      <td>SOLICITUD</td>\n",
       "      <td>2020-07-31</td>\n",
       "      <td>04:07:50 p.m.</td>\n",
       "      <td>COMUNA 15</td>\n",
       "      <td>AGRONOMIA</td>\n",
       "      <td>NUEVA YORK</td>\n",
       "      <td>2150.0</td>\n",
       "      <td>NaN</td>\n",
       "      <td>-34.586020</td>\n",
       "      <td>-58.488769</td>\n",
       "      <td>App</td>\n",
       "      <td>Masculino</td>\n",
       "      <td>Cerrado</td>\n",
       "      <td>2020-08-05</td>\n",
       "      <td>5 days</td>\n",
       "    </tr>\n",
       "    <tr>\n",
       "      <th>340391</th>\n",
       "      <td>00360071/20</td>\n",
       "      <td>202007</td>\n",
       "      <td>ARBOLADO Y ESPACIOS VERDES</td>\n",
       "      <td>EXTRACCIÓN DE ÁRBOL</td>\n",
       "      <td>EXTRACCIÓN DE ÁRBOL</td>\n",
       "      <td>SOLICITUD</td>\n",
       "      <td>2020-07-31</td>\n",
       "      <td>05:29:24 p.m.</td>\n",
       "      <td>COMUNA 12</td>\n",
       "      <td>COGHLAN</td>\n",
       "      <td>AZURDUY JUANA</td>\n",
       "      <td>3344.0</td>\n",
       "      <td>NaN</td>\n",
       "      <td>-34.555439</td>\n",
       "      <td>-58.474941</td>\n",
       "      <td>Comunas</td>\n",
       "      <td>Femenino</td>\n",
       "      <td>Cerrado</td>\n",
       "      <td>2020-08-05</td>\n",
       "      <td>5 days</td>\n",
       "    </tr>\n",
       "  </tbody>\n",
       "</table>\n",
       "<p>9402 rows × 20 columns</p>\n",
       "</div>"
      ],
      "text/plain": [
       "           contacto  periodo  ... fecha_cierre_contacto diff_dias\n",
       "2       00000003/20   202001  ...            2020-01-07    6 days\n",
       "6       00000007/20   202001  ...            2020-01-06    5 days\n",
       "75      00000077/20   202001  ...            2020-01-03    2 days\n",
       "105     00000110/20   202001  ...            2020-01-02    1 days\n",
       "112     00000117/20   202001  ...            2020-01-02    1 days\n",
       "...             ...      ...  ...                   ...       ...\n",
       "338889  00358518/20   202007  ...            2020-08-10   11 days\n",
       "339247  00358884/20   202007  ...            2020-08-07    8 days\n",
       "339989  00359651/20   202007  ...            2020-08-06    6 days\n",
       "340297  00359976/20   202007  ...            2020-08-05    5 days\n",
       "340391  00360071/20   202007  ...            2020-08-05    5 days\n",
       "\n",
       "[9402 rows x 20 columns]"
      ]
     },
     "execution_count": 111,
     "metadata": {
      "tags": []
     },
     "output_type": "execute_result"
    }
   ],
   "source": [
    "df_cerrado = arboles.loc[arboles[\"estado_del_contacto\"] == \"Cerrado\", :]\n",
    "df_cerrado[\"diff_dias\"]=pd.to_datetime(df_cerrado[\"fecha_cierre_contacto\"],format='%Y-%m-%d') -pd.to_datetime(df_cerrado[\"fecha_ingreso\"],format='%Y-%m-%d')\n",
    "# fecha_correg = pd.to_datetime(df_cerrado[\"fecha_cierre_contacto\"],format='%Y-%m-%d') -pd.to_datetime(df_cerrado[\"fecha_ingreso\"],format='%Y-%m-%d')\n",
    "# fecha_correg\n",
    "# df_cerrado = arboles.loc[arboles[\"estado_del_contacto\"] == \"Cerrado\", :]\n",
    "df_cerrado\n"
   ]
  },
  {
   "cell_type": "code",
   "execution_count": 112,
   "metadata": {
    "colab": {
     "base_uri": "https://localhost:8080/"
    },
    "executionInfo": {
     "elapsed": 248,
     "status": "ok",
     "timestamp": 1628728376246,
     "user": {
      "displayName": "Pablo Mandelbaum",
      "photoUrl": "https://lh3.googleusercontent.com/a-/AOh14Ghp2qqB12NOxAk4IOguEe7mr7kd7zaBYSGjBEJcYKM=s64",
      "userId": "09719579371232433582"
     },
     "user_tz": 180
    },
    "id": "ulPHuoQXxi15",
    "outputId": "6db74167-aa41-412f-8688-df9beb961a2d"
   },
   "outputs": [
    {
     "data": {
      "text/plain": [
       "2         6 days\n",
       "6         5 days\n",
       "75        2 days\n",
       "105       1 days\n",
       "112       1 days\n",
       "           ...  \n",
       "338889   11 days\n",
       "339247    8 days\n",
       "339989    6 days\n",
       "340297    5 days\n",
       "340391    5 days\n",
       "Name: diff_dias, Length: 9402, dtype: timedelta64[ns]"
      ]
     },
     "execution_count": 112,
     "metadata": {
      "tags": []
     },
     "output_type": "execute_result"
    }
   ],
   "source": [
    "df_cerrado[\"diff_dias\"]\n"
   ]
  },
  {
   "cell_type": "code",
   "execution_count": 118,
   "metadata": {
    "colab": {
     "base_uri": "https://localhost:8080/",
     "height": 1000
    },
    "executionInfo": {
     "elapsed": 325,
     "status": "ok",
     "timestamp": 1628728655362,
     "user": {
      "displayName": "Pablo Mandelbaum",
      "photoUrl": "https://lh3.googleusercontent.com/a-/AOh14Ghp2qqB12NOxAk4IOguEe7mr7kd7zaBYSGjBEJcYKM=s64",
      "userId": "09719579371232433582"
     },
     "user_tz": 180
    },
    "id": "PVoNafByx1qH",
    "outputId": "e086985a-96eb-46cb-eb0f-a3418582b474"
   },
   "outputs": [
    {
     "name": "stderr",
     "output_type": "stream",
     "text": [
      "/usr/local/lib/python3.7/dist-packages/ipykernel_launcher.py:1: SettingWithCopyWarning: \n",
      "A value is trying to be set on a copy of a slice from a DataFrame.\n",
      "Try using .loc[row_indexer,col_indexer] = value instead\n",
      "\n",
      "See the caveats in the documentation: https://pandas.pydata.org/pandas-docs/stable/user_guide/indexing.html#returning-a-view-versus-a-copy\n",
      "  \"\"\"Entry point for launching an IPython kernel.\n"
     ]
    },
    {
     "data": {
      "text/html": [
       "<div>\n",
       "<style scoped>\n",
       "    .dataframe tbody tr th:only-of-type {\n",
       "        vertical-align: middle;\n",
       "    }\n",
       "\n",
       "    .dataframe tbody tr th {\n",
       "        vertical-align: top;\n",
       "    }\n",
       "\n",
       "    .dataframe thead th {\n",
       "        text-align: right;\n",
       "    }\n",
       "</style>\n",
       "<table border=\"1\" class=\"dataframe\">\n",
       "  <thead>\n",
       "    <tr style=\"text-align: right;\">\n",
       "      <th></th>\n",
       "      <th>contacto</th>\n",
       "      <th>periodo</th>\n",
       "      <th>categoria</th>\n",
       "      <th>subcategoria</th>\n",
       "      <th>concepto</th>\n",
       "      <th>tipo_prestacion</th>\n",
       "      <th>fecha_ingreso</th>\n",
       "      <th>hora_ingreso</th>\n",
       "      <th>domicilio_cgpc</th>\n",
       "      <th>domicilio_barrio</th>\n",
       "      <th>domicilio_calle</th>\n",
       "      <th>domicilio_altura</th>\n",
       "      <th>domicilio_esquina_proxima</th>\n",
       "      <th>lat</th>\n",
       "      <th>long</th>\n",
       "      <th>canal</th>\n",
       "      <th>genero</th>\n",
       "      <th>estado_del_contacto</th>\n",
       "      <th>fecha_cierre_contacto</th>\n",
       "      <th>diff_dias</th>\n",
       "      <th>diff_dias2</th>\n",
       "    </tr>\n",
       "  </thead>\n",
       "  <tbody>\n",
       "    <tr>\n",
       "      <th>192</th>\n",
       "      <td>00000196/20</td>\n",
       "      <td>202001</td>\n",
       "      <td>ARBOLADO Y ESPACIOS VERDES</td>\n",
       "      <td>EXTRACCIÓN DE ÁRBOL</td>\n",
       "      <td>EXTRACCIÓN DE ÁRBOL</td>\n",
       "      <td>SOLICITUD</td>\n",
       "      <td>2020-01-01</td>\n",
       "      <td>05:43:00 p.m.</td>\n",
       "      <td>COMUNA 11</td>\n",
       "      <td>VILLA DEL PARQUE</td>\n",
       "      <td>GAVILAN</td>\n",
       "      <td>2488.0</td>\n",
       "      <td>NaN</td>\n",
       "      <td>-34.603378</td>\n",
       "      <td>-58.475641</td>\n",
       "      <td>Comunas</td>\n",
       "      <td>Masculino</td>\n",
       "      <td>Cerrado</td>\n",
       "      <td>2020-06-05</td>\n",
       "      <td>156 days</td>\n",
       "      <td>156</td>\n",
       "    </tr>\n",
       "    <tr>\n",
       "      <th>196</th>\n",
       "      <td>00000200/20</td>\n",
       "      <td>202001</td>\n",
       "      <td>ARBOLADO Y ESPACIOS VERDES</td>\n",
       "      <td>EXTRACCIÓN DE ÁRBOL</td>\n",
       "      <td>EXTRACCIÓN DE ÁRBOL</td>\n",
       "      <td>SOLICITUD</td>\n",
       "      <td>2020-01-01</td>\n",
       "      <td>05:46:24 p.m.</td>\n",
       "      <td>COMUNA 15</td>\n",
       "      <td>PARQUE CHAS</td>\n",
       "      <td>BALLIVIAN</td>\n",
       "      <td>2665.0</td>\n",
       "      <td>NaN</td>\n",
       "      <td>-34.580540</td>\n",
       "      <td>-58.480422</td>\n",
       "      <td>Comunas</td>\n",
       "      <td>Femenino</td>\n",
       "      <td>Cerrado</td>\n",
       "      <td>2020-03-11</td>\n",
       "      <td>70 days</td>\n",
       "      <td>70</td>\n",
       "    </tr>\n",
       "    <tr>\n",
       "      <th>242</th>\n",
       "      <td>00000248/20</td>\n",
       "      <td>202001</td>\n",
       "      <td>ARBOLADO Y ESPACIOS VERDES</td>\n",
       "      <td>PARQUES Y PLAZAS</td>\n",
       "      <td>MANTENIMIENTO DE CESPED Y/O RIEGO EN PARQUE/PLAZA</td>\n",
       "      <td>SOLICITUD</td>\n",
       "      <td>2020-01-01</td>\n",
       "      <td>07:19:12 p.m.</td>\n",
       "      <td>COMUNA 13</td>\n",
       "      <td>COLEGIALES</td>\n",
       "      <td>NaN</td>\n",
       "      <td>NaN</td>\n",
       "      <td>NaN</td>\n",
       "      <td>-34.580739</td>\n",
       "      <td>-58.445531</td>\n",
       "      <td>App</td>\n",
       "      <td>Femenino</td>\n",
       "      <td>Cerrado</td>\n",
       "      <td>2020-02-03</td>\n",
       "      <td>33 days</td>\n",
       "      <td>33</td>\n",
       "    </tr>\n",
       "    <tr>\n",
       "      <th>275</th>\n",
       "      <td>00000282/20</td>\n",
       "      <td>202001</td>\n",
       "      <td>ARBOLADO Y ESPACIOS VERDES</td>\n",
       "      <td>PODA DE ÁRBOL Y DESPEJE DE LUMINARIA</td>\n",
       "      <td>PODA DE ÁRBOL/DESPEJE DE LUMINARIA O SEMÁFORO</td>\n",
       "      <td>SOLICITUD</td>\n",
       "      <td>2020-01-01</td>\n",
       "      <td>08:33:33 p.m.</td>\n",
       "      <td>COMUNA 9</td>\n",
       "      <td>LINIERS</td>\n",
       "      <td>PIERES</td>\n",
       "      <td>611.0</td>\n",
       "      <td>NaN</td>\n",
       "      <td>-34.646092</td>\n",
       "      <td>-58.510674</td>\n",
       "      <td>App</td>\n",
       "      <td>Femenino</td>\n",
       "      <td>Cerrado</td>\n",
       "      <td>2020-01-20</td>\n",
       "      <td>19 days</td>\n",
       "      <td>19</td>\n",
       "    </tr>\n",
       "    <tr>\n",
       "      <th>290</th>\n",
       "      <td>00000296/20</td>\n",
       "      <td>202001</td>\n",
       "      <td>ARBOLADO Y ESPACIOS VERDES</td>\n",
       "      <td>PODA DE ÁRBOL Y DESPEJE DE LUMINARIA</td>\n",
       "      <td>PODA DE ÁRBOL/DESPEJE DE LUMINARIA O SEMÁFORO</td>\n",
       "      <td>SOLICITUD</td>\n",
       "      <td>2020-01-01</td>\n",
       "      <td>08:56:21 p.m.</td>\n",
       "      <td>COMUNA 4</td>\n",
       "      <td>NUEVA POMPEYA</td>\n",
       "      <td>OCHOA, ENRIQUE</td>\n",
       "      <td>64.0</td>\n",
       "      <td>NaN</td>\n",
       "      <td>-34.647488</td>\n",
       "      <td>-58.415165</td>\n",
       "      <td>Comunas</td>\n",
       "      <td>Femenino</td>\n",
       "      <td>Cerrado</td>\n",
       "      <td>2020-01-15</td>\n",
       "      <td>14 days</td>\n",
       "      <td>14</td>\n",
       "    </tr>\n",
       "    <tr>\n",
       "      <th>...</th>\n",
       "      <td>...</td>\n",
       "      <td>...</td>\n",
       "      <td>...</td>\n",
       "      <td>...</td>\n",
       "      <td>...</td>\n",
       "      <td>...</td>\n",
       "      <td>...</td>\n",
       "      <td>...</td>\n",
       "      <td>...</td>\n",
       "      <td>...</td>\n",
       "      <td>...</td>\n",
       "      <td>...</td>\n",
       "      <td>...</td>\n",
       "      <td>...</td>\n",
       "      <td>...</td>\n",
       "      <td>...</td>\n",
       "      <td>...</td>\n",
       "      <td>...</td>\n",
       "      <td>...</td>\n",
       "      <td>...</td>\n",
       "      <td>...</td>\n",
       "    </tr>\n",
       "    <tr>\n",
       "      <th>330962</th>\n",
       "      <td>00350347/20</td>\n",
       "      <td>202007</td>\n",
       "      <td>ARBOLADO Y ESPACIOS VERDES</td>\n",
       "      <td>PARQUES Y PLAZAS</td>\n",
       "      <td>MANTENIMIENTO DE REJAS EN PARQUE/PLAZA</td>\n",
       "      <td>SOLICITUD</td>\n",
       "      <td>2020-07-22</td>\n",
       "      <td>07:51:59 p.m.</td>\n",
       "      <td>COMUNA 6</td>\n",
       "      <td>CABALLITO</td>\n",
       "      <td>NaN</td>\n",
       "      <td>NaN</td>\n",
       "      <td>NaN</td>\n",
       "      <td>-34.620869</td>\n",
       "      <td>-58.441829</td>\n",
       "      <td>App</td>\n",
       "      <td>Masculino</td>\n",
       "      <td>Cerrado</td>\n",
       "      <td>2020-08-10</td>\n",
       "      <td>19 days</td>\n",
       "      <td>19</td>\n",
       "    </tr>\n",
       "    <tr>\n",
       "      <th>331449</th>\n",
       "      <td>00350850/20</td>\n",
       "      <td>202007</td>\n",
       "      <td>ARBOLADO Y ESPACIOS VERDES</td>\n",
       "      <td>PARQUES Y PLAZAS</td>\n",
       "      <td>MANTENIMIENTO DE PARQUE / PLAZA</td>\n",
       "      <td>SOLICITUD</td>\n",
       "      <td>2020-07-23</td>\n",
       "      <td>12:42:34 p.m.</td>\n",
       "      <td>COMUNA 13</td>\n",
       "      <td>BELGRANO</td>\n",
       "      <td>DEL LIBERTADOR AV.</td>\n",
       "      <td>5489.0</td>\n",
       "      <td>NaN</td>\n",
       "      <td>-34.561539</td>\n",
       "      <td>-58.443992</td>\n",
       "      <td>Comunas</td>\n",
       "      <td>Masculino</td>\n",
       "      <td>Cerrado</td>\n",
       "      <td>2020-08-06</td>\n",
       "      <td>14 days</td>\n",
       "      <td>14</td>\n",
       "    </tr>\n",
       "    <tr>\n",
       "      <th>336413</th>\n",
       "      <td>00355984/20</td>\n",
       "      <td>202007</td>\n",
       "      <td>ARBOLADO Y ESPACIOS VERDES</td>\n",
       "      <td>PARQUES Y PLAZAS</td>\n",
       "      <td>INSTALACIÓN DE BANCOS, MESAS Y SILLAS EN PARQU...</td>\n",
       "      <td>SOLICITUD</td>\n",
       "      <td>2020-07-28</td>\n",
       "      <td>03:29:52 p.m.</td>\n",
       "      <td>COMUNA 6</td>\n",
       "      <td>CABALLITO</td>\n",
       "      <td>NaN</td>\n",
       "      <td>NaN</td>\n",
       "      <td>NaN</td>\n",
       "      <td>-34.606471</td>\n",
       "      <td>-58.435768</td>\n",
       "      <td>App</td>\n",
       "      <td>Femenino</td>\n",
       "      <td>Cerrado</td>\n",
       "      <td>2020-08-08</td>\n",
       "      <td>11 days</td>\n",
       "      <td>11</td>\n",
       "    </tr>\n",
       "    <tr>\n",
       "      <th>336824</th>\n",
       "      <td>00356408/20</td>\n",
       "      <td>202007</td>\n",
       "      <td>ARBOLADO Y ESPACIOS VERDES</td>\n",
       "      <td>EXTRACCIÓN DE ÁRBOL</td>\n",
       "      <td>EXTRACCIÓN DE ÁRBOL</td>\n",
       "      <td>SOLICITUD</td>\n",
       "      <td>2020-07-28</td>\n",
       "      <td>08:28:20 p.m.</td>\n",
       "      <td>COMUNA 11</td>\n",
       "      <td>VILLA DEVOTO</td>\n",
       "      <td>FRANCO</td>\n",
       "      <td>3401.0</td>\n",
       "      <td>NaN</td>\n",
       "      <td>-34.585607</td>\n",
       "      <td>-58.513288</td>\n",
       "      <td>Comunas</td>\n",
       "      <td>Masculino</td>\n",
       "      <td>Cerrado</td>\n",
       "      <td>2020-08-11</td>\n",
       "      <td>14 days</td>\n",
       "      <td>14</td>\n",
       "    </tr>\n",
       "    <tr>\n",
       "      <th>338889</th>\n",
       "      <td>00358518/20</td>\n",
       "      <td>202007</td>\n",
       "      <td>ARBOLADO Y ESPACIOS VERDES</td>\n",
       "      <td>PLANTACIÓN DE ÁRBOL</td>\n",
       "      <td>PLANTACIÓN DE ÁRBOL</td>\n",
       "      <td>SOLICITUD</td>\n",
       "      <td>2020-07-30</td>\n",
       "      <td>12:34:45 p.m.</td>\n",
       "      <td>COMUNA 7</td>\n",
       "      <td>FLORES</td>\n",
       "      <td>RENAN</td>\n",
       "      <td>1141.0</td>\n",
       "      <td>NaN</td>\n",
       "      <td>-34.641322</td>\n",
       "      <td>-58.455720</td>\n",
       "      <td>App</td>\n",
       "      <td>Masculino</td>\n",
       "      <td>Cerrado</td>\n",
       "      <td>2020-08-10</td>\n",
       "      <td>11 days</td>\n",
       "      <td>11</td>\n",
       "    </tr>\n",
       "  </tbody>\n",
       "</table>\n",
       "<p>3455 rows × 21 columns</p>\n",
       "</div>"
      ],
      "text/plain": [
       "           contacto  periodo  ... diff_dias diff_dias2\n",
       "192     00000196/20   202001  ...  156 days        156\n",
       "196     00000200/20   202001  ...   70 days         70\n",
       "242     00000248/20   202001  ...   33 days         33\n",
       "275     00000282/20   202001  ...   19 days         19\n",
       "290     00000296/20   202001  ...   14 days         14\n",
       "...             ...      ...  ...       ...        ...\n",
       "330962  00350347/20   202007  ...   19 days         19\n",
       "331449  00350850/20   202007  ...   14 days         14\n",
       "336413  00355984/20   202007  ...   11 days         11\n",
       "336824  00356408/20   202007  ...   14 days         14\n",
       "338889  00358518/20   202007  ...   11 days         11\n",
       "\n",
       "[3455 rows x 21 columns]"
      ]
     },
     "execution_count": 118,
     "metadata": {
      "tags": []
     },
     "output_type": "execute_result"
    }
   ],
   "source": [
    "df_cerrado[\"diff_dias2\"]=df_cerrado[\"diff_dias\"].dt.days\n",
    "df_cerrado.loc[df_cerrado[\"diff_dias2\"]>10,:]"
   ]
  },
  {
   "cell_type": "markdown",
   "metadata": {
    "id": "rgRiJ8M7sh9L"
   },
   "source": [
    "🔹 Cuales son las 10 combianciones de subcategorias y comunas que tiene más casos y adicionalmente tardan más de un mes sin resolver un incidente?"
   ]
  },
  {
   "cell_type": "code",
   "execution_count": 121,
   "metadata": {
    "colab": {
     "base_uri": "https://localhost:8080/"
    },
    "executionInfo": {
     "elapsed": 273,
     "status": "ok",
     "timestamp": 1628728867065,
     "user": {
      "displayName": "Pablo Mandelbaum",
      "photoUrl": "https://lh3.googleusercontent.com/a-/AOh14Ghp2qqB12NOxAk4IOguEe7mr7kd7zaBYSGjBEJcYKM=s64",
      "userId": "09719579371232433582"
     },
     "user_tz": 180
    },
    "id": "f1sosSttsC36",
    "outputId": "46fbe52a-90af-43cc-9aa5-540a39aa93bd"
   },
   "outputs": [
    {
     "data": {
      "text/plain": [
       "subcategoria                             domicilio_cgpc\n",
       "EXTRACCIÓN DE ÁRBOL                      COMUNA 11         174\n",
       "                                         COMUNA 12         129\n",
       "                                         COMUNA 15         106\n",
       "                                         COMUNA 10         102\n",
       "                                         COMUNA 9           99\n",
       "PROBLEMA CON INTERVENCIONES DE ARBOLADO  COMUNA 4           95\n",
       "                                         COMUNA 11          81\n",
       "EXTRACCIÓN DE ÁRBOL                      COMUNA 7           78\n",
       "                                         COMUNA 13          63\n",
       "                                         COMUNA 4           63\n",
       "dtype: int64"
      ]
     },
     "execution_count": 121,
     "metadata": {
      "tags": []
     },
     "output_type": "execute_result"
    }
   ],
   "source": [
    "df_cerrado.loc[df_cerrado[\"diff_dias2\"]>30,:].value_counts([\"subcategoria\",\"domicilio_cgpc\"]).head(10)"
   ]
  }
 ],
 "metadata": {
  "colab": {
   "collapsed_sections": [],
   "name": "2_1_Sistema_Único_de_Atención_Ciudadana.ipynb",
   "provenance": []
  },
  "kernelspec": {
   "display_name": "Python 3",
   "language": "python",
   "name": "python3"
  },
  "language_info": {
   "codemirror_mode": {
    "name": "ipython",
    "version": 3
   },
   "file_extension": ".py",
   "mimetype": "text/x-python",
   "name": "python",
   "nbconvert_exporter": "python",
   "pygments_lexer": "ipython3",
   "version": "3.7.3"
  }
 },
 "nbformat": 4,
 "nbformat_minor": 1
}
