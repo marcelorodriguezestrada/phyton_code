{
  "nbformat": 4,
  "nbformat_minor": 0,
  "metadata": {
    "colab": {
      "name": "04-Dataframes_pandas_groupby.ipynb",
      "provenance": [],
      "collapsed_sections": []
    },
    "kernelspec": {
      "name": "python3",
      "display_name": "Python 3"
    }
  },
  "cells": [
    {
      "cell_type": "markdown",
      "metadata": {
        "id": "xukFEhNLle_K"
      },
      "source": [
        " <img src=\"https://eant.tech/imagenes/logo.png\" width=25% height=80%  >"
      ]
    },
    {
      "cell_type": "markdown",
      "metadata": {
        "id": "AOIgv6Euljad"
      },
      "source": [
        "## <img src=\"http://icons.iconarchive.com/icons/cornmanthe3rd/plex/256/Other-python-icon.png\" width=\"40\"> Ejercicio Restaurant 🍝🍕🍟\n",
        "\n",
        "<center>\n",
        "<img src=\"https://i.ibb.co/ySBJX7L/25746.png\" alt=\"25746\" border=\"0\" width=\"80%\" height=\"50%\">\n",
        "</center>\n",
        "\n",
        "🔹 1. Importar los paquetes que vamos a utilizar."
      ]
    },
    {
      "cell_type": "code",
      "metadata": {
        "id": "NTnEszWzVsOk"
      },
      "source": [
        "import pandas as pd\n",
        "import plotly.express as px"
      ],
      "execution_count": null,
      "outputs": []
    },
    {
      "cell_type": "markdown",
      "metadata": {
        "id": "M2rALGWUBYe7"
      },
      "source": [
        "\n",
        "🔹 2. Importar el dataframe tips"
      ]
    },
    {
      "cell_type": "code",
      "metadata": {
        "id": "D3Ww12Zy_B_1"
      },
      "source": [
        ""
      ],
      "execution_count": null,
      "outputs": []
    },
    {
      "cell_type": "code",
      "metadata": {
        "id": "Y3gc7VeKWd2E"
      },
      "source": [
        ""
      ],
      "execution_count": null,
      "outputs": []
    },
    {
      "cell_type": "markdown",
      "metadata": {
        "id": "XNtGQK4uYSC3"
      },
      "source": [
        "🔹 3. Obtener las variables numéricas: la cantidad, promedio, mínimos, máximos y cuartiles."
      ]
    },
    {
      "cell_type": "code",
      "metadata": {
        "id": "lDQopqz3ktxL"
      },
      "source": [
        ""
      ],
      "execution_count": null,
      "outputs": []
    },
    {
      "cell_type": "markdown",
      "metadata": {
        "id": "6jN7okZrZTmp"
      },
      "source": [
        "\n",
        "🔹 4. Agregar a los valores calculados en el paso anterior los percentiles: 0.1,0.25, 0.35, 0.5 y 0.8"
      ]
    },
    {
      "cell_type": "code",
      "metadata": {
        "id": "QeCE8XwkBpWu"
      },
      "source": [
        ""
      ],
      "execution_count": null,
      "outputs": []
    },
    {
      "cell_type": "markdown",
      "metadata": {
        "id": "tUgCS71mZw2Y"
      },
      "source": [
        "\n",
        "🔹 5. Generar un objeto denominado df_tips en el cual se agrupen los datos por la variable `day`"
      ]
    },
    {
      "cell_type": "markdown",
      "metadata": {
        "id": "cP-X1HGelKFZ"
      },
      "source": [
        "~~~\n",
        "select day \n",
        "    from data\n",
        "  group by day\n",
        "~~~"
      ]
    },
    {
      "cell_type": "code",
      "metadata": {
        "id": "-N0GM0YHBrHY"
      },
      "source": [
        ""
      ],
      "execution_count": null,
      "outputs": []
    },
    {
      "cell_type": "markdown",
      "metadata": {
        "id": "DOfCWGd1Z3bf"
      },
      "source": [
        "\n",
        "🔹 6. Que tipo de datos es df_tips?"
      ]
    },
    {
      "cell_type": "code",
      "metadata": {
        "id": "9dWVfwetBsyn"
      },
      "source": [
        ""
      ],
      "execution_count": null,
      "outputs": []
    },
    {
      "cell_type": "markdown",
      "metadata": {
        "id": "sdi4acURaEnY"
      },
      "source": [
        "🔹 7. Imprimir los grupos generados"
      ]
    },
    {
      "cell_type": "code",
      "metadata": {
        "id": "ioo5M1_LBwA9"
      },
      "source": [
        ""
      ],
      "execution_count": null,
      "outputs": []
    },
    {
      "cell_type": "markdown",
      "metadata": {
        "id": "QeVLe29EaNHm"
      },
      "source": [
        "🔹 8. Agrupar los datos por la variable denominada `sex` y obtener la suma de todas las variables numéricas."
      ]
    },
    {
      "cell_type": "markdown",
      "metadata": {
        "id": "S07ROSbHnJUX"
      },
      "source": [
        "~~~\n",
        "select \n",
        "   sex,\n",
        "   sum(total_bill) as total_bill, \n",
        "   sum(tip) as tip, \n",
        "   sum(size) as size\n",
        "from data\n",
        "group by sex\n",
        "~~~"
      ]
    },
    {
      "cell_type": "code",
      "metadata": {
        "id": "QyVBrd2vBz9P"
      },
      "source": [
        ""
      ],
      "execution_count": null,
      "outputs": []
    },
    {
      "cell_type": "code",
      "metadata": {
        "id": "ZfahbZzhoCaq"
      },
      "source": [
        ""
      ],
      "execution_count": null,
      "outputs": []
    },
    {
      "cell_type": "markdown",
      "metadata": {
        "id": "ClPBsOnWaWtL"
      },
      "source": [
        "🔹 9. Agrupar los datos por la variable denominada `sex` y `smoker`, posteriormente obtener la suma de todas las variables numéricas."
      ]
    },
    {
      "cell_type": "markdown",
      "metadata": {
        "id": "49pe4ll6pfnj"
      },
      "source": [
        "~~~\n",
        "select \n",
        "  sex,\n",
        "  smoker,\n",
        "  sum(total_bill) as total_bill, \n",
        "   sum(tip) as tip, \n",
        "   sum(size) as size\n",
        "from data\n",
        "group by sex,smoker\n",
        "~~~"
      ]
    },
    {
      "cell_type": "code",
      "metadata": {
        "id": "RMdYoOMZB1Qp"
      },
      "source": [
        ""
      ],
      "execution_count": null,
      "outputs": []
    },
    {
      "cell_type": "markdown",
      "metadata": {
        "id": "e5871B9_aclO"
      },
      "source": [
        "🔹 10. Generar un dataframe con los datos agrupados en el punto anterior."
      ]
    },
    {
      "cell_type": "code",
      "metadata": {
        "id": "bIOtBEL4B26H"
      },
      "source": [
        ""
      ],
      "execution_count": null,
      "outputs": []
    },
    {
      "cell_type": "markdown",
      "metadata": {
        "id": "an3gWgepamIY"
      },
      "source": [
        "🔹 11. Generar un dataframe el mismo dataframe que en el paso anterior pero:\n",
        "* Variable `tip`calcular el promedio.\n",
        "* Variable `size`calcular la sumatoria.\n",
        "* Variable `total_bill`calcular:\n",
        " + maximo\n",
        " + sumatoria\n",
        " + minimos"
      ]
    },
    {
      "cell_type": "code",
      "metadata": {
        "id": "Gto6R2Y4YjM3"
      },
      "source": [
        ""
      ],
      "execution_count": null,
      "outputs": []
    },
    {
      "cell_type": "markdown",
      "metadata": {
        "id": "9Cih-SmxbB-A"
      },
      "source": [
        "🔹 12. Generar una nueva columna denominado `Mpromedio` en la cual retorne un true si supera a la propina promedio y un false si no la supera."
      ]
    },
    {
      "cell_type": "code",
      "metadata": {
        "id": "z71qF-3ECBa9"
      },
      "source": [
        ""
      ],
      "execution_count": null,
      "outputs": []
    },
    {
      "cell_type": "markdown",
      "metadata": {
        "id": "f1-w9s6DbRj_"
      },
      "source": [
        "🔹 13. Modificar la variables generada en el paso anterior para:\n",
        "* `True` modificar por `Mayor`\n",
        "* `False` modificar por `Menor`"
      ]
    },
    {
      "cell_type": "code",
      "metadata": {
        "id": "R0YB2x4RfuS4"
      },
      "source": [
        ""
      ],
      "execution_count": null,
      "outputs": []
    },
    {
      "cell_type": "markdown",
      "metadata": {
        "id": "_rav9y63j8s0"
      },
      "source": [
        "🔹 14. Calcular la cantidad de valores que ya para la variable `MayorPromedio`"
      ]
    },
    {
      "cell_type": "code",
      "metadata": {
        "id": "530ot3XgCF-c"
      },
      "source": [
        ""
      ],
      "execution_count": null,
      "outputs": []
    },
    {
      "cell_type": "markdown",
      "metadata": {
        "id": "APHJTBrLkNzc"
      },
      "source": [
        "🔹 15. Generar un dataframe denominado `gpgroup` que se agrupe por las variables `sex`y `time`, calculando  el promedio por las variables numéricas"
      ]
    },
    {
      "cell_type": "code",
      "metadata": {
        "id": "12GyyFRVCKEf"
      },
      "source": [
        ""
      ],
      "execution_count": null,
      "outputs": []
    }
  ]
}