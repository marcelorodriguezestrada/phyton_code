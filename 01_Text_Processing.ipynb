{
  "nbformat": 4,
  "nbformat_minor": 0,
  "metadata": {
    "colab": {
      "name": "01-Text-Processing.ipynb",
      "provenance": [],
      "collapsed_sections": []
    },
    "kernelspec": {
      "name": "python3",
      "display_name": "Python 3"
    }
  },
  "cells": [
    {
      "cell_type": "markdown",
      "metadata": {
        "id": "N_UWvZY4THin"
      },
      "source": [
        "## <img src=\"http://icons.iconarchive.com/icons/cornmanthe3rd/plex/256/Other-python-icon.png\" width=\"40\"> Ejercicio Titular de Diarios 🔎📝✒️\n",
        "\n",
        "<center>\n",
        "<img src=\"https://i.ibb.co/jRJvDrb/Captura-de-Pantalla-2020-11-22-a-la-s-16-48-56.png\" alt=\"Captura-de-Pantalla-2020-11-22-a-la-s-16-48-56\" border=\"0\">"
      ]
    },
    {
      "cell_type": "markdown",
      "metadata": {
        "id": "U4RWE4N-uppE"
      },
      "source": [
        "🏷️ 1. Importar los siguientes paquetes\n",
        "\n",
        "Concepto |modulo | alias | descripción\n",
        "-----|-----|----|----\n",
        "Dataframes| pandas | pd | Manipulación de dataframes\n",
        "Dataframes|numpy | np | Utilizamos la función where para generar nuevas variables.\n",
        "Dataframes|json | | Importar json files\n",
        "Dataframes|google.colab | | Importar archivos de drive\n",
        "Procesamiento de texto|nltk | | Tokenización de strings\n",
        "Procesamiento de texto| re | | Manejo de expresiones regulares\n",
        "Visualizaciones|seaborn | sns | Generación de graficas\n",
        "Visualizaciones|matplotlib.pypñot | plt | Generación de graficas \n",
        "Visualizaciones| squarify | | Generación de treemaps\n",
        "Visualizaciones| networkx |nx| Generación de grafos\n",
        "Visualizaciones| WordCloud | | Generación de nube de palabras\n"
      ]
    },
    {
      "cell_type": "code",
      "metadata": {
        "id": "wnrMGj0VWa34",
        "colab": {
          "base_uri": "https://localhost:8080/"
        },
        "outputId": "73ddb857-3205-43ee-ea61-a1e9ca3cb86e"
      },
      "source": [
        "!pip install squarify "
      ],
      "execution_count": null,
      "outputs": [
        {
          "output_type": "stream",
          "text": [
            "Collecting squarify\n",
            "  Downloading https://files.pythonhosted.org/packages/0b/2b/2e77c35326efec19819cd1d729540d4d235e6c2a3f37658288a363a67da5/squarify-0.4.3-py3-none-any.whl\n",
            "Installing collected packages: squarify\n",
            "Successfully installed squarify-0.4.3\n"
          ],
          "name": "stdout"
        }
      ]
    },
    {
      "cell_type": "code",
      "metadata": {
        "id": "VzDMUKq6upZO"
      },
      "source": [
        "# Dataframes\n",
        "import pandas as pd\n",
        "import numpy as np\n",
        "from datetime import datetime\n",
        "import json\n",
        "from google.colab import drive \n",
        "\n",
        "# Procesamiento de texto\n",
        "import re\n",
        "import nltk\n",
        "from nltk.corpus import stopwords\n",
        "from nltk import word_tokenize\n",
        "from nltk.util import ngrams\n",
        "\n",
        "# Visualización\n",
        "import networkx as nx\n",
        "import seaborn as sns\n",
        "import matplotlib.pyplot as plt\n",
        "import squarify\n",
        "from wordcloud import WordCloud\n"
      ],
      "execution_count": null,
      "outputs": []
    },
    {
      "cell_type": "markdown",
      "metadata": {
        "id": "YEeZ7VzmxBYL"
      },
      "source": [
        "🏷️ 2. Crear la variable con el titular de infobae:\n"
      ]
    },
    {
      "cell_type": "code",
      "metadata": {
        "id": "Zg0sC--3tflu"
      },
      "source": [
        ""
      ],
      "execution_count": null,
      "outputs": []
    },
    {
      "cell_type": "markdown",
      "metadata": {
        "id": "sE0YukpBx3ci"
      },
      "source": [
        "🏷️ 3. Generar una función que elimine las tildes y los signos de puntuación. Adicionalmente se deben pasar las palabras a minusculas.\n",
        "\n",
        "***Expresiones regulares:*** [link](https://www.w3schools.com/python/python_regex.asp)"
      ]
    },
    {
      "cell_type": "code",
      "metadata": {
        "id": "vnxYEOMMx4QO"
      },
      "source": [
        ""
      ],
      "execution_count": null,
      "outputs": []
    },
    {
      "cell_type": "markdown",
      "metadata": {
        "id": "Ke-VfN1ox_fG"
      },
      "source": [
        "🏷️ 4. Hacer una prueba utilizando el titular de infobae con la función creada en el paso anterior\n"
      ]
    },
    {
      "cell_type": "code",
      "metadata": {
        "id": "5l_aI55-1jGY"
      },
      "source": [
        ""
      ],
      "execution_count": null,
      "outputs": []
    },
    {
      "cell_type": "markdown",
      "metadata": {
        "id": "6RBVglSxyRqb"
      },
      "source": [
        "🏷️ 5. Generar una lista con las stop words que se encuentran en el NLTK\n"
      ]
    },
    {
      "cell_type": "code",
      "metadata": {
        "id": "dIGZSRcC3a1c"
      },
      "source": [
        ""
      ],
      "execution_count": null,
      "outputs": []
    },
    {
      "cell_type": "code",
      "metadata": {
        "id": "Z6fLV5V2yUhC"
      },
      "source": [
        ""
      ],
      "execution_count": null,
      "outputs": []
    },
    {
      "cell_type": "markdown",
      "metadata": {
        "id": "jm68D2TV3fte"
      },
      "source": [
        "🏷️ 6. Generar los Unigrams en base al titular de infobae. \n",
        "**Recuerde:** utilizar la función `fclean`sobre el string"
      ]
    },
    {
      "cell_type": "code",
      "metadata": {
        "id": "uqfPLvAx4Mog"
      },
      "source": [
        ""
      ],
      "execution_count": null,
      "outputs": []
    },
    {
      "cell_type": "markdown",
      "metadata": {
        "id": "nPpuMvRm-Jep"
      },
      "source": [
        "🏷️ 7. Eliminar las stop words de la lista generada en el ejercicio anterior."
      ]
    },
    {
      "cell_type": "code",
      "metadata": {
        "id": "befYDZVy3haN"
      },
      "source": [
        ""
      ],
      "execution_count": null,
      "outputs": []
    },
    {
      "cell_type": "markdown",
      "metadata": {
        "id": "PPGBAjS9yXxt"
      },
      "source": [
        "🏷️ 8. Generar los bigrams y eliminar las stop words."
      ]
    },
    {
      "cell_type": "code",
      "metadata": {
        "id": "3I3xK1Q9yb21"
      },
      "source": [
        ""
      ],
      "execution_count": null,
      "outputs": []
    },
    {
      "cell_type": "code",
      "metadata": {
        "id": "K29a1zLO4mdj"
      },
      "source": [
        ""
      ],
      "execution_count": null,
      "outputs": []
    },
    {
      "cell_type": "markdown",
      "metadata": {
        "id": "eaBt5Zmnycgp"
      },
      "source": [
        "## <img src=\"http://icons.iconarchive.com/icons/cornmanthe3rd/plex/256/Other-python-icon.png\" width=\"40\"> Ejercicio Reviews 📱💬👥\n",
        "\n",
        "**Google Play Store** es una tienda donde se pueden adquirir aplicaciones con diversas tematicas.\n",
        "Esta tienda permite que los usuarios puedan calificar las aplicaciones otorgando de 1 a 5 estrellas ⭐, asimismo permite poder realizar una breve reseña.\n",
        "\n",
        "Las `reseñas online` generan un gran valor para poder conocer cuales son los aspectos negativos ❌ y positivos ✅ de la aplicación. Asimismo segun un estudio realizado por una consultura:\n",
        ">\"El **93 %** de los usuarios aseguran que las reseñas en Internet tienen un gran impacto en sus decisiones de compra.\" [Link](https://www.webfindyou.com.co/blog/las-reviews-y-su-importancia-para-google-play-store-y-las-empresas-colombianas/)\n",
        "\n",
        "\n",
        "En este ejercicio vamos a realizar un analisis de las reviews de google play para dos fintechs de Colombia.🇨🇴\n",
        "\n",
        "<br>\n",
        "<center>\n",
        "<img src=\"https://colegiolepanto.co/moodle/pluginfile.php/121/mod_label/intro/pagos.png\"  border=\"0\" width=\"90%\" height=\"50%\">\n",
        "\n",
        "Source Image: [Link](https://colegiolepanto.co/moodle/pluginfile.php/121/mod_label/intro/pagos.png)\n",
        "\n",
        "</center>\n",
        "\n",
        "\n",
        "<br>\n",
        "\n",
        "---\n",
        "\n",
        "<br>\n",
        "\n",
        "* **DaviPlata** es un depósito de dinero electrónico amparado por el seguro de depósito de Fogafin, aplican valores máximos y mínimos permitidos para la administración, desde y hacia DaviPlata.\n",
        "Se ha habilitado la compatibilidad con lectores de pantalla.\n",
        "> Link a las reviews: [Google Play](https://play.google.com/store/apps/details?id=com.davivienda.daviplataapp&hl=es_419&gl=US)\n",
        "\n",
        "<br>\n",
        "\n",
        "---\n",
        "\n",
        "<br>\n",
        "\n",
        "* **Nequi** es una plataforma financiera 100% digital, que busca que tengas una mejor relación con tu plata para que logres lo que quieres con ella. Tu cuenta Nequi es una cuenta de ahorros sin cuota de manejo o comisiones.\n",
        "> Link a las reviews: [Google Play](https://play.google.com/store/apps/details?id=com.nequi.MobileApp&hl=es_419&gl=US)\n"
      ]
    },
    {
      "cell_type": "markdown",
      "metadata": {
        "id": "CpeIvYYP-cGe"
      },
      "source": [
        "🏷️ 1. Importar el archivo los archivos:\n",
        "* `reviews_co_Nequi.pkl`\n",
        "* `reviews_co_DaviPlata.pkl`"
      ]
    },
    {
      "cell_type": "code",
      "metadata": {
        "id": "a0eCV1_8SE3f",
        "colab": {
          "base_uri": "https://localhost:8080/"
        },
        "outputId": "8a2ab172-1151-46da-e4f7-ae182f484285"
      },
      "source": [
        "drive.mount('/content/gdrive')"
      ],
      "execution_count": null,
      "outputs": [
        {
          "output_type": "stream",
          "text": [
            "Mounted at /content/gdrive\n"
          ],
          "name": "stdout"
        }
      ]
    },
    {
      "cell_type": "code",
      "metadata": {
        "id": "V1CcZBL0X-9u"
      },
      "source": [
        ""
      ],
      "execution_count": null,
      "outputs": []
    },
    {
      "cell_type": "code",
      "metadata": {
        "id": "MfshjcBsYyjg"
      },
      "source": [
        ""
      ],
      "execution_count": null,
      "outputs": []
    },
    {
      "cell_type": "markdown",
      "metadata": {
        "id": "ly3dKaCoylhe"
      },
      "source": [
        "🏷️  2. Generar un dataset denominado `reviews` que contenga los dos dataframes anterior.\n"
      ]
    },
    {
      "cell_type": "code",
      "metadata": {
        "id": "o9AY7vIYymKa"
      },
      "source": [
        ""
      ],
      "execution_count": null,
      "outputs": []
    },
    {
      "cell_type": "markdown",
      "metadata": {
        "id": "P4ftYSfZZIqJ"
      },
      "source": [
        "🏷️ 3.Cuantas filas y columnas contiene el dataframe `review`"
      ]
    },
    {
      "cell_type": "code",
      "metadata": {
        "id": "cTnmNygTZNE9"
      },
      "source": [
        ""
      ],
      "execution_count": null,
      "outputs": []
    },
    {
      "cell_type": "markdown",
      "metadata": {
        "id": "kvP1p5pFZRFI"
      },
      "source": [
        "🏷️ 4. Imprimir las 5 primeras filas"
      ]
    },
    {
      "cell_type": "code",
      "metadata": {
        "id": "L_-45d7jZTtn"
      },
      "source": [
        ""
      ],
      "execution_count": null,
      "outputs": []
    },
    {
      "cell_type": "markdown",
      "metadata": {
        "id": "Zn_HevglZlGh"
      },
      "source": [
        "🏷️ 5. Visualizar la estructura del dataframe"
      ]
    },
    {
      "cell_type": "code",
      "metadata": {
        "id": "eNj7LoBKZjRF"
      },
      "source": [
        ""
      ],
      "execution_count": null,
      "outputs": []
    },
    {
      "cell_type": "markdown",
      "metadata": {
        "id": "wN1MnAcuZrjv"
      },
      "source": [
        "🏷️ 6. De que años son las reviews importadas?"
      ]
    },
    {
      "cell_type": "code",
      "metadata": {
        "id": "11zN_tYhZwPZ"
      },
      "source": [
        ""
      ],
      "execution_count": null,
      "outputs": []
    },
    {
      "cell_type": "markdown",
      "metadata": {
        "id": "gHoK7Y3NZ874"
      },
      "source": [
        "🏷️ 7. De que años son las reviews pada cada una de las empresas?"
      ]
    },
    {
      "cell_type": "code",
      "metadata": {
        "id": "yJ5tIwRHaILs"
      },
      "source": [
        ""
      ],
      "execution_count": null,
      "outputs": []
    },
    {
      "cell_type": "markdown",
      "metadata": {
        "id": "NSxgTVL-e02Z"
      },
      "source": [
        "🏷️ 8. En base al punto anterior cual de las siguientes opciones es correcta:\n",
        "\n",
        "* [ ] DaviPlata tiene mayor cantidad de reviews y de instalaciones.\n",
        "* [ ] Nequi tiene mayor cantidad de reviews y de instalaciones.\n",
        "* [ ] DaviPlata tiene mayor cantidad de reviews pero menor cantidad de instalaciones\n",
        "* [ ] Nequi tiene mayor cantidad de reviews pero menor cantidad de instalaciones\n",
        "\n",
        "> Para poder realizar este analisis es necesario importar el archivo json `playstore_descriptions.json`, en el mismo contiene datos sobre instalaciones de cada una de las apps."
      ]
    },
    {
      "cell_type": "code",
      "metadata": {
        "id": "GTm-cfbRd3JD"
      },
      "source": [
        ""
      ],
      "execution_count": null,
      "outputs": []
    },
    {
      "cell_type": "markdown",
      "metadata": {
        "id": "LZagFCn2yn6w"
      },
      "source": [
        "🏷️ 9. Seleccionar todas las reviews que son del año 2020\n"
      ]
    },
    {
      "cell_type": "code",
      "metadata": {
        "id": "pxKy8LWwgPGc"
      },
      "source": [
        ""
      ],
      "execution_count": null,
      "outputs": []
    },
    {
      "cell_type": "markdown",
      "metadata": {
        "id": "TQAxhpZzyqU0"
      },
      "source": [
        "🏷️ 10. Realizar un plot para visualizar la cantidad de reviews por empresas"
      ]
    },
    {
      "cell_type": "code",
      "metadata": {
        "id": "55hGLb2pg5sX"
      },
      "source": [
        ""
      ],
      "execution_count": null,
      "outputs": []
    },
    {
      "cell_type": "markdown",
      "metadata": {
        "id": "d9J-n-cjD0Ud"
      },
      "source": [
        "🏷️ 11. Utilizar la siguiente función para generar un countplot con leyendas"
      ]
    },
    {
      "cell_type": "code",
      "metadata": {
        "id": "dUuafbn-OlHn"
      },
      "source": [
        "def barplot_legend(df_,col_,col_value_,fun_,ylim_add_=5000):\n",
        "  dft=df_.groupby(col_,as_index=False)[col_value_].agg({col_value_:fun_})\n",
        "\n",
        "  labels=list(dft[col_value_].astype(str))\n",
        "  labels_desc=list(dft[col_])\n",
        "\n",
        "  plt.figure(figsize=(20,7))\n",
        "  ax=sns.countplot(data=reviews2020,x=col_,order=labels_desc)\n",
        "  rects = ax.patches\n",
        "\n",
        "  for rect, label in zip(rects, labels):\n",
        "        height = rect.get_height()\n",
        "        ax.text(rect.get_x() + rect.get_width()/2, height+5 , label,size=15, ha='center', va='bottom')\n",
        "\n",
        "  plt.ylim(0,dft[col_value_].max()+ylim_add_)\n",
        "  plt.show()\n"
      ],
      "execution_count": null,
      "outputs": []
    },
    {
      "cell_type": "code",
      "metadata": {
        "id": "zk5YjsPhRsGE"
      },
      "source": [
        ""
      ],
      "execution_count": null,
      "outputs": []
    },
    {
      "cell_type": "markdown",
      "metadata": {
        "id": "SU0KQmf_zAE8"
      },
      "source": [
        "🏷️ 12. Generar un plot de la cantidad de reviews por score\n"
      ]
    },
    {
      "cell_type": "code",
      "metadata": {
        "id": "SOyN4HDlhq2B"
      },
      "source": [
        ""
      ],
      "execution_count": null,
      "outputs": []
    },
    {
      "cell_type": "code",
      "metadata": {
        "id": "Sb6a-9uNSE3Z"
      },
      "source": [
        ""
      ],
      "execution_count": null,
      "outputs": []
    },
    {
      "cell_type": "markdown",
      "metadata": {
        "id": "YDiu5yyXzCsi"
      },
      "source": [
        "🏷️ 13. Generar un plot de la cantidad de reviews por score y periodo `YYYY-mm`"
      ]
    },
    {
      "cell_type": "code",
      "metadata": {
        "id": "MlKLec-PiAyB"
      },
      "source": [
        ""
      ],
      "execution_count": null,
      "outputs": []
    },
    {
      "cell_type": "code",
      "metadata": {
        "id": "iVAJsQMPnahH"
      },
      "source": [
        "\n"
      ],
      "execution_count": null,
      "outputs": []
    },
    {
      "cell_type": "markdown",
      "metadata": {
        "id": "liBJUp67eNok"
      },
      "source": [
        "🏷️ 14. Generar un heatmap por periodos y cantidad de estreallas, como funcion utilizar el porcentaje sobre el total.\n",
        "Como se debe realizar un heatmap por empresa es necesario generar un subplot.\n"
      ]
    },
    {
      "cell_type": "code",
      "metadata": {
        "id": "WjL1ln9gSktG"
      },
      "source": [
        ""
      ],
      "execution_count": null,
      "outputs": []
    },
    {
      "cell_type": "markdown",
      "metadata": {
        "id": "G7P27XmvhP1E"
      },
      "source": [
        "🏷️ 15. Como es la distribución de la cantidad de palabras en base a la cantidad de estrellas.\n"
      ]
    },
    {
      "cell_type": "code",
      "metadata": {
        "id": "jfaoYwU3hQOY"
      },
      "source": [
        ""
      ],
      "execution_count": null,
      "outputs": []
    },
    {
      "cell_type": "code",
      "metadata": {
        "id": "ntCcHiAxhZyr"
      },
      "source": [
        ""
      ],
      "execution_count": null,
      "outputs": []
    },
    {
      "cell_type": "markdown",
      "metadata": {
        "id": "UJXxZHeFzQUZ"
      },
      "source": [
        "🏷️ 17. Ahora vamos analizar las reviews negativas, por lo cual generamos una variable denominada negativa que sea 1 si el score es menor igual  a 2."
      ]
    },
    {
      "cell_type": "code",
      "metadata": {
        "id": "XIrk0Bo0aXLb"
      },
      "source": [
        ""
      ],
      "execution_count": null,
      "outputs": []
    },
    {
      "cell_type": "markdown",
      "metadata": {
        "id": "LgLorQmwIT4o"
      },
      "source": [
        "🏷️ 18. Cuantas reviews negativas hay?"
      ]
    },
    {
      "cell_type": "code",
      "metadata": {
        "id": "2o0EgGxTajRP"
      },
      "source": [
        ""
      ],
      "execution_count": null,
      "outputs": []
    },
    {
      "cell_type": "markdown",
      "metadata": {
        "id": "dGk9XNJXKZ2A"
      },
      "source": [
        "🏷️ 19. Generar una nueva variable denominada `review_clean` en el cual utilice la función `fclean` sobre las reviews."
      ]
    },
    {
      "cell_type": "code",
      "metadata": {
        "id": "WF2ashehKP7-"
      },
      "source": [
        ""
      ],
      "execution_count": null,
      "outputs": []
    },
    {
      "cell_type": "markdown",
      "metadata": {
        "id": "OINME1eYatM4"
      },
      "source": [
        "🏷️ 20. Generar un dataframe con las reviews negativas.\n",
        "**Recuerde:** Utilizar el metodo reset_index()"
      ]
    },
    {
      "cell_type": "code",
      "metadata": {
        "id": "cyX4ruOCaz7S"
      },
      "source": [
        ""
      ],
      "execution_count": null,
      "outputs": []
    },
    {
      "cell_type": "markdown",
      "metadata": {
        "id": "eWyhsUKaM5SQ"
      },
      "source": [
        "🏷️ 21. Utilizar la siguiente función para encontrar reviews relacionadas que contengan la palabra `tarjeta virtual`"
      ]
    },
    {
      "cell_type": "code",
      "metadata": {
        "id": "sLCkeO7bNxV9"
      },
      "source": [
        "def search_text(df,col,word,ini,fin):\n",
        "    text_search=[]\n",
        "    for i in df[col]:\n",
        "        pos=i.find(word)\n",
        "        if pos>=0:\n",
        "            if pos<=ini:\n",
        "                text_search.append((ini-pos)*' '+i[:pos+fin])\n",
        "            else:\n",
        "                text_search.append(i[pos-ini:pos+fin])\n",
        "    return text_search\n"
      ],
      "execution_count": null,
      "outputs": []
    },
    {
      "cell_type": "code",
      "metadata": {
        "id": "QQ0QEDOSamog"
      },
      "source": [
        ""
      ],
      "execution_count": null,
      "outputs": []
    },
    {
      "cell_type": "markdown",
      "metadata": {
        "id": "P4eWthLDbcMd"
      },
      "source": [
        "🏷️ 22. Imprimir lar review negativa que esta en la fila numero 1,2, 135 y 13121.\n",
        "\n",
        "**Que problematicas observa?**"
      ]
    },
    {
      "cell_type": "code",
      "metadata": {
        "id": "u96iIGopL-aj"
      },
      "source": [
        ""
      ],
      "execution_count": null,
      "outputs": []
    },
    {
      "cell_type": "code",
      "metadata": {
        "id": "DJIqhZELMPTM"
      },
      "source": [
        ""
      ],
      "execution_count": null,
      "outputs": []
    },
    {
      "cell_type": "markdown",
      "metadata": {
        "id": "g4I3lXgTg8Nf"
      },
      "source": [
        "🏷️ 23. Generar los unigrams en base a la variable `review_clean^"
      ]
    },
    {
      "cell_type": "code",
      "metadata": {
        "id": "R0jQm93Ri0U2"
      },
      "source": [
        ""
      ],
      "execution_count": null,
      "outputs": []
    },
    {
      "cell_type": "markdown",
      "metadata": {
        "id": "etdrYLzaKbXC"
      },
      "source": [
        "🏷️ 24. Eliminar las stopwords"
      ]
    },
    {
      "cell_type": "code",
      "metadata": {
        "id": "U_gJbaqPjcBM"
      },
      "source": [
        ""
      ],
      "execution_count": null,
      "outputs": []
    },
    {
      "cell_type": "markdown",
      "metadata": {
        "id": "DJgFprAvKfth"
      },
      "source": [
        "🏷️ 25. Cuantas palabras quedaron despues de eliminar las stopwords"
      ]
    },
    {
      "cell_type": "code",
      "metadata": {
        "id": "XQ12eBEojp9M"
      },
      "source": [
        ""
      ],
      "execution_count": null,
      "outputs": []
    },
    {
      "cell_type": "markdown",
      "metadata": {
        "id": "qszGn8avjsPq"
      },
      "source": [
        "🏷️ 26. **Diversidad del Lexico:** Cual es la cantidad de palabras unicas (vocabulario) que tienen las reviews negativas eliminando las stopwords."
      ]
    },
    {
      "cell_type": "code",
      "metadata": {
        "id": "tLlmNRDPj2Ey"
      },
      "source": [
        ""
      ],
      "execution_count": null,
      "outputs": []
    },
    {
      "cell_type": "code",
      "metadata": {
        "id": "4tVbbtMw4obl"
      },
      "source": [
        "def lexical_diversity(word,text,unique=False):\n",
        "  if unique==False:\n",
        "    return sum(pd.Series(text)==word)/ len(text)\n",
        "  else:\n",
        "    return sum(pd.Series(text)==word)/ len(set(text))"
      ],
      "execution_count": null,
      "outputs": []
    },
    {
      "cell_type": "code",
      "metadata": {
        "id": "pfiY2mVc4pXo"
      },
      "source": [
        ""
      ],
      "execution_count": null,
      "outputs": []
    },
    {
      "cell_type": "markdown",
      "metadata": {
        "id": "r43VtE4ZjQjx"
      },
      "source": [
        "🏷️ 27. Cuales son los 25 terminos más utilizados en las reviews negativas?"
      ]
    },
    {
      "cell_type": "code",
      "metadata": {
        "id": "XZll3FrNrFta"
      },
      "source": [
        ""
      ],
      "execution_count": null,
      "outputs": []
    },
    {
      "cell_type": "markdown",
      "metadata": {
        "id": "4SdfkUtLg8DT"
      },
      "source": [
        "🏷️ 28. Generar una Wordcloud de unigramas de reviews negativas"
      ]
    },
    {
      "cell_type": "code",
      "metadata": {
        "id": "2QiTbKX9lWep"
      },
      "source": [
        "\n"
      ],
      "execution_count": null,
      "outputs": []
    },
    {
      "cell_type": "markdown",
      "metadata": {
        "id": "aYsAeQWVeFCO"
      },
      "source": [
        "🏷️ 29. Generar una Wordcloud de unigramas de reviews positivas"
      ]
    },
    {
      "cell_type": "code",
      "metadata": {
        "id": "f98EO2OImxkD"
      },
      "source": [
        ""
      ],
      "execution_count": null,
      "outputs": []
    },
    {
      "cell_type": "markdown",
      "metadata": {
        "id": "Y8V6Kt-8zis2"
      },
      "source": [
        "🏷️ 30. Generar los bigrams para la primer review del dataframe\n"
      ]
    },
    {
      "cell_type": "code",
      "metadata": {
        "id": "a09MO0KCo1a2"
      },
      "source": [
        ""
      ],
      "execution_count": null,
      "outputs": []
    },
    {
      "cell_type": "markdown",
      "metadata": {
        "id": "0I_08DOZzl_s"
      },
      "source": [
        "🏷️ 31.Generar un grafica con los 10 bigrams y trigrams que más frecuencia tienen en las reviews negativas del 2020.\n",
        "Utilice las siguientes funciones para realizarlo."
      ]
    },
    {
      "cell_type": "code",
      "metadata": {
        "id": "fbcJBmiL3q7R"
      },
      "source": [
        "def df_bigrams(df_,col_,sw_,n_=2):\n",
        "  \"\"\"Generar bigrams o trigrams sin stopwords\"\"\"\n",
        "  token_list=[]\n",
        "\n",
        "  for i in df_[col_]:\n",
        "    token=nltk.word_tokenize(i)\n",
        "    bigrams=ngrams(token,n_)\n",
        "    bigrams=list(bigrams)\n",
        "    if n_==2:\n",
        "      bigrams_ = [ (w1, w2) for w1, w2 in bigrams if w1 not in sw and w2 not in sw and len(w1)>1 and len(w2)>1]\n",
        "    if n_==3:\n",
        "      bigrams_ = [ (w1, w2, w3) for w1, w2,w3 in bigrams if w1 not in sw and w2 not in sw and w3 not in sw and len(w1)>1 and len(w2)>1 and len(w3)>1]\n",
        "    token_list.extend(bigrams_)\n",
        "    \n",
        "  print('Se generaron: ',len(token_list),' ngrams')\n",
        "  return token_list"
      ],
      "execution_count": null,
      "outputs": []
    },
    {
      "cell_type": "code",
      "metadata": {
        "id": "vJZEC4cn9WvO"
      },
      "source": [
        "def tokens_df(df_,most_common_=-1):\n",
        "  \"\"\"Generar un dataframe con los terminos mas comunes\"\"\"\n",
        "  dfb_freq = nltk.FreqDist(df_)\n",
        "  dfb_freq_common=(\n",
        "       pd.DataFrame.from_dict(dfb_freq, orient='index')\n",
        "       .reset_index()\n",
        "       .rename({'index':'ngrams',0:'qty'},axis=1)\n",
        "  )\n",
        "  if most_common_==-1:\n",
        "    return dfb_freq_common\n",
        "  else:\n",
        "    return dfb_freq_common.sort_values('qty',ascending=False).reset_index(drop=True).head(most_common_)\n"
      ],
      "execution_count": null,
      "outputs": []
    },
    {
      "cell_type": "code",
      "metadata": {
        "id": "05Cw81Nj3qyf"
      },
      "source": [
        ""
      ],
      "execution_count": null,
      "outputs": []
    },
    {
      "cell_type": "code",
      "metadata": {
        "id": "P5iMD_We_8ri"
      },
      "source": [
        ""
      ],
      "execution_count": null,
      "outputs": []
    },
    {
      "cell_type": "markdown",
      "metadata": {
        "id": "q9BInz4mz5c7"
      },
      "source": [
        "🏷️ 33. Crear una red semántica con los bigramns que tengan una frecuencia mayor a 50.\n"
      ]
    },
    {
      "cell_type": "code",
      "metadata": {
        "id": "GX-vd_sj7ow5"
      },
      "source": [
        "def red_semantica_bigrams(tokens_bi):\n",
        "  G = nx.DiGraph()\n",
        "  for i in range(0,tokens_bi.shape[0]):\n",
        "    G.add_node(tokens_bi.loc[i,'ngrams'][0])\n",
        "    G.add_node(tokens_bi.loc[i,'ngrams'][1])\n",
        "    G.add_edge(tokens_bi.loc[i,'ngrams'][0], tokens_bi.loc[i,'ngrams'][1])\n",
        "\n",
        "  plt.figure(figsize=(20,10))\n",
        "  pos = nx.spring_layout(G,k=0.80,iterations=100)\n",
        "  nx.draw(G, with_labels=True, \n",
        "        pos=pos,\n",
        "        node_size=2000, \n",
        "        font_size=15,\n",
        "        arrows=True,\n",
        "        font_color='black',\n",
        "        node_color='#A2CADF')\n"
      ],
      "execution_count": null,
      "outputs": []
    },
    {
      "cell_type": "code",
      "metadata": {
        "id": "kPKztDF_H59w"
      },
      "source": [
        ""
      ],
      "execution_count": null,
      "outputs": []
    }
  ]
}