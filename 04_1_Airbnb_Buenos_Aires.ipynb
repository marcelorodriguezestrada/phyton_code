{
  "nbformat": 4,
  "nbformat_minor": 0,
  "metadata": {
    "colab": {
      "name": "04.1-Airbnb Buenos Aires.ipynb",
      "provenance": [],
      "collapsed_sections": []
    },
    "kernelspec": {
      "name": "python3",
      "display_name": "Python 3"
    }
  },
  "cells": [
    {
      "cell_type": "markdown",
      "metadata": {
        "id": "Es5VMuW6wr1C"
      },
      "source": [
        " <img src=\"https://eant.tech/imagenes/logo.png\" width=25% height=80%  >\n"
      ]
    },
    {
      "cell_type": "markdown",
      "metadata": {
        "id": "mR8ORYq3Jpce"
      },
      "source": [
        "## <img src=\"http://icons.iconarchive.com/icons/cornmanthe3rd/plex/256/Other-python-icon.png\" width=\"40\"> Ejercicio Airbnb 🏠 🛋️\n",
        "\n",
        "<center>\n",
        " <img src=\"https://thereverend.co.uk/blog/wp-content/uploads/2019/01/Air-Bnb-Logo-e1546550992454.png\" width=\"80%\" height=\"10%\"> \n",
        "</center>\n",
        "\n",
        "\n"
      ]
    },
    {
      "cell_type": "markdown",
      "metadata": {
        "id": "2ZCW8VrOJr4X"
      },
      "source": [
        "🔹 Importar los paquetes que vamos a utilizar."
      ]
    },
    {
      "cell_type": "code",
      "metadata": {
        "id": "_25wdXJrwrPO"
      },
      "source": [
        ""
      ],
      "execution_count": null,
      "outputs": []
    },
    {
      "cell_type": "markdown",
      "metadata": {
        "id": "M3OVbPu6woSm"
      },
      "source": [
        "🔹 Importar el archivo que se encuentra en: https://raw.githubusercontent.com/cienciadedatos/datos-de-miercoles/master/datos/2019/2019-06-05/buenos_aires.csv"
      ]
    },
    {
      "cell_type": "code",
      "metadata": {
        "id": "daWFELrswdJF"
      },
      "source": [
        ""
      ],
      "execution_count": null,
      "outputs": []
    },
    {
      "cell_type": "markdown",
      "metadata": {
        "id": "Uc-I747Ww4OL"
      },
      "source": [
        "🔹  Ver las primeras observaciones del dataframe"
      ]
    },
    {
      "cell_type": "code",
      "metadata": {
        "id": "pGy-r30Nw4tb"
      },
      "source": [
        ""
      ],
      "execution_count": null,
      "outputs": []
    },
    {
      "cell_type": "markdown",
      "metadata": {
        "id": "AZBAgKENw9Xj"
      },
      "source": [
        "🔹  Cuantas columnas y filas tiene el dataframe"
      ]
    },
    {
      "cell_type": "code",
      "metadata": {
        "id": "tDHmFEg3w_BC"
      },
      "source": [
        ""
      ],
      "execution_count": null,
      "outputs": []
    },
    {
      "cell_type": "markdown",
      "metadata": {
        "id": "pM2osz9ObXG8"
      },
      "source": [
        "🔹 Cuantos barrios tiene el dataframe"
      ]
    },
    {
      "cell_type": "code",
      "metadata": {
        "id": "LMiobLwYbVh3"
      },
      "source": [
        ""
      ],
      "execution_count": null,
      "outputs": []
    },
    {
      "cell_type": "markdown",
      "metadata": {
        "id": "p7ZGMLRDxD0a"
      },
      "source": [
        "🔹  Cuantas filas tienen valores nulos"
      ]
    },
    {
      "cell_type": "code",
      "metadata": {
        "id": "5jEQ9jNHJ6QI"
      },
      "source": [
        ""
      ],
      "execution_count": null,
      "outputs": []
    },
    {
      "cell_type": "markdown",
      "metadata": {
        "id": "93zLmgE-ya69"
      },
      "source": [
        "🔹  Retonar las filas que contienen valores nulos"
      ]
    },
    {
      "cell_type": "code",
      "metadata": {
        "id": "_BrzPpKvxFMG"
      },
      "source": [
        ""
      ],
      "execution_count": null,
      "outputs": []
    },
    {
      "cell_type": "code",
      "metadata": {
        "id": "yEZad8qeyE81"
      },
      "source": [
        ""
      ],
      "execution_count": null,
      "outputs": []
    },
    {
      "cell_type": "code",
      "metadata": {
        "id": "6tGxWYMEyRBa"
      },
      "source": [
        "\n"
      ],
      "execution_count": null,
      "outputs": []
    },
    {
      "cell_type": "code",
      "metadata": {
        "id": "Z6dDsaDiyAdr"
      },
      "source": [
        ""
      ],
      "execution_count": null,
      "outputs": []
    },
    {
      "cell_type": "markdown",
      "metadata": {
        "id": "p97lbKfyykxt"
      },
      "source": [
        "🔹  Utilizar una función para poder imprimir alguno de los siguientes valores: cantidad, media, desvio standard, minimo, cuartiles y maximo."
      ]
    },
    {
      "cell_type": "code",
      "metadata": {
        "id": "-5m4Yl-yylOA"
      },
      "source": [
        ""
      ],
      "execution_count": null,
      "outputs": []
    },
    {
      "cell_type": "markdown",
      "metadata": {
        "id": "N4ZX9KZUyzPV"
      },
      "source": [
        "🔹  Imprimir la cantidad de propiedades que hay por barrio"
      ]
    },
    {
      "cell_type": "code",
      "metadata": {
        "id": "6AaMKoZ7y16Q"
      },
      "source": [
        ""
      ],
      "execution_count": null,
      "outputs": []
    },
    {
      "cell_type": "markdown",
      "metadata": {
        "id": "cxRaA3Yiy6Ru"
      },
      "source": [
        "🔹  Generar una variable denominada \"BarrioMax\" con el barrio que posee más propiedades"
      ]
    },
    {
      "cell_type": "code",
      "metadata": {
        "id": "qspBA24Cy5Uq"
      },
      "source": [
        ""
      ],
      "execution_count": null,
      "outputs": []
    },
    {
      "cell_type": "markdown",
      "metadata": {
        "id": "akov3B08zD3t"
      },
      "source": [
        "🔹 Generar una variable denominada \"BarrioMin\" con el barrio que posee más propiedades"
      ]
    },
    {
      "cell_type": "code",
      "metadata": {
        "id": "vXvz8jJRzGMQ"
      },
      "source": [
        ""
      ],
      "execution_count": null,
      "outputs": []
    },
    {
      "cell_type": "markdown",
      "metadata": {
        "id": "nTZ04O0FzSnT"
      },
      "source": [
        "🔹 Generar un dataframe con el barrio que posee más propiedades denominado \"Barriodf\""
      ]
    },
    {
      "cell_type": "code",
      "metadata": {
        "id": "NLayXAMBzQgY"
      },
      "source": [
        ""
      ],
      "execution_count": null,
      "outputs": []
    },
    {
      "cell_type": "markdown",
      "metadata": {
        "id": "j3AlTFBQzg3_"
      },
      "source": [
        "🔹  En base al dataframe generado en el punto anterior, cuantas propiedades hay por tipo de alojamiento"
      ]
    },
    {
      "cell_type": "code",
      "metadata": {
        "id": "C8zlguKezgfO"
      },
      "source": [
        ""
      ],
      "execution_count": null,
      "outputs": []
    },
    {
      "cell_type": "markdown",
      "metadata": {
        "id": "jRnw4Kotzlpz"
      },
      "source": [
        "🔹 En base al dataframe generado con el barrio que tiene mas cantidad de propiedades, imprima la cantidad de propiedades en base a las politicas de cancelación"
      ]
    },
    {
      "cell_type": "code",
      "metadata": {
        "id": "E1el3Q1oznvi"
      },
      "source": [
        ""
      ],
      "execution_count": null,
      "outputs": []
    },
    {
      "cell_type": "markdown",
      "metadata": {
        "id": "aS5mwKPHzua6"
      },
      "source": [
        "🔹 En base al dataframe generado con el barrio que tiene mas cantidad de propiedades, Cual es el rango de precios que hay?"
      ]
    },
    {
      "cell_type": "code",
      "metadata": {
        "id": "juLlK3m7zu-U"
      },
      "source": [
        ""
      ],
      "execution_count": null,
      "outputs": []
    },
    {
      "cell_type": "markdown",
      "metadata": {
        "id": "DgSickrNz9sN"
      },
      "source": [
        "🔹 En base al dataframe generado con el barrio que tiene mas cantidad de propiedades, Cual es el rango intercuartílico de precios que hay?"
      ]
    },
    {
      "cell_type": "code",
      "metadata": {
        "id": "_cBlRsAbz-OH"
      },
      "source": [
        ""
      ],
      "execution_count": null,
      "outputs": []
    },
    {
      "cell_type": "markdown",
      "metadata": {
        "id": "_cGqOZ310JVY"
      },
      "source": [
        "🔹 En base al dataframe generado con el barrio que tiene mas cantidad de propiedades, Calcular los percentiles 20,30,50,70 y 90.-"
      ]
    },
    {
      "cell_type": "code",
      "metadata": {
        "id": "NAoLyDic0MCU"
      },
      "source": [
        ""
      ],
      "execution_count": null,
      "outputs": []
    },
    {
      "cell_type": "code",
      "metadata": {
        "id": "wGNHmdKmQX4-"
      },
      "source": [
        ""
      ],
      "execution_count": null,
      "outputs": []
    },
    {
      "cell_type": "markdown",
      "metadata": {
        "id": "xFOLIgpaQndX"
      },
      "source": [
        "🔹 En base al dataframe generado con el barrio que tiene mas cantidad de propiedades, Imprimir todas las propiedades que tienen un precio superior al percentil 90.-"
      ]
    },
    {
      "cell_type": "code",
      "metadata": {
        "id": "XKOVpDF3PoCn"
      },
      "source": [
        ""
      ],
      "execution_count": null,
      "outputs": []
    },
    {
      "cell_type": "code",
      "metadata": {
        "id": "j7Vl4cz00lRz"
      },
      "source": [
        ""
      ],
      "execution_count": null,
      "outputs": []
    },
    {
      "cell_type": "code",
      "metadata": {
        "id": "gmeAmYMpRiW0"
      },
      "source": [
        ""
      ],
      "execution_count": null,
      "outputs": []
    },
    {
      "cell_type": "markdown",
      "metadata": {
        "id": "mloF8jXQRpXT"
      },
      "source": [
        "🔹 Generar un objeto con los tres barrios que tienen mas propiedades, esta lista se debe denominar \"TresBarrios\""
      ]
    },
    {
      "cell_type": "code",
      "metadata": {
        "id": "QM4KD__RRnEF"
      },
      "source": [
        ""
      ],
      "execution_count": null,
      "outputs": []
    },
    {
      "cell_type": "markdown",
      "metadata": {
        "id": "r8V0CDIrSIji"
      },
      "source": [
        "🔹 Generar un dataframe denominado \"dfTresBarrios\" con los barrios que se encuentran en la lista del punto anterior"
      ]
    },
    {
      "cell_type": "code",
      "metadata": {
        "id": "RNUycCaxSBRt"
      },
      "source": [
        ""
      ],
      "execution_count": null,
      "outputs": []
    },
    {
      "cell_type": "code",
      "metadata": {
        "id": "Tu8mDxQPRvXW"
      },
      "source": [
        ""
      ],
      "execution_count": null,
      "outputs": []
    },
    {
      "cell_type": "markdown",
      "metadata": {
        "id": "56i_fDEZSTNp"
      },
      "source": [
        "🔹 Imprimir un dataframe que contenga todos los alojamiento de tipo \"alojamiento entero\" que sean aptos para más de tres huespedes pero que no se encuentre en los tres barrios con mas propiedades. \n",
        "Asimismo para resguardar la información del anfitrion, retornar todas las columnas menos las: nombre_anfitrion, anfitrion_desde y superanfitrion"
      ]
    },
    {
      "cell_type": "code",
      "metadata": {
        "id": "4L661NsjUW9G"
      },
      "source": [
        ""
      ],
      "execution_count": null,
      "outputs": []
    },
    {
      "cell_type": "markdown",
      "metadata": {
        "id": "PTy2XlcMUsRo"
      },
      "source": [
        "🔹 Realice un dataset con los dos anfitriones que tienen más propiedades en los tres barrios que estan en la lista TresBarrios"
      ]
    },
    {
      "cell_type": "code",
      "metadata": {
        "id": "XvcE4s-3UvWs"
      },
      "source": [
        ""
      ],
      "execution_count": null,
      "outputs": []
    },
    {
      "cell_type": "markdown",
      "metadata": {
        "id": "wmO5NO-aXAsE"
      },
      "source": [
        "🔹 Cuantas propiedades tienen los anfitriones del punto anterior?"
      ]
    },
    {
      "cell_type": "code",
      "metadata": {
        "id": "J0d9VeTXUs2t"
      },
      "source": [
        ""
      ],
      "execution_count": null,
      "outputs": []
    },
    {
      "cell_type": "markdown",
      "metadata": {
        "id": "iJiZWeomXa1T"
      },
      "source": [
        "🔹 Generar un dataframe que contenga dos observaciones correspondientes a los importes maximos de las propiedades de los anfitriones que se retornaron en el punto anterior.\n"
      ]
    },
    {
      "cell_type": "code",
      "metadata": {
        "id": "NxT1HRr5XaQ8"
      },
      "source": [
        ""
      ],
      "execution_count": null,
      "outputs": []
    }
  ]
}