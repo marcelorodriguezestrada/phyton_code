{
  "nbformat": 4,
  "nbformat_minor": 0,
  "metadata": {
    "colab": {
      "name": "01_HR_Analytics.ipynb",
      "provenance": [],
      "collapsed_sections": []
    },
    "kernelspec": {
      "name": "python3",
      "display_name": "Python 3"
    }
  },
  "cells": [
    {
      "cell_type": "markdown",
      "metadata": {
        "id": "OkTxq1mBjMTz"
      },
      "source": [
        " <img src=\"https://eant.tech/imagenes/logo.png\" width=25% height=80%  >"
      ]
    },
    {
      "cell_type": "markdown",
      "metadata": {
        "id": "Sc21Piq5jNmD"
      },
      "source": [
        "## <img src=\"http://icons.iconarchive.com/icons/cornmanthe3rd/plex/256/Other-python-icon.png\" width=\"40\"> Ejercicio HR Analytics 🔎👩🏻‍💼👨🏻‍💼\n",
        "\n",
        "\n",
        "<center>\n",
        "<img src=\"https://www.skuadrarh.com/skuadra/wp-content/uploads/2019/06/reclutamiento_AD-895x430.jpg\" border=\"0\" width=\"70%\" height=\"50%\">\n",
        "\n",
        "source image : [link](https://www.skuadrarh.com/skuadra/5-tips-para-reducir-la-alta-rotacion-de-personal/)\n",
        "\n",
        "</center>\n"
      ]
    },
    {
      "cell_type": "markdown",
      "metadata": {
        "id": "7t4iELTCjYjq"
      },
      "source": [
        "La **rotación de empleados** es un problema costoso para las empresas, ya que el costo real de reemplazar a un empleado a menudo puede ser bastante grande.\n",
        "Un estudio realizado por el [Center for American Progress](https://www.americanprogress.org/wp-content/uploads/2012/11/CostofTurnover.pdf) encontró que las empresas suelen pagar alrededor de una quinta parte del salario de un empleado para reemplazar a ese empleado, y el costo puede aumentar significativamente si los ejecutivos o los empleados mejor pagados deben ser reemplazados.\n",
        "\n",
        "<br>\n",
        "\n",
        "---\n",
        "\n",
        "<br> \n",
        "\n",
        "Realizaremos un analisis de los factores que conducen a la deserción de los empleados, este es un conjunto de datos ficticios creado por científicos de datos de **IBM**.\n",
        "Datos obtenidos: [Kaggle](https://www.kaggle.com/pavansubhasht/ibm-hr-analytics-attrition-dataset)\n",
        "\n",
        "<br>\n",
        "\n",
        "----\n",
        "\n",
        "\n",
        "<br>\n",
        "\n",
        "Las **preguntas** que debemos responder son: \n",
        "* 🔎 ¿Cuáles son los indicadores clave para que un empleado abandone la empresa?\n",
        "* 🔎 ¿Qué estrategias se pueden adoptar en función de los resultados analizados para mejorar la retención de empleados?\n",
        "\n",
        "\n",
        "<br>\n",
        "\n",
        "Mas información sobre algunas varibales del dataset: \n",
        "\n",
        "<br>\n",
        "\n",
        "**`Code`** | **`Education`** | **`EnvironmentSatisfaction`** | **`JobInvolvement`** | **`JobSatisfaction`** | **`PerformanceRating`** | **`RelationshipSatisfaction`** | **`WorkLifeBalance`**\n",
        "--- | --- | --- | --- | ---| ---| ---| ---\n",
        "1 | Below College | Low | Low | Low | Low | Low | Bad\n",
        "2 | College | Medium | Medium | Medium| Good | Medium | Good\n",
        "3 | Bachelor | High | High | High | Excellent | High | Better\n",
        "4 | Master | Very High | Very High | Very High | Outstanding | Very High | Best\n",
        "5 | Doctor | --- | --- | ---| ---| ---| ---\n",
        "\n",
        "\n",
        "<br>\n"
      ]
    },
    {
      "cell_type": "markdown",
      "metadata": {
        "id": "zAJI5Dt7mSAt"
      },
      "source": [
        "🏷️ 1. Importar los paquetes "
      ]
    },
    {
      "cell_type": "code",
      "metadata": {
        "id": "6MlmZp2boKdL"
      },
      "source": [
        "import pandas as pd\n",
        "import seaborn as sns\n",
        "import numpy as np\n",
        "from google.colab import drive\n",
        "import matplotlib.pyplot as plt\n",
        "from datetime import datetime\n",
        "\n",
        "pd.set_option('display.float_format', '{:.2f}'.format)\n"
      ],
      "execution_count": null,
      "outputs": []
    },
    {
      "cell_type": "markdown",
      "metadata": {
        "id": "qy-4bhgETVcM"
      },
      "source": [
        "🏷️ 1. Cargar el dataset \"IBM_Employee.csv\""
      ]
    },
    {
      "cell_type": "code",
      "metadata": {
        "id": "L4ystqggN1fW"
      },
      "source": [
        ""
      ],
      "execution_count": null,
      "outputs": []
    },
    {
      "cell_type": "markdown",
      "metadata": {
        "id": "XrCw7r4iMXwz"
      },
      "source": [
        "🏷️ 2. Imprimir las primeras columnas del dataframe"
      ]
    },
    {
      "cell_type": "code",
      "metadata": {
        "id": "yDqEsGCaFrf8",
        "colab": {
          "base_uri": "https://localhost:8080/",
          "height": 307
        },
        "outputId": "0ec409c2-1dc7-410c-83af-4aee8511f309"
      },
      "source": [
        "df.head()"
      ],
      "execution_count": null,
      "outputs": [
        {
          "output_type": "execute_result",
          "data": {
            "text/html": [
              "<div>\n",
              "<style scoped>\n",
              "    .dataframe tbody tr th:only-of-type {\n",
              "        vertical-align: middle;\n",
              "    }\n",
              "\n",
              "    .dataframe tbody tr th {\n",
              "        vertical-align: top;\n",
              "    }\n",
              "\n",
              "    .dataframe thead th {\n",
              "        text-align: right;\n",
              "    }\n",
              "</style>\n",
              "<table border=\"1\" class=\"dataframe\">\n",
              "  <thead>\n",
              "    <tr style=\"text-align: right;\">\n",
              "      <th></th>\n",
              "      <th>Age</th>\n",
              "      <th>Attrition</th>\n",
              "      <th>BusinessTravel</th>\n",
              "      <th>DailyRate</th>\n",
              "      <th>Department</th>\n",
              "      <th>DistanceFromHome</th>\n",
              "      <th>Education</th>\n",
              "      <th>EducationField</th>\n",
              "      <th>EmployeeCount</th>\n",
              "      <th>EmployeeNumber</th>\n",
              "      <th>EnvironmentSatisfaction</th>\n",
              "      <th>Gender</th>\n",
              "      <th>HourlyRate</th>\n",
              "      <th>JobInvolvement</th>\n",
              "      <th>JobLevel</th>\n",
              "      <th>JobRole</th>\n",
              "      <th>JobSatisfaction</th>\n",
              "      <th>MaritalStatus</th>\n",
              "      <th>MonthlyIncome</th>\n",
              "      <th>MonthlyRate</th>\n",
              "      <th>NumCompaniesWorked</th>\n",
              "      <th>Over18</th>\n",
              "      <th>OverTime</th>\n",
              "      <th>PercentSalaryHike</th>\n",
              "      <th>PerformanceRating</th>\n",
              "      <th>RelationshipSatisfaction</th>\n",
              "      <th>StandardHours</th>\n",
              "      <th>StockOptionLevel</th>\n",
              "      <th>TotalWorkingYears</th>\n",
              "      <th>TrainingTimesLastYear</th>\n",
              "      <th>WorkLifeBalance</th>\n",
              "      <th>YearsAtCompany</th>\n",
              "      <th>YearsInCurrentRole</th>\n",
              "      <th>YearsSinceLastPromotion</th>\n",
              "      <th>YearsWithCurrManager</th>\n",
              "    </tr>\n",
              "  </thead>\n",
              "  <tbody>\n",
              "    <tr>\n",
              "      <th>0</th>\n",
              "      <td>41.00</td>\n",
              "      <td>Yes</td>\n",
              "      <td>Travel_Rarely</td>\n",
              "      <td>1102.00</td>\n",
              "      <td>Sales</td>\n",
              "      <td>1.00</td>\n",
              "      <td>2.00</td>\n",
              "      <td>Life Sciences</td>\n",
              "      <td>1.00</td>\n",
              "      <td>1.00</td>\n",
              "      <td>2.00</td>\n",
              "      <td>Female</td>\n",
              "      <td>94.00</td>\n",
              "      <td>3.00</td>\n",
              "      <td>2.00</td>\n",
              "      <td>Sales Executive</td>\n",
              "      <td>4.00</td>\n",
              "      <td>Single</td>\n",
              "      <td>5993.00</td>\n",
              "      <td>19479.00</td>\n",
              "      <td>8.00</td>\n",
              "      <td>Y</td>\n",
              "      <td>Yes</td>\n",
              "      <td>11.00</td>\n",
              "      <td>3.00</td>\n",
              "      <td>1.00</td>\n",
              "      <td>80.00</td>\n",
              "      <td>0.00</td>\n",
              "      <td>8.00</td>\n",
              "      <td>0.00</td>\n",
              "      <td>1.00</td>\n",
              "      <td>6.00</td>\n",
              "      <td>4.00</td>\n",
              "      <td>0.00</td>\n",
              "      <td>5.00</td>\n",
              "    </tr>\n",
              "    <tr>\n",
              "      <th>1</th>\n",
              "      <td>49.00</td>\n",
              "      <td>No</td>\n",
              "      <td>Travel_Frequently</td>\n",
              "      <td>279.00</td>\n",
              "      <td>Research &amp; Development</td>\n",
              "      <td>8.00</td>\n",
              "      <td>1.00</td>\n",
              "      <td>Life Sciences</td>\n",
              "      <td>1.00</td>\n",
              "      <td>2.00</td>\n",
              "      <td>3.00</td>\n",
              "      <td>Male</td>\n",
              "      <td>61.00</td>\n",
              "      <td>2.00</td>\n",
              "      <td>2.00</td>\n",
              "      <td>Research Scientist</td>\n",
              "      <td>2.00</td>\n",
              "      <td>Married</td>\n",
              "      <td>5130.00</td>\n",
              "      <td>24907.00</td>\n",
              "      <td>1.00</td>\n",
              "      <td>Y</td>\n",
              "      <td>No</td>\n",
              "      <td>23.00</td>\n",
              "      <td>4.00</td>\n",
              "      <td>4.00</td>\n",
              "      <td>80.00</td>\n",
              "      <td>1.00</td>\n",
              "      <td>10.00</td>\n",
              "      <td>3.00</td>\n",
              "      <td>3.00</td>\n",
              "      <td>10.00</td>\n",
              "      <td>7.00</td>\n",
              "      <td>1.00</td>\n",
              "      <td>7.00</td>\n",
              "    </tr>\n",
              "    <tr>\n",
              "      <th>2</th>\n",
              "      <td>37.00</td>\n",
              "      <td>Yes</td>\n",
              "      <td>Travel_Rarely</td>\n",
              "      <td>1373.00</td>\n",
              "      <td>Research &amp; Development</td>\n",
              "      <td>2.00</td>\n",
              "      <td>2.00</td>\n",
              "      <td>Other</td>\n",
              "      <td>1.00</td>\n",
              "      <td>4.00</td>\n",
              "      <td>4.00</td>\n",
              "      <td>Male</td>\n",
              "      <td>92.00</td>\n",
              "      <td>2.00</td>\n",
              "      <td>1.00</td>\n",
              "      <td>Laboratory Technician</td>\n",
              "      <td>3.00</td>\n",
              "      <td>Single</td>\n",
              "      <td>2090.00</td>\n",
              "      <td>2396.00</td>\n",
              "      <td>6.00</td>\n",
              "      <td>Y</td>\n",
              "      <td>Yes</td>\n",
              "      <td>15.00</td>\n",
              "      <td>3.00</td>\n",
              "      <td>2.00</td>\n",
              "      <td>80.00</td>\n",
              "      <td>0.00</td>\n",
              "      <td>7.00</td>\n",
              "      <td>3.00</td>\n",
              "      <td>3.00</td>\n",
              "      <td>0.00</td>\n",
              "      <td>0.00</td>\n",
              "      <td>0.00</td>\n",
              "      <td>0.00</td>\n",
              "    </tr>\n",
              "    <tr>\n",
              "      <th>3</th>\n",
              "      <td>33.00</td>\n",
              "      <td>No</td>\n",
              "      <td>Travel_Frequently</td>\n",
              "      <td>1392.00</td>\n",
              "      <td>Research &amp; Development</td>\n",
              "      <td>3.00</td>\n",
              "      <td>4.00</td>\n",
              "      <td>Life Sciences</td>\n",
              "      <td>1.00</td>\n",
              "      <td>5.00</td>\n",
              "      <td>4.00</td>\n",
              "      <td>Female</td>\n",
              "      <td>56.00</td>\n",
              "      <td>3.00</td>\n",
              "      <td>1.00</td>\n",
              "      <td>Research Scientist</td>\n",
              "      <td>3.00</td>\n",
              "      <td>Married</td>\n",
              "      <td>2909.00</td>\n",
              "      <td>23159.00</td>\n",
              "      <td>1.00</td>\n",
              "      <td>Y</td>\n",
              "      <td>Yes</td>\n",
              "      <td>11.00</td>\n",
              "      <td>3.00</td>\n",
              "      <td>3.00</td>\n",
              "      <td>80.00</td>\n",
              "      <td>0.00</td>\n",
              "      <td>8.00</td>\n",
              "      <td>3.00</td>\n",
              "      <td>3.00</td>\n",
              "      <td>8.00</td>\n",
              "      <td>7.00</td>\n",
              "      <td>3.00</td>\n",
              "      <td>0.00</td>\n",
              "    </tr>\n",
              "    <tr>\n",
              "      <th>4</th>\n",
              "      <td>27.00</td>\n",
              "      <td>No</td>\n",
              "      <td>Travel_Rarely</td>\n",
              "      <td>591.00</td>\n",
              "      <td>Research &amp; Development</td>\n",
              "      <td>2.00</td>\n",
              "      <td>1.00</td>\n",
              "      <td>Medical</td>\n",
              "      <td>1.00</td>\n",
              "      <td>7.00</td>\n",
              "      <td>1.00</td>\n",
              "      <td>Male</td>\n",
              "      <td>40.00</td>\n",
              "      <td>3.00</td>\n",
              "      <td>1.00</td>\n",
              "      <td>Laboratory Technician</td>\n",
              "      <td>2.00</td>\n",
              "      <td>Married</td>\n",
              "      <td>3468.00</td>\n",
              "      <td>16632.00</td>\n",
              "      <td>9.00</td>\n",
              "      <td>Y</td>\n",
              "      <td>No</td>\n",
              "      <td>12.00</td>\n",
              "      <td>3.00</td>\n",
              "      <td>4.00</td>\n",
              "      <td>80.00</td>\n",
              "      <td>1.00</td>\n",
              "      <td>6.00</td>\n",
              "      <td>3.00</td>\n",
              "      <td>3.00</td>\n",
              "      <td>2.00</td>\n",
              "      <td>2.00</td>\n",
              "      <td>2.00</td>\n",
              "      <td>2.00</td>\n",
              "    </tr>\n",
              "  </tbody>\n",
              "</table>\n",
              "</div>"
            ],
            "text/plain": [
              "    Age Attrition  ... YearsSinceLastPromotion  YearsWithCurrManager\n",
              "0 41.00       Yes  ...                    0.00                  5.00\n",
              "1 49.00        No  ...                    1.00                  7.00\n",
              "2 37.00       Yes  ...                    0.00                  0.00\n",
              "3 33.00        No  ...                    3.00                  0.00\n",
              "4 27.00        No  ...                    2.00                  2.00\n",
              "\n",
              "[5 rows x 35 columns]"
            ]
          },
          "metadata": {
            "tags": []
          },
          "execution_count": 12
        }
      ]
    },
    {
      "cell_type": "markdown",
      "metadata": {
        "id": "-lP_I0MjoXW-"
      },
      "source": [
        "🏷️ 3. Imprima cantidad de columnas y filas"
      ]
    },
    {
      "cell_type": "code",
      "metadata": {
        "id": "f9Nuq4M1phWX"
      },
      "source": [
        ""
      ],
      "execution_count": null,
      "outputs": []
    },
    {
      "cell_type": "markdown",
      "metadata": {
        "id": "8dvFy-A3obBB"
      },
      "source": [
        "🏷️ 4. El dataframe contiene valores nulos:\n",
        "\n",
        "* [ ] Si\n",
        "* [ ] No"
      ]
    },
    {
      "cell_type": "code",
      "metadata": {
        "id": "FznLLy3bpnPJ"
      },
      "source": [
        ""
      ],
      "execution_count": null,
      "outputs": []
    },
    {
      "cell_type": "markdown",
      "metadata": {
        "id": "8FQkZ88DndOd"
      },
      "source": [
        "🏷️ 5. En base a la documentación del dataset cuántos empleados abandonaron la compañía."
      ]
    },
    {
      "cell_type": "code",
      "metadata": {
        "id": "Bc9Xd68KoLUE"
      },
      "source": [
        ""
      ],
      "execution_count": null,
      "outputs": []
    },
    {
      "cell_type": "markdown",
      "metadata": {
        "id": "3k8i_Eevnd1D"
      },
      "source": [
        "🏷️ 5. Describa como es el nivel educativo y la edad de los empleados de esta empresa, posteriormente realice un análisis teniendo en cuenta los que abandonaron la empresa y los que aún continúan trabajando en la misma."
      ]
    },
    {
      "cell_type": "code",
      "metadata": {
        "id": "StCaKNiORYh1"
      },
      "source": [
        ""
      ],
      "execution_count": null,
      "outputs": []
    },
    {
      "cell_type": "markdown",
      "metadata": {
        "id": "0OwTxMhcRlXR"
      },
      "source": [
        "🏷️ 6. En base a los datos obtenidos en el paso anterior cual de las siguientes expresiones es verdadera:\n",
        "\n",
        "* [ ] a. La media de la edad de los empleados que renunciaron a la empresa es mayor que los que aun permanecen trabajando.\n",
        "* [ ] b. La media de la edad de los empleados que renunciaron a la empresa es de 25 años.\n",
        "* [ ] c. La media de la edad de los empleados que renunciaron a la empresa es menor que los que aun permanecen trabajando."
      ]
    },
    {
      "cell_type": "markdown",
      "metadata": {
        "id": "shvtMwKOSaWo"
      },
      "source": [
        "🏷️ 7. Realice un plot en la cual se pueda describir como es la edad de los empeados activos vs. los que avandonaron la empresa."
      ]
    },
    {
      "cell_type": "code",
      "metadata": {
        "id": "yuMy7tSuTOu2"
      },
      "source": [
        ""
      ],
      "execution_count": null,
      "outputs": []
    },
    {
      "cell_type": "markdown",
      "metadata": {
        "id": "rmR1z7DtnfAH"
      },
      "source": [
        "🏷️ 8. Cuales son las áreas o departamento que tienen más rotación de  empleados ?\n"
      ]
    },
    {
      "cell_type": "code",
      "metadata": {
        "id": "4YsAXqV9oMqq"
      },
      "source": [
        ""
      ],
      "execution_count": null,
      "outputs": []
    },
    {
      "cell_type": "markdown",
      "metadata": {
        "id": "zuE0eMpWnfcK"
      },
      "source": [
        "🏷️ 9. Evalúe la distribución de los sueldos y deserción de los empleados, que conclusión puede obtener?\n",
        "Asimismo realice un gráfico en el cual se pueda evaluar como son los sueldos que están por debajo del promedio."
      ]
    },
    {
      "cell_type": "code",
      "metadata": {
        "id": "P-cH6PhHoNYb"
      },
      "source": [
        ""
      ],
      "execution_count": null,
      "outputs": []
    },
    {
      "cell_type": "markdown",
      "metadata": {
        "id": "aOh_9GPRngM8"
      },
      "source": [
        "🏷️ 10. Valide si la distancia que los empleados tienen para llegar a sus puestos de trabajo puede ser un factor que genere que los empleados cambien de trabajo."
      ]
    },
    {
      "cell_type": "code",
      "metadata": {
        "id": "cYwr8iB_oOCD"
      },
      "source": [
        ""
      ],
      "execution_count": null,
      "outputs": []
    },
    {
      "cell_type": "markdown",
      "metadata": {
        "id": "yeHonlNjngrr"
      },
      "source": [
        "🏷️ 11. Qué análisis puede realizar sobre la cantidad de años trabajados?"
      ]
    },
    {
      "cell_type": "code",
      "metadata": {
        "id": "21BBdiPUoOkh"
      },
      "source": [
        ""
      ],
      "execution_count": null,
      "outputs": []
    },
    {
      "cell_type": "markdown",
      "metadata": {
        "id": "MnybyGGCnhfw"
      },
      "source": [
        "🏷️ 12. Realice un análisis sobre el sueldo mensual en base a la experiencia que posee el empleado, realizando alguna diferenciación entre los empleados activos y los que ya no trabajan en la empresa."
      ]
    },
    {
      "cell_type": "code",
      "metadata": {
        "id": "5OvpFOPvoPNQ"
      },
      "source": [
        ""
      ],
      "execution_count": null,
      "outputs": []
    },
    {
      "cell_type": "markdown",
      "metadata": {
        "id": "ZNt8kAuvniF2"
      },
      "source": [
        "🏷️ 13. Se afirma que las personas menores a 25 años y solteros son los que más rotación tienen, puede validar esta afirmaciòn y asimismo puede brindar algún dato adicional sobre cual es el departamento que más rotación tiene para este rango de edad y estado civil."
      ]
    },
    {
      "cell_type": "code",
      "metadata": {
        "id": "jb-ckEd1oPy0"
      },
      "source": [
        ""
      ],
      "execution_count": null,
      "outputs": []
    },
    {
      "cell_type": "markdown",
      "metadata": {
        "id": "hbH3Fw1anifo"
      },
      "source": [
        "🏷️ 14. Cuales son las variables categoricas que seleccionaria para realizar un analisis de este dataset.\n",
        "Que conclusiones obtuvo?"
      ]
    },
    {
      "cell_type": "code",
      "metadata": {
        "id": "ZSHlNS4yT817"
      },
      "source": [
        ""
      ],
      "execution_count": null,
      "outputs": []
    }
  ]
}