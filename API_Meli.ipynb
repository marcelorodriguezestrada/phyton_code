{
  "nbformat": 4,
  "nbformat_minor": 0,
  "metadata": {
    "colab": {
      "name": "API_Meli.ipynb",
      "provenance": [],
      "collapsed_sections": []
    },
    "kernelspec": {
      "name": "python3",
      "display_name": "Python 3"
    },
    "language_info": {
      "name": "python"
    }
  },
  "cells": [
    {
      "cell_type": "markdown",
      "metadata": {
        "id": "b19mHh-7E9ZL"
      },
      "source": [
        " <img src=\"https://eant.tech/imagenes/logo.png\" width=25% height=80%  >"
      ]
    },
    {
      "cell_type": "markdown",
      "metadata": {
        "id": "_JuxCcimFHgn"
      },
      "source": [
        "## <img src=\"http://icons.iconarchive.com/icons/cornmanthe3rd/plex/256/Other-python-icon.png\" width=\"40\"> Ejercicio API De Mecardo libre\n",
        "\n",
        "En este ejercicio vamos a realizar el analisis basado en la busqueda de un electrodomestico.\n",
        "Para el desarrollo vamos a utilizar la API publica de **Mercado Libre**, la misma no requiere de autenticación y retorna un numero limitado de busquedas.\n",
        "Para más información puede ingresar al siguiente sitio: https://developers.mercadolibre.com.ar/\n",
        "\n",
        "<br>\n",
        "<center>\n",
        "\n",
        "<img src=\"https://i.ibb.co/qBFZkj9/descarga.png\" alt=\"descarga\" border=\"0\">\n",
        "\n",
        "</center>"
      ]
    },
    {
      "cell_type": "markdown",
      "metadata": {
        "id": "3mk1TZ5IGKKa"
      },
      "source": [
        "🏷️ 1. Importamos los paquetes que vamos a utilizar"
      ]
    },
    {
      "cell_type": "code",
      "metadata": {
        "id": "iXjHkQGfuYDe"
      },
      "source": [
        "import pandas as pd\n",
        "import numpy as np\n",
        "import requests\n",
        "import seaborn as sns\n",
        "import matplotlib.pyplot as plt\n"
      ],
      "execution_count": null,
      "outputs": []
    },
    {
      "cell_type": "markdown",
      "metadata": {
        "id": "63pY9QjXGVEi"
      },
      "source": [
        "🏷️ 2. Vamos a realizar una busqueda de una heladera, por lo cual generar uns variable denominada `search`."
      ]
    },
    {
      "cell_type": "code",
      "metadata": {
        "id": "fwz7v2O_t6BH"
      },
      "source": [
        ""
      ],
      "execution_count": null,
      "outputs": []
    },
    {
      "cell_type": "markdown",
      "metadata": {
        "id": "VrH04vr_Gc5z"
      },
      "source": [
        "🏷️ 3. La siguiente es la url que contiene:\n",
        "* \"q\"= que es la query que se va realizar\n",
        "* \"limit\" que es la cantidad de resultados que se pueden retornar.\n",
        "* \"formato\""
      ]
    },
    {
      "cell_type": "code",
      "metadata": {
        "id": "hcpTeuPSt612"
      },
      "source": [
        "url=f\"\"\"https://api.mercadolibre.com/sites/MLA/search?q={search}&limit=50#json\"\"\""
      ],
      "execution_count": null,
      "outputs": []
    },
    {
      "cell_type": "markdown",
      "metadata": {
        "id": "-TIriwySG6tA"
      },
      "source": [
        "🏷️ 4.Realizamos el llamado a la api con el metodo get"
      ]
    },
    {
      "cell_type": "code",
      "metadata": {
        "id": "07gmmbwAucIe"
      },
      "source": [
        ""
      ],
      "execution_count": null,
      "outputs": []
    },
    {
      "cell_type": "markdown",
      "metadata": {
        "id": "4qxB_DdNHFLa"
      },
      "source": [
        "🏷️ 5. Validamos el estado que nos retorna"
      ]
    },
    {
      "cell_type": "code",
      "metadata": {
        "id": "jS_5Qlxiuf3U"
      },
      "source": [
        ""
      ],
      "execution_count": null,
      "outputs": []
    },
    {
      "cell_type": "markdown",
      "metadata": {
        "id": "IUo0HgZUHLlp"
      },
      "source": [
        "🏷️ 6. Cuantas y cuales son las keys retorna el json"
      ]
    },
    {
      "cell_type": "code",
      "metadata": {
        "id": "oPIjFPVNuhZu"
      },
      "source": [
        ""
      ],
      "execution_count": null,
      "outputs": []
    },
    {
      "cell_type": "code",
      "metadata": {
        "id": "MxNNWVFMuojm"
      },
      "source": [
        ""
      ],
      "execution_count": null,
      "outputs": []
    },
    {
      "cell_type": "markdown",
      "metadata": {
        "id": "rSOrdlf5HYEk"
      },
      "source": [
        "🏷️ 7. Imprimir los valores que contiene las keys site_id,country_default_time_zone y query"
      ]
    },
    {
      "cell_type": "code",
      "metadata": {
        "id": "GJZ9Wp6pvG1v"
      },
      "source": [
        ""
      ],
      "execution_count": null,
      "outputs": []
    },
    {
      "cell_type": "markdown",
      "metadata": {
        "id": "FOvB9jseHjB3"
      },
      "source": [
        "🏷️ 8. Cuantos resultados puede retornar la busqueda?"
      ]
    },
    {
      "cell_type": "code",
      "metadata": {
        "id": "apuBfw3JvZ-S"
      },
      "source": [
        ""
      ],
      "execution_count": null,
      "outputs": []
    },
    {
      "cell_type": "markdown",
      "metadata": {
        "id": "StfJ4F1SHpv7"
      },
      "source": [
        "🏷️ 9. Cual es el tipo de ordenamiento que retorna esta busqueda y cuales son los tipos de de ordenamientos que se podrian utilizar."
      ]
    },
    {
      "cell_type": "code",
      "metadata": {
        "id": "F93Inj69vmNm"
      },
      "source": [
        ""
      ],
      "execution_count": null,
      "outputs": []
    },
    {
      "cell_type": "markdown",
      "metadata": {
        "id": "odYMyOZ5HxTH"
      },
      "source": [
        "🏷️ 10. Generar un dataframe en base a las catrogrias y subcategorias de los porducto."
      ]
    },
    {
      "cell_type": "code",
      "metadata": {
        "id": "q7daVKS_vx1J"
      },
      "source": [
        ""
      ],
      "execution_count": null,
      "outputs": []
    },
    {
      "cell_type": "markdown",
      "metadata": {
        "id": "smcyav3mH8ch"
      },
      "source": [
        "🏷️ 11. Cuantos son los posibles filtros que se pueden consultar?"
      ]
    },
    {
      "cell_type": "code",
      "metadata": {
        "id": "a14TYytywv9T"
      },
      "source": [
        ""
      ],
      "execution_count": null,
      "outputs": []
    },
    {
      "cell_type": "markdown",
      "metadata": {
        "id": "DOb_ZCwJIClZ"
      },
      "source": [
        "🏷️ 12. Imprimir los posibles filtros?"
      ]
    },
    {
      "cell_type": "code",
      "metadata": {
        "id": "e-30PV9AxXK4"
      },
      "source": [
        ""
      ],
      "execution_count": null,
      "outputs": []
    },
    {
      "cell_type": "markdown",
      "metadata": {
        "id": "z59ykdJUIIvK"
      },
      "source": [
        "🏷️ 13. Cuales y cuantas son las tiendas oficiales disponibles, generar un dataframe para su resolución"
      ]
    },
    {
      "cell_type": "code",
      "metadata": {
        "id": "j4vaRaBWxGAm"
      },
      "source": [
        ""
      ],
      "execution_count": null,
      "outputs": []
    },
    {
      "cell_type": "markdown",
      "metadata": {
        "id": "dO6Jhk_uIOBq"
      },
      "source": [
        "🏷️ 14. Generar multiples dataframes con los nombres de cada filtro posible, concatenar \"FILTER_\" a la denominación del dataframe"
      ]
    },
    {
      "cell_type": "code",
      "metadata": {
        "id": "mioOJvzr0ahN"
      },
      "source": [
        ""
      ],
      "execution_count": null,
      "outputs": []
    },
    {
      "cell_type": "markdown",
      "metadata": {
        "id": "f64j0es0IUGK"
      },
      "source": [
        "🏷️ 15. Cuantas marcas posibles encuentra para el producto buscado"
      ]
    },
    {
      "cell_type": "code",
      "metadata": {
        "id": "g8CFncvvzjKL"
      },
      "source": [
        ""
      ],
      "execution_count": null,
      "outputs": []
    },
    {
      "cell_type": "markdown",
      "metadata": {
        "id": "ygGefWL7Ia3f"
      },
      "source": [
        "🏷️ 16. Generar un dataframe con todos los productos de la busqueda"
      ]
    },
    {
      "cell_type": "code",
      "metadata": {
        "id": "TkBeS8-92kBm"
      },
      "source": [
        ""
      ],
      "execution_count": null,
      "outputs": []
    },
    {
      "cell_type": "markdown",
      "metadata": {
        "id": "DZ51J_8jIgSz"
      },
      "source": [
        "🏷️ 17. Cuantos productos y cuantas variables se retornaron"
      ]
    },
    {
      "cell_type": "code",
      "metadata": {
        "id": "MVP6TuQT3wFM"
      },
      "source": [
        ""
      ],
      "execution_count": null,
      "outputs": []
    },
    {
      "cell_type": "markdown",
      "metadata": {
        "id": "jlsfbJdjIm8C"
      },
      "source": [
        "🏷️ 18. Compare los precios entre tiendas oficiales y el resto de los vendedores para los productos nuevos"
      ]
    },
    {
      "cell_type": "code",
      "metadata": {
        "id": "GIUpamnlRjXC"
      },
      "source": [
        ""
      ],
      "execution_count": null,
      "outputs": []
    },
    {
      "cell_type": "markdown",
      "metadata": {
        "id": "syDum4ZbAoTq"
      },
      "source": [
        "🏷️ 19. Cual es el producto que contiene las siguientes caracteristicas:\n",
        "1. Reputacion del venderor de 5 estrellas.\n",
        "2. Producto Nuevo\n",
        "3. Contiene la marca Saumsung\n",
        "5. Que la logitica es proporcionada por Mercado Libre (\"mel\")\n",
        "6. Que la dirección del venderor este en Buenos Aires incluyendo Capital Federal.\n",
        "7. El precio este entre q25 y q50 en base a los datos obtenidos de los filtros anteriores.\n",
        "\n",
        "Posteriormente retorne el producto que tenga el menor precio."
      ]
    },
    {
      "cell_type": "code",
      "metadata": {
        "id": "sRV6tAKeRkJT"
      },
      "source": [
        ""
      ],
      "execution_count": null,
      "outputs": []
    }
  ]
}