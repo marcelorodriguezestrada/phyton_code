{
  "nbformat": 4,
  "nbformat_minor": 0,
  "metadata": {
    "kernelspec": {
      "display_name": "Python 3",
      "language": "python",
      "name": "python3"
    },
    "language_info": {
      "codemirror_mode": {
        "name": "ipython",
        "version": 3
      },
      "file_extension": ".py",
      "mimetype": "text/x-python",
      "name": "python",
      "nbconvert_exporter": "python",
      "pygments_lexer": "ipython3",
      "version": "3.8.3"
    },
    "colab": {
      "name": "Copia de 02-DA-RFM_EJERCICIO.ipynb",
      "provenance": [],
      "collapsed_sections": []
    }
  },
  "cells": [
    {
      "cell_type": "markdown",
      "metadata": {
        "id": "NWBZq6k-XN5x"
      },
      "source": [
        " <img src=\"https://eant.tech/imagenes/logo.png\" width=25% height=80%  >"
      ]
    },
    {
      "cell_type": "markdown",
      "metadata": {
        "id": "FpENy_ffXN51"
      },
      "source": [
        "### <img src=\"http://icons.iconarchive.com/icons/cornmanthe3rd/plex/256/Other-python-icon.png\" width=\"40\"> Ejercicio de App de Delivery 🌮🥧🍽️🛵\n",
        "\n",
        "<br>\n",
        "\n",
        "<center>\n",
        "<img src=\"https://1.bp.blogspot.com/-ogPN3o0yDTs/XrIjkjqacHI/AAAAAAAA994/uu9oVn3dFwMpaexmgP2jN23GW4buxu_0wCLcBGAsYHQ/s640/DELIBERY.png\"  width=\"60%\" alt=\"app\" border=\"1\">\n",
        "</center>\n",
        "  \n",
        "<center>\n",
        "    \n",
        "Source Image:[link](https://1.bp.blogspot.com/-ogPN3o0yDTs/XrIjkjqacHI/AAAAAAAA994/uu9oVn3dFwMpaexmgP2jN23GW4buxu_0wCLcBGAsYHQ/s640/DELIBERY.png)\n",
        "\n",
        "</center>\n",
        "\n",
        "<br>\n",
        "\n",
        "Las aplicaciones para realizar pedidos de comidas, compras en supermercados o solo envios de paquetes ha crecido a nivel mundial.\n",
        "Según datos publicados por [infobae](https://www.infobae.com/inhouse/2019/10/10/el-boom-de-las-apps-de-delivery-como-es-el-consumo-en-la-actualidad/)\n",
        "> \"...9 de cada 10 personas en la Ciudad y el Gran Buenos Aires conocen alguna aplicación y 3 personas la han utilizado en alguna ocasión.\"\n",
        "\n",
        "La utilización de estas 📱aplicaciones se incremento ↗️ en los ultimos dos años pero la primera app fue lanzada hace 10 años.\n",
        "\n",
        "Los jóvenes 👬🏻entre 18 y 34 años son los que más usan las apps.\n",
        "\n",
        "----\n",
        "\n",
        "⚠️ En el siguiente ejercicios vamos a utilizar un dataset con datos simulados sobre compras realizadas por usuarios de una app de delivery"
      ]
    },
    {
      "cell_type": "markdown",
      "metadata": {
        "id": "TpuMMxh9XN52"
      },
      "source": [
        "🏷️ 1.Importar los siguientes librerias\n",
        "\n",
        "Tipo | Nombre | Alias | Descripción\n",
        "--- | --- | --- | ---\n",
        "DataFrames  | pandas | pd | Manipular dataframes\n",
        "DataFrames  | numpy  | pd | Modificar dataframes con arrays\n",
        "Fechas  | datetime |  | Manejo de fechas\n",
        "Visualización  | seaborn | sns | Generación de visualizaciones\n",
        "Visualización  | matplotlib | plt | Generación de visualizaciones\n",
        "Visualización  | squarify | | Generación de visualizaciones\n"
      ]
    },
    {
      "cell_type": "code",
      "metadata": {
        "id": "LAHFV9y4YO_0",
        "colab": {
          "base_uri": "https://localhost:8080/"
        },
        "outputId": "a4d9d2d3-908e-4902-a068-19f999b9c1b5"
      },
      "source": [
        "pip install squarify"
      ],
      "execution_count": 10,
      "outputs": [
        {
          "output_type": "stream",
          "name": "stdout",
          "text": [
            "Collecting squarify\n",
            "  Downloading squarify-0.4.3-py3-none-any.whl (4.3 kB)\n",
            "Installing collected packages: squarify\n",
            "Successfully installed squarify-0.4.3\n"
          ]
        }
      ]
    },
    {
      "cell_type": "code",
      "metadata": {
        "id": "3nu4goQ8XN52"
      },
      "source": [
        "import pandas as pd\n",
        "import numpy as np\n",
        "from datetime import datetime\n",
        "import seaborn as sns\n",
        "import matplotlib.pyplot as plt\n",
        "import squarify\n",
        "\n",
        "\n",
        "pd.set_option('display.max_columns', None) \n",
        "pd.options.display.float_format = '{:.2f}'.format"
      ],
      "execution_count": 11,
      "outputs": []
    },
    {
      "cell_type": "markdown",
      "metadata": {
        "id": "pztiG7sFXN53"
      },
      "source": [
        "🏷️ 2.Importar el archivo de transacciones"
      ]
    },
    {
      "cell_type": "code",
      "metadata": {
        "id": "b1Q6v3fbYS30",
        "colab": {
          "base_uri": "https://localhost:8080/"
        },
        "outputId": "00194353-c0a6-48f6-ae5a-74ce5eb5fb8e"
      },
      "source": [
        "from google.colab import drive \n",
        "drive.mount('/content/gdrive')"
      ],
      "execution_count": 1,
      "outputs": [
        {
          "output_type": "stream",
          "name": "stdout",
          "text": [
            "Mounted at /content/gdrive\n"
          ]
        }
      ]
    },
    {
      "cell_type": "code",
      "metadata": {
        "id": "Ge8aCtWEXN53",
        "colab": {
          "base_uri": "https://localhost:8080/",
          "height": 417
        },
        "outputId": "ced085df-593e-4b5a-92e7-42c67bb8111a"
      },
      "source": [
        "df_transacciones = pd.read_csv(\"/content/gdrive/MyDrive/base_transacciones.csv\", sep = \";\")\n",
        "df_transacciones"
      ],
      "execution_count": 12,
      "outputs": [
        {
          "output_type": "execute_result",
          "data": {
            "text/html": [
              "<div>\n",
              "<style scoped>\n",
              "    .dataframe tbody tr th:only-of-type {\n",
              "        vertical-align: middle;\n",
              "    }\n",
              "\n",
              "    .dataframe tbody tr th {\n",
              "        vertical-align: top;\n",
              "    }\n",
              "\n",
              "    .dataframe thead th {\n",
              "        text-align: right;\n",
              "    }\n",
              "</style>\n",
              "<table border=\"1\" class=\"dataframe\">\n",
              "  <thead>\n",
              "    <tr style=\"text-align: right;\">\n",
              "      <th></th>\n",
              "      <th>Unnamed: 0</th>\n",
              "      <th>ticket_id</th>\n",
              "      <th>fecha_compra</th>\n",
              "      <th>iduser</th>\n",
              "      <th>tipo_delivery</th>\n",
              "      <th>metodo_pago</th>\n",
              "      <th>importe</th>\n",
              "      <th>costos_envio</th>\n",
              "      <th>cupon_desc</th>\n",
              "      <th>cupon_desc_importe</th>\n",
              "    </tr>\n",
              "  </thead>\n",
              "  <tbody>\n",
              "    <tr>\n",
              "      <th>0</th>\n",
              "      <td>0</td>\n",
              "      <td>112312</td>\n",
              "      <td>2020-05-31</td>\n",
              "      <td>112312</td>\n",
              "      <td>Bebidas</td>\n",
              "      <td>Visa</td>\n",
              "      <td>215.00</td>\n",
              "      <td>$45 costo de envío</td>\n",
              "      <td>0</td>\n",
              "      <td>0</td>\n",
              "    </tr>\n",
              "    <tr>\n",
              "      <th>1</th>\n",
              "      <td>1</td>\n",
              "      <td>112313</td>\n",
              "      <td>2020-06-05</td>\n",
              "      <td>112312</td>\n",
              "      <td>Pizzas</td>\n",
              "      <td>Visa</td>\n",
              "      <td>560.00</td>\n",
              "      <td>$69 costo de envío</td>\n",
              "      <td>0</td>\n",
              "      <td>0</td>\n",
              "    </tr>\n",
              "    <tr>\n",
              "      <th>2</th>\n",
              "      <td>2</td>\n",
              "      <td>112314</td>\n",
              "      <td>2020-06-07</td>\n",
              "      <td>112312</td>\n",
              "      <td>Pizzas</td>\n",
              "      <td>Efectivo</td>\n",
              "      <td>296.00</td>\n",
              "      <td>$99 costo de envío</td>\n",
              "      <td>0</td>\n",
              "      <td>0</td>\n",
              "    </tr>\n",
              "    <tr>\n",
              "      <th>3</th>\n",
              "      <td>3</td>\n",
              "      <td>112315</td>\n",
              "      <td>2020-06-08</td>\n",
              "      <td>112312</td>\n",
              "      <td>Postres</td>\n",
              "      <td>Efectivo</td>\n",
              "      <td>257.00</td>\n",
              "      <td>$99 costo de envío</td>\n",
              "      <td>0</td>\n",
              "      <td>0</td>\n",
              "    </tr>\n",
              "    <tr>\n",
              "      <th>4</th>\n",
              "      <td>4</td>\n",
              "      <td>112316</td>\n",
              "      <td>2020-06-09</td>\n",
              "      <td>112312</td>\n",
              "      <td>Pollo</td>\n",
              "      <td>Efectivo</td>\n",
              "      <td>465.00</td>\n",
              "      <td>$45 costo de envío</td>\n",
              "      <td>0</td>\n",
              "      <td>0</td>\n",
              "    </tr>\n",
              "    <tr>\n",
              "      <th>...</th>\n",
              "      <td>...</td>\n",
              "      <td>...</td>\n",
              "      <td>...</td>\n",
              "      <td>...</td>\n",
              "      <td>...</td>\n",
              "      <td>...</td>\n",
              "      <td>...</td>\n",
              "      <td>...</td>\n",
              "      <td>...</td>\n",
              "      <td>...</td>\n",
              "    </tr>\n",
              "    <tr>\n",
              "      <th>223966</th>\n",
              "      <td>223966</td>\n",
              "      <td>434335</td>\n",
              "      <td>2020-10-22</td>\n",
              "      <td>121967</td>\n",
              "      <td>Crepes</td>\n",
              "      <td>Visa</td>\n",
              "      <td>3805.05</td>\n",
              "      <td>Gratis costo de envío</td>\n",
              "      <td>0</td>\n",
              "      <td>0</td>\n",
              "    </tr>\n",
              "    <tr>\n",
              "      <th>223967</th>\n",
              "      <td>223967</td>\n",
              "      <td>434339</td>\n",
              "      <td>2020-10-28</td>\n",
              "      <td>121967</td>\n",
              "      <td>Sopas</td>\n",
              "      <td>Visa</td>\n",
              "      <td>3003.54</td>\n",
              "      <td>Gratis costo de envío</td>\n",
              "      <td>0</td>\n",
              "      <td>0</td>\n",
              "    </tr>\n",
              "    <tr>\n",
              "      <th>223968</th>\n",
              "      <td>223968</td>\n",
              "      <td>434341</td>\n",
              "      <td>2020-10-05</td>\n",
              "      <td>121968</td>\n",
              "      <td>Sopas</td>\n",
              "      <td>Visa</td>\n",
              "      <td>4129.95</td>\n",
              "      <td>Gratis costo de envío</td>\n",
              "      <td>0</td>\n",
              "      <td>0</td>\n",
              "    </tr>\n",
              "    <tr>\n",
              "      <th>223969</th>\n",
              "      <td>223969</td>\n",
              "      <td>434343</td>\n",
              "      <td>2020-08-17</td>\n",
              "      <td>121969</td>\n",
              "      <td>Pizzas</td>\n",
              "      <td>Visa</td>\n",
              "      <td>3576.95</td>\n",
              "      <td>Gratis costo de envío</td>\n",
              "      <td>0</td>\n",
              "      <td>0</td>\n",
              "    </tr>\n",
              "    <tr>\n",
              "      <th>223970</th>\n",
              "      <td>223970</td>\n",
              "      <td>434344</td>\n",
              "      <td>2020-10-10</td>\n",
              "      <td>121969</td>\n",
              "      <td>Sopas</td>\n",
              "      <td>Visa</td>\n",
              "      <td>4317.34</td>\n",
              "      <td>Gratis costo de envío</td>\n",
              "      <td>0</td>\n",
              "      <td>0</td>\n",
              "    </tr>\n",
              "  </tbody>\n",
              "</table>\n",
              "<p>223971 rows × 10 columns</p>\n",
              "</div>"
            ],
            "text/plain": [
              "        Unnamed: 0  ticket_id fecha_compra  iduser tipo_delivery metodo_pago  \\\n",
              "0                0     112312   2020-05-31  112312       Bebidas        Visa   \n",
              "1                1     112313   2020-06-05  112312        Pizzas        Visa   \n",
              "2                2     112314   2020-06-07  112312        Pizzas    Efectivo   \n",
              "3                3     112315   2020-06-08  112312       Postres    Efectivo   \n",
              "4                4     112316   2020-06-09  112312         Pollo    Efectivo   \n",
              "...            ...        ...          ...     ...           ...         ...   \n",
              "223966      223966     434335   2020-10-22  121967        Crepes        Visa   \n",
              "223967      223967     434339   2020-10-28  121967         Sopas        Visa   \n",
              "223968      223968     434341   2020-10-05  121968         Sopas        Visa   \n",
              "223969      223969     434343   2020-08-17  121969        Pizzas        Visa   \n",
              "223970      223970     434344   2020-10-10  121969         Sopas        Visa   \n",
              "\n",
              "        importe           costos_envio  cupon_desc  cupon_desc_importe  \n",
              "0        215.00     $45 costo de envío           0                   0  \n",
              "1        560.00     $69 costo de envío           0                   0  \n",
              "2        296.00     $99 costo de envío           0                   0  \n",
              "3        257.00     $99 costo de envío           0                   0  \n",
              "4        465.00     $45 costo de envío           0                   0  \n",
              "...         ...                    ...         ...                 ...  \n",
              "223966  3805.05  Gratis costo de envío           0                   0  \n",
              "223967  3003.54  Gratis costo de envío           0                   0  \n",
              "223968  4129.95  Gratis costo de envío           0                   0  \n",
              "223969  3576.95  Gratis costo de envío           0                   0  \n",
              "223970  4317.34  Gratis costo de envío           0                   0  \n",
              "\n",
              "[223971 rows x 10 columns]"
            ]
          },
          "metadata": {},
          "execution_count": 12
        }
      ]
    },
    {
      "cell_type": "markdown",
      "metadata": {
        "id": "kAbBbEPWXN53"
      },
      "source": [
        "🏷️ 3. Imprimir cantidad de filas y columnas"
      ]
    },
    {
      "cell_type": "code",
      "metadata": {
        "id": "JhJrR1BUXN54",
        "colab": {
          "base_uri": "https://localhost:8080/"
        },
        "outputId": "9980644e-6bb4-4b0d-e855-4e6a2896ca5e"
      },
      "source": [
        "df_transacciones.shape"
      ],
      "execution_count": 13,
      "outputs": [
        {
          "output_type": "execute_result",
          "data": {
            "text/plain": [
              "(223971, 10)"
            ]
          },
          "metadata": {},
          "execution_count": 13
        }
      ]
    },
    {
      "cell_type": "markdown",
      "metadata": {
        "id": "iLw75aahXN55"
      },
      "source": [
        "🏷️ 4. Imprimir las cinco primeras filas del dataframe"
      ]
    },
    {
      "cell_type": "code",
      "metadata": {
        "id": "99_5j-m1rgbR",
        "colab": {
          "base_uri": "https://localhost:8080/",
          "height": 203
        },
        "outputId": "f87fd0a7-5062-4477-b49d-220294c7b70f"
      },
      "source": [
        "df_transacciones.head()"
      ],
      "execution_count": 14,
      "outputs": [
        {
          "output_type": "execute_result",
          "data": {
            "text/html": [
              "<div>\n",
              "<style scoped>\n",
              "    .dataframe tbody tr th:only-of-type {\n",
              "        vertical-align: middle;\n",
              "    }\n",
              "\n",
              "    .dataframe tbody tr th {\n",
              "        vertical-align: top;\n",
              "    }\n",
              "\n",
              "    .dataframe thead th {\n",
              "        text-align: right;\n",
              "    }\n",
              "</style>\n",
              "<table border=\"1\" class=\"dataframe\">\n",
              "  <thead>\n",
              "    <tr style=\"text-align: right;\">\n",
              "      <th></th>\n",
              "      <th>Unnamed: 0</th>\n",
              "      <th>ticket_id</th>\n",
              "      <th>fecha_compra</th>\n",
              "      <th>iduser</th>\n",
              "      <th>tipo_delivery</th>\n",
              "      <th>metodo_pago</th>\n",
              "      <th>importe</th>\n",
              "      <th>costos_envio</th>\n",
              "      <th>cupon_desc</th>\n",
              "      <th>cupon_desc_importe</th>\n",
              "    </tr>\n",
              "  </thead>\n",
              "  <tbody>\n",
              "    <tr>\n",
              "      <th>0</th>\n",
              "      <td>0</td>\n",
              "      <td>112312</td>\n",
              "      <td>2020-05-31</td>\n",
              "      <td>112312</td>\n",
              "      <td>Bebidas</td>\n",
              "      <td>Visa</td>\n",
              "      <td>215.00</td>\n",
              "      <td>$45 costo de envío</td>\n",
              "      <td>0</td>\n",
              "      <td>0</td>\n",
              "    </tr>\n",
              "    <tr>\n",
              "      <th>1</th>\n",
              "      <td>1</td>\n",
              "      <td>112313</td>\n",
              "      <td>2020-06-05</td>\n",
              "      <td>112312</td>\n",
              "      <td>Pizzas</td>\n",
              "      <td>Visa</td>\n",
              "      <td>560.00</td>\n",
              "      <td>$69 costo de envío</td>\n",
              "      <td>0</td>\n",
              "      <td>0</td>\n",
              "    </tr>\n",
              "    <tr>\n",
              "      <th>2</th>\n",
              "      <td>2</td>\n",
              "      <td>112314</td>\n",
              "      <td>2020-06-07</td>\n",
              "      <td>112312</td>\n",
              "      <td>Pizzas</td>\n",
              "      <td>Efectivo</td>\n",
              "      <td>296.00</td>\n",
              "      <td>$99 costo de envío</td>\n",
              "      <td>0</td>\n",
              "      <td>0</td>\n",
              "    </tr>\n",
              "    <tr>\n",
              "      <th>3</th>\n",
              "      <td>3</td>\n",
              "      <td>112315</td>\n",
              "      <td>2020-06-08</td>\n",
              "      <td>112312</td>\n",
              "      <td>Postres</td>\n",
              "      <td>Efectivo</td>\n",
              "      <td>257.00</td>\n",
              "      <td>$99 costo de envío</td>\n",
              "      <td>0</td>\n",
              "      <td>0</td>\n",
              "    </tr>\n",
              "    <tr>\n",
              "      <th>4</th>\n",
              "      <td>4</td>\n",
              "      <td>112316</td>\n",
              "      <td>2020-06-09</td>\n",
              "      <td>112312</td>\n",
              "      <td>Pollo</td>\n",
              "      <td>Efectivo</td>\n",
              "      <td>465.00</td>\n",
              "      <td>$45 costo de envío</td>\n",
              "      <td>0</td>\n",
              "      <td>0</td>\n",
              "    </tr>\n",
              "  </tbody>\n",
              "</table>\n",
              "</div>"
            ],
            "text/plain": [
              "   Unnamed: 0  ticket_id fecha_compra  iduser tipo_delivery metodo_pago  \\\n",
              "0           0     112312   2020-05-31  112312       Bebidas        Visa   \n",
              "1           1     112313   2020-06-05  112312        Pizzas        Visa   \n",
              "2           2     112314   2020-06-07  112312        Pizzas    Efectivo   \n",
              "3           3     112315   2020-06-08  112312       Postres    Efectivo   \n",
              "4           4     112316   2020-06-09  112312         Pollo    Efectivo   \n",
              "\n",
              "   importe        costos_envio  cupon_desc  cupon_desc_importe  \n",
              "0   215.00  $45 costo de envío           0                   0  \n",
              "1   560.00  $69 costo de envío           0                   0  \n",
              "2   296.00  $99 costo de envío           0                   0  \n",
              "3   257.00  $99 costo de envío           0                   0  \n",
              "4   465.00  $45 costo de envío           0                   0  "
            ]
          },
          "metadata": {},
          "execution_count": 14
        }
      ]
    },
    {
      "cell_type": "markdown",
      "metadata": {
        "id": "5rxlqIAYXN55"
      },
      "source": [
        "🏷️ 5. Borrar la columna denominada \"Unnamed\""
      ]
    },
    {
      "cell_type": "code",
      "metadata": {
        "id": "SUcwnyu7rh2R",
        "colab": {
          "base_uri": "https://localhost:8080/",
          "height": 417
        },
        "outputId": "e68a601b-c8fe-4eca-f79a-efbfa965ed3b"
      },
      "source": [
        "df_transacciones = df_transacciones.drop(columns=(\"Unnamed: 0\"), axis = 1)\n",
        "df_transacciones"
      ],
      "execution_count": 15,
      "outputs": [
        {
          "output_type": "execute_result",
          "data": {
            "text/html": [
              "<div>\n",
              "<style scoped>\n",
              "    .dataframe tbody tr th:only-of-type {\n",
              "        vertical-align: middle;\n",
              "    }\n",
              "\n",
              "    .dataframe tbody tr th {\n",
              "        vertical-align: top;\n",
              "    }\n",
              "\n",
              "    .dataframe thead th {\n",
              "        text-align: right;\n",
              "    }\n",
              "</style>\n",
              "<table border=\"1\" class=\"dataframe\">\n",
              "  <thead>\n",
              "    <tr style=\"text-align: right;\">\n",
              "      <th></th>\n",
              "      <th>ticket_id</th>\n",
              "      <th>fecha_compra</th>\n",
              "      <th>iduser</th>\n",
              "      <th>tipo_delivery</th>\n",
              "      <th>metodo_pago</th>\n",
              "      <th>importe</th>\n",
              "      <th>costos_envio</th>\n",
              "      <th>cupon_desc</th>\n",
              "      <th>cupon_desc_importe</th>\n",
              "    </tr>\n",
              "  </thead>\n",
              "  <tbody>\n",
              "    <tr>\n",
              "      <th>0</th>\n",
              "      <td>112312</td>\n",
              "      <td>2020-05-31</td>\n",
              "      <td>112312</td>\n",
              "      <td>Bebidas</td>\n",
              "      <td>Visa</td>\n",
              "      <td>215.00</td>\n",
              "      <td>$45 costo de envío</td>\n",
              "      <td>0</td>\n",
              "      <td>0</td>\n",
              "    </tr>\n",
              "    <tr>\n",
              "      <th>1</th>\n",
              "      <td>112313</td>\n",
              "      <td>2020-06-05</td>\n",
              "      <td>112312</td>\n",
              "      <td>Pizzas</td>\n",
              "      <td>Visa</td>\n",
              "      <td>560.00</td>\n",
              "      <td>$69 costo de envío</td>\n",
              "      <td>0</td>\n",
              "      <td>0</td>\n",
              "    </tr>\n",
              "    <tr>\n",
              "      <th>2</th>\n",
              "      <td>112314</td>\n",
              "      <td>2020-06-07</td>\n",
              "      <td>112312</td>\n",
              "      <td>Pizzas</td>\n",
              "      <td>Efectivo</td>\n",
              "      <td>296.00</td>\n",
              "      <td>$99 costo de envío</td>\n",
              "      <td>0</td>\n",
              "      <td>0</td>\n",
              "    </tr>\n",
              "    <tr>\n",
              "      <th>3</th>\n",
              "      <td>112315</td>\n",
              "      <td>2020-06-08</td>\n",
              "      <td>112312</td>\n",
              "      <td>Postres</td>\n",
              "      <td>Efectivo</td>\n",
              "      <td>257.00</td>\n",
              "      <td>$99 costo de envío</td>\n",
              "      <td>0</td>\n",
              "      <td>0</td>\n",
              "    </tr>\n",
              "    <tr>\n",
              "      <th>4</th>\n",
              "      <td>112316</td>\n",
              "      <td>2020-06-09</td>\n",
              "      <td>112312</td>\n",
              "      <td>Pollo</td>\n",
              "      <td>Efectivo</td>\n",
              "      <td>465.00</td>\n",
              "      <td>$45 costo de envío</td>\n",
              "      <td>0</td>\n",
              "      <td>0</td>\n",
              "    </tr>\n",
              "    <tr>\n",
              "      <th>...</th>\n",
              "      <td>...</td>\n",
              "      <td>...</td>\n",
              "      <td>...</td>\n",
              "      <td>...</td>\n",
              "      <td>...</td>\n",
              "      <td>...</td>\n",
              "      <td>...</td>\n",
              "      <td>...</td>\n",
              "      <td>...</td>\n",
              "    </tr>\n",
              "    <tr>\n",
              "      <th>223966</th>\n",
              "      <td>434335</td>\n",
              "      <td>2020-10-22</td>\n",
              "      <td>121967</td>\n",
              "      <td>Crepes</td>\n",
              "      <td>Visa</td>\n",
              "      <td>3805.05</td>\n",
              "      <td>Gratis costo de envío</td>\n",
              "      <td>0</td>\n",
              "      <td>0</td>\n",
              "    </tr>\n",
              "    <tr>\n",
              "      <th>223967</th>\n",
              "      <td>434339</td>\n",
              "      <td>2020-10-28</td>\n",
              "      <td>121967</td>\n",
              "      <td>Sopas</td>\n",
              "      <td>Visa</td>\n",
              "      <td>3003.54</td>\n",
              "      <td>Gratis costo de envío</td>\n",
              "      <td>0</td>\n",
              "      <td>0</td>\n",
              "    </tr>\n",
              "    <tr>\n",
              "      <th>223968</th>\n",
              "      <td>434341</td>\n",
              "      <td>2020-10-05</td>\n",
              "      <td>121968</td>\n",
              "      <td>Sopas</td>\n",
              "      <td>Visa</td>\n",
              "      <td>4129.95</td>\n",
              "      <td>Gratis costo de envío</td>\n",
              "      <td>0</td>\n",
              "      <td>0</td>\n",
              "    </tr>\n",
              "    <tr>\n",
              "      <th>223969</th>\n",
              "      <td>434343</td>\n",
              "      <td>2020-08-17</td>\n",
              "      <td>121969</td>\n",
              "      <td>Pizzas</td>\n",
              "      <td>Visa</td>\n",
              "      <td>3576.95</td>\n",
              "      <td>Gratis costo de envío</td>\n",
              "      <td>0</td>\n",
              "      <td>0</td>\n",
              "    </tr>\n",
              "    <tr>\n",
              "      <th>223970</th>\n",
              "      <td>434344</td>\n",
              "      <td>2020-10-10</td>\n",
              "      <td>121969</td>\n",
              "      <td>Sopas</td>\n",
              "      <td>Visa</td>\n",
              "      <td>4317.34</td>\n",
              "      <td>Gratis costo de envío</td>\n",
              "      <td>0</td>\n",
              "      <td>0</td>\n",
              "    </tr>\n",
              "  </tbody>\n",
              "</table>\n",
              "<p>223971 rows × 9 columns</p>\n",
              "</div>"
            ],
            "text/plain": [
              "        ticket_id fecha_compra  iduser tipo_delivery metodo_pago  importe  \\\n",
              "0          112312   2020-05-31  112312       Bebidas        Visa   215.00   \n",
              "1          112313   2020-06-05  112312        Pizzas        Visa   560.00   \n",
              "2          112314   2020-06-07  112312        Pizzas    Efectivo   296.00   \n",
              "3          112315   2020-06-08  112312       Postres    Efectivo   257.00   \n",
              "4          112316   2020-06-09  112312         Pollo    Efectivo   465.00   \n",
              "...           ...          ...     ...           ...         ...      ...   \n",
              "223966     434335   2020-10-22  121967        Crepes        Visa  3805.05   \n",
              "223967     434339   2020-10-28  121967         Sopas        Visa  3003.54   \n",
              "223968     434341   2020-10-05  121968         Sopas        Visa  4129.95   \n",
              "223969     434343   2020-08-17  121969        Pizzas        Visa  3576.95   \n",
              "223970     434344   2020-10-10  121969         Sopas        Visa  4317.34   \n",
              "\n",
              "                 costos_envio  cupon_desc  cupon_desc_importe  \n",
              "0          $45 costo de envío           0                   0  \n",
              "1          $69 costo de envío           0                   0  \n",
              "2          $99 costo de envío           0                   0  \n",
              "3          $99 costo de envío           0                   0  \n",
              "4          $45 costo de envío           0                   0  \n",
              "...                       ...         ...                 ...  \n",
              "223966  Gratis costo de envío           0                   0  \n",
              "223967  Gratis costo de envío           0                   0  \n",
              "223968  Gratis costo de envío           0                   0  \n",
              "223969  Gratis costo de envío           0                   0  \n",
              "223970  Gratis costo de envío           0                   0  \n",
              "\n",
              "[223971 rows x 9 columns]"
            ]
          },
          "metadata": {},
          "execution_count": 15
        }
      ]
    },
    {
      "cell_type": "code",
      "metadata": {
        "id": "fFZh0ICD7mt9"
      },
      "source": [
        ""
      ],
      "execution_count": null,
      "outputs": []
    },
    {
      "cell_type": "markdown",
      "metadata": {
        "id": "tPFQi8L9XN55"
      },
      "source": [
        "🏷️ 6. Utilizar el metodo `describe` sobre la columnas numericas, tener en cuenta de no realizarlo sobre las columnas que contengan ids"
      ]
    },
    {
      "cell_type": "code",
      "metadata": {
        "id": "ni1rEAMCrjCn",
        "colab": {
          "base_uri": "https://localhost:8080/",
          "height": 295
        },
        "outputId": "c1b1f2cf-2f34-4d57-e33a-4de7a474c7d1"
      },
      "source": [
        "df_transacciones.loc[:, ~df_transacciones.columns.isin([\"iduser\", \"ticket_id\"])].describe()"
      ],
      "execution_count": 16,
      "outputs": [
        {
          "output_type": "execute_result",
          "data": {
            "text/html": [
              "<div>\n",
              "<style scoped>\n",
              "    .dataframe tbody tr th:only-of-type {\n",
              "        vertical-align: middle;\n",
              "    }\n",
              "\n",
              "    .dataframe tbody tr th {\n",
              "        vertical-align: top;\n",
              "    }\n",
              "\n",
              "    .dataframe thead th {\n",
              "        text-align: right;\n",
              "    }\n",
              "</style>\n",
              "<table border=\"1\" class=\"dataframe\">\n",
              "  <thead>\n",
              "    <tr style=\"text-align: right;\">\n",
              "      <th></th>\n",
              "      <th>importe</th>\n",
              "      <th>cupon_desc</th>\n",
              "      <th>cupon_desc_importe</th>\n",
              "    </tr>\n",
              "  </thead>\n",
              "  <tbody>\n",
              "    <tr>\n",
              "      <th>count</th>\n",
              "      <td>223971.00</td>\n",
              "      <td>223971.00</td>\n",
              "      <td>223971.00</td>\n",
              "    </tr>\n",
              "    <tr>\n",
              "      <th>mean</th>\n",
              "      <td>1132.63</td>\n",
              "      <td>0.03</td>\n",
              "      <td>6.00</td>\n",
              "    </tr>\n",
              "    <tr>\n",
              "      <th>std</th>\n",
              "      <td>1091.57</td>\n",
              "      <td>0.17</td>\n",
              "      <td>34.82</td>\n",
              "    </tr>\n",
              "    <tr>\n",
              "      <th>min</th>\n",
              "      <td>199.00</td>\n",
              "      <td>0.00</td>\n",
              "      <td>0.00</td>\n",
              "    </tr>\n",
              "    <tr>\n",
              "      <th>25%</th>\n",
              "      <td>485.00</td>\n",
              "      <td>0.00</td>\n",
              "      <td>0.00</td>\n",
              "    </tr>\n",
              "    <tr>\n",
              "      <th>50%</th>\n",
              "      <td>824.09</td>\n",
              "      <td>0.00</td>\n",
              "      <td>0.00</td>\n",
              "    </tr>\n",
              "    <tr>\n",
              "      <th>75%</th>\n",
              "      <td>1195.00</td>\n",
              "      <td>0.00</td>\n",
              "      <td>0.00</td>\n",
              "    </tr>\n",
              "    <tr>\n",
              "      <th>max</th>\n",
              "      <td>7382.00</td>\n",
              "      <td>1.00</td>\n",
              "      <td>250.00</td>\n",
              "    </tr>\n",
              "  </tbody>\n",
              "</table>\n",
              "</div>"
            ],
            "text/plain": [
              "        importe  cupon_desc  cupon_desc_importe\n",
              "count 223971.00   223971.00           223971.00\n",
              "mean    1132.63        0.03                6.00\n",
              "std     1091.57        0.17               34.82\n",
              "min      199.00        0.00                0.00\n",
              "25%      485.00        0.00                0.00\n",
              "50%      824.09        0.00                0.00\n",
              "75%     1195.00        0.00                0.00\n",
              "max     7382.00        1.00              250.00"
            ]
          },
          "metadata": {},
          "execution_count": 16
        }
      ]
    },
    {
      "cell_type": "markdown",
      "metadata": {
        "id": "r5F_2BoVXN56"
      },
      "source": [
        "🏷️ 7. Modificar la columna costos_envio para que la misma se convierta en numérica. Posteriormente utilizar el método describe"
      ]
    },
    {
      "cell_type": "code",
      "metadata": {
        "id": "kXB1XIc29AHf"
      },
      "source": [
        "df_transacciones[\"costos_envio_numerico\"] =  [ 0  if df_transacciones[\"costos_envio\"][i].split(\" \")[0] == \"Gratis\"   else float(df_transacciones[\"costos_envio\"][i].split(\" \")[0].replace(\"$\", \"\"))          for i in range(df_transacciones[\"costos_envio\"].shape[0]) ]"
      ],
      "execution_count": 20,
      "outputs": []
    },
    {
      "cell_type": "code",
      "metadata": {
        "id": "AeO4cDDU9vRO",
        "colab": {
          "base_uri": "https://localhost:8080/",
          "height": 417
        },
        "outputId": "6c9e77ce-35ea-4212-e4f2-68c9d16067db"
      },
      "source": [
        "df_transacciones"
      ],
      "execution_count": 21,
      "outputs": [
        {
          "output_type": "execute_result",
          "data": {
            "text/html": [
              "<div>\n",
              "<style scoped>\n",
              "    .dataframe tbody tr th:only-of-type {\n",
              "        vertical-align: middle;\n",
              "    }\n",
              "\n",
              "    .dataframe tbody tr th {\n",
              "        vertical-align: top;\n",
              "    }\n",
              "\n",
              "    .dataframe thead th {\n",
              "        text-align: right;\n",
              "    }\n",
              "</style>\n",
              "<table border=\"1\" class=\"dataframe\">\n",
              "  <thead>\n",
              "    <tr style=\"text-align: right;\">\n",
              "      <th></th>\n",
              "      <th>ticket_id</th>\n",
              "      <th>fecha_compra</th>\n",
              "      <th>iduser</th>\n",
              "      <th>tipo_delivery</th>\n",
              "      <th>metodo_pago</th>\n",
              "      <th>importe</th>\n",
              "      <th>costos_envio</th>\n",
              "      <th>cupon_desc</th>\n",
              "      <th>cupon_desc_importe</th>\n",
              "      <th>costos_envio_numerico</th>\n",
              "    </tr>\n",
              "  </thead>\n",
              "  <tbody>\n",
              "    <tr>\n",
              "      <th>0</th>\n",
              "      <td>112312</td>\n",
              "      <td>2020-05-31</td>\n",
              "      <td>112312</td>\n",
              "      <td>Bebidas</td>\n",
              "      <td>Visa</td>\n",
              "      <td>215.00</td>\n",
              "      <td>$45 costo de envío</td>\n",
              "      <td>0</td>\n",
              "      <td>0</td>\n",
              "      <td>45.00</td>\n",
              "    </tr>\n",
              "    <tr>\n",
              "      <th>1</th>\n",
              "      <td>112313</td>\n",
              "      <td>2020-06-05</td>\n",
              "      <td>112312</td>\n",
              "      <td>Pizzas</td>\n",
              "      <td>Visa</td>\n",
              "      <td>560.00</td>\n",
              "      <td>$69 costo de envío</td>\n",
              "      <td>0</td>\n",
              "      <td>0</td>\n",
              "      <td>69.00</td>\n",
              "    </tr>\n",
              "    <tr>\n",
              "      <th>2</th>\n",
              "      <td>112314</td>\n",
              "      <td>2020-06-07</td>\n",
              "      <td>112312</td>\n",
              "      <td>Pizzas</td>\n",
              "      <td>Efectivo</td>\n",
              "      <td>296.00</td>\n",
              "      <td>$99 costo de envío</td>\n",
              "      <td>0</td>\n",
              "      <td>0</td>\n",
              "      <td>99.00</td>\n",
              "    </tr>\n",
              "    <tr>\n",
              "      <th>3</th>\n",
              "      <td>112315</td>\n",
              "      <td>2020-06-08</td>\n",
              "      <td>112312</td>\n",
              "      <td>Postres</td>\n",
              "      <td>Efectivo</td>\n",
              "      <td>257.00</td>\n",
              "      <td>$99 costo de envío</td>\n",
              "      <td>0</td>\n",
              "      <td>0</td>\n",
              "      <td>99.00</td>\n",
              "    </tr>\n",
              "    <tr>\n",
              "      <th>4</th>\n",
              "      <td>112316</td>\n",
              "      <td>2020-06-09</td>\n",
              "      <td>112312</td>\n",
              "      <td>Pollo</td>\n",
              "      <td>Efectivo</td>\n",
              "      <td>465.00</td>\n",
              "      <td>$45 costo de envío</td>\n",
              "      <td>0</td>\n",
              "      <td>0</td>\n",
              "      <td>45.00</td>\n",
              "    </tr>\n",
              "    <tr>\n",
              "      <th>...</th>\n",
              "      <td>...</td>\n",
              "      <td>...</td>\n",
              "      <td>...</td>\n",
              "      <td>...</td>\n",
              "      <td>...</td>\n",
              "      <td>...</td>\n",
              "      <td>...</td>\n",
              "      <td>...</td>\n",
              "      <td>...</td>\n",
              "      <td>...</td>\n",
              "    </tr>\n",
              "    <tr>\n",
              "      <th>223966</th>\n",
              "      <td>434335</td>\n",
              "      <td>2020-10-22</td>\n",
              "      <td>121967</td>\n",
              "      <td>Crepes</td>\n",
              "      <td>Visa</td>\n",
              "      <td>3805.05</td>\n",
              "      <td>Gratis costo de envío</td>\n",
              "      <td>0</td>\n",
              "      <td>0</td>\n",
              "      <td>0.00</td>\n",
              "    </tr>\n",
              "    <tr>\n",
              "      <th>223967</th>\n",
              "      <td>434339</td>\n",
              "      <td>2020-10-28</td>\n",
              "      <td>121967</td>\n",
              "      <td>Sopas</td>\n",
              "      <td>Visa</td>\n",
              "      <td>3003.54</td>\n",
              "      <td>Gratis costo de envío</td>\n",
              "      <td>0</td>\n",
              "      <td>0</td>\n",
              "      <td>0.00</td>\n",
              "    </tr>\n",
              "    <tr>\n",
              "      <th>223968</th>\n",
              "      <td>434341</td>\n",
              "      <td>2020-10-05</td>\n",
              "      <td>121968</td>\n",
              "      <td>Sopas</td>\n",
              "      <td>Visa</td>\n",
              "      <td>4129.95</td>\n",
              "      <td>Gratis costo de envío</td>\n",
              "      <td>0</td>\n",
              "      <td>0</td>\n",
              "      <td>0.00</td>\n",
              "    </tr>\n",
              "    <tr>\n",
              "      <th>223969</th>\n",
              "      <td>434343</td>\n",
              "      <td>2020-08-17</td>\n",
              "      <td>121969</td>\n",
              "      <td>Pizzas</td>\n",
              "      <td>Visa</td>\n",
              "      <td>3576.95</td>\n",
              "      <td>Gratis costo de envío</td>\n",
              "      <td>0</td>\n",
              "      <td>0</td>\n",
              "      <td>0.00</td>\n",
              "    </tr>\n",
              "    <tr>\n",
              "      <th>223970</th>\n",
              "      <td>434344</td>\n",
              "      <td>2020-10-10</td>\n",
              "      <td>121969</td>\n",
              "      <td>Sopas</td>\n",
              "      <td>Visa</td>\n",
              "      <td>4317.34</td>\n",
              "      <td>Gratis costo de envío</td>\n",
              "      <td>0</td>\n",
              "      <td>0</td>\n",
              "      <td>0.00</td>\n",
              "    </tr>\n",
              "  </tbody>\n",
              "</table>\n",
              "<p>223971 rows × 10 columns</p>\n",
              "</div>"
            ],
            "text/plain": [
              "        ticket_id fecha_compra  iduser tipo_delivery metodo_pago  importe  \\\n",
              "0          112312   2020-05-31  112312       Bebidas        Visa   215.00   \n",
              "1          112313   2020-06-05  112312        Pizzas        Visa   560.00   \n",
              "2          112314   2020-06-07  112312        Pizzas    Efectivo   296.00   \n",
              "3          112315   2020-06-08  112312       Postres    Efectivo   257.00   \n",
              "4          112316   2020-06-09  112312         Pollo    Efectivo   465.00   \n",
              "...           ...          ...     ...           ...         ...      ...   \n",
              "223966     434335   2020-10-22  121967        Crepes        Visa  3805.05   \n",
              "223967     434339   2020-10-28  121967         Sopas        Visa  3003.54   \n",
              "223968     434341   2020-10-05  121968         Sopas        Visa  4129.95   \n",
              "223969     434343   2020-08-17  121969        Pizzas        Visa  3576.95   \n",
              "223970     434344   2020-10-10  121969         Sopas        Visa  4317.34   \n",
              "\n",
              "                 costos_envio  cupon_desc  cupon_desc_importe  \\\n",
              "0          $45 costo de envío           0                   0   \n",
              "1          $69 costo de envío           0                   0   \n",
              "2          $99 costo de envío           0                   0   \n",
              "3          $99 costo de envío           0                   0   \n",
              "4          $45 costo de envío           0                   0   \n",
              "...                       ...         ...                 ...   \n",
              "223966  Gratis costo de envío           0                   0   \n",
              "223967  Gratis costo de envío           0                   0   \n",
              "223968  Gratis costo de envío           0                   0   \n",
              "223969  Gratis costo de envío           0                   0   \n",
              "223970  Gratis costo de envío           0                   0   \n",
              "\n",
              "        costos_envio_numerico  \n",
              "0                       45.00  \n",
              "1                       69.00  \n",
              "2                       99.00  \n",
              "3                       99.00  \n",
              "4                       45.00  \n",
              "...                       ...  \n",
              "223966                   0.00  \n",
              "223967                   0.00  \n",
              "223968                   0.00  \n",
              "223969                   0.00  \n",
              "223970                   0.00  \n",
              "\n",
              "[223971 rows x 10 columns]"
            ]
          },
          "metadata": {},
          "execution_count": 21
        }
      ]
    },
    {
      "cell_type": "code",
      "metadata": {
        "id": "3dCpZXN2euz4"
      },
      "source": [
        "[0 if i.split(' ')[0] == 'Gratis' else float(i.split(' ')[0].replace('$', '')) for i in df_transacciones['costos_envio']]\n"
      ],
      "execution_count": null,
      "outputs": []
    },
    {
      "cell_type": "code",
      "metadata": {
        "colab": {
          "base_uri": "https://localhost:8080/",
          "height": 295
        },
        "id": "XuPf4ppne_Kb",
        "outputId": "bbfcbdd3-1a3b-4263-9fa2-6543dd1e3abd"
      },
      "source": [
        "df_transacciones.loc[:, ~df_transacciones.columns.str.contains(\"id\")].describe()"
      ],
      "execution_count": 24,
      "outputs": [
        {
          "output_type": "execute_result",
          "data": {
            "text/html": [
              "<div>\n",
              "<style scoped>\n",
              "    .dataframe tbody tr th:only-of-type {\n",
              "        vertical-align: middle;\n",
              "    }\n",
              "\n",
              "    .dataframe tbody tr th {\n",
              "        vertical-align: top;\n",
              "    }\n",
              "\n",
              "    .dataframe thead th {\n",
              "        text-align: right;\n",
              "    }\n",
              "</style>\n",
              "<table border=\"1\" class=\"dataframe\">\n",
              "  <thead>\n",
              "    <tr style=\"text-align: right;\">\n",
              "      <th></th>\n",
              "      <th>importe</th>\n",
              "      <th>cupon_desc</th>\n",
              "      <th>cupon_desc_importe</th>\n",
              "      <th>costos_envio_numerico</th>\n",
              "    </tr>\n",
              "  </thead>\n",
              "  <tbody>\n",
              "    <tr>\n",
              "      <th>count</th>\n",
              "      <td>223971.00</td>\n",
              "      <td>223971.00</td>\n",
              "      <td>223971.00</td>\n",
              "      <td>223971.00</td>\n",
              "    </tr>\n",
              "    <tr>\n",
              "      <th>mean</th>\n",
              "      <td>1132.63</td>\n",
              "      <td>0.03</td>\n",
              "      <td>6.00</td>\n",
              "      <td>51.83</td>\n",
              "    </tr>\n",
              "    <tr>\n",
              "      <th>std</th>\n",
              "      <td>1091.57</td>\n",
              "      <td>0.17</td>\n",
              "      <td>34.82</td>\n",
              "      <td>39.87</td>\n",
              "    </tr>\n",
              "    <tr>\n",
              "      <th>min</th>\n",
              "      <td>199.00</td>\n",
              "      <td>0.00</td>\n",
              "      <td>0.00</td>\n",
              "      <td>0.00</td>\n",
              "    </tr>\n",
              "    <tr>\n",
              "      <th>25%</th>\n",
              "      <td>485.00</td>\n",
              "      <td>0.00</td>\n",
              "      <td>0.00</td>\n",
              "      <td>0.00</td>\n",
              "    </tr>\n",
              "    <tr>\n",
              "      <th>50%</th>\n",
              "      <td>824.09</td>\n",
              "      <td>0.00</td>\n",
              "      <td>0.00</td>\n",
              "      <td>45.00</td>\n",
              "    </tr>\n",
              "    <tr>\n",
              "      <th>75%</th>\n",
              "      <td>1195.00</td>\n",
              "      <td>0.00</td>\n",
              "      <td>0.00</td>\n",
              "      <td>99.00</td>\n",
              "    </tr>\n",
              "    <tr>\n",
              "      <th>max</th>\n",
              "      <td>7382.00</td>\n",
              "      <td>1.00</td>\n",
              "      <td>250.00</td>\n",
              "      <td>139.00</td>\n",
              "    </tr>\n",
              "  </tbody>\n",
              "</table>\n",
              "</div>"
            ],
            "text/plain": [
              "        importe  cupon_desc  cupon_desc_importe  costos_envio_numerico\n",
              "count 223971.00   223971.00           223971.00              223971.00\n",
              "mean    1132.63        0.03                6.00                  51.83\n",
              "std     1091.57        0.17               34.82                  39.87\n",
              "min      199.00        0.00                0.00                   0.00\n",
              "25%      485.00        0.00                0.00                   0.00\n",
              "50%      824.09        0.00                0.00                  45.00\n",
              "75%     1195.00        0.00                0.00                  99.00\n",
              "max     7382.00        1.00              250.00                 139.00"
            ]
          },
          "metadata": {},
          "execution_count": 24
        }
      ]
    },
    {
      "cell_type": "markdown",
      "metadata": {
        "id": "3rmzfGetXN56"
      },
      "source": [
        "🏷️ 8. ¿Cuáles son los métodos de pago más populares?"
      ]
    },
    {
      "cell_type": "code",
      "metadata": {
        "id": "0eWS1CTZrmLs",
        "colab": {
          "base_uri": "https://localhost:8080/"
        },
        "outputId": "b81c4f6c-c81d-43c2-e18a-a4a05967116f"
      },
      "source": [
        "df_transacciones.metodo_pago.value_counts()"
      ],
      "execution_count": 25,
      "outputs": [
        {
          "output_type": "execute_result",
          "data": {
            "text/plain": [
              "Visa                76468\n",
              "Efectivo            53423\n",
              "Mastercard          37432\n",
              "Maestro             16111\n",
              "American Express    13940\n",
              "Visa Electron        9564\n",
              "Tarjeta Naranja      8245\n",
              "Uala                 5093\n",
              "Master Debit         3453\n",
              "VISA_                 242\n",
              "Name: metodo_pago, dtype: int64"
            ]
          },
          "metadata": {},
          "execution_count": 25
        }
      ]
    },
    {
      "cell_type": "markdown",
      "metadata": {
        "id": "GdXaybXIXN57"
      },
      "source": [
        "🏷️ 9. Cree que hay algun metodo de pago que se puede unificar? "
      ]
    },
    {
      "cell_type": "code",
      "metadata": {
        "id": "_aF9NYDLXN57"
      },
      "source": [
        "df_transacciones[\"metodo_pago\"] = np.where(df_transacciones[\"metodo_pago\"] == \"VISA_\", \"Visa\", df_transacciones[\"metodo_pago\"]) "
      ],
      "execution_count": 26,
      "outputs": []
    },
    {
      "cell_type": "code",
      "metadata": {
        "id": "BLxSSJl1-VKB",
        "colab": {
          "base_uri": "https://localhost:8080/"
        },
        "outputId": "a13e16dc-26e9-48ec-931e-14bf1ca3807a"
      },
      "source": [
        "df_transacciones.metodo_pago.value_counts()"
      ],
      "execution_count": 27,
      "outputs": [
        {
          "output_type": "execute_result",
          "data": {
            "text/plain": [
              "Visa                76710\n",
              "Efectivo            53423\n",
              "Mastercard          37432\n",
              "Maestro             16111\n",
              "American Express    13940\n",
              "Visa Electron        9564\n",
              "Tarjeta Naranja      8245\n",
              "Uala                 5093\n",
              "Master Debit         3453\n",
              "Name: metodo_pago, dtype: int64"
            ]
          },
          "metadata": {},
          "execution_count": 27
        }
      ]
    },
    {
      "cell_type": "code",
      "metadata": {
        "id": "fcWTnSVG-aWZ"
      },
      "source": [
        ""
      ],
      "execution_count": null,
      "outputs": []
    },
    {
      "cell_type": "markdown",
      "metadata": {
        "id": "RlefBmc8XN59"
      },
      "source": [
        "🏷️ 10. Importar el archivo con las cotizaciones de dolar"
      ]
    },
    {
      "cell_type": "code",
      "metadata": {
        "id": "ODU9gyEKrrB-",
        "colab": {
          "base_uri": "https://localhost:8080/",
          "height": 417
        },
        "outputId": "eb4a70de-b1e5-46e4-aaa0-0f431e7c1809"
      },
      "source": [
        "df_dolar = pd.read_csv(\"/content/gdrive/MyDrive/cotizaciones.csv\", sep = \";\")\n",
        "df_dolar"
      ],
      "execution_count": 28,
      "outputs": [
        {
          "output_type": "execute_result",
          "data": {
            "text/html": [
              "<div>\n",
              "<style scoped>\n",
              "    .dataframe tbody tr th:only-of-type {\n",
              "        vertical-align: middle;\n",
              "    }\n",
              "\n",
              "    .dataframe tbody tr th {\n",
              "        vertical-align: top;\n",
              "    }\n",
              "\n",
              "    .dataframe thead th {\n",
              "        text-align: right;\n",
              "    }\n",
              "</style>\n",
              "<table border=\"1\" class=\"dataframe\">\n",
              "  <thead>\n",
              "    <tr style=\"text-align: right;\">\n",
              "      <th></th>\n",
              "      <th>Unnamed: 0</th>\n",
              "      <th>fecha</th>\n",
              "      <th>compra</th>\n",
              "      <th>venta</th>\n",
              "    </tr>\n",
              "  </thead>\n",
              "  <tbody>\n",
              "    <tr>\n",
              "      <th>0</th>\n",
              "      <td>0</td>\n",
              "      <td>2021-04-02</td>\n",
              "      <td>90.50</td>\n",
              "      <td>96.50</td>\n",
              "    </tr>\n",
              "    <tr>\n",
              "      <th>1</th>\n",
              "      <td>1</td>\n",
              "      <td>2021-04-01</td>\n",
              "      <td>90.50</td>\n",
              "      <td>96.50</td>\n",
              "    </tr>\n",
              "    <tr>\n",
              "      <th>2</th>\n",
              "      <td>2</td>\n",
              "      <td>2021-03-31</td>\n",
              "      <td>90.50</td>\n",
              "      <td>96.50</td>\n",
              "    </tr>\n",
              "    <tr>\n",
              "      <th>3</th>\n",
              "      <td>3</td>\n",
              "      <td>2021-03-30</td>\n",
              "      <td>90.50</td>\n",
              "      <td>96.50</td>\n",
              "    </tr>\n",
              "    <tr>\n",
              "      <th>4</th>\n",
              "      <td>4</td>\n",
              "      <td>2021-03-29</td>\n",
              "      <td>90.50</td>\n",
              "      <td>96.50</td>\n",
              "    </tr>\n",
              "    <tr>\n",
              "      <th>...</th>\n",
              "      <td>...</td>\n",
              "      <td>...</td>\n",
              "      <td>...</td>\n",
              "      <td>...</td>\n",
              "    </tr>\n",
              "    <tr>\n",
              "      <th>8476</th>\n",
              "      <td>8476</td>\n",
              "      <td>2002-06-21</td>\n",
              "      <td>3.65</td>\n",
              "      <td>3.73</td>\n",
              "    </tr>\n",
              "    <tr>\n",
              "      <th>8477</th>\n",
              "      <td>8477</td>\n",
              "      <td>2002-06-20</td>\n",
              "      <td>3.60</td>\n",
              "      <td>3.80</td>\n",
              "    </tr>\n",
              "    <tr>\n",
              "      <th>8478</th>\n",
              "      <td>8478</td>\n",
              "      <td>2002-06-19</td>\n",
              "      <td>3.58</td>\n",
              "      <td>3.78</td>\n",
              "    </tr>\n",
              "    <tr>\n",
              "      <th>8479</th>\n",
              "      <td>8479</td>\n",
              "      <td>2002-06-18</td>\n",
              "      <td>3.50</td>\n",
              "      <td>3.68</td>\n",
              "    </tr>\n",
              "    <tr>\n",
              "      <th>8480</th>\n",
              "      <td>8480</td>\n",
              "      <td>2002-06-14</td>\n",
              "      <td>3.50</td>\n",
              "      <td>3.65</td>\n",
              "    </tr>\n",
              "  </tbody>\n",
              "</table>\n",
              "<p>8481 rows × 4 columns</p>\n",
              "</div>"
            ],
            "text/plain": [
              "      Unnamed: 0       fecha  compra  venta\n",
              "0              0  2021-04-02   90.50  96.50\n",
              "1              1  2021-04-01   90.50  96.50\n",
              "2              2  2021-03-31   90.50  96.50\n",
              "3              3  2021-03-30   90.50  96.50\n",
              "4              4  2021-03-29   90.50  96.50\n",
              "...          ...         ...     ...    ...\n",
              "8476        8476  2002-06-21    3.65   3.73\n",
              "8477        8477  2002-06-20    3.60   3.80\n",
              "8478        8478  2002-06-19    3.58   3.78\n",
              "8479        8479  2002-06-18    3.50   3.68\n",
              "8480        8480  2002-06-14    3.50   3.65\n",
              "\n",
              "[8481 rows x 4 columns]"
            ]
          },
          "metadata": {},
          "execution_count": 28
        }
      ]
    },
    {
      "cell_type": "markdown",
      "metadata": {
        "id": "xYzqGL06jnTQ"
      },
      "source": [
        "🏷️ 11. Eliminar las columnas Unnamed:0 y compra (ya que la cotización que vamos a utilizar es la de venta)"
      ]
    },
    {
      "cell_type": "code",
      "metadata": {
        "id": "MhbxBB0MrsNG"
      },
      "source": [
        "df_dolar = df_dolar.drop(columns= [\"Unnamed: 0\", \"compra\"], axis = 1)"
      ],
      "execution_count": 29,
      "outputs": []
    },
    {
      "cell_type": "code",
      "metadata": {
        "id": "jUxDBJKS_eet",
        "colab": {
          "base_uri": "https://localhost:8080/",
          "height": 417
        },
        "outputId": "91be8f19-eb7e-4998-cc66-e81814ef2c9e"
      },
      "source": [
        "df_dolar"
      ],
      "execution_count": 30,
      "outputs": [
        {
          "output_type": "execute_result",
          "data": {
            "text/html": [
              "<div>\n",
              "<style scoped>\n",
              "    .dataframe tbody tr th:only-of-type {\n",
              "        vertical-align: middle;\n",
              "    }\n",
              "\n",
              "    .dataframe tbody tr th {\n",
              "        vertical-align: top;\n",
              "    }\n",
              "\n",
              "    .dataframe thead th {\n",
              "        text-align: right;\n",
              "    }\n",
              "</style>\n",
              "<table border=\"1\" class=\"dataframe\">\n",
              "  <thead>\n",
              "    <tr style=\"text-align: right;\">\n",
              "      <th></th>\n",
              "      <th>fecha</th>\n",
              "      <th>venta</th>\n",
              "    </tr>\n",
              "  </thead>\n",
              "  <tbody>\n",
              "    <tr>\n",
              "      <th>0</th>\n",
              "      <td>2021-04-02</td>\n",
              "      <td>96.50</td>\n",
              "    </tr>\n",
              "    <tr>\n",
              "      <th>1</th>\n",
              "      <td>2021-04-01</td>\n",
              "      <td>96.50</td>\n",
              "    </tr>\n",
              "    <tr>\n",
              "      <th>2</th>\n",
              "      <td>2021-03-31</td>\n",
              "      <td>96.50</td>\n",
              "    </tr>\n",
              "    <tr>\n",
              "      <th>3</th>\n",
              "      <td>2021-03-30</td>\n",
              "      <td>96.50</td>\n",
              "    </tr>\n",
              "    <tr>\n",
              "      <th>4</th>\n",
              "      <td>2021-03-29</td>\n",
              "      <td>96.50</td>\n",
              "    </tr>\n",
              "    <tr>\n",
              "      <th>...</th>\n",
              "      <td>...</td>\n",
              "      <td>...</td>\n",
              "    </tr>\n",
              "    <tr>\n",
              "      <th>8476</th>\n",
              "      <td>2002-06-21</td>\n",
              "      <td>3.73</td>\n",
              "    </tr>\n",
              "    <tr>\n",
              "      <th>8477</th>\n",
              "      <td>2002-06-20</td>\n",
              "      <td>3.80</td>\n",
              "    </tr>\n",
              "    <tr>\n",
              "      <th>8478</th>\n",
              "      <td>2002-06-19</td>\n",
              "      <td>3.78</td>\n",
              "    </tr>\n",
              "    <tr>\n",
              "      <th>8479</th>\n",
              "      <td>2002-06-18</td>\n",
              "      <td>3.68</td>\n",
              "    </tr>\n",
              "    <tr>\n",
              "      <th>8480</th>\n",
              "      <td>2002-06-14</td>\n",
              "      <td>3.65</td>\n",
              "    </tr>\n",
              "  </tbody>\n",
              "</table>\n",
              "<p>8481 rows × 2 columns</p>\n",
              "</div>"
            ],
            "text/plain": [
              "           fecha  venta\n",
              "0     2021-04-02  96.50\n",
              "1     2021-04-01  96.50\n",
              "2     2021-03-31  96.50\n",
              "3     2021-03-30  96.50\n",
              "4     2021-03-29  96.50\n",
              "...          ...    ...\n",
              "8476  2002-06-21   3.73\n",
              "8477  2002-06-20   3.80\n",
              "8478  2002-06-19   3.78\n",
              "8479  2002-06-18   3.68\n",
              "8480  2002-06-14   3.65\n",
              "\n",
              "[8481 rows x 2 columns]"
            ]
          },
          "metadata": {},
          "execution_count": 30
        }
      ]
    },
    {
      "cell_type": "code",
      "metadata": {
        "id": "fkMmemNn_pW8"
      },
      "source": [
        ""
      ],
      "execution_count": null,
      "outputs": []
    },
    {
      "cell_type": "markdown",
      "metadata": {
        "id": "8hoXONiQXN5_"
      },
      "source": [
        "🏷️ 12. Convertir en formato datetime la variable fecha"
      ]
    },
    {
      "cell_type": "code",
      "metadata": {
        "id": "s-zXBrHirtOI",
        "colab": {
          "base_uri": "https://localhost:8080/"
        },
        "outputId": "40df0eb2-272a-44f0-fb21-382c91a27eed"
      },
      "source": [
        "df_dolar.info()"
      ],
      "execution_count": 32,
      "outputs": [
        {
          "output_type": "stream",
          "name": "stdout",
          "text": [
            "<class 'pandas.core.frame.DataFrame'>\n",
            "RangeIndex: 8481 entries, 0 to 8480\n",
            "Data columns (total 2 columns):\n",
            " #   Column  Non-Null Count  Dtype  \n",
            "---  ------  --------------  -----  \n",
            " 0   fecha   8481 non-null   object \n",
            " 1   venta   8481 non-null   float64\n",
            "dtypes: float64(1), object(1)\n",
            "memory usage: 132.6+ KB\n"
          ]
        }
      ]
    },
    {
      "cell_type": "code",
      "metadata": {
        "id": "ULJjHYsaAESq"
      },
      "source": [
        "df_dolar[\"fecha\"] = pd.to_datetime(df_dolar[\"fecha\"])"
      ],
      "execution_count": 33,
      "outputs": []
    },
    {
      "cell_type": "code",
      "metadata": {
        "colab": {
          "base_uri": "https://localhost:8080/"
        },
        "id": "yZXLaaq9g3cv",
        "outputId": "831070b6-75bc-456e-b0cc-25e733666e2c"
      },
      "source": [
        "df_dolar.info()"
      ],
      "execution_count": 34,
      "outputs": [
        {
          "output_type": "stream",
          "name": "stdout",
          "text": [
            "<class 'pandas.core.frame.DataFrame'>\n",
            "RangeIndex: 8481 entries, 0 to 8480\n",
            "Data columns (total 2 columns):\n",
            " #   Column  Non-Null Count  Dtype         \n",
            "---  ------  --------------  -----         \n",
            " 0   fecha   8481 non-null   datetime64[ns]\n",
            " 1   venta   8481 non-null   float64       \n",
            "dtypes: datetime64[ns](1), float64(1)\n",
            "memory usage: 132.6 KB\n"
          ]
        }
      ]
    },
    {
      "cell_type": "markdown",
      "metadata": {
        "id": "N8BuVYY-XN5_"
      },
      "source": [
        "🏷️ 13. Las cotizaciones pueden aparecer mas de un registro por dia, por ejemplo el dia 2021-03-29 se informa dos cotizaciones.\n",
        "Por lo cual quedarse con el valor más alto para dicho dia."
      ]
    },
    {
      "cell_type": "code",
      "metadata": {
        "id": "_HGlN8t4ruqc",
        "colab": {
          "base_uri": "https://localhost:8080/",
          "height": 110
        },
        "outputId": "05cc0b82-58ec-42f9-bb33-794bf96e4b8b"
      },
      "source": [
        "df_dolar.loc[df_dolar.fecha == \"2021-03-29\", :]"
      ],
      "execution_count": 35,
      "outputs": [
        {
          "output_type": "execute_result",
          "data": {
            "text/html": [
              "<div>\n",
              "<style scoped>\n",
              "    .dataframe tbody tr th:only-of-type {\n",
              "        vertical-align: middle;\n",
              "    }\n",
              "\n",
              "    .dataframe tbody tr th {\n",
              "        vertical-align: top;\n",
              "    }\n",
              "\n",
              "    .dataframe thead th {\n",
              "        text-align: right;\n",
              "    }\n",
              "</style>\n",
              "<table border=\"1\" class=\"dataframe\">\n",
              "  <thead>\n",
              "    <tr style=\"text-align: right;\">\n",
              "      <th></th>\n",
              "      <th>fecha</th>\n",
              "      <th>venta</th>\n",
              "    </tr>\n",
              "  </thead>\n",
              "  <tbody>\n",
              "    <tr>\n",
              "      <th>4</th>\n",
              "      <td>2021-03-29</td>\n",
              "      <td>96.50</td>\n",
              "    </tr>\n",
              "    <tr>\n",
              "      <th>5</th>\n",
              "      <td>2021-03-29</td>\n",
              "      <td>96.00</td>\n",
              "    </tr>\n",
              "  </tbody>\n",
              "</table>\n",
              "</div>"
            ],
            "text/plain": [
              "       fecha  venta\n",
              "4 2021-03-29  96.50\n",
              "5 2021-03-29  96.00"
            ]
          },
          "metadata": {},
          "execution_count": 35
        }
      ]
    },
    {
      "cell_type": "code",
      "metadata": {
        "id": "yQ4c0jSBBXkv"
      },
      "source": [
        "df_dolar = df_dolar.groupby(\"fecha\", as_index= False).max()"
      ],
      "execution_count": 36,
      "outputs": []
    },
    {
      "cell_type": "code",
      "metadata": {
        "id": "rqHiwk25Bh8G",
        "colab": {
          "base_uri": "https://localhost:8080/",
          "height": 80
        },
        "outputId": "24ee5c03-0fdf-422c-a209-49df726abd9f"
      },
      "source": [
        "df_dolar.loc[df_dolar.fecha == \"2021-03-29\", :]"
      ],
      "execution_count": 37,
      "outputs": [
        {
          "output_type": "execute_result",
          "data": {
            "text/html": [
              "<div>\n",
              "<style scoped>\n",
              "    .dataframe tbody tr th:only-of-type {\n",
              "        vertical-align: middle;\n",
              "    }\n",
              "\n",
              "    .dataframe tbody tr th {\n",
              "        vertical-align: top;\n",
              "    }\n",
              "\n",
              "    .dataframe thead th {\n",
              "        text-align: right;\n",
              "    }\n",
              "</style>\n",
              "<table border=\"1\" class=\"dataframe\">\n",
              "  <thead>\n",
              "    <tr style=\"text-align: right;\">\n",
              "      <th></th>\n",
              "      <th>fecha</th>\n",
              "      <th>venta</th>\n",
              "    </tr>\n",
              "  </thead>\n",
              "  <tbody>\n",
              "    <tr>\n",
              "      <th>6010</th>\n",
              "      <td>2021-03-29</td>\n",
              "      <td>96.50</td>\n",
              "    </tr>\n",
              "  </tbody>\n",
              "</table>\n",
              "</div>"
            ],
            "text/plain": [
              "          fecha  venta\n",
              "6010 2021-03-29  96.50"
            ]
          },
          "metadata": {},
          "execution_count": 37
        }
      ]
    },
    {
      "cell_type": "markdown",
      "metadata": {
        "id": "LXLMqoE-XN6B"
      },
      "source": [
        "### <img src=\"http://icons.iconarchive.com/icons/cornmanthe3rd/plex/256/Other-python-icon.png\" width=\"40\"> Ejercicio Segmentación de clientes 👥 👥 👥\n",
        "\n",
        "Ahora vamos a realizar la segmentación de los clientes en base al modelo de **RFM**, este modelo se utiliza para poder segmentar a los clientes en base a tres variables. La premisa de este modelo es que los clientes a comprar son los que han comprado recientemente con más frecuencia y gastan más dinero.\n",
        "Este modelo se basa en la **Ley de Pareto** o también denominada 80/20 en la cual se refiere a que \"el 80% de las compras las realizan el 20% de los clientes\"\n",
        "\n",
        "\n",
        "<br>\n",
        "\n",
        "<center>\n",
        "<img src=\"https://99designs-start-attachments.imgix.net/alchemy-pictures/2020%2F04%2F02%2F00%2F31%2F13%2Fdcd82545-6a6a-4e0a-9522-08a82492fc29%2Fcustom-business-illustration.png?\" width=\"40%\"  height=\"50%\"\n",
        "     alt=\"RFM\" border=\"1\">\n",
        "\n",
        "</center>\n",
        "\n",
        "<br>\n"
      ]
    },
    {
      "cell_type": "markdown",
      "metadata": {
        "id": "Agsb4OCIXN6B"
      },
      "source": [
        "🏷️ 1. Generar una nueva columna con el importe en dolares.\n",
        "\n",
        "---\n",
        "⚠️ Valide el formato de la variable fechas_compra del dataframe de transacciones"
      ]
    },
    {
      "cell_type": "code",
      "metadata": {
        "id": "4rUGBnwArwdL",
        "colab": {
          "base_uri": "https://localhost:8080/"
        },
        "outputId": "01103a09-5282-4a33-89c5-d20539bf1cdf"
      },
      "source": [
        "df_transacciones.info()"
      ],
      "execution_count": 38,
      "outputs": [
        {
          "output_type": "stream",
          "name": "stdout",
          "text": [
            "<class 'pandas.core.frame.DataFrame'>\n",
            "RangeIndex: 223971 entries, 0 to 223970\n",
            "Data columns (total 10 columns):\n",
            " #   Column                 Non-Null Count   Dtype  \n",
            "---  ------                 --------------   -----  \n",
            " 0   ticket_id              223971 non-null  int64  \n",
            " 1   fecha_compra           223971 non-null  object \n",
            " 2   iduser                 223971 non-null  int64  \n",
            " 3   tipo_delivery          223971 non-null  object \n",
            " 4   metodo_pago            223971 non-null  object \n",
            " 5   importe                223971 non-null  float64\n",
            " 6   costos_envio           223971 non-null  object \n",
            " 7   cupon_desc             223971 non-null  int64  \n",
            " 8   cupon_desc_importe     223971 non-null  int64  \n",
            " 9   costos_envio_numerico  223971 non-null  float64\n",
            "dtypes: float64(2), int64(4), object(4)\n",
            "memory usage: 17.1+ MB\n"
          ]
        }
      ]
    },
    {
      "cell_type": "code",
      "metadata": {
        "id": "k1hh8iPMCNyK"
      },
      "source": [
        "df_transacciones[\"fecha_compra\"] = pd.to_datetime(df_transacciones[\"fecha_compra\"])"
      ],
      "execution_count": 39,
      "outputs": []
    },
    {
      "cell_type": "code",
      "metadata": {
        "id": "zCDTMCW9CEnn",
        "colab": {
          "base_uri": "https://localhost:8080/"
        },
        "outputId": "891300ce-cc33-48c2-fca6-e59e20a38902"
      },
      "source": [
        "df_transacciones.info()"
      ],
      "execution_count": 40,
      "outputs": [
        {
          "output_type": "stream",
          "name": "stdout",
          "text": [
            "<class 'pandas.core.frame.DataFrame'>\n",
            "RangeIndex: 223971 entries, 0 to 223970\n",
            "Data columns (total 10 columns):\n",
            " #   Column                 Non-Null Count   Dtype         \n",
            "---  ------                 --------------   -----         \n",
            " 0   ticket_id              223971 non-null  int64         \n",
            " 1   fecha_compra           223971 non-null  datetime64[ns]\n",
            " 2   iduser                 223971 non-null  int64         \n",
            " 3   tipo_delivery          223971 non-null  object        \n",
            " 4   metodo_pago            223971 non-null  object        \n",
            " 5   importe                223971 non-null  float64       \n",
            " 6   costos_envio           223971 non-null  object        \n",
            " 7   cupon_desc             223971 non-null  int64         \n",
            " 8   cupon_desc_importe     223971 non-null  int64         \n",
            " 9   costos_envio_numerico  223971 non-null  float64       \n",
            "dtypes: datetime64[ns](1), float64(2), int64(4), object(3)\n",
            "memory usage: 17.1+ MB\n"
          ]
        }
      ]
    },
    {
      "cell_type": "code",
      "metadata": {
        "id": "7qGDEEveCUid"
      },
      "source": [
        "df_dolar"
      ],
      "execution_count": null,
      "outputs": []
    },
    {
      "cell_type": "code",
      "metadata": {
        "id": "dYgiUF4eDAo4"
      },
      "source": [
        ""
      ],
      "execution_count": null,
      "outputs": []
    },
    {
      "cell_type": "markdown",
      "metadata": {
        "id": "DxRl2UD-XN6B"
      },
      "source": [
        "🏷️ 2. Generar una variable con el importe en moneda dolar"
      ]
    },
    {
      "cell_type": "code",
      "metadata": {
        "id": "5CXOyPqPrxj8",
        "colab": {
          "base_uri": "https://localhost:8080/",
          "height": 417
        },
        "outputId": "82f294b0-193c-4cc4-80a2-72afe66ec08c"
      },
      "source": [
        "df_merge = df_transacciones.merge(df_dolar, how = \"left\", left_on= \"fecha_compra\", right_on= \"fecha\" )\n",
        "df_merge\n"
      ],
      "execution_count": 42,
      "outputs": [
        {
          "output_type": "execute_result",
          "data": {
            "text/html": [
              "<div>\n",
              "<style scoped>\n",
              "    .dataframe tbody tr th:only-of-type {\n",
              "        vertical-align: middle;\n",
              "    }\n",
              "\n",
              "    .dataframe tbody tr th {\n",
              "        vertical-align: top;\n",
              "    }\n",
              "\n",
              "    .dataframe thead th {\n",
              "        text-align: right;\n",
              "    }\n",
              "</style>\n",
              "<table border=\"1\" class=\"dataframe\">\n",
              "  <thead>\n",
              "    <tr style=\"text-align: right;\">\n",
              "      <th></th>\n",
              "      <th>ticket_id</th>\n",
              "      <th>fecha_compra</th>\n",
              "      <th>iduser</th>\n",
              "      <th>tipo_delivery</th>\n",
              "      <th>metodo_pago</th>\n",
              "      <th>importe</th>\n",
              "      <th>costos_envio</th>\n",
              "      <th>cupon_desc</th>\n",
              "      <th>cupon_desc_importe</th>\n",
              "      <th>costos_envio_numerico</th>\n",
              "      <th>fecha</th>\n",
              "      <th>venta</th>\n",
              "    </tr>\n",
              "  </thead>\n",
              "  <tbody>\n",
              "    <tr>\n",
              "      <th>0</th>\n",
              "      <td>112312</td>\n",
              "      <td>2020-05-31</td>\n",
              "      <td>112312</td>\n",
              "      <td>Bebidas</td>\n",
              "      <td>Visa</td>\n",
              "      <td>215.00</td>\n",
              "      <td>$45 costo de envío</td>\n",
              "      <td>0</td>\n",
              "      <td>0</td>\n",
              "      <td>45.00</td>\n",
              "      <td>2020-05-31</td>\n",
              "      <td>71.00</td>\n",
              "    </tr>\n",
              "    <tr>\n",
              "      <th>1</th>\n",
              "      <td>112313</td>\n",
              "      <td>2020-06-05</td>\n",
              "      <td>112312</td>\n",
              "      <td>Pizzas</td>\n",
              "      <td>Visa</td>\n",
              "      <td>560.00</td>\n",
              "      <td>$69 costo de envío</td>\n",
              "      <td>0</td>\n",
              "      <td>0</td>\n",
              "      <td>69.00</td>\n",
              "      <td>2020-06-05</td>\n",
              "      <td>71.30</td>\n",
              "    </tr>\n",
              "    <tr>\n",
              "      <th>2</th>\n",
              "      <td>112314</td>\n",
              "      <td>2020-06-07</td>\n",
              "      <td>112312</td>\n",
              "      <td>Pizzas</td>\n",
              "      <td>Efectivo</td>\n",
              "      <td>296.00</td>\n",
              "      <td>$99 costo de envío</td>\n",
              "      <td>0</td>\n",
              "      <td>0</td>\n",
              "      <td>99.00</td>\n",
              "      <td>2020-06-07</td>\n",
              "      <td>71.30</td>\n",
              "    </tr>\n",
              "    <tr>\n",
              "      <th>3</th>\n",
              "      <td>112315</td>\n",
              "      <td>2020-06-08</td>\n",
              "      <td>112312</td>\n",
              "      <td>Postres</td>\n",
              "      <td>Efectivo</td>\n",
              "      <td>257.00</td>\n",
              "      <td>$99 costo de envío</td>\n",
              "      <td>0</td>\n",
              "      <td>0</td>\n",
              "      <td>99.00</td>\n",
              "      <td>2020-06-08</td>\n",
              "      <td>71.30</td>\n",
              "    </tr>\n",
              "    <tr>\n",
              "      <th>4</th>\n",
              "      <td>112316</td>\n",
              "      <td>2020-06-09</td>\n",
              "      <td>112312</td>\n",
              "      <td>Pollo</td>\n",
              "      <td>Efectivo</td>\n",
              "      <td>465.00</td>\n",
              "      <td>$45 costo de envío</td>\n",
              "      <td>0</td>\n",
              "      <td>0</td>\n",
              "      <td>45.00</td>\n",
              "      <td>2020-06-09</td>\n",
              "      <td>71.30</td>\n",
              "    </tr>\n",
              "    <tr>\n",
              "      <th>...</th>\n",
              "      <td>...</td>\n",
              "      <td>...</td>\n",
              "      <td>...</td>\n",
              "      <td>...</td>\n",
              "      <td>...</td>\n",
              "      <td>...</td>\n",
              "      <td>...</td>\n",
              "      <td>...</td>\n",
              "      <td>...</td>\n",
              "      <td>...</td>\n",
              "      <td>...</td>\n",
              "      <td>...</td>\n",
              "    </tr>\n",
              "    <tr>\n",
              "      <th>223966</th>\n",
              "      <td>434335</td>\n",
              "      <td>2020-10-22</td>\n",
              "      <td>121967</td>\n",
              "      <td>Crepes</td>\n",
              "      <td>Visa</td>\n",
              "      <td>3805.05</td>\n",
              "      <td>Gratis costo de envío</td>\n",
              "      <td>0</td>\n",
              "      <td>0</td>\n",
              "      <td>0.00</td>\n",
              "      <td>2020-10-22</td>\n",
              "      <td>79.00</td>\n",
              "    </tr>\n",
              "    <tr>\n",
              "      <th>223967</th>\n",
              "      <td>434339</td>\n",
              "      <td>2020-10-28</td>\n",
              "      <td>121967</td>\n",
              "      <td>Sopas</td>\n",
              "      <td>Visa</td>\n",
              "      <td>3003.54</td>\n",
              "      <td>Gratis costo de envío</td>\n",
              "      <td>0</td>\n",
              "      <td>0</td>\n",
              "      <td>0.00</td>\n",
              "      <td>2020-10-28</td>\n",
              "      <td>81.12</td>\n",
              "    </tr>\n",
              "    <tr>\n",
              "      <th>223968</th>\n",
              "      <td>434341</td>\n",
              "      <td>2020-10-05</td>\n",
              "      <td>121968</td>\n",
              "      <td>Sopas</td>\n",
              "      <td>Visa</td>\n",
              "      <td>4129.95</td>\n",
              "      <td>Gratis costo de envío</td>\n",
              "      <td>0</td>\n",
              "      <td>0</td>\n",
              "      <td>0.00</td>\n",
              "      <td>2020-10-05</td>\n",
              "      <td>79.00</td>\n",
              "    </tr>\n",
              "    <tr>\n",
              "      <th>223969</th>\n",
              "      <td>434343</td>\n",
              "      <td>2020-08-17</td>\n",
              "      <td>121969</td>\n",
              "      <td>Pizzas</td>\n",
              "      <td>Visa</td>\n",
              "      <td>3576.95</td>\n",
              "      <td>Gratis costo de envío</td>\n",
              "      <td>0</td>\n",
              "      <td>0</td>\n",
              "      <td>0.00</td>\n",
              "      <td>2020-08-17</td>\n",
              "      <td>77.00</td>\n",
              "    </tr>\n",
              "    <tr>\n",
              "      <th>223970</th>\n",
              "      <td>434344</td>\n",
              "      <td>2020-10-10</td>\n",
              "      <td>121969</td>\n",
              "      <td>Sopas</td>\n",
              "      <td>Visa</td>\n",
              "      <td>4317.34</td>\n",
              "      <td>Gratis costo de envío</td>\n",
              "      <td>0</td>\n",
              "      <td>0</td>\n",
              "      <td>0.00</td>\n",
              "      <td>2020-10-10</td>\n",
              "      <td>79.00</td>\n",
              "    </tr>\n",
              "  </tbody>\n",
              "</table>\n",
              "<p>223971 rows × 12 columns</p>\n",
              "</div>"
            ],
            "text/plain": [
              "        ticket_id fecha_compra  iduser tipo_delivery metodo_pago  importe  \\\n",
              "0          112312   2020-05-31  112312       Bebidas        Visa   215.00   \n",
              "1          112313   2020-06-05  112312        Pizzas        Visa   560.00   \n",
              "2          112314   2020-06-07  112312        Pizzas    Efectivo   296.00   \n",
              "3          112315   2020-06-08  112312       Postres    Efectivo   257.00   \n",
              "4          112316   2020-06-09  112312         Pollo    Efectivo   465.00   \n",
              "...           ...          ...     ...           ...         ...      ...   \n",
              "223966     434335   2020-10-22  121967        Crepes        Visa  3805.05   \n",
              "223967     434339   2020-10-28  121967         Sopas        Visa  3003.54   \n",
              "223968     434341   2020-10-05  121968         Sopas        Visa  4129.95   \n",
              "223969     434343   2020-08-17  121969        Pizzas        Visa  3576.95   \n",
              "223970     434344   2020-10-10  121969         Sopas        Visa  4317.34   \n",
              "\n",
              "                 costos_envio  cupon_desc  cupon_desc_importe  \\\n",
              "0          $45 costo de envío           0                   0   \n",
              "1          $69 costo de envío           0                   0   \n",
              "2          $99 costo de envío           0                   0   \n",
              "3          $99 costo de envío           0                   0   \n",
              "4          $45 costo de envío           0                   0   \n",
              "...                       ...         ...                 ...   \n",
              "223966  Gratis costo de envío           0                   0   \n",
              "223967  Gratis costo de envío           0                   0   \n",
              "223968  Gratis costo de envío           0                   0   \n",
              "223969  Gratis costo de envío           0                   0   \n",
              "223970  Gratis costo de envío           0                   0   \n",
              "\n",
              "        costos_envio_numerico      fecha  venta  \n",
              "0                       45.00 2020-05-31  71.00  \n",
              "1                       69.00 2020-06-05  71.30  \n",
              "2                       99.00 2020-06-07  71.30  \n",
              "3                       99.00 2020-06-08  71.30  \n",
              "4                       45.00 2020-06-09  71.30  \n",
              "...                       ...        ...    ...  \n",
              "223966                   0.00 2020-10-22  79.00  \n",
              "223967                   0.00 2020-10-28  81.12  \n",
              "223968                   0.00 2020-10-05  79.00  \n",
              "223969                   0.00 2020-08-17  77.00  \n",
              "223970                   0.00 2020-10-10  79.00  \n",
              "\n",
              "[223971 rows x 12 columns]"
            ]
          },
          "metadata": {},
          "execution_count": 42
        }
      ]
    },
    {
      "cell_type": "code",
      "metadata": {
        "colab": {
          "base_uri": "https://localhost:8080/",
          "height": 110
        },
        "id": "_X9CldTZkpZq",
        "outputId": "0b8318dc-b493-4c62-c66d-8283a7c644df"
      },
      "source": [
        "df_merge[\"importe_dolares\"] = df_merge[\"importe\"]/df_merge[\"venta\"]\n",
        "df_merge.head(2)"
      ],
      "execution_count": 43,
      "outputs": [
        {
          "output_type": "execute_result",
          "data": {
            "text/html": [
              "<div>\n",
              "<style scoped>\n",
              "    .dataframe tbody tr th:only-of-type {\n",
              "        vertical-align: middle;\n",
              "    }\n",
              "\n",
              "    .dataframe tbody tr th {\n",
              "        vertical-align: top;\n",
              "    }\n",
              "\n",
              "    .dataframe thead th {\n",
              "        text-align: right;\n",
              "    }\n",
              "</style>\n",
              "<table border=\"1\" class=\"dataframe\">\n",
              "  <thead>\n",
              "    <tr style=\"text-align: right;\">\n",
              "      <th></th>\n",
              "      <th>ticket_id</th>\n",
              "      <th>fecha_compra</th>\n",
              "      <th>iduser</th>\n",
              "      <th>tipo_delivery</th>\n",
              "      <th>metodo_pago</th>\n",
              "      <th>importe</th>\n",
              "      <th>costos_envio</th>\n",
              "      <th>cupon_desc</th>\n",
              "      <th>cupon_desc_importe</th>\n",
              "      <th>costos_envio_numerico</th>\n",
              "      <th>fecha</th>\n",
              "      <th>venta</th>\n",
              "      <th>importe_dolares</th>\n",
              "    </tr>\n",
              "  </thead>\n",
              "  <tbody>\n",
              "    <tr>\n",
              "      <th>0</th>\n",
              "      <td>112312</td>\n",
              "      <td>2020-05-31</td>\n",
              "      <td>112312</td>\n",
              "      <td>Bebidas</td>\n",
              "      <td>Visa</td>\n",
              "      <td>215.00</td>\n",
              "      <td>$45 costo de envío</td>\n",
              "      <td>0</td>\n",
              "      <td>0</td>\n",
              "      <td>45.00</td>\n",
              "      <td>2020-05-31</td>\n",
              "      <td>71.00</td>\n",
              "      <td>3.03</td>\n",
              "    </tr>\n",
              "    <tr>\n",
              "      <th>1</th>\n",
              "      <td>112313</td>\n",
              "      <td>2020-06-05</td>\n",
              "      <td>112312</td>\n",
              "      <td>Pizzas</td>\n",
              "      <td>Visa</td>\n",
              "      <td>560.00</td>\n",
              "      <td>$69 costo de envío</td>\n",
              "      <td>0</td>\n",
              "      <td>0</td>\n",
              "      <td>69.00</td>\n",
              "      <td>2020-06-05</td>\n",
              "      <td>71.30</td>\n",
              "      <td>7.85</td>\n",
              "    </tr>\n",
              "  </tbody>\n",
              "</table>\n",
              "</div>"
            ],
            "text/plain": [
              "   ticket_id fecha_compra  iduser tipo_delivery metodo_pago  importe  \\\n",
              "0     112312   2020-05-31  112312       Bebidas        Visa   215.00   \n",
              "1     112313   2020-06-05  112312        Pizzas        Visa   560.00   \n",
              "\n",
              "         costos_envio  cupon_desc  cupon_desc_importe  costos_envio_numerico  \\\n",
              "0  $45 costo de envío           0                   0                  45.00   \n",
              "1  $69 costo de envío           0                   0                  69.00   \n",
              "\n",
              "       fecha  venta  importe_dolares  \n",
              "0 2020-05-31  71.00             3.03  \n",
              "1 2020-06-05  71.30             7.85  "
            ]
          },
          "metadata": {},
          "execution_count": 43
        }
      ]
    },
    {
      "cell_type": "markdown",
      "metadata": {
        "id": "HCLMkECGXN6C"
      },
      "source": [
        "\n",
        "<br>\n",
        "\n",
        "<center>\n",
        "<img src=\"https://i.ibb.co/c2w4kRy/Fruity-Icons-Gift-Certificate.png\" width=\"70%\"  height=\"50%\"\n",
        "     alt=\"RFM\" border=\"1\">\n",
        "\n",
        "</center>\n",
        "\n",
        "<br>\n",
        "\n"
      ]
    },
    {
      "cell_type": "markdown",
      "metadata": {
        "id": "O3sFieI8XN6C"
      },
      "source": [
        "🏷️ 3. Realizar el calculo de las variables que son necesarias para el calculo del **`RFM`**\n",
        "\n",
        "---\n",
        "Para el calculo de `Recency` tener en cuenta que la fecha del ultimo día es 31-10-2020\n"
      ]
    },
    {
      "cell_type": "code",
      "metadata": {
        "id": "OOqpDhiUry9S",
        "colab": {
          "base_uri": "https://localhost:8080/"
        },
        "outputId": "01527d41-5f7a-4629-a572-9b3ad4d7a419"
      },
      "source": [
        "ultimo_dia = datetime(2020, 10, 31)\n",
        "ultimo_dia"
      ],
      "execution_count": 44,
      "outputs": [
        {
          "output_type": "execute_result",
          "data": {
            "text/plain": [
              "datetime.datetime(2020, 10, 31, 0, 0)"
            ]
          },
          "metadata": {},
          "execution_count": 44
        }
      ]
    },
    {
      "cell_type": "code",
      "metadata": {
        "id": "3Iu6iIFlEGsL"
      },
      "source": [
        "df_merge[\"antiguedad\"] = ultimo_dia - df_merge[\"fecha_compra\"]"
      ],
      "execution_count": 45,
      "outputs": []
    },
    {
      "cell_type": "code",
      "metadata": {
        "id": "sPqG2vThFmYA",
        "colab": {
          "base_uri": "https://localhost:8080/",
          "height": 287
        },
        "outputId": "5a9ca21b-b2f8-44dd-e40b-b4e55739c15b"
      },
      "source": [
        "df_merge.head()"
      ],
      "execution_count": 46,
      "outputs": [
        {
          "output_type": "execute_result",
          "data": {
            "text/html": [
              "<div>\n",
              "<style scoped>\n",
              "    .dataframe tbody tr th:only-of-type {\n",
              "        vertical-align: middle;\n",
              "    }\n",
              "\n",
              "    .dataframe tbody tr th {\n",
              "        vertical-align: top;\n",
              "    }\n",
              "\n",
              "    .dataframe thead th {\n",
              "        text-align: right;\n",
              "    }\n",
              "</style>\n",
              "<table border=\"1\" class=\"dataframe\">\n",
              "  <thead>\n",
              "    <tr style=\"text-align: right;\">\n",
              "      <th></th>\n",
              "      <th>ticket_id</th>\n",
              "      <th>fecha_compra</th>\n",
              "      <th>iduser</th>\n",
              "      <th>tipo_delivery</th>\n",
              "      <th>metodo_pago</th>\n",
              "      <th>importe</th>\n",
              "      <th>costos_envio</th>\n",
              "      <th>cupon_desc</th>\n",
              "      <th>cupon_desc_importe</th>\n",
              "      <th>costos_envio_numerico</th>\n",
              "      <th>fecha</th>\n",
              "      <th>venta</th>\n",
              "      <th>importe_dolares</th>\n",
              "      <th>antiguedad</th>\n",
              "    </tr>\n",
              "  </thead>\n",
              "  <tbody>\n",
              "    <tr>\n",
              "      <th>0</th>\n",
              "      <td>112312</td>\n",
              "      <td>2020-05-31</td>\n",
              "      <td>112312</td>\n",
              "      <td>Bebidas</td>\n",
              "      <td>Visa</td>\n",
              "      <td>215.00</td>\n",
              "      <td>$45 costo de envío</td>\n",
              "      <td>0</td>\n",
              "      <td>0</td>\n",
              "      <td>45.00</td>\n",
              "      <td>2020-05-31</td>\n",
              "      <td>71.00</td>\n",
              "      <td>3.03</td>\n",
              "      <td>153 days</td>\n",
              "    </tr>\n",
              "    <tr>\n",
              "      <th>1</th>\n",
              "      <td>112313</td>\n",
              "      <td>2020-06-05</td>\n",
              "      <td>112312</td>\n",
              "      <td>Pizzas</td>\n",
              "      <td>Visa</td>\n",
              "      <td>560.00</td>\n",
              "      <td>$69 costo de envío</td>\n",
              "      <td>0</td>\n",
              "      <td>0</td>\n",
              "      <td>69.00</td>\n",
              "      <td>2020-06-05</td>\n",
              "      <td>71.30</td>\n",
              "      <td>7.85</td>\n",
              "      <td>148 days</td>\n",
              "    </tr>\n",
              "    <tr>\n",
              "      <th>2</th>\n",
              "      <td>112314</td>\n",
              "      <td>2020-06-07</td>\n",
              "      <td>112312</td>\n",
              "      <td>Pizzas</td>\n",
              "      <td>Efectivo</td>\n",
              "      <td>296.00</td>\n",
              "      <td>$99 costo de envío</td>\n",
              "      <td>0</td>\n",
              "      <td>0</td>\n",
              "      <td>99.00</td>\n",
              "      <td>2020-06-07</td>\n",
              "      <td>71.30</td>\n",
              "      <td>4.15</td>\n",
              "      <td>146 days</td>\n",
              "    </tr>\n",
              "    <tr>\n",
              "      <th>3</th>\n",
              "      <td>112315</td>\n",
              "      <td>2020-06-08</td>\n",
              "      <td>112312</td>\n",
              "      <td>Postres</td>\n",
              "      <td>Efectivo</td>\n",
              "      <td>257.00</td>\n",
              "      <td>$99 costo de envío</td>\n",
              "      <td>0</td>\n",
              "      <td>0</td>\n",
              "      <td>99.00</td>\n",
              "      <td>2020-06-08</td>\n",
              "      <td>71.30</td>\n",
              "      <td>3.60</td>\n",
              "      <td>145 days</td>\n",
              "    </tr>\n",
              "    <tr>\n",
              "      <th>4</th>\n",
              "      <td>112316</td>\n",
              "      <td>2020-06-09</td>\n",
              "      <td>112312</td>\n",
              "      <td>Pollo</td>\n",
              "      <td>Efectivo</td>\n",
              "      <td>465.00</td>\n",
              "      <td>$45 costo de envío</td>\n",
              "      <td>0</td>\n",
              "      <td>0</td>\n",
              "      <td>45.00</td>\n",
              "      <td>2020-06-09</td>\n",
              "      <td>71.30</td>\n",
              "      <td>6.52</td>\n",
              "      <td>144 days</td>\n",
              "    </tr>\n",
              "  </tbody>\n",
              "</table>\n",
              "</div>"
            ],
            "text/plain": [
              "   ticket_id fecha_compra  iduser tipo_delivery metodo_pago  importe  \\\n",
              "0     112312   2020-05-31  112312       Bebidas        Visa   215.00   \n",
              "1     112313   2020-06-05  112312        Pizzas        Visa   560.00   \n",
              "2     112314   2020-06-07  112312        Pizzas    Efectivo   296.00   \n",
              "3     112315   2020-06-08  112312       Postres    Efectivo   257.00   \n",
              "4     112316   2020-06-09  112312         Pollo    Efectivo   465.00   \n",
              "\n",
              "         costos_envio  cupon_desc  cupon_desc_importe  costos_envio_numerico  \\\n",
              "0  $45 costo de envío           0                   0                  45.00   \n",
              "1  $69 costo de envío           0                   0                  69.00   \n",
              "2  $99 costo de envío           0                   0                  99.00   \n",
              "3  $99 costo de envío           0                   0                  99.00   \n",
              "4  $45 costo de envío           0                   0                  45.00   \n",
              "\n",
              "       fecha  venta  importe_dolares antiguedad  \n",
              "0 2020-05-31  71.00             3.03   153 days  \n",
              "1 2020-06-05  71.30             7.85   148 days  \n",
              "2 2020-06-07  71.30             4.15   146 days  \n",
              "3 2020-06-08  71.30             3.60   145 days  \n",
              "4 2020-06-09  71.30             6.52   144 days  "
            ]
          },
          "metadata": {},
          "execution_count": 46
        }
      ]
    },
    {
      "cell_type": "code",
      "metadata": {
        "colab": {
          "base_uri": "https://localhost:8080/",
          "height": 287
        },
        "id": "19NV7ES1mfvy",
        "outputId": "d368bf32-703f-4b74-95fe-fb135780f0f4"
      },
      "source": [
        "df_merge[\"antiguedad\"] = df_merge[\"antiguedad\"].dt.days\n",
        "df_merge.head()"
      ],
      "execution_count": 47,
      "outputs": [
        {
          "output_type": "execute_result",
          "data": {
            "text/html": [
              "<div>\n",
              "<style scoped>\n",
              "    .dataframe tbody tr th:only-of-type {\n",
              "        vertical-align: middle;\n",
              "    }\n",
              "\n",
              "    .dataframe tbody tr th {\n",
              "        vertical-align: top;\n",
              "    }\n",
              "\n",
              "    .dataframe thead th {\n",
              "        text-align: right;\n",
              "    }\n",
              "</style>\n",
              "<table border=\"1\" class=\"dataframe\">\n",
              "  <thead>\n",
              "    <tr style=\"text-align: right;\">\n",
              "      <th></th>\n",
              "      <th>ticket_id</th>\n",
              "      <th>fecha_compra</th>\n",
              "      <th>iduser</th>\n",
              "      <th>tipo_delivery</th>\n",
              "      <th>metodo_pago</th>\n",
              "      <th>importe</th>\n",
              "      <th>costos_envio</th>\n",
              "      <th>cupon_desc</th>\n",
              "      <th>cupon_desc_importe</th>\n",
              "      <th>costos_envio_numerico</th>\n",
              "      <th>fecha</th>\n",
              "      <th>venta</th>\n",
              "      <th>importe_dolares</th>\n",
              "      <th>antiguedad</th>\n",
              "    </tr>\n",
              "  </thead>\n",
              "  <tbody>\n",
              "    <tr>\n",
              "      <th>0</th>\n",
              "      <td>112312</td>\n",
              "      <td>2020-05-31</td>\n",
              "      <td>112312</td>\n",
              "      <td>Bebidas</td>\n",
              "      <td>Visa</td>\n",
              "      <td>215.00</td>\n",
              "      <td>$45 costo de envío</td>\n",
              "      <td>0</td>\n",
              "      <td>0</td>\n",
              "      <td>45.00</td>\n",
              "      <td>2020-05-31</td>\n",
              "      <td>71.00</td>\n",
              "      <td>3.03</td>\n",
              "      <td>153</td>\n",
              "    </tr>\n",
              "    <tr>\n",
              "      <th>1</th>\n",
              "      <td>112313</td>\n",
              "      <td>2020-06-05</td>\n",
              "      <td>112312</td>\n",
              "      <td>Pizzas</td>\n",
              "      <td>Visa</td>\n",
              "      <td>560.00</td>\n",
              "      <td>$69 costo de envío</td>\n",
              "      <td>0</td>\n",
              "      <td>0</td>\n",
              "      <td>69.00</td>\n",
              "      <td>2020-06-05</td>\n",
              "      <td>71.30</td>\n",
              "      <td>7.85</td>\n",
              "      <td>148</td>\n",
              "    </tr>\n",
              "    <tr>\n",
              "      <th>2</th>\n",
              "      <td>112314</td>\n",
              "      <td>2020-06-07</td>\n",
              "      <td>112312</td>\n",
              "      <td>Pizzas</td>\n",
              "      <td>Efectivo</td>\n",
              "      <td>296.00</td>\n",
              "      <td>$99 costo de envío</td>\n",
              "      <td>0</td>\n",
              "      <td>0</td>\n",
              "      <td>99.00</td>\n",
              "      <td>2020-06-07</td>\n",
              "      <td>71.30</td>\n",
              "      <td>4.15</td>\n",
              "      <td>146</td>\n",
              "    </tr>\n",
              "    <tr>\n",
              "      <th>3</th>\n",
              "      <td>112315</td>\n",
              "      <td>2020-06-08</td>\n",
              "      <td>112312</td>\n",
              "      <td>Postres</td>\n",
              "      <td>Efectivo</td>\n",
              "      <td>257.00</td>\n",
              "      <td>$99 costo de envío</td>\n",
              "      <td>0</td>\n",
              "      <td>0</td>\n",
              "      <td>99.00</td>\n",
              "      <td>2020-06-08</td>\n",
              "      <td>71.30</td>\n",
              "      <td>3.60</td>\n",
              "      <td>145</td>\n",
              "    </tr>\n",
              "    <tr>\n",
              "      <th>4</th>\n",
              "      <td>112316</td>\n",
              "      <td>2020-06-09</td>\n",
              "      <td>112312</td>\n",
              "      <td>Pollo</td>\n",
              "      <td>Efectivo</td>\n",
              "      <td>465.00</td>\n",
              "      <td>$45 costo de envío</td>\n",
              "      <td>0</td>\n",
              "      <td>0</td>\n",
              "      <td>45.00</td>\n",
              "      <td>2020-06-09</td>\n",
              "      <td>71.30</td>\n",
              "      <td>6.52</td>\n",
              "      <td>144</td>\n",
              "    </tr>\n",
              "  </tbody>\n",
              "</table>\n",
              "</div>"
            ],
            "text/plain": [
              "   ticket_id fecha_compra  iduser tipo_delivery metodo_pago  importe  \\\n",
              "0     112312   2020-05-31  112312       Bebidas        Visa   215.00   \n",
              "1     112313   2020-06-05  112312        Pizzas        Visa   560.00   \n",
              "2     112314   2020-06-07  112312        Pizzas    Efectivo   296.00   \n",
              "3     112315   2020-06-08  112312       Postres    Efectivo   257.00   \n",
              "4     112316   2020-06-09  112312         Pollo    Efectivo   465.00   \n",
              "\n",
              "         costos_envio  cupon_desc  cupon_desc_importe  costos_envio_numerico  \\\n",
              "0  $45 costo de envío           0                   0                  45.00   \n",
              "1  $69 costo de envío           0                   0                  69.00   \n",
              "2  $99 costo de envío           0                   0                  99.00   \n",
              "3  $99 costo de envío           0                   0                  99.00   \n",
              "4  $45 costo de envío           0                   0                  45.00   \n",
              "\n",
              "       fecha  venta  importe_dolares  antiguedad  \n",
              "0 2020-05-31  71.00             3.03         153  \n",
              "1 2020-06-05  71.30             7.85         148  \n",
              "2 2020-06-07  71.30             4.15         146  \n",
              "3 2020-06-08  71.30             3.60         145  \n",
              "4 2020-06-09  71.30             6.52         144  "
            ]
          },
          "metadata": {},
          "execution_count": 47
        }
      ]
    },
    {
      "cell_type": "code",
      "metadata": {
        "id": "5d1UtF-Em4Mr"
      },
      "source": [
        "df_merge.info()"
      ],
      "execution_count": null,
      "outputs": []
    },
    {
      "cell_type": "markdown",
      "metadata": {
        "id": "JS-XYTfSXN6D"
      },
      "source": [
        " \n",
        "<br>\n",
        "\n",
        "<center>\n",
        "<img src=\"https://i.ibb.co/CzbBhPN/Fruity-Icons-Gift-Certificate-1.png\" width=\"70%\"  height=\"50%\"\n",
        "     alt=\"RFM\" border=\"1\">\n",
        "\n",
        "</center>\n",
        "\n",
        "<br>\n"
      ]
    },
    {
      "cell_type": "markdown",
      "metadata": {
        "id": "lGqMplMOXN6D"
      },
      "source": [
        "🏷️ 4. Calcular el score de **`RFM`**"
      ]
    },
    {
      "cell_type": "code",
      "metadata": {
        "id": "EozWfIBNr08P",
        "colab": {
          "base_uri": "https://localhost:8080/",
          "height": 417
        },
        "outputId": "d48ef8e0-f436-4f95-c916-c587c0455897"
      },
      "source": [
        "df_RFM = pd.read_csv(\"/content/gdrive/MyDrive/segmentos_rfm (1).csv\", sep = \",\")\n",
        "df_RFM"
      ],
      "execution_count": 55,
      "outputs": [
        {
          "output_type": "execute_result",
          "data": {
            "text/html": [
              "<div>\n",
              "<style scoped>\n",
              "    .dataframe tbody tr th:only-of-type {\n",
              "        vertical-align: middle;\n",
              "    }\n",
              "\n",
              "    .dataframe tbody tr th {\n",
              "        vertical-align: top;\n",
              "    }\n",
              "\n",
              "    .dataframe thead th {\n",
              "        text-align: right;\n",
              "    }\n",
              "</style>\n",
              "<table border=\"1\" class=\"dataframe\">\n",
              "  <thead>\n",
              "    <tr style=\"text-align: right;\">\n",
              "      <th></th>\n",
              "      <th>rfm_score</th>\n",
              "      <th>segment</th>\n",
              "      <th>Value</th>\n",
              "    </tr>\n",
              "  </thead>\n",
              "  <tbody>\n",
              "    <tr>\n",
              "      <th>0</th>\n",
              "      <td>111</td>\n",
              "      <td>Lost</td>\n",
              "      <td>Bad</td>\n",
              "    </tr>\n",
              "    <tr>\n",
              "      <th>1</th>\n",
              "      <td>112</td>\n",
              "      <td>Lost</td>\n",
              "      <td>Bad</td>\n",
              "    </tr>\n",
              "    <tr>\n",
              "      <th>2</th>\n",
              "      <td>113</td>\n",
              "      <td>Lost</td>\n",
              "      <td>Bad</td>\n",
              "    </tr>\n",
              "    <tr>\n",
              "      <th>3</th>\n",
              "      <td>114</td>\n",
              "      <td>At Risk</td>\n",
              "      <td>Bad</td>\n",
              "    </tr>\n",
              "    <tr>\n",
              "      <th>4</th>\n",
              "      <td>115</td>\n",
              "      <td>At Risk</td>\n",
              "      <td>Bad</td>\n",
              "    </tr>\n",
              "    <tr>\n",
              "      <th>...</th>\n",
              "      <td>...</td>\n",
              "      <td>...</td>\n",
              "      <td>...</td>\n",
              "    </tr>\n",
              "    <tr>\n",
              "      <th>120</th>\n",
              "      <td>551</td>\n",
              "      <td>Loyal Customers</td>\n",
              "      <td>Very Good</td>\n",
              "    </tr>\n",
              "    <tr>\n",
              "      <th>121</th>\n",
              "      <td>552</td>\n",
              "      <td>Loyal Customers</td>\n",
              "      <td>Very Good</td>\n",
              "    </tr>\n",
              "    <tr>\n",
              "      <th>122</th>\n",
              "      <td>553</td>\n",
              "      <td>Loyal Customers</td>\n",
              "      <td>Very Good</td>\n",
              "    </tr>\n",
              "    <tr>\n",
              "      <th>123</th>\n",
              "      <td>554</td>\n",
              "      <td>Champions</td>\n",
              "      <td>Very Good</td>\n",
              "    </tr>\n",
              "    <tr>\n",
              "      <th>124</th>\n",
              "      <td>555</td>\n",
              "      <td>Champions</td>\n",
              "      <td>Very Good</td>\n",
              "    </tr>\n",
              "  </tbody>\n",
              "</table>\n",
              "<p>125 rows × 3 columns</p>\n",
              "</div>"
            ],
            "text/plain": [
              "     rfm_score          segment      Value\n",
              "0          111             Lost        Bad\n",
              "1          112             Lost        Bad\n",
              "2          113             Lost        Bad\n",
              "3          114          At Risk        Bad\n",
              "4          115          At Risk        Bad\n",
              "..         ...              ...        ...\n",
              "120        551  Loyal Customers  Very Good\n",
              "121        552  Loyal Customers  Very Good\n",
              "122        553  Loyal Customers  Very Good\n",
              "123        554        Champions  Very Good\n",
              "124        555        Champions  Very Good\n",
              "\n",
              "[125 rows x 3 columns]"
            ]
          },
          "metadata": {},
          "execution_count": 55
        }
      ]
    },
    {
      "cell_type": "code",
      "metadata": {
        "id": "5i72vSi4Gtp2",
        "colab": {
          "base_uri": "https://localhost:8080/",
          "height": 417
        },
        "outputId": "ce58a0b2-1248-4140-e251-dfb45fe0f54b"
      },
      "source": [
        "RFM = df_merge.groupby(\"iduser\", as_index= False).agg({\"antiguedad\" : \"min\", \"ticket_id\" : \"count\", \"importe_dolares\" : \"sum\"})\n",
        "RFM.columns = [\"iduser\", \"R\", \"F\", \"M\"]\n",
        "RFM"
      ],
      "execution_count": 51,
      "outputs": [
        {
          "output_type": "execute_result",
          "data": {
            "text/html": [
              "<div>\n",
              "<style scoped>\n",
              "    .dataframe tbody tr th:only-of-type {\n",
              "        vertical-align: middle;\n",
              "    }\n",
              "\n",
              "    .dataframe tbody tr th {\n",
              "        vertical-align: top;\n",
              "    }\n",
              "\n",
              "    .dataframe thead th {\n",
              "        text-align: right;\n",
              "    }\n",
              "</style>\n",
              "<table border=\"1\" class=\"dataframe\">\n",
              "  <thead>\n",
              "    <tr style=\"text-align: right;\">\n",
              "      <th></th>\n",
              "      <th>iduser</th>\n",
              "      <th>R</th>\n",
              "      <th>F</th>\n",
              "      <th>M</th>\n",
              "    </tr>\n",
              "  </thead>\n",
              "  <tbody>\n",
              "    <tr>\n",
              "      <th>0</th>\n",
              "      <td>112312</td>\n",
              "      <td>3</td>\n",
              "      <td>45</td>\n",
              "      <td>242.59</td>\n",
              "    </tr>\n",
              "    <tr>\n",
              "      <th>1</th>\n",
              "      <td>112313</td>\n",
              "      <td>2</td>\n",
              "      <td>54</td>\n",
              "      <td>278.83</td>\n",
              "    </tr>\n",
              "    <tr>\n",
              "      <th>2</th>\n",
              "      <td>112314</td>\n",
              "      <td>2</td>\n",
              "      <td>128</td>\n",
              "      <td>678.17</td>\n",
              "    </tr>\n",
              "    <tr>\n",
              "      <th>3</th>\n",
              "      <td>112315</td>\n",
              "      <td>3</td>\n",
              "      <td>91</td>\n",
              "      <td>487.27</td>\n",
              "    </tr>\n",
              "    <tr>\n",
              "      <th>4</th>\n",
              "      <td>112316</td>\n",
              "      <td>3</td>\n",
              "      <td>72</td>\n",
              "      <td>384.28</td>\n",
              "    </tr>\n",
              "    <tr>\n",
              "      <th>...</th>\n",
              "      <td>...</td>\n",
              "      <td>...</td>\n",
              "      <td>...</td>\n",
              "      <td>...</td>\n",
              "    </tr>\n",
              "    <tr>\n",
              "      <th>9653</th>\n",
              "      <td>121965</td>\n",
              "      <td>60</td>\n",
              "      <td>6</td>\n",
              "      <td>254.06</td>\n",
              "    </tr>\n",
              "    <tr>\n",
              "      <th>9654</th>\n",
              "      <td>121966</td>\n",
              "      <td>10</td>\n",
              "      <td>3</td>\n",
              "      <td>129.05</td>\n",
              "    </tr>\n",
              "    <tr>\n",
              "      <th>9655</th>\n",
              "      <td>121967</td>\n",
              "      <td>3</td>\n",
              "      <td>5</td>\n",
              "      <td>214.13</td>\n",
              "    </tr>\n",
              "    <tr>\n",
              "      <th>9656</th>\n",
              "      <td>121968</td>\n",
              "      <td>26</td>\n",
              "      <td>1</td>\n",
              "      <td>52.28</td>\n",
              "    </tr>\n",
              "    <tr>\n",
              "      <th>9657</th>\n",
              "      <td>121969</td>\n",
              "      <td>21</td>\n",
              "      <td>2</td>\n",
              "      <td>101.10</td>\n",
              "    </tr>\n",
              "  </tbody>\n",
              "</table>\n",
              "<p>9658 rows × 4 columns</p>\n",
              "</div>"
            ],
            "text/plain": [
              "      iduser   R    F      M\n",
              "0     112312   3   45 242.59\n",
              "1     112313   2   54 278.83\n",
              "2     112314   2  128 678.17\n",
              "3     112315   3   91 487.27\n",
              "4     112316   3   72 384.28\n",
              "...      ...  ..  ...    ...\n",
              "9653  121965  60    6 254.06\n",
              "9654  121966  10    3 129.05\n",
              "9655  121967   3    5 214.13\n",
              "9656  121968  26    1  52.28\n",
              "9657  121969  21    2 101.10\n",
              "\n",
              "[9658 rows x 4 columns]"
            ]
          },
          "metadata": {},
          "execution_count": 51
        }
      ]
    },
    {
      "cell_type": "code",
      "metadata": {
        "id": "rkyI_NDpHixB"
      },
      "source": [
        "r_label = list(range(5,0,-1))\n",
        "f_label = list(range(1,6,1))\n",
        "m_label = list(range(1,6,1))\n"
      ],
      "execution_count": 52,
      "outputs": []
    },
    {
      "cell_type": "code",
      "metadata": {
        "id": "EoIr2kw1ILXx"
      },
      "source": [
        "RFM[\"r_score\"] = pd.qcut(RFM[\"R\"], q = 5, labels= r_label)\n",
        "RFM[\"f_score\"] = pd.qcut(RFM[\"F\"], q = 5, labels= f_label)\n",
        "RFM[\"m_score\"] = pd.qcut(RFM[\"M\"], q = 5, labels= m_label)"
      ],
      "execution_count": 53,
      "outputs": []
    },
    {
      "cell_type": "code",
      "metadata": {
        "id": "oOmbdUFLIaW2",
        "colab": {
          "base_uri": "https://localhost:8080/",
          "height": 417
        },
        "outputId": "b4feeb91-cc0e-44fd-86c3-544726c500bb"
      },
      "source": [
        "RFM"
      ],
      "execution_count": 54,
      "outputs": [
        {
          "output_type": "execute_result",
          "data": {
            "text/html": [
              "<div>\n",
              "<style scoped>\n",
              "    .dataframe tbody tr th:only-of-type {\n",
              "        vertical-align: middle;\n",
              "    }\n",
              "\n",
              "    .dataframe tbody tr th {\n",
              "        vertical-align: top;\n",
              "    }\n",
              "\n",
              "    .dataframe thead th {\n",
              "        text-align: right;\n",
              "    }\n",
              "</style>\n",
              "<table border=\"1\" class=\"dataframe\">\n",
              "  <thead>\n",
              "    <tr style=\"text-align: right;\">\n",
              "      <th></th>\n",
              "      <th>iduser</th>\n",
              "      <th>R</th>\n",
              "      <th>F</th>\n",
              "      <th>M</th>\n",
              "      <th>r_score</th>\n",
              "      <th>f_score</th>\n",
              "      <th>m_score</th>\n",
              "    </tr>\n",
              "  </thead>\n",
              "  <tbody>\n",
              "    <tr>\n",
              "      <th>0</th>\n",
              "      <td>112312</td>\n",
              "      <td>3</td>\n",
              "      <td>45</td>\n",
              "      <td>242.59</td>\n",
              "      <td>4</td>\n",
              "      <td>5</td>\n",
              "      <td>3</td>\n",
              "    </tr>\n",
              "    <tr>\n",
              "      <th>1</th>\n",
              "      <td>112313</td>\n",
              "      <td>2</td>\n",
              "      <td>54</td>\n",
              "      <td>278.83</td>\n",
              "      <td>5</td>\n",
              "      <td>5</td>\n",
              "      <td>3</td>\n",
              "    </tr>\n",
              "    <tr>\n",
              "      <th>2</th>\n",
              "      <td>112314</td>\n",
              "      <td>2</td>\n",
              "      <td>128</td>\n",
              "      <td>678.17</td>\n",
              "      <td>5</td>\n",
              "      <td>5</td>\n",
              "      <td>5</td>\n",
              "    </tr>\n",
              "    <tr>\n",
              "      <th>3</th>\n",
              "      <td>112315</td>\n",
              "      <td>3</td>\n",
              "      <td>91</td>\n",
              "      <td>487.27</td>\n",
              "      <td>4</td>\n",
              "      <td>5</td>\n",
              "      <td>4</td>\n",
              "    </tr>\n",
              "    <tr>\n",
              "      <th>4</th>\n",
              "      <td>112316</td>\n",
              "      <td>3</td>\n",
              "      <td>72</td>\n",
              "      <td>384.28</td>\n",
              "      <td>4</td>\n",
              "      <td>5</td>\n",
              "      <td>4</td>\n",
              "    </tr>\n",
              "    <tr>\n",
              "      <th>...</th>\n",
              "      <td>...</td>\n",
              "      <td>...</td>\n",
              "      <td>...</td>\n",
              "      <td>...</td>\n",
              "      <td>...</td>\n",
              "      <td>...</td>\n",
              "      <td>...</td>\n",
              "    </tr>\n",
              "    <tr>\n",
              "      <th>9653</th>\n",
              "      <td>121965</td>\n",
              "      <td>60</td>\n",
              "      <td>6</td>\n",
              "      <td>254.06</td>\n",
              "      <td>1</td>\n",
              "      <td>2</td>\n",
              "      <td>3</td>\n",
              "    </tr>\n",
              "    <tr>\n",
              "      <th>9654</th>\n",
              "      <td>121966</td>\n",
              "      <td>10</td>\n",
              "      <td>3</td>\n",
              "      <td>129.05</td>\n",
              "      <td>3</td>\n",
              "      <td>1</td>\n",
              "      <td>2</td>\n",
              "    </tr>\n",
              "    <tr>\n",
              "      <th>9655</th>\n",
              "      <td>121967</td>\n",
              "      <td>3</td>\n",
              "      <td>5</td>\n",
              "      <td>214.13</td>\n",
              "      <td>4</td>\n",
              "      <td>2</td>\n",
              "      <td>3</td>\n",
              "    </tr>\n",
              "    <tr>\n",
              "      <th>9656</th>\n",
              "      <td>121968</td>\n",
              "      <td>26</td>\n",
              "      <td>1</td>\n",
              "      <td>52.28</td>\n",
              "      <td>2</td>\n",
              "      <td>1</td>\n",
              "      <td>1</td>\n",
              "    </tr>\n",
              "    <tr>\n",
              "      <th>9657</th>\n",
              "      <td>121969</td>\n",
              "      <td>21</td>\n",
              "      <td>2</td>\n",
              "      <td>101.10</td>\n",
              "      <td>2</td>\n",
              "      <td>1</td>\n",
              "      <td>2</td>\n",
              "    </tr>\n",
              "  </tbody>\n",
              "</table>\n",
              "<p>9658 rows × 7 columns</p>\n",
              "</div>"
            ],
            "text/plain": [
              "      iduser   R    F      M r_score f_score m_score\n",
              "0     112312   3   45 242.59       4       5       3\n",
              "1     112313   2   54 278.83       5       5       3\n",
              "2     112314   2  128 678.17       5       5       5\n",
              "3     112315   3   91 487.27       4       5       4\n",
              "4     112316   3   72 384.28       4       5       4\n",
              "...      ...  ..  ...    ...     ...     ...     ...\n",
              "9653  121965  60    6 254.06       1       2       3\n",
              "9654  121966  10    3 129.05       3       1       2\n",
              "9655  121967   3    5 214.13       4       2       3\n",
              "9656  121968  26    1  52.28       2       1       1\n",
              "9657  121969  21    2 101.10       2       1       2\n",
              "\n",
              "[9658 rows x 7 columns]"
            ]
          },
          "metadata": {},
          "execution_count": 54
        }
      ]
    },
    {
      "cell_type": "code",
      "metadata": {
        "colab": {
          "base_uri": "https://localhost:8080/",
          "height": 417
        },
        "id": "eqJme2wwqux5",
        "outputId": "24463a5b-3e1e-405d-da49-c74dddd80b88"
      },
      "source": [
        "RFM[\"score\"] = RFM[\"r_score\"].astype(str)+RFM[\"f_score\"].astype(str)+RFM[\"m_score\"].astype(str)\n",
        "RFM"
      ],
      "execution_count": 56,
      "outputs": [
        {
          "output_type": "execute_result",
          "data": {
            "text/html": [
              "<div>\n",
              "<style scoped>\n",
              "    .dataframe tbody tr th:only-of-type {\n",
              "        vertical-align: middle;\n",
              "    }\n",
              "\n",
              "    .dataframe tbody tr th {\n",
              "        vertical-align: top;\n",
              "    }\n",
              "\n",
              "    .dataframe thead th {\n",
              "        text-align: right;\n",
              "    }\n",
              "</style>\n",
              "<table border=\"1\" class=\"dataframe\">\n",
              "  <thead>\n",
              "    <tr style=\"text-align: right;\">\n",
              "      <th></th>\n",
              "      <th>iduser</th>\n",
              "      <th>R</th>\n",
              "      <th>F</th>\n",
              "      <th>M</th>\n",
              "      <th>r_score</th>\n",
              "      <th>f_score</th>\n",
              "      <th>m_score</th>\n",
              "      <th>score</th>\n",
              "    </tr>\n",
              "  </thead>\n",
              "  <tbody>\n",
              "    <tr>\n",
              "      <th>0</th>\n",
              "      <td>112312</td>\n",
              "      <td>3</td>\n",
              "      <td>45</td>\n",
              "      <td>242.59</td>\n",
              "      <td>4</td>\n",
              "      <td>5</td>\n",
              "      <td>3</td>\n",
              "      <td>453</td>\n",
              "    </tr>\n",
              "    <tr>\n",
              "      <th>1</th>\n",
              "      <td>112313</td>\n",
              "      <td>2</td>\n",
              "      <td>54</td>\n",
              "      <td>278.83</td>\n",
              "      <td>5</td>\n",
              "      <td>5</td>\n",
              "      <td>3</td>\n",
              "      <td>553</td>\n",
              "    </tr>\n",
              "    <tr>\n",
              "      <th>2</th>\n",
              "      <td>112314</td>\n",
              "      <td>2</td>\n",
              "      <td>128</td>\n",
              "      <td>678.17</td>\n",
              "      <td>5</td>\n",
              "      <td>5</td>\n",
              "      <td>5</td>\n",
              "      <td>555</td>\n",
              "    </tr>\n",
              "    <tr>\n",
              "      <th>3</th>\n",
              "      <td>112315</td>\n",
              "      <td>3</td>\n",
              "      <td>91</td>\n",
              "      <td>487.27</td>\n",
              "      <td>4</td>\n",
              "      <td>5</td>\n",
              "      <td>4</td>\n",
              "      <td>454</td>\n",
              "    </tr>\n",
              "    <tr>\n",
              "      <th>4</th>\n",
              "      <td>112316</td>\n",
              "      <td>3</td>\n",
              "      <td>72</td>\n",
              "      <td>384.28</td>\n",
              "      <td>4</td>\n",
              "      <td>5</td>\n",
              "      <td>4</td>\n",
              "      <td>454</td>\n",
              "    </tr>\n",
              "    <tr>\n",
              "      <th>...</th>\n",
              "      <td>...</td>\n",
              "      <td>...</td>\n",
              "      <td>...</td>\n",
              "      <td>...</td>\n",
              "      <td>...</td>\n",
              "      <td>...</td>\n",
              "      <td>...</td>\n",
              "      <td>...</td>\n",
              "    </tr>\n",
              "    <tr>\n",
              "      <th>9653</th>\n",
              "      <td>121965</td>\n",
              "      <td>60</td>\n",
              "      <td>6</td>\n",
              "      <td>254.06</td>\n",
              "      <td>1</td>\n",
              "      <td>2</td>\n",
              "      <td>3</td>\n",
              "      <td>123</td>\n",
              "    </tr>\n",
              "    <tr>\n",
              "      <th>9654</th>\n",
              "      <td>121966</td>\n",
              "      <td>10</td>\n",
              "      <td>3</td>\n",
              "      <td>129.05</td>\n",
              "      <td>3</td>\n",
              "      <td>1</td>\n",
              "      <td>2</td>\n",
              "      <td>312</td>\n",
              "    </tr>\n",
              "    <tr>\n",
              "      <th>9655</th>\n",
              "      <td>121967</td>\n",
              "      <td>3</td>\n",
              "      <td>5</td>\n",
              "      <td>214.13</td>\n",
              "      <td>4</td>\n",
              "      <td>2</td>\n",
              "      <td>3</td>\n",
              "      <td>423</td>\n",
              "    </tr>\n",
              "    <tr>\n",
              "      <th>9656</th>\n",
              "      <td>121968</td>\n",
              "      <td>26</td>\n",
              "      <td>1</td>\n",
              "      <td>52.28</td>\n",
              "      <td>2</td>\n",
              "      <td>1</td>\n",
              "      <td>1</td>\n",
              "      <td>211</td>\n",
              "    </tr>\n",
              "    <tr>\n",
              "      <th>9657</th>\n",
              "      <td>121969</td>\n",
              "      <td>21</td>\n",
              "      <td>2</td>\n",
              "      <td>101.10</td>\n",
              "      <td>2</td>\n",
              "      <td>1</td>\n",
              "      <td>2</td>\n",
              "      <td>212</td>\n",
              "    </tr>\n",
              "  </tbody>\n",
              "</table>\n",
              "<p>9658 rows × 8 columns</p>\n",
              "</div>"
            ],
            "text/plain": [
              "      iduser   R    F      M r_score f_score m_score score\n",
              "0     112312   3   45 242.59       4       5       3   453\n",
              "1     112313   2   54 278.83       5       5       3   553\n",
              "2     112314   2  128 678.17       5       5       5   555\n",
              "3     112315   3   91 487.27       4       5       4   454\n",
              "4     112316   3   72 384.28       4       5       4   454\n",
              "...      ...  ..  ...    ...     ...     ...     ...   ...\n",
              "9653  121965  60    6 254.06       1       2       3   123\n",
              "9654  121966  10    3 129.05       3       1       2   312\n",
              "9655  121967   3    5 214.13       4       2       3   423\n",
              "9656  121968  26    1  52.28       2       1       1   211\n",
              "9657  121969  21    2 101.10       2       1       2   212\n",
              "\n",
              "[9658 rows x 8 columns]"
            ]
          },
          "metadata": {},
          "execution_count": 56
        }
      ]
    },
    {
      "cell_type": "markdown",
      "metadata": {
        "id": "B3a6HceqXN6E"
      },
      "source": [
        "🏷️ 5. Asignar un segmento a cada score del **`RFM`**"
      ]
    },
    {
      "cell_type": "code",
      "metadata": {
        "id": "tucjZAjLr2t8",
        "colab": {
          "base_uri": "https://localhost:8080/"
        },
        "outputId": "26ca6cc6-9a73-4850-9592-3ab340ccd889"
      },
      "source": [
        "df_RFM.info()"
      ],
      "execution_count": 57,
      "outputs": [
        {
          "output_type": "stream",
          "name": "stdout",
          "text": [
            "<class 'pandas.core.frame.DataFrame'>\n",
            "RangeIndex: 125 entries, 0 to 124\n",
            "Data columns (total 3 columns):\n",
            " #   Column     Non-Null Count  Dtype \n",
            "---  ------     --------------  ----- \n",
            " 0   rfm_score  125 non-null    int64 \n",
            " 1   segment    125 non-null    object\n",
            " 2   Value      125 non-null    object\n",
            "dtypes: int64(1), object(2)\n",
            "memory usage: 3.1+ KB\n"
          ]
        }
      ]
    },
    {
      "cell_type": "code",
      "metadata": {
        "id": "r9Gs5vgPInCs"
      },
      "source": [
        "RFM[\"score\"] = RFM[\"score\"].astype(int)"
      ],
      "execution_count": 59,
      "outputs": []
    },
    {
      "cell_type": "code",
      "metadata": {
        "id": "hmNWkhqoJT8F"
      },
      "source": [
        "RFM = RFM.merge(df_RFM, how = \"left\" , left_on= \"score\", right_on= \"rfm_score\")\n",
        "RFM"
      ],
      "execution_count": null,
      "outputs": []
    },
    {
      "cell_type": "code",
      "metadata": {
        "id": "eGV41V54I-tV",
        "colab": {
          "base_uri": "https://localhost:8080/",
          "height": 417
        },
        "outputId": "871bceb2-e81e-48a3-f0cc-bb423f8963d5"
      },
      "source": [
        "RFM = RFM.drop(columns=(\"rfm_score\"), axis = 1)\n",
        "RFM"
      ],
      "execution_count": 62,
      "outputs": [
        {
          "output_type": "execute_result",
          "data": {
            "text/html": [
              "<div>\n",
              "<style scoped>\n",
              "    .dataframe tbody tr th:only-of-type {\n",
              "        vertical-align: middle;\n",
              "    }\n",
              "\n",
              "    .dataframe tbody tr th {\n",
              "        vertical-align: top;\n",
              "    }\n",
              "\n",
              "    .dataframe thead th {\n",
              "        text-align: right;\n",
              "    }\n",
              "</style>\n",
              "<table border=\"1\" class=\"dataframe\">\n",
              "  <thead>\n",
              "    <tr style=\"text-align: right;\">\n",
              "      <th></th>\n",
              "      <th>iduser</th>\n",
              "      <th>R</th>\n",
              "      <th>F</th>\n",
              "      <th>M</th>\n",
              "      <th>r_score</th>\n",
              "      <th>f_score</th>\n",
              "      <th>m_score</th>\n",
              "      <th>score</th>\n",
              "      <th>segment</th>\n",
              "      <th>Value</th>\n",
              "    </tr>\n",
              "  </thead>\n",
              "  <tbody>\n",
              "    <tr>\n",
              "      <th>0</th>\n",
              "      <td>112312</td>\n",
              "      <td>3</td>\n",
              "      <td>45</td>\n",
              "      <td>242.59</td>\n",
              "      <td>4</td>\n",
              "      <td>5</td>\n",
              "      <td>3</td>\n",
              "      <td>453</td>\n",
              "      <td>Potential Loyalist</td>\n",
              "      <td>Very Good</td>\n",
              "    </tr>\n",
              "    <tr>\n",
              "      <th>1</th>\n",
              "      <td>112313</td>\n",
              "      <td>2</td>\n",
              "      <td>54</td>\n",
              "      <td>278.83</td>\n",
              "      <td>5</td>\n",
              "      <td>5</td>\n",
              "      <td>3</td>\n",
              "      <td>553</td>\n",
              "      <td>Loyal Customers</td>\n",
              "      <td>Very Good</td>\n",
              "    </tr>\n",
              "    <tr>\n",
              "      <th>2</th>\n",
              "      <td>112314</td>\n",
              "      <td>2</td>\n",
              "      <td>128</td>\n",
              "      <td>678.17</td>\n",
              "      <td>5</td>\n",
              "      <td>5</td>\n",
              "      <td>5</td>\n",
              "      <td>555</td>\n",
              "      <td>Champions</td>\n",
              "      <td>Very Good</td>\n",
              "    </tr>\n",
              "    <tr>\n",
              "      <th>3</th>\n",
              "      <td>112315</td>\n",
              "      <td>3</td>\n",
              "      <td>91</td>\n",
              "      <td>487.27</td>\n",
              "      <td>4</td>\n",
              "      <td>5</td>\n",
              "      <td>4</td>\n",
              "      <td>454</td>\n",
              "      <td>Champions</td>\n",
              "      <td>Very Good</td>\n",
              "    </tr>\n",
              "    <tr>\n",
              "      <th>4</th>\n",
              "      <td>112316</td>\n",
              "      <td>3</td>\n",
              "      <td>72</td>\n",
              "      <td>384.28</td>\n",
              "      <td>4</td>\n",
              "      <td>5</td>\n",
              "      <td>4</td>\n",
              "      <td>454</td>\n",
              "      <td>Champions</td>\n",
              "      <td>Very Good</td>\n",
              "    </tr>\n",
              "    <tr>\n",
              "      <th>...</th>\n",
              "      <td>...</td>\n",
              "      <td>...</td>\n",
              "      <td>...</td>\n",
              "      <td>...</td>\n",
              "      <td>...</td>\n",
              "      <td>...</td>\n",
              "      <td>...</td>\n",
              "      <td>...</td>\n",
              "      <td>...</td>\n",
              "      <td>...</td>\n",
              "    </tr>\n",
              "    <tr>\n",
              "      <th>9653</th>\n",
              "      <td>121965</td>\n",
              "      <td>60</td>\n",
              "      <td>6</td>\n",
              "      <td>254.06</td>\n",
              "      <td>1</td>\n",
              "      <td>2</td>\n",
              "      <td>3</td>\n",
              "      <td>123</td>\n",
              "      <td>At Risk</td>\n",
              "      <td>Bad</td>\n",
              "    </tr>\n",
              "    <tr>\n",
              "      <th>9654</th>\n",
              "      <td>121966</td>\n",
              "      <td>10</td>\n",
              "      <td>3</td>\n",
              "      <td>129.05</td>\n",
              "      <td>3</td>\n",
              "      <td>1</td>\n",
              "      <td>2</td>\n",
              "      <td>312</td>\n",
              "      <td>About To Sleep</td>\n",
              "      <td>Average</td>\n",
              "    </tr>\n",
              "    <tr>\n",
              "      <th>9655</th>\n",
              "      <td>121967</td>\n",
              "      <td>3</td>\n",
              "      <td>5</td>\n",
              "      <td>214.13</td>\n",
              "      <td>4</td>\n",
              "      <td>2</td>\n",
              "      <td>3</td>\n",
              "      <td>423</td>\n",
              "      <td>Potential Loyalist</td>\n",
              "      <td>Good</td>\n",
              "    </tr>\n",
              "    <tr>\n",
              "      <th>9656</th>\n",
              "      <td>121968</td>\n",
              "      <td>26</td>\n",
              "      <td>1</td>\n",
              "      <td>52.28</td>\n",
              "      <td>2</td>\n",
              "      <td>1</td>\n",
              "      <td>1</td>\n",
              "      <td>211</td>\n",
              "      <td>About To Sleep</td>\n",
              "      <td>Low</td>\n",
              "    </tr>\n",
              "    <tr>\n",
              "      <th>9657</th>\n",
              "      <td>121969</td>\n",
              "      <td>21</td>\n",
              "      <td>2</td>\n",
              "      <td>101.10</td>\n",
              "      <td>2</td>\n",
              "      <td>1</td>\n",
              "      <td>2</td>\n",
              "      <td>212</td>\n",
              "      <td>About To Sleep</td>\n",
              "      <td>Low</td>\n",
              "    </tr>\n",
              "  </tbody>\n",
              "</table>\n",
              "<p>9658 rows × 10 columns</p>\n",
              "</div>"
            ],
            "text/plain": [
              "      iduser   R    F      M r_score f_score m_score  score  \\\n",
              "0     112312   3   45 242.59       4       5       3    453   \n",
              "1     112313   2   54 278.83       5       5       3    553   \n",
              "2     112314   2  128 678.17       5       5       5    555   \n",
              "3     112315   3   91 487.27       4       5       4    454   \n",
              "4     112316   3   72 384.28       4       5       4    454   \n",
              "...      ...  ..  ...    ...     ...     ...     ...    ...   \n",
              "9653  121965  60    6 254.06       1       2       3    123   \n",
              "9654  121966  10    3 129.05       3       1       2    312   \n",
              "9655  121967   3    5 214.13       4       2       3    423   \n",
              "9656  121968  26    1  52.28       2       1       1    211   \n",
              "9657  121969  21    2 101.10       2       1       2    212   \n",
              "\n",
              "                 segment      Value  \n",
              "0     Potential Loyalist  Very Good  \n",
              "1        Loyal Customers  Very Good  \n",
              "2              Champions  Very Good  \n",
              "3              Champions  Very Good  \n",
              "4              Champions  Very Good  \n",
              "...                  ...        ...  \n",
              "9653             At Risk        Bad  \n",
              "9654      About To Sleep    Average  \n",
              "9655  Potential Loyalist       Good  \n",
              "9656      About To Sleep        Low  \n",
              "9657      About To Sleep        Low  \n",
              "\n",
              "[9658 rows x 10 columns]"
            ]
          },
          "metadata": {},
          "execution_count": 62
        }
      ]
    },
    {
      "cell_type": "code",
      "metadata": {
        "id": "AQXC5GA1JG2C"
      },
      "source": [
        ""
      ],
      "execution_count": null,
      "outputs": []
    },
    {
      "cell_type": "markdown",
      "metadata": {
        "id": "OfMORtWTXN6E"
      },
      "source": [
        "🏷️ 6. Cuantos clientes por segmento de **`RFM`** tenemos"
      ]
    },
    {
      "cell_type": "code",
      "metadata": {
        "id": "3f5Cj0pqr4Br",
        "colab": {
          "base_uri": "https://localhost:8080/"
        },
        "outputId": "89a5ac86-bf44-45b1-8f3a-d179c61ba3d7"
      },
      "source": [
        "RFM.segment.value_counts()"
      ],
      "execution_count": 63,
      "outputs": [
        {
          "output_type": "execute_result",
          "data": {
            "text/plain": [
              "Champions             2100\n",
              "Hibernating           1386\n",
              "Lost                  1270\n",
              "Need Attention        1109\n",
              "About To Sleep         937\n",
              "Potential Loyalist     854\n",
              "At Risk                800\n",
              "Loyal Customers        538\n",
              "Can't Lose Them        378\n",
              "Promising              247\n",
              "New Customers           39\n",
              "Name: segment, dtype: int64"
            ]
          },
          "metadata": {},
          "execution_count": 63
        }
      ]
    },
    {
      "cell_type": "code",
      "metadata": {
        "id": "naZE-9keJxSp",
        "colab": {
          "base_uri": "https://localhost:8080/"
        },
        "outputId": "dcb68df4-0220-48bc-d30e-d861062ffbca"
      },
      "source": [
        "RFM.Value.value_counts()"
      ],
      "execution_count": 64,
      "outputs": [
        {
          "output_type": "execute_result",
          "data": {
            "text/plain": [
              "Very Good    2608\n",
              "Bad          1881\n",
              "Low          1877\n",
              "Average      1787\n",
              "Good         1505\n",
              "Name: Value, dtype: int64"
            ]
          },
          "metadata": {},
          "execution_count": 64
        }
      ]
    },
    {
      "cell_type": "code",
      "metadata": {
        "id": "MtFCRvl-KRol"
      },
      "source": [
        ""
      ],
      "execution_count": null,
      "outputs": []
    },
    {
      "cell_type": "markdown",
      "metadata": {
        "id": "ZGs7YI6GXN6F"
      },
      "source": [
        "🏷️ 7. Segun lo que comenta el equipo de comercial hay clientes que se dan de alta en la app pero nunca realizan compras, por lo cual asignar una nueva categoria denominada **`'Inactive'`**\n",
        "\n",
        "---\n",
        "\n",
        "⚠️ Para poder asignarlo debe importar el archivo de clientes"
      ]
    },
    {
      "cell_type": "code",
      "metadata": {
        "id": "Z0U5NALur5nF",
        "colab": {
          "base_uri": "https://localhost:8080/",
          "height": 417
        },
        "outputId": "845bfc17-470e-4254-dbb2-913a7bc5170e"
      },
      "source": [
        "df_usuarios = pd.read_csv(\"/content/gdrive/MyDrive/base_usuarios.csv\", sep = \";\")\n",
        "df_usuarios"
      ],
      "execution_count": 82,
      "outputs": [
        {
          "output_type": "execute_result",
          "data": {
            "text/html": [
              "<div>\n",
              "<style scoped>\n",
              "    .dataframe tbody tr th:only-of-type {\n",
              "        vertical-align: middle;\n",
              "    }\n",
              "\n",
              "    .dataframe tbody tr th {\n",
              "        vertical-align: top;\n",
              "    }\n",
              "\n",
              "    .dataframe thead th {\n",
              "        text-align: right;\n",
              "    }\n",
              "</style>\n",
              "<table border=\"1\" class=\"dataframe\">\n",
              "  <thead>\n",
              "    <tr style=\"text-align: right;\">\n",
              "      <th></th>\n",
              "      <th>Unnamed: 0</th>\n",
              "      <th>iduser</th>\n",
              "      <th>barrio</th>\n",
              "      <th>genero</th>\n",
              "      <th>fecha_nacimiento</th>\n",
              "      <th>canal_alta</th>\n",
              "      <th>fecha_alta</th>\n",
              "      <th>metodo_alta</th>\n",
              "      <th>tipo_servicio</th>\n",
              "    </tr>\n",
              "  </thead>\n",
              "  <tbody>\n",
              "    <tr>\n",
              "      <th>0</th>\n",
              "      <td>0</td>\n",
              "      <td>112312</td>\n",
              "      <td>San Nicolás</td>\n",
              "      <td>F</td>\n",
              "      <td>1995-05-11</td>\n",
              "      <td>Android</td>\n",
              "      <td>2020-05-30</td>\n",
              "      <td>Google</td>\n",
              "      <td>Normal</td>\n",
              "    </tr>\n",
              "    <tr>\n",
              "      <th>1</th>\n",
              "      <td>1</td>\n",
              "      <td>112313</td>\n",
              "      <td>San Nicolás</td>\n",
              "      <td>M</td>\n",
              "      <td>1996-12-02</td>\n",
              "      <td>IOS</td>\n",
              "      <td>2020-04-18</td>\n",
              "      <td>Codigo Promocional</td>\n",
              "      <td>Normal</td>\n",
              "    </tr>\n",
              "    <tr>\n",
              "      <th>2</th>\n",
              "      <td>2</td>\n",
              "      <td>112314</td>\n",
              "      <td>Caballito</td>\n",
              "      <td>M</td>\n",
              "      <td>1998-08-22</td>\n",
              "      <td>Web</td>\n",
              "      <td>2020-04-19</td>\n",
              "      <td>Google</td>\n",
              "      <td>Normal</td>\n",
              "    </tr>\n",
              "    <tr>\n",
              "      <th>3</th>\n",
              "      <td>3</td>\n",
              "      <td>112315</td>\n",
              "      <td>Almagro</td>\n",
              "      <td>F</td>\n",
              "      <td>1999-06-11</td>\n",
              "      <td>Android</td>\n",
              "      <td>2020-05-17</td>\n",
              "      <td>Google</td>\n",
              "      <td>Premiuml</td>\n",
              "    </tr>\n",
              "    <tr>\n",
              "      <th>4</th>\n",
              "      <td>4</td>\n",
              "      <td>112316</td>\n",
              "      <td>Chacarita</td>\n",
              "      <td>M</td>\n",
              "      <td>1998-01-04</td>\n",
              "      <td>Web</td>\n",
              "      <td>2020-05-08</td>\n",
              "      <td>Google</td>\n",
              "      <td>Normal</td>\n",
              "    </tr>\n",
              "    <tr>\n",
              "      <th>...</th>\n",
              "      <td>...</td>\n",
              "      <td>...</td>\n",
              "      <td>...</td>\n",
              "      <td>...</td>\n",
              "      <td>...</td>\n",
              "      <td>...</td>\n",
              "      <td>...</td>\n",
              "      <td>...</td>\n",
              "      <td>...</td>\n",
              "    </tr>\n",
              "    <tr>\n",
              "      <th>12445</th>\n",
              "      <td>12445</td>\n",
              "      <td>124757</td>\n",
              "      <td>Villa Urquiza</td>\n",
              "      <td>F</td>\n",
              "      <td>1966-09-30</td>\n",
              "      <td>Android</td>\n",
              "      <td>2020-10-07</td>\n",
              "      <td>Google</td>\n",
              "      <td>Normal</td>\n",
              "    </tr>\n",
              "    <tr>\n",
              "      <th>12446</th>\n",
              "      <td>12446</td>\n",
              "      <td>124758</td>\n",
              "      <td>Villa Crespo</td>\n",
              "      <td>F</td>\n",
              "      <td>1962-11-10</td>\n",
              "      <td>Android</td>\n",
              "      <td>2020-08-12</td>\n",
              "      <td>Google</td>\n",
              "      <td>Premiuml</td>\n",
              "    </tr>\n",
              "    <tr>\n",
              "      <th>12447</th>\n",
              "      <td>12447</td>\n",
              "      <td>124759</td>\n",
              "      <td>Nueva Pompeya</td>\n",
              "      <td>M</td>\n",
              "      <td>1941-10-18</td>\n",
              "      <td>Android</td>\n",
              "      <td>2020-10-03</td>\n",
              "      <td>Google</td>\n",
              "      <td>Normal</td>\n",
              "    </tr>\n",
              "    <tr>\n",
              "      <th>12448</th>\n",
              "      <td>12448</td>\n",
              "      <td>124760</td>\n",
              "      <td>Parque Avellaneda</td>\n",
              "      <td>M</td>\n",
              "      <td>1976-09-08</td>\n",
              "      <td>Android</td>\n",
              "      <td>2020-10-24</td>\n",
              "      <td>Google</td>\n",
              "      <td>Premiuml</td>\n",
              "    </tr>\n",
              "    <tr>\n",
              "      <th>12449</th>\n",
              "      <td>12449</td>\n",
              "      <td>124761</td>\n",
              "      <td>Nueva Pompeya</td>\n",
              "      <td>M</td>\n",
              "      <td>1953-07-30</td>\n",
              "      <td>Web</td>\n",
              "      <td>2020-08-25</td>\n",
              "      <td>Organico</td>\n",
              "      <td>Normal</td>\n",
              "    </tr>\n",
              "  </tbody>\n",
              "</table>\n",
              "<p>12450 rows × 9 columns</p>\n",
              "</div>"
            ],
            "text/plain": [
              "       Unnamed: 0  iduser             barrio genero fecha_nacimiento  \\\n",
              "0               0  112312        San Nicolás      F       1995-05-11   \n",
              "1               1  112313        San Nicolás      M       1996-12-02   \n",
              "2               2  112314          Caballito      M       1998-08-22   \n",
              "3               3  112315            Almagro      F       1999-06-11   \n",
              "4               4  112316          Chacarita      M       1998-01-04   \n",
              "...           ...     ...                ...    ...              ...   \n",
              "12445       12445  124757      Villa Urquiza      F       1966-09-30   \n",
              "12446       12446  124758       Villa Crespo      F       1962-11-10   \n",
              "12447       12447  124759      Nueva Pompeya      M       1941-10-18   \n",
              "12448       12448  124760  Parque Avellaneda      M       1976-09-08   \n",
              "12449       12449  124761      Nueva Pompeya      M       1953-07-30   \n",
              "\n",
              "      canal_alta  fecha_alta         metodo_alta tipo_servicio  \n",
              "0        Android  2020-05-30              Google        Normal  \n",
              "1            IOS  2020-04-18  Codigo Promocional        Normal  \n",
              "2            Web  2020-04-19              Google        Normal  \n",
              "3        Android  2020-05-17              Google      Premiuml  \n",
              "4            Web  2020-05-08              Google        Normal  \n",
              "...          ...         ...                 ...           ...  \n",
              "12445    Android  2020-10-07              Google        Normal  \n",
              "12446    Android  2020-08-12              Google      Premiuml  \n",
              "12447    Android  2020-10-03              Google        Normal  \n",
              "12448    Android  2020-10-24              Google      Premiuml  \n",
              "12449        Web  2020-08-25            Organico        Normal  \n",
              "\n",
              "[12450 rows x 9 columns]"
            ]
          },
          "metadata": {},
          "execution_count": 82
        }
      ]
    },
    {
      "cell_type": "code",
      "metadata": {
        "id": "xsC7xgsIKhyj"
      },
      "source": [
        "df_usuarios_ = df_usuarios.loc[~df_usuarios.iduser.isin(RFM.iduser),:]"
      ],
      "execution_count": 83,
      "outputs": []
    },
    {
      "cell_type": "code",
      "metadata": {
        "id": "waD_hCEgKxX1"
      },
      "source": [
        "RFM = pd.concat([RFM,\n",
        "                 pd.DataFrame({\"iduser\" : df_usuarios_.iduser,\n",
        "                               \"R\" : 0,\n",
        "                               \"F\" : 0,\n",
        "                               \"M\" : 0,\n",
        "                               \"r_score\" : 0,\n",
        "                               \"f_score\" : 0,\n",
        "                               \"m_score\" : 0,\n",
        "                               \"score\" : 000,\n",
        "                               \"segment\" : \"Inactivo\",\n",
        "                               \"Value\" : \"Bad\"})] , axis = 0)"
      ],
      "execution_count": 84,
      "outputs": []
    },
    {
      "cell_type": "code",
      "metadata": {
        "id": "k94b3iQrLO5Y",
        "colab": {
          "base_uri": "https://localhost:8080/"
        },
        "outputId": "b3a0a8f7-0077-4692-b329-273367f099a2"
      },
      "source": [
        "RFM.segment.value_counts()"
      ],
      "execution_count": 85,
      "outputs": [
        {
          "output_type": "execute_result",
          "data": {
            "text/plain": [
              "Inactivo              5584\n",
              "Champions             2100\n",
              "Hibernating           1386\n",
              "Lost                  1270\n",
              "Need Attention        1109\n",
              "About To Sleep         937\n",
              "Potential Loyalist     854\n",
              "At Risk                800\n",
              "Loyal Customers        538\n",
              "Can't Lose Them        378\n",
              "Promising              247\n",
              "New Customers           39\n",
              "Name: segment, dtype: int64"
            ]
          },
          "metadata": {},
          "execution_count": 85
        }
      ]
    },
    {
      "cell_type": "code",
      "metadata": {
        "id": "Z_7d_9USK27l"
      },
      "source": [
        ""
      ],
      "execution_count": null,
      "outputs": []
    },
    {
      "cell_type": "markdown",
      "metadata": {
        "id": "DowOSYUCXN6F"
      },
      "source": [
        "🏷️ 8. Crear una grafica para visualizar los segmentos creados"
      ]
    },
    {
      "cell_type": "code",
      "metadata": {
        "id": "MgyE-Iiur7pE",
        "colab": {
          "base_uri": "https://localhost:8080/",
          "height": 334
        },
        "outputId": "5f86a302-fd87-4872-a0b4-4d92d684a5b2"
      },
      "source": [
        "plt.figure(figsize=(20,5))\n",
        "sns.countplot(data = RFM, x= \"segment\", order = RFM[\"segment\"].value_counts().index)\n",
        "plt.show()"
      ],
      "execution_count": 87,
      "outputs": [
        {
          "output_type": "display_data",
          "data": {
            "image/png": "[encoded data removed]",
            "text/plain": [
              "<Figure size 1440x360 with 1 Axes>"
            ]
          },
          "metadata": {
            "needs_background": "light"
          }
        }
      ]
    },
    {
      "cell_type": "code",
      "metadata": {
        "id": "Q4EVET_5Melx",
        "colab": {
          "base_uri": "https://localhost:8080/",
          "height": 334
        },
        "outputId": "3565f606-44a8-4620-bc0e-9e5bebfc7363"
      },
      "source": [
        "plt.figure(figsize=(20,5))\n",
        "sns.countplot(data = RFM, x= \"Value\", order = RFM[\"Value\"].value_counts().index)\n",
        "plt.show()"
      ],
      "execution_count": 88,
      "outputs": [
        {
          "output_type": "display_data",
          "data": {
            "image/png": "[encoded data removed]",
            "text/plain": [
              "<Figure size 1440x360 with 1 Axes>"
            ]
          },
          "metadata": {
            "needs_background": "light"
          }
        }
      ]
    }
  ]
}