{
 "cells": [
  {
   "cell_type": "code",
   "execution_count": null,
   "metadata": {},
   "outputs": [],
   "source": [
    "import redshift_connector\n",
    "import pandas as pd\n",
    "import numpy as np\n",
    "import itertools\n",
    "\n",
    "connection_params = {\n",
    "    #\"host\": \"redshift-cluster-1.ckn2lwjnp1s3.us-west-2.redshift.amazonaws.com\",\n",
    "    \"host\": \"bi.cs6xqs1juvgi.us-east-1.redshift.amazonaws.com\",\n",
    "    \"database\": \"bi\",\n",
    "    \"user\": \"biadmin\",\n",
    "    \"password\": \"dGXecsDNJa6pJymD\",\n",
    "}\n",
    "#sql = \"select * from dwh.fact_registers fr limit 10 \"\n",
    "sql = \"select * from marketing.business_spend a limit 5\"\n",
    "\n",
    "with redshift_connector.connect(**connection_params) as con:\n",
    "    df = pd.read_sql(sql, con=con)\n",
    "print(\"conectado\")\n",
    "df.info()\n",
    "dt=pd.DataFrame(df)\n",
    "#dt[\"b'start'\"]\n",
    "#start = df[\"start\"].map(rank).values\n",
    "#start[\"'b'start'\"]\n",
    "#data = dt.rename(columns={b'start''\"\":'periodo orbital'})\n",
    "df.columns = [col.decode(\"utf-8\") for col in df.columns]\n",
    "df"
   ]
  }
 ],
 "metadata": {
  "language_info": {
   "name": "python"
  },
  "orig_nbformat": 4
 },
 "nbformat": 4,
 "nbformat_minor": 2
}
