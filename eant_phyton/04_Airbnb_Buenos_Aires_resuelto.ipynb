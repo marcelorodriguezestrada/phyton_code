{
 "cells": [
  {
   "cell_type": "markdown",
   "metadata": {
    "id": "Es5VMuW6wr1C"
   },
   "source": [
    " <img src=\"https://eant.tech/imagenes/logo.png\" width=25% height=80%  >\n"
   ]
  },
  {
   "cell_type": "markdown",
   "metadata": {
    "id": "mR8ORYq3Jpce"
   },
   "source": [
    "## <img src=\"http://icons.iconarchive.com/icons/cornmanthe3rd/plex/256/Other-python-icon.png\" width=\"40\"> Ejercicio Airbnb 🏠 🛋️\n",
    "\n",
    "<center>\n",
    " <img src=\"https://thereverend.co.uk/blog/wp-content/uploads/2019/01/Air-Bnb-Logo-e1546550992454.png\" width=\"80%\" height=\"10%\"> \n",
    "</center>\n",
    "\n",
    "\n"
   ]
  },
  {
   "cell_type": "markdown",
   "metadata": {
    "id": "2ZCW8VrOJr4X"
   },
   "source": [
    "🔹 Importar los paquetes que vamos a utilizar."
   ]
  },
  {
   "cell_type": "code",
   "execution_count": null,
   "metadata": {
    "id": "_25wdXJrwrPO"
   },
   "outputs": [],
   "source": [
    "import pandas as pd\n",
    "import numpy as np"
   ]
  },
  {
   "cell_type": "markdown",
   "metadata": {
    "id": "M3OVbPu6woSm"
   },
   "source": [
    "🔹 Importar el archivo que se encuentra en: https://raw.githubusercontent.com/cienciadedatos/datos-de-miercoles/master/datos/2019/2019-06-05/buenos_aires.csv"
   ]
  },
  {
   "cell_type": "code",
   "execution_count": null,
   "metadata": {
    "id": "daWFELrswdJF"
   },
   "outputs": [],
   "source": [
    "buenos_aires=pd.read_csv('https://raw.githubusercontent.com/cienciadedatos/datos-de-miercoles/master/datos/2019/2019-06-05/buenos_aires.csv')"
   ]
  },
  {
   "cell_type": "markdown",
   "metadata": {
    "id": "Uc-I747Ww4OL"
   },
   "source": [
    "🔹  Ver las primeras observaciones del dataframe"
   ]
  },
  {
   "cell_type": "code",
   "execution_count": null,
   "metadata": {
    "colab": {
     "base_uri": "https://localhost:8080/",
     "height": 434
    },
    "id": "pGy-r30Nw4tb",
    "outputId": "269ba766-6520-4010-8ffc-7f0fc5c35724"
   },
   "outputs": [
    {
     "data": {
      "text/html": [
       "<div>\n",
       "<style scoped>\n",
       "    .dataframe tbody tr th:only-of-type {\n",
       "        vertical-align: middle;\n",
       "    }\n",
       "\n",
       "    .dataframe tbody tr th {\n",
       "        vertical-align: top;\n",
       "    }\n",
       "\n",
       "    .dataframe thead th {\n",
       "        text-align: right;\n",
       "    }\n",
       "</style>\n",
       "<table border=\"1\" class=\"dataframe\">\n",
       "  <thead>\n",
       "    <tr style=\"text-align: right;\">\n",
       "      <th></th>\n",
       "      <th>id</th>\n",
       "      <th>descripcion</th>\n",
       "      <th>id_anfitrion</th>\n",
       "      <th>nombre_anfitrion</th>\n",
       "      <th>anfitrion_desde</th>\n",
       "      <th>superanfitrion</th>\n",
       "      <th>barrio</th>\n",
       "      <th>latitud</th>\n",
       "      <th>longitud</th>\n",
       "      <th>tipo_alojamiento</th>\n",
       "      <th>precio</th>\n",
       "      <th>huespedes</th>\n",
       "      <th>politica_cancelacion</th>\n",
       "    </tr>\n",
       "  </thead>\n",
       "  <tbody>\n",
       "    <tr>\n",
       "      <th>0</th>\n",
       "      <td>7270</td>\n",
       "      <td>¡¡Great Loft in Palermo Hollywood!!</td>\n",
       "      <td>18822</td>\n",
       "      <td>Toni</td>\n",
       "      <td>2009-05-26</td>\n",
       "      <td>False</td>\n",
       "      <td>Palermo</td>\n",
       "      <td>-34.58241</td>\n",
       "      <td>-58.43382</td>\n",
       "      <td>Alojamiento entero</td>\n",
       "      <td>1802</td>\n",
       "      <td>2</td>\n",
       "      <td>estricta_con_gracia</td>\n",
       "    </tr>\n",
       "    <tr>\n",
       "      <th>1</th>\n",
       "      <td>11508</td>\n",
       "      <td>Amazing Luxurious Apt-Palermo Soho</td>\n",
       "      <td>42762</td>\n",
       "      <td>Candela</td>\n",
       "      <td>2009-10-01</td>\n",
       "      <td>False</td>\n",
       "      <td>Palermo</td>\n",
       "      <td>-34.58225</td>\n",
       "      <td>-58.42460</td>\n",
       "      <td>Alojamiento entero</td>\n",
       "      <td>2514</td>\n",
       "      <td>2</td>\n",
       "      <td>estricta_con_gracia</td>\n",
       "    </tr>\n",
       "    <tr>\n",
       "      <th>2</th>\n",
       "      <td>12463</td>\n",
       "      <td>Room in Recoleta - awesome location</td>\n",
       "      <td>48799</td>\n",
       "      <td>Matt</td>\n",
       "      <td>2009-10-28</td>\n",
       "      <td>False</td>\n",
       "      <td>Recoleta</td>\n",
       "      <td>-34.59761</td>\n",
       "      <td>-58.39468</td>\n",
       "      <td>Habitación privada</td>\n",
       "      <td>1005</td>\n",
       "      <td>1</td>\n",
       "      <td>moderada</td>\n",
       "    </tr>\n",
       "    <tr>\n",
       "      <th>3</th>\n",
       "      <td>13095</td>\n",
       "      <td>Standard Room at Palermo Viejo B&amp;B</td>\n",
       "      <td>50994</td>\n",
       "      <td>Ariel</td>\n",
       "      <td>2009-11-03</td>\n",
       "      <td>False</td>\n",
       "      <td>Palermo</td>\n",
       "      <td>-34.59382</td>\n",
       "      <td>-58.42994</td>\n",
       "      <td>Habitación privada</td>\n",
       "      <td>2304</td>\n",
       "      <td>2</td>\n",
       "      <td>estricta_con_gracia</td>\n",
       "    </tr>\n",
       "    <tr>\n",
       "      <th>4</th>\n",
       "      <td>13096</td>\n",
       "      <td>Standard Room in Palermo Viejo B&amp;B</td>\n",
       "      <td>50994</td>\n",
       "      <td>Ariel</td>\n",
       "      <td>2009-11-03</td>\n",
       "      <td>False</td>\n",
       "      <td>Palermo</td>\n",
       "      <td>-34.59398</td>\n",
       "      <td>-58.42853</td>\n",
       "      <td>Habitación privada</td>\n",
       "      <td>2304</td>\n",
       "      <td>2</td>\n",
       "      <td>estricta_con_gracia</td>\n",
       "    </tr>\n",
       "  </tbody>\n",
       "</table>\n",
       "</div>"
      ],
      "text/plain": [
       "      id                          descripcion  ...  huespedes politica_cancelacion\n",
       "0   7270  ¡¡Great Loft in Palermo Hollywood!!  ...          2  estricta_con_gracia\n",
       "1  11508   Amazing Luxurious Apt-Palermo Soho  ...          2  estricta_con_gracia\n",
       "2  12463  Room in Recoleta - awesome location  ...          1             moderada\n",
       "3  13095   Standard Room at Palermo Viejo B&B  ...          2  estricta_con_gracia\n",
       "4  13096   Standard Room in Palermo Viejo B&B  ...          2  estricta_con_gracia\n",
       "\n",
       "[5 rows x 13 columns]"
      ]
     },
     "execution_count": 3,
     "metadata": {
      "tags": []
     },
     "output_type": "execute_result"
    }
   ],
   "source": [
    "buenos_aires.head()"
   ]
  },
  {
   "cell_type": "markdown",
   "metadata": {
    "id": "AZBAgKENw9Xj"
   },
   "source": [
    "🔹  Cuantas columnas y filas tiene el dataframe"
   ]
  },
  {
   "cell_type": "code",
   "execution_count": null,
   "metadata": {
    "colab": {
     "base_uri": "https://localhost:8080/"
    },
    "id": "tDHmFEg3w_BC",
    "outputId": "f56fa8df-8c60-44a8-dc4d-112bf14f4e59"
   },
   "outputs": [
    {
     "data": {
      "text/plain": [
       "(18708, 13)"
      ]
     },
     "execution_count": 4,
     "metadata": {
      "tags": []
     },
     "output_type": "execute_result"
    }
   ],
   "source": [
    "buenos_aires.shape"
   ]
  },
  {
   "cell_type": "markdown",
   "metadata": {
    "id": "pM2osz9ObXG8"
   },
   "source": [
    "🔹 Cuantos barrios tiene el dataframe"
   ]
  },
  {
   "cell_type": "code",
   "execution_count": null,
   "metadata": {
    "colab": {
     "base_uri": "https://localhost:8080/"
    },
    "id": "LMiobLwYbVh3",
    "outputId": "819d40eb-56c0-42a8-cf39-655a0b54d1b2"
   },
   "outputs": [
    {
     "data": {
      "text/plain": [
       "48"
      ]
     },
     "execution_count": 5,
     "metadata": {
      "tags": []
     },
     "output_type": "execute_result"
    }
   ],
   "source": [
    "len(buenos_aires.barrio.unique())"
   ]
  },
  {
   "cell_type": "markdown",
   "metadata": {
    "id": "p7ZGMLRDxD0a"
   },
   "source": [
    "🔹  Cuantas filas tienen valores nulos"
   ]
  },
  {
   "cell_type": "code",
   "execution_count": null,
   "metadata": {
    "colab": {
     "base_uri": "https://localhost:8080/"
    },
    "id": "5jEQ9jNHJ6QI",
    "outputId": "b06f0791-4c41-48da-870d-494dc182fcfe"
   },
   "outputs": [
    {
     "data": {
      "text/plain": [
       "14"
      ]
     },
     "execution_count": 10,
     "metadata": {
      "tags": []
     },
     "output_type": "execute_result"
    }
   ],
   "source": [
    "(buenos_aires.isna().sum(axis=1)>0).sum()"
   ]
  },
  {
   "cell_type": "markdown",
   "metadata": {
    "id": "93zLmgE-ya69"
   },
   "source": [
    "🔹  Retonar las filas que contienen valores nulos"
   ]
  },
  {
   "cell_type": "code",
   "execution_count": null,
   "metadata": {
    "id": "yEZad8qeyE81"
   },
   "outputs": [],
   "source": [
    "filas_vacias=buenos_aires.loc[buenos_aires.isna().sum(axis=1)>0,:]"
   ]
  },
  {
   "cell_type": "code",
   "execution_count": null,
   "metadata": {
    "colab": {
     "base_uri": "https://localhost:8080/",
     "height": 35
    },
    "id": "6tGxWYMEyRBa",
    "outputId": "bd68916f-6c37-4391-ab48-b5cb701f6133"
   },
   "outputs": [
    {
     "data": {
      "text/plain": [
       "(14, 13)"
      ]
     },
     "execution_count": 17,
     "metadata": {
      "tags": []
     },
     "output_type": "execute_result"
    }
   ],
   "source": [
    "filas_vacias.shape\n"
   ]
  },
  {
   "cell_type": "code",
   "execution_count": null,
   "metadata": {
    "colab": {
     "base_uri": "https://localhost:8080/",
     "height": 259
    },
    "id": "Z6dDsaDiyAdr",
    "outputId": "3c76ec19-1c77-46ae-d42b-a7d0bbc5f869"
   },
   "outputs": [
    {
     "data": {
      "text/plain": [
       "id                       0\n",
       "descripcion             11\n",
       "id_anfitrion             0\n",
       "nombre_anfitrion         3\n",
       "anfitrion_desde          3\n",
       "superanfitrion           3\n",
       "barrio                   0\n",
       "latitud                  0\n",
       "longitud                 0\n",
       "tipo_alojamiento         0\n",
       "precio                   0\n",
       "huespedes                0\n",
       "politica_cancelacion     0\n",
       "dtype: int64"
      ]
     },
     "execution_count": 12,
     "metadata": {
      "tags": []
     },
     "output_type": "execute_result"
    }
   ],
   "source": [
    "buenos_aires.isnull().sum(axis=0) # columnas "
   ]
  },
  {
   "cell_type": "markdown",
   "metadata": {
    "id": "p97lbKfyykxt"
   },
   "source": [
    "🔹  Utilizar una función para poder imprimir alguno de los siguientes valores: cantidad, media, desvio standard, minimo, cuartiles y maximo."
   ]
  },
  {
   "cell_type": "code",
   "execution_count": null,
   "metadata": {
    "colab": {
     "base_uri": "https://localhost:8080/",
     "height": 288
    },
    "id": "-5m4Yl-yylOA",
    "outputId": "d09eb3ea-3820-4d61-a8f9-2ab71b22ff50"
   },
   "outputs": [
    {
     "data": {
      "text/html": [
       "<div>\n",
       "<style scoped>\n",
       "    .dataframe tbody tr th:only-of-type {\n",
       "        vertical-align: middle;\n",
       "    }\n",
       "\n",
       "    .dataframe tbody tr th {\n",
       "        vertical-align: top;\n",
       "    }\n",
       "\n",
       "    .dataframe thead th {\n",
       "        text-align: right;\n",
       "    }\n",
       "</style>\n",
       "<table border=\"1\" class=\"dataframe\">\n",
       "  <thead>\n",
       "    <tr style=\"text-align: right;\">\n",
       "      <th></th>\n",
       "      <th>id</th>\n",
       "      <th>id_anfitrion</th>\n",
       "      <th>latitud</th>\n",
       "      <th>longitud</th>\n",
       "      <th>precio</th>\n",
       "      <th>huespedes</th>\n",
       "    </tr>\n",
       "  </thead>\n",
       "  <tbody>\n",
       "    <tr>\n",
       "      <th>count</th>\n",
       "      <td>1.870800e+04</td>\n",
       "      <td>1.870800e+04</td>\n",
       "      <td>18708.000000</td>\n",
       "      <td>18708.000000</td>\n",
       "      <td>18708.000000</td>\n",
       "      <td>18708.000000</td>\n",
       "    </tr>\n",
       "    <tr>\n",
       "      <th>mean</th>\n",
       "      <td>2.077530e+07</td>\n",
       "      <td>8.201835e+07</td>\n",
       "      <td>-34.592766</td>\n",
       "      <td>-58.416307</td>\n",
       "      <td>2312.905442</td>\n",
       "      <td>2.706703</td>\n",
       "    </tr>\n",
       "    <tr>\n",
       "      <th>std</th>\n",
       "      <td>1.057996e+07</td>\n",
       "      <td>7.989028e+07</td>\n",
       "      <td>0.018327</td>\n",
       "      <td>0.030025</td>\n",
       "      <td>6146.817265</td>\n",
       "      <td>1.503398</td>\n",
       "    </tr>\n",
       "    <tr>\n",
       "      <th>min</th>\n",
       "      <td>7.270000e+03</td>\n",
       "      <td>2.616000e+03</td>\n",
       "      <td>-34.690370</td>\n",
       "      <td>-58.531770</td>\n",
       "      <td>126.000000</td>\n",
       "      <td>1.000000</td>\n",
       "    </tr>\n",
       "    <tr>\n",
       "      <th>25%</th>\n",
       "      <td>1.260790e+07</td>\n",
       "      <td>1.112531e+07</td>\n",
       "      <td>-34.603580</td>\n",
       "      <td>-58.435622</td>\n",
       "      <td>964.000000</td>\n",
       "      <td>2.000000</td>\n",
       "    </tr>\n",
       "    <tr>\n",
       "      <th>50%</th>\n",
       "      <td>2.325444e+07</td>\n",
       "      <td>5.110859e+07</td>\n",
       "      <td>-34.591905</td>\n",
       "      <td>-58.415940</td>\n",
       "      <td>1550.000000</td>\n",
       "      <td>2.000000</td>\n",
       "    </tr>\n",
       "    <tr>\n",
       "      <th>75%</th>\n",
       "      <td>3.014930e+07</td>\n",
       "      <td>1.479083e+08</td>\n",
       "      <td>-34.582250</td>\n",
       "      <td>-58.392040</td>\n",
       "      <td>2482.000000</td>\n",
       "      <td>3.000000</td>\n",
       "    </tr>\n",
       "    <tr>\n",
       "      <th>max</th>\n",
       "      <td>3.396067e+07</td>\n",
       "      <td>2.563364e+08</td>\n",
       "      <td>-34.534100</td>\n",
       "      <td>-58.354880</td>\n",
       "      <td>436543.000000</td>\n",
       "      <td>16.000000</td>\n",
       "    </tr>\n",
       "  </tbody>\n",
       "</table>\n",
       "</div>"
      ],
      "text/plain": [
       "                 id  id_anfitrion  ...         precio     huespedes\n",
       "count  1.870800e+04  1.870800e+04  ...   18708.000000  18708.000000\n",
       "mean   2.077530e+07  8.201835e+07  ...    2312.905442      2.706703\n",
       "std    1.057996e+07  7.989028e+07  ...    6146.817265      1.503398\n",
       "min    7.270000e+03  2.616000e+03  ...     126.000000      1.000000\n",
       "25%    1.260790e+07  1.112531e+07  ...     964.000000      2.000000\n",
       "50%    2.325444e+07  5.110859e+07  ...    1550.000000      2.000000\n",
       "75%    3.014930e+07  1.479083e+08  ...    2482.000000      3.000000\n",
       "max    3.396067e+07  2.563364e+08  ...  436543.000000     16.000000\n",
       "\n",
       "[8 rows x 6 columns]"
      ]
     },
     "execution_count": 19,
     "metadata": {
      "tags": []
     },
     "output_type": "execute_result"
    }
   ],
   "source": [
    "buenos_aires.describe()"
   ]
  },
  {
   "cell_type": "markdown",
   "metadata": {
    "id": "N4ZX9KZUyzPV"
   },
   "source": [
    "🔹  Imprimir la cantidad de propiedades que hay por barrio"
   ]
  },
  {
   "cell_type": "code",
   "execution_count": null,
   "metadata": {
    "colab": {
     "base_uri": "https://localhost:8080/",
     "height": 864
    },
    "id": "6AaMKoZ7y16Q",
    "outputId": "de5a3489-a974-4bed-eb10-e5c335b2026d"
   },
   "outputs": [
    {
     "data": {
      "text/plain": [
       "Palermo              5647\n",
       "Recoleta             3045\n",
       "San Nicolas          1017\n",
       "Retiro                953\n",
       "Balvanera             870\n",
       "Almagro               826\n",
       "Belgrano              821\n",
       "Monserrat             771\n",
       "Villa Crespo          625\n",
       "San Telmo             614\n",
       "Colegiales            382\n",
       "Caballito             378\n",
       "Chacarita             348\n",
       "Nuñez                 346\n",
       "Constitucion          267\n",
       "Puerto Madero         223\n",
       "Villa Urquiza         210\n",
       "Barracas              146\n",
       "Saavedra              115\n",
       "San Cristobal         113\n",
       "Flores                110\n",
       "Boca                   91\n",
       "Villa Ortuzar          84\n",
       "Boedo                  84\n",
       "Coghlan                80\n",
       "Villa Devoto           67\n",
       "Parque Patricios       55\n",
       "Parque Chacabuco       46\n",
       "Villa Del Parque       45\n",
       "Parque Chas            43\n",
       "Villa Pueyrredon       36\n",
       "Paternal               28\n",
       "Villa Gral. Mitre      27\n",
       "Floresta               27\n",
       "Agronomia              26\n",
       "Villa Santa Rita       18\n",
       "Villa Luro             17\n",
       "Liniers                17\n",
       "Velez Sarsfield        16\n",
       "Monte Castro           15\n",
       "Nueva Pompeya          12\n",
       "Mataderos              10\n",
       "Parque Avellaneda      10\n",
       "Villa Lugano           10\n",
       "Villa Real              7\n",
       "Versalles               6\n",
       "Villa Riachuelo         3\n",
       "Villa Soldati           1\n",
       "Name: barrio, dtype: int64"
      ]
     },
     "execution_count": 20,
     "metadata": {
      "tags": []
     },
     "output_type": "execute_result"
    }
   ],
   "source": [
    "buenos_aires.barrio.value_counts()"
   ]
  },
  {
   "cell_type": "markdown",
   "metadata": {
    "id": "cxRaA3Yiy6Ru"
   },
   "source": [
    "🔹  Generar una variable denominada \"BarrioMax\" con el barrio que posee más propiedades"
   ]
  },
  {
   "cell_type": "code",
   "execution_count": null,
   "metadata": {
    "colab": {
     "base_uri": "https://localhost:8080/",
     "height": 35
    },
    "id": "qspBA24Cy5Uq",
    "outputId": "53b29408-a65d-4fc7-cd7a-2cec6037d899"
   },
   "outputs": [
    {
     "data": {
      "application/vnd.google.colaboratory.intrinsic+json": {
       "type": "string"
      },
      "text/plain": [
       "'Palermo'"
      ]
     },
     "execution_count": 22,
     "metadata": {
      "tags": []
     },
     "output_type": "execute_result"
    }
   ],
   "source": [
    "BarrioMax=buenos_aires.barrio.value_counts().index[0]\n",
    "BarrioMax"
   ]
  },
  {
   "cell_type": "markdown",
   "metadata": {
    "id": "akov3B08zD3t"
   },
   "source": [
    "🔹 Generar una variable denominada \"BarrioMin\" con el barrio que posee más propiedades"
   ]
  },
  {
   "cell_type": "code",
   "execution_count": null,
   "metadata": {
    "colab": {
     "base_uri": "https://localhost:8080/",
     "height": 35
    },
    "id": "vXvz8jJRzGMQ",
    "outputId": "711519e5-6198-4034-f2f0-fe2c71bac6dd"
   },
   "outputs": [
    {
     "data": {
      "application/vnd.google.colaboratory.intrinsic+json": {
       "type": "string"
      },
      "text/plain": [
       "'Villa Soldati'"
      ]
     },
     "execution_count": 23,
     "metadata": {
      "tags": []
     },
     "output_type": "execute_result"
    }
   ],
   "source": [
    "BarrioMin=buenos_aires.barrio.value_counts().index[len(buenos_aires.barrio.unique())-1]\n",
    "BarrioMin"
   ]
  },
  {
   "cell_type": "markdown",
   "metadata": {
    "id": "nTZ04O0FzSnT"
   },
   "source": [
    "🔹 Generar un dataframe con el barrio que posee más propiedades denominado \"Barriodf\""
   ]
  },
  {
   "cell_type": "code",
   "execution_count": null,
   "metadata": {
    "id": "NLayXAMBzQgY"
   },
   "outputs": [],
   "source": [
    "Barriodf=buenos_aires.loc[buenos_aires.barrio==BarrioMax,:]"
   ]
  },
  {
   "cell_type": "markdown",
   "metadata": {
    "id": "j3AlTFBQzg3_"
   },
   "source": [
    "🔹  En base al dataframe generado en el punto anterior, cuantas propiedades hay por tipo de alojamiento"
   ]
  },
  {
   "cell_type": "code",
   "execution_count": null,
   "metadata": {
    "colab": {
     "base_uri": "https://localhost:8080/",
     "height": 86
    },
    "id": "C8zlguKezgfO",
    "outputId": "9dd6e57c-46b3-4afb-b6db-71724770fae0"
   },
   "outputs": [
    {
     "data": {
      "text/plain": [
       "Alojamiento entero       4660\n",
       "Habitación privada        870\n",
       "Habitación compartida     117\n",
       "Name: tipo_alojamiento, dtype: int64"
      ]
     },
     "execution_count": 26,
     "metadata": {
      "tags": []
     },
     "output_type": "execute_result"
    }
   ],
   "source": [
    "Barriodf.tipo_alojamiento.value_counts()"
   ]
  },
  {
   "cell_type": "markdown",
   "metadata": {
    "id": "jRnw4Kotzlpz"
   },
   "source": [
    "🔹 En base al dataframe generado con el barrio que tiene mas cantidad de propiedades, imprima la cantidad de propiedades en base a las politicas de cancelación"
   ]
  },
  {
   "cell_type": "code",
   "execution_count": null,
   "metadata": {
    "colab": {
     "base_uri": "https://localhost:8080/",
     "height": 121
    },
    "id": "E1el3Q1oznvi",
    "outputId": "e26b38d0-0cc3-4c70-a34e-28a6dd784d82"
   },
   "outputs": [
    {
     "data": {
      "text/plain": [
       "flexible               2125\n",
       "estricta_con_gracia    1963\n",
       "moderada               1555\n",
       "superestricta_60          3\n",
       "superestricta_30          1\n",
       "Name: politica_cancelacion, dtype: int64"
      ]
     },
     "execution_count": 27,
     "metadata": {
      "tags": []
     },
     "output_type": "execute_result"
    }
   ],
   "source": [
    "Barriodf.politica_cancelacion.value_counts()"
   ]
  },
  {
   "cell_type": "markdown",
   "metadata": {
    "id": "aS5mwKPHzua6"
   },
   "source": [
    "🔹 En base al dataframe generado con el barrio que tiene mas cantidad de propiedades, Cual es el rango de precios que hay?"
   ]
  },
  {
   "cell_type": "code",
   "execution_count": null,
   "metadata": {
    "colab": {
     "base_uri": "https://localhost:8080/",
     "height": 35
    },
    "id": "juLlK3m7zu-U",
    "outputId": "45a6a394-2f1b-44e3-b0e9-844d8c70fac4"
   },
   "outputs": [
    {
     "data": {
      "text/plain": [
       "293100"
      ]
     },
     "execution_count": 28,
     "metadata": {
      "tags": []
     },
     "output_type": "execute_result"
    }
   ],
   "source": [
    "rango=max(Barriodf.precio)-min(Barriodf.precio)\n",
    "rango"
   ]
  },
  {
   "cell_type": "markdown",
   "metadata": {
    "id": "DgSickrNz9sN"
   },
   "source": [
    "🔹 En base al dataframe generado con el barrio que tiene mas cantidad de propiedades, Cual es el rango intercuartílico de precios que hay?"
   ]
  },
  {
   "cell_type": "code",
   "execution_count": null,
   "metadata": {
    "colab": {
     "base_uri": "https://localhost:8080/",
     "height": 35
    },
    "id": "_cBlRsAbz-OH",
    "outputId": "07a98825-c18e-4451-d431-a4d665055ed3"
   },
   "outputs": [
    {
     "data": {
      "text/plain": [
       "1676.0"
      ]
     },
     "execution_count": 30,
     "metadata": {
      "tags": []
     },
     "output_type": "execute_result"
    }
   ],
   "source": [
    "q3=Barriodf.precio.quantile(0.75)\n",
    "q1=Barriodf.precio.quantile(0.25)\n",
    "\n",
    "iqr=q3-q1\n",
    "iqr"
   ]
  },
  {
   "cell_type": "markdown",
   "metadata": {
    "id": "_cGqOZ310JVY"
   },
   "source": [
    "🔹 En base al dataframe generado con el barrio que tiene mas cantidad de propiedades, Calcular los percentiles 20,30,50,70 y 90.-"
   ]
  },
  {
   "cell_type": "code",
   "execution_count": null,
   "metadata": {
    "colab": {
     "base_uri": "https://localhost:8080/",
     "height": 155
    },
    "id": "NAoLyDic0MCU",
    "outputId": "2888108a-06d1-4532-efff-657dede31b48"
   },
   "outputs": [
    {
     "data": {
      "text/plain": [
       "0.2    1131.0\n",
       "0.3    1424.0\n",
       "0.4    1640.0\n",
       "0.5    1885.0\n",
       "0.6    2165.4\n",
       "0.7    2639.0\n",
       "0.9    4609.0\n",
       "Name: precio, dtype: float64"
      ]
     },
     "execution_count": 43,
     "metadata": {
      "tags": []
     },
     "output_type": "execute_result"
    }
   ],
   "source": [
    "Barriodf.precio.quantile([0.20,0.30,0.4,0.50,0.6,0.70,0.90])"
   ]
  },
  {
   "cell_type": "code",
   "execution_count": null,
   "metadata": {
    "colab": {
     "base_uri": "https://localhost:8080/",
     "height": 173
    },
    "id": "wGNHmdKmQX4-",
    "outputId": "9d572ff4-0a9b-4c8f-9566-6f028e3830f5"
   },
   "outputs": [
    {
     "data": {
      "text/plain": [
       "0.2    1131.0\n",
       "0.3    1424.0\n",
       "0.4    1640.0\n",
       "0.5    1885.0\n",
       "0.6    2165.4\n",
       "0.7    2639.0\n",
       "0.8    3352.0\n",
       "0.9    4609.0\n",
       "Name: precio, dtype: float64"
      ]
     },
     "execution_count": 42,
     "metadata": {
      "tags": []
     },
     "output_type": "execute_result"
    }
   ],
   "source": [
    "Barriodf.precio.quantile([i/100 for i in range(20,100,10)])"
   ]
  },
  {
   "cell_type": "markdown",
   "metadata": {
    "id": "xFOLIgpaQndX"
   },
   "source": [
    "🔹 En base al dataframe generado con el barrio que tiene mas cantidad de propiedades, Imprimir todas las propiedades que tienen un precio superior al percentil 90.-"
   ]
  },
  {
   "cell_type": "code",
   "execution_count": null,
   "metadata": {
    "colab": {
     "base_uri": "https://localhost:8080/",
     "height": 35
    },
    "id": "XKOVpDF3PoCn",
    "outputId": "0a318b23-0fad-45a1-9f65-c41d9d9151b1"
   },
   "outputs": [
    {
     "data": {
      "text/plain": [
       "4609.0"
      ]
     },
     "execution_count": 45,
     "metadata": {
      "tags": []
     },
     "output_type": "execute_result"
    }
   ],
   "source": [
    "p90=Barriodf.precio.quantile(.9)\n",
    "p90"
   ]
  },
  {
   "cell_type": "code",
   "execution_count": null,
   "metadata": {
    "id": "j7Vl4cz00lRz"
   },
   "outputs": [],
   "source": [
    "Barriodf90=Barriodf.loc[Barriodf.precio>=p90,:]"
   ]
  },
  {
   "cell_type": "code",
   "execution_count": null,
   "metadata": {
    "colab": {
     "base_uri": "https://localhost:8080/",
     "height": 529
    },
    "id": "gmeAmYMpRiW0",
    "outputId": "a998b223-cf97-46aa-8f9e-2028b0aea133"
   },
   "outputs": [
    {
     "data": {
      "text/html": [
       "<div>\n",
       "<style scoped>\n",
       "    .dataframe tbody tr th:only-of-type {\n",
       "        vertical-align: middle;\n",
       "    }\n",
       "\n",
       "    .dataframe tbody tr th {\n",
       "        vertical-align: top;\n",
       "    }\n",
       "\n",
       "    .dataframe thead th {\n",
       "        text-align: right;\n",
       "    }\n",
       "</style>\n",
       "<table border=\"1\" class=\"dataframe\">\n",
       "  <thead>\n",
       "    <tr style=\"text-align: right;\">\n",
       "      <th></th>\n",
       "      <th>id</th>\n",
       "      <th>descripcion</th>\n",
       "      <th>id_anfitrion</th>\n",
       "      <th>nombre_anfitrion</th>\n",
       "      <th>anfitrion_desde</th>\n",
       "      <th>superanfitrion</th>\n",
       "      <th>barrio</th>\n",
       "      <th>latitud</th>\n",
       "      <th>longitud</th>\n",
       "      <th>tipo_alojamiento</th>\n",
       "      <th>precio</th>\n",
       "      <th>huespedes</th>\n",
       "      <th>politica_cancelacion</th>\n",
       "    </tr>\n",
       "  </thead>\n",
       "  <tbody>\n",
       "    <tr>\n",
       "      <th>22</th>\n",
       "      <td>20062</td>\n",
       "      <td>PENTHOUSE /Terrace &amp; pool /City views /2bedrooms</td>\n",
       "      <td>75891</td>\n",
       "      <td>Sergio</td>\n",
       "      <td>2010-01-31</td>\n",
       "      <td>False</td>\n",
       "      <td>Palermo</td>\n",
       "      <td>-34.58079</td>\n",
       "      <td>-58.44203</td>\n",
       "      <td>Alojamiento entero</td>\n",
       "      <td>4627</td>\n",
       "      <td>4</td>\n",
       "      <td>estricta_con_gracia</td>\n",
       "    </tr>\n",
       "    <tr>\n",
       "      <th>47</th>\n",
       "      <td>45498</td>\n",
       "      <td>LUXURY DUPLEX, fully equipped, 2Bd, pool &amp; ter...</td>\n",
       "      <td>75891</td>\n",
       "      <td>Sergio</td>\n",
       "      <td>2010-01-31</td>\n",
       "      <td>False</td>\n",
       "      <td>Palermo</td>\n",
       "      <td>-34.58284</td>\n",
       "      <td>-58.44206</td>\n",
       "      <td>Alojamiento entero</td>\n",
       "      <td>4627</td>\n",
       "      <td>4</td>\n",
       "      <td>estricta_con_gracia</td>\n",
       "    </tr>\n",
       "    <tr>\n",
       "      <th>60</th>\n",
       "      <td>58778</td>\n",
       "      <td>❤️Amazing View!  1 Bedroom  Studio - UNO22❤️</td>\n",
       "      <td>281041</td>\n",
       "      <td>Michael</td>\n",
       "      <td>2010-11-08</td>\n",
       "      <td>True</td>\n",
       "      <td>Palermo</td>\n",
       "      <td>-34.58233</td>\n",
       "      <td>-58.42309</td>\n",
       "      <td>Alojamiento entero</td>\n",
       "      <td>5237</td>\n",
       "      <td>4</td>\n",
       "      <td>estricta_con_gracia</td>\n",
       "    </tr>\n",
       "    <tr>\n",
       "      <th>61</th>\n",
       "      <td>58789</td>\n",
       "      <td>❤️Best view in BA! 1 Bedroom Studio -UNO21❤️</td>\n",
       "      <td>281041</td>\n",
       "      <td>Michael</td>\n",
       "      <td>2010-11-08</td>\n",
       "      <td>True</td>\n",
       "      <td>Palermo</td>\n",
       "      <td>-34.58233</td>\n",
       "      <td>-58.42509</td>\n",
       "      <td>Alojamiento entero</td>\n",
       "      <td>5237</td>\n",
       "      <td>4</td>\n",
       "      <td>estricta_con_gracia</td>\n",
       "    </tr>\n",
       "    <tr>\n",
       "      <th>62</th>\n",
       "      <td>58801</td>\n",
       "      <td>Ultra Luxury 1 Bedroom - Soho PS14</td>\n",
       "      <td>281041</td>\n",
       "      <td>Michael</td>\n",
       "      <td>2010-11-08</td>\n",
       "      <td>True</td>\n",
       "      <td>Palermo</td>\n",
       "      <td>-34.58643</td>\n",
       "      <td>-58.42344</td>\n",
       "      <td>Alojamiento entero</td>\n",
       "      <td>6284</td>\n",
       "      <td>4</td>\n",
       "      <td>estricta_con_gracia</td>\n",
       "    </tr>\n",
       "  </tbody>\n",
       "</table>\n",
       "</div>"
      ],
      "text/plain": [
       "       id  ... politica_cancelacion\n",
       "22  20062  ...  estricta_con_gracia\n",
       "47  45498  ...  estricta_con_gracia\n",
       "60  58778  ...  estricta_con_gracia\n",
       "61  58789  ...  estricta_con_gracia\n",
       "62  58801  ...  estricta_con_gracia\n",
       "\n",
       "[5 rows x 13 columns]"
      ]
     },
     "execution_count": 48,
     "metadata": {
      "tags": []
     },
     "output_type": "execute_result"
    }
   ],
   "source": [
    "Barriodf90.head()"
   ]
  },
  {
   "cell_type": "markdown",
   "metadata": {
    "id": "mloF8jXQRpXT"
   },
   "source": [
    "🔹 Generar un objeto con los tres barrios que tienen mas propiedades, esta lista se debe denominar \"TresBarrios\""
   ]
  },
  {
   "cell_type": "code",
   "execution_count": null,
   "metadata": {
    "colab": {
     "base_uri": "https://localhost:8080/",
     "height": 35
    },
    "id": "QM4KD__RRnEF",
    "outputId": "9fd7ea9c-9621-45ce-9084-08d889ca3589"
   },
   "outputs": [
    {
     "data": {
      "text/plain": [
       "Index(['Palermo', 'Recoleta', 'San Nicolas'], dtype='object')"
      ]
     },
     "execution_count": 50,
     "metadata": {
      "tags": []
     },
     "output_type": "execute_result"
    }
   ],
   "source": [
    "TresBarrios=buenos_aires.barrio.value_counts().index[:3]\n",
    "TresBarrios"
   ]
  },
  {
   "cell_type": "markdown",
   "metadata": {
    "id": "r8V0CDIrSIji"
   },
   "source": [
    "🔹 Generar un dataframe denominado \"dfTresBarrios\" con los barrios que se encuentran en la lista del punto anterior"
   ]
  },
  {
   "cell_type": "code",
   "execution_count": null,
   "metadata": {
    "id": "RNUycCaxSBRt"
   },
   "outputs": [],
   "source": [
    "dfTresBarrios=buenos_aires.loc[buenos_aires.barrio.isin(TresBarrios),:]"
   ]
  },
  {
   "cell_type": "code",
   "execution_count": null,
   "metadata": {
    "colab": {
     "base_uri": "https://localhost:8080/",
     "height": 443
    },
    "id": "Tu8mDxQPRvXW",
    "outputId": "c3e41e92-a480-4732-b987-886fe150a4fe"
   },
   "outputs": [
    {
     "data": {
      "text/html": [
       "<div>\n",
       "<style scoped>\n",
       "    .dataframe tbody tr th:only-of-type {\n",
       "        vertical-align: middle;\n",
       "    }\n",
       "\n",
       "    .dataframe tbody tr th {\n",
       "        vertical-align: top;\n",
       "    }\n",
       "\n",
       "    .dataframe thead th {\n",
       "        text-align: right;\n",
       "    }\n",
       "</style>\n",
       "<table border=\"1\" class=\"dataframe\">\n",
       "  <thead>\n",
       "    <tr style=\"text-align: right;\">\n",
       "      <th></th>\n",
       "      <th>id</th>\n",
       "      <th>descripcion</th>\n",
       "      <th>id_anfitrion</th>\n",
       "      <th>nombre_anfitrion</th>\n",
       "      <th>anfitrion_desde</th>\n",
       "      <th>superanfitrion</th>\n",
       "      <th>barrio</th>\n",
       "      <th>latitud</th>\n",
       "      <th>longitud</th>\n",
       "      <th>tipo_alojamiento</th>\n",
       "      <th>precio</th>\n",
       "      <th>huespedes</th>\n",
       "      <th>politica_cancelacion</th>\n",
       "    </tr>\n",
       "  </thead>\n",
       "  <tbody>\n",
       "    <tr>\n",
       "      <th>0</th>\n",
       "      <td>7270</td>\n",
       "      <td>¡¡Great Loft in Palermo Hollywood!!</td>\n",
       "      <td>18822</td>\n",
       "      <td>Toni</td>\n",
       "      <td>2009-05-26</td>\n",
       "      <td>False</td>\n",
       "      <td>Palermo</td>\n",
       "      <td>-34.58241</td>\n",
       "      <td>-58.43382</td>\n",
       "      <td>Alojamiento entero</td>\n",
       "      <td>1802</td>\n",
       "      <td>2</td>\n",
       "      <td>estricta_con_gracia</td>\n",
       "    </tr>\n",
       "    <tr>\n",
       "      <th>1</th>\n",
       "      <td>11508</td>\n",
       "      <td>Amazing Luxurious Apt-Palermo Soho</td>\n",
       "      <td>42762</td>\n",
       "      <td>Candela</td>\n",
       "      <td>2009-10-01</td>\n",
       "      <td>False</td>\n",
       "      <td>Palermo</td>\n",
       "      <td>-34.58225</td>\n",
       "      <td>-58.42460</td>\n",
       "      <td>Alojamiento entero</td>\n",
       "      <td>2514</td>\n",
       "      <td>2</td>\n",
       "      <td>estricta_con_gracia</td>\n",
       "    </tr>\n",
       "    <tr>\n",
       "      <th>2</th>\n",
       "      <td>12463</td>\n",
       "      <td>Room in Recoleta - awesome location</td>\n",
       "      <td>48799</td>\n",
       "      <td>Matt</td>\n",
       "      <td>2009-10-28</td>\n",
       "      <td>False</td>\n",
       "      <td>Recoleta</td>\n",
       "      <td>-34.59761</td>\n",
       "      <td>-58.39468</td>\n",
       "      <td>Habitación privada</td>\n",
       "      <td>1005</td>\n",
       "      <td>1</td>\n",
       "      <td>moderada</td>\n",
       "    </tr>\n",
       "    <tr>\n",
       "      <th>3</th>\n",
       "      <td>13095</td>\n",
       "      <td>Standard Room at Palermo Viejo B&amp;B</td>\n",
       "      <td>50994</td>\n",
       "      <td>Ariel</td>\n",
       "      <td>2009-11-03</td>\n",
       "      <td>False</td>\n",
       "      <td>Palermo</td>\n",
       "      <td>-34.59382</td>\n",
       "      <td>-58.42994</td>\n",
       "      <td>Habitación privada</td>\n",
       "      <td>2304</td>\n",
       "      <td>2</td>\n",
       "      <td>estricta_con_gracia</td>\n",
       "    </tr>\n",
       "    <tr>\n",
       "      <th>4</th>\n",
       "      <td>13096</td>\n",
       "      <td>Standard Room in Palermo Viejo B&amp;B</td>\n",
       "      <td>50994</td>\n",
       "      <td>Ariel</td>\n",
       "      <td>2009-11-03</td>\n",
       "      <td>False</td>\n",
       "      <td>Palermo</td>\n",
       "      <td>-34.59398</td>\n",
       "      <td>-58.42853</td>\n",
       "      <td>Habitación privada</td>\n",
       "      <td>2304</td>\n",
       "      <td>2</td>\n",
       "      <td>estricta_con_gracia</td>\n",
       "    </tr>\n",
       "  </tbody>\n",
       "</table>\n",
       "</div>"
      ],
      "text/plain": [
       "      id                          descripcion  ...  huespedes politica_cancelacion\n",
       "0   7270  ¡¡Great Loft in Palermo Hollywood!!  ...          2  estricta_con_gracia\n",
       "1  11508   Amazing Luxurious Apt-Palermo Soho  ...          2  estricta_con_gracia\n",
       "2  12463  Room in Recoleta - awesome location  ...          1             moderada\n",
       "3  13095   Standard Room at Palermo Viejo B&B  ...          2  estricta_con_gracia\n",
       "4  13096   Standard Room in Palermo Viejo B&B  ...          2  estricta_con_gracia\n",
       "\n",
       "[5 rows x 13 columns]"
      ]
     },
     "execution_count": 52,
     "metadata": {
      "tags": []
     },
     "output_type": "execute_result"
    }
   ],
   "source": [
    "dfTresBarrios.head()"
   ]
  },
  {
   "cell_type": "markdown",
   "metadata": {
    "id": "56i_fDEZSTNp"
   },
   "source": [
    "🔹 Imprimir un dataframe que contenga todos los alojamiento de tipo \"alojamiento entero\" que sean aptos para más de tres huespedes pero que no se encuentre en los tres barrios con mas propiedades. \n",
    "Asimismo para resguardar la información del anfitrion, retornar todas las columnas menos las: nombre_anfitrion, anfitrion_desde y superanfitrion"
   ]
  },
  {
   "cell_type": "code",
   "execution_count": null,
   "metadata": {
    "colab": {
     "base_uri": "https://localhost:8080/",
     "height": 125
    },
    "id": "4L661NsjUW9G",
    "outputId": "fac68a96-914f-40d5-e559-0c5b6ab4918a"
   },
   "outputs": [
    {
     "data": {
      "text/html": [
       "<div>\n",
       "<style scoped>\n",
       "    .dataframe tbody tr th:only-of-type {\n",
       "        vertical-align: middle;\n",
       "    }\n",
       "\n",
       "    .dataframe tbody tr th {\n",
       "        vertical-align: top;\n",
       "    }\n",
       "\n",
       "    .dataframe thead th {\n",
       "        text-align: right;\n",
       "    }\n",
       "</style>\n",
       "<table border=\"1\" class=\"dataframe\">\n",
       "  <thead>\n",
       "    <tr style=\"text-align: right;\">\n",
       "      <th></th>\n",
       "      <th>id</th>\n",
       "      <th>descripcion</th>\n",
       "      <th>barrio</th>\n",
       "      <th>latitud</th>\n",
       "      <th>longitud</th>\n",
       "      <th>tipo_alojamiento</th>\n",
       "      <th>precio</th>\n",
       "      <th>huespedes</th>\n",
       "      <th>politica_cancelacion</th>\n",
       "    </tr>\n",
       "  </thead>\n",
       "  <tbody>\n",
       "    <tr>\n",
       "      <th>8</th>\n",
       "      <td>14222</td>\n",
       "      <td>HAPPY HOUSE - PALERMO, BUENOS AIRES</td>\n",
       "      <td>Palermo</td>\n",
       "      <td>-34.58777</td>\n",
       "      <td>-58.41106</td>\n",
       "      <td>Alojamiento entero</td>\n",
       "      <td>2849</td>\n",
       "      <td>3</td>\n",
       "      <td>moderada</td>\n",
       "    </tr>\n",
       "    <tr>\n",
       "      <th>16</th>\n",
       "      <td>17993</td>\n",
       "      <td>TEMPORARY RENT CUTE APARTMENT IN MICROCENTRO</td>\n",
       "      <td>San Nicolas</td>\n",
       "      <td>-34.60175</td>\n",
       "      <td>-58.37860</td>\n",
       "      <td>Alojamiento entero</td>\n",
       "      <td>1885</td>\n",
       "      <td>3</td>\n",
       "      <td>estricta_con_gracia</td>\n",
       "    </tr>\n",
       "  </tbody>\n",
       "</table>\n",
       "</div>"
      ],
      "text/plain": [
       "       id  ... politica_cancelacion\n",
       "8   14222  ...             moderada\n",
       "16  17993  ...  estricta_con_gracia\n",
       "\n",
       "[2 rows x 9 columns]"
      ]
     },
     "execution_count": 63,
     "metadata": {
      "tags": []
     },
     "output_type": "execute_result"
    }
   ],
   "source": [
    "var=pd.Series(dfTresBarrios.columns)\n",
    "col=dfTresBarrios.columns[-var.str.contains('anfitrion')]\n",
    "dfTresBarrios[col].loc[(dfTresBarrios.tipo_alojamiento== \"Alojamiento entero\") &\n",
    "                  (dfTresBarrios.huespedes>=3),:].head(2)"
   ]
  },
  {
   "cell_type": "markdown",
   "metadata": {
    "id": "PTy2XlcMUsRo"
   },
   "source": [
    "🔹 Realice un dataset con los dos anfitriones que tienen más propiedades en los tres barrios que estan en la lista TresBarrios"
   ]
  },
  {
   "cell_type": "code",
   "execution_count": null,
   "metadata": {
    "colab": {
     "base_uri": "https://localhost:8080/",
     "height": 894
    },
    "id": "XvcE4s-3UvWs",
    "outputId": "ae62e2f6-9cd5-40a9-e547-f90dd0fdff26"
   },
   "outputs": [
    {
     "data": {
      "text/html": [
       "<div>\n",
       "<style scoped>\n",
       "    .dataframe tbody tr th:only-of-type {\n",
       "        vertical-align: middle;\n",
       "    }\n",
       "\n",
       "    .dataframe tbody tr th {\n",
       "        vertical-align: top;\n",
       "    }\n",
       "\n",
       "    .dataframe thead th {\n",
       "        text-align: right;\n",
       "    }\n",
       "</style>\n",
       "<table border=\"1\" class=\"dataframe\">\n",
       "  <thead>\n",
       "    <tr style=\"text-align: right;\">\n",
       "      <th></th>\n",
       "      <th>id</th>\n",
       "      <th>descripcion</th>\n",
       "      <th>id_anfitrion</th>\n",
       "      <th>nombre_anfitrion</th>\n",
       "      <th>anfitrion_desde</th>\n",
       "      <th>superanfitrion</th>\n",
       "      <th>barrio</th>\n",
       "      <th>latitud</th>\n",
       "      <th>longitud</th>\n",
       "      <th>tipo_alojamiento</th>\n",
       "      <th>precio</th>\n",
       "      <th>huespedes</th>\n",
       "      <th>politica_cancelacion</th>\n",
       "    </tr>\n",
       "  </thead>\n",
       "  <tbody>\n",
       "    <tr>\n",
       "      <th>559</th>\n",
       "      <td>686484</td>\n",
       "      <td>Studio Apartment in Recoleta</td>\n",
       "      <td>3469227</td>\n",
       "      <td>Federico</td>\n",
       "      <td>2012-09-04</td>\n",
       "      <td>False</td>\n",
       "      <td>Recoleta</td>\n",
       "      <td>-34.59112</td>\n",
       "      <td>-58.40365</td>\n",
       "      <td>Alojamiento entero</td>\n",
       "      <td>2598</td>\n",
       "      <td>2</td>\n",
       "      <td>estricta_con_gracia</td>\n",
       "    </tr>\n",
       "    <tr>\n",
       "      <th>560</th>\n",
       "      <td>686486</td>\n",
       "      <td>Modern  Apartment in Recoleta</td>\n",
       "      <td>3469227</td>\n",
       "      <td>Federico</td>\n",
       "      <td>2012-09-04</td>\n",
       "      <td>False</td>\n",
       "      <td>Recoleta</td>\n",
       "      <td>-34.59101</td>\n",
       "      <td>-58.40343</td>\n",
       "      <td>Alojamiento entero</td>\n",
       "      <td>2598</td>\n",
       "      <td>2</td>\n",
       "      <td>estricta_con_gracia</td>\n",
       "    </tr>\n",
       "    <tr>\n",
       "      <th>743</th>\n",
       "      <td>878184</td>\n",
       "      <td>Exclusive Recoleta Studio #RS92</td>\n",
       "      <td>4442974</td>\n",
       "      <td>RentinBA</td>\n",
       "      <td>2012-12-19</td>\n",
       "      <td>False</td>\n",
       "      <td>Recoleta</td>\n",
       "      <td>-34.58539</td>\n",
       "      <td>-58.39861</td>\n",
       "      <td>Alojamiento entero</td>\n",
       "      <td>3352</td>\n",
       "      <td>2</td>\n",
       "      <td>flexible</td>\n",
       "    </tr>\n",
       "    <tr>\n",
       "      <th>779</th>\n",
       "      <td>922367</td>\n",
       "      <td>Tranquil Studio in  Recoleta #RS99</td>\n",
       "      <td>4442974</td>\n",
       "      <td>RentinBA</td>\n",
       "      <td>2012-12-19</td>\n",
       "      <td>False</td>\n",
       "      <td>Recoleta</td>\n",
       "      <td>-34.58452</td>\n",
       "      <td>-58.39887</td>\n",
       "      <td>Alojamiento entero</td>\n",
       "      <td>3352</td>\n",
       "      <td>2</td>\n",
       "      <td>estricta_con_gracia</td>\n",
       "    </tr>\n",
       "    <tr>\n",
       "      <th>1196</th>\n",
       "      <td>1649802</td>\n",
       "      <td>Sunny Studio in Palermo Chico #34</td>\n",
       "      <td>4442974</td>\n",
       "      <td>RentinBA</td>\n",
       "      <td>2012-12-19</td>\n",
       "      <td>False</td>\n",
       "      <td>Palermo</td>\n",
       "      <td>-34.58124</td>\n",
       "      <td>-58.40606</td>\n",
       "      <td>Alojamiento entero</td>\n",
       "      <td>3561</td>\n",
       "      <td>2</td>\n",
       "      <td>moderada</td>\n",
       "    </tr>\n",
       "    <tr>\n",
       "      <th>...</th>\n",
       "      <td>...</td>\n",
       "      <td>...</td>\n",
       "      <td>...</td>\n",
       "      <td>...</td>\n",
       "      <td>...</td>\n",
       "      <td>...</td>\n",
       "      <td>...</td>\n",
       "      <td>...</td>\n",
       "      <td>...</td>\n",
       "      <td>...</td>\n",
       "      <td>...</td>\n",
       "      <td>...</td>\n",
       "      <td>...</td>\n",
       "    </tr>\n",
       "    <tr>\n",
       "      <th>17800</th>\n",
       "      <td>33271243</td>\n",
       "      <td>Beautiful 1-bdrm apt in Palermo Hollywood #QD409</td>\n",
       "      <td>4442974</td>\n",
       "      <td>RentinBA</td>\n",
       "      <td>2012-12-19</td>\n",
       "      <td>False</td>\n",
       "      <td>Palermo</td>\n",
       "      <td>-34.57629</td>\n",
       "      <td>-58.43974</td>\n",
       "      <td>Alojamiento entero</td>\n",
       "      <td>5027</td>\n",
       "      <td>2</td>\n",
       "      <td>moderada</td>\n",
       "    </tr>\n",
       "    <tr>\n",
       "      <th>17927</th>\n",
       "      <td>33366231</td>\n",
       "      <td>Brand-New Apartment in Palermo Hollywood #QD206A</td>\n",
       "      <td>4442974</td>\n",
       "      <td>RentinBA</td>\n",
       "      <td>2012-12-19</td>\n",
       "      <td>False</td>\n",
       "      <td>Palermo</td>\n",
       "      <td>-34.57628</td>\n",
       "      <td>-58.43868</td>\n",
       "      <td>Alojamiento entero</td>\n",
       "      <td>5027</td>\n",
       "      <td>2</td>\n",
       "      <td>moderada</td>\n",
       "    </tr>\n",
       "    <tr>\n",
       "      <th>18007</th>\n",
       "      <td>33416076</td>\n",
       "      <td>Departamento en Palermo para 4 personas con Pa...</td>\n",
       "      <td>3469227</td>\n",
       "      <td>Federico</td>\n",
       "      <td>2012-09-04</td>\n",
       "      <td>False</td>\n",
       "      <td>Palermo</td>\n",
       "      <td>-34.58458</td>\n",
       "      <td>-58.41720</td>\n",
       "      <td>Alojamiento entero</td>\n",
       "      <td>4416</td>\n",
       "      <td>4</td>\n",
       "      <td>estricta_con_gracia</td>\n",
       "    </tr>\n",
       "    <tr>\n",
       "      <th>18292</th>\n",
       "      <td>33639163</td>\n",
       "      <td>Departamento en Palermo con Balcón.</td>\n",
       "      <td>3469227</td>\n",
       "      <td>Federico</td>\n",
       "      <td>2012-09-04</td>\n",
       "      <td>False</td>\n",
       "      <td>Palermo</td>\n",
       "      <td>-34.58639</td>\n",
       "      <td>-58.42288</td>\n",
       "      <td>Alojamiento entero</td>\n",
       "      <td>2639</td>\n",
       "      <td>2</td>\n",
       "      <td>estricta_con_gracia</td>\n",
       "    </tr>\n",
       "    <tr>\n",
       "      <th>18520</th>\n",
       "      <td>33823357</td>\n",
       "      <td>2 Bedroom in Palermo Chico #CS56</td>\n",
       "      <td>4442974</td>\n",
       "      <td>RentinBA</td>\n",
       "      <td>2012-12-19</td>\n",
       "      <td>False</td>\n",
       "      <td>Palermo</td>\n",
       "      <td>-34.58237</td>\n",
       "      <td>-58.40586</td>\n",
       "      <td>Alojamiento entero</td>\n",
       "      <td>4190</td>\n",
       "      <td>4</td>\n",
       "      <td>moderada</td>\n",
       "    </tr>\n",
       "  </tbody>\n",
       "</table>\n",
       "<p>130 rows × 13 columns</p>\n",
       "</div>"
      ],
      "text/plain": [
       "             id  ... politica_cancelacion\n",
       "559      686484  ...  estricta_con_gracia\n",
       "560      686486  ...  estricta_con_gracia\n",
       "743      878184  ...             flexible\n",
       "779      922367  ...  estricta_con_gracia\n",
       "1196    1649802  ...             moderada\n",
       "...         ...  ...                  ...\n",
       "17800  33271243  ...             moderada\n",
       "17927  33366231  ...             moderada\n",
       "18007  33416076  ...  estricta_con_gracia\n",
       "18292  33639163  ...  estricta_con_gracia\n",
       "18520  33823357  ...             moderada\n",
       "\n",
       "[130 rows x 13 columns]"
      ]
     },
     "execution_count": 74,
     "metadata": {
      "tags": []
     },
     "output_type": "execute_result"
    }
   ],
   "source": [
    "max_id_anfitrion=dfTresBarrios.id_anfitrion.value_counts().index[:2]\n",
    "dfTresBarrios_anf=dfTresBarrios.loc[dfTresBarrios.id_anfitrion.isin(max_id_anfitrion),:]\n",
    "dfTresBarrios_anf"
   ]
  },
  {
   "cell_type": "markdown",
   "metadata": {
    "id": "wmO5NO-aXAsE"
   },
   "source": [
    "🔹 Cuantas propiedades tienen los anfitriones del punto anterior?"
   ]
  },
  {
   "cell_type": "code",
   "execution_count": null,
   "metadata": {
    "colab": {
     "base_uri": "https://localhost:8080/",
     "height": 108
    },
    "id": "J0d9VeTXUs2t",
    "outputId": "f5d02096-f953-4ae4-d1e7-75960eaafaab"
   },
   "outputs": [
    {
     "data": {
      "text/html": [
       "<div>\n",
       "<style scoped>\n",
       "    .dataframe tbody tr th:only-of-type {\n",
       "        vertical-align: middle;\n",
       "    }\n",
       "\n",
       "    .dataframe tbody tr th {\n",
       "        vertical-align: top;\n",
       "    }\n",
       "\n",
       "    .dataframe thead th {\n",
       "        text-align: right;\n",
       "    }\n",
       "</style>\n",
       "<table border=\"1\" class=\"dataframe\">\n",
       "  <thead>\n",
       "    <tr style=\"text-align: right;\">\n",
       "      <th></th>\n",
       "      <th>nombre_anfitrion</th>\n",
       "      <th>id_anfitrion</th>\n",
       "    </tr>\n",
       "  </thead>\n",
       "  <tbody>\n",
       "    <tr>\n",
       "      <th>0</th>\n",
       "      <td>4442974</td>\n",
       "      <td>78</td>\n",
       "    </tr>\n",
       "    <tr>\n",
       "      <th>1</th>\n",
       "      <td>3469227</td>\n",
       "      <td>52</td>\n",
       "    </tr>\n",
       "  </tbody>\n",
       "</table>\n",
       "</div>"
      ],
      "text/plain": [
       "   nombre_anfitrion  id_anfitrion\n",
       "0           4442974            78\n",
       "1           3469227            52"
      ]
     },
     "execution_count": 79,
     "metadata": {
      "tags": []
     },
     "output_type": "execute_result"
    }
   ],
   "source": [
    "anf=pd.DataFrame(dfTresBarrios_anf.id_anfitrion.value_counts()).reset_index().rename({'nombre_anfitrion':'total','index':'nombre_anfitrion'},axis=1)\n",
    "anf"
   ]
  },
  {
   "cell_type": "markdown",
   "metadata": {
    "id": "iJiZWeomXa1T"
   },
   "source": [
    "🔹 Generar un dataframe que contenga dos observaciones correspondientes a los importes maximos de las propiedades de los anfitriones que se retornaron en el punto anterior.\n"
   ]
  },
  {
   "cell_type": "code",
   "execution_count": null,
   "metadata": {
    "colab": {
     "base_uri": "https://localhost:8080/",
     "height": 215
    },
    "id": "NxT1HRr5XaQ8",
    "outputId": "614d9f0a-08e0-4d4b-a024-f6291cd05d2c"
   },
   "outputs": [
    {
     "data": {
      "text/html": [
       "<div>\n",
       "<style scoped>\n",
       "    .dataframe tbody tr th:only-of-type {\n",
       "        vertical-align: middle;\n",
       "    }\n",
       "\n",
       "    .dataframe tbody tr th {\n",
       "        vertical-align: top;\n",
       "    }\n",
       "\n",
       "    .dataframe thead th {\n",
       "        text-align: right;\n",
       "    }\n",
       "</style>\n",
       "<table border=\"1\" class=\"dataframe\">\n",
       "  <thead>\n",
       "    <tr style=\"text-align: right;\">\n",
       "      <th></th>\n",
       "      <th>id</th>\n",
       "      <th>descripcion</th>\n",
       "      <th>id_anfitrion</th>\n",
       "      <th>nombre_anfitrion</th>\n",
       "      <th>anfitrion_desde</th>\n",
       "      <th>superanfitrion</th>\n",
       "      <th>barrio</th>\n",
       "      <th>latitud</th>\n",
       "      <th>longitud</th>\n",
       "      <th>tipo_alojamiento</th>\n",
       "      <th>precio</th>\n",
       "      <th>huespedes</th>\n",
       "      <th>politica_cancelacion</th>\n",
       "    </tr>\n",
       "  </thead>\n",
       "  <tbody>\n",
       "    <tr>\n",
       "      <th>7322</th>\n",
       "      <td>19521047</td>\n",
       "      <td>One of a kind Loft in Prime location! (ID#380)</td>\n",
       "      <td>4442974</td>\n",
       "      <td>RentinBA</td>\n",
       "      <td>2012-12-19</td>\n",
       "      <td>False</td>\n",
       "      <td>Palermo</td>\n",
       "      <td>-34.57714</td>\n",
       "      <td>-58.40218</td>\n",
       "      <td>Alojamiento entero</td>\n",
       "      <td>9253</td>\n",
       "      <td>2</td>\n",
       "      <td>moderada</td>\n",
       "    </tr>\n",
       "    <tr>\n",
       "      <th>3438</th>\n",
       "      <td>8457931</td>\n",
       "      <td>Aapartamento para 7 pers en Palermo</td>\n",
       "      <td>3469227</td>\n",
       "      <td>Federico</td>\n",
       "      <td>2012-09-04</td>\n",
       "      <td>False</td>\n",
       "      <td>Recoleta</td>\n",
       "      <td>-34.59428</td>\n",
       "      <td>-58.41189</td>\n",
       "      <td>Alojamiento entero</td>\n",
       "      <td>9636</td>\n",
       "      <td>7</td>\n",
       "      <td>estricta_con_gracia</td>\n",
       "    </tr>\n",
       "  </tbody>\n",
       "</table>\n",
       "</div>"
      ],
      "text/plain": [
       "            id  ... politica_cancelacion\n",
       "7322  19521047  ...             moderada\n",
       "3438   8457931  ...  estricta_con_gracia\n",
       "\n",
       "[2 rows x 13 columns]"
      ]
     },
     "execution_count": 84,
     "metadata": {
      "tags": []
     },
     "output_type": "execute_result"
    }
   ],
   "source": [
    "pd.concat([\n",
    "    dfTresBarrios_anf.loc[dfTresBarrios_anf.id_anfitrion==anf.nombre_anfitrion[0],:].sort_values('precio',ascending=False).head(1),\n",
    "    dfTresBarrios_anf.loc[dfTresBarrios_anf.id_anfitrion==anf.nombre_anfitrion[1],:].sort_values('precio',ascending=False).head(1)                 \n",
    "])"
   ]
  }
 ],
 "metadata": {
  "colab": {
   "collapsed_sections": [],
   "name": "04-Airbnb Buenos Aires_resuelto.ipynb",
   "provenance": []
  },
  "kernelspec": {
   "display_name": "Python 3",
   "language": "python",
   "name": "python3"
  },
  "language_info": {
   "codemirror_mode": {
    "name": "ipython",
    "version": 3
   },
   "file_extension": ".py",
   "mimetype": "text/x-python",
   "name": "python",
   "nbconvert_exporter": "python",
   "pygments_lexer": "ipython3",
   "version": "3.7.3"
  }
 },
 "nbformat": 4,
 "nbformat_minor": 1
}
