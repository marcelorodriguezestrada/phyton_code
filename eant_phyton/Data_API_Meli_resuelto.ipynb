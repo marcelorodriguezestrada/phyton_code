{
  "nbformat": 4,
  "nbformat_minor": 0,
  "metadata": {
    "colab": {
      "name": "Data_API_Meli_resuelto.ipynb",
      "provenance": [],
      "collapsed_sections": []
    },
    "kernelspec": {
      "name": "python3",
      "display_name": "Python 3"
    },
    "language_info": {
      "name": "python"
    }
  },
  "cells": [
    {
      "cell_type": "markdown",
      "metadata": {
        "id": "b19mHh-7E9ZL"
      },
      "source": [
        " <img src=\"https://eant.tech/imagenes/logo.png\" width=25% height=80%  >"
      ]
    },
    {
      "cell_type": "markdown",
      "metadata": {
        "id": "_JuxCcimFHgn"
      },
      "source": [
        "## <img src=\"http://icons.iconarchive.com/icons/cornmanthe3rd/plex/256/Other-python-icon.png\" width=\"40\"> Ejercicio API De Mecardo libre\n",
        "\n",
        "En este ejercicio vamos a realizar el analisis basado en la busqueda de un electrodomestico.\n",
        "Para el desarrollo vamos a utilizar la API publica de **Mercado Libre**, la misma no requiere de autenticación y retorna un numero limitado de busquedas.\n",
        "Para más información puede ingresar al siguiente sitio: https://developers.mercadolibre.com.ar/\n",
        "\n",
        "<br>\n",
        "<center>\n",
        "\n",
        "<img src=\"https://i.ibb.co/qBFZkj9/descarga.png\" alt=\"descarga\" border=\"0\">\n",
        "\n",
        "</center>"
      ]
    },
    {
      "cell_type": "markdown",
      "metadata": {
        "id": "3mk1TZ5IGKKa"
      },
      "source": [
        "🏷️ 1. Importamos los paquetes que vamos a utilizar"
      ]
    },
    {
      "cell_type": "code",
      "metadata": {
        "id": "iXjHkQGfuYDe"
      },
      "source": [
        "import pandas as pd\n",
        "import numpy as np\n",
        "import requests\n",
        "import seaborn as sns\n",
        "import matplotlib.pyplot as plt\n"
      ],
      "execution_count": null,
      "outputs": []
    },
    {
      "cell_type": "markdown",
      "metadata": {
        "id": "63pY9QjXGVEi"
      },
      "source": [
        "🏷️ 2. Vamos a realizar una busqueda de una heladera, por lo cual generar uns variable denominada `search`."
      ]
    },
    {
      "cell_type": "code",
      "metadata": {
        "id": "fwz7v2O_t6BH"
      },
      "source": [
        "search='heladera'"
      ],
      "execution_count": null,
      "outputs": []
    },
    {
      "cell_type": "markdown",
      "metadata": {
        "id": "VrH04vr_Gc5z"
      },
      "source": [
        "🏷️ 3. La siguiente es la url que contiene:\n",
        "* \"q\"= que es la query que se va realizar\n",
        "* \"limit\" que es la cantidad de resultados que se pueden retornar.\n",
        "* \"formato\""
      ]
    },
    {
      "cell_type": "code",
      "metadata": {
        "id": "hcpTeuPSt612"
      },
      "source": [
        "url=f\"\"\"https://api.mercadolibre.com/sites/MLA/search?q={search}&limit=50#json\"\"\""
      ],
      "execution_count": null,
      "outputs": []
    },
    {
      "cell_type": "markdown",
      "metadata": {
        "id": "-TIriwySG6tA"
      },
      "source": [
        "🏷️ 4.Realizamos el llamado a la api con el metodo get"
      ]
    },
    {
      "cell_type": "code",
      "metadata": {
        "id": "07gmmbwAucIe"
      },
      "source": [
        "response=requests.get(url)"
      ],
      "execution_count": null,
      "outputs": []
    },
    {
      "cell_type": "markdown",
      "metadata": {
        "id": "4qxB_DdNHFLa"
      },
      "source": [
        "🏷️ 5. Validamos el estado que nos retorna"
      ]
    },
    {
      "cell_type": "code",
      "metadata": {
        "colab": {
          "base_uri": "https://localhost:8080/"
        },
        "id": "jS_5Qlxiuf3U",
        "outputId": "58265604-9dbd-4acd-98d3-a012b9cc534a"
      },
      "source": [
        "response.status_code"
      ],
      "execution_count": null,
      "outputs": [
        {
          "output_type": "execute_result",
          "data": {
            "text/plain": [
              "200"
            ]
          },
          "metadata": {},
          "execution_count": 121
        }
      ]
    },
    {
      "cell_type": "markdown",
      "metadata": {
        "id": "IUo0HgZUHLlp"
      },
      "source": [
        "🏷️ 6. Cuantas y cuales son las keys retorna el json"
      ]
    },
    {
      "cell_type": "code",
      "metadata": {
        "colab": {
          "base_uri": "https://localhost:8080/"
        },
        "id": "oPIjFPVNuhZu",
        "outputId": "485ec51a-d77e-4707-d46b-1eac4c8c3346"
      },
      "source": [
        "len(response.json())"
      ],
      "execution_count": null,
      "outputs": [
        {
          "output_type": "execute_result",
          "data": {
            "text/plain": [
              "9"
            ]
          },
          "metadata": {},
          "execution_count": 122
        }
      ]
    },
    {
      "cell_type": "code",
      "metadata": {
        "colab": {
          "base_uri": "https://localhost:8080/"
        },
        "id": "MxNNWVFMuojm",
        "outputId": "93f70d2b-09cf-4ba8-e203-1b865923b9f2"
      },
      "source": [
        "data=response.json()\n",
        "data.keys()"
      ],
      "execution_count": null,
      "outputs": [
        {
          "output_type": "execute_result",
          "data": {
            "text/plain": [
              "dict_keys(['site_id', 'country_default_time_zone', 'query', 'paging', 'results', 'sort', 'available_sorts', 'filters', 'available_filters'])"
            ]
          },
          "metadata": {},
          "execution_count": 123
        }
      ]
    },
    {
      "cell_type": "markdown",
      "metadata": {
        "id": "rSOrdlf5HYEk"
      },
      "source": [
        "🏷️ 7. Imprimir los valores que contiene las keys site_id,country_default_time_zone y query"
      ]
    },
    {
      "cell_type": "code",
      "metadata": {
        "colab": {
          "base_uri": "https://localhost:8080/"
        },
        "id": "GJZ9Wp6pvG1v",
        "outputId": "525741f4-aa4f-4b50-bb9e-65375a3f650d"
      },
      "source": [
        "for i in ['site_id', 'country_default_time_zone', 'query']:\n",
        "  print(i,':',data[i])"
      ],
      "execution_count": null,
      "outputs": [
        {
          "output_type": "stream",
          "name": "stdout",
          "text": [
            "site_id : MLA\n",
            "country_default_time_zone : GMT-03:00\n",
            "query : heladera\n"
          ]
        }
      ]
    },
    {
      "cell_type": "markdown",
      "metadata": {
        "id": "FOvB9jseHjB3"
      },
      "source": [
        "🏷️ 8. Cuantos resultados puede retornar la busqueda?"
      ]
    },
    {
      "cell_type": "code",
      "metadata": {
        "colab": {
          "base_uri": "https://localhost:8080/"
        },
        "id": "apuBfw3JvZ-S",
        "outputId": "4dabb561-a901-4fb4-b478-cf746aa51f42"
      },
      "source": [
        "# 50 son los solicitados, pero hay un total de 10290\n",
        "data['paging']"
      ],
      "execution_count": null,
      "outputs": [
        {
          "output_type": "execute_result",
          "data": {
            "text/plain": [
              "{'limit': 50, 'offset': 0, 'primary_results': 1000, 'total': 10290}"
            ]
          },
          "metadata": {},
          "execution_count": 125
        }
      ]
    },
    {
      "cell_type": "markdown",
      "metadata": {
        "id": "StfJ4F1SHpv7"
      },
      "source": [
        "🏷️ 9. Cual es el tipo de ordenamiento que retorna esta busqueda y cuales son los tipos de de ordenamientos que se podrian utilizar."
      ]
    },
    {
      "cell_type": "code",
      "metadata": {
        "colab": {
          "base_uri": "https://localhost:8080/"
        },
        "id": "F93Inj69vmNm",
        "outputId": "5709bd6a-cdc6-48d5-fb9e-b1d9d6af6470"
      },
      "source": [
        "data['sort']"
      ],
      "execution_count": null,
      "outputs": [
        {
          "output_type": "execute_result",
          "data": {
            "text/plain": [
              "{'id': 'relevance', 'name': 'Más relevantes'}"
            ]
          },
          "metadata": {},
          "execution_count": 126
        }
      ]
    },
    {
      "cell_type": "code",
      "metadata": {
        "colab": {
          "base_uri": "https://localhost:8080/"
        },
        "id": "yIBUOMTnvBWH",
        "outputId": "ba9dc32f-ba98-4a13-ab9f-e04201613a58"
      },
      "source": [
        "data['available_sorts']"
      ],
      "execution_count": null,
      "outputs": [
        {
          "output_type": "execute_result",
          "data": {
            "text/plain": [
              "[{'id': 'price_asc', 'name': 'Menor precio'},\n",
              " {'id': 'price_desc', 'name': 'Mayor precio'}]"
            ]
          },
          "metadata": {},
          "execution_count": 127
        }
      ]
    },
    {
      "cell_type": "markdown",
      "metadata": {
        "id": "odYMyOZ5HxTH"
      },
      "source": [
        "🏷️ 10. Generar un dataframe en base a las catrogrias y subcategorias de los porducto."
      ]
    },
    {
      "cell_type": "code",
      "metadata": {
        "colab": {
          "base_uri": "https://localhost:8080/"
        },
        "id": "q7daVKS_vx1J",
        "outputId": "143cd0cb-4e23-4fa0-a17b-8effb065e581"
      },
      "source": [
        "data['filters']"
      ],
      "execution_count": null,
      "outputs": [
        {
          "output_type": "execute_result",
          "data": {
            "text/plain": [
              "[{'id': 'category',\n",
              "  'name': 'Categorías',\n",
              "  'type': 'text',\n",
              "  'values': [{'id': 'MLA398582',\n",
              "    'name': 'Heladeras',\n",
              "    'path_from_root': [{'id': 'MLA5726',\n",
              "      'name': 'Electrodomésticos y Aires Ac.'},\n",
              "     {'id': 'MLA1576', 'name': 'Refrigeración'},\n",
              "     {'id': 'MLA398582', 'name': 'Heladeras'}]}]}]"
            ]
          },
          "metadata": {},
          "execution_count": 128
        }
      ]
    },
    {
      "cell_type": "code",
      "metadata": {
        "colab": {
          "base_uri": "https://localhost:8080/",
          "height": 81
        },
        "id": "mNcu9gEav7mR",
        "outputId": "87310018-2198-4f10-b995-528a53fb84a7"
      },
      "source": [
        "# Debo ir ingresando a cada nodo colocando el indice 0\n",
        "cat_principal=pd.json_normalize(data['filters'][0]['values'][0])\n",
        "cat_principal"
      ],
      "execution_count": null,
      "outputs": [
        {
          "output_type": "execute_result",
          "data": {
            "text/html": [
              "<div>\n",
              "<style scoped>\n",
              "    .dataframe tbody tr th:only-of-type {\n",
              "        vertical-align: middle;\n",
              "    }\n",
              "\n",
              "    .dataframe tbody tr th {\n",
              "        vertical-align: top;\n",
              "    }\n",
              "\n",
              "    .dataframe thead th {\n",
              "        text-align: right;\n",
              "    }\n",
              "</style>\n",
              "<table border=\"1\" class=\"dataframe\">\n",
              "  <thead>\n",
              "    <tr style=\"text-align: right;\">\n",
              "      <th></th>\n",
              "      <th>id</th>\n",
              "      <th>name</th>\n",
              "      <th>path_from_root</th>\n",
              "    </tr>\n",
              "  </thead>\n",
              "  <tbody>\n",
              "    <tr>\n",
              "      <th>0</th>\n",
              "      <td>MLA398582</td>\n",
              "      <td>Heladeras</td>\n",
              "      <td>[{'id': 'MLA5726', 'name': 'Electrodomésticos ...</td>\n",
              "    </tr>\n",
              "  </tbody>\n",
              "</table>\n",
              "</div>"
            ],
            "text/plain": [
              "          id       name                                     path_from_root\n",
              "0  MLA398582  Heladeras  [{'id': 'MLA5726', 'name': 'Electrodomésticos ..."
            ]
          },
          "metadata": {},
          "execution_count": 129
        }
      ]
    },
    {
      "cell_type": "code",
      "metadata": {
        "colab": {
          "base_uri": "https://localhost:8080/",
          "height": 143
        },
        "id": "dH5G8TXLwle8",
        "outputId": "dcda2072-6810-4afd-fce8-5ba35c2564de"
      },
      "source": [
        "cat_path=pd.json_normalize(data['filters'][0]['values'][0]['path_from_root'])\n",
        "cat_path"
      ],
      "execution_count": null,
      "outputs": [
        {
          "output_type": "execute_result",
          "data": {
            "text/html": [
              "<div>\n",
              "<style scoped>\n",
              "    .dataframe tbody tr th:only-of-type {\n",
              "        vertical-align: middle;\n",
              "    }\n",
              "\n",
              "    .dataframe tbody tr th {\n",
              "        vertical-align: top;\n",
              "    }\n",
              "\n",
              "    .dataframe thead th {\n",
              "        text-align: right;\n",
              "    }\n",
              "</style>\n",
              "<table border=\"1\" class=\"dataframe\">\n",
              "  <thead>\n",
              "    <tr style=\"text-align: right;\">\n",
              "      <th></th>\n",
              "      <th>id</th>\n",
              "      <th>name</th>\n",
              "    </tr>\n",
              "  </thead>\n",
              "  <tbody>\n",
              "    <tr>\n",
              "      <th>0</th>\n",
              "      <td>MLA5726</td>\n",
              "      <td>Electrodomésticos y Aires Ac.</td>\n",
              "    </tr>\n",
              "    <tr>\n",
              "      <th>1</th>\n",
              "      <td>MLA1576</td>\n",
              "      <td>Refrigeración</td>\n",
              "    </tr>\n",
              "    <tr>\n",
              "      <th>2</th>\n",
              "      <td>MLA398582</td>\n",
              "      <td>Heladeras</td>\n",
              "    </tr>\n",
              "  </tbody>\n",
              "</table>\n",
              "</div>"
            ],
            "text/plain": [
              "          id                           name\n",
              "0    MLA5726  Electrodomésticos y Aires Ac.\n",
              "1    MLA1576                  Refrigeración\n",
              "2  MLA398582                      Heladeras"
            ]
          },
          "metadata": {},
          "execution_count": 130
        }
      ]
    },
    {
      "cell_type": "markdown",
      "metadata": {
        "id": "smcyav3mH8ch"
      },
      "source": [
        "🏷️ 11. Cuantos son los posibles filtros que se pueden consultar?"
      ]
    },
    {
      "cell_type": "code",
      "metadata": {
        "colab": {
          "base_uri": "https://localhost:8080/"
        },
        "id": "a14TYytywv9T",
        "outputId": "d0908076-2ed9-405a-82b6-3bc1fb8aceae"
      },
      "source": [
        "len(data['available_filters'])"
      ],
      "execution_count": null,
      "outputs": [
        {
          "output_type": "execute_result",
          "data": {
            "text/plain": [
              "29"
            ]
          },
          "metadata": {},
          "execution_count": 131
        }
      ]
    },
    {
      "cell_type": "markdown",
      "metadata": {
        "id": "DOb_ZCwJIClZ"
      },
      "source": [
        "🏷️ 12. Imprimir los posibles filtros?"
      ]
    },
    {
      "cell_type": "code",
      "metadata": {
        "id": "e-30PV9AxXK4"
      },
      "source": [
        "[i['name'] for i in data['available_filters']]"
      ],
      "execution_count": null,
      "outputs": []
    },
    {
      "cell_type": "markdown",
      "metadata": {
        "id": "z59ykdJUIIvK"
      },
      "source": [
        "🏷️ 13. Cuales y cuantas son las tiendas oficiales disponibles, generar un dataframe para su resolución"
      ]
    },
    {
      "cell_type": "code",
      "metadata": {
        "colab": {
          "base_uri": "https://localhost:8080/"
        },
        "id": "j4vaRaBWxGAm",
        "outputId": "38345137-1fb2-4bc1-8234-19458dd86886"
      },
      "source": [
        "data['available_filters'][0]"
      ],
      "execution_count": null,
      "outputs": [
        {
          "output_type": "execute_result",
          "data": {
            "text/plain": [
              "{'id': 'official_store',\n",
              " 'name': 'Tiendas oficiales',\n",
              " 'type': 'text',\n",
              " 'values': [{'id': 'all',\n",
              "   'name': 'Todas las tiendas oficiales',\n",
              "   'results': 658},\n",
              "  {'id': '229', 'name': 'Fravega', 'results': 94},\n",
              "  {'id': '524', 'name': 'Patrick', 'results': 32},\n",
              "  {'id': '857', 'name': 'Electrolux', 'results': 4},\n",
              "  {'id': '1372', 'name': 'Mall 360', 'results': 12},\n",
              "  {'id': '81', 'name': 'Whirlpool', 'results': 29},\n",
              "  {'id': '82', 'name': 'Megatone', 'results': 58},\n",
              "  {'id': '47', 'name': 'Casa del audio', 'results': 25},\n",
              "  {'id': '1191', 'name': 'Philco', 'results': 7},\n",
              "  {'id': '455', 'name': 'Peabody', 'results': 7},\n",
              "  {'id': '1278', 'name': 'Siam', 'results': 4},\n",
              "  {'id': '1510', 'name': 'Gafa', 'results': 4},\n",
              "  {'id': '695', 'name': 'GE Appliances', 'results': 4}]}"
            ]
          },
          "metadata": {},
          "execution_count": 134
        }
      ]
    },
    {
      "cell_type": "code",
      "metadata": {
        "colab": {
          "base_uri": "https://localhost:8080/",
          "height": 206
        },
        "id": "0S4EQUqZ7m01",
        "outputId": "bb11f5ab-46a5-4739-bbc6-65c5ad315701"
      },
      "source": [
        "tiendas_oficiales=pd.DataFrame(data['available_filters'][0]['values'])\n",
        "tiendas_oficiales=tiendas_oficiales.loc[tiendas_oficiales.id!='all',:]\n",
        "tiendas_oficiales.head()"
      ],
      "execution_count": null,
      "outputs": [
        {
          "output_type": "execute_result",
          "data": {
            "text/html": [
              "<div>\n",
              "<style scoped>\n",
              "    .dataframe tbody tr th:only-of-type {\n",
              "        vertical-align: middle;\n",
              "    }\n",
              "\n",
              "    .dataframe tbody tr th {\n",
              "        vertical-align: top;\n",
              "    }\n",
              "\n",
              "    .dataframe thead th {\n",
              "        text-align: right;\n",
              "    }\n",
              "</style>\n",
              "<table border=\"1\" class=\"dataframe\">\n",
              "  <thead>\n",
              "    <tr style=\"text-align: right;\">\n",
              "      <th></th>\n",
              "      <th>id</th>\n",
              "      <th>name</th>\n",
              "      <th>results</th>\n",
              "    </tr>\n",
              "  </thead>\n",
              "  <tbody>\n",
              "    <tr>\n",
              "      <th>1</th>\n",
              "      <td>229</td>\n",
              "      <td>Fravega</td>\n",
              "      <td>94</td>\n",
              "    </tr>\n",
              "    <tr>\n",
              "      <th>2</th>\n",
              "      <td>524</td>\n",
              "      <td>Patrick</td>\n",
              "      <td>32</td>\n",
              "    </tr>\n",
              "    <tr>\n",
              "      <th>3</th>\n",
              "      <td>857</td>\n",
              "      <td>Electrolux</td>\n",
              "      <td>4</td>\n",
              "    </tr>\n",
              "    <tr>\n",
              "      <th>4</th>\n",
              "      <td>1372</td>\n",
              "      <td>Mall 360</td>\n",
              "      <td>12</td>\n",
              "    </tr>\n",
              "    <tr>\n",
              "      <th>5</th>\n",
              "      <td>81</td>\n",
              "      <td>Whirlpool</td>\n",
              "      <td>29</td>\n",
              "    </tr>\n",
              "  </tbody>\n",
              "</table>\n",
              "</div>"
            ],
            "text/plain": [
              "     id        name  results\n",
              "1   229     Fravega       94\n",
              "2   524     Patrick       32\n",
              "3   857  Electrolux        4\n",
              "4  1372    Mall 360       12\n",
              "5    81   Whirlpool       29"
            ]
          },
          "metadata": {},
          "execution_count": 141
        }
      ]
    },
    {
      "cell_type": "code",
      "metadata": {
        "colab": {
          "base_uri": "https://localhost:8080/"
        },
        "id": "RKRw_P3L-Sw3",
        "outputId": "1f1159ee-1b00-449e-faab-32df5339a6cc"
      },
      "source": [
        "print('La cantidad de tienas oficiales que hay :',tiendas_oficiales.shape[0])\n",
        "print('Las tiends oficiales son:',list(tiendas_oficiales.name))"
      ],
      "execution_count": null,
      "outputs": [
        {
          "output_type": "stream",
          "name": "stdout",
          "text": [
            "La cantidad de tienas oficiales que hay : 12\n",
            "Las tiends oficiales son: ['Fravega', 'Patrick', 'Electrolux', 'Mall 360', 'Whirlpool', 'Megatone', 'Casa del audio', 'Philco', 'Peabody', 'Siam', 'Gafa', 'GE Appliances']\n"
          ]
        }
      ]
    },
    {
      "cell_type": "markdown",
      "metadata": {
        "id": "dO6Jhk_uIOBq"
      },
      "source": [
        "🏷️ 14. Generar multiples dataframes con los nombres de cada filtro posible, concatenar \"FILTER_\" a la denominación del dataframe"
      ]
    },
    {
      "cell_type": "code",
      "metadata": {
        "id": "mioOJvzr0ahN"
      },
      "source": [
        "# Generar multiples dataframes con los nombres de cada filtro posible, concatenar \"FILTER_\" a la denominación del dataframe\n",
        "for c in data['available_filters']:\n",
        "     exec('{} = pd.json_normalize({})'.format('FILTER_'+c['id'],c['values']))"
      ],
      "execution_count": null,
      "outputs": []
    },
    {
      "cell_type": "code",
      "metadata": {
        "id": "PsNMzCCaypw9"
      },
      "source": [
        "# ver listados de objetos\n",
        "%who_ls "
      ],
      "execution_count": null,
      "outputs": []
    },
    {
      "cell_type": "code",
      "metadata": {
        "id": "Rer1QrgG1AYZ"
      },
      "source": [
        "# Print solamente los dataframes\n",
        "%who_ls DataFrame"
      ],
      "execution_count": null,
      "outputs": []
    },
    {
      "cell_type": "markdown",
      "metadata": {
        "id": "f64j0es0IUGK"
      },
      "source": [
        "🏷️ 15. Cuantas marcas posibles encuentra para el producto buscado"
      ]
    },
    {
      "cell_type": "code",
      "metadata": {
        "colab": {
          "base_uri": "https://localhost:8080/"
        },
        "id": "g8CFncvvzjKL",
        "outputId": "ca9327c2-0aaf-4c0e-c033-2977f9220228"
      },
      "source": [
        "print('La cantidad de marcas disponibles es',FILTER_BRAND.shape[0])"
      ],
      "execution_count": null,
      "outputs": [
        {
          "output_type": "stream",
          "name": "stdout",
          "text": [
            "La cantidad de marcas disponibles es 59\n"
          ]
        }
      ]
    },
    {
      "cell_type": "markdown",
      "metadata": {
        "id": "ygGefWL7Ia3f"
      },
      "source": [
        "🏷️ 16. Generar un dataframe con todos los productos de la busqueda"
      ]
    },
    {
      "cell_type": "code",
      "metadata": {
        "id": "TkBeS8-92kBm"
      },
      "source": [
        "# Generar un dataframe con todos los productos de la busqueda\n",
        "df_results=pd.json_normalize(data['results'])"
      ],
      "execution_count": null,
      "outputs": []
    },
    {
      "cell_type": "markdown",
      "metadata": {
        "id": "DZ51J_8jIgSz"
      },
      "source": [
        "🏷️ 17. Cuantos productos y cuantas variables se retornaron"
      ]
    },
    {
      "cell_type": "code",
      "metadata": {
        "colab": {
          "base_uri": "https://localhost:8080/"
        },
        "id": "MVP6TuQT3wFM",
        "outputId": "a617ace3-4615-4de6-d25d-b92f88fd8e77"
      },
      "source": [
        "df_results.shape"
      ],
      "execution_count": null,
      "outputs": [
        {
          "output_type": "execute_result",
          "data": {
            "text/plain": [
              "(50, 107)"
            ]
          },
          "metadata": {},
          "execution_count": 148
        }
      ]
    },
    {
      "cell_type": "markdown",
      "metadata": {
        "id": "jlsfbJdjIm8C"
      },
      "source": [
        "🏷️ 18. Compare los precios entre tiendas oficiales y el resto de los vendedores para los productos nuevos"
      ]
    },
    {
      "cell_type": "code",
      "metadata": {
        "id": "iEjV2igT4n86"
      },
      "source": [
        "df_results['official_store']=df_results['official_store_id'].isna().astype(str)"
      ],
      "execution_count": null,
      "outputs": []
    },
    {
      "cell_type": "code",
      "metadata": {
        "colab": {
          "base_uri": "https://localhost:8080/",
          "height": 334
        },
        "id": "OL3RxKnz4S8D",
        "outputId": "6a079c49-08a8-4274-85c1-0c848df14bd3"
      },
      "source": [
        "plt.figure(figsize=(10,5))\n",
        "sns.boxplot(x=\"price\", y=\"official_store\", data=df_results.loc[df_results.condition=='new',:],showfliers=False)\n",
        "plt.show()"
      ],
      "execution_count": null,
      "outputs": [
        {
          "output_type": "display_data",
          "data": {
            "image/png": "[encoded data removed]",
            "text/plain": [
              "<Figure size 720x360 with 1 Axes>"
            ]
          },
          "metadata": {
            "needs_background": "light"
          }
        }
      ]
    },
    {
      "cell_type": "markdown",
      "metadata": {
        "id": "syDum4ZbAoTq"
      },
      "source": [
        "🏷️ 19. Cual es el producto que contiene las siguientes caracteristicas:\n",
        "1. Reputacion del venderor de 5 estrellas.\n",
        "2. Producto Nuevo\n",
        "3. Contiene la marca Saumsung\n",
        "5. Que la logitica es proporcionada por Mercado Libre (\"mel\")\n",
        "6. Que la dirección del venderor este en Buenos Aires incluyendo Capital Federal.\n",
        "7. El precio este entre q25 y q50 en base a los datos obtenidos de los filtros anteriores.\n",
        "\n",
        "Posteriormente retorne el producto que tenga el menor precio."
      ]
    },
    {
      "cell_type": "code",
      "metadata": {
        "colab": {
          "base_uri": "https://localhost:8080/",
          "height": 217
        },
        "id": "sIokwAxnB9V7",
        "outputId": "85c778bf-88ef-4dd2-e00e-391853bd0ef4"
      },
      "source": [
        "# 1.Reputacion del venderor de 5 estrellas: seller.seller_reputation.level_id\t=='5_green'\n",
        "# 2.Producto Nuevo: condition\t=='new'\n",
        "# 3.Contiene la marca Saumsung: title.str.find('title')>=0\n",
        "# 4.Que la dirección del venderor este en Buenos Aires incluyendo Capital Federal: seller_address.state.id.isin(['AR-B','AR-C'])\n",
        "# 5.El precio este entre q25 y q50 en base a los datos obtenidos de los filtros anteriores, pero dentro de este rango sea el mas economico : price.between(price.quantile(0.25),price.quantile(0.5))\n",
        "\n",
        "df_heladera=df_results.loc[\n",
        "               (df_results['seller.seller_reputation.level_id'] =='5_green') &\n",
        "               (df_results['condition']=='new') &\n",
        "               (df_results['title'].str.find('Samsung')>=0) &\n",
        "               (df_results['seller_address.state.id'].isin(['AR-B','AR-C'])),: ]\n",
        "\n",
        "df_heladera.loc[\n",
        "               (df_heladera['price'].between(df_heladera['price'].quantile(0.25),\n",
        "                                             df_heladera['price'].quantile(0.5)))\n",
        "               ,:\n",
        "].sort_values('price').head(1)"
      ],
      "execution_count": null,
      "outputs": [
        {
          "output_type": "execute_result",
          "data": {
            "text/html": [
              "<div>\n",
              "<style scoped>\n",
              "    .dataframe tbody tr th:only-of-type {\n",
              "        vertical-align: middle;\n",
              "    }\n",
              "\n",
              "    .dataframe tbody tr th {\n",
              "        vertical-align: top;\n",
              "    }\n",
              "\n",
              "    .dataframe thead th {\n",
              "        text-align: right;\n",
              "    }\n",
              "</style>\n",
              "<table border=\"1\" class=\"dataframe\">\n",
              "  <thead>\n",
              "    <tr style=\"text-align: right;\">\n",
              "      <th></th>\n",
              "      <th>id</th>\n",
              "      <th>site_id</th>\n",
              "      <th>title</th>\n",
              "      <th>price</th>\n",
              "      <th>sale_price</th>\n",
              "      <th>currency_id</th>\n",
              "      <th>available_quantity</th>\n",
              "      <th>sold_quantity</th>\n",
              "      <th>buying_mode</th>\n",
              "      <th>listing_type_id</th>\n",
              "      <th>stop_time</th>\n",
              "      <th>condition</th>\n",
              "      <th>permalink</th>\n",
              "      <th>thumbnail</th>\n",
              "      <th>thumbnail_id</th>\n",
              "      <th>accepts_mercadopago</th>\n",
              "      <th>attributes</th>\n",
              "      <th>original_price</th>\n",
              "      <th>category_id</th>\n",
              "      <th>official_store_id</th>\n",
              "      <th>domain_id</th>\n",
              "      <th>catalog_product_id</th>\n",
              "      <th>tags</th>\n",
              "      <th>catalog_listing</th>\n",
              "      <th>use_thumbnail_id</th>\n",
              "      <th>offer_score</th>\n",
              "      <th>offer_share</th>\n",
              "      <th>match_score</th>\n",
              "      <th>order_backend</th>\n",
              "      <th>seller.id</th>\n",
              "      <th>seller.permalink</th>\n",
              "      <th>seller.registration_date</th>\n",
              "      <th>seller.car_dealer</th>\n",
              "      <th>seller.real_estate_agency</th>\n",
              "      <th>seller.tags</th>\n",
              "      <th>seller.seller_reputation.power_seller_status</th>\n",
              "      <th>seller.seller_reputation.level_id</th>\n",
              "      <th>seller.seller_reputation.metrics.cancellations.period</th>\n",
              "      <th>seller.seller_reputation.metrics.cancellations.rate</th>\n",
              "      <th>seller.seller_reputation.metrics.cancellations.value</th>\n",
              "      <th>...</th>\n",
              "      <th>address.city_name</th>\n",
              "      <th>shipping.free_shipping</th>\n",
              "      <th>shipping.mode</th>\n",
              "      <th>shipping.tags</th>\n",
              "      <th>shipping.logistic_type</th>\n",
              "      <th>shipping.store_pick_up</th>\n",
              "      <th>seller_address.id</th>\n",
              "      <th>seller_address.comment</th>\n",
              "      <th>seller_address.address_line</th>\n",
              "      <th>seller_address.zip_code</th>\n",
              "      <th>seller_address.country.id</th>\n",
              "      <th>seller_address.country.name</th>\n",
              "      <th>seller_address.state.id</th>\n",
              "      <th>seller_address.state.name</th>\n",
              "      <th>seller_address.city.id</th>\n",
              "      <th>seller_address.city.name</th>\n",
              "      <th>seller_address.latitude</th>\n",
              "      <th>seller_address.longitude</th>\n",
              "      <th>differential_pricing.id</th>\n",
              "      <th>seller.seller_reputation.real_level</th>\n",
              "      <th>seller.seller_reputation.protection_end_date</th>\n",
              "      <th>seller.seller_reputation.metrics.cancellations.excluded.real_value</th>\n",
              "      <th>seller.seller_reputation.metrics.cancellations.excluded.real_rate</th>\n",
              "      <th>seller.seller_reputation.metrics.claims.excluded.real_value</th>\n",
              "      <th>seller.seller_reputation.metrics.claims.excluded.real_rate</th>\n",
              "      <th>seller.seller_reputation.metrics.delayed_handling_time.excluded.real_value</th>\n",
              "      <th>seller.seller_reputation.metrics.delayed_handling_time.excluded.real_rate</th>\n",
              "      <th>seller.eshop.seller</th>\n",
              "      <th>seller.eshop.eshop_rubro</th>\n",
              "      <th>seller.eshop.eshop_id</th>\n",
              "      <th>seller.eshop.nick_name</th>\n",
              "      <th>seller.eshop.site_id</th>\n",
              "      <th>seller.eshop.eshop_logo_url</th>\n",
              "      <th>seller.eshop.eshop_status_id</th>\n",
              "      <th>seller.eshop.eshop_experience</th>\n",
              "      <th>seller.eshop.eshop_locations</th>\n",
              "      <th>seller.eshop.eshop_rubro.category_id</th>\n",
              "      <th>seller.eshop.eshop_rubro.name</th>\n",
              "      <th>seller.eshop.eshop_rubro.id</th>\n",
              "      <th>official_store</th>\n",
              "    </tr>\n",
              "  </thead>\n",
              "  <tbody>\n",
              "    <tr>\n",
              "      <th>6</th>\n",
              "      <td>MLA853922825</td>\n",
              "      <td>MLA</td>\n",
              "      <td>Heladera Inverter No Frost Samsung Rt32k5070 E...</td>\n",
              "      <td>83743.0</td>\n",
              "      <td>None</td>\n",
              "      <td>ARS</td>\n",
              "      <td>10</td>\n",
              "      <td>71</td>\n",
              "      <td>buy_it_now</td>\n",
              "      <td>gold_special</td>\n",
              "      <td>2040-05-02T04:00:00.000Z</td>\n",
              "      <td>new</td>\n",
              "      <td>https://www.mercadolibre.com.ar/heladera-inver...</td>\n",
              "      <td>http://http2.mlstatic.com/D_747429-MLA41133399...</td>\n",
              "      <td>747429-MLA41133399707_032020</td>\n",
              "      <td>True</td>\n",
              "      <td>[{'id': 'BRAND', 'name': 'Marca', 'value_name'...</td>\n",
              "      <td>NaN</td>\n",
              "      <td>MLA398582</td>\n",
              "      <td>NaN</td>\n",
              "      <td>MLA-REFRIGERATORS</td>\n",
              "      <td>MLA15485496</td>\n",
              "      <td>[brand_verified, extended_warranty_eligible, g...</td>\n",
              "      <td>True</td>\n",
              "      <td>True</td>\n",
              "      <td>None</td>\n",
              "      <td>None</td>\n",
              "      <td>None</td>\n",
              "      <td>7</td>\n",
              "      <td>12626860</td>\n",
              "      <td>http://perfil.mercadolibre.com.ar/LHCONFORT</td>\n",
              "      <td>2002-10-29T00:00:00.000-04:00</td>\n",
              "      <td>False</td>\n",
              "      <td>False</td>\n",
              "      <td>[normal, credits_profile, eshop, developer, me...</td>\n",
              "      <td>platinum</td>\n",
              "      <td>5_green</td>\n",
              "      <td>60 days</td>\n",
              "      <td>0.0129</td>\n",
              "      <td>120</td>\n",
              "      <td>...</td>\n",
              "      <td>Floresta</td>\n",
              "      <td>False</td>\n",
              "      <td>custom</td>\n",
              "      <td>[]</td>\n",
              "      <td>custom</td>\n",
              "      <td>False</td>\n",
              "      <td></td>\n",
              "      <td></td>\n",
              "      <td></td>\n",
              "      <td></td>\n",
              "      <td>AR</td>\n",
              "      <td>Argentina</td>\n",
              "      <td>AR-C</td>\n",
              "      <td>Capital Federal</td>\n",
              "      <td>TUxBQkZMTzg5MjFa</td>\n",
              "      <td>Floresta</td>\n",
              "      <td></td>\n",
              "      <td></td>\n",
              "      <td>NaN</td>\n",
              "      <td>NaN</td>\n",
              "      <td>NaN</td>\n",
              "      <td>NaN</td>\n",
              "      <td>NaN</td>\n",
              "      <td>NaN</td>\n",
              "      <td>NaN</td>\n",
              "      <td>NaN</td>\n",
              "      <td>NaN</td>\n",
              "      <td>12626860.0</td>\n",
              "      <td>NaN</td>\n",
              "      <td>87137.0</td>\n",
              "      <td>LHCONFORT</td>\n",
              "      <td>MLA</td>\n",
              "      <td>http://resources.mlstatic.com/eshops/12626860v...</td>\n",
              "      <td>1.0</td>\n",
              "      <td>0.0</td>\n",
              "      <td>[]</td>\n",
              "      <td>MLA5726</td>\n",
              "      <td>Electrodomésticos y Aires Ac.</td>\n",
              "      <td>MLA5726</td>\n",
              "      <td>True</td>\n",
              "    </tr>\n",
              "  </tbody>\n",
              "</table>\n",
              "<p>1 rows × 108 columns</p>\n",
              "</div>"
            ],
            "text/plain": [
              "             id site_id  ... seller.eshop.eshop_rubro.id  official_store\n",
              "6  MLA853922825     MLA  ...                     MLA5726            True\n",
              "\n",
              "[1 rows x 108 columns]"
            ]
          },
          "metadata": {},
          "execution_count": 186
        }
      ]
    }
  ]
}