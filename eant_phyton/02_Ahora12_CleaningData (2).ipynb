{
  "nbformat": 4,
  "nbformat_minor": 0,
  "metadata": {
    "colab": {
      "name": "02-Ahora12-CleaningData.ipynb",
      "provenance": [],
      "collapsed_sections": []
    },
    "kernelspec": {
      "name": "python3",
      "display_name": "Python 3"
    }
  },
  "cells": [
    {
      "cell_type": "markdown",
      "metadata": {
        "id": "A51UFEH4GpQg"
      },
      "source": [
        " <img src=\"https://eant.tech/imagenes/logo.png\" width=25% height=80%  >"
      ]
    },
    {
      "cell_type": "markdown",
      "metadata": {
        "id": "CT697MnjGqY6"
      },
      "source": [
        "## <img src=\"http://icons.iconarchive.com/icons/cornmanthe3rd/plex/256/Other-python-icon.png\" width=\"40\"> Ahora 12 🛍️🛒💳\n",
        "\n",
        "Vamos a trabajar con el dataset de ahora 12 que se encuentra en el [link](https://datos.gob.ar/dataset/siep-ahora-12)\n",
        "\n",
        ">**¿Qué es ahora 12?** Es un plan de financiamiento para que puedas comprar diferentes productos en 3, 6, 12 o 18 cuotas con tu tarjeta de crédito sin ningún límite de monto.\n",
        "\n",
        "<center>\n",
        "<img src=\"https://i.ibb.co/xsH0QZv/credit-card.jpg\" alt=\"credit-card\" border=\"0\">\n",
        "\n",
        "source image: [link](https://www.cartoq.com/how-india-can-learn-from-singapore-on-saving-from-fuel-charges-using-credit-cards/)\n",
        "\n",
        "</center>"
      ]
    },
    {
      "cell_type": "markdown",
      "metadata": {
        "id": "7-52cV4IFpzE"
      },
      "source": [
        "🏷️ 1. Importar pandas, numpy y matplotlib.pyplot"
      ]
    },
    {
      "cell_type": "code",
      "metadata": {
        "id": "NHi6ZCpbCffm"
      },
      "source": [
        "import pandas as pd\n",
        "import numpy as np\n",
        "import matplotlib.pyplot as plt"
      ],
      "execution_count": null,
      "outputs": []
    },
    {
      "cell_type": "markdown",
      "metadata": {
        "id": "1P7LYHdSFwso"
      },
      "source": [
        "🏷️ 2. Importar el archivo **`ahora12-operaciones-series.csv`**"
      ]
    },
    {
      "cell_type": "code",
      "metadata": {
        "id": "Zu3bcOFjGiwx"
      },
      "source": [
        ""
      ],
      "execution_count": null,
      "outputs": []
    },
    {
      "cell_type": "markdown",
      "metadata": {
        "id": "61tqvHlxF3tr"
      },
      "source": [
        "🏷️ 3. Cuantas filas y columnas tiene el dataframe"
      ]
    },
    {
      "cell_type": "code",
      "metadata": {
        "id": "0Y4ddzBwIGyF"
      },
      "source": [
        ""
      ],
      "execution_count": null,
      "outputs": []
    },
    {
      "cell_type": "markdown",
      "metadata": {
        "id": "QF6rPoXmF8yS"
      },
      "source": [
        "🏷️ 4. Imprimir las 5 primeras filas del dataframe"
      ]
    },
    {
      "cell_type": "code",
      "metadata": {
        "id": "ot09nhWyIK2e"
      },
      "source": [
        ""
      ],
      "execution_count": null,
      "outputs": []
    },
    {
      "cell_type": "markdown",
      "metadata": {
        "id": "kpLiIJTxGDS-"
      },
      "source": [
        "🏷️ 5. Generar un dataframe que contenga tres columnas:\n",
        "> * indice_tiempo\n",
        "> * concepto\n",
        "> * value"
      ]
    },
    {
      "cell_type": "code",
      "metadata": {
        "id": "0j4nIKsvImdG"
      },
      "source": [
        ""
      ],
      "execution_count": null,
      "outputs": []
    },
    {
      "cell_type": "markdown",
      "metadata": {
        "id": "h1H-aXpxGOCD"
      },
      "source": [
        "🏷️ 6. Cuantos valores unicos tiene la variable concepto"
      ]
    },
    {
      "cell_type": "code",
      "metadata": {
        "id": "2fhpbFwJI9cP"
      },
      "source": [
        ""
      ],
      "execution_count": null,
      "outputs": []
    },
    {
      "cell_type": "markdown",
      "metadata": {
        "id": "d6AvZH8wGU2Q"
      },
      "source": [
        "🏷️ 7. Generer un dataframe denominado **df_rubros** que tenga tres columnas:\n",
        "> * concepto\n",
        "> * provincia: que contenga la denominación sin los `_`\n",
        "> * rubro: los rubros contemplados en el plan ahora12"
      ]
    },
    {
      "cell_type": "code",
      "metadata": {
        "id": "_Sp8Lyn2sLss"
      },
      "source": [
        ""
      ],
      "execution_count": null,
      "outputs": []
    },
    {
      "cell_type": "markdown",
      "metadata": {
        "id": "HKPgRWVYGsDV"
      },
      "source": [
        "🏷️ 8. Realizar un merge del dataframe ahora12 y el generado en el paso anterior."
      ]
    },
    {
      "cell_type": "code",
      "metadata": {
        "id": "EuwbH5UFPCGO"
      },
      "source": [
        ""
      ],
      "execution_count": null,
      "outputs": []
    },
    {
      "cell_type": "markdown",
      "metadata": {
        "id": "z9yGtCSWG3fP"
      },
      "source": [
        "🏷️ 9. Generer las variables de:\n",
        "> * numero del dia de la semana\n",
        "> * denominación del dia\n",
        "> * numero del mes\n",
        "> * año"
      ]
    },
    {
      "cell_type": "code",
      "metadata": {
        "id": "K_OofYqbPSvI"
      },
      "source": [
        ""
      ],
      "execution_count": null,
      "outputs": []
    },
    {
      "cell_type": "markdown",
      "metadata": {
        "id": "JZFJDnTuHHWy"
      },
      "source": [
        "🏷️ 10. Generar un dataframe que contenga las columnas:\n",
        "> * mes \n",
        "> * value: con la sumatoria de las transacciones realizadas."
      ]
    },
    {
      "cell_type": "code",
      "metadata": {
        "id": "9yDtiTPlidrg"
      },
      "source": [
        ""
      ],
      "execution_count": null,
      "outputs": []
    },
    {
      "cell_type": "markdown",
      "metadata": {
        "id": "FRa4SrtQHXnY"
      },
      "source": [
        "🏷️ 11. Generar un dataframe que contenga las columnas:\n",
        "> * dia \n",
        "> * value con la sumatoria de las transacciones realizadas."
      ]
    },
    {
      "cell_type": "code",
      "metadata": {
        "id": "d_8nOeSKVqe8"
      },
      "source": [
        ""
      ],
      "execution_count": null,
      "outputs": []
    },
    {
      "cell_type": "code",
      "metadata": {
        "id": "8eJMqOFRWT1Q"
      },
      "source": [
        ""
      ],
      "execution_count": null,
      "outputs": []
    },
    {
      "cell_type": "code",
      "metadata": {
        "id": "cifW7D5aWt6q"
      },
      "source": [
        ""
      ],
      "execution_count": null,
      "outputs": []
    },
    {
      "cell_type": "markdown",
      "metadata": {
        "id": "qinH2vxXHkQ5"
      },
      "source": [
        "🏷️ 12. Generar un dataframe que las columnas sean los meses del año y las filas sean los rubros.\n",
        "Se deben completar los datos con la sumatorias de transacciones realizadas en cada intercepción."
      ]
    },
    {
      "cell_type": "code",
      "metadata": {
        "id": "QZc8Ezxrf3uv"
      },
      "source": [
        ""
      ],
      "execution_count": null,
      "outputs": []
    }
  ]
}