{
  "nbformat": 4,
  "nbformat_minor": 0,
  "metadata": {
    "colab": {
      "name": "API_transporte.ipynb",
      "provenance": [],
      "collapsed_sections": []
    },
    "kernelspec": {
      "name": "python3",
      "display_name": "Python 3"
    }
  },
  "cells": [
    {
      "cell_type": "markdown",
      "metadata": {
        "id": "VysTBHUBLsqy"
      },
      "source": [
        " <img src=\"https://eant.tech/imagenes/logo.png\" width=25% height=80%  >"
      ]
    },
    {
      "cell_type": "markdown",
      "metadata": {
        "id": "SXV277S2LuW1"
      },
      "source": [
        "## <img src=\"http://icons.iconarchive.com/icons/cornmanthe3rd/plex/256/Other-python-icon.png\" width=\"40\"> Ejercicio API De Transporte: Bicicletas"
      ]
    },
    {
      "cell_type": "markdown",
      "metadata": {
        "id": "81X3yV_iMU5g"
      },
      "source": [
        "## **Que es una API ?**\n",
        "Una API es un conjunto de definiciones y protocolos que se utiliza \n",
        "para desarrollar e integrar el software de las aplicaciones. API \n",
        "significa interfaz de programación de aplicaciones.\n",
        "\n",
        "Las API se consideran como contratos, con documentación que representa un acuerdo entre las partes: si una de las partes envía una solicitud remota con cierta estructura en particular, esa misma estructura determinará cómo responderá el software de la otra parte.\n",
        "\n",
        "Por ejemplo, imagínese una empresa distribuidora de libros. Podría ofrecer a los clientes una aplicación que les permita a los empleados de la librería verificar la disponibilidad de los libros con el distribuidor. El desarrollo de esta aplicación podría ser costoso, estar limitado por la plataforma y requerir mucho tiempo de desarrollo y mantenimiento continuo.\n",
        "\n",
        "Otra opción es que la distribuidora de libros proporciona una API para verificar la disponibilidad en inventario. Existen varios beneficios de este enfoque:\n",
        "\n",
        "* Permite que los clientes accedan a los datos con una API que les ayude a añadir información sobre su inventario en un solo lugar.\n",
        "* La distribuidora de libros podría realizar cambios en sus sistemas internos sin afectar a los clientes, siempre y cuando el comportamiento de la API fuera el mismo.\n",
        "* Con una API disponible de forma pública, los desarrolladores que trabajan para la distribuidora de libros, los vendedores o los terceros podrían desarrollar una aplicación para ayudar a los clientes a encontrar los libros que necesiten. Esto podría dar como resultado mayores ventas u otras oportunidades comerciales.\n",
        "\n",
        "\n",
        "\n",
        "\n",
        "```\n",
        "# Esta información fue obtenida en: https://www.redhat.com/es/topics/api/what-are-application-programming-interfaces\n",
        "```\n",
        "\n",
        "\n",
        "\n",
        "\n",
        "<center>\n",
        "<img src=\"https://maplebrains.com/images/3rdparty_api.png\" alt=\"download-2\" border=\"0\" width=30% height=30%>\n",
        "</center>"
      ]
    },
    {
      "cell_type": "markdown",
      "metadata": {
        "id": "arNriHpAMirs"
      },
      "source": [
        "🏷️ 1. Primero lo vamos a realizar manualmente por lo cual ingresa al siguiente link: https://www.buenosaires.gob.ar/desarrollourbano/transporte/apitransporte/api-doc"
      ]
    },
    {
      "cell_type": "markdown",
      "metadata": {
        "id": "GPsYY8d8MtvV"
      },
      "source": [
        "🏷️ 2. Creamos las variables que contienen nuestras claves"
      ]
    },
    {
      "cell_type": "code",
      "metadata": {
        "id": "twIay9jfMc4B"
      },
      "source": [
        "p_client_id='4e9305db6bcb451293f0f2e992b198f6'\n",
        "p_client_secret='ef1b9BcF2b434A39930Bcd943a8AbE0F'"
      ],
      "execution_count": null,
      "outputs": []
    },
    {
      "cell_type": "markdown",
      "metadata": {
        "id": "m1c-FnT-M19L"
      },
      "source": [
        "🏷️ 3. ¿Como le indicamos que consulta queremos realizar?\n",
        "\n",
        "<center>\n",
        "<img src=\"https://i.ibb.co/3SV4Szv/Monopatin.png\" alt=\"download-2\" border=\"0\" width=60% height=60%>\n",
        "</center>\n"
      ]
    },
    {
      "cell_type": "markdown",
      "metadata": {
        "id": "cciR8mLiNMXG"
      },
      "source": [
        "🏷️ 3. Crear una variable que se llame api con la consulta de las estaciones de ecobici"
      ]
    },
    {
      "cell_type": "code",
      "metadata": {
        "id": "TB9HOMK8LsVg"
      },
      "source": [
        "\n"
      ],
      "execution_count": null,
      "outputs": []
    },
    {
      "cell_type": "markdown",
      "metadata": {
        "id": "1ab6pKbVNVfn"
      },
      "source": [
        "🏷️ 4. Importamos los paquetes y esta función que vamos a utlizar"
      ]
    },
    {
      "cell_type": "code",
      "metadata": {
        "id": "jytzNfCvNbtt"
      },
      "source": [
        ""
      ],
      "execution_count": null,
      "outputs": []
    },
    {
      "cell_type": "markdown",
      "metadata": {
        "id": "zSeAOg6SNlHc"
      },
      "source": [
        "🏷️ 5. Realizamos el llamado a la api con el metodo get"
      ]
    },
    {
      "cell_type": "code",
      "metadata": {
        "id": "rXf_EMdyNtNn"
      },
      "source": [
        ""
      ],
      "execution_count": null,
      "outputs": []
    },
    {
      "cell_type": "markdown",
      "metadata": {
        "id": "2QKD1DSINS9G"
      },
      "source": [
        "🏷️ 6. Validamos el estado que nos retorna"
      ]
    },
    {
      "cell_type": "code",
      "metadata": {
        "id": "ErN9aRZCOG0A"
      },
      "source": [
        ""
      ],
      "execution_count": null,
      "outputs": []
    },
    {
      "cell_type": "markdown",
      "metadata": {
        "id": "tIF1jFo_mVTl"
      },
      "source": [
        "🏷️ 7. Convertimos a un objeto dataframe y observamos las primeras filas"
      ]
    },
    {
      "cell_type": "code",
      "metadata": {
        "id": "WOnRWRWHmak4"
      },
      "source": [
        ""
      ],
      "execution_count": null,
      "outputs": []
    },
    {
      "cell_type": "code",
      "metadata": {
        "id": "NCJEyBEzKSJi"
      },
      "source": [
        ""
      ],
      "execution_count": null,
      "outputs": []
    },
    {
      "cell_type": "markdown",
      "metadata": {
        "id": "gC_T9XQeoii3"
      },
      "source": [
        "🏷️ 8. Utilizamos la funcion json_normalize para poder generar un dataframe a partir de un json"
      ]
    },
    {
      "cell_type": "code",
      "metadata": {
        "id": "xaynrmQvmkip"
      },
      "source": [
        ""
      ],
      "execution_count": null,
      "outputs": []
    },
    {
      "cell_type": "markdown",
      "metadata": {
        "id": "5cDIilpNhZFF"
      },
      "source": [
        "🏷️ 9. Agregar al dataframe obtenido del punto anterior la variable de la disponibilidad actual de bicicletas, tenga en cuanta que tiene que consultar otro metodo de la api de transporte."
      ]
    },
    {
      "cell_type": "code",
      "metadata": {
        "id": "dm9zyvqRFS_M"
      },
      "source": [
        ""
      ],
      "execution_count": null,
      "outputs": []
    }
  ]
}