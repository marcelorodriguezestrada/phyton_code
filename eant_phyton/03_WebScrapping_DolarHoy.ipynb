{
  "nbformat": 4,
  "nbformat_minor": 0,
  "metadata": {
    "colab": {
      "name": "03-WebScrapping-DolarHoy.ipynb",
      "provenance": [],
      "collapsed_sections": []
    },
    "kernelspec": {
      "name": "python3",
      "display_name": "Python 3"
    }
  },
  "cells": [
    {
      "cell_type": "markdown",
      "metadata": {
        "id": "HOIBvf1oNjU2"
      },
      "source": [
        "## <img src=\"http://icons.iconarchive.com/icons/cornmanthe3rd/plex/256/Other-python-icon.png\" width=\"40\"> Ejercicio Dolar hoy 💰💱🔍\n",
        "\n",
        "<center>\n",
        "<img src=\"https://dolarhoy.com/Content/img/dolarhoycolortransparente.png\"  width=\"80%\" alt=\"alicia\" border=\"1\">\n",
        "\n",
        "Source Image:[link](https://dolarhoy.com/Content/img/dolarhoycolortransparente.png)\n",
        "</center>\n",
        "<br>\n"
      ]
    },
    {
      "cell_type": "markdown",
      "metadata": {
        "id": "OUfrmUgcQkIW"
      },
      "source": [
        "🏷️ 1.Generar la tabla que esta en el siguiente link con las cotizaciones historicas de dolar http://www.dolarhoy.com/DollarChart"
      ]
    },
    {
      "cell_type": "code",
      "metadata": {
        "id": "VYmFpJroOEt5"
      },
      "source": [
        ""
      ],
      "execution_count": null,
      "outputs": []
    },
    {
      "cell_type": "markdown",
      "metadata": {
        "id": "Ij2YeKFUd_Ti"
      },
      "source": [
        "🏷️ 2. Validar el status"
      ]
    },
    {
      "cell_type": "code",
      "metadata": {
        "id": "_zDCCWz8QsSB"
      },
      "source": [
        ""
      ],
      "execution_count": null,
      "outputs": []
    },
    {
      "cell_type": "markdown",
      "metadata": {
        "id": "2UaZMKtneC6o"
      },
      "source": [
        "🏷️ 3. Imprimir la estructura de la pagina"
      ]
    },
    {
      "cell_type": "code",
      "metadata": {
        "id": "WcRDw6kaQveH"
      },
      "source": [
        ""
      ],
      "execution_count": null,
      "outputs": []
    },
    {
      "cell_type": "markdown",
      "metadata": {
        "id": "lD3UmEJ0eDx6"
      },
      "source": [
        "🏷️ 4. Hacer un parser del html"
      ]
    },
    {
      "cell_type": "code",
      "metadata": {
        "id": "2nJ08uEcQzBr"
      },
      "source": [
        ""
      ],
      "execution_count": null,
      "outputs": []
    },
    {
      "cell_type": "markdown",
      "metadata": {
        "id": "TbxK1PneeJlE"
      },
      "source": [
        "🏷️ 5. Generar una tabla que contenga la fecha y las cotizaciones de dolar"
      ]
    },
    {
      "cell_type": "code",
      "metadata": {
        "id": "G5u0w8v4Q7Pp"
      },
      "source": [
        ""
      ],
      "execution_count": null,
      "outputs": []
    },
    {
      "cell_type": "markdown",
      "metadata": {
        "id": "jtW214pzeVhY"
      },
      "source": [
        "🏷️ 6. Convertir en formato datetime la variable `fecha`"
      ]
    },
    {
      "cell_type": "code",
      "metadata": {
        "id": "FdZC8EqJTEll"
      },
      "source": [
        ""
      ],
      "execution_count": null,
      "outputs": []
    },
    {
      "cell_type": "markdown",
      "metadata": {
        "id": "2c_B8Rc-edY0"
      },
      "source": [
        "🏷️ 7. Convertir en float la variale cotización"
      ]
    },
    {
      "cell_type": "code",
      "metadata": {
        "id": "Ep97lVoOTyUw"
      },
      "source": [
        ""
      ],
      "execution_count": null,
      "outputs": []
    }
  ]
}