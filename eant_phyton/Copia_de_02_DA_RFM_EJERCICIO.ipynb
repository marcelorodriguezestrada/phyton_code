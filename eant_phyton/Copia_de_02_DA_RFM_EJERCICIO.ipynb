{
  "nbformat": 4,
  "nbformat_minor": 0,
  "metadata": {
    "kernelspec": {
      "display_name": "Python 3",
      "language": "python",
      "name": "python3"
    },
    "language_info": {
      "codemirror_mode": {
        "name": "ipython",
        "version": 3
      },
      "file_extension": ".py",
      "mimetype": "text/x-python",
      "name": "python",
      "nbconvert_exporter": "python",
      "pygments_lexer": "ipython3",
      "version": "3.8.3"
    },
    "colab": {
      "name": "Copia de 02-DA-RFM_EJERCICIO.ipynb",
      "provenance": [],
      "collapsed_sections": []
    }
  },
  "cells": [
    {
      "cell_type": "markdown",
      "metadata": {
        "id": "NWBZq6k-XN5x"
      },
      "source": [
        " <img src=\"https://eant.tech/imagenes/logo.png\" width=25% height=80%  >"
      ]
    },
    {
      "cell_type": "markdown",
      "metadata": {
        "id": "FpENy_ffXN51"
      },
      "source": [
        "### <img src=\"http://icons.iconarchive.com/icons/cornmanthe3rd/plex/256/Other-python-icon.png\" width=\"40\"> Ejercicio de App de Delivery 🌮🥧🍽️🛵\n",
        "\n",
        "<br>\n",
        "\n",
        "<center>\n",
        "<img src=\"https://1.bp.blogspot.com/-ogPN3o0yDTs/XrIjkjqacHI/AAAAAAAA994/uu9oVn3dFwMpaexmgP2jN23GW4buxu_0wCLcBGAsYHQ/s640/DELIBERY.png\"  width=\"60%\" alt=\"app\" border=\"1\">\n",
        "</center>\n",
        "  \n",
        "<center>\n",
        "    \n",
        "Source Image:[link](https://1.bp.blogspot.com/-ogPN3o0yDTs/XrIjkjqacHI/AAAAAAAA994/uu9oVn3dFwMpaexmgP2jN23GW4buxu_0wCLcBGAsYHQ/s640/DELIBERY.png)\n",
        "\n",
        "</center>\n",
        "\n",
        "<br>\n",
        "\n",
        "Las aplicaciones para realizar pedidos de comidas, compras en supermercados o solo envios de paquetes ha crecido a nivel mundial.\n",
        "Según datos publicados por [infobae](https://www.infobae.com/inhouse/2019/10/10/el-boom-de-las-apps-de-delivery-como-es-el-consumo-en-la-actualidad/)\n",
        "> \"...9 de cada 10 personas en la Ciudad y el Gran Buenos Aires conocen alguna aplicación y 3 personas la han utilizado en alguna ocasión.\"\n",
        "\n",
        "La utilización de estas 📱aplicaciones se incremento ↗️ en los ultimos dos años pero la primera app fue lanzada hace 10 años.\n",
        "\n",
        "Los jóvenes 👬🏻entre 18 y 34 años son los que más usan las apps.\n",
        "\n",
        "----\n",
        "\n",
        "⚠️ En el siguiente ejercicios vamos a utilizar un dataset con datos simulados sobre compras realizadas por usuarios de una app de delivery"
      ]
    },
    {
      "cell_type": "markdown",
      "metadata": {
        "id": "TpuMMxh9XN52"
      },
      "source": [
        "🏷️ 1.Importar los siguientes librerias\n",
        "\n",
        "Tipo | Nombre | Alias | Descripción\n",
        "--- | --- | --- | ---\n",
        "DataFrames  | pandas | pd | Manipular dataframes\n",
        "DataFrames  | numpy  | pd | Modificar dataframes con arrays\n",
        "Fechas  | datetime |  | Manejo de fechas\n",
        "Visualización  | seaborn | sns | Generación de visualizaciones\n",
        "Visualización  | matplotlib | plt | Generación de visualizaciones\n",
        "Visualización  | squarify | | Generación de visualizaciones\n"
      ]
    },
    {
      "cell_type": "code",
      "metadata": {
        "id": "LAHFV9y4YO_0",
        "colab": {
          "base_uri": "https://localhost:8080/"
        },
        "outputId": "c7b97d46-db7f-4f5c-e753-d5930a0270e0"
      },
      "source": [
        "pip install squarify"
      ],
      "execution_count": null,
      "outputs": [
        {
          "output_type": "stream",
          "text": [
            "Requirement already satisfied: squarify in /usr/local/lib/python3.7/dist-packages (0.4.3)\n"
          ],
          "name": "stdout"
        }
      ]
    },
    {
      "cell_type": "code",
      "metadata": {
        "id": "3nu4goQ8XN52"
      },
      "source": [
        "import pandas as pd\n",
        "import numpy as np\n",
        "from datetime import datetime\n",
        "import seaborn as sns\n",
        "import matplotlib.pyplot as plt\n",
        "import squarify\n",
        "\n",
        "pd.set_option('display.max_columns', None) \n",
        "pd.options.display.float_format = '{:.2f}'.format"
      ],
      "execution_count": null,
      "outputs": []
    },
    {
      "cell_type": "markdown",
      "metadata": {
        "id": "pztiG7sFXN53"
      },
      "source": [
        "🏷️ 2.Importar el archivo de transacciones"
      ]
    },
    {
      "cell_type": "code",
      "metadata": {
        "id": "b1Q6v3fbYS30"
      },
      "source": [
        "from google.colab import drive \n",
        "drive.mount('/content/gdrive')"
      ],
      "execution_count": null,
      "outputs": []
    },
    {
      "cell_type": "code",
      "metadata": {
        "id": "Ge8aCtWEXN53"
      },
      "source": [
        ""
      ],
      "execution_count": null,
      "outputs": []
    },
    {
      "cell_type": "markdown",
      "metadata": {
        "id": "kAbBbEPWXN53"
      },
      "source": [
        "🏷️ 3. Imprimir cantidad de filas y columnas"
      ]
    },
    {
      "cell_type": "code",
      "metadata": {
        "id": "JhJrR1BUXN54"
      },
      "source": [
        ""
      ],
      "execution_count": null,
      "outputs": []
    },
    {
      "cell_type": "markdown",
      "metadata": {
        "id": "iLw75aahXN55"
      },
      "source": [
        "🏷️ 4. Imprimir las cinco primeras filas del dataframe"
      ]
    },
    {
      "cell_type": "code",
      "metadata": {
        "id": "99_5j-m1rgbR"
      },
      "source": [
        ""
      ],
      "execution_count": null,
      "outputs": []
    },
    {
      "cell_type": "markdown",
      "metadata": {
        "id": "5rxlqIAYXN55"
      },
      "source": [
        "🏷️ 5. Borrar la columna denominada \"Unnamed\""
      ]
    },
    {
      "cell_type": "code",
      "metadata": {
        "id": "SUcwnyu7rh2R"
      },
      "source": [
        ""
      ],
      "execution_count": null,
      "outputs": []
    },
    {
      "cell_type": "code",
      "metadata": {
        "id": "fFZh0ICD7mt9"
      },
      "source": [
        ""
      ],
      "execution_count": null,
      "outputs": []
    },
    {
      "cell_type": "markdown",
      "metadata": {
        "id": "tPFQi8L9XN55"
      },
      "source": [
        "🏷️ 6. Utilizar el metodo `describe` sobre la columnas numericas, tener en cuenta de no realizarlo sobre las columnas que contengan ids"
      ]
    },
    {
      "cell_type": "code",
      "metadata": {
        "id": "ni1rEAMCrjCn"
      },
      "source": [
        ""
      ],
      "execution_count": null,
      "outputs": []
    },
    {
      "cell_type": "markdown",
      "metadata": {
        "id": "r5F_2BoVXN56"
      },
      "source": [
        "🏷️ 7. Modificar la columna costos_envio para que la misma se convierta en numérica. Posteriormente utilizar el método describe"
      ]
    },
    {
      "cell_type": "code",
      "metadata": {
        "id": "kXB1XIc29AHf"
      },
      "source": [
        "                            "
      ],
      "execution_count": null,
      "outputs": []
    },
    {
      "cell_type": "code",
      "metadata": {
        "id": "AeO4cDDU9vRO"
      },
      "source": [
        ""
      ],
      "execution_count": null,
      "outputs": []
    },
    {
      "cell_type": "markdown",
      "metadata": {
        "id": "3rmzfGetXN56"
      },
      "source": [
        "🏷️ 8. ¿Cuáles son los métodos de pago más populares?"
      ]
    },
    {
      "cell_type": "code",
      "metadata": {
        "id": "0eWS1CTZrmLs"
      },
      "source": [
        ""
      ],
      "execution_count": null,
      "outputs": []
    },
    {
      "cell_type": "markdown",
      "metadata": {
        "id": "GdXaybXIXN57"
      },
      "source": [
        "🏷️ 9. Cree que hay algun metodo de pago que se puede unificar? "
      ]
    },
    {
      "cell_type": "code",
      "metadata": {
        "id": "_aF9NYDLXN57"
      },
      "source": [
        ""
      ],
      "execution_count": null,
      "outputs": []
    },
    {
      "cell_type": "code",
      "metadata": {
        "id": "BLxSSJl1-VKB"
      },
      "source": [
        ""
      ],
      "execution_count": null,
      "outputs": []
    },
    {
      "cell_type": "code",
      "metadata": {
        "id": "fcWTnSVG-aWZ"
      },
      "source": [
        ""
      ],
      "execution_count": null,
      "outputs": []
    },
    {
      "cell_type": "markdown",
      "metadata": {
        "id": "RlefBmc8XN59"
      },
      "source": [
        "🏷️ 10. Importar el archivo con las cotizaciones de dolar"
      ]
    },
    {
      "cell_type": "code",
      "metadata": {
        "id": "ODU9gyEKrrB-"
      },
      "source": [
        ""
      ],
      "execution_count": null,
      "outputs": []
    },
    {
      "cell_type": "markdown",
      "metadata": {
        "id": "xYzqGL06jnTQ"
      },
      "source": [
        "🏷️ 11. Eliminar las columnas Unnamed:0 y compra (ya que la cotización que vamos a utilizar es la de venta)"
      ]
    },
    {
      "cell_type": "code",
      "metadata": {
        "id": "MhbxBB0MrsNG"
      },
      "source": [
        ""
      ],
      "execution_count": null,
      "outputs": []
    },
    {
      "cell_type": "code",
      "metadata": {
        "id": "jUxDBJKS_eet"
      },
      "source": [
        ""
      ],
      "execution_count": null,
      "outputs": []
    },
    {
      "cell_type": "code",
      "metadata": {
        "id": "fkMmemNn_pW8"
      },
      "source": [
        ""
      ],
      "execution_count": null,
      "outputs": []
    },
    {
      "cell_type": "markdown",
      "metadata": {
        "id": "8hoXONiQXN5_"
      },
      "source": [
        "🏷️ 12. Convertir en formato datetime la variable fecha"
      ]
    },
    {
      "cell_type": "code",
      "metadata": {
        "id": "s-zXBrHirtOI"
      },
      "source": [
        ""
      ],
      "execution_count": null,
      "outputs": []
    },
    {
      "cell_type": "code",
      "metadata": {
        "id": "ULJjHYsaAESq"
      },
      "source": [
        ""
      ],
      "execution_count": null,
      "outputs": []
    },
    {
      "cell_type": "markdown",
      "metadata": {
        "id": "N8BuVYY-XN5_"
      },
      "source": [
        "🏷️ 13. Las cotizaciones pueden aparecer mas de un registro por dia, por ejemplo el dia 2021-03-29 se informa dos cotizaciones.\n",
        "Por lo cual quedarse con el valor más alto para dicho dia."
      ]
    },
    {
      "cell_type": "code",
      "metadata": {
        "id": "_HGlN8t4ruqc"
      },
      "source": [
        ""
      ],
      "execution_count": null,
      "outputs": []
    },
    {
      "cell_type": "code",
      "metadata": {
        "id": "yQ4c0jSBBXkv"
      },
      "source": [
        ""
      ],
      "execution_count": null,
      "outputs": []
    },
    {
      "cell_type": "code",
      "metadata": {
        "id": "rqHiwk25Bh8G"
      },
      "source": [
        ""
      ],
      "execution_count": null,
      "outputs": []
    },
    {
      "cell_type": "markdown",
      "metadata": {
        "id": "LXLMqoE-XN6B"
      },
      "source": [
        "### <img src=\"http://icons.iconarchive.com/icons/cornmanthe3rd/plex/256/Other-python-icon.png\" width=\"40\"> Ejercicio Segmentación de clientes 👥 👥 👥\n",
        "\n",
        "Ahora vamos a realizar la segmentación de los clientes en base al modelo de **RFM**, este modelo se utiliza para poder segmentar a los clientes en base a tres variables. La premisa de este modelo es que los clientes a comprar son los que han comprado recientemente con más frecuencia y gastan más dinero.\n",
        "Este modelo se basa en la **Ley de Pareto** o también denominada 80/20 en la cual se refiere a que \"el 80% de las compras las realizan el 20% de los clientes\"\n",
        "\n",
        "\n",
        "<br>\n",
        "\n",
        "<center>\n",
        "<img src=\"https://99designs-start-attachments.imgix.net/alchemy-pictures/2020%2F04%2F02%2F00%2F31%2F13%2Fdcd82545-6a6a-4e0a-9522-08a82492fc29%2Fcustom-business-illustration.png?\" width=\"40%\"  height=\"50%\"\n",
        "     alt=\"RFM\" border=\"1\">\n",
        "\n",
        "</center>\n",
        "\n",
        "<br>\n"
      ]
    },
    {
      "cell_type": "markdown",
      "metadata": {
        "id": "Agsb4OCIXN6B"
      },
      "source": [
        "🏷️ 1. Generar una nueva columna con el importe en dolares.\n",
        "\n",
        "---\n",
        "⚠️ Valide el formato de la variable fechas_compra del dataframe de transacciones"
      ]
    },
    {
      "cell_type": "code",
      "metadata": {
        "id": "4rUGBnwArwdL"
      },
      "source": [
        ""
      ],
      "execution_count": null,
      "outputs": []
    },
    {
      "cell_type": "code",
      "metadata": {
        "id": "k1hh8iPMCNyK"
      },
      "source": [
        ""
      ],
      "execution_count": null,
      "outputs": []
    },
    {
      "cell_type": "code",
      "metadata": {
        "id": "zCDTMCW9CEnn"
      },
      "source": [
        ""
      ],
      "execution_count": null,
      "outputs": []
    },
    {
      "cell_type": "code",
      "metadata": {
        "id": "7qGDEEveCUid"
      },
      "source": [
        ""
      ],
      "execution_count": null,
      "outputs": []
    },
    {
      "cell_type": "code",
      "metadata": {
        "id": "dYgiUF4eDAo4"
      },
      "source": [
        ""
      ],
      "execution_count": null,
      "outputs": []
    },
    {
      "cell_type": "markdown",
      "metadata": {
        "id": "DxRl2UD-XN6B"
      },
      "source": [
        "🏷️ 2. Generar una variable con el importe en moneda dolar"
      ]
    },
    {
      "cell_type": "code",
      "metadata": {
        "id": "5CXOyPqPrxj8"
      },
      "source": [
        ""
      ],
      "execution_count": null,
      "outputs": []
    },
    {
      "cell_type": "markdown",
      "metadata": {
        "id": "HCLMkECGXN6C"
      },
      "source": [
        "\n",
        "<br>\n",
        "\n",
        "<center>\n",
        "<img src=\"https://i.ibb.co/c2w4kRy/Fruity-Icons-Gift-Certificate.png\" width=\"70%\"  height=\"50%\"\n",
        "     alt=\"RFM\" border=\"1\">\n",
        "\n",
        "</center>\n",
        "\n",
        "<br>\n",
        "\n"
      ]
    },
    {
      "cell_type": "markdown",
      "metadata": {
        "id": "O3sFieI8XN6C"
      },
      "source": [
        "🏷️ 3. Realizar el calculo de las variables que son necesarias para el calculo del **`RFM`**\n",
        "\n",
        "---\n",
        "Para el calculo de `Recency` tener en cuenta que la fecha del ultimo día es 31-10-2020\n"
      ]
    },
    {
      "cell_type": "code",
      "metadata": {
        "id": "OOqpDhiUry9S"
      },
      "source": [
        ""
      ],
      "execution_count": null,
      "outputs": []
    },
    {
      "cell_type": "code",
      "metadata": {
        "id": "3Iu6iIFlEGsL"
      },
      "source": [
        ""
      ],
      "execution_count": null,
      "outputs": []
    },
    {
      "cell_type": "code",
      "metadata": {
        "id": "sPqG2vThFmYA"
      },
      "source": [
        ""
      ],
      "execution_count": null,
      "outputs": []
    },
    {
      "cell_type": "markdown",
      "metadata": {
        "id": "JS-XYTfSXN6D"
      },
      "source": [
        "\n",
        "<br>\n",
        "\n",
        "<center>\n",
        "<img src=\"https://i.ibb.co/CzbBhPN/Fruity-Icons-Gift-Certificate-1.png\" width=\"70%\"  height=\"50%\"\n",
        "     alt=\"RFM\" border=\"1\">\n",
        "\n",
        "</center>\n",
        "\n",
        "<br>\n"
      ]
    },
    {
      "cell_type": "markdown",
      "metadata": {
        "id": "lGqMplMOXN6D"
      },
      "source": [
        "🏷️ 4. Calcular el score de **`RFM`**"
      ]
    },
    {
      "cell_type": "code",
      "metadata": {
        "id": "EozWfIBNr08P"
      },
      "source": [
        ""
      ],
      "execution_count": null,
      "outputs": []
    },
    {
      "cell_type": "code",
      "metadata": {
        "id": "5i72vSi4Gtp2"
      },
      "source": [
        ""
      ],
      "execution_count": null,
      "outputs": []
    },
    {
      "cell_type": "code",
      "metadata": {
        "id": "rkyI_NDpHixB"
      },
      "source": [
        ""
      ],
      "execution_count": null,
      "outputs": []
    },
    {
      "cell_type": "code",
      "metadata": {
        "id": "EoIr2kw1ILXx"
      },
      "source": [
        ""
      ],
      "execution_count": null,
      "outputs": []
    },
    {
      "cell_type": "code",
      "metadata": {
        "id": "oOmbdUFLIaW2"
      },
      "source": [
        ""
      ],
      "execution_count": null,
      "outputs": []
    },
    {
      "cell_type": "markdown",
      "metadata": {
        "id": "B3a6HceqXN6E"
      },
      "source": [
        "🏷️ 5. Asignar un segmento a cada score del **`RFM`**"
      ]
    },
    {
      "cell_type": "code",
      "metadata": {
        "id": "tucjZAjLr2t8"
      },
      "source": [
        ""
      ],
      "execution_count": null,
      "outputs": []
    },
    {
      "cell_type": "code",
      "metadata": {
        "id": "r9Gs5vgPInCs"
      },
      "source": [
        ""
      ],
      "execution_count": null,
      "outputs": []
    },
    {
      "cell_type": "code",
      "metadata": {
        "id": "hmNWkhqoJT8F"
      },
      "source": [
        ""
      ],
      "execution_count": null,
      "outputs": []
    },
    {
      "cell_type": "code",
      "metadata": {
        "id": "eGV41V54I-tV"
      },
      "source": [
        ""
      ],
      "execution_count": null,
      "outputs": []
    },
    {
      "cell_type": "code",
      "metadata": {
        "id": "AQXC5GA1JG2C"
      },
      "source": [
        ""
      ],
      "execution_count": null,
      "outputs": []
    },
    {
      "cell_type": "markdown",
      "metadata": {
        "id": "OfMORtWTXN6E"
      },
      "source": [
        "🏷️ 6. Cuantos clientes por segmento de **`RFM`** tenemos"
      ]
    },
    {
      "cell_type": "code",
      "metadata": {
        "id": "3f5Cj0pqr4Br"
      },
      "source": [
        ""
      ],
      "execution_count": null,
      "outputs": []
    },
    {
      "cell_type": "code",
      "metadata": {
        "id": "naZE-9keJxSp"
      },
      "source": [
        ""
      ],
      "execution_count": null,
      "outputs": []
    },
    {
      "cell_type": "code",
      "metadata": {
        "id": "MtFCRvl-KRol"
      },
      "source": [
        ""
      ],
      "execution_count": null,
      "outputs": []
    },
    {
      "cell_type": "markdown",
      "metadata": {
        "id": "ZGs7YI6GXN6F"
      },
      "source": [
        "🏷️ 7. Segun lo que comenta el equipo de comercial hay clientes que se dan de alta en la app pero nunca realizan compras, por lo cual asignar una nueva categoria denominada **`'Inactive'`**\n",
        "\n",
        "---\n",
        "\n",
        "⚠️ Para poder asignarlo debe importar el archivo de clientes"
      ]
    },
    {
      "cell_type": "code",
      "metadata": {
        "id": "Z0U5NALur5nF"
      },
      "source": [
        ""
      ],
      "execution_count": null,
      "outputs": []
    },
    {
      "cell_type": "code",
      "metadata": {
        "id": "xsC7xgsIKhyj"
      },
      "source": [
        ""
      ],
      "execution_count": null,
      "outputs": []
    },
    {
      "cell_type": "code",
      "metadata": {
        "id": "waD_hCEgKxX1"
      },
      "source": [
        ""
      ],
      "execution_count": null,
      "outputs": []
    },
    {
      "cell_type": "code",
      "metadata": {
        "id": "k94b3iQrLO5Y"
      },
      "source": [
        ""
      ],
      "execution_count": null,
      "outputs": []
    },
    {
      "cell_type": "code",
      "metadata": {
        "id": "Z_7d_9USK27l"
      },
      "source": [
        ""
      ],
      "execution_count": null,
      "outputs": []
    },
    {
      "cell_type": "markdown",
      "metadata": {
        "id": "DowOSYUCXN6F"
      },
      "source": [
        "🏷️ 8. Crear una grafica para visualizar los segmentos creados"
      ]
    },
    {
      "cell_type": "code",
      "metadata": {
        "id": "MgyE-Iiur7pE"
      },
      "source": [
        ""
      ],
      "execution_count": null,
      "outputs": []
    },
    {
      "cell_type": "code",
      "metadata": {
        "id": "Q4EVET_5Melx"
      },
      "source": [
        ""
      ],
      "execution_count": null,
      "outputs": []
    }
  ]
}