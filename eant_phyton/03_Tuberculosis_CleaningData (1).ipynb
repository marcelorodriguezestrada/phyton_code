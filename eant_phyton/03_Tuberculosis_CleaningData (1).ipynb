{
  "nbformat": 4,
  "nbformat_minor": 0,
  "metadata": {
    "colab": {
      "name": "03-Tuberculosis-CleaningData.ipynb",
      "provenance": [],
      "collapsed_sections": []
    },
    "kernelspec": {
      "name": "python3",
      "display_name": "Python 3"
    }
  },
  "cells": [
    {
      "cell_type": "markdown",
      "metadata": {
        "id": "A51UFEH4GpQg"
      },
      "source": [
        " <img src=\"https://eant.tech/imagenes/logo.png\" width=25% height=80%  >"
      ]
    },
    {
      "cell_type": "markdown",
      "metadata": {
        "id": "PQA27U5sbT-v"
      },
      "source": [
        "## Global Health Observatory data repository\n",
        "\n",
        "El siguiente conjunto de datos que vamos a trabjar contiene datos sobre las muertes causadas por Tuberculosis, estos datos son recopilados por el observatorio de la Organizacion mundial de la salud.\n",
        "Los datos se pueden descargar del siguiente [link](\n",
        "https://apps.who.int/gho/data/node.main.1317?lang=en)\n",
        "\n",
        "<center>\n",
        "<img src=\"https://i.ibb.co/qDWjWCj/logo-who.jpg\" alt=\"logo-who\" border=\"0\">\n",
        "</center>"
      ]
    },
    {
      "cell_type": "markdown",
      "metadata": {
        "id": "RISChrETIbRO"
      },
      "source": [
        "🏷️ 1. Importar pandas"
      ]
    },
    {
      "cell_type": "code",
      "metadata": {
        "id": "jvyPqyfZIa4-"
      },
      "source": [
        ""
      ],
      "execution_count": null,
      "outputs": []
    },
    {
      "cell_type": "markdown",
      "metadata": {
        "id": "kTDdJRZpIMu3"
      },
      "source": [
        "🏷️ 2. Importar el dataframe que se encuentra en la siguiente URL."
      ]
    },
    {
      "cell_type": "code",
      "metadata": {
        "id": "39dOYJSwITfj"
      },
      "source": [
        "url='https://docs.google.com/spreadsheets/d/e/2PACX-1vR84JOFFZnonTTDgbtc686VZM4w7k-TvJ88OZL82srRyRgS_Aa1N127YYRyI0IalIzWtM3MYnUg2Yxg/pub?output=csv'"
      ],
      "execution_count": null,
      "outputs": []
    },
    {
      "cell_type": "code",
      "metadata": {
        "id": "kyOMFdSJbYsO"
      },
      "source": [
        ""
      ],
      "execution_count": null,
      "outputs": []
    },
    {
      "cell_type": "markdown",
      "metadata": {
        "id": "83q06jhrIYnW"
      },
      "source": [
        "🏷️ 3. Visualizar las primeras filas del datafame"
      ]
    },
    {
      "cell_type": "code",
      "metadata": {
        "id": "UsmD2UvXbkgL"
      },
      "source": [
        ""
      ],
      "execution_count": null,
      "outputs": []
    },
    {
      "cell_type": "markdown",
      "metadata": {
        "id": "pKxuQLImkl7R"
      },
      "source": [
        "🏷️ 4. Modificar los nombres de las columnas por los siguientes:\n",
        "> * 'Country'\n",
        "> * 'year'\n",
        "> * 'NroDeaths_ehiv'\n",
        "> * 'NroDeaths_nhiv'"
      ]
    },
    {
      "cell_type": "code",
      "metadata": {
        "id": "89M0FiI4ciAv"
      },
      "source": [
        ""
      ],
      "execution_count": null,
      "outputs": []
    },
    {
      "cell_type": "markdown",
      "metadata": {
        "id": "DHiGa1ArkyqB"
      },
      "source": [
        "🏷️ 5. Separar las variable NroDeaths_ehiv y NroDeaths_nhiv en las siguientes:\n",
        "\n",
        "* NroDeaths_ehiv\n",
        " - NroDeaths_ehiv_value\n",
        " - NroDeaths_ehiv_intervalo\n",
        "\n",
        "* NroDeaths_nhiv\n",
        " - NroDeaths_nhiv_value\n",
        " - NroDeaths_nhiv_intervalo\n"
      ]
    },
    {
      "cell_type": "code",
      "metadata": {
        "id": "29Zih_f6c6UN"
      },
      "source": [
        ""
      ],
      "execution_count": null,
      "outputs": []
    },
    {
      "cell_type": "markdown",
      "metadata": {
        "id": "J7yZwQqZltUg"
      },
      "source": [
        "🏷️ 6. Eliminar las columnas: `NroDeaths_ehiv` y `NroDeaths_nhiv`"
      ]
    },
    {
      "cell_type": "code",
      "metadata": {
        "id": "8FHsom1adUZT"
      },
      "source": [
        ""
      ],
      "execution_count": null,
      "outputs": []
    },
    {
      "cell_type": "markdown",
      "metadata": {
        "id": "FHa7EY-1l7w5"
      },
      "source": [
        "🏷️ 7. Generar un dataframe que contenga cuatro columnas: \n",
        "> * **country**\n",
        "> * **year**\n",
        "> * **concepto**: que tenga los datos de las variables roDeaths_ehiv_value y NroDeaths_nhiv_value.\n",
        "> * **value**"
      ]
    },
    {
      "cell_type": "code",
      "metadata": {
        "id": "okfq-MLAcuR2"
      },
      "source": [
        ""
      ],
      "execution_count": null,
      "outputs": []
    }
  ]
}