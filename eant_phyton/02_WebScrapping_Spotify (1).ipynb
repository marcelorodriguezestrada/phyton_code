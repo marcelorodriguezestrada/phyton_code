{
  "nbformat": 4,
  "nbformat_minor": 0,
  "metadata": {
    "colab": {
      "name": "02-WebScrapping-Spotify.ipynb",
      "provenance": [],
      "collapsed_sections": []
    },
    "kernelspec": {
      "name": "python3",
      "display_name": "Python 3"
    }
  },
  "cells": [
    {
      "cell_type": "markdown",
      "metadata": {
        "id": "8B_gPTZ7DuWM"
      },
      "source": [
        "## <img src=\"http://icons.iconarchive.com/icons/cornmanthe3rd/plex/256/Other-python-icon.png\" width=\"40\"> Ejercicio Spotify Charts 📱🎧🎼\n",
        "\n",
        "<center>\n",
        "<img src=\"https://i1.wp.com/miescaparate.com.mx/wp-content/uploads/2020/04/Spotify-Portada.jpg\"  width=\"80%\" alt=\"alicia\" border=\"1\">\n",
        "\n",
        "Source Image:[link](https://i1.wp.com/miescaparate.com.mx/wp-content/uploads/2020/04/Spotify-Portada.jpg)\n",
        "</center>\n",
        "<br>\n",
        "\n"
      ]
    },
    {
      "cell_type": "markdown",
      "metadata": {
        "id": "3AUOQRuDcoGj"
      },
      "source": [
        "🏷️ 1. Importar los paquetes"
      ]
    },
    {
      "cell_type": "code",
      "metadata": {
        "id": "73MOLxHWEyE8"
      },
      "source": [
        "import pandas as pd\n",
        "import numpy as np\n",
        "import requests\n",
        "from bs4 import BeautifulSoup"
      ],
      "execution_count": null,
      "outputs": []
    },
    {
      "cell_type": "markdown",
      "metadata": {
        "id": "CobNYQ1QgXVr"
      },
      "source": [
        "🏷️ 3. Importar la pagina: https://spotifycharts.com/regional"
      ]
    },
    {
      "cell_type": "code",
      "metadata": {
        "id": "lTho5Nc4FOCR"
      },
      "source": [
        "url='https://spotifycharts.com/regional/arg/daily/latest'"
      ],
      "execution_count": null,
      "outputs": []
    },
    {
      "cell_type": "code",
      "metadata": {
        "id": "XWIwDG2HFELJ"
      },
      "source": [
        "pag=requests.get(url)"
      ],
      "execution_count": null,
      "outputs": []
    },
    {
      "cell_type": "markdown",
      "metadata": {
        "id": "Tui3M_G9cy7a"
      },
      "source": [
        "🏷️ 4. Validar el status"
      ]
    },
    {
      "cell_type": "code",
      "metadata": {
        "id": "1bCSneQFETYe",
        "colab": {
          "base_uri": "https://localhost:8080/"
        },
        "outputId": "338f2d37-bc50-4da0-8d25-767ebf2740e2"
      },
      "source": [
        "pag.status_code"
      ],
      "execution_count": null,
      "outputs": [
        {
          "output_type": "execute_result",
          "data": {
            "text/plain": [
              "404"
            ]
          },
          "metadata": {
            "tags": []
          },
          "execution_count": 13
        }
      ]
    },
    {
      "cell_type": "markdown",
      "metadata": {
        "id": "S_WEYqkvc3t7"
      },
      "source": [
        "🏷️ 5. Imprimir la estructura de la pagina"
      ]
    },
    {
      "cell_type": "code",
      "metadata": {
        "id": "TxkE89MfFX8V"
      },
      "source": [
        "pag.text"
      ],
      "execution_count": null,
      "outputs": []
    },
    {
      "cell_type": "markdown",
      "metadata": {
        "id": "2WLZJmPcc8nb"
      },
      "source": [
        "🏷️ 6. Hacer un parser del html"
      ]
    },
    {
      "cell_type": "code",
      "metadata": {
        "id": "xTwp9AbJGtPO"
      },
      "source": [
        "soup=BeautifulSoup(pag.text,'html.parser')\n",
        "soup"
      ],
      "execution_count": null,
      "outputs": []
    },
    {
      "cell_type": "markdown",
      "metadata": {
        "id": "LhAk9UC2dBxZ"
      },
      "source": [
        "🏷️ 7. Generar un objeto que contenga las url de las imagenes"
      ]
    },
    {
      "cell_type": "code",
      "metadata": {
        "id": "ZP32yBuaIU4w"
      },
      "source": [
        ""
      ],
      "execution_count": null,
      "outputs": []
    },
    {
      "cell_type": "markdown",
      "metadata": {
        "id": "-xJ7R6C-dG9P"
      },
      "source": [
        "🏷️ 8. Generar un objeto que contenga el raking"
      ]
    },
    {
      "cell_type": "code",
      "metadata": {
        "id": "d0M7ZPXaKG3F"
      },
      "source": [
        "\n"
      ],
      "execution_count": null,
      "outputs": []
    },
    {
      "cell_type": "markdown",
      "metadata": {
        "id": "olZHvMy3dNVk"
      },
      "source": [
        "🏷️ 9. Generar un objeto que contenga el nombre de la canción"
      ]
    },
    {
      "cell_type": "code",
      "metadata": {
        "id": "ef_xMrWcFeJK"
      },
      "source": [
        ""
      ],
      "execution_count": null,
      "outputs": []
    },
    {
      "cell_type": "markdown",
      "metadata": {
        "id": "yW1gwsNfdQZs"
      },
      "source": [
        "🏷️ 10. Generar un objeto que contenga el nombre del autor"
      ]
    },
    {
      "cell_type": "code",
      "metadata": {
        "id": "yH4aUVOuKlhe"
      },
      "source": [
        ""
      ],
      "execution_count": null,
      "outputs": []
    },
    {
      "cell_type": "markdown",
      "metadata": {
        "id": "huVRBzHodT7y"
      },
      "source": [
        "🏷️ 11. Generar un objeto que contenga el valor de streams"
      ]
    },
    {
      "cell_type": "code",
      "metadata": {
        "id": "3aFXW8gvLWOm"
      },
      "source": [
        ""
      ],
      "execution_count": null,
      "outputs": []
    },
    {
      "cell_type": "markdown",
      "metadata": {
        "id": "xca1xQYodZyk"
      },
      "source": [
        "🏷️ 12. Generar un dataframe con los objetos generados en los ejercicios anteriores (ranking, canción, autor, streams e imagen)"
      ]
    },
    {
      "cell_type": "code",
      "metadata": {
        "id": "05k5qLfqLkvw"
      },
      "source": [
        ""
      ],
      "execution_count": null,
      "outputs": []
    },
    {
      "cell_type": "markdown",
      "metadata": {
        "id": "U1SzabtqOPTt"
      },
      "source": [
        "🏷️ 13. Eliminar el string  `by ` de la columna autor\n"
      ]
    },
    {
      "cell_type": "code",
      "metadata": {
        "id": "QzxPBcQPOOvN"
      },
      "source": [
        ""
      ],
      "execution_count": null,
      "outputs": []
    },
    {
      "cell_type": "markdown",
      "metadata": {
        "id": "Atc6ZpGsOcAw"
      },
      "source": [
        "🏷️ 14. Convertir los valores de la columna streams a numérico."
      ]
    },
    {
      "cell_type": "code",
      "metadata": {
        "id": "PKeFIONIOpYw"
      },
      "source": [
        ""
      ],
      "execution_count": null,
      "outputs": []
    },
    {
      "cell_type": "markdown",
      "metadata": {
        "id": "phuzsQseOuDC"
      },
      "source": [
        "🏷️ 15. Cuales son los tres autores con más canciones en el ranking y cuáles son sus canciones.\n",
        "Las canciones de estos autores ordenarlas en forma ascendente en base a la variable streams\n",
        "\n"
      ]
    },
    {
      "cell_type": "code",
      "metadata": {
        "id": "Euv6AQl3Outk"
      },
      "source": [
        ""
      ],
      "execution_count": null,
      "outputs": []
    }
  ]
}