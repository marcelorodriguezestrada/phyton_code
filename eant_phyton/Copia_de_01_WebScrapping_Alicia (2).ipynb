{
  "nbformat": 4,
  "nbformat_minor": 0,
  "metadata": {
    "colab": {
      "name": "Copia de 01-WebScrapping-Alicia.ipynb",
      "provenance": [],
      "collapsed_sections": []
    },
    "kernelspec": {
      "name": "python3",
      "display_name": "Python 3"
    }
  },
  "cells": [
    {
      "cell_type": "markdown",
      "metadata": {
        "id": "N_UWvZY4THin"
      },
      "source": [
        "## <img src=\"http://icons.iconarchive.com/icons/cornmanthe3rd/plex/256/Other-python-icon.png\" width=\"40\"> Ejercicio Alicia en el país de las maravillas 🃏♥️🐰👧🏼\n",
        "\n",
        "<center>\n",
        "<img src=\"https://i.blogs.es/ef9728/alicia-en-el-pais-de-las-maravillas-cartel/1366_2000.jpg\" alt=\"alicia\" border=\"1\">\n",
        "\n",
        "Source Image:[link](https://i.blogs.es/ef9728/alicia-en-el-pais-de-las-maravillas-cartel/1366_2000.jpg)\n",
        "</center>\n",
        "<br>\n",
        "\n",
        "----\n",
        "<br>\n",
        "\n",
        "En este ejercicio vamos a utilizar la página web denominada \"Alicia.html\", la cual contiene información sobre **\"Alicia en el país de las maravillas\"**. Este cuento clásico tiene 155 años de antigüedad, ya que el mismo fue publicado el 26 de noviembre de 1865 por Lewis Carroll. Aunque ese nombre era un seudónimo y verdadero nombre era Charles Lutwidge Dodgson. Chareles Dogson que fue matemático y profesor en la Universidad de Oxford, además era un aficionado por la fotografía.\n",
        "\n",
        "<br>\n",
        "\n",
        "------------\n",
        "\n",
        "<br>\n",
        "\n",
        "En esta notebook vamos aprender a realizar **Web Scrapping**.\n",
        "El cual lo podemos definir como un proceso que se usa para extraer el contenido y datos de un sitio web. \n",
        "\n",
        "Algunas de las principales aplicaciones que se pueden realizar con esta técnica es:\n",
        "\n",
        "> * E-commerce: poder extraer precios de productos publicados.\n",
        "> * Diarios/ Noticias: Poder recopilar noticias de diarios y revistas online.\n",
        "> * Marketing: Se puede extraer información sobre publicaciones realizadas por consumidores, tales como reviews u opiniones sobre productos y servicios.\n",
        "> * Finanzas: Se pueden extraer datos como indicadores sobre acciones, precios de divisas o tasas.\n",
        "\n",
        "\n",
        "\n",
        "<center>\n",
        "<img src=\"https://i.ibb.co/VBFqK9M/Copia-de-py.png\" alt=\"webscraping\" border=\"1\">"
      ]
    },
    {
      "cell_type": "markdown",
      "metadata": {
        "id": "U4RWE4N-uppE"
      },
      "source": [
        "🏷️ 1. Importar los siguientes paquetes\n",
        "\n",
        "Concepto |modulo | alias | descripción\n",
        "-----|-----|----|----\n",
        "Dataframes| pandas | pd | Manipulación de dataframes\n",
        "Dataframes|numpy | np | Utilizamos la función where para generar nuevas variables.\n",
        "Dataframes|google.colab | | Importar archivos de drive\n",
        "web scrapping|bs4 | | Extraer datos de un html\n",
        "web scrapping|request | | Importar una pagina web\n"
      ]
    },
    {
      "cell_type": "code",
      "metadata": {
        "id": "VzDMUKq6upZO"
      },
      "source": [
        "# Dataframes\n",
        "import pandas as pd\n",
        "import numpy as np\n",
        "from google.colab import drive \n",
        "from bs4 import BeautifulSoup\n",
        "import requests"
      ],
      "execution_count": 84,
      "outputs": []
    },
    {
      "cell_type": "markdown",
      "metadata": {
        "id": "bg4uVkROZCnj"
      },
      "source": [
        "🏷️ 2. Importar el archivo Alicia.html"
      ]
    },
    {
      "cell_type": "code",
      "metadata": {
        "colab": {
          "base_uri": "https://localhost:8080/"
        },
        "id": "MTtsoAPcax7d",
        "outputId": "8dc73300-0757-4171-dab6-1be35ff4bc27"
      },
      "source": [
        "from google.colab import drive\n",
        "drive.mount('/content/drive')"
      ],
      "execution_count": 85,
      "outputs": [
        {
          "output_type": "stream",
          "name": "stdout",
          "text": [
            "Drive already mounted at /content/drive; to attempt to forcibly remount, call drive.mount(\"/content/drive\", force_remount=True).\n"
          ]
        }
      ]
    },
    {
      "cell_type": "code",
      "metadata": {
        "id": "9tPtYMNQqUVi"
      },
      "source": [
        "docs = \"/content/drive/MyDrive/Alicia.html\""
      ],
      "execution_count": 86,
      "outputs": []
    },
    {
      "cell_type": "code",
      "metadata": {
        "id": "s1Id3Hj0bLq3"
      },
      "source": [
        "soup = BeautifulSoup((open(docs, encoding= \"utf-8\").read()),\"html.parser\")"
      ],
      "execution_count": 87,
      "outputs": []
    },
    {
      "cell_type": "code",
      "metadata": {
        "colab": {
          "base_uri": "https://localhost:8080/"
        },
        "id": "M7t-45dNbkft",
        "outputId": "08193a05-32a0-4161-a0c5-42c68f89061a"
      },
      "source": [
        "soup"
      ],
      "execution_count": 88,
      "outputs": [
        {
          "output_type": "execute_result",
          "data": {
            "text/plain": [
              "<head>\n",
              "<style type=\"text/css\">\n",
              "\t\ttable, td, th{\n",
              " \t \t\t\tborder: 1px solid black;\n",
              "\t\t}\n",
              "\t\t.tabla{\n",
              "\t\t\tfont-family: 'Helvetica';\n",
              "\t\t\tfont-size: 13;\n",
              "\t\t}\n",
              "\n",
              "\t\t#funciones{\n",
              "\t\t\tfont-family: 'Arial';\n",
              "\t\t\tfont-size: 10;\n",
              "\t\t}\n",
              "\t</style>\n",
              "</head>\n",
              "<body>\n",
              "<h1>Alicia en el País de las Maravillas</h1>\n",
              "<p>Los datos se obtuvieron del blog <a href=\"http://aliciaycharlie.blogspot.com/\">alicia y charlie</a></p>\n",
              "<div class=\"historia\">\n",
              "<h2>Historia</h2>\n",
              "<br/>\n",
              "<p>Las aventuras de Alicia en el país de las maravillas, comúnmente abreviado como Alicia en el país de las maravillas, es una novela de fantasía escrita por el matemático, lógico, fotógrafo y escritor británico Charles Lutwidge Dodgson, bajo el seudónimo de Lewis Carroll, publicada en 1865. La historia cuenta cómo una niña llamada Alicia cae por un agujero, encontrándose en un mundo peculiar, poblado por humanos y criaturas antropomórficas. El libro juega con la lógica, dando a la novela gran popularidad tanto en niños como en adultos. Está considerada una de las mejores novelas del género del Sinsentido. Su narrativa y estructura, junto con sus personajes, han sido una gran influencia tanto en la cultura popular como en la literatura, sobre todo en el género fantástico.\n",
              "\tEn esta obra aparecen algunos de los personajes más famosos de Lewis Carroll, como el Conejo Blanco, la Liebre de Marzo, el Sombrerero, la Oruga azul, el Gato de Cheshire o la Reina de Corazones;1​ quienes han cobrado importancia suficiente como para ser reconocidos fuera del mundo de Alicia.</p>\n",
              "<p id=\"Ref\"><strong>Referenicas: </strong><a href=\"https://es.wikipedia.org/wiki/Las_aventuras_de_Alicia_en_el_pa%C3%ADs_de_las_maravillas\">wikipedia</a></p>\n",
              "</div>\n",
              "<div class=\"capitulos\">\n",
              "<p>Los capitulos de esa historia son: </p>\n",
              "<ul>\n",
              "<li>Capítulo I: El descenso por la madriguera</li>\n",
              "<li>Capítulo II: En un mar de lágrimas</li>\n",
              "<li>Capítulo III: Una carrera en comité y un cuento largo</li>\n",
              "<li>Capítulo IV: La habitación del Conejo Blanco</li>\n",
              "<li>Capítulo V: El consejo de una oruga</li>\n",
              "<li>Capítulo VI: Cerdo y pimienta</li>\n",
              "<li>Capítulo VII: Una merienda de locos</li>\n",
              "<li>Capítulo VIII: El croquet de la reina</li>\n",
              "<li>Capítulo IX: Historia de la Falsa Tortuga</li>\n",
              "<li>Capítulo X: El baile de la langosta</li>\n",
              "<li>Capítulo XI: ¿Quién robó las tartas?</li>\n",
              "<li>Capítulo XII: La declaración de Alicia</li>\n",
              "</ul>\n",
              "</div>\n",
              "<div class=\"EdicionesEspañol\">\n",
              "<h2>Ediciones en español</h2>\n",
              "<ol>\n",
              "<li>Alicia en el País de las Maravillas: A través del espejo; Traducción de Ramón Buckley; Ediciones Cátedra: Madrid, 1992; ISBN 84-376-1092-3</li>\n",
              "<li>Alicia en el País de las Maravillas. A través del espejo; Traducción de Mauro Armiño; Colección Avatares. Ediciones Valdemar: Madrid, 1998 [4ª edición 2006]; ISBN 84-7702-235-6.</li>\n",
              "<li>Aventuras de Alicia en el País de las Maravillas. A través del espejo; ;Colección El Club Diógenes. Ediciones Valdemar: Madrid, 2006; ISBN 84-7702-447-2</li>\n",
              "<li>Alicia en el País de las Maravillas; Traducción de Gabriel López Guix; Ediciones B: Barcelona, 2002; ISBN 84-666-0802-8</li>\n",
              "<li>Alicia en el País de las Maravillas Silvia y Bruno; Traducción de Luis Maristany y Leonardo Domingo; Editorial Edhasa: Barcelona, 2002; ISBN 84-350-4011-9</li>\n",
              "<li>Aventuras de Alicia en el País de las Maravillas; ;Edición de Pilar Torralba Álvarez. Akal Ediciones: Madrid, 2005; ISBN 84-460-1995-7</li>\n",
              "<li>Alicia en el País de las Maravillas. A través del espejo; Traducción de Francisco Torres Oliver; Akal Ediciones: Madrid, 2003; ISBN 84-460-2071-8. </li>\n",
              "<li>Alicia en el País de las Maravillas. A través del espejo; ;Edición de Martin Gardner. Akal Ediciones: Madrid, 1984 [2ª edición 1987 (1998/1999)]; ISBN 978-84-7339-694-3 </li>\n",
              "<li>Alicia en el País de las Maravillas. ;Traducción de Jaime de Ojeda.; Ediciones Siruela: Madrid, 2004.; ISBN 84-7844-760-1</li>\n",
              "<li>Alicia en el País de las Maravillas. ;Traducción de Graciela Montes; Ediciones Colihue: Buenos Aires, 1996.; ISBN 950-581-272-8</li>\n",
              "<li>Alicia en el País de las Maravillas. ;Traducción de Cora Bosh. ;Editorial: Atlántida Buenos Aires, 2010. ;ISBN 978-950-08-1636-6</li>\n",
              "<li>Alicia en el País de las Maravillas. ;Traducción de Jaime Ojeda. ;Editorial: Alianza editorial, 2010. ;ISBN 978-84-206-6428-6</li>\n",
              "</ol>\n",
              "</div>\n",
              "<p>Ficha Técnica</p>\n",
              "<table class=\"tabla\">\n",
              "<tr>\n",
              "<th>Concepto</th>\n",
              "<th>Valor</th>\n",
              "</tr>\n",
              "<tr>\n",
              "<td>Título Original</td>\n",
              "<td>Alice in Wonderland</td>\n",
              "</tr>\n",
              "<tr>\n",
              "<td>Título</td>\n",
              "<td>Alicia en el país de las maravillas</td>\n",
              "</tr>\n",
              "<tr>\n",
              "<td>Fecha de estreno</td>\n",
              "<td>1951-01-01</td>\n",
              "</tr>\n",
              "<tr>\n",
              "<td>Dirección</td>\n",
              "<td>Clyde Geronimi, Wilfred Jackson, Hamilton Luske</td>\n",
              "</tr>\n",
              "<tr>\n",
              "<td>Producción</td>\n",
              "<td>Walt Disney</td>\n",
              "</tr>\n",
              "<tr>\n",
              "<td>Guión</td>\n",
              "<td>Winston Hibler, Ted Sears, Bill Peet, Erdman Penner, Joe Rinaldi, Milt Banta, William Cottrell, Dick Kelsey, Joe Grant, Dick Huemer, Del Connell, Tom Oreb, John Walbridge</td>\n",
              "</tr>\n",
              "<tr>\n",
              "<td>Musica</td>\n",
              "<td>Oliver Walace</td>\n",
              "</tr>\n",
              "<tr>\n",
              "<td>País</td>\n",
              "<td>Estados Unidos</td>\n",
              "<tr>\n",
              "<td>Año</td>\n",
              "<td>1951</td>\n",
              "</tr>\n",
              "<tr>\n",
              "<td>Género</td>\n",
              "<td>Animación, Fantasía, Aventura, Comedia Musical</td>\n",
              "</tr>\n",
              "<tr>\n",
              "<td>Duración</td>\n",
              "<td>75 minutos</td>\n",
              "</tr>\n",
              "</tr></table>\n",
              "<p>Reparto EEUU:</p>\n",
              "<table id=\"Reparto\">\n",
              "<tr>\n",
              "<th>Personaje</th>\n",
              "<th>Actor</th>\n",
              "<th>Actor Latino</th>\n",
              "</tr>\n",
              "<tr>\n",
              "<td>Alicia</td>\n",
              "<td>Kathryn Beaumont</td>\n",
              "<td>Mª Teresita Escobar Rohde</td>\n",
              "</tr>\n",
              "<tr>\n",
              "<td>Sombrereo Loco</td>\n",
              "<td>Ed Wynn</td>\n",
              "<td>Dogoberto de Cervantes</td>\n",
              "</tr>\n",
              "<tr>\n",
              "<td>La Oruga</td>\n",
              "<td>Richard Haydn</td>\n",
              "<td>Guillermo Portillo Acosta</td>\n",
              "</tr>\n",
              "<tr>\n",
              "<td>El Gato Risón</td>\n",
              "<td>Sterling Holloway</td>\n",
              "<td>Irving Lee</td>\n",
              "</tr>\n",
              "<tr>\n",
              "<td>La Reina de Corazones</td>\n",
              "<td>Jerry Colonna (Liebre de Marzo), Verna Felton</td>\n",
              "<td>Gloria Iturbe</td>\n",
              "</tr>\n",
              "<tr>\n",
              "<td>La Morsa</td>\n",
              "<td>J. Pat O’Malley</td>\n",
              "<td>Ciro Calderón</td>\n",
              "</tr>\n",
              "<tr>\n",
              "<td>La Liebre de Marzo</td>\n",
              "<td>Roberto Espirú</td>\n",
              "<td></td>\n",
              "</tr>\n",
              "<tr>\n",
              "<td>el Carpintero</td>\n",
              "<td>J. Pat O’Malley</td>\n",
              "<td>Carlos Max García</td>\n",
              "</tr>\n",
              "<tr>\n",
              "<td>Tweedledee</td>\n",
              "<td>J. Pat O’Malley</td>\n",
              "<td>Edmundo Santos</td>\n",
              "</tr>\n",
              "<tr>\n",
              "<td>Tweedledum</td>\n",
              "<td>J. Pat O’Malley</td>\n",
              "<td>Carlos Max García</td>\n",
              "</tr>\n",
              "<tr>\n",
              "<td>El Conejo Blanco</td>\n",
              "<td>Bill Thompson</td>\n",
              "<td>Luis Manuel Pelayo</td>\n",
              "</tr>\n",
              "<tr>\n",
              "<td>El Dodo</td>\n",
              "<td>Bill Thompson</td>\n",
              "<td>Salvador Carrasco</td>\n",
              "</tr>\n",
              "<tr>\n",
              "<td>Hermana de Alicia</td>\n",
              "<td>Heather Angel</td>\n",
              "<td>Carmen Donna-Dío</td>\n",
              "</tr>\n",
              "<tr>\n",
              "<td>Picaporte</td>\n",
              "<td>Joseph Kearns</td>\n",
              "<td>Guillermo Portillo Acosta</td>\n",
              "</tr>\n",
              "<tr>\n",
              "<td>Bill</td>\n",
              "<td>Larry Grey</td>\n",
              "<td>Carlos Max García</td>\n",
              "</tr>\n",
              "<tr>\n",
              "<td>el lagart</td>\n",
              "<td>Larry Grey</td>\n",
              "<td></td>\n",
              "</tr>\n",
              "</table></body>\n",
              "<tr>\n",
              "<td>Pájaros</td>\n",
              "<td>Queenie Leonard</td>\n",
              "<td></td>\n",
              "</tr>\n",
              "\n",
              "<tr>\n",
              "<td>Rey de Corazones</td>\n",
              "<td>Dink Trout</td>\n",
              "<td>Pepe Ruiz Vélez</td>\n",
              "</tr>\n",
              "\n",
              "<tr>\n",
              "<td>Rosa</td>\n",
              "<td>Doris Lloyd</td>\n",
              "<td>Carmen Donna-Dío</td>\n",
              "</tr>\n",
              "\n",
              "<tr>\n",
              "<td>Lirón</td>\n",
              "<td>James MacDonald</td>\n",
              "<td></td>\n",
              "</tr>\n",
              "<tr>\n",
              "<td>La Pájara en el Árbol</td>\n",
              "<td></td>\n",
              "<td>Consuelo Solórzano</td>\n",
              "</tr>\n",
              "<tr>\n",
              "<td>La Boca de Dragón</td>\n",
              "<td></td>\n",
              "<td>Fanny Schiller</td>\n",
              "</tr>\n",
              "<tr>\n",
              "<td>Las Cartas</td>\n",
              "<td></td>\n",
              "<td>Los Modernistas</td>\n",
              "</tr>\n",
              "<tr>\n",
              "<td>La Flores Cantadas</td>\n",
              "<td></td>\n",
              "<td>Las Hermanas Ruiz Armengo</td>\n",
              "</tr>\n",
              "\n",
              "<h2 id=\"filmaffinity\"><a href=\"https://www.filmaffinity.com/es/film362992.html\">filmaffinity</a></h2>\n",
              "<p><strong>¿Qué es FilmAffinity?</strong></p>\n",
              "FilmAffinity es la base de datos de películas más importante y completa de cine en español de Internet, conocida por ser referencia en consulta de puntuaciones medias y críticas de usuarios de cada una de sus películas y series.\n",
              "<table id=\"filmaffinity_table\">\n",
              "<tr>\n",
              "<th>Concepto</th>\n",
              "<th>Valor</th>\n",
              "</tr>\n",
              "<tr>\n",
              "<td>Título original</td>\n",
              "<td>Alice in Wonderland</td>\n",
              "</tr>\n",
              "<tr>\n",
              "<td>Año</td>\n",
              "<td>2010</td>\n",
              "</tr>\n",
              "<tr>\n",
              "<td>Duración</td>\n",
              "<td>108 min.</td>\n",
              "</tr>\n",
              "<tr>\n",
              "<td>País</td>\n",
              "<td>Estados Unidos</td>\n",
              "</tr>\n",
              "<tr>\n",
              "<td>Dirección</td>\n",
              "<td><a href=\"https://www.filmaffinity.com/es/search.php?stype=director&amp;sn&amp;stext=Tim%20Burton\">Tim Burton</a></td>\n",
              "</tr>\n",
              "<tr>\n",
              "<td>Guion</td>\n",
              "<td>Linda Woolverton (Novela: Lewis Carroll)</td>\n",
              "</tr>\n",
              "<tr>\n",
              "<td>Música</td>\n",
              "<td>Danny Elfman</td>\n",
              "</tr>\n",
              "<tr>\n",
              "<td>Fotografía</td>\n",
              "<td>Animación, Dariusz Wolski</td>\n",
              "</tr>\n",
              "<tr>\n",
              "<td>Reparto</td>\n",
              "<td>Mia Wasikowska, Johnny Depp, Helena Bonham Carter, Anne Hathaway, Crispin Glover, Matt Lucas, Marton Csokas, Tim Pigott-Smith, Lindsay Duncan, Geraldine James, Frances de la Tour, Jemma Powell, John Hopkins, Eleanor Gecks, Eleanor Tomlinson, Cortney Palm</td>\n",
              "</tr>\n",
              "<tr>\n",
              "<td>Productora</td>\n",
              "<td>Walt Disney Pictures, Tim Burton Productions, Zanuck Company, Roth Films, Team Todd</td>\n",
              "</tr>\n",
              "<tr>\n",
              "<td>Género</td>\n",
              "<td>Fantástico. Animación. Aventuras | Cuentos. 3-D</td>\n",
              "</tr>\n",
              "<tr>\n",
              "<td>Grupos</td>\n",
              "<td>Adaptaciones de Lewis Carroll | Alicia en el País de las Maravillas (Disney) | Remakes de Clásicos de Disney</td>\n",
              "</tr>\n",
              "<tr>\n",
              "<td>Sinopsis</td>\n",
              "<td>Inspirada en la obra homónima de Lewis Carroll. Alicia (Mia Wasikowska), una joven de 19 años, acude a una mansión victoriana para asistir a una fiesta de la alta sociedad. Cuando está a punto de recibir públicamente una propuesta de matrimonio, sale corriendo tras un conejo blanco y va a parar al País de las Maravillas, un lugar que había visitado diez años antes, aunque ya no lo recuerda. Ese país era un reino pacífico hasta que la Reina Roja (Helena Bonham Carter) derrocó a su hermana, la Reina Blanca (Anne Hathaway), pero las criaturas que viven en él, dispuestas a rebelarse, esperan contar con el apoyo de Alicia, a la que ayudan a recordar su primera visita al fantástico reino. (FILMAFFINITY)</td>\n",
              "</tr>\n",
              "<tr>\n",
              "<td>Premios</td>\n",
              "<td>\n",
              "<ol id=\"premios\">\n",
              "<li><stong>2010</stong>: 2 Oscars: Mejor dirección artística y vestuario. 3 nominaciones: efectos visuales</li>\n",
              "<li><stong>2010</stong>: Globos de Oro: 3 nominaciones, incluyendo Mejor película comedia o musical</li>\n",
              "<li><stong>2010</stong>: 2 Premios BAFTA: Mejor vestuario y maquillaje y peluquería. 5 nominaciones</li>\n",
              "<li><stong>2010</stong>: Satellite Awards: Mejor vestuario y efectos visuales</li>\n",
              "<li><stong>2010</stong>: 2 Critics' Choice Awards: Mejor vestuario y maquillaje. 4 nominaciones</li>\n",
              "</ol>\n",
              "</td>\n",
              "</tr>\n",
              "<tr>\n",
              "<td>Críticas</td>\n",
              "<td>Alice in Wonderland</td>\n",
              "</tr>\n",
              "<tr>\n",
              "<td>Título original</td>\n",
              "<td>\n",
              "<ul id=\"criticas\">\n",
              "<li><stong>FilmAffinity</stong>: En su estreno en cines 3D, la película fue precedida del cortometraje de animación español (nominado al Oscar) \"La dama y la muerte\". Click para votarlo. </li>\n",
              "<li><stong>Luis Martínez, Diario El Mundo: </stong>\"Se comprende mal que Burton haya convertido la anarquía narrativa-existencial de uno de los libros más rigurosamente libertinos jamás escrito en algo tan relamido. De hecho, por momentos, no se entiende nada. (...) Burton, sencillamente, aburre.\" </li>\n",
              "<li><stong>Carlos Boyero, Diario El País: </stong>\"Hay bastantes cosas que funcionan admirablemente en esta película, como la capacidad hipnótica de sus imágenes (...) un clima que te mantiene expectante. (...) Sin embargo, me cansa un poquito la grandilocuencia delirante de Depp. Es una película que ves y escuchas con agrado, pero el poso que deja es escaso.\" </li>\n",
              "<li><stong>Jordi Costa, Fotogramas: </stong>\"Película virtuosa (...) pero resulta inevitable preguntarse qué sustenta el sesgo inquietante y crepuscular de su relectura (...) Burton ha aprendido a dominar su caligrafía extraña, para dejar claro que ya no tiene demasiado que contar.\" </li>\n",
              "<li><stong>Federico Marín Bellón, Diario ABC: </stong>\"Empieza con brillantez, se aburre en la mayor parte de su recorrido por el país de nunca máis y termina con una batalla de lo más vistosa, colocada justo a tiempo para que el personal no se pregunte por qué demonios lleva hora y media mirando la pantalla\"</li>\n",
              "<li><stong>Todd McCarthy, Variety:  </stong>\"Tiene sus momentos de deleite, humor y deslumbramiento. Pero también se hace más común a medida que avanza (...) no todo ha salido mal, al menos no del todo. (...) La película se siente mucho más convencional de lo que debería.\" </li>\n",
              "<li><stong>Michael Rechtshaffen, The Hollywood Reporter: </stong>\"Verdadera y locamente maravillosa. (...) Ni siquiera el estilo extravagante marca de la casa del director te prepara para el espectáculo intensamente disfrutable que es 'Alice in Wonderland'\"</li>\n",
              "</ul>\n",
              "</td>\n",
              "</tr>\n",
              "</table>\n"
            ]
          },
          "metadata": {},
          "execution_count": 88
        }
      ]
    },
    {
      "cell_type": "markdown",
      "metadata": {
        "id": "JdugJlphWhej"
      },
      "source": [
        "🏷️ 3. Generar un objeto denominado títulos que contenga el tag `h2`\n"
      ]
    },
    {
      "cell_type": "code",
      "metadata": {
        "id": "oHe97o8hWg3a",
        "colab": {
          "base_uri": "https://localhost:8080/"
        },
        "outputId": "ffb01b54-0b3c-4fc1-aa3d-e82a3a26e67c"
      },
      "source": [
        "soup.findAll(\"h2\")"
      ],
      "execution_count": 89,
      "outputs": [
        {
          "output_type": "execute_result",
          "data": {
            "text/plain": [
              "[<h2>Historia</h2>,\n",
              " <h2>Ediciones en español</h2>,\n",
              " <h2 id=\"filmaffinity\"><a href=\"https://www.filmaffinity.com/es/film362992.html\">filmaffinity</a></h2>]"
            ]
          },
          "metadata": {},
          "execution_count": 89
        }
      ]
    },
    {
      "cell_type": "code",
      "metadata": {
        "colab": {
          "base_uri": "https://localhost:8080/",
          "height": 35
        },
        "id": "f6y5f0YXdxIn",
        "outputId": "e9a7eb19-341e-4f7a-d446-236a2dca55f6"
      },
      "source": [
        "soup.find(\"h2\").get_text()"
      ],
      "execution_count": 90,
      "outputs": [
        {
          "output_type": "execute_result",
          "data": {
            "application/vnd.google.colaboratory.intrinsic+json": {
              "type": "string"
            },
            "text/plain": [
              "'Historia'"
            ]
          },
          "metadata": {},
          "execution_count": 90
        }
      ]
    },
    {
      "cell_type": "markdown",
      "metadata": {
        "id": "Cbg0UwyBXVbz"
      },
      "source": [
        "🏷️ 4. Obtener el string de cada elemento de la lista obtenida del paso anterior"
      ]
    },
    {
      "cell_type": "code",
      "metadata": {
        "id": "VlY1mZrqXaPQ"
      },
      "source": [
        "titulos = [ i.get_text()  for i in soup.findAll(\"h2\")  ]"
      ],
      "execution_count": 91,
      "outputs": []
    },
    {
      "cell_type": "code",
      "metadata": {
        "colab": {
          "base_uri": "https://localhost:8080/"
        },
        "id": "VBwyQsUBe1-T",
        "outputId": "eb3b13a2-a43f-4c6d-b9d7-88d6b3390f53"
      },
      "source": [
        "titulos"
      ],
      "execution_count": 92,
      "outputs": [
        {
          "output_type": "execute_result",
          "data": {
            "text/plain": [
              "['Historia', 'Ediciones en español', 'filmaffinity']"
            ]
          },
          "metadata": {},
          "execution_count": 92
        }
      ]
    },
    {
      "cell_type": "markdown",
      "metadata": {
        "id": "b0I0n1-gXymj"
      },
      "source": [
        "🏷️ 5. Seleccionar el segundo elemento `p` que contiene la descripción de la historia"
      ]
    },
    {
      "cell_type": "code",
      "metadata": {
        "id": "4-8aYyGIXz9w"
      },
      "source": [
        "descripcion = soup.findAll(\"p\")[1].get_text()"
      ],
      "execution_count": 93,
      "outputs": []
    },
    {
      "cell_type": "code",
      "metadata": {
        "colab": {
          "base_uri": "https://localhost:8080/",
          "height": 136
        },
        "id": "H4T6kw8Pl-q_",
        "outputId": "19c0b71a-9c58-4651-cb07-07bc221320c1"
      },
      "source": [
        "soup.findAll(\"p\")[1].get_text()"
      ],
      "execution_count": 94,
      "outputs": [
        {
          "output_type": "execute_result",
          "data": {
            "application/vnd.google.colaboratory.intrinsic+json": {
              "type": "string"
            },
            "text/plain": [
              "'Las aventuras de Alicia en el país de las maravillas, comúnmente abreviado como Alicia en el país de las maravillas, es una novela de fantasía escrita por el matemático, lógico, fotógrafo y escritor británico Charles Lutwidge Dodgson, bajo el seudónimo de Lewis Carroll, publicada en 1865. La historia cuenta cómo una niña llamada Alicia cae por un agujero, encontrándose en un mundo peculiar, poblado por humanos y criaturas antropomórficas. El libro juega con la lógica, dando a la novela gran popularidad tanto en niños como en adultos. Está considerada una de las mejores novelas del género del Sinsentido. Su narrativa y estructura, junto con sus personajes, han sido una gran influencia tanto en la cultura popular como en la literatura, sobre todo en el género fantástico.\\n\\tEn esta obra aparecen algunos de los personajes más famosos de Lewis Carroll, como el Conejo Blanco, la Liebre de Marzo, el Sombrerero, la Oruga azul, el Gato de Cheshire o la Reina de Corazones;1\\u200b quienes han cobrado importancia suficiente como para ser reconocidos fuera del mundo de Alicia.'"
            ]
          },
          "metadata": {},
          "execution_count": 94
        }
      ]
    },
    {
      "cell_type": "markdown",
      "metadata": {
        "id": "Kjmzr2kXYO5N"
      },
      "source": [
        "🏷️ 6. Eliminar del string del ejercicio anterior los saltos de líneas y tabulaciones"
      ]
    },
    {
      "cell_type": "code",
      "metadata": {
        "id": "asLFLjX-mTws"
      },
      "source": [
        "descripcion = descripcion.replace(\"\\n\", \" \").replace(\"\\t\", \" \").replace(\"\\u200b\", \"\")"
      ],
      "execution_count": 95,
      "outputs": []
    },
    {
      "cell_type": "markdown",
      "metadata": {
        "id": "Cq229GdpYj_F"
      },
      "source": [
        "🏷️ 7. El texto anterior contiene una referencia , por lo cual generar una variable denominada `ref`"
      ]
    },
    {
      "cell_type": "code",
      "metadata": {
        "id": "2hoqLm3wY6F1",
        "colab": {
          "base_uri": "https://localhost:8080/",
          "height": 35
        },
        "outputId": "8cda1723-2492-496e-800e-02d51ff4fb37"
      },
      "source": [
        "soup.findAll(\"p\", { \"id\" : \"Ref\"})[0].get_text()"
      ],
      "execution_count": 96,
      "outputs": [
        {
          "output_type": "execute_result",
          "data": {
            "application/vnd.google.colaboratory.intrinsic+json": {
              "type": "string"
            },
            "text/plain": [
              "'Referenicas: wikipedia'"
            ]
          },
          "metadata": {},
          "execution_count": 96
        }
      ]
    },
    {
      "cell_type": "markdown",
      "metadata": {
        "id": "McdJfPvXZWiR"
      },
      "source": [
        "🏷️ 8. Obtener el hipervínculo de la referencia"
      ]
    },
    {
      "cell_type": "code",
      "metadata": {
        "id": "H8LYeMCLuEpF",
        "colab": {
          "base_uri": "https://localhost:8080/"
        },
        "outputId": "e56417da-8731-4d7e-a8a1-55dba01dfe7d"
      },
      "source": [
        "soup.findAll(\"p\", { \"id\" : \"Ref\"})[0].findAll(\"a\")[0].get_attribute_list(\"href\")"
      ],
      "execution_count": 97,
      "outputs": [
        {
          "output_type": "execute_result",
          "data": {
            "text/plain": [
              "['https://es.wikipedia.org/wiki/Las_aventuras_de_Alicia_en_el_pa%C3%ADs_de_las_maravillas']"
            ]
          },
          "metadata": {},
          "execution_count": 97
        }
      ]
    },
    {
      "cell_type": "code",
      "metadata": {
        "id": "9u5HxbT9ZdcY",
        "colab": {
          "base_uri": "https://localhost:8080/",
          "height": 35
        },
        "outputId": "ca8ae28e-7308-4469-8845-2bbee86eaee6"
      },
      "source": [
        "soup.findAll('p', {'id' : \"Ref\"})[0].a['href']\n"
      ],
      "execution_count": 98,
      "outputs": [
        {
          "output_type": "execute_result",
          "data": {
            "application/vnd.google.colaboratory.intrinsic+json": {
              "type": "string"
            },
            "text/plain": [
              "'https://es.wikipedia.org/wiki/Las_aventuras_de_Alicia_en_el_pa%C3%ADs_de_las_maravillas'"
            ]
          },
          "metadata": {},
          "execution_count": 98
        }
      ]
    },
    {
      "cell_type": "code",
      "metadata": {
        "id": "B64mibbevE7l"
      },
      "source": [
        ""
      ],
      "execution_count": 98,
      "outputs": []
    },
    {
      "cell_type": "markdown",
      "metadata": {
        "id": "xfHv7OvLaSNo"
      },
      "source": [
        "🏷️ 9. Generar una lista con todos los elemento li\n"
      ]
    },
    {
      "cell_type": "code",
      "metadata": {
        "id": "miy4lKM5aWnH",
        "colab": {
          "base_uri": "https://localhost:8080/"
        },
        "outputId": "ba298301-01e8-40cf-9169-598e34061bb1"
      },
      "source": [
        "lista = soup.findAll(\"li\")\n",
        "lista"
      ],
      "execution_count": 99,
      "outputs": [
        {
          "output_type": "execute_result",
          "data": {
            "text/plain": [
              "[<li>Capítulo I: El descenso por la madriguera</li>,\n",
              " <li>Capítulo II: En un mar de lágrimas</li>,\n",
              " <li>Capítulo III: Una carrera en comité y un cuento largo</li>,\n",
              " <li>Capítulo IV: La habitación del Conejo Blanco</li>,\n",
              " <li>Capítulo V: El consejo de una oruga</li>,\n",
              " <li>Capítulo VI: Cerdo y pimienta</li>,\n",
              " <li>Capítulo VII: Una merienda de locos</li>,\n",
              " <li>Capítulo VIII: El croquet de la reina</li>,\n",
              " <li>Capítulo IX: Historia de la Falsa Tortuga</li>,\n",
              " <li>Capítulo X: El baile de la langosta</li>,\n",
              " <li>Capítulo XI: ¿Quién robó las tartas?</li>,\n",
              " <li>Capítulo XII: La declaración de Alicia</li>,\n",
              " <li>Alicia en el País de las Maravillas: A través del espejo; Traducción de Ramón Buckley; Ediciones Cátedra: Madrid, 1992; ISBN 84-376-1092-3</li>,\n",
              " <li>Alicia en el País de las Maravillas. A través del espejo; Traducción de Mauro Armiño; Colección Avatares. Ediciones Valdemar: Madrid, 1998 [4ª edición 2006]; ISBN 84-7702-235-6.</li>,\n",
              " <li>Aventuras de Alicia en el País de las Maravillas. A través del espejo; ;Colección El Club Diógenes. Ediciones Valdemar: Madrid, 2006; ISBN 84-7702-447-2</li>,\n",
              " <li>Alicia en el País de las Maravillas; Traducción de Gabriel López Guix; Ediciones B: Barcelona, 2002; ISBN 84-666-0802-8</li>,\n",
              " <li>Alicia en el País de las Maravillas Silvia y Bruno; Traducción de Luis Maristany y Leonardo Domingo; Editorial Edhasa: Barcelona, 2002; ISBN 84-350-4011-9</li>,\n",
              " <li>Aventuras de Alicia en el País de las Maravillas; ;Edición de Pilar Torralba Álvarez. Akal Ediciones: Madrid, 2005; ISBN 84-460-1995-7</li>,\n",
              " <li>Alicia en el País de las Maravillas. A través del espejo; Traducción de Francisco Torres Oliver; Akal Ediciones: Madrid, 2003; ISBN 84-460-2071-8. </li>,\n",
              " <li>Alicia en el País de las Maravillas. A través del espejo; ;Edición de Martin Gardner. Akal Ediciones: Madrid, 1984 [2ª edición 1987 (1998/1999)]; ISBN 978-84-7339-694-3 </li>,\n",
              " <li>Alicia en el País de las Maravillas. ;Traducción de Jaime de Ojeda.; Ediciones Siruela: Madrid, 2004.; ISBN 84-7844-760-1</li>,\n",
              " <li>Alicia en el País de las Maravillas. ;Traducción de Graciela Montes; Ediciones Colihue: Buenos Aires, 1996.; ISBN 950-581-272-8</li>,\n",
              " <li>Alicia en el País de las Maravillas. ;Traducción de Cora Bosh. ;Editorial: Atlántida Buenos Aires, 2010. ;ISBN 978-950-08-1636-6</li>,\n",
              " <li>Alicia en el País de las Maravillas. ;Traducción de Jaime Ojeda. ;Editorial: Alianza editorial, 2010. ;ISBN 978-84-206-6428-6</li>,\n",
              " <li><stong>2010</stong>: 2 Oscars: Mejor dirección artística y vestuario. 3 nominaciones: efectos visuales</li>,\n",
              " <li><stong>2010</stong>: Globos de Oro: 3 nominaciones, incluyendo Mejor película comedia o musical</li>,\n",
              " <li><stong>2010</stong>: 2 Premios BAFTA: Mejor vestuario y maquillaje y peluquería. 5 nominaciones</li>,\n",
              " <li><stong>2010</stong>: Satellite Awards: Mejor vestuario y efectos visuales</li>,\n",
              " <li><stong>2010</stong>: 2 Critics' Choice Awards: Mejor vestuario y maquillaje. 4 nominaciones</li>,\n",
              " <li><stong>FilmAffinity</stong>: En su estreno en cines 3D, la película fue precedida del cortometraje de animación español (nominado al Oscar) \"La dama y la muerte\". Click para votarlo. </li>,\n",
              " <li><stong>Luis Martínez, Diario El Mundo: </stong>\"Se comprende mal que Burton haya convertido la anarquía narrativa-existencial de uno de los libros más rigurosamente libertinos jamás escrito en algo tan relamido. De hecho, por momentos, no se entiende nada. (...) Burton, sencillamente, aburre.\" </li>,\n",
              " <li><stong>Carlos Boyero, Diario El País: </stong>\"Hay bastantes cosas que funcionan admirablemente en esta película, como la capacidad hipnótica de sus imágenes (...) un clima que te mantiene expectante. (...) Sin embargo, me cansa un poquito la grandilocuencia delirante de Depp. Es una película que ves y escuchas con agrado, pero el poso que deja es escaso.\" </li>,\n",
              " <li><stong>Jordi Costa, Fotogramas: </stong>\"Película virtuosa (...) pero resulta inevitable preguntarse qué sustenta el sesgo inquietante y crepuscular de su relectura (...) Burton ha aprendido a dominar su caligrafía extraña, para dejar claro que ya no tiene demasiado que contar.\" </li>,\n",
              " <li><stong>Federico Marín Bellón, Diario ABC: </stong>\"Empieza con brillantez, se aburre en la mayor parte de su recorrido por el país de nunca máis y termina con una batalla de lo más vistosa, colocada justo a tiempo para que el personal no se pregunte por qué demonios lleva hora y media mirando la pantalla\"</li>,\n",
              " <li><stong>Todd McCarthy, Variety:  </stong>\"Tiene sus momentos de deleite, humor y deslumbramiento. Pero también se hace más común a medida que avanza (...) no todo ha salido mal, al menos no del todo. (...) La película se siente mucho más convencional de lo que debería.\" </li>,\n",
              " <li><stong>Michael Rechtshaffen, The Hollywood Reporter: </stong>\"Verdadera y locamente maravillosa. (...) Ni siquiera el estilo extravagante marca de la casa del director te prepara para el espectáculo intensamente disfrutable que es 'Alice in Wonderland'\"</li>]"
            ]
          },
          "metadata": {},
          "execution_count": 99
        }
      ]
    },
    {
      "cell_type": "markdown",
      "metadata": {
        "id": "RE-9TWXWadYa"
      },
      "source": [
        "🏷️ 10. Seleccionar todos los elementos li pero solo los que corresponden a los capítulos, realizar un dataframe donde tenga dos columnas:\n",
        "* Captiulo nro\n",
        "* Capitulo denominación"
      ]
    },
    {
      "cell_type": "code",
      "metadata": {
        "id": "z8AhtxHva4T8",
        "colab": {
          "base_uri": "https://localhost:8080/"
        },
        "outputId": "51d4c18d-f948-4589-e345-b9c341a7de82"
      },
      "source": [
        "capitulos = soup.findAll(\"ul\")[0].findAll(\"li\")\n",
        "capitulos = [i.get_text()  for i in capitulos]\n",
        "capitulos"
      ],
      "execution_count": 100,
      "outputs": [
        {
          "output_type": "execute_result",
          "data": {
            "text/plain": [
              "['Capítulo I: El descenso por la madriguera',\n",
              " 'Capítulo II: En un mar de lágrimas',\n",
              " 'Capítulo III: Una carrera en comité y un cuento largo',\n",
              " 'Capítulo IV: La habitación del Conejo Blanco',\n",
              " 'Capítulo V: El consejo de una oruga',\n",
              " 'Capítulo VI: Cerdo y pimienta',\n",
              " 'Capítulo VII: Una merienda de locos',\n",
              " 'Capítulo VIII: El croquet de la reina',\n",
              " 'Capítulo IX: Historia de la Falsa Tortuga',\n",
              " 'Capítulo X: El baile de la langosta',\n",
              " 'Capítulo XI: ¿Quién robó las tartas?',\n",
              " 'Capítulo XII: La declaración de Alicia']"
            ]
          },
          "metadata": {},
          "execution_count": 100
        }
      ]
    },
    {
      "cell_type": "code",
      "metadata": {
        "colab": {
          "base_uri": "https://localhost:8080/"
        },
        "id": "KUCM6jDgr8T-",
        "outputId": "616c3b32-9ed1-442d-b55d-176325964fd1"
      },
      "source": [
        "[i.split(\":\")[1] for i in capitulos]"
      ],
      "execution_count": 101,
      "outputs": [
        {
          "output_type": "execute_result",
          "data": {
            "text/plain": [
              "[' El descenso por la madriguera',\n",
              " ' En un mar de lágrimas',\n",
              " ' Una carrera en comité y un cuento largo',\n",
              " ' La habitación del Conejo Blanco',\n",
              " ' El consejo de una oruga',\n",
              " ' Cerdo y pimienta',\n",
              " ' Una merienda de locos',\n",
              " ' El croquet de la reina',\n",
              " ' Historia de la Falsa Tortuga',\n",
              " ' El baile de la langosta',\n",
              " ' ¿Quién robó las tartas?',\n",
              " ' La declaración de Alicia']"
            ]
          },
          "metadata": {},
          "execution_count": 101
        }
      ]
    },
    {
      "cell_type": "code",
      "metadata": {
        "id": "z60hMh2Qsc-G"
      },
      "source": [
        "df = pd.DataFrame({\"Capitulo\" : [i.split(\":\")[0] for i in capitulos],\n",
        "                   \"Titulo\"  : [i.split(\":\")[1] for i in capitulos]})"
      ],
      "execution_count": 102,
      "outputs": []
    },
    {
      "cell_type": "code",
      "metadata": {
        "colab": {
          "base_uri": "https://localhost:8080/",
          "height": 417
        },
        "id": "mlmBK7fFszdL",
        "outputId": "52162edd-f8b8-4cd8-906e-2dfb0e558de1"
      },
      "source": [
        "df"
      ],
      "execution_count": 103,
      "outputs": [
        {
          "output_type": "execute_result",
          "data": {
            "text/html": [
              "<div>\n",
              "<style scoped>\n",
              "    .dataframe tbody tr th:only-of-type {\n",
              "        vertical-align: middle;\n",
              "    }\n",
              "\n",
              "    .dataframe tbody tr th {\n",
              "        vertical-align: top;\n",
              "    }\n",
              "\n",
              "    .dataframe thead th {\n",
              "        text-align: right;\n",
              "    }\n",
              "</style>\n",
              "<table border=\"1\" class=\"dataframe\">\n",
              "  <thead>\n",
              "    <tr style=\"text-align: right;\">\n",
              "      <th></th>\n",
              "      <th>Capitulo</th>\n",
              "      <th>Titulo</th>\n",
              "    </tr>\n",
              "  </thead>\n",
              "  <tbody>\n",
              "    <tr>\n",
              "      <th>0</th>\n",
              "      <td>Capítulo I</td>\n",
              "      <td>El descenso por la madriguera</td>\n",
              "    </tr>\n",
              "    <tr>\n",
              "      <th>1</th>\n",
              "      <td>Capítulo II</td>\n",
              "      <td>En un mar de lágrimas</td>\n",
              "    </tr>\n",
              "    <tr>\n",
              "      <th>2</th>\n",
              "      <td>Capítulo III</td>\n",
              "      <td>Una carrera en comité y un cuento largo</td>\n",
              "    </tr>\n",
              "    <tr>\n",
              "      <th>3</th>\n",
              "      <td>Capítulo IV</td>\n",
              "      <td>La habitación del Conejo Blanco</td>\n",
              "    </tr>\n",
              "    <tr>\n",
              "      <th>4</th>\n",
              "      <td>Capítulo V</td>\n",
              "      <td>El consejo de una oruga</td>\n",
              "    </tr>\n",
              "    <tr>\n",
              "      <th>5</th>\n",
              "      <td>Capítulo VI</td>\n",
              "      <td>Cerdo y pimienta</td>\n",
              "    </tr>\n",
              "    <tr>\n",
              "      <th>6</th>\n",
              "      <td>Capítulo VII</td>\n",
              "      <td>Una merienda de locos</td>\n",
              "    </tr>\n",
              "    <tr>\n",
              "      <th>7</th>\n",
              "      <td>Capítulo VIII</td>\n",
              "      <td>El croquet de la reina</td>\n",
              "    </tr>\n",
              "    <tr>\n",
              "      <th>8</th>\n",
              "      <td>Capítulo IX</td>\n",
              "      <td>Historia de la Falsa Tortuga</td>\n",
              "    </tr>\n",
              "    <tr>\n",
              "      <th>9</th>\n",
              "      <td>Capítulo X</td>\n",
              "      <td>El baile de la langosta</td>\n",
              "    </tr>\n",
              "    <tr>\n",
              "      <th>10</th>\n",
              "      <td>Capítulo XI</td>\n",
              "      <td>¿Quién robó las tartas?</td>\n",
              "    </tr>\n",
              "    <tr>\n",
              "      <th>11</th>\n",
              "      <td>Capítulo XII</td>\n",
              "      <td>La declaración de Alicia</td>\n",
              "    </tr>\n",
              "  </tbody>\n",
              "</table>\n",
              "</div>"
            ],
            "text/plain": [
              "         Capitulo                                    Titulo\n",
              "0      Capítulo I             El descenso por la madriguera\n",
              "1     Capítulo II                     En un mar de lágrimas\n",
              "2    Capítulo III   Una carrera en comité y un cuento largo\n",
              "3     Capítulo IV           La habitación del Conejo Blanco\n",
              "4      Capítulo V                   El consejo de una oruga\n",
              "5     Capítulo VI                          Cerdo y pimienta\n",
              "6    Capítulo VII                     Una merienda de locos\n",
              "7   Capítulo VIII                    El croquet de la reina\n",
              "8     Capítulo IX              Historia de la Falsa Tortuga\n",
              "9      Capítulo X                   El baile de la langosta\n",
              "10    Capítulo XI                   ¿Quién robó las tartas?\n",
              "11   Capítulo XII                  La declaración de Alicia"
            ]
          },
          "metadata": {},
          "execution_count": 103
        }
      ]
    },
    {
      "cell_type": "markdown",
      "metadata": {
        "id": "3TopaRF_c8oM"
      },
      "source": [
        "🏷️ 11. Generar un dataframe en base a los datos que estan en el apartado **`Ediciones en español`**"
      ]
    },
    {
      "cell_type": "code",
      "metadata": {
        "id": "JsVcAe_qdN5O"
      },
      "source": [
        "referencias = soup.findAll(\"ol\")[0].findAll(\"li\")\n",
        "referencias = [i.get_text()    for i in referencias]"
      ],
      "execution_count": 104,
      "outputs": []
    },
    {
      "cell_type": "code",
      "metadata": {
        "id": "Rd_tEs9J415A",
        "colab": {
          "base_uri": "https://localhost:8080/"
        },
        "outputId": "84045c6d-af29-4f88-a7dd-f5ab83b0251a"
      },
      "source": [
        "referencias"
      ],
      "execution_count": 105,
      "outputs": [
        {
          "output_type": "execute_result",
          "data": {
            "text/plain": [
              "['Alicia en el País de las Maravillas: A través del espejo; Traducción de Ramón Buckley; Ediciones Cátedra: Madrid, 1992; ISBN 84-376-1092-3',\n",
              " 'Alicia en el País de las Maravillas. A través del espejo; Traducción de Mauro Armiño; Colección Avatares. Ediciones Valdemar: Madrid, 1998 [4ª edición 2006]; ISBN 84-7702-235-6.',\n",
              " 'Aventuras de Alicia en el País de las Maravillas. A través del espejo; ;Colección El Club Diógenes. Ediciones Valdemar: Madrid, 2006; ISBN 84-7702-447-2',\n",
              " 'Alicia en el País de las Maravillas; Traducción de Gabriel López Guix; Ediciones B: Barcelona, 2002; ISBN 84-666-0802-8',\n",
              " 'Alicia en el País de las Maravillas Silvia y Bruno; Traducción de Luis Maristany y Leonardo Domingo; Editorial Edhasa: Barcelona, 2002; ISBN 84-350-4011-9',\n",
              " 'Aventuras de Alicia en el País de las Maravillas; ;Edición de Pilar Torralba Álvarez. Akal Ediciones: Madrid, 2005; ISBN 84-460-1995-7',\n",
              " 'Alicia en el País de las Maravillas. A través del espejo; Traducción de Francisco Torres Oliver; Akal Ediciones: Madrid, 2003; ISBN 84-460-2071-8. ',\n",
              " 'Alicia en el País de las Maravillas. A través del espejo; ;Edición de Martin Gardner. Akal Ediciones: Madrid, 1984 [2ª edición 1987 (1998/1999)]; ISBN 978-84-7339-694-3 ',\n",
              " 'Alicia en el País de las Maravillas. ;Traducción de Jaime de Ojeda.; Ediciones Siruela: Madrid, 2004.; ISBN 84-7844-760-1',\n",
              " 'Alicia en el País de las Maravillas. ;Traducción de Graciela Montes; Ediciones Colihue: Buenos Aires, 1996.; ISBN 950-581-272-8',\n",
              " 'Alicia en el País de las Maravillas. ;Traducción de Cora Bosh. ;Editorial: Atlántida Buenos Aires, 2010. ;ISBN 978-950-08-1636-6',\n",
              " 'Alicia en el País de las Maravillas. ;Traducción de Jaime Ojeda. ;Editorial: Alianza editorial, 2010. ;ISBN 978-84-206-6428-6']"
            ]
          },
          "metadata": {},
          "execution_count": 105
        }
      ]
    },
    {
      "cell_type": "code",
      "metadata": {
        "id": "RatjRs0guJNw"
      },
      "source": [
        "nombre_libro = [i.split(\";\")[0].strip()  for i in referencias ]\n",
        "traductor =  [i.split(\";\")[1].strip()  for i in referencias ]\n",
        "edicion = [i.split(\";\")[2].strip()  for i in referencias ]\n",
        "codigo = [i.split(\";\")[3].strip()  for i in referencias ]"
      ],
      "execution_count": 106,
      "outputs": []
    },
    {
      "cell_type": "code",
      "metadata": {
        "id": "bW9lghvTuaxm"
      },
      "source": [
        "df_ = pd.DataFrame({ \"Nombre_libro\" : nombre_libro,\n",
        "                    \"Traductor\" : traductor,\n",
        "                    \"Edición\" : edicion,\n",
        "                    \"Codigo\" : codigo})"
      ],
      "execution_count": 107,
      "outputs": []
    },
    {
      "cell_type": "code",
      "metadata": {
        "colab": {
          "base_uri": "https://localhost:8080/",
          "height": 417
        },
        "id": "rzxr7wIpvMfs",
        "outputId": "2a5f15bd-0e8a-4f2e-b41f-9ef80cdefd70"
      },
      "source": [
        "df_"
      ],
      "execution_count": 108,
      "outputs": [
        {
          "output_type": "execute_result",
          "data": {
            "text/html": [
              "<div>\n",
              "<style scoped>\n",
              "    .dataframe tbody tr th:only-of-type {\n",
              "        vertical-align: middle;\n",
              "    }\n",
              "\n",
              "    .dataframe tbody tr th {\n",
              "        vertical-align: top;\n",
              "    }\n",
              "\n",
              "    .dataframe thead th {\n",
              "        text-align: right;\n",
              "    }\n",
              "</style>\n",
              "<table border=\"1\" class=\"dataframe\">\n",
              "  <thead>\n",
              "    <tr style=\"text-align: right;\">\n",
              "      <th></th>\n",
              "      <th>Nombre_libro</th>\n",
              "      <th>Traductor</th>\n",
              "      <th>Edición</th>\n",
              "      <th>Codigo</th>\n",
              "    </tr>\n",
              "  </thead>\n",
              "  <tbody>\n",
              "    <tr>\n",
              "      <th>0</th>\n",
              "      <td>Alicia en el País de las Maravillas: A través ...</td>\n",
              "      <td>Traducción de Ramón Buckley</td>\n",
              "      <td>Ediciones Cátedra: Madrid, 1992</td>\n",
              "      <td>ISBN 84-376-1092-3</td>\n",
              "    </tr>\n",
              "    <tr>\n",
              "      <th>1</th>\n",
              "      <td>Alicia en el País de las Maravillas. A través ...</td>\n",
              "      <td>Traducción de Mauro Armiño</td>\n",
              "      <td>Colección Avatares. Ediciones Valdemar: Madrid...</td>\n",
              "      <td>ISBN 84-7702-235-6.</td>\n",
              "    </tr>\n",
              "    <tr>\n",
              "      <th>2</th>\n",
              "      <td>Aventuras de Alicia en el País de las Maravill...</td>\n",
              "      <td></td>\n",
              "      <td>Colección El Club Diógenes. Ediciones Valdemar...</td>\n",
              "      <td>ISBN 84-7702-447-2</td>\n",
              "    </tr>\n",
              "    <tr>\n",
              "      <th>3</th>\n",
              "      <td>Alicia en el País de las Maravillas</td>\n",
              "      <td>Traducción de Gabriel López Guix</td>\n",
              "      <td>Ediciones B: Barcelona, 2002</td>\n",
              "      <td>ISBN 84-666-0802-8</td>\n",
              "    </tr>\n",
              "    <tr>\n",
              "      <th>4</th>\n",
              "      <td>Alicia en el País de las Maravillas Silvia y B...</td>\n",
              "      <td>Traducción de Luis Maristany y Leonardo Domingo</td>\n",
              "      <td>Editorial Edhasa: Barcelona, 2002</td>\n",
              "      <td>ISBN 84-350-4011-9</td>\n",
              "    </tr>\n",
              "    <tr>\n",
              "      <th>5</th>\n",
              "      <td>Aventuras de Alicia en el País de las Maravillas</td>\n",
              "      <td></td>\n",
              "      <td>Edición de Pilar Torralba Álvarez. Akal Edicio...</td>\n",
              "      <td>ISBN 84-460-1995-7</td>\n",
              "    </tr>\n",
              "    <tr>\n",
              "      <th>6</th>\n",
              "      <td>Alicia en el País de las Maravillas. A través ...</td>\n",
              "      <td>Traducción de Francisco Torres Oliver</td>\n",
              "      <td>Akal Ediciones: Madrid, 2003</td>\n",
              "      <td>ISBN 84-460-2071-8.</td>\n",
              "    </tr>\n",
              "    <tr>\n",
              "      <th>7</th>\n",
              "      <td>Alicia en el País de las Maravillas. A través ...</td>\n",
              "      <td></td>\n",
              "      <td>Edición de Martin Gardner. Akal Ediciones: Mad...</td>\n",
              "      <td>ISBN 978-84-7339-694-3</td>\n",
              "    </tr>\n",
              "    <tr>\n",
              "      <th>8</th>\n",
              "      <td>Alicia en el País de las Maravillas.</td>\n",
              "      <td>Traducción de Jaime de Ojeda.</td>\n",
              "      <td>Ediciones Siruela: Madrid, 2004.</td>\n",
              "      <td>ISBN 84-7844-760-1</td>\n",
              "    </tr>\n",
              "    <tr>\n",
              "      <th>9</th>\n",
              "      <td>Alicia en el País de las Maravillas.</td>\n",
              "      <td>Traducción de Graciela Montes</td>\n",
              "      <td>Ediciones Colihue: Buenos Aires, 1996.</td>\n",
              "      <td>ISBN 950-581-272-8</td>\n",
              "    </tr>\n",
              "    <tr>\n",
              "      <th>10</th>\n",
              "      <td>Alicia en el País de las Maravillas.</td>\n",
              "      <td>Traducción de Cora Bosh.</td>\n",
              "      <td>Editorial: Atlántida Buenos Aires, 2010.</td>\n",
              "      <td>ISBN 978-950-08-1636-6</td>\n",
              "    </tr>\n",
              "    <tr>\n",
              "      <th>11</th>\n",
              "      <td>Alicia en el País de las Maravillas.</td>\n",
              "      <td>Traducción de Jaime Ojeda.</td>\n",
              "      <td>Editorial: Alianza editorial, 2010.</td>\n",
              "      <td>ISBN 978-84-206-6428-6</td>\n",
              "    </tr>\n",
              "  </tbody>\n",
              "</table>\n",
              "</div>"
            ],
            "text/plain": [
              "                                         Nombre_libro  ...                  Codigo\n",
              "0   Alicia en el País de las Maravillas: A través ...  ...      ISBN 84-376-1092-3\n",
              "1   Alicia en el País de las Maravillas. A través ...  ...     ISBN 84-7702-235-6.\n",
              "2   Aventuras de Alicia en el País de las Maravill...  ...      ISBN 84-7702-447-2\n",
              "3                 Alicia en el País de las Maravillas  ...      ISBN 84-666-0802-8\n",
              "4   Alicia en el País de las Maravillas Silvia y B...  ...      ISBN 84-350-4011-9\n",
              "5    Aventuras de Alicia en el País de las Maravillas  ...      ISBN 84-460-1995-7\n",
              "6   Alicia en el País de las Maravillas. A través ...  ...     ISBN 84-460-2071-8.\n",
              "7   Alicia en el País de las Maravillas. A través ...  ...  ISBN 978-84-7339-694-3\n",
              "8                Alicia en el País de las Maravillas.  ...      ISBN 84-7844-760-1\n",
              "9                Alicia en el País de las Maravillas.  ...      ISBN 950-581-272-8\n",
              "10               Alicia en el País de las Maravillas.  ...  ISBN 978-950-08-1636-6\n",
              "11               Alicia en el País de las Maravillas.  ...  ISBN 978-84-206-6428-6\n",
              "\n",
              "[12 rows x 4 columns]"
            ]
          },
          "metadata": {},
          "execution_count": 108
        }
      ]
    },
    {
      "cell_type": "markdown",
      "metadata": {
        "id": "uGZ_cgfgfxyz"
      },
      "source": [
        "🏷️ 12. Generar un dataframe con los datos correspondientes a la Ficha Técnica"
      ]
    },
    {
      "cell_type": "code",
      "metadata": {
        "id": "LJ631c5K8Tx3"
      },
      "source": [
        "ft = soup.findAll(\"table\", {\"class\" : \"tabla\"})[0].findAll(\"td\")"
      ],
      "execution_count": 109,
      "outputs": []
    },
    {
      "cell_type": "code",
      "metadata": {
        "id": "1Dbm4-TDl_gX",
        "colab": {
          "base_uri": "https://localhost:8080/"
        },
        "outputId": "21dbd80f-5057-41d0-aa29-6d92105fbd38"
      },
      "source": [
        "ft"
      ],
      "execution_count": 110,
      "outputs": [
        {
          "output_type": "execute_result",
          "data": {
            "text/plain": [
              "[<td>Título Original</td>,\n",
              " <td>Alice in Wonderland</td>,\n",
              " <td>Título</td>,\n",
              " <td>Alicia en el país de las maravillas</td>,\n",
              " <td>Fecha de estreno</td>,\n",
              " <td>1951-01-01</td>,\n",
              " <td>Dirección</td>,\n",
              " <td>Clyde Geronimi, Wilfred Jackson, Hamilton Luske</td>,\n",
              " <td>Producción</td>,\n",
              " <td>Walt Disney</td>,\n",
              " <td>Guión</td>,\n",
              " <td>Winston Hibler, Ted Sears, Bill Peet, Erdman Penner, Joe Rinaldi, Milt Banta, William Cottrell, Dick Kelsey, Joe Grant, Dick Huemer, Del Connell, Tom Oreb, John Walbridge</td>,\n",
              " <td>Musica</td>,\n",
              " <td>Oliver Walace</td>,\n",
              " <td>País</td>,\n",
              " <td>Estados Unidos</td>,\n",
              " <td>Año</td>,\n",
              " <td>1951</td>,\n",
              " <td>Género</td>,\n",
              " <td>Animación, Fantasía, Aventura, Comedia Musical</td>,\n",
              " <td>Duración</td>,\n",
              " <td>75 minutos</td>]"
            ]
          },
          "metadata": {},
          "execution_count": 110
        }
      ]
    },
    {
      "cell_type": "code",
      "metadata": {
        "colab": {
          "base_uri": "https://localhost:8080/"
        },
        "id": "joUSe4j7x5WR",
        "outputId": "bfa07c7c-c624-47b7-8bf4-0fa5ba0dc485"
      },
      "source": [
        "len(ft)"
      ],
      "execution_count": 111,
      "outputs": [
        {
          "output_type": "execute_result",
          "data": {
            "text/plain": [
              "22"
            ]
          },
          "metadata": {},
          "execution_count": 111
        }
      ]
    },
    {
      "cell_type": "code",
      "metadata": {
        "id": "KGNvHImN-fut"
      },
      "source": [
        "Concepto = []\n",
        "Valor = []\n",
        "\n",
        "for i in list(range(0,len(ft))):\n",
        "  if i%2 == 0:\n",
        "    Concepto.append(ft[i].get_text())\n",
        "  else:\n",
        "    Valor.append(ft[i].get_text())"
      ],
      "execution_count": 112,
      "outputs": []
    },
    {
      "cell_type": "code",
      "metadata": {
        "id": "de_iz-gEyaFH"
      },
      "source": [
        "Df = pd.DataFrame({\"Concepto\" : Concepto,\n",
        "                   \"Valor\" : Valor})"
      ],
      "execution_count": 113,
      "outputs": []
    },
    {
      "cell_type": "code",
      "metadata": {
        "colab": {
          "base_uri": "https://localhost:8080/",
          "height": 387
        },
        "id": "_vv9y8YCy1a7",
        "outputId": "1c3c9bd8-43a0-47f0-a3e5-4ab7f786924a"
      },
      "source": [
        "Df"
      ],
      "execution_count": 114,
      "outputs": [
        {
          "output_type": "execute_result",
          "data": {
            "text/html": [
              "<div>\n",
              "<style scoped>\n",
              "    .dataframe tbody tr th:only-of-type {\n",
              "        vertical-align: middle;\n",
              "    }\n",
              "\n",
              "    .dataframe tbody tr th {\n",
              "        vertical-align: top;\n",
              "    }\n",
              "\n",
              "    .dataframe thead th {\n",
              "        text-align: right;\n",
              "    }\n",
              "</style>\n",
              "<table border=\"1\" class=\"dataframe\">\n",
              "  <thead>\n",
              "    <tr style=\"text-align: right;\">\n",
              "      <th></th>\n",
              "      <th>Concepto</th>\n",
              "      <th>Valor</th>\n",
              "    </tr>\n",
              "  </thead>\n",
              "  <tbody>\n",
              "    <tr>\n",
              "      <th>0</th>\n",
              "      <td>Título Original</td>\n",
              "      <td>Alice in Wonderland</td>\n",
              "    </tr>\n",
              "    <tr>\n",
              "      <th>1</th>\n",
              "      <td>Título</td>\n",
              "      <td>Alicia en el país de las maravillas</td>\n",
              "    </tr>\n",
              "    <tr>\n",
              "      <th>2</th>\n",
              "      <td>Fecha de estreno</td>\n",
              "      <td>1951-01-01</td>\n",
              "    </tr>\n",
              "    <tr>\n",
              "      <th>3</th>\n",
              "      <td>Dirección</td>\n",
              "      <td>Clyde Geronimi, Wilfred Jackson, Hamilton Luske</td>\n",
              "    </tr>\n",
              "    <tr>\n",
              "      <th>4</th>\n",
              "      <td>Producción</td>\n",
              "      <td>Walt Disney</td>\n",
              "    </tr>\n",
              "    <tr>\n",
              "      <th>5</th>\n",
              "      <td>Guión</td>\n",
              "      <td>Winston Hibler, Ted Sears, Bill Peet, Erdman P...</td>\n",
              "    </tr>\n",
              "    <tr>\n",
              "      <th>6</th>\n",
              "      <td>Musica</td>\n",
              "      <td>Oliver Walace</td>\n",
              "    </tr>\n",
              "    <tr>\n",
              "      <th>7</th>\n",
              "      <td>País</td>\n",
              "      <td>Estados Unidos</td>\n",
              "    </tr>\n",
              "    <tr>\n",
              "      <th>8</th>\n",
              "      <td>Año</td>\n",
              "      <td>1951</td>\n",
              "    </tr>\n",
              "    <tr>\n",
              "      <th>9</th>\n",
              "      <td>Género</td>\n",
              "      <td>Animación, Fantasía, Aventura, Comedia Musical</td>\n",
              "    </tr>\n",
              "    <tr>\n",
              "      <th>10</th>\n",
              "      <td>Duración</td>\n",
              "      <td>75 minutos</td>\n",
              "    </tr>\n",
              "  </tbody>\n",
              "</table>\n",
              "</div>"
            ],
            "text/plain": [
              "            Concepto                                              Valor\n",
              "0    Título Original                                Alice in Wonderland\n",
              "1             Título                Alicia en el país de las maravillas\n",
              "2   Fecha de estreno                                         1951-01-01\n",
              "3          Dirección    Clyde Geronimi, Wilfred Jackson, Hamilton Luske\n",
              "4         Producción                                        Walt Disney\n",
              "5              Guión  Winston Hibler, Ted Sears, Bill Peet, Erdman P...\n",
              "6             Musica                                      Oliver Walace\n",
              "7               País                                     Estados Unidos\n",
              "8                Año                                               1951\n",
              "9             Género     Animación, Fantasía, Aventura, Comedia Musical\n",
              "10          Duración                                         75 minutos"
            ]
          },
          "metadata": {},
          "execution_count": 114
        }
      ]
    },
    {
      "cell_type": "markdown",
      "metadata": {
        "id": "BWLPM0AJf01g"
      },
      "source": [
        "🏷️ 13. En base al reparto de las películas realizadas:\n",
        "1. Cuales son los actores que realizaron más de un personaje.\n",
        "2. Qué personajes están desarrollado en la versión de idioma ingles pero no están en su versión latina.\n",
        "3. Que personajes están desarrollado en la versión latina pero no estan en su versión idioma inglés.\n"
      ]
    },
    {
      "cell_type": "code",
      "metadata": {
        "id": "wpm6tM2I_6Dq",
        "colab": {
          "base_uri": "https://localhost:8080/"
        },
        "outputId": "5acdfe2d-9b19-49c3-aa2f-a8259a994205"
      },
      "source": [
        "fr = soup.findAll('table', {'id': 'Reparto'})[0].findAll('td')\n",
        "fr\n"
      ],
      "execution_count": 115,
      "outputs": [
        {
          "output_type": "execute_result",
          "data": {
            "text/plain": [
              "[<td>Alicia</td>,\n",
              " <td>Kathryn Beaumont</td>,\n",
              " <td>Mª Teresita Escobar Rohde</td>,\n",
              " <td>Sombrereo Loco</td>,\n",
              " <td>Ed Wynn</td>,\n",
              " <td>Dogoberto de Cervantes</td>,\n",
              " <td>La Oruga</td>,\n",
              " <td>Richard Haydn</td>,\n",
              " <td>Guillermo Portillo Acosta</td>,\n",
              " <td>El Gato Risón</td>,\n",
              " <td>Sterling Holloway</td>,\n",
              " <td>Irving Lee</td>,\n",
              " <td>La Reina de Corazones</td>,\n",
              " <td>Jerry Colonna (Liebre de Marzo), Verna Felton</td>,\n",
              " <td>Gloria Iturbe</td>,\n",
              " <td>La Morsa</td>,\n",
              " <td>J. Pat O’Malley</td>,\n",
              " <td>Ciro Calderón</td>,\n",
              " <td>La Liebre de Marzo</td>,\n",
              " <td>Roberto Espirú</td>,\n",
              " <td></td>,\n",
              " <td>el Carpintero</td>,\n",
              " <td>J. Pat O’Malley</td>,\n",
              " <td>Carlos Max García</td>,\n",
              " <td>Tweedledee</td>,\n",
              " <td>J. Pat O’Malley</td>,\n",
              " <td>Edmundo Santos</td>,\n",
              " <td>Tweedledum</td>,\n",
              " <td>J. Pat O’Malley</td>,\n",
              " <td>Carlos Max García</td>,\n",
              " <td>El Conejo Blanco</td>,\n",
              " <td>Bill Thompson</td>,\n",
              " <td>Luis Manuel Pelayo</td>,\n",
              " <td>El Dodo</td>,\n",
              " <td>Bill Thompson</td>,\n",
              " <td>Salvador Carrasco</td>,\n",
              " <td>Hermana de Alicia</td>,\n",
              " <td>Heather Angel</td>,\n",
              " <td>Carmen Donna-Dío</td>,\n",
              " <td>Picaporte</td>,\n",
              " <td>Joseph Kearns</td>,\n",
              " <td>Guillermo Portillo Acosta</td>,\n",
              " <td>Bill</td>,\n",
              " <td>Larry Grey</td>,\n",
              " <td>Carlos Max García</td>,\n",
              " <td>el lagart</td>,\n",
              " <td>Larry Grey</td>,\n",
              " <td></td>]"
            ]
          },
          "metadata": {},
          "execution_count": 115
        }
      ]
    },
    {
      "cell_type": "code",
      "metadata": {
        "id": "m1tWJOPVjMOp"
      },
      "source": [
        "patron = [0,1,2]*int(len(fr)/3)\n",
        "patron"
      ],
      "execution_count": null,
      "outputs": []
    },
    {
      "cell_type": "code",
      "metadata": {
        "id": "aEbV2tjYB5T4"
      },
      "source": [
        "Personaje = []\n",
        "Actor = []\n",
        "ActorLatino = []\n",
        "\n",
        "for i in list(range(0,len(patron))):\n",
        "  if patron[i] == 0:\n",
        "    Personaje.append(fr[i].get_text())\n",
        "  elif patron[i] ==1:\n",
        "    Actor.append(fr[i].get_text())\n",
        "  else:\n",
        "    ActorLatino.append(fr[i].get_text())"
      ],
      "execution_count": 127,
      "outputs": []
    },
    {
      "cell_type": "code",
      "metadata": {
        "id": "MW6mAr0AgQFy"
      },
      "source": [
        "df_pelis =  pd.DataFrame({\n",
        "    \"Personaje\" : Personaje,\n",
        "    \"Actor\" : Actor,\n",
        "    \"Actor Latino\" : ActorLatino\n",
        "})"
      ],
      "execution_count": 129,
      "outputs": []
    },
    {
      "cell_type": "code",
      "metadata": {
        "id": "vpuFSulxkIvx",
        "colab": {
          "base_uri": "https://localhost:8080/"
        },
        "outputId": "f5f349af-f708-4965-9cd6-23926ddcaff5"
      },
      "source": [
        "#1. Cuales son los actores que realizaron más de un personaje.\n",
        "df_pelis.Actor.value_counts()"
      ],
      "execution_count": 131,
      "outputs": [
        {
          "output_type": "execute_result",
          "data": {
            "text/plain": [
              "J. Pat O’Malley                                  4\n",
              "Larry Grey                                       2\n",
              "Bill Thompson                                    2\n",
              "Sterling Holloway                                1\n",
              "Richard Haydn                                    1\n",
              "Jerry Colonna (Liebre de Marzo), Verna Felton    1\n",
              "Kathryn Beaumont                                 1\n",
              "Ed Wynn                                          1\n",
              "Heather Angel                                    1\n",
              "Roberto Espirú                                   1\n",
              "Joseph Kearns                                    1\n",
              "Name: Actor, dtype: int64"
            ]
          },
          "metadata": {},
          "execution_count": 131
        }
      ]
    },
    {
      "cell_type": "code",
      "metadata": {
        "id": "2UgcHrLflALG",
        "colab": {
          "base_uri": "https://localhost:8080/",
          "height": 110
        },
        "outputId": "a66389ac-9fa7-4028-b177-0a22c6f55e0a"
      },
      "source": [
        "#2. Que personajes estan desarrollado en la version de idioma ingles pero no estan en su version latina.\n",
        "\n",
        "df_pelis.loc[df_pelis[\"Actor Latino\"] == \"\", :]"
      ],
      "execution_count": 132,
      "outputs": [
        {
          "output_type": "execute_result",
          "data": {
            "text/html": [
              "<div>\n",
              "<style scoped>\n",
              "    .dataframe tbody tr th:only-of-type {\n",
              "        vertical-align: middle;\n",
              "    }\n",
              "\n",
              "    .dataframe tbody tr th {\n",
              "        vertical-align: top;\n",
              "    }\n",
              "\n",
              "    .dataframe thead th {\n",
              "        text-align: right;\n",
              "    }\n",
              "</style>\n",
              "<table border=\"1\" class=\"dataframe\">\n",
              "  <thead>\n",
              "    <tr style=\"text-align: right;\">\n",
              "      <th></th>\n",
              "      <th>Personaje</th>\n",
              "      <th>Actor</th>\n",
              "      <th>Actor Latino</th>\n",
              "    </tr>\n",
              "  </thead>\n",
              "  <tbody>\n",
              "    <tr>\n",
              "      <th>6</th>\n",
              "      <td>La Liebre de Marzo</td>\n",
              "      <td>Roberto Espirú</td>\n",
              "      <td></td>\n",
              "    </tr>\n",
              "    <tr>\n",
              "      <th>15</th>\n",
              "      <td>el lagart</td>\n",
              "      <td>Larry Grey</td>\n",
              "      <td></td>\n",
              "    </tr>\n",
              "  </tbody>\n",
              "</table>\n",
              "</div>"
            ],
            "text/plain": [
              "             Personaje           Actor Actor Latino\n",
              "6   La Liebre de Marzo  Roberto Espirú             \n",
              "15           el lagart      Larry Grey             "
            ]
          },
          "metadata": {},
          "execution_count": 132
        }
      ]
    },
    {
      "cell_type": "code",
      "metadata": {
        "id": "sdpi4XD8kUgn",
        "colab": {
          "base_uri": "https://localhost:8080/",
          "height": 49
        },
        "outputId": "7826de43-8265-4918-d076-08efa0f6cf6d"
      },
      "source": [
        "#3. Que personajes estan desarrollado en la version latina pero no estan en su version idioma ingles.\n",
        "df_pelis.loc[df_pelis[\"Actor\"]== \"\", :]"
      ],
      "execution_count": 133,
      "outputs": [
        {
          "output_type": "execute_result",
          "data": {
            "text/html": [
              "<div>\n",
              "<style scoped>\n",
              "    .dataframe tbody tr th:only-of-type {\n",
              "        vertical-align: middle;\n",
              "    }\n",
              "\n",
              "    .dataframe tbody tr th {\n",
              "        vertical-align: top;\n",
              "    }\n",
              "\n",
              "    .dataframe thead th {\n",
              "        text-align: right;\n",
              "    }\n",
              "</style>\n",
              "<table border=\"1\" class=\"dataframe\">\n",
              "  <thead>\n",
              "    <tr style=\"text-align: right;\">\n",
              "      <th></th>\n",
              "      <th>Personaje</th>\n",
              "      <th>Actor</th>\n",
              "      <th>Actor Latino</th>\n",
              "    </tr>\n",
              "  </thead>\n",
              "  <tbody>\n",
              "  </tbody>\n",
              "</table>\n",
              "</div>"
            ],
            "text/plain": [
              "Empty DataFrame\n",
              "Columns: [Personaje, Actor, Actor Latino]\n",
              "Index: []"
            ]
          },
          "metadata": {},
          "execution_count": 133
        }
      ]
    },
    {
      "cell_type": "markdown",
      "metadata": {
        "id": "2oaC_H_wgfnH"
      },
      "source": [
        "🏷️ 14. Cuantos Actores tiene el reparto de la pelicula de Tim Burton, genere una lista con los nombres de cada uno de ellos."
      ]
    },
    {
      "cell_type": "code",
      "metadata": {
        "id": "pEZZES6OmaOy"
      },
      "source": [
        "movie = soup.findAll(\"table\", {\"id\" : \"filmaffinity_table\"})[0].findAll(\"td\")\n"
      ],
      "execution_count": 142,
      "outputs": []
    },
    {
      "cell_type": "code",
      "metadata": {
        "id": "zhqCcrzTrhlc"
      },
      "source": [
        "Concepto = []\n",
        "Valor = []\n",
        "\n",
        "for i in list(range(0,len(movie))):\n",
        "  if i%2 == 0:\n",
        "   Concepto.append(movie[i].get_text())\n",
        "  else:\n",
        "    Valor.append(movie[i].get_text())\n"
      ],
      "execution_count": 143,
      "outputs": []
    },
    {
      "cell_type": "code",
      "metadata": {
        "id": "0sSAIdkes3i-"
      },
      "source": [
        "movies = pd.DataFrame({\"Concepto\" : Concepto,\n",
        "                       \"Valor\" : Valor\n",
        "})"
      ],
      "execution_count": 145,
      "outputs": []
    },
    {
      "cell_type": "code",
      "metadata": {
        "id": "hYjaOlHStSxO"
      },
      "source": [
        "Reparto = movies.loc[movies.Concepto == \"Reparto\", :].reset_index(drop = True)"
      ],
      "execution_count": 148,
      "outputs": []
    },
    {
      "cell_type": "code",
      "metadata": {
        "colab": {
          "base_uri": "https://localhost:8080/",
          "height": 79
        },
        "id": "3YAprTpgugYN",
        "outputId": "dcb74e88-5153-4052-bd9c-c3011dc5458d"
      },
      "source": [
        "Reparto"
      ],
      "execution_count": 152,
      "outputs": [
        {
          "output_type": "execute_result",
          "data": {
            "text/html": [
              "<div>\n",
              "<style scoped>\n",
              "    .dataframe tbody tr th:only-of-type {\n",
              "        vertical-align: middle;\n",
              "    }\n",
              "\n",
              "    .dataframe tbody tr th {\n",
              "        vertical-align: top;\n",
              "    }\n",
              "\n",
              "    .dataframe thead th {\n",
              "        text-align: right;\n",
              "    }\n",
              "</style>\n",
              "<table border=\"1\" class=\"dataframe\">\n",
              "  <thead>\n",
              "    <tr style=\"text-align: right;\">\n",
              "      <th></th>\n",
              "      <th>Concepto</th>\n",
              "      <th>Valor</th>\n",
              "    </tr>\n",
              "  </thead>\n",
              "  <tbody>\n",
              "    <tr>\n",
              "      <th>0</th>\n",
              "      <td>Reparto</td>\n",
              "      <td>Mia Wasikowska, Johnny Depp, Helena Bonham Car...</td>\n",
              "    </tr>\n",
              "  </tbody>\n",
              "</table>\n",
              "</div>"
            ],
            "text/plain": [
              "  Concepto                                              Valor\n",
              "0  Reparto  Mia Wasikowska, Johnny Depp, Helena Bonham Car..."
            ]
          },
          "metadata": {},
          "execution_count": 152
        }
      ]
    },
    {
      "cell_type": "code",
      "metadata": {
        "colab": {
          "base_uri": "https://localhost:8080/"
        },
        "id": "tjofgIiWtr2x",
        "outputId": "9d92c326-2448-4401-f184-e1de70f2a64f"
      },
      "source": [
        "Reparto_ = Reparto['Valor'][0].split(',')\n",
        "Reparto_"
      ],
      "execution_count": 157,
      "outputs": [
        {
          "output_type": "execute_result",
          "data": {
            "text/plain": [
              "['Mia Wasikowska',\n",
              " ' Johnny Depp',\n",
              " ' Helena Bonham Carter',\n",
              " ' Anne Hathaway',\n",
              " ' Crispin Glover',\n",
              " ' Matt Lucas',\n",
              " ' Marton Csokas',\n",
              " ' Tim Pigott-Smith',\n",
              " ' Lindsay Duncan',\n",
              " ' Geraldine James',\n",
              " ' Frances de la Tour',\n",
              " ' Jemma Powell',\n",
              " ' John Hopkins',\n",
              " ' Eleanor Gecks',\n",
              " ' Eleanor Tomlinson',\n",
              " ' Cortney Palm']"
            ]
          },
          "metadata": {},
          "execution_count": 157
        }
      ]
    },
    {
      "cell_type": "markdown",
      "metadata": {
        "id": "XW-pfL6igm6P"
      },
      "source": [
        "🏷️ 15. Generar una lista para mostrar todos los datos relacionados a las nominaciones y premios."
      ]
    },
    {
      "cell_type": "code",
      "metadata": {
        "id": "qTAqHWfr_vFZ",
        "colab": {
          "base_uri": "https://localhost:8080/"
        },
        "outputId": "9f67ad71-45fa-4c32-87a7-c1b60923f50e"
      },
      "source": [
        "premios = soup.findAll(\"ol\", {\"id\": \"premios\"})[0].findAll(\"li\")\n",
        "premios = [i.get_text()   for i in premios]\n",
        "premios"
      ],
      "execution_count": 164,
      "outputs": [
        {
          "output_type": "execute_result",
          "data": {
            "text/plain": [
              "['2010: 2 Oscars: Mejor dirección artística y vestuario. 3 nominaciones: efectos visuales',\n",
              " '2010: Globos de Oro: 3 nominaciones, incluyendo Mejor película comedia o musical',\n",
              " '2010: 2 Premios BAFTA: Mejor vestuario y maquillaje y peluquería. 5 nominaciones',\n",
              " '2010: Satellite Awards: Mejor vestuario y efectos visuales',\n",
              " \"2010: 2 Critics' Choice Awards: Mejor vestuario y maquillaje. 4 nominaciones\"]"
            ]
          },
          "metadata": {},
          "execution_count": 164
        }
      ]
    },
    {
      "cell_type": "code",
      "metadata": {
        "id": "OOa3sS8qvsZU"
      },
      "source": [
        ""
      ],
      "execution_count": null,
      "outputs": []
    },
    {
      "cell_type": "markdown",
      "metadata": {
        "id": "q1zvfuItg3w3"
      },
      "source": [
        "🏷️ 16. Genere un dataframe con las críticas:\n",
        "* Una de las columnas debe tener el nombre de la persona o empresa que lo realizó\n",
        "* Otra columna debe contener la crítica.\n",
        "\n"
      ]
    },
    {
      "cell_type": "code",
      "metadata": {
        "id": "QQ1bCpvkhOV_",
        "colab": {
          "base_uri": "https://localhost:8080/"
        },
        "outputId": "99eccc35-0ecd-4e7e-8ff5-bfb2cd39a8a3"
      },
      "source": [
        "criticas = soup.findAll(\"ul\", {\"id\" : \"criticas\"})[0].findAll(\"li\")\n",
        "criticas = [i.get_text() for i in criticas]\n",
        "criticas"
      ],
      "execution_count": 167,
      "outputs": [
        {
          "output_type": "execute_result",
          "data": {
            "text/plain": [
              "['FilmAffinity: En su estreno en cines 3D, la película fue precedida del cortometraje de animación español (nominado al Oscar) \"La dama y la muerte\". Click para votarlo. ',\n",
              " 'Luis Martínez, Diario El Mundo: \"Se comprende mal que Burton haya convertido la anarquía narrativa-existencial de uno de los libros más rigurosamente libertinos jamás escrito en algo tan relamido. De hecho, por momentos, no se entiende nada. (...) Burton, sencillamente, aburre.\" ',\n",
              " 'Carlos Boyero, Diario El País: \"Hay bastantes cosas que funcionan admirablemente en esta película, como la capacidad hipnótica de sus imágenes (...) un clima que te mantiene expectante. (...) Sin embargo, me cansa un poquito la grandilocuencia delirante de Depp. Es una película que ves y escuchas con agrado, pero el poso que deja es escaso.\" ',\n",
              " 'Jordi Costa, Fotogramas: \"Película virtuosa (...) pero resulta inevitable preguntarse qué sustenta el sesgo inquietante y crepuscular de su relectura (...) Burton ha aprendido a dominar su caligrafía extraña, para dejar claro que ya no tiene demasiado que contar.\" ',\n",
              " 'Federico Marín Bellón, Diario ABC: \"Empieza con brillantez, se aburre en la mayor parte de su recorrido por el país de nunca máis y termina con una batalla de lo más vistosa, colocada justo a tiempo para que el personal no se pregunte por qué demonios lleva hora y media mirando la pantalla\"',\n",
              " 'Todd McCarthy, Variety:  \"Tiene sus momentos de deleite, humor y deslumbramiento. Pero también se hace más común a medida que avanza (...) no todo ha salido mal, al menos no del todo. (...) La película se siente mucho más convencional de lo que debería.\" ',\n",
              " 'Michael Rechtshaffen, The Hollywood Reporter: \"Verdadera y locamente maravillosa. (...) Ni siquiera el estilo extravagante marca de la casa del director te prepara para el espectáculo intensamente disfrutable que es \\'Alice in Wonderland\\'\"']"
            ]
          },
          "metadata": {},
          "execution_count": 167
        }
      ]
    },
    {
      "cell_type": "code",
      "metadata": {
        "id": "wGfUqjJfwk4N"
      },
      "source": [
        "Critico = [i.split(\":\")[0] for i in criticas  ]\n",
        "Critica = [i.split(\":\")[1] for i in criticas]"
      ],
      "execution_count": 170,
      "outputs": []
    },
    {
      "cell_type": "code",
      "metadata": {
        "colab": {
          "base_uri": "https://localhost:8080/",
          "height": 264
        },
        "id": "kjofS-vuxFrt",
        "outputId": "f16f2933-e4f4-430a-9dd2-accde26fb8fa"
      },
      "source": [
        "pd.DataFrame({ \"Critico\" : Critico,\n",
        "              \"Critica\" : Critica})"
      ],
      "execution_count": 172,
      "outputs": [
        {
          "output_type": "execute_result",
          "data": {
            "text/html": [
              "<div>\n",
              "<style scoped>\n",
              "    .dataframe tbody tr th:only-of-type {\n",
              "        vertical-align: middle;\n",
              "    }\n",
              "\n",
              "    .dataframe tbody tr th {\n",
              "        vertical-align: top;\n",
              "    }\n",
              "\n",
              "    .dataframe thead th {\n",
              "        text-align: right;\n",
              "    }\n",
              "</style>\n",
              "<table border=\"1\" class=\"dataframe\">\n",
              "  <thead>\n",
              "    <tr style=\"text-align: right;\">\n",
              "      <th></th>\n",
              "      <th>Critico</th>\n",
              "      <th>Critica</th>\n",
              "    </tr>\n",
              "  </thead>\n",
              "  <tbody>\n",
              "    <tr>\n",
              "      <th>0</th>\n",
              "      <td>FilmAffinity</td>\n",
              "      <td>En su estreno en cines 3D, la película fue pr...</td>\n",
              "    </tr>\n",
              "    <tr>\n",
              "      <th>1</th>\n",
              "      <td>Luis Martínez, Diario El Mundo</td>\n",
              "      <td>\"Se comprende mal que Burton haya convertido ...</td>\n",
              "    </tr>\n",
              "    <tr>\n",
              "      <th>2</th>\n",
              "      <td>Carlos Boyero, Diario El País</td>\n",
              "      <td>\"Hay bastantes cosas que funcionan admirablem...</td>\n",
              "    </tr>\n",
              "    <tr>\n",
              "      <th>3</th>\n",
              "      <td>Jordi Costa, Fotogramas</td>\n",
              "      <td>\"Película virtuosa (...) pero resulta inevita...</td>\n",
              "    </tr>\n",
              "    <tr>\n",
              "      <th>4</th>\n",
              "      <td>Federico Marín Bellón, Diario ABC</td>\n",
              "      <td>\"Empieza con brillantez, se aburre en la mayo...</td>\n",
              "    </tr>\n",
              "    <tr>\n",
              "      <th>5</th>\n",
              "      <td>Todd McCarthy, Variety</td>\n",
              "      <td>\"Tiene sus momentos de deleite, humor y desl...</td>\n",
              "    </tr>\n",
              "    <tr>\n",
              "      <th>6</th>\n",
              "      <td>Michael Rechtshaffen, The Hollywood Reporter</td>\n",
              "      <td>\"Verdadera y locamente maravillosa. (...) Ni ...</td>\n",
              "    </tr>\n",
              "  </tbody>\n",
              "</table>\n",
              "</div>"
            ],
            "text/plain": [
              "                                        Critico                                            Critica\n",
              "0                                  FilmAffinity   En su estreno en cines 3D, la película fue pr...\n",
              "1                Luis Martínez, Diario El Mundo   \"Se comprende mal que Burton haya convertido ...\n",
              "2                 Carlos Boyero, Diario El País   \"Hay bastantes cosas que funcionan admirablem...\n",
              "3                       Jordi Costa, Fotogramas   \"Película virtuosa (...) pero resulta inevita...\n",
              "4             Federico Marín Bellón, Diario ABC   \"Empieza con brillantez, se aburre en la mayo...\n",
              "5                        Todd McCarthy, Variety    \"Tiene sus momentos de deleite, humor y desl...\n",
              "6  Michael Rechtshaffen, The Hollywood Reporter   \"Verdadera y locamente maravillosa. (...) Ni ..."
            ]
          },
          "metadata": {},
          "execution_count": 172
        }
      ]
    }
  ]
}