{
  "nbformat": 4,
  "nbformat_minor": 0,
  "metadata": {
    "colab": {
      "name": "03-Dataframes_pandas_merge.ipynb",
      "provenance": [],
      "collapsed_sections": []
    },
    "kernelspec": {
      "name": "python3",
      "display_name": "Python 3"
    }
  },
  "cells": [
    {
      "cell_type": "markdown",
      "metadata": {
        "id": "xukFEhNLle_K"
      },
      "source": [
        " <img src=\"https://eant.tech/imagenes/logo.png\" width=25% height=80%  >"
      ]
    },
    {
      "cell_type": "markdown",
      "metadata": {
        "id": "SNNIZymOepEv"
      },
      "source": [
        "## <img src=\"http://icons.iconarchive.com/icons/cornmanthe3rd/plex/256/Other-python-icon.png\" width=\"40\"> Ejercicio New York Flights ✈️ 🧳 🗽\n",
        "\n",
        "\n"
      ]
    },
    {
      "cell_type": "markdown",
      "metadata": {
        "id": "Als_Kjbfnrr8"
      },
      "source": [
        "<CENTER>\n",
        "<img src=\"https://img.freepik.com/free-vector/plane-fly-cloud-sky-illustration-banner-concept-travel-tourism-jet-direction-holiday-flat_159757-154.jpg?size=626&ext=jpg\" width=\"60%\">\n",
        "</CENTER>"
      ]
    },
    {
      "cell_type": "markdown",
      "metadata": {
        "id": "6HMxdzRnfNqk"
      },
      "source": [
        "Este ejercicio vamos a trabajar con los datos que se encuentran en el paquete **nycflights13**, este paquete contiene datos de las aerolíneas para todos los vuelos que pasaron por aeropuertos de Nueva York en 2013. También incluye 'metadatos' útiles sobre `aerolíneas`, `aeropuertos`, `clima` y `aviones`.\n",
        "\n",
        "Diagrama de entidad relación [DER]\n",
        "\n",
        "<center>\n",
        "<img src=\"https://i.ibb.co/TYwvDqY/nycflights.png\" alt=\"nycflights\" border=\"0\" width=\"40%\">\n",
        "</center>"
      ]
    },
    {
      "cell_type": "code",
      "metadata": {
        "id": "8lGGTiJJN2v7"
      },
      "source": [
        "# INSTALAR EL PAQUETE \n",
        "!pip install nycflights13"
      ],
      "execution_count": null,
      "outputs": []
    },
    {
      "cell_type": "code",
      "metadata": {
        "id": "YnqLqMq4epYN"
      },
      "source": [
        "import pandas as pd\n",
        "import nycflights13 as nyc"
      ],
      "execution_count": null,
      "outputs": []
    },
    {
      "cell_type": "markdown",
      "metadata": {
        "id": "QXUJNHl2gW3U"
      },
      "source": [
        "🔹 Importar los dataframes que estan en este paquete, los mismos deben tener los siguientes nombres: \n",
        "* `clima`,\n",
        "* `vuelos`,\n",
        "* `aerolineas`,\n",
        "* `aeropuerto`,\n",
        "* `planes`"
      ]
    },
    {
      "cell_type": "code",
      "metadata": {
        "id": "IQyJxWMzgWLL"
      },
      "source": [
        ""
      ],
      "execution_count": null,
      "outputs": []
    },
    {
      "cell_type": "markdown",
      "metadata": {
        "id": "ArdDpprBlk-q"
      },
      "source": [
        "📝 Recordemos los tipos de joins que podiamos realizar en **sql**\n",
        "\n",
        "<center>\n",
        "<img src=\"https://estradawebgroup.com/ImagesUpload/sql-joins.jpg\" width=\"40%\">\n",
        "</center>"
      ]
    },
    {
      "cell_type": "markdown",
      "metadata": {
        "id": "KP9zei-viX2m"
      },
      "source": [
        "🔹 Generar un dataframe que contenga los datos de los vuelos y que contenga una columna con el nombre de la aerolinea.\n",
        "El nombre de la columna nueva debe ser `aerolinea_nombre`"
      ]
    },
    {
      "cell_type": "code",
      "metadata": {
        "id": "8Qebh6-Eko1X"
      },
      "source": [
        ""
      ],
      "execution_count": null,
      "outputs": []
    },
    {
      "cell_type": "markdown",
      "metadata": {
        "id": "DXgnBvVBmgrs"
      },
      "source": [
        "🔹 Modificar el dataset generado en el paso anterior para agregar dos columnas que contenga el nombre de la aeropuerto destino y origen.\n",
        "El nombre de la columna nueva debe ser `aeropuerto_dest` y `aeropuerto_origen`"
      ]
    },
    {
      "cell_type": "code",
      "metadata": {
        "id": "cCBI-xsHkcAV"
      },
      "source": [
        ""
      ],
      "execution_count": null,
      "outputs": []
    },
    {
      "cell_type": "markdown",
      "metadata": {
        "id": "kQdNljZjqzvg"
      },
      "source": [
        "🔹 Hay algun aeropuerto que no tenga cargada la parametria en la tabla aeropuertos? En el caso de que exista alguno retornar cuales son sus codigos."
      ]
    },
    {
      "cell_type": "code",
      "metadata": {
        "id": "j7_kBeTfkcSY"
      },
      "source": [
        ""
      ],
      "execution_count": null,
      "outputs": []
    },
    {
      "cell_type": "code",
      "metadata": {
        "id": "YH9P7miikcF9"
      },
      "source": [
        ""
      ],
      "execution_count": null,
      "outputs": []
    },
    {
      "cell_type": "markdown",
      "metadata": {
        "id": "VSM8Hc-5sySK"
      },
      "source": [
        "🔹 Se obtuvieron los datos de los vuelos para el 2014, por lo cual es necesario generar un dataframe denominado `vuelos_totales` que se encuentren los datos que estan en el dataset de `vuelos` y los que se encuentran en el archivo adjunto denominado `flights14.csv`"
      ]
    },
    {
      "cell_type": "markdown",
      "metadata": {
        "id": "sv8FTZKfemhE"
      },
      "source": [
        "1. importar datos de vuelos14\n",
        "1.1. validar si las columnas vuelos 14 son iguales a las columnas de vuelos 13\n",
        "1.2 no son iguales validar cuales son las columnsa que tienen comun.\n",
        "1.3 genero el dataframe vuelos14 con las columnas seleccionadas \n",
        "1.4 genero el dataframe vuelos13 con las mismas columnas que vuelos14\n",
        "------\n",
        "2. concat.\n"
      ]
    },
    {
      "cell_type": "code",
      "metadata": {
        "id": "p5hH1XHmuYQ2"
      },
      "source": [
        ""
      ],
      "execution_count": null,
      "outputs": []
    }
  ]
}