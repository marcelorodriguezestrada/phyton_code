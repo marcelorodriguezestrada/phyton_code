{
  "nbformat": 4,
  "nbformat_minor": 0,
  "metadata": {
    "colab": {
      "name": "03_Tuberculosis_CleaningData (1).ipynb",
      "provenance": [],
      "collapsed_sections": []
    },
    "kernelspec": {
      "name": "python3",
      "display_name": "Python 3"
    }
  },
  "cells": [
    {
      "cell_type": "markdown",
      "metadata": {
        "id": "A51UFEH4GpQg"
      },
      "source": [
        " <img src=\"https://eant.tech/imagenes/logo.png\" width=25% height=80%  >"
      ]
    },
    {
      "cell_type": "markdown",
      "metadata": {
        "id": "PQA27U5sbT-v"
      },
      "source": [
        "## Global Health Observatory data repository\n",
        "\n",
        "El siguiente conjunto de datos que vamos a trabjar contiene datos sobre las muertes causadas por Tuberculosis, estos datos son recopilados por el observatorio de la Organizacion mundial de la salud.\n",
        "Los datos se pueden descargar del siguiente [link](\n",
        "https://apps.who.int/gho/data/node.main.1317?lang=en)\n",
        "\n",
        "<center>\n",
        "<img src=\"https://i.ibb.co/qDWjWCj/logo-who.jpg\" alt=\"logo-who\" border=\"0\">\n",
        "</center>"
      ]
    },
    {
      "cell_type": "markdown",
      "metadata": {
        "id": "RISChrETIbRO"
      },
      "source": [
        "🏷️ 1. Importar pandas"
      ]
    },
    {
      "cell_type": "code",
      "metadata": {
        "id": "jvyPqyfZIa4-"
      },
      "source": [
        "import pandas as pd"
      ],
      "execution_count": 1,
      "outputs": []
    },
    {
      "cell_type": "markdown",
      "metadata": {
        "id": "kTDdJRZpIMu3"
      },
      "source": [
        "🏷️ 2. Importar el dataframe que se encuentra en la siguiente URL."
      ]
    },
    {
      "cell_type": "code",
      "metadata": {
        "id": "39dOYJSwITfj"
      },
      "source": [
        "url='https://docs.google.com/spreadsheets/d/e/2PACX-1vR84JOFFZnonTTDgbtc686VZM4w7k-TvJ88OZL82srRyRgS_Aa1N127YYRyI0IalIzWtM3MYnUg2Yxg/pub?output=csv'"
      ],
      "execution_count": 2,
      "outputs": []
    },
    {
      "cell_type": "code",
      "metadata": {
        "id": "kyOMFdSJbYsO"
      },
      "source": [
        "df = pd.read_csv(url, sep = \",\")"
      ],
      "execution_count": 3,
      "outputs": []
    },
    {
      "cell_type": "markdown",
      "metadata": {
        "id": "83q06jhrIYnW"
      },
      "source": [
        "🏷️ 3. Visualizar las primeras filas del datafame"
      ]
    },
    {
      "cell_type": "code",
      "metadata": {
        "id": "UsmD2UvXbkgL",
        "colab": {
          "base_uri": "https://localhost:8080/",
          "height": 203
        },
        "outputId": "ea17afdf-4b97-45da-8d42-3bbbb4fa1720"
      },
      "source": [
        "df.head()"
      ],
      "execution_count": 4,
      "outputs": [
        {
          "output_type": "execute_result",
          "data": {
            "text/html": [
              "<div>\n",
              "<style scoped>\n",
              "    .dataframe tbody tr th:only-of-type {\n",
              "        vertical-align: middle;\n",
              "    }\n",
              "\n",
              "    .dataframe tbody tr th {\n",
              "        vertical-align: top;\n",
              "    }\n",
              "\n",
              "    .dataframe thead th {\n",
              "        text-align: right;\n",
              "    }\n",
              "</style>\n",
              "<table border=\"1\" class=\"dataframe\">\n",
              "  <thead>\n",
              "    <tr style=\"text-align: right;\">\n",
              "      <th></th>\n",
              "      <th>Country</th>\n",
              "      <th>Year</th>\n",
              "      <th>Number of deaths due to tuberculosis, excluding HIV</th>\n",
              "      <th>Deaths due to tuberculosis among HIV-negative people (per 100 000 population)</th>\n",
              "    </tr>\n",
              "  </thead>\n",
              "  <tbody>\n",
              "    <tr>\n",
              "      <th>0</th>\n",
              "      <td>Afghanistan</td>\n",
              "      <td>2018</td>\n",
              "      <td>11000 [6400-16000]</td>\n",
              "      <td>29 [17-44]</td>\n",
              "    </tr>\n",
              "    <tr>\n",
              "      <th>1</th>\n",
              "      <td>Afghanistan</td>\n",
              "      <td>2017</td>\n",
              "      <td>11000 [6400-16000]</td>\n",
              "      <td>30 [18-45]</td>\n",
              "    </tr>\n",
              "    <tr>\n",
              "      <th>2</th>\n",
              "      <td>Afghanistan</td>\n",
              "      <td>2016</td>\n",
              "      <td>12000 [7100-18000]</td>\n",
              "      <td>34 [20-51]</td>\n",
              "    </tr>\n",
              "    <tr>\n",
              "      <th>3</th>\n",
              "      <td>Afghanistan</td>\n",
              "      <td>2015</td>\n",
              "      <td>14000 [8000-20000]</td>\n",
              "      <td>39 [23-59]</td>\n",
              "    </tr>\n",
              "    <tr>\n",
              "      <th>4</th>\n",
              "      <td>Afghanistan</td>\n",
              "      <td>2014</td>\n",
              "      <td>14000 [8400-22000]</td>\n",
              "      <td>43 [25-65]</td>\n",
              "    </tr>\n",
              "  </tbody>\n",
              "</table>\n",
              "</div>"
            ],
            "text/plain": [
              "       Country  ...  Deaths due to tuberculosis among HIV-negative people (per 100 000 population)\n",
              "0  Afghanistan  ...                                         29 [17-44]                            \n",
              "1  Afghanistan  ...                                         30 [18-45]                            \n",
              "2  Afghanistan  ...                                         34 [20-51]                            \n",
              "3  Afghanistan  ...                                         39 [23-59]                            \n",
              "4  Afghanistan  ...                                         43 [25-65]                            \n",
              "\n",
              "[5 rows x 4 columns]"
            ]
          },
          "metadata": {},
          "execution_count": 4
        }
      ]
    },
    {
      "cell_type": "markdown",
      "metadata": {
        "id": "pKxuQLImkl7R"
      },
      "source": [
        "🏷️ 4. Modificar los nombres de las columnas por los siguientes:\n",
        "> * 'Country'\n",
        "> * 'year'\n",
        "> * 'NroDeaths_ehiv'\n",
        "> * 'NroDeaths_nhiv'"
      ]
    },
    {
      "cell_type": "code",
      "metadata": {
        "id": "89M0FiI4ciAv"
      },
      "source": [
        "df.columns = ['Country','year','NroDeaths_ehiv',\"NroDeaths_nhiv\"]"
      ],
      "execution_count": 6,
      "outputs": []
    },
    {
      "cell_type": "code",
      "metadata": {
        "colab": {
          "base_uri": "https://localhost:8080/",
          "height": 417
        },
        "id": "rOqt9nyI2twA",
        "outputId": "9156766f-0ddc-4088-b506-67119c0e05f5"
      },
      "source": [
        "df"
      ],
      "execution_count": 7,
      "outputs": [
        {
          "output_type": "execute_result",
          "data": {
            "text/html": [
              "<div>\n",
              "<style scoped>\n",
              "    .dataframe tbody tr th:only-of-type {\n",
              "        vertical-align: middle;\n",
              "    }\n",
              "\n",
              "    .dataframe tbody tr th {\n",
              "        vertical-align: top;\n",
              "    }\n",
              "\n",
              "    .dataframe thead th {\n",
              "        text-align: right;\n",
              "    }\n",
              "</style>\n",
              "<table border=\"1\" class=\"dataframe\">\n",
              "  <thead>\n",
              "    <tr style=\"text-align: right;\">\n",
              "      <th></th>\n",
              "      <th>Country</th>\n",
              "      <th>year</th>\n",
              "      <th>NroDeaths_ehiv</th>\n",
              "      <th>NroDeaths_nhiv</th>\n",
              "    </tr>\n",
              "  </thead>\n",
              "  <tbody>\n",
              "    <tr>\n",
              "      <th>0</th>\n",
              "      <td>Afghanistan</td>\n",
              "      <td>2018</td>\n",
              "      <td>11000 [6400-16000]</td>\n",
              "      <td>29 [17-44]</td>\n",
              "    </tr>\n",
              "    <tr>\n",
              "      <th>1</th>\n",
              "      <td>Afghanistan</td>\n",
              "      <td>2017</td>\n",
              "      <td>11000 [6400-16000]</td>\n",
              "      <td>30 [18-45]</td>\n",
              "    </tr>\n",
              "    <tr>\n",
              "      <th>2</th>\n",
              "      <td>Afghanistan</td>\n",
              "      <td>2016</td>\n",
              "      <td>12000 [7100-18000]</td>\n",
              "      <td>34 [20-51]</td>\n",
              "    </tr>\n",
              "    <tr>\n",
              "      <th>3</th>\n",
              "      <td>Afghanistan</td>\n",
              "      <td>2015</td>\n",
              "      <td>14000 [8000-20000]</td>\n",
              "      <td>39 [23-59]</td>\n",
              "    </tr>\n",
              "    <tr>\n",
              "      <th>4</th>\n",
              "      <td>Afghanistan</td>\n",
              "      <td>2014</td>\n",
              "      <td>14000 [8400-22000]</td>\n",
              "      <td>43 [25-65]</td>\n",
              "    </tr>\n",
              "    <tr>\n",
              "      <th>...</th>\n",
              "      <td>...</td>\n",
              "      <td>...</td>\n",
              "      <td>...</td>\n",
              "      <td>...</td>\n",
              "    </tr>\n",
              "    <tr>\n",
              "      <th>3647</th>\n",
              "      <td>Zimbabwe</td>\n",
              "      <td>2004</td>\n",
              "      <td>3000 [1200-5600]</td>\n",
              "      <td>25 [10-47]</td>\n",
              "    </tr>\n",
              "    <tr>\n",
              "      <th>3648</th>\n",
              "      <td>Zimbabwe</td>\n",
              "      <td>2003</td>\n",
              "      <td>2900 [1200-5400]</td>\n",
              "      <td>24 [9.6-45]</td>\n",
              "    </tr>\n",
              "    <tr>\n",
              "      <th>3649</th>\n",
              "      <td>Zimbabwe</td>\n",
              "      <td>2002</td>\n",
              "      <td>2500 [990-4800]</td>\n",
              "      <td>21 [8.3-40]</td>\n",
              "    </tr>\n",
              "    <tr>\n",
              "      <th>3650</th>\n",
              "      <td>Zimbabwe</td>\n",
              "      <td>2001</td>\n",
              "      <td>2800 [1100-5300]</td>\n",
              "      <td>23 [9.1-44]</td>\n",
              "    </tr>\n",
              "    <tr>\n",
              "      <th>3651</th>\n",
              "      <td>Zimbabwe</td>\n",
              "      <td>2000</td>\n",
              "      <td>3100 [1200-6000]</td>\n",
              "      <td>26 [10-51]</td>\n",
              "    </tr>\n",
              "  </tbody>\n",
              "</table>\n",
              "<p>3652 rows × 4 columns</p>\n",
              "</div>"
            ],
            "text/plain": [
              "          Country  year      NroDeaths_ehiv NroDeaths_nhiv\n",
              "0     Afghanistan  2018  11000 [6400-16000]     29 [17-44]\n",
              "1     Afghanistan  2017  11000 [6400-16000]     30 [18-45]\n",
              "2     Afghanistan  2016  12000 [7100-18000]     34 [20-51]\n",
              "3     Afghanistan  2015  14000 [8000-20000]     39 [23-59]\n",
              "4     Afghanistan  2014  14000 [8400-22000]     43 [25-65]\n",
              "...           ...   ...                 ...            ...\n",
              "3647     Zimbabwe  2004    3000 [1200-5600]     25 [10-47]\n",
              "3648     Zimbabwe  2003    2900 [1200-5400]    24 [9.6-45]\n",
              "3649     Zimbabwe  2002     2500 [990-4800]    21 [8.3-40]\n",
              "3650     Zimbabwe  2001    2800 [1100-5300]    23 [9.1-44]\n",
              "3651     Zimbabwe  2000    3100 [1200-6000]     26 [10-51]\n",
              "\n",
              "[3652 rows x 4 columns]"
            ]
          },
          "metadata": {},
          "execution_count": 7
        }
      ]
    },
    {
      "cell_type": "markdown",
      "metadata": {
        "id": "DHiGa1ArkyqB"
      },
      "source": [
        "🏷️ 5. Separar las variable NroDeaths_ehiv y NroDeaths_nhiv en las siguientes:\n",
        "\n",
        "* NroDeaths_ehiv\n",
        " - NroDeaths_ehiv_value\n",
        " - NroDeaths_ehiv_intervalo\n",
        "\n",
        "* NroDeaths_nhiv\n",
        " - NroDeaths_nhiv_value\n",
        " - NroDeaths_nhiv_intervalo\n"
      ]
    },
    {
      "cell_type": "code",
      "metadata": {
        "id": "29Zih_f6c6UN"
      },
      "source": [
        "df[\"NroDeaths_ehiv_value\"] =  [ i.split(\" \")[0] for i in df[\"NroDeaths_ehiv\"]]\n",
        "df[\"NroDeaths_ehiv_intervalo\"] = [ i.split(\" \")[1] for i in df[\"NroDeaths_ehiv\"]]"
      ],
      "execution_count": 10,
      "outputs": []
    },
    {
      "cell_type": "code",
      "metadata": {
        "id": "An3n-jbs4KAL"
      },
      "source": [
        "df[\"NroDeaths_nhiv_value\"] =  [ i.split(\" \")[0] for i in df[\"NroDeaths_nhiv\"]]\n",
        "df[\"NroDeaths_nhiv_intervalo\"] = [ i.split(\" \")[1] for i in df[\"NroDeaths_nhiv\"]]"
      ],
      "execution_count": 12,
      "outputs": []
    },
    {
      "cell_type": "code",
      "metadata": {
        "colab": {
          "base_uri": "https://localhost:8080/",
          "height": 417
        },
        "id": "fNpjgm-g4ejz",
        "outputId": "2c426f60-5ef3-4531-e0ff-b1d1ae784220"
      },
      "source": [
        "df"
      ],
      "execution_count": 13,
      "outputs": [
        {
          "output_type": "execute_result",
          "data": {
            "text/html": [
              "<div>\n",
              "<style scoped>\n",
              "    .dataframe tbody tr th:only-of-type {\n",
              "        vertical-align: middle;\n",
              "    }\n",
              "\n",
              "    .dataframe tbody tr th {\n",
              "        vertical-align: top;\n",
              "    }\n",
              "\n",
              "    .dataframe thead th {\n",
              "        text-align: right;\n",
              "    }\n",
              "</style>\n",
              "<table border=\"1\" class=\"dataframe\">\n",
              "  <thead>\n",
              "    <tr style=\"text-align: right;\">\n",
              "      <th></th>\n",
              "      <th>Country</th>\n",
              "      <th>year</th>\n",
              "      <th>NroDeaths_ehiv</th>\n",
              "      <th>NroDeaths_nhiv</th>\n",
              "      <th>NroDeaths_ehiv_value</th>\n",
              "      <th>NroDeaths_ehiv_intervalo</th>\n",
              "      <th>NroDeaths_nhiv_value</th>\n",
              "      <th>NroDeaths_nhiv_intervalo</th>\n",
              "    </tr>\n",
              "  </thead>\n",
              "  <tbody>\n",
              "    <tr>\n",
              "      <th>0</th>\n",
              "      <td>Afghanistan</td>\n",
              "      <td>2018</td>\n",
              "      <td>11000 [6400-16000]</td>\n",
              "      <td>29 [17-44]</td>\n",
              "      <td>11000</td>\n",
              "      <td>[6400-16000]</td>\n",
              "      <td>29</td>\n",
              "      <td>[17-44]</td>\n",
              "    </tr>\n",
              "    <tr>\n",
              "      <th>1</th>\n",
              "      <td>Afghanistan</td>\n",
              "      <td>2017</td>\n",
              "      <td>11000 [6400-16000]</td>\n",
              "      <td>30 [18-45]</td>\n",
              "      <td>11000</td>\n",
              "      <td>[6400-16000]</td>\n",
              "      <td>30</td>\n",
              "      <td>[18-45]</td>\n",
              "    </tr>\n",
              "    <tr>\n",
              "      <th>2</th>\n",
              "      <td>Afghanistan</td>\n",
              "      <td>2016</td>\n",
              "      <td>12000 [7100-18000]</td>\n",
              "      <td>34 [20-51]</td>\n",
              "      <td>12000</td>\n",
              "      <td>[7100-18000]</td>\n",
              "      <td>34</td>\n",
              "      <td>[20-51]</td>\n",
              "    </tr>\n",
              "    <tr>\n",
              "      <th>3</th>\n",
              "      <td>Afghanistan</td>\n",
              "      <td>2015</td>\n",
              "      <td>14000 [8000-20000]</td>\n",
              "      <td>39 [23-59]</td>\n",
              "      <td>14000</td>\n",
              "      <td>[8000-20000]</td>\n",
              "      <td>39</td>\n",
              "      <td>[23-59]</td>\n",
              "    </tr>\n",
              "    <tr>\n",
              "      <th>4</th>\n",
              "      <td>Afghanistan</td>\n",
              "      <td>2014</td>\n",
              "      <td>14000 [8400-22000]</td>\n",
              "      <td>43 [25-65]</td>\n",
              "      <td>14000</td>\n",
              "      <td>[8400-22000]</td>\n",
              "      <td>43</td>\n",
              "      <td>[25-65]</td>\n",
              "    </tr>\n",
              "    <tr>\n",
              "      <th>...</th>\n",
              "      <td>...</td>\n",
              "      <td>...</td>\n",
              "      <td>...</td>\n",
              "      <td>...</td>\n",
              "      <td>...</td>\n",
              "      <td>...</td>\n",
              "      <td>...</td>\n",
              "      <td>...</td>\n",
              "    </tr>\n",
              "    <tr>\n",
              "      <th>3647</th>\n",
              "      <td>Zimbabwe</td>\n",
              "      <td>2004</td>\n",
              "      <td>3000 [1200-5600]</td>\n",
              "      <td>25 [10-47]</td>\n",
              "      <td>3000</td>\n",
              "      <td>[1200-5600]</td>\n",
              "      <td>25</td>\n",
              "      <td>[10-47]</td>\n",
              "    </tr>\n",
              "    <tr>\n",
              "      <th>3648</th>\n",
              "      <td>Zimbabwe</td>\n",
              "      <td>2003</td>\n",
              "      <td>2900 [1200-5400]</td>\n",
              "      <td>24 [9.6-45]</td>\n",
              "      <td>2900</td>\n",
              "      <td>[1200-5400]</td>\n",
              "      <td>24</td>\n",
              "      <td>[9.6-45]</td>\n",
              "    </tr>\n",
              "    <tr>\n",
              "      <th>3649</th>\n",
              "      <td>Zimbabwe</td>\n",
              "      <td>2002</td>\n",
              "      <td>2500 [990-4800]</td>\n",
              "      <td>21 [8.3-40]</td>\n",
              "      <td>2500</td>\n",
              "      <td>[990-4800]</td>\n",
              "      <td>21</td>\n",
              "      <td>[8.3-40]</td>\n",
              "    </tr>\n",
              "    <tr>\n",
              "      <th>3650</th>\n",
              "      <td>Zimbabwe</td>\n",
              "      <td>2001</td>\n",
              "      <td>2800 [1100-5300]</td>\n",
              "      <td>23 [9.1-44]</td>\n",
              "      <td>2800</td>\n",
              "      <td>[1100-5300]</td>\n",
              "      <td>23</td>\n",
              "      <td>[9.1-44]</td>\n",
              "    </tr>\n",
              "    <tr>\n",
              "      <th>3651</th>\n",
              "      <td>Zimbabwe</td>\n",
              "      <td>2000</td>\n",
              "      <td>3100 [1200-6000]</td>\n",
              "      <td>26 [10-51]</td>\n",
              "      <td>3100</td>\n",
              "      <td>[1200-6000]</td>\n",
              "      <td>26</td>\n",
              "      <td>[10-51]</td>\n",
              "    </tr>\n",
              "  </tbody>\n",
              "</table>\n",
              "<p>3652 rows × 8 columns</p>\n",
              "</div>"
            ],
            "text/plain": [
              "          Country  year  ... NroDeaths_nhiv_value NroDeaths_nhiv_intervalo\n",
              "0     Afghanistan  2018  ...                   29                  [17-44]\n",
              "1     Afghanistan  2017  ...                   30                  [18-45]\n",
              "2     Afghanistan  2016  ...                   34                  [20-51]\n",
              "3     Afghanistan  2015  ...                   39                  [23-59]\n",
              "4     Afghanistan  2014  ...                   43                  [25-65]\n",
              "...           ...   ...  ...                  ...                      ...\n",
              "3647     Zimbabwe  2004  ...                   25                  [10-47]\n",
              "3648     Zimbabwe  2003  ...                   24                 [9.6-45]\n",
              "3649     Zimbabwe  2002  ...                   21                 [8.3-40]\n",
              "3650     Zimbabwe  2001  ...                   23                 [9.1-44]\n",
              "3651     Zimbabwe  2000  ...                   26                  [10-51]\n",
              "\n",
              "[3652 rows x 8 columns]"
            ]
          },
          "metadata": {},
          "execution_count": 13
        }
      ]
    },
    {
      "cell_type": "markdown",
      "metadata": {
        "id": "J7yZwQqZltUg"
      },
      "source": [
        "🏷️ 6. Eliminar las columnas: `NroDeaths_ehiv` y `NroDeaths_nhiv`"
      ]
    },
    {
      "cell_type": "code",
      "metadata": {
        "id": "8FHsom1adUZT"
      },
      "source": [
        "df = df.drop(columns=[\"NroDeaths_ehiv\", \"NroDeaths_nhiv\"])"
      ],
      "execution_count": null,
      "outputs": []
    },
    {
      "cell_type": "markdown",
      "metadata": {
        "id": "FHa7EY-1l7w5"
      },
      "source": [
        "🏷️ 7. Generar un dataframe que contenga cuatro columnas: \n",
        "> * **country**\n",
        "> * **year**\n",
        "> * **concepto**: que tenga los datos de las variables roDeaths_ehiv_value y NroDeaths_nhiv_value.\n",
        "> * **value**"
      ]
    },
    {
      "cell_type": "code",
      "metadata": {
        "id": "okfq-MLAcuR2",
        "colab": {
          "base_uri": "https://localhost:8080/",
          "height": 417
        },
        "outputId": "bbfb5197-106c-45f9-db01-d575aa17e072"
      },
      "source": [
        "df = df.melt(id_vars= [\"Country\", \"year\"], value_vars= [\"NroDeaths_ehiv_value\", \t\"NroDeaths_nhiv_value\"], var_name= \"concepto\", value_name= \"value\")\n",
        "df"
      ],
      "execution_count": 16,
      "outputs": [
        {
          "output_type": "execute_result",
          "data": {
            "text/html": [
              "<div>\n",
              "<style scoped>\n",
              "    .dataframe tbody tr th:only-of-type {\n",
              "        vertical-align: middle;\n",
              "    }\n",
              "\n",
              "    .dataframe tbody tr th {\n",
              "        vertical-align: top;\n",
              "    }\n",
              "\n",
              "    .dataframe thead th {\n",
              "        text-align: right;\n",
              "    }\n",
              "</style>\n",
              "<table border=\"1\" class=\"dataframe\">\n",
              "  <thead>\n",
              "    <tr style=\"text-align: right;\">\n",
              "      <th></th>\n",
              "      <th>Country</th>\n",
              "      <th>year</th>\n",
              "      <th>concepto</th>\n",
              "      <th>value</th>\n",
              "    </tr>\n",
              "  </thead>\n",
              "  <tbody>\n",
              "    <tr>\n",
              "      <th>0</th>\n",
              "      <td>Afghanistan</td>\n",
              "      <td>2018</td>\n",
              "      <td>NroDeaths_ehiv_value</td>\n",
              "      <td>11000</td>\n",
              "    </tr>\n",
              "    <tr>\n",
              "      <th>1</th>\n",
              "      <td>Afghanistan</td>\n",
              "      <td>2017</td>\n",
              "      <td>NroDeaths_ehiv_value</td>\n",
              "      <td>11000</td>\n",
              "    </tr>\n",
              "    <tr>\n",
              "      <th>2</th>\n",
              "      <td>Afghanistan</td>\n",
              "      <td>2016</td>\n",
              "      <td>NroDeaths_ehiv_value</td>\n",
              "      <td>12000</td>\n",
              "    </tr>\n",
              "    <tr>\n",
              "      <th>3</th>\n",
              "      <td>Afghanistan</td>\n",
              "      <td>2015</td>\n",
              "      <td>NroDeaths_ehiv_value</td>\n",
              "      <td>14000</td>\n",
              "    </tr>\n",
              "    <tr>\n",
              "      <th>4</th>\n",
              "      <td>Afghanistan</td>\n",
              "      <td>2014</td>\n",
              "      <td>NroDeaths_ehiv_value</td>\n",
              "      <td>14000</td>\n",
              "    </tr>\n",
              "    <tr>\n",
              "      <th>...</th>\n",
              "      <td>...</td>\n",
              "      <td>...</td>\n",
              "      <td>...</td>\n",
              "      <td>...</td>\n",
              "    </tr>\n",
              "    <tr>\n",
              "      <th>7299</th>\n",
              "      <td>Zimbabwe</td>\n",
              "      <td>2004</td>\n",
              "      <td>NroDeaths_nhiv_value</td>\n",
              "      <td>25</td>\n",
              "    </tr>\n",
              "    <tr>\n",
              "      <th>7300</th>\n",
              "      <td>Zimbabwe</td>\n",
              "      <td>2003</td>\n",
              "      <td>NroDeaths_nhiv_value</td>\n",
              "      <td>24</td>\n",
              "    </tr>\n",
              "    <tr>\n",
              "      <th>7301</th>\n",
              "      <td>Zimbabwe</td>\n",
              "      <td>2002</td>\n",
              "      <td>NroDeaths_nhiv_value</td>\n",
              "      <td>21</td>\n",
              "    </tr>\n",
              "    <tr>\n",
              "      <th>7302</th>\n",
              "      <td>Zimbabwe</td>\n",
              "      <td>2001</td>\n",
              "      <td>NroDeaths_nhiv_value</td>\n",
              "      <td>23</td>\n",
              "    </tr>\n",
              "    <tr>\n",
              "      <th>7303</th>\n",
              "      <td>Zimbabwe</td>\n",
              "      <td>2000</td>\n",
              "      <td>NroDeaths_nhiv_value</td>\n",
              "      <td>26</td>\n",
              "    </tr>\n",
              "  </tbody>\n",
              "</table>\n",
              "<p>7304 rows × 4 columns</p>\n",
              "</div>"
            ],
            "text/plain": [
              "          Country  year              concepto  value\n",
              "0     Afghanistan  2018  NroDeaths_ehiv_value  11000\n",
              "1     Afghanistan  2017  NroDeaths_ehiv_value  11000\n",
              "2     Afghanistan  2016  NroDeaths_ehiv_value  12000\n",
              "3     Afghanistan  2015  NroDeaths_ehiv_value  14000\n",
              "4     Afghanistan  2014  NroDeaths_ehiv_value  14000\n",
              "...           ...   ...                   ...    ...\n",
              "7299     Zimbabwe  2004  NroDeaths_nhiv_value     25\n",
              "7300     Zimbabwe  2003  NroDeaths_nhiv_value     24\n",
              "7301     Zimbabwe  2002  NroDeaths_nhiv_value     21\n",
              "7302     Zimbabwe  2001  NroDeaths_nhiv_value     23\n",
              "7303     Zimbabwe  2000  NroDeaths_nhiv_value     26\n",
              "\n",
              "[7304 rows x 4 columns]"
            ]
          },
          "metadata": {},
          "execution_count": 16
        }
      ]
    }
  ]
}