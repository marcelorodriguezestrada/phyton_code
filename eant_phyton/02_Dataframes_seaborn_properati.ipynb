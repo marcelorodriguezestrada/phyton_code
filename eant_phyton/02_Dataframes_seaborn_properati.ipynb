{
 "cells": [
  {
   "cell_type": "markdown",
   "metadata": {
    "id": "xukFEhNLle_K"
   },
   "source": [
    " <img src=\"https://eant.tech/imagenes/logo.png\" width=25% height=80%  >"
   ]
  },
  {
   "cell_type": "markdown",
   "metadata": {
    "id": "9Ihgy_1fKhWX"
   },
   "source": [
    "## <img src=\"http://icons.iconarchive.com/icons/cornmanthe3rd/plex/256/Other-python-icon.png\" width=\"40\"> Ejercicio Properati\n",
    "\n",
    "**Properati.com** es un nuevo portal web que presta servicios de compra, venta y alquiler de inmuebles en América Latina. Este portal libera los datos que ellos tienen sobre propiedades en los paises en los cual ellos desarrollan actividades comerciales.\n",
    "\n",
    "\n",
    "<center>\n",
    "\n",
    "<img src=\"https://d3oky698b3gnfy.cloudfront.net/assets/img/isologo-properati.svg\" alt=\"25746\" border=\"0\" width=\"50%\" height=\"30%\">\n",
    "</center>\n",
    "\n"
   ]
  },
  {
   "cell_type": "markdown",
   "metadata": {
    "id": "yes5zFpMb525"
   },
   "source": [
    "🏷️ 1. Importar los paquetes que vamos a utilizar.\n",
    "> * pandas [`pd`]\n",
    "> * seaborn [`sns`]\n",
    "> * matplotlib.pyplot [`plt`]\n",
    "> * numpy [`np`]\n"
   ]
  },
  {
   "cell_type": "code",
   "execution_count": 1,
   "metadata": {
    "id": "LRDKtgoPOKwo"
   },
   "outputs": [],
   "source": [
    "import pandas as pd \n",
    "import seaborn as sns\n",
    "import matplotlib.pyplot as plt\n",
    "import numpy as np"
   ]
  },
  {
   "cell_type": "markdown",
   "metadata": {
    "id": "jvFppgwOrH8-"
   },
   "source": [
    "🏷️ 2. Importar el dataframe de properati"
   ]
  },
  {
   "cell_type": "code",
   "execution_count": 2,
   "metadata": {
    "colab": {
     "base_uri": "https://localhost:8080/"
    },
    "id": "2d5JI00z48JC",
    "outputId": "b13412c7-6e47-4eaf-f91e-6d3d126511d8"
   },
   "outputs": [
    {
     "name": "stdout",
     "output_type": "stream",
     "text": [
      "Mounted at /content/gdrive\n"
     ]
    }
   ],
   "source": [
    "from google.colab import drive\n",
    "drive.mount(\"/content/gdrive\")"
   ]
  },
  {
   "cell_type": "code",
   "execution_count": 20,
   "metadata": {
    "colab": {
     "base_uri": "https://localhost:8080/"
    },
    "id": "dNsX8pNZ-69A",
    "outputId": "224e7289-add0-4e9c-e5bc-e114e3cfd001"
   },
   "outputs": [
    {
     "name": "stderr",
     "output_type": "stream",
     "text": [
      "/usr/local/lib/python3.7/dist-packages/IPython/core/interactiveshell.py:2718: DtypeWarning: Columns (2,3,7,8,9,17,18,19) have mixed types.Specify dtype option on import or set low_memory=False.\n",
      "  interactivity=interactivity, compiler=compiler, result=result)\n"
     ]
    }
   ],
   "source": [
    "df = pd.read_csv(\"/content/gdrive/MyDrive/Colab Notebooks/ar_properati_sample.csv\", sep = \",\", header=None)"
   ]
  },
  {
   "cell_type": "code",
   "execution_count": 21,
   "metadata": {
    "colab": {
     "base_uri": "https://localhost:8080/",
     "height": 428
    },
    "id": "iZzId6L_Auqo",
    "outputId": "596cc7fb-af26-4f92-8739-66ed6969bf13"
   },
   "outputs": [
    {
     "data": {
      "text/html": [
       "<div>\n",
       "<style scoped>\n",
       "    .dataframe tbody tr th:only-of-type {\n",
       "        vertical-align: middle;\n",
       "    }\n",
       "\n",
       "    .dataframe tbody tr th {\n",
       "        vertical-align: top;\n",
       "    }\n",
       "\n",
       "    .dataframe thead th {\n",
       "        text-align: right;\n",
       "    }\n",
       "</style>\n",
       "<table border=\"1\" class=\"dataframe\">\n",
       "  <thead>\n",
       "    <tr style=\"text-align: right;\">\n",
       "      <th></th>\n",
       "      <th>0</th>\n",
       "      <th>1</th>\n",
       "      <th>2</th>\n",
       "      <th>3</th>\n",
       "      <th>4</th>\n",
       "      <th>5</th>\n",
       "      <th>6</th>\n",
       "      <th>7</th>\n",
       "      <th>8</th>\n",
       "      <th>9</th>\n",
       "      <th>10</th>\n",
       "      <th>11</th>\n",
       "      <th>12</th>\n",
       "      <th>13</th>\n",
       "      <th>14</th>\n",
       "      <th>15</th>\n",
       "      <th>16</th>\n",
       "      <th>17</th>\n",
       "      <th>18</th>\n",
       "      <th>19</th>\n",
       "      <th>20</th>\n",
       "    </tr>\n",
       "  </thead>\n",
       "  <tbody>\n",
       "    <tr>\n",
       "      <th>0</th>\n",
       "      <td>NaN</td>\n",
       "      <td>id</td>\n",
       "      <td>lat</td>\n",
       "      <td>lon</td>\n",
       "      <td>pais</td>\n",
       "      <td>provincia</td>\n",
       "      <td>partido</td>\n",
       "      <td>ambientes</td>\n",
       "      <td>superficie_total</td>\n",
       "      <td>precio</td>\n",
       "      <td>moneda</td>\n",
       "      <td>tipo_prop</td>\n",
       "      <td>tipo_operacion</td>\n",
       "      <td>fecha_ini</td>\n",
       "      <td>fecha_fin</td>\n",
       "      <td>creacion</td>\n",
       "      <td>localidad</td>\n",
       "      <td>habitaciones</td>\n",
       "      <td>baños</td>\n",
       "      <td>superficie_cubierta</td>\n",
       "      <td>periodo_pago</td>\n",
       "    </tr>\n",
       "    <tr>\n",
       "      <th>1</th>\n",
       "      <td>0.0</td>\n",
       "      <td>gKORqH/4a1GKVnz5ShdCnA==</td>\n",
       "      <td>-34.65429688</td>\n",
       "      <td>-58.73831558</td>\n",
       "      <td>Argentina</td>\n",
       "      <td>Bs.As. G.B.A. Zona Oeste</td>\n",
       "      <td>Merlo</td>\n",
       "      <td>2.0</td>\n",
       "      <td>280.0</td>\n",
       "      <td>17000.0</td>\n",
       "      <td>ARS</td>\n",
       "      <td>Casa</td>\n",
       "      <td>Alquiler</td>\n",
       "      <td>2020-06-21</td>\n",
       "      <td>2020-07-09</td>\n",
       "      <td>2020-06-21</td>\n",
       "      <td>Merlo</td>\n",
       "      <td>NaN</td>\n",
       "      <td>2.0</td>\n",
       "      <td>120.0</td>\n",
       "      <td>NaN</td>\n",
       "    </tr>\n",
       "    <tr>\n",
       "      <th>2</th>\n",
       "      <td>1.0</td>\n",
       "      <td>ONwGxcJxznN0vzY24WIitA==</td>\n",
       "      <td>-34.44532394</td>\n",
       "      <td>-58.97518158</td>\n",
       "      <td>Argentina</td>\n",
       "      <td>Bs.As. G.B.A. Zona Norte</td>\n",
       "      <td>Pilar</td>\n",
       "      <td>3.0</td>\n",
       "      <td>140.0</td>\n",
       "      <td>32000.0</td>\n",
       "      <td>ARS</td>\n",
       "      <td>Casa</td>\n",
       "      <td>Alquiler</td>\n",
       "      <td>2020-06-21</td>\n",
       "      <td>2020-07-21</td>\n",
       "      <td>2020-06-21</td>\n",
       "      <td>NaN</td>\n",
       "      <td>NaN</td>\n",
       "      <td>2.0</td>\n",
       "      <td>130.0</td>\n",
       "      <td>NaN</td>\n",
       "    </tr>\n",
       "    <tr>\n",
       "      <th>3</th>\n",
       "      <td>2.0</td>\n",
       "      <td>j+Q/e0JM7odiRA++CP9qEA==</td>\n",
       "      <td>-34.52194214</td>\n",
       "      <td>-58.49274063</td>\n",
       "      <td>Argentina</td>\n",
       "      <td>Bs.As. G.B.A. Zona Norte</td>\n",
       "      <td>Vicente López</td>\n",
       "      <td>3.0</td>\n",
       "      <td>225.0</td>\n",
       "      <td>54000.0</td>\n",
       "      <td>ARS</td>\n",
       "      <td>Casa</td>\n",
       "      <td>Alquiler</td>\n",
       "      <td>2020-06-21</td>\n",
       "      <td>2020-07-17</td>\n",
       "      <td>2020-06-21</td>\n",
       "      <td>NaN</td>\n",
       "      <td>NaN</td>\n",
       "      <td>2.0</td>\n",
       "      <td>150.0</td>\n",
       "      <td>NaN</td>\n",
       "    </tr>\n",
       "    <tr>\n",
       "      <th>4</th>\n",
       "      <td>3.0</td>\n",
       "      <td>NRntKJlAtTVxxGu1KUWjGQ==</td>\n",
       "      <td>-34.55987549</td>\n",
       "      <td>-58.56618118</td>\n",
       "      <td>Argentina</td>\n",
       "      <td>Bs.As. G.B.A. Zona Norte</td>\n",
       "      <td>General San Martín</td>\n",
       "      <td>3.0</td>\n",
       "      <td>300.0</td>\n",
       "      <td>20000.0</td>\n",
       "      <td>ARS</td>\n",
       "      <td>Casa</td>\n",
       "      <td>Alquiler</td>\n",
       "      <td>2020-06-21</td>\n",
       "      <td>2020-06-23</td>\n",
       "      <td>2020-06-21</td>\n",
       "      <td>Villa Ballester</td>\n",
       "      <td>NaN</td>\n",
       "      <td>1.0</td>\n",
       "      <td>200.0</td>\n",
       "      <td>NaN</td>\n",
       "    </tr>\n",
       "  </tbody>\n",
       "</table>\n",
       "</div>"
      ],
      "text/plain": [
       "    0                         1   ...                   19            20\n",
       "0  NaN                        id  ...  superficie_cubierta  periodo_pago\n",
       "1  0.0  gKORqH/4a1GKVnz5ShdCnA==  ...                120.0           NaN\n",
       "2  1.0  ONwGxcJxznN0vzY24WIitA==  ...                130.0           NaN\n",
       "3  2.0  j+Q/e0JM7odiRA++CP9qEA==  ...                150.0           NaN\n",
       "4  3.0  NRntKJlAtTVxxGu1KUWjGQ==  ...                200.0           NaN\n",
       "\n",
       "[5 rows x 21 columns]"
      ]
     },
     "execution_count": 21,
     "metadata": {},
     "output_type": "execute_result"
    }
   ],
   "source": [
    "df.head()"
   ]
  },
  {
   "cell_type": "code",
   "execution_count": 23,
   "metadata": {
    "id": "TsukWav5DCIm"
   },
   "outputs": [],
   "source": [
    "new_header = df.iloc[0]\n",
    "df = df[1:] \n",
    "df.columns = new_header"
   ]
  },
  {
   "cell_type": "code",
   "execution_count": 25,
   "metadata": {
    "colab": {
     "base_uri": "https://localhost:8080/",
     "height": 394
    },
    "id": "0zRNfberDELl",
    "outputId": "5a40e74d-e0f7-4054-e46e-2d1a9e60b803"
   },
   "outputs": [
    {
     "data": {
      "text/html": [
       "<div>\n",
       "<style scoped>\n",
       "    .dataframe tbody tr th:only-of-type {\n",
       "        vertical-align: middle;\n",
       "    }\n",
       "\n",
       "    .dataframe tbody tr th {\n",
       "        vertical-align: top;\n",
       "    }\n",
       "\n",
       "    .dataframe thead th {\n",
       "        text-align: right;\n",
       "    }\n",
       "</style>\n",
       "<table border=\"1\" class=\"dataframe\">\n",
       "  <thead>\n",
       "    <tr style=\"text-align: right;\">\n",
       "      <th></th>\n",
       "      <th>NaN</th>\n",
       "      <th>id</th>\n",
       "      <th>lat</th>\n",
       "      <th>lon</th>\n",
       "      <th>pais</th>\n",
       "      <th>provincia</th>\n",
       "      <th>partido</th>\n",
       "      <th>ambientes</th>\n",
       "      <th>superficie_total</th>\n",
       "      <th>precio</th>\n",
       "      <th>moneda</th>\n",
       "      <th>tipo_prop</th>\n",
       "      <th>tipo_operacion</th>\n",
       "      <th>fecha_ini</th>\n",
       "      <th>fecha_fin</th>\n",
       "      <th>creacion</th>\n",
       "      <th>localidad</th>\n",
       "      <th>habitaciones</th>\n",
       "      <th>baños</th>\n",
       "      <th>superficie_cubierta</th>\n",
       "      <th>periodo_pago</th>\n",
       "    </tr>\n",
       "  </thead>\n",
       "  <tbody>\n",
       "    <tr>\n",
       "      <th>1</th>\n",
       "      <td>0.0</td>\n",
       "      <td>gKORqH/4a1GKVnz5ShdCnA==</td>\n",
       "      <td>-34.65429688</td>\n",
       "      <td>-58.73831558</td>\n",
       "      <td>Argentina</td>\n",
       "      <td>Bs.As. G.B.A. Zona Oeste</td>\n",
       "      <td>Merlo</td>\n",
       "      <td>2.0</td>\n",
       "      <td>280.0</td>\n",
       "      <td>17000.0</td>\n",
       "      <td>ARS</td>\n",
       "      <td>Casa</td>\n",
       "      <td>Alquiler</td>\n",
       "      <td>2020-06-21</td>\n",
       "      <td>2020-07-09</td>\n",
       "      <td>2020-06-21</td>\n",
       "      <td>Merlo</td>\n",
       "      <td>NaN</td>\n",
       "      <td>2.0</td>\n",
       "      <td>120.0</td>\n",
       "      <td>NaN</td>\n",
       "    </tr>\n",
       "    <tr>\n",
       "      <th>2</th>\n",
       "      <td>1.0</td>\n",
       "      <td>ONwGxcJxznN0vzY24WIitA==</td>\n",
       "      <td>-34.44532394</td>\n",
       "      <td>-58.97518158</td>\n",
       "      <td>Argentina</td>\n",
       "      <td>Bs.As. G.B.A. Zona Norte</td>\n",
       "      <td>Pilar</td>\n",
       "      <td>3.0</td>\n",
       "      <td>140.0</td>\n",
       "      <td>32000.0</td>\n",
       "      <td>ARS</td>\n",
       "      <td>Casa</td>\n",
       "      <td>Alquiler</td>\n",
       "      <td>2020-06-21</td>\n",
       "      <td>2020-07-21</td>\n",
       "      <td>2020-06-21</td>\n",
       "      <td>NaN</td>\n",
       "      <td>NaN</td>\n",
       "      <td>2.0</td>\n",
       "      <td>130.0</td>\n",
       "      <td>NaN</td>\n",
       "    </tr>\n",
       "    <tr>\n",
       "      <th>3</th>\n",
       "      <td>2.0</td>\n",
       "      <td>j+Q/e0JM7odiRA++CP9qEA==</td>\n",
       "      <td>-34.52194214</td>\n",
       "      <td>-58.49274063</td>\n",
       "      <td>Argentina</td>\n",
       "      <td>Bs.As. G.B.A. Zona Norte</td>\n",
       "      <td>Vicente López</td>\n",
       "      <td>3.0</td>\n",
       "      <td>225.0</td>\n",
       "      <td>54000.0</td>\n",
       "      <td>ARS</td>\n",
       "      <td>Casa</td>\n",
       "      <td>Alquiler</td>\n",
       "      <td>2020-06-21</td>\n",
       "      <td>2020-07-17</td>\n",
       "      <td>2020-06-21</td>\n",
       "      <td>NaN</td>\n",
       "      <td>NaN</td>\n",
       "      <td>2.0</td>\n",
       "      <td>150.0</td>\n",
       "      <td>NaN</td>\n",
       "    </tr>\n",
       "    <tr>\n",
       "      <th>4</th>\n",
       "      <td>3.0</td>\n",
       "      <td>NRntKJlAtTVxxGu1KUWjGQ==</td>\n",
       "      <td>-34.55987549</td>\n",
       "      <td>-58.56618118</td>\n",
       "      <td>Argentina</td>\n",
       "      <td>Bs.As. G.B.A. Zona Norte</td>\n",
       "      <td>General San Martín</td>\n",
       "      <td>3.0</td>\n",
       "      <td>300.0</td>\n",
       "      <td>20000.0</td>\n",
       "      <td>ARS</td>\n",
       "      <td>Casa</td>\n",
       "      <td>Alquiler</td>\n",
       "      <td>2020-06-21</td>\n",
       "      <td>2020-06-23</td>\n",
       "      <td>2020-06-21</td>\n",
       "      <td>Villa Ballester</td>\n",
       "      <td>NaN</td>\n",
       "      <td>1.0</td>\n",
       "      <td>200.0</td>\n",
       "      <td>NaN</td>\n",
       "    </tr>\n",
       "    <tr>\n",
       "      <th>5</th>\n",
       "      <td>4.0</td>\n",
       "      <td>ebfgCc/SI6lHoJCmxW0tCA==</td>\n",
       "      <td>-34.567634399999996</td>\n",
       "      <td>-58.542189799999996</td>\n",
       "      <td>Argentina</td>\n",
       "      <td>Bs.As. G.B.A. Zona Norte</td>\n",
       "      <td>General San Martín</td>\n",
       "      <td>5.0</td>\n",
       "      <td>320.0</td>\n",
       "      <td>35000.0</td>\n",
       "      <td>ARS</td>\n",
       "      <td>Casa</td>\n",
       "      <td>Alquiler</td>\n",
       "      <td>2020-06-21</td>\n",
       "      <td>2020-06-23</td>\n",
       "      <td>2020-06-21</td>\n",
       "      <td>San Andres</td>\n",
       "      <td>NaN</td>\n",
       "      <td>NaN</td>\n",
       "      <td>250.0</td>\n",
       "      <td>Mensual</td>\n",
       "    </tr>\n",
       "  </tbody>\n",
       "</table>\n",
       "</div>"
      ],
      "text/plain": [
       "0  NaN                        id  ... superficie_cubierta periodo_pago\n",
       "1  0.0  gKORqH/4a1GKVnz5ShdCnA==  ...               120.0          NaN\n",
       "2  1.0  ONwGxcJxznN0vzY24WIitA==  ...               130.0          NaN\n",
       "3  2.0  j+Q/e0JM7odiRA++CP9qEA==  ...               150.0          NaN\n",
       "4  3.0  NRntKJlAtTVxxGu1KUWjGQ==  ...               200.0          NaN\n",
       "5  4.0  ebfgCc/SI6lHoJCmxW0tCA==  ...               250.0      Mensual\n",
       "\n",
       "[5 rows x 21 columns]"
      ]
     },
     "execution_count": 25,
     "metadata": {},
     "output_type": "execute_result"
    }
   ],
   "source": [
    "df.head()"
   ]
  },
  {
   "cell_type": "markdown",
   "metadata": {
    "id": "oCYaw0SBrPWy"
   },
   "source": [
    "🏷️ 3. Generar un dataframe que contenga los alquileres que esten en moneda pesos."
   ]
  },
  {
   "cell_type": "code",
   "execution_count": 14,
   "metadata": {
    "id": "05s_iAoZ1C0I"
   },
   "outputs": [],
   "source": [
    "df_alquiler_pesos = df.loc[(df.moneda.isin({'ARS'})) & (df.tipo_operacion.isin({'Alquiler'}))]"
   ]
  },
  {
   "cell_type": "code",
   "execution_count": 16,
   "metadata": {
    "colab": {
     "base_uri": "https://localhost:8080/",
     "height": 394
    },
    "id": "7PfIVMslDLln",
    "outputId": "25338742-58fe-4e02-e9cb-3a775f3c681a"
   },
   "outputs": [
    {
     "data": {
      "text/html": [
       "<div>\n",
       "<style scoped>\n",
       "    .dataframe tbody tr th:only-of-type {\n",
       "        vertical-align: middle;\n",
       "    }\n",
       "\n",
       "    .dataframe tbody tr th {\n",
       "        vertical-align: top;\n",
       "    }\n",
       "\n",
       "    .dataframe thead th {\n",
       "        text-align: right;\n",
       "    }\n",
       "</style>\n",
       "<table border=\"1\" class=\"dataframe\">\n",
       "  <thead>\n",
       "    <tr style=\"text-align: right;\">\n",
       "      <th></th>\n",
       "      <th>NaN</th>\n",
       "      <th>id</th>\n",
       "      <th>lat</th>\n",
       "      <th>lon</th>\n",
       "      <th>pais</th>\n",
       "      <th>provincia</th>\n",
       "      <th>partido</th>\n",
       "      <th>ambientes</th>\n",
       "      <th>superficie_total</th>\n",
       "      <th>precio</th>\n",
       "      <th>moneda</th>\n",
       "      <th>tipo_prop</th>\n",
       "      <th>tipo_operacion</th>\n",
       "      <th>fecha_ini</th>\n",
       "      <th>fecha_fin</th>\n",
       "      <th>creacion</th>\n",
       "      <th>localidad</th>\n",
       "      <th>habitaciones</th>\n",
       "      <th>baños</th>\n",
       "      <th>superficie_cubierta</th>\n",
       "      <th>periodo_pago</th>\n",
       "    </tr>\n",
       "  </thead>\n",
       "  <tbody>\n",
       "    <tr>\n",
       "      <th>1</th>\n",
       "      <td>0.0</td>\n",
       "      <td>gKORqH/4a1GKVnz5ShdCnA==</td>\n",
       "      <td>-34.65429688</td>\n",
       "      <td>-58.73831558</td>\n",
       "      <td>Argentina</td>\n",
       "      <td>Bs.As. G.B.A. Zona Oeste</td>\n",
       "      <td>Merlo</td>\n",
       "      <td>2.0</td>\n",
       "      <td>280.0</td>\n",
       "      <td>17000.0</td>\n",
       "      <td>ARS</td>\n",
       "      <td>Casa</td>\n",
       "      <td>Alquiler</td>\n",
       "      <td>2020-06-21</td>\n",
       "      <td>2020-07-09</td>\n",
       "      <td>2020-06-21</td>\n",
       "      <td>Merlo</td>\n",
       "      <td>NaN</td>\n",
       "      <td>2.0</td>\n",
       "      <td>120.0</td>\n",
       "      <td>NaN</td>\n",
       "    </tr>\n",
       "    <tr>\n",
       "      <th>2</th>\n",
       "      <td>1.0</td>\n",
       "      <td>ONwGxcJxznN0vzY24WIitA==</td>\n",
       "      <td>-34.44532394</td>\n",
       "      <td>-58.97518158</td>\n",
       "      <td>Argentina</td>\n",
       "      <td>Bs.As. G.B.A. Zona Norte</td>\n",
       "      <td>Pilar</td>\n",
       "      <td>3.0</td>\n",
       "      <td>140.0</td>\n",
       "      <td>32000.0</td>\n",
       "      <td>ARS</td>\n",
       "      <td>Casa</td>\n",
       "      <td>Alquiler</td>\n",
       "      <td>2020-06-21</td>\n",
       "      <td>2020-07-21</td>\n",
       "      <td>2020-06-21</td>\n",
       "      <td>NaN</td>\n",
       "      <td>NaN</td>\n",
       "      <td>2.0</td>\n",
       "      <td>130.0</td>\n",
       "      <td>NaN</td>\n",
       "    </tr>\n",
       "    <tr>\n",
       "      <th>3</th>\n",
       "      <td>2.0</td>\n",
       "      <td>j+Q/e0JM7odiRA++CP9qEA==</td>\n",
       "      <td>-34.52194214</td>\n",
       "      <td>-58.49274063</td>\n",
       "      <td>Argentina</td>\n",
       "      <td>Bs.As. G.B.A. Zona Norte</td>\n",
       "      <td>Vicente López</td>\n",
       "      <td>3.0</td>\n",
       "      <td>225.0</td>\n",
       "      <td>54000.0</td>\n",
       "      <td>ARS</td>\n",
       "      <td>Casa</td>\n",
       "      <td>Alquiler</td>\n",
       "      <td>2020-06-21</td>\n",
       "      <td>2020-07-17</td>\n",
       "      <td>2020-06-21</td>\n",
       "      <td>NaN</td>\n",
       "      <td>NaN</td>\n",
       "      <td>2.0</td>\n",
       "      <td>150.0</td>\n",
       "      <td>NaN</td>\n",
       "    </tr>\n",
       "    <tr>\n",
       "      <th>4</th>\n",
       "      <td>3.0</td>\n",
       "      <td>NRntKJlAtTVxxGu1KUWjGQ==</td>\n",
       "      <td>-34.55987549</td>\n",
       "      <td>-58.56618118</td>\n",
       "      <td>Argentina</td>\n",
       "      <td>Bs.As. G.B.A. Zona Norte</td>\n",
       "      <td>General San Martín</td>\n",
       "      <td>3.0</td>\n",
       "      <td>300.0</td>\n",
       "      <td>20000.0</td>\n",
       "      <td>ARS</td>\n",
       "      <td>Casa</td>\n",
       "      <td>Alquiler</td>\n",
       "      <td>2020-06-21</td>\n",
       "      <td>2020-06-23</td>\n",
       "      <td>2020-06-21</td>\n",
       "      <td>Villa Ballester</td>\n",
       "      <td>NaN</td>\n",
       "      <td>1.0</td>\n",
       "      <td>200.0</td>\n",
       "      <td>NaN</td>\n",
       "    </tr>\n",
       "    <tr>\n",
       "      <th>5</th>\n",
       "      <td>4.0</td>\n",
       "      <td>ebfgCc/SI6lHoJCmxW0tCA==</td>\n",
       "      <td>-34.567634399999996</td>\n",
       "      <td>-58.542189799999996</td>\n",
       "      <td>Argentina</td>\n",
       "      <td>Bs.As. G.B.A. Zona Norte</td>\n",
       "      <td>General San Martín</td>\n",
       "      <td>5.0</td>\n",
       "      <td>320.0</td>\n",
       "      <td>35000.0</td>\n",
       "      <td>ARS</td>\n",
       "      <td>Casa</td>\n",
       "      <td>Alquiler</td>\n",
       "      <td>2020-06-21</td>\n",
       "      <td>2020-06-23</td>\n",
       "      <td>2020-06-21</td>\n",
       "      <td>San Andres</td>\n",
       "      <td>NaN</td>\n",
       "      <td>NaN</td>\n",
       "      <td>250.0</td>\n",
       "      <td>Mensual</td>\n",
       "    </tr>\n",
       "  </tbody>\n",
       "</table>\n",
       "</div>"
      ],
      "text/plain": [
       "0  NaN                        id  ... superficie_cubierta periodo_pago\n",
       "1  0.0  gKORqH/4a1GKVnz5ShdCnA==  ...               120.0          NaN\n",
       "2  1.0  ONwGxcJxznN0vzY24WIitA==  ...               130.0          NaN\n",
       "3  2.0  j+Q/e0JM7odiRA++CP9qEA==  ...               150.0          NaN\n",
       "4  3.0  NRntKJlAtTVxxGu1KUWjGQ==  ...               200.0          NaN\n",
       "5  4.0  ebfgCc/SI6lHoJCmxW0tCA==  ...               250.0      Mensual\n",
       "\n",
       "[5 rows x 21 columns]"
      ]
     },
     "execution_count": 16,
     "metadata": {},
     "output_type": "execute_result"
    }
   ],
   "source": [
    "df_alquiler_pesos.head()"
   ]
  },
  {
   "cell_type": "markdown",
   "metadata": {
    "id": "Oz2A342MrXxq"
   },
   "source": [
    "🏷️ 4.Realizar un gráfico por tipo de propiedad"
   ]
  },
  {
   "cell_type": "code",
   "execution_count": 29,
   "metadata": {
    "colab": {
     "base_uri": "https://localhost:8080/"
    },
    "id": "mBUKDf_OAgGJ",
    "outputId": "d9f6b399-f196-4af2-9920-a4d34b85f69f"
   },
   "outputs": [
    {
     "data": {
      "text/plain": [
       "Departamento       178708\n",
       "Casa                46276\n",
       "PH                  15657\n",
       "Oficina              3583\n",
       "Local comercial      2768\n",
       "Name: tipo_prop, dtype: int64"
      ]
     },
     "execution_count": 29,
     "metadata": {},
     "output_type": "execute_result"
    }
   ],
   "source": [
    "df['tipo_prop'].value_counts().head(5)"
   ]
  },
  {
   "cell_type": "code",
   "execution_count": 34,
   "metadata": {
    "colab": {
     "base_uri": "https://localhost:8080/",
     "height": 320
    },
    "id": "Zq4GiajBLUJl",
    "outputId": "09cdbb40-6e57-4ba4-c1c6-df2a887bf49d"
   },
   "outputs": [
    {
     "data": {
      "image/png": "[encoded data removed]",
      "text/plain": [
       "<Figure size 720x360 with 1 Axes>"
      ]
     },
     "metadata": {
      "needs_background": "light"
     },
     "output_type": "display_data"
    }
   ],
   "source": [
    "plt.figure(figsize=(10,5))\n",
    "sns.barplot(x = df['tipo_prop'].value_counts().head(5).index,\n",
    "            y = df['tipo_prop'].value_counts().head(5).values)\n",
    "plt.show()"
   ]
  },
  {
   "cell_type": "markdown",
   "metadata": {
    "id": "k4kbJ5Xmrcqf"
   },
   "source": [
    "🏷️ 5. Realizar un gráfico por tipo de propiedad y tipo de alquiler"
   ]
  },
  {
   "cell_type": "code",
   "execution_count": 36,
   "metadata": {
    "colab": {
     "base_uri": "https://localhost:8080/"
    },
    "id": "OUx-fSPbNl09",
    "outputId": "0347b1b7-d594-42f0-ae11-0e4e256ced59"
   },
   "outputs": [
    {
     "data": {
      "text/plain": [
       "Venta                177221\n",
       "Alquiler              59465\n",
       "Alquiler temporal     13969\n",
       "Name: tipo_operacion, dtype: int64"
      ]
     },
     "execution_count": 36,
     "metadata": {},
     "output_type": "execute_result"
    }
   ],
   "source": [
    "df['tipo_operacion'].value_counts().head(5)"
   ]
  },
  {
   "cell_type": "code",
   "execution_count": 41,
   "metadata": {
    "id": "rbf9N0kjPDzz"
   },
   "outputs": [],
   "source": [
    "df_tipo_alquiler = df.loc[(df.tipo_operacion.isin({'Alquiler','Alquiler temporal'}))]"
   ]
  },
  {
   "cell_type": "code",
   "execution_count": 42,
   "metadata": {
    "colab": {
     "base_uri": "https://localhost:8080/",
     "height": 334
    },
    "id": "A7RyuqjIOUef",
    "outputId": "07efe032-f441-4d41-d7aa-e29719526980"
   },
   "outputs": [
    {
     "data": {
      "image/png": "[encoded data removed]",
      "text/plain": [
       "<Figure size 720x360 with 1 Axes>"
      ]
     },
     "metadata": {
      "needs_background": "light"
     },
     "output_type": "display_data"
    }
   ],
   "source": [
    "plt.figure(figsize=(10,5))\n",
    "sns.countplot(data = df_tipo_alquiler,\n",
    "              y = 'tipo_prop',\n",
    "              #order = tips[\"day\"].value_counts().index,\n",
    "              palette = \"Set1\",\n",
    "              hue = \"tipo_operacion\")\n",
    "plt.show()"
   ]
  },
  {
   "cell_type": "markdown",
   "metadata": {
    "id": "OBrjJ1AmrgYd"
   },
   "source": [
    "🏷️ 6. Realizar un scatterplot donde en el eje x se visualice la superficie total y en el eje y el precio del alquiler"
   ]
  },
  {
   "cell_type": "code",
   "execution_count": 54,
   "metadata": {
    "id": "fRtaQkVoRUe3"
   },
   "outputs": [],
   "source": [
    "df_tipo_alquiler_float = df_tipo_alquiler.astype({\"superficie_total\": float, \"precio\": float})"
   ]
  },
  {
   "cell_type": "code",
   "execution_count": 55,
   "metadata": {
    "colab": {
     "base_uri": "https://localhost:8080/",
     "height": 308
    },
    "id": "b96US4Qh1Dog",
    "outputId": "051d4ad1-73c1-44b8-8fbf-f86a4af56fcc"
   },
   "outputs": [
    {
     "data": {
      "text/plain": [
       "<matplotlib.axes._subplots.AxesSubplot at 0x7fe1200c7590>"
      ]
     },
     "execution_count": 55,
     "metadata": {},
     "output_type": "execute_result"
    },
    {
     "data": {
      "image/png": "[encoded data removed]",
      "text/plain": [
       "<Figure size 432x288 with 1 Axes>"
      ]
     },
     "metadata": {
      "needs_background": "light"
     },
     "output_type": "display_data"
    }
   ],
   "source": [
    "sns.scatterplot(\n",
    "                x = df_tipo_alquiler_float[\"superficie_total\"],\n",
    "                y = df_tipo_alquiler_float[\"precio\"]\n",
    "                )"
   ]
  },
  {
   "cell_type": "markdown",
   "metadata": {
    "id": "Vg5F2sufrp7S"
   },
   "source": [
    "🏷️ 7. Realizar el mismo gráfico pero filtrando la superficie total para las propiedades que tengan entre 0 y 500 metros cuadrados."
   ]
  },
  {
   "cell_type": "code",
   "execution_count": 56,
   "metadata": {
    "id": "3TrB3Mr9SUdX"
   },
   "outputs": [],
   "source": [
    "df_tipo_alquiler_float_0500 = df_tipo_alquiler_float.loc[(df_tipo_alquiler_float[\"superficie_total\"] > 0) & (df_tipo_alquiler_float[\"superficie_total\"] < 500)]"
   ]
  },
  {
   "cell_type": "code",
   "execution_count": 57,
   "metadata": {
    "colab": {
     "base_uri": "https://localhost:8080/",
     "height": 308
    },
    "id": "_vtxe0uG1Dle",
    "outputId": "f5358d1d-7926-4d1d-bd08-2979d7f3fd2e"
   },
   "outputs": [
    {
     "data": {
      "text/plain": [
       "<matplotlib.axes._subplots.AxesSubplot at 0x7fe1200e1dd0>"
      ]
     },
     "execution_count": 57,
     "metadata": {},
     "output_type": "execute_result"
    },
    {
     "data": {
      "image/png": "[encoded data removed]",
      "text/plain": [
       "<Figure size 432x288 with 1 Axes>"
      ]
     },
     "metadata": {
      "needs_background": "light"
     },
     "output_type": "display_data"
    }
   ],
   "source": [
    "sns.scatterplot(\n",
    "                x = df_tipo_alquiler_float_0500[\"superficie_total\"],\n",
    "                y = df_tipo_alquiler_float_0500[\"precio\"]\n",
    "                )"
   ]
  },
  {
   "cell_type": "markdown",
   "metadata": {
    "id": "eIWF4ZMgr1QL"
   },
   "source": [
    "🏷️ 8. Modifique el gráfico anterior para visualizar en diferentes colores los tipos de propiedad."
   ]
  },
  {
   "cell_type": "code",
   "execution_count": 61,
   "metadata": {
    "colab": {
     "base_uri": "https://localhost:8080/",
     "height": 728
    },
    "id": "bEFggUK4TgIR",
    "outputId": "52ec1a18-61af-432d-eb4b-90217a7b8990"
   },
   "outputs": [
    {
     "data": {
      "text/html": [
       "<div>\n",
       "<style scoped>\n",
       "    .dataframe tbody tr th:only-of-type {\n",
       "        vertical-align: middle;\n",
       "    }\n",
       "\n",
       "    .dataframe tbody tr th {\n",
       "        vertical-align: top;\n",
       "    }\n",
       "\n",
       "    .dataframe thead th {\n",
       "        text-align: right;\n",
       "    }\n",
       "</style>\n",
       "<table border=\"1\" class=\"dataframe\">\n",
       "  <thead>\n",
       "    <tr style=\"text-align: right;\">\n",
       "      <th></th>\n",
       "      <th>NaN</th>\n",
       "      <th>id</th>\n",
       "      <th>lat</th>\n",
       "      <th>lon</th>\n",
       "      <th>pais</th>\n",
       "      <th>provincia</th>\n",
       "      <th>partido</th>\n",
       "      <th>ambientes</th>\n",
       "      <th>superficie_total</th>\n",
       "      <th>precio</th>\n",
       "      <th>moneda</th>\n",
       "      <th>tipo_prop</th>\n",
       "      <th>tipo_operacion</th>\n",
       "      <th>fecha_ini</th>\n",
       "      <th>fecha_fin</th>\n",
       "      <th>creacion</th>\n",
       "      <th>localidad</th>\n",
       "      <th>habitaciones</th>\n",
       "      <th>baños</th>\n",
       "      <th>superficie_cubierta</th>\n",
       "      <th>periodo_pago</th>\n",
       "    </tr>\n",
       "  </thead>\n",
       "  <tbody>\n",
       "    <tr>\n",
       "      <th>1</th>\n",
       "      <td>0.0</td>\n",
       "      <td>gKORqH/4a1GKVnz5ShdCnA==</td>\n",
       "      <td>-34.65429688</td>\n",
       "      <td>-58.73831558</td>\n",
       "      <td>Argentina</td>\n",
       "      <td>Bs.As. G.B.A. Zona Oeste</td>\n",
       "      <td>Merlo</td>\n",
       "      <td>2.0</td>\n",
       "      <td>280.0</td>\n",
       "      <td>17000.0</td>\n",
       "      <td>ARS</td>\n",
       "      <td>Casa</td>\n",
       "      <td>Alquiler</td>\n",
       "      <td>2020-06-21</td>\n",
       "      <td>2020-07-09</td>\n",
       "      <td>2020-06-21</td>\n",
       "      <td>Merlo</td>\n",
       "      <td>NaN</td>\n",
       "      <td>2.0</td>\n",
       "      <td>120.0</td>\n",
       "      <td>NaN</td>\n",
       "    </tr>\n",
       "    <tr>\n",
       "      <th>2</th>\n",
       "      <td>1.0</td>\n",
       "      <td>ONwGxcJxznN0vzY24WIitA==</td>\n",
       "      <td>-34.44532394</td>\n",
       "      <td>-58.97518158</td>\n",
       "      <td>Argentina</td>\n",
       "      <td>Bs.As. G.B.A. Zona Norte</td>\n",
       "      <td>Pilar</td>\n",
       "      <td>3.0</td>\n",
       "      <td>140.0</td>\n",
       "      <td>32000.0</td>\n",
       "      <td>ARS</td>\n",
       "      <td>Casa</td>\n",
       "      <td>Alquiler</td>\n",
       "      <td>2020-06-21</td>\n",
       "      <td>2020-07-21</td>\n",
       "      <td>2020-06-21</td>\n",
       "      <td>NaN</td>\n",
       "      <td>NaN</td>\n",
       "      <td>2.0</td>\n",
       "      <td>130.0</td>\n",
       "      <td>NaN</td>\n",
       "    </tr>\n",
       "    <tr>\n",
       "      <th>3</th>\n",
       "      <td>2.0</td>\n",
       "      <td>j+Q/e0JM7odiRA++CP9qEA==</td>\n",
       "      <td>-34.52194214</td>\n",
       "      <td>-58.49274063</td>\n",
       "      <td>Argentina</td>\n",
       "      <td>Bs.As. G.B.A. Zona Norte</td>\n",
       "      <td>Vicente López</td>\n",
       "      <td>3.0</td>\n",
       "      <td>225.0</td>\n",
       "      <td>54000.0</td>\n",
       "      <td>ARS</td>\n",
       "      <td>Casa</td>\n",
       "      <td>Alquiler</td>\n",
       "      <td>2020-06-21</td>\n",
       "      <td>2020-07-17</td>\n",
       "      <td>2020-06-21</td>\n",
       "      <td>NaN</td>\n",
       "      <td>NaN</td>\n",
       "      <td>2.0</td>\n",
       "      <td>150.0</td>\n",
       "      <td>NaN</td>\n",
       "    </tr>\n",
       "    <tr>\n",
       "      <th>4</th>\n",
       "      <td>3.0</td>\n",
       "      <td>NRntKJlAtTVxxGu1KUWjGQ==</td>\n",
       "      <td>-34.55987549</td>\n",
       "      <td>-58.56618118</td>\n",
       "      <td>Argentina</td>\n",
       "      <td>Bs.As. G.B.A. Zona Norte</td>\n",
       "      <td>General San Martín</td>\n",
       "      <td>3.0</td>\n",
       "      <td>300.0</td>\n",
       "      <td>20000.0</td>\n",
       "      <td>ARS</td>\n",
       "      <td>Casa</td>\n",
       "      <td>Alquiler</td>\n",
       "      <td>2020-06-21</td>\n",
       "      <td>2020-06-23</td>\n",
       "      <td>2020-06-21</td>\n",
       "      <td>Villa Ballester</td>\n",
       "      <td>NaN</td>\n",
       "      <td>1.0</td>\n",
       "      <td>200.0</td>\n",
       "      <td>NaN</td>\n",
       "    </tr>\n",
       "    <tr>\n",
       "      <th>5</th>\n",
       "      <td>4.0</td>\n",
       "      <td>ebfgCc/SI6lHoJCmxW0tCA==</td>\n",
       "      <td>-34.567634399999996</td>\n",
       "      <td>-58.542189799999996</td>\n",
       "      <td>Argentina</td>\n",
       "      <td>Bs.As. G.B.A. Zona Norte</td>\n",
       "      <td>General San Martín</td>\n",
       "      <td>5.0</td>\n",
       "      <td>320.0</td>\n",
       "      <td>35000.0</td>\n",
       "      <td>ARS</td>\n",
       "      <td>Casa</td>\n",
       "      <td>Alquiler</td>\n",
       "      <td>2020-06-21</td>\n",
       "      <td>2020-06-23</td>\n",
       "      <td>2020-06-21</td>\n",
       "      <td>San Andres</td>\n",
       "      <td>NaN</td>\n",
       "      <td>NaN</td>\n",
       "      <td>250.0</td>\n",
       "      <td>Mensual</td>\n",
       "    </tr>\n",
       "    <tr>\n",
       "      <th>...</th>\n",
       "      <td>...</td>\n",
       "      <td>...</td>\n",
       "      <td>...</td>\n",
       "      <td>...</td>\n",
       "      <td>...</td>\n",
       "      <td>...</td>\n",
       "      <td>...</td>\n",
       "      <td>...</td>\n",
       "      <td>...</td>\n",
       "      <td>...</td>\n",
       "      <td>...</td>\n",
       "      <td>...</td>\n",
       "      <td>...</td>\n",
       "      <td>...</td>\n",
       "      <td>...</td>\n",
       "      <td>...</td>\n",
       "      <td>...</td>\n",
       "      <td>...</td>\n",
       "      <td>...</td>\n",
       "      <td>...</td>\n",
       "      <td>...</td>\n",
       "    </tr>\n",
       "    <tr>\n",
       "      <th>250616</th>\n",
       "      <td>250615.0</td>\n",
       "      <td>qviyqsT4HQJMEzRT1iMebw==</td>\n",
       "      <td>-34.6503</td>\n",
       "      <td>-58.6239</td>\n",
       "      <td>Argentina</td>\n",
       "      <td>Bs.As. G.B.A. Zona Oeste</td>\n",
       "      <td>Morón</td>\n",
       "      <td>4</td>\n",
       "      <td>170.0</td>\n",
       "      <td>40000.0</td>\n",
       "      <td>ARS</td>\n",
       "      <td>Oficina</td>\n",
       "      <td>Alquiler</td>\n",
       "      <td>2020-02-21</td>\n",
       "      <td>2020-09-23</td>\n",
       "      <td>2020-02-21</td>\n",
       "      <td>Morón</td>\n",
       "      <td>NaN</td>\n",
       "      <td>4</td>\n",
       "      <td>170</td>\n",
       "      <td>NaN</td>\n",
       "    </tr>\n",
       "    <tr>\n",
       "      <th>250620</th>\n",
       "      <td>250619.0</td>\n",
       "      <td>5BT85VxTHUF8UyezymqwcA==</td>\n",
       "      <td>-34.5755</td>\n",
       "      <td>-58.4194</td>\n",
       "      <td>Argentina</td>\n",
       "      <td>Capital Federal</td>\n",
       "      <td>Palermo</td>\n",
       "      <td>4</td>\n",
       "      <td>238.0</td>\n",
       "      <td>3000.0</td>\n",
       "      <td>USD</td>\n",
       "      <td>Departamento</td>\n",
       "      <td>Alquiler</td>\n",
       "      <td>2020-02-21</td>\n",
       "      <td>2020-02-22</td>\n",
       "      <td>2020-02-21</td>\n",
       "      <td>NaN</td>\n",
       "      <td>3</td>\n",
       "      <td>4</td>\n",
       "      <td>238</td>\n",
       "      <td>NaN</td>\n",
       "    </tr>\n",
       "    <tr>\n",
       "      <th>250627</th>\n",
       "      <td>250626.0</td>\n",
       "      <td>OiFTbd1IfVxF2rvurtPkJw==</td>\n",
       "      <td>-34.5643</td>\n",
       "      <td>-58.4355</td>\n",
       "      <td>Argentina</td>\n",
       "      <td>Capital Federal</td>\n",
       "      <td>Belgrano</td>\n",
       "      <td>4</td>\n",
       "      <td>230.0</td>\n",
       "      <td>2500.0</td>\n",
       "      <td>USD</td>\n",
       "      <td>Departamento</td>\n",
       "      <td>Alquiler</td>\n",
       "      <td>2020-02-21</td>\n",
       "      <td>2020-02-22</td>\n",
       "      <td>2020-02-21</td>\n",
       "      <td>NaN</td>\n",
       "      <td>2</td>\n",
       "      <td>4</td>\n",
       "      <td>200</td>\n",
       "      <td>NaN</td>\n",
       "    </tr>\n",
       "    <tr>\n",
       "      <th>250633</th>\n",
       "      <td>250632.0</td>\n",
       "      <td>LmnZqV2tx7BADp2eBf8YqQ==</td>\n",
       "      <td>-34.4349</td>\n",
       "      <td>-58.8308</td>\n",
       "      <td>Argentina</td>\n",
       "      <td>Bs.As. G.B.A. Zona Norte</td>\n",
       "      <td>Pilar</td>\n",
       "      <td>4</td>\n",
       "      <td>261.0</td>\n",
       "      <td>55000.0</td>\n",
       "      <td>ARS</td>\n",
       "      <td>Casa</td>\n",
       "      <td>Alquiler</td>\n",
       "      <td>2020-02-21</td>\n",
       "      <td>2020-03-02</td>\n",
       "      <td>2020-02-21</td>\n",
       "      <td>NaN</td>\n",
       "      <td>3</td>\n",
       "      <td>4</td>\n",
       "      <td>196</td>\n",
       "      <td>Mensual</td>\n",
       "    </tr>\n",
       "    <tr>\n",
       "      <th>250635</th>\n",
       "      <td>250634.0</td>\n",
       "      <td>pwqx5F8AGS42pyr6cwn2yg==</td>\n",
       "      <td>-34.8317</td>\n",
       "      <td>-54.6415</td>\n",
       "      <td>Uruguay</td>\n",
       "      <td>Maldonado</td>\n",
       "      <td>Punta del Este</td>\n",
       "      <td>5</td>\n",
       "      <td>446.0</td>\n",
       "      <td>18900.0</td>\n",
       "      <td>USD</td>\n",
       "      <td>Casa</td>\n",
       "      <td>Alquiler temporal</td>\n",
       "      <td>2020-02-21</td>\n",
       "      <td>9999-12-31</td>\n",
       "      <td>2020-02-21</td>\n",
       "      <td>NaN</td>\n",
       "      <td>4</td>\n",
       "      <td>4</td>\n",
       "      <td>446</td>\n",
       "      <td>Mensual</td>\n",
       "    </tr>\n",
       "  </tbody>\n",
       "</table>\n",
       "<p>73434 rows × 21 columns</p>\n",
       "</div>"
      ],
      "text/plain": [
       "0            NaN                        id  ... superficie_cubierta periodo_pago\n",
       "1            0.0  gKORqH/4a1GKVnz5ShdCnA==  ...               120.0          NaN\n",
       "2            1.0  ONwGxcJxznN0vzY24WIitA==  ...               130.0          NaN\n",
       "3            2.0  j+Q/e0JM7odiRA++CP9qEA==  ...               150.0          NaN\n",
       "4            3.0  NRntKJlAtTVxxGu1KUWjGQ==  ...               200.0          NaN\n",
       "5            4.0  ebfgCc/SI6lHoJCmxW0tCA==  ...               250.0      Mensual\n",
       "...          ...                       ...  ...                 ...          ...\n",
       "250616  250615.0  qviyqsT4HQJMEzRT1iMebw==  ...                 170          NaN\n",
       "250620  250619.0  5BT85VxTHUF8UyezymqwcA==  ...                 238          NaN\n",
       "250627  250626.0  OiFTbd1IfVxF2rvurtPkJw==  ...                 200          NaN\n",
       "250633  250632.0  LmnZqV2tx7BADp2eBf8YqQ==  ...                 196      Mensual\n",
       "250635  250634.0  pwqx5F8AGS42pyr6cwn2yg==  ...                 446      Mensual\n",
       "\n",
       "[73434 rows x 21 columns]"
      ]
     },
     "execution_count": 61,
     "metadata": {},
     "output_type": "execute_result"
    }
   ],
   "source": [
    "df_tipo_alquiler_float"
   ]
  },
  {
   "cell_type": "code",
   "execution_count": 62,
   "metadata": {
    "colab": {
     "base_uri": "https://localhost:8080/",
     "height": 308
    },
    "id": "5d4VDziK1DgO",
    "outputId": "0d4f1868-299b-4bec-fd47-1609e99eb9b5"
   },
   "outputs": [
    {
     "data": {
      "text/plain": [
       "<matplotlib.axes._subplots.AxesSubplot at 0x7fe12012a090>"
      ]
     },
     "execution_count": 62,
     "metadata": {},
     "output_type": "execute_result"
    },
    {
     "data": {
      "image/png": "[encoded data removed]",
      "text/plain": [
       "<Figure size 432x288 with 1 Axes>"
      ]
     },
     "metadata": {
      "needs_background": "light"
     },
     "output_type": "display_data"
    }
   ],
   "source": [
    "sns.scatterplot(data = df_tipo_alquiler_float,\n",
    "                x = \"superficie_total\",\n",
    "                y = \"precio\",\n",
    "                hue = \"tipo_prop\"\n",
    "                )"
   ]
  },
  {
   "cell_type": "markdown",
   "metadata": {
    "id": "Fhb2PL2FsA_e"
   },
   "source": [
    "🏷️ 9. Genere una variable denominada comuna en la cual tenga tres datos posibles:\n",
    "* **Comuna 1 :** barrios de Retiro, San Nicolás, Puerto Madero, San Telmo,Monserrat y Constitución.\n",
    "\n",
    "* **Comuna 3:** Balvanera y San Cristóbal\n",
    "\n",
    "* **Otros:** para el resto de los barrios"
   ]
  },
  {
   "cell_type": "code",
   "execution_count": 63,
   "metadata": {
    "colab": {
     "base_uri": "https://localhost:8080/",
     "height": 394
    },
    "id": "R-A2msCjUei3",
    "outputId": "abf43b34-5f2d-4099-f7fe-06acbf44fbf0"
   },
   "outputs": [
    {
     "data": {
      "text/html": [
       "<div>\n",
       "<style scoped>\n",
       "    .dataframe tbody tr th:only-of-type {\n",
       "        vertical-align: middle;\n",
       "    }\n",
       "\n",
       "    .dataframe tbody tr th {\n",
       "        vertical-align: top;\n",
       "    }\n",
       "\n",
       "    .dataframe thead th {\n",
       "        text-align: right;\n",
       "    }\n",
       "</style>\n",
       "<table border=\"1\" class=\"dataframe\">\n",
       "  <thead>\n",
       "    <tr style=\"text-align: right;\">\n",
       "      <th></th>\n",
       "      <th>NaN</th>\n",
       "      <th>id</th>\n",
       "      <th>lat</th>\n",
       "      <th>lon</th>\n",
       "      <th>pais</th>\n",
       "      <th>provincia</th>\n",
       "      <th>partido</th>\n",
       "      <th>ambientes</th>\n",
       "      <th>superficie_total</th>\n",
       "      <th>precio</th>\n",
       "      <th>moneda</th>\n",
       "      <th>tipo_prop</th>\n",
       "      <th>tipo_operacion</th>\n",
       "      <th>fecha_ini</th>\n",
       "      <th>fecha_fin</th>\n",
       "      <th>creacion</th>\n",
       "      <th>localidad</th>\n",
       "      <th>habitaciones</th>\n",
       "      <th>baños</th>\n",
       "      <th>superficie_cubierta</th>\n",
       "      <th>periodo_pago</th>\n",
       "    </tr>\n",
       "  </thead>\n",
       "  <tbody>\n",
       "    <tr>\n",
       "      <th>1</th>\n",
       "      <td>0.0</td>\n",
       "      <td>gKORqH/4a1GKVnz5ShdCnA==</td>\n",
       "      <td>-34.65429688</td>\n",
       "      <td>-58.73831558</td>\n",
       "      <td>Argentina</td>\n",
       "      <td>Bs.As. G.B.A. Zona Oeste</td>\n",
       "      <td>Merlo</td>\n",
       "      <td>2.0</td>\n",
       "      <td>280.0</td>\n",
       "      <td>17000.0</td>\n",
       "      <td>ARS</td>\n",
       "      <td>Casa</td>\n",
       "      <td>Alquiler</td>\n",
       "      <td>2020-06-21</td>\n",
       "      <td>2020-07-09</td>\n",
       "      <td>2020-06-21</td>\n",
       "      <td>Merlo</td>\n",
       "      <td>NaN</td>\n",
       "      <td>2.0</td>\n",
       "      <td>120.0</td>\n",
       "      <td>NaN</td>\n",
       "    </tr>\n",
       "    <tr>\n",
       "      <th>2</th>\n",
       "      <td>1.0</td>\n",
       "      <td>ONwGxcJxznN0vzY24WIitA==</td>\n",
       "      <td>-34.44532394</td>\n",
       "      <td>-58.97518158</td>\n",
       "      <td>Argentina</td>\n",
       "      <td>Bs.As. G.B.A. Zona Norte</td>\n",
       "      <td>Pilar</td>\n",
       "      <td>3.0</td>\n",
       "      <td>140.0</td>\n",
       "      <td>32000.0</td>\n",
       "      <td>ARS</td>\n",
       "      <td>Casa</td>\n",
       "      <td>Alquiler</td>\n",
       "      <td>2020-06-21</td>\n",
       "      <td>2020-07-21</td>\n",
       "      <td>2020-06-21</td>\n",
       "      <td>NaN</td>\n",
       "      <td>NaN</td>\n",
       "      <td>2.0</td>\n",
       "      <td>130.0</td>\n",
       "      <td>NaN</td>\n",
       "    </tr>\n",
       "    <tr>\n",
       "      <th>3</th>\n",
       "      <td>2.0</td>\n",
       "      <td>j+Q/e0JM7odiRA++CP9qEA==</td>\n",
       "      <td>-34.52194214</td>\n",
       "      <td>-58.49274063</td>\n",
       "      <td>Argentina</td>\n",
       "      <td>Bs.As. G.B.A. Zona Norte</td>\n",
       "      <td>Vicente López</td>\n",
       "      <td>3.0</td>\n",
       "      <td>225.0</td>\n",
       "      <td>54000.0</td>\n",
       "      <td>ARS</td>\n",
       "      <td>Casa</td>\n",
       "      <td>Alquiler</td>\n",
       "      <td>2020-06-21</td>\n",
       "      <td>2020-07-17</td>\n",
       "      <td>2020-06-21</td>\n",
       "      <td>NaN</td>\n",
       "      <td>NaN</td>\n",
       "      <td>2.0</td>\n",
       "      <td>150.0</td>\n",
       "      <td>NaN</td>\n",
       "    </tr>\n",
       "    <tr>\n",
       "      <th>4</th>\n",
       "      <td>3.0</td>\n",
       "      <td>NRntKJlAtTVxxGu1KUWjGQ==</td>\n",
       "      <td>-34.55987549</td>\n",
       "      <td>-58.56618118</td>\n",
       "      <td>Argentina</td>\n",
       "      <td>Bs.As. G.B.A. Zona Norte</td>\n",
       "      <td>General San Martín</td>\n",
       "      <td>3.0</td>\n",
       "      <td>300.0</td>\n",
       "      <td>20000.0</td>\n",
       "      <td>ARS</td>\n",
       "      <td>Casa</td>\n",
       "      <td>Alquiler</td>\n",
       "      <td>2020-06-21</td>\n",
       "      <td>2020-06-23</td>\n",
       "      <td>2020-06-21</td>\n",
       "      <td>Villa Ballester</td>\n",
       "      <td>NaN</td>\n",
       "      <td>1.0</td>\n",
       "      <td>200.0</td>\n",
       "      <td>NaN</td>\n",
       "    </tr>\n",
       "    <tr>\n",
       "      <th>5</th>\n",
       "      <td>4.0</td>\n",
       "      <td>ebfgCc/SI6lHoJCmxW0tCA==</td>\n",
       "      <td>-34.567634399999996</td>\n",
       "      <td>-58.542189799999996</td>\n",
       "      <td>Argentina</td>\n",
       "      <td>Bs.As. G.B.A. Zona Norte</td>\n",
       "      <td>General San Martín</td>\n",
       "      <td>5.0</td>\n",
       "      <td>320.0</td>\n",
       "      <td>35000.0</td>\n",
       "      <td>ARS</td>\n",
       "      <td>Casa</td>\n",
       "      <td>Alquiler</td>\n",
       "      <td>2020-06-21</td>\n",
       "      <td>2020-06-23</td>\n",
       "      <td>2020-06-21</td>\n",
       "      <td>San Andres</td>\n",
       "      <td>NaN</td>\n",
       "      <td>NaN</td>\n",
       "      <td>250.0</td>\n",
       "      <td>Mensual</td>\n",
       "    </tr>\n",
       "  </tbody>\n",
       "</table>\n",
       "</div>"
      ],
      "text/plain": [
       "0  NaN                        id  ... superficie_cubierta periodo_pago\n",
       "1  0.0  gKORqH/4a1GKVnz5ShdCnA==  ...               120.0          NaN\n",
       "2  1.0  ONwGxcJxznN0vzY24WIitA==  ...               130.0          NaN\n",
       "3  2.0  j+Q/e0JM7odiRA++CP9qEA==  ...               150.0          NaN\n",
       "4  3.0  NRntKJlAtTVxxGu1KUWjGQ==  ...               200.0          NaN\n",
       "5  4.0  ebfgCc/SI6lHoJCmxW0tCA==  ...               250.0      Mensual\n",
       "\n",
       "[5 rows x 21 columns]"
      ]
     },
     "execution_count": 63,
     "metadata": {},
     "output_type": "execute_result"
    }
   ],
   "source": [
    "df.head()"
   ]
  },
  {
   "cell_type": "code",
   "execution_count": 64,
   "metadata": {
    "colab": {
     "base_uri": "https://localhost:8080/"
    },
    "id": "5Sygn3YXUnJv",
    "outputId": "3fd1ae9b-c0fa-49e5-c64f-b319182f9f13"
   },
   "outputs": [
    {
     "data": {
      "text/plain": [
       "Nordelta                          5253\n",
       "La Plata                          3929\n",
       "Palermo Hollywood                 2705\n",
       "Olivos                            2366\n",
       "Palermo Chico                     2028\n",
       "                                  ... \n",
       "Country Los Rosales                  1\n",
       "Villa Numancia                       1\n",
       "Azul                                 1\n",
       "Colina de Peralta Ramos              1\n",
       "Barrio Cerrado \"Pilar Privado\"       1\n",
       "Name: localidad, Length: 681, dtype: int64"
      ]
     },
     "execution_count": 64,
     "metadata": {},
     "output_type": "execute_result"
    }
   ],
   "source": [
    "df[\"localidad\"].value_counts()"
   ]
  },
  {
   "cell_type": "code",
   "execution_count": 65,
   "metadata": {
    "id": "p54aQh2p-orV"
   },
   "outputs": [],
   "source": [
    "df['comuna'] = np.where(df.localidad.isin({\"Retiro\", \"San Nicolás\", \"Puerto Madero\", \"San Telmo\",\"Monserrat\", \"Constitución\"}),\"Comuna 1\",\"Otros\")"
   ]
  },
  {
   "cell_type": "code",
   "execution_count": 66,
   "metadata": {
    "id": "KwZYX2o1VTfC"
   },
   "outputs": [],
   "source": [
    "df['comuna'] = np.where(df.localidad.isin({\"Balvanera\",\"San Cristóbal\"}),\"Comuna 3\",\"Otros\")"
   ]
  },
  {
   "cell_type": "code",
   "execution_count": 67,
   "metadata": {
    "colab": {
     "base_uri": "https://localhost:8080/"
    },
    "id": "Mq61qVosVio4",
    "outputId": "cc314c49-c709-4982-8bae-d70aaa9499c2"
   },
   "outputs": [
    {
     "data": {
      "text/plain": [
       "Otros    250655\n",
       "Name: comuna, dtype: int64"
      ]
     },
     "execution_count": 67,
     "metadata": {},
     "output_type": "execute_result"
    }
   ],
   "source": [
    "#Verificar, el resultado no parece ser correcto\n",
    "df['comuna'].value_counts()"
   ]
  },
  {
   "cell_type": "markdown",
   "metadata": {
    "id": "iwz0i8JZsQMz"
   },
   "source": [
    "🏷️ 10. Genere un scatterplot en el cual el eje x es la superficie total y el eje y los precios, asimismo asigne colores para visualizar la variable comuna (la misma fue generada en el paso anterior).\n",
    "Los colores deben ser:\n",
    "* comuna 1: rojo, \n",
    "* comuna 3: verde y \n",
    "* el resto en color naranja."
   ]
  },
  {
   "cell_type": "code",
   "execution_count": null,
   "metadata": {
    "id": "4pYqagM_-8FT"
   },
   "outputs": [],
   "source": []
  },
  {
   "cell_type": "markdown",
   "metadata": {
    "id": "Gd2w8GQosuEX"
   },
   "source": [
    "🏷️ 11. Genere un gráfico para ver la distribución de los ambientes."
   ]
  },
  {
   "cell_type": "code",
   "execution_count": null,
   "metadata": {
    "id": "H8ptHG_F7StI"
   },
   "outputs": [],
   "source": []
  },
  {
   "cell_type": "markdown",
   "metadata": {
    "id": "P_p_t8r1tCik"
   },
   "source": [
    "🏷️ 12. Genere una variable denominada \"amb_desc\" en la cual si la propiedad tiene mas de 5 ambientes colocar 6, de lo contrario mantener el valor que actualmente poseen."
   ]
  },
  {
   "cell_type": "code",
   "execution_count": null,
   "metadata": {
    "id": "xJDn1y_o9o5w"
   },
   "outputs": [],
   "source": []
  },
  {
   "cell_type": "markdown",
   "metadata": {
    "id": "BMd9FNdKtpxm"
   },
   "source": [
    "🏷️ 13. Realice un gráfico para ver la cantidad de propiedades en base a la variable generada en el paso anterior.\n",
    "\n"
   ]
  },
  {
   "cell_type": "code",
   "execution_count": null,
   "metadata": {
    "id": "VeQcGx1i9pR8"
   },
   "outputs": [],
   "source": []
  },
  {
   "cell_type": "markdown",
   "metadata": {
    "id": "BfKfw2kD_OGY"
   },
   "source": [
    "🏷️ 14. Modifique el scatterplot generado en el ejercicio nro 10, y en este nuevo grafico realice mosaicos por la variable \"amb_desc\", esto significa que debe tener 6 gráficos como resultado."
   ]
  },
  {
   "cell_type": "code",
   "execution_count": null,
   "metadata": {
    "id": "1l1BXoIH_Or1"
   },
   "outputs": [],
   "source": []
  },
  {
   "cell_type": "markdown",
   "metadata": {
    "id": "9UUTC62htgCA"
   },
   "source": [
    "🏷️ 15. Modifique el gráfico anterior para poder visualizar por fila solo 3 gráficos."
   ]
  },
  {
   "cell_type": "code",
   "execution_count": null,
   "metadata": {
    "id": "wrQCKukZ_TxV"
   },
   "outputs": [],
   "source": []
  },
  {
   "cell_type": "markdown",
   "metadata": {
    "id": "xcWZFTxM-5uw"
   },
   "source": [
    "🏷️ 16. Generar un lineplot en donde se visualice en el eje x el año y en el eje y la frecuencia.\n",
    "Asimismo debe tomar un color para el año 2020 y otro para el 2019."
   ]
  },
  {
   "cell_type": "code",
   "execution_count": null,
   "metadata": {
    "id": "3VIly7-M7S5K"
   },
   "outputs": [],
   "source": []
  },
  {
   "cell_type": "code",
   "execution_count": null,
   "metadata": {
    "id": "SIFwHsJ81DZ8"
   },
   "outputs": [],
   "source": []
  },
  {
   "cell_type": "markdown",
   "metadata": {
    "id": "ApXyBjXwBjqJ"
   },
   "source": [
    "🏷️ 17. Genere un gráfico a partir del metodo countplot en el cual se visualicen los 10 barrios con más propuedades.\n",
    "En el mismo las barras deben estar ordenada en forma decreciente."
   ]
  },
  {
   "cell_type": "code",
   "execution_count": null,
   "metadata": {
    "id": "mRyLn6T_AUMB"
   },
   "outputs": [],
   "source": []
  },
  {
   "cell_type": "markdown",
   "metadata": {
    "id": "w6l9_l0su7oQ"
   },
   "source": [
    "🏷️ Cual es el barrio que más propiedades tiene?\n",
    "\n",
    "* [x] Palermo\n",
    "* [ ] Retiro\n",
    "* [ ] Caballito\n"
   ]
  },
  {
   "cell_type": "markdown",
   "metadata": {
    "id": "SIn6O_OKztf3"
   },
   "source": [
    "🏷️ 18. Modificar el gráfico anterior para visualizar la cantidad de ambientes por cada uno de los 10 barrios.\n",
    "**Pista:** Utilice la variable \"amb_desc\""
   ]
  },
  {
   "cell_type": "code",
   "execution_count": null,
   "metadata": {
    "id": "H0xRriKRAURE"
   },
   "outputs": [],
   "source": []
  },
  {
   "cell_type": "markdown",
   "metadata": {
    "id": "Oj24F28c0kuD"
   },
   "source": [
    "🏷️ 19. Generar un boxplot para ver la distribución de los precios por tipo de propiedad en los 10 barrios con más propiedades"
   ]
  },
  {
   "cell_type": "code",
   "execution_count": null,
   "metadata": {
    "id": "btsRqAC1AUqr"
   },
   "outputs": [],
   "source": []
  },
  {
   "cell_type": "markdown",
   "metadata": {
    "id": "-DX_3u3oMVMq"
   },
   "source": [
    "🏷️ 20. Generar un boxplot por tipo de propiedad para ver la distribución de los precios para los 10 barrios con más propiedades.\n",
    "Adicionalmente modifique la paleta de colores, en el siguiente link puede ver cuales son las disponibles:\n",
    "https://seaborn.pydata.org/tutorial/color_palettes.html\n",
    "\n"
   ]
  },
  {
   "cell_type": "code",
   "execution_count": null,
   "metadata": {
    "id": "4lyVmB2VAUmP"
   },
   "outputs": [],
   "source": []
  },
  {
   "cell_type": "markdown",
   "metadata": {
    "id": "Duom31bLMw0K"
   },
   "source": [
    "🏷️ 21. Modificar el gráfico realizado en el paso anterior para que no se vean los outliers."
   ]
  },
  {
   "cell_type": "code",
   "execution_count": null,
   "metadata": {
    "id": "EEmIDoylCaTr"
   },
   "outputs": [],
   "source": []
  },
  {
   "cell_type": "markdown",
   "metadata": {
    "id": "AYbVADOvM9FS"
   },
   "source": [
    "🏷️ 22. Modificar el gráfico realizado en el paso anterior para que sea un violinplot sin outliers, y adicionalmente agregar un split por tipo de operación."
   ]
  },
  {
   "cell_type": "code",
   "execution_count": null,
   "metadata": {
    "id": "sEgERqAOCaaS"
   },
   "outputs": [],
   "source": []
  },
  {
   "cell_type": "markdown",
   "metadata": {
    "id": "VLQwVP3TNbyZ"
   },
   "source": [
    "🏷️ 23. Generar un heatmap tomando las variables amb_desc y barrios, el mismo debe tomar el conjunto de datos que tiene los alquileres para los 10 barrios con más propiedades.\n",
    "Utilizar como función: \"count\"."
   ]
  },
  {
   "cell_type": "code",
   "execution_count": null,
   "metadata": {
    "id": "_23ErJm2EXaT"
   },
   "outputs": [],
   "source": []
  },
  {
   "cell_type": "markdown",
   "metadata": {
    "id": "mWY5hJC3NJjG"
   },
   "source": [
    "🏷️ 24. Generar un heatmap tomando las variables amb_desc y barrios, el mismo debe tomar el conjunto de datos que tiene los alquileres para los 10 barrios con más propiedades.\n",
    "\n",
    "Utilizar como función la media para los precios."
   ]
  },
  {
   "cell_type": "code",
   "execution_count": null,
   "metadata": {
    "id": "n9SB_qYtCaJ-"
   },
   "outputs": [],
   "source": []
  },
  {
   "cell_type": "markdown",
   "metadata": {
    "id": "NUdwgNEJNsKw"
   },
   "source": [
    "🏷️ 25. Agregar al gráfico generado en el paso anterior el parametro normalize='index', Que diferencia puede observar?"
   ]
  },
  {
   "cell_type": "code",
   "execution_count": null,
   "metadata": {
    "id": "Qg6DOOXAEXkP"
   },
   "outputs": [],
   "source": []
  }
 ],
 "metadata": {
  "colab": {
   "collapsed_sections": [],
   "name": "02_Dataframes_seaborn_properati.ipynb",
   "provenance": []
  },
  "kernelspec": {
   "display_name": "Python 3",
   "language": "python",
   "name": "python3"
  },
  "language_info": {
   "codemirror_mode": {
    "name": "ipython",
    "version": 3
   },
   "file_extension": ".py",
   "mimetype": "text/x-python",
   "name": "python",
   "nbconvert_exporter": "python",
   "pygments_lexer": "ipython3",
   "version": "3.7.3"
  }
 },
 "nbformat": 4,
 "nbformat_minor": 1
}
