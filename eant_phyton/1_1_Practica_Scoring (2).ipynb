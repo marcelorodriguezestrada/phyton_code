{
  "nbformat": 4,
  "nbformat_minor": 0,
  "metadata": {
    "colab": {
      "name": "1_1_Practica_Scoring.ipynb",
      "provenance": [],
      "collapsed_sections": []
    },
    "kernelspec": {
      "name": "python3",
      "display_name": "Python 3"
    }
  },
  "cells": [
    {
      "cell_type": "markdown",
      "metadata": {
        "id": "itWmrrcVfdH9"
      },
      "source": [
        " <img src=\"https://eant.tech/imagenes/logo.png\" width=25% height=80%  >  \n",
        "\n",
        "\n",
        "## <img src=\"http://icons.iconarchive.com/icons/cornmanthe3rd/plex/256/Other-python-icon.png\" width=\"40\"> Ejercicio Base de Scoring\n",
        "\n",
        "\n",
        "<center>\n",
        " <img src=\"https://miro.medium.com/max/1200/1*ZKa__3DMmxYlzXRg2EMKGA.png\" width=\"50%\" height=\"10%\"> \n",
        "</center>\n",
        "\n",
        "\n",
        "🏷️ 1. Importar pandas, numpy, datetime y os.\n"
      ]
    },
    {
      "cell_type": "code",
      "metadata": {
        "id": "6jhAEdTDij_t"
      },
      "source": [
        "import pandas as pd\n",
        "import numpy as np\n",
        "import datetime\n",
        "import os\n",
        "from google.colab import files"
      ],
      "execution_count": 1,
      "outputs": []
    },
    {
      "cell_type": "code",
      "metadata": {
        "id": "vmgG0mokCeyw"
      },
      "source": [
        ""
      ],
      "execution_count": null,
      "outputs": []
    },
    {
      "cell_type": "markdown",
      "metadata": {
        "id": "BNBRdLPkIQKc"
      },
      "source": [
        "🏷️ 2. Importar el archivo de base_scoring.csv"
      ]
    },
    {
      "cell_type": "code",
      "metadata": {
        "id": "npcYmcz5fWdv",
        "colab": {
          "resources": {
            "http://localhost:8080/nbextensions/google.colab/files.js": {
              "data": "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",
              "ok": true,
              "headers": [
                [
                  "content-type",
                  "application/javascript"
                ]
              ],
              "status": 200,
              "status_text": ""
            }
          },
          "base_uri": "https://localhost:8080/",
          "height": 73
        },
        "outputId": "2431b8d4-d7b1-4847-f340-7fdf22ea2aa9"
      },
      "source": [
        "df = files.upload()\n"
      ],
      "execution_count": 4,
      "outputs": [
        {
          "output_type": "display_data",
          "data": {
            "text/html": [
              "\n",
              "     <input type=\"file\" id=\"files-e6739ca2-4b3d-40c8-bcdf-f517cb94ed6d\" name=\"files[]\" multiple disabled\n",
              "        style=\"border:none\" />\n",
              "     <output id=\"result-e6739ca2-4b3d-40c8-bcdf-f517cb94ed6d\">\n",
              "      Upload widget is only available when the cell has been executed in the\n",
              "      current browser session. Please rerun this cell to enable.\n",
              "      </output>\n",
              "      <script src=\"/nbextensions/google.colab/files.js\"></script> "
            ],
            "text/plain": [
              "<IPython.core.display.HTML object>"
            ]
          },
          "metadata": {}
        },
        {
          "output_type": "stream",
          "text": [
            "Saving base_scoring.csv to base_scoring (1).csv\n"
          ],
          "name": "stdout"
        }
      ]
    },
    {
      "cell_type": "code",
      "metadata": {
        "id": "-uk5QunfUVqt"
      },
      "source": [
        "df = pd.read_csv(\"/content/base_scoring.csv\", sep = \";\")"
      ],
      "execution_count": 5,
      "outputs": []
    },
    {
      "cell_type": "code",
      "metadata": {
        "id": "MIqOfqL2WXMe"
      },
      "source": [
        "df"
      ],
      "execution_count": null,
      "outputs": []
    },
    {
      "cell_type": "markdown",
      "metadata": {
        "id": "4oJaM8WipBUB"
      },
      "source": [
        "🏷️ 3. Visualizar las columnas del dataframe"
      ]
    },
    {
      "cell_type": "code",
      "metadata": {
        "id": "PxYCUzlagSjB",
        "colab": {
          "base_uri": "https://localhost:8080/"
        },
        "outputId": "19a4f381-88a1-422c-9db7-8ce2642e5790"
      },
      "source": [
        "df.columns"
      ],
      "execution_count": 7,
      "outputs": [
        {
          "output_type": "execute_result",
          "data": {
            "text/plain": [
              "Index(['PLAZO', 'PRESTAMOS_ANTERIORES', 'SCORE_VERAZ', 'ESTADO_CIVIL',\n",
              "       'DEUDA_SIST_FIN', 'INGRESOS_PERSONALES', 'dias_mora'],\n",
              "      dtype='object')"
            ]
          },
          "metadata": {},
          "execution_count": 7
        }
      ]
    },
    {
      "cell_type": "markdown",
      "metadata": {
        "id": "Z1Cwz94dIdzC"
      },
      "source": [
        "🏷️ 4. Generar una variable denominada **`'Mora_mas_90'`** en la cual:\n",
        "\n",
        "  * si los dias de mora superan a los 90 dias asignar el valor **1**\n",
        "  * si no supera los 90 dias asginar el valor **0**\n"
      ]
    },
    {
      "cell_type": "code",
      "metadata": {
        "id": "UcNl-xhUWlmd"
      },
      "source": [
        "df[\"Mora_mas_90\"] = np.where(df[\"dias_mora\"] >= 90, 1, 0)"
      ],
      "execution_count": 8,
      "outputs": []
    },
    {
      "cell_type": "code",
      "metadata": {
        "colab": {
          "base_uri": "https://localhost:8080/",
          "height": 415
        },
        "id": "I36RVMZzYaCb",
        "outputId": "230dd8da-5916-4edd-94ee-31d6e4b75217"
      },
      "source": [
        "df"
      ],
      "execution_count": 9,
      "outputs": [
        {
          "output_type": "execute_result",
          "data": {
            "text/html": [
              "<div>\n",
              "<style scoped>\n",
              "    .dataframe tbody tr th:only-of-type {\n",
              "        vertical-align: middle;\n",
              "    }\n",
              "\n",
              "    .dataframe tbody tr th {\n",
              "        vertical-align: top;\n",
              "    }\n",
              "\n",
              "    .dataframe thead th {\n",
              "        text-align: right;\n",
              "    }\n",
              "</style>\n",
              "<table border=\"1\" class=\"dataframe\">\n",
              "  <thead>\n",
              "    <tr style=\"text-align: right;\">\n",
              "      <th></th>\n",
              "      <th>PLAZO</th>\n",
              "      <th>PRESTAMOS_ANTERIORES</th>\n",
              "      <th>SCORE_VERAZ</th>\n",
              "      <th>ESTADO_CIVIL</th>\n",
              "      <th>DEUDA_SIST_FIN</th>\n",
              "      <th>INGRESOS_PERSONALES</th>\n",
              "      <th>dias_mora</th>\n",
              "      <th>Mora_mas_90</th>\n",
              "    </tr>\n",
              "  </thead>\n",
              "  <tbody>\n",
              "    <tr>\n",
              "      <th>0</th>\n",
              "      <td>48</td>\n",
              "      <td>3</td>\n",
              "      <td>801.0</td>\n",
              "      <td>NaN</td>\n",
              "      <td>153878.43720</td>\n",
              "      <td>212512.59370</td>\n",
              "      <td>0</td>\n",
              "      <td>0</td>\n",
              "    </tr>\n",
              "    <tr>\n",
              "      <th>1</th>\n",
              "      <td>18</td>\n",
              "      <td>1</td>\n",
              "      <td>NaN</td>\n",
              "      <td>Soltero</td>\n",
              "      <td>22306.12750</td>\n",
              "      <td>130572.45360</td>\n",
              "      <td>0</td>\n",
              "      <td>0</td>\n",
              "    </tr>\n",
              "    <tr>\n",
              "      <th>2</th>\n",
              "      <td>47</td>\n",
              "      <td>5</td>\n",
              "      <td>446.0</td>\n",
              "      <td>Soltero</td>\n",
              "      <td>29200.00000</td>\n",
              "      <td>230000.00000</td>\n",
              "      <td>0</td>\n",
              "      <td>0</td>\n",
              "    </tr>\n",
              "    <tr>\n",
              "      <th>3</th>\n",
              "      <td>48</td>\n",
              "      <td>4</td>\n",
              "      <td>NaN</td>\n",
              "      <td>Soltero</td>\n",
              "      <td>81159.60888</td>\n",
              "      <td>105732.66300</td>\n",
              "      <td>0</td>\n",
              "      <td>0</td>\n",
              "    </tr>\n",
              "    <tr>\n",
              "      <th>4</th>\n",
              "      <td>24</td>\n",
              "      <td>3</td>\n",
              "      <td>153.0</td>\n",
              "      <td>Soltero</td>\n",
              "      <td>16527.33398</td>\n",
              "      <td>112860.68950</td>\n",
              "      <td>0</td>\n",
              "      <td>0</td>\n",
              "    </tr>\n",
              "    <tr>\n",
              "      <th>...</th>\n",
              "      <td>...</td>\n",
              "      <td>...</td>\n",
              "      <td>...</td>\n",
              "      <td>...</td>\n",
              "      <td>...</td>\n",
              "      <td>...</td>\n",
              "      <td>...</td>\n",
              "      <td>...</td>\n",
              "    </tr>\n",
              "    <tr>\n",
              "      <th>2608</th>\n",
              "      <td>32</td>\n",
              "      <td>3</td>\n",
              "      <td>589.0</td>\n",
              "      <td>CASADO</td>\n",
              "      <td>78494.76057</td>\n",
              "      <td>206844.30150</td>\n",
              "      <td>312</td>\n",
              "      <td>1</td>\n",
              "    </tr>\n",
              "    <tr>\n",
              "      <th>2609</th>\n",
              "      <td>48</td>\n",
              "      <td>3</td>\n",
              "      <td>NaN</td>\n",
              "      <td>CASADO</td>\n",
              "      <td>310585.85240</td>\n",
              "      <td>166153.47920</td>\n",
              "      <td>239</td>\n",
              "      <td>1</td>\n",
              "    </tr>\n",
              "    <tr>\n",
              "      <th>2610</th>\n",
              "      <td>36</td>\n",
              "      <td>2</td>\n",
              "      <td>658.0</td>\n",
              "      <td>NaN</td>\n",
              "      <td>39961.73804</td>\n",
              "      <td>67068.65126</td>\n",
              "      <td>277</td>\n",
              "      <td>1</td>\n",
              "    </tr>\n",
              "    <tr>\n",
              "      <th>2611</th>\n",
              "      <td>12</td>\n",
              "      <td>4</td>\n",
              "      <td>943.0</td>\n",
              "      <td>CASADO</td>\n",
              "      <td>34774.78806</td>\n",
              "      <td>278198.30450</td>\n",
              "      <td>179</td>\n",
              "      <td>1</td>\n",
              "    </tr>\n",
              "    <tr>\n",
              "      <th>2612</th>\n",
              "      <td>24</td>\n",
              "      <td>1</td>\n",
              "      <td>583.0</td>\n",
              "      <td>SOLTERO</td>\n",
              "      <td>48440.46035</td>\n",
              "      <td>132592.50100</td>\n",
              "      <td>93</td>\n",
              "      <td>1</td>\n",
              "    </tr>\n",
              "  </tbody>\n",
              "</table>\n",
              "<p>2613 rows × 8 columns</p>\n",
              "</div>"
            ],
            "text/plain": [
              "      PLAZO  PRESTAMOS_ANTERIORES  ...  dias_mora Mora_mas_90\n",
              "0        48                     3  ...          0           0\n",
              "1        18                     1  ...          0           0\n",
              "2        47                     5  ...          0           0\n",
              "3        48                     4  ...          0           0\n",
              "4        24                     3  ...          0           0\n",
              "...     ...                   ...  ...        ...         ...\n",
              "2608     32                     3  ...        312           1\n",
              "2609     48                     3  ...        239           1\n",
              "2610     36                     2  ...        277           1\n",
              "2611     12                     4  ...        179           1\n",
              "2612     24                     1  ...         93           1\n",
              "\n",
              "[2613 rows x 8 columns]"
            ]
          },
          "metadata": {},
          "execution_count": 9
        }
      ]
    },
    {
      "cell_type": "markdown",
      "metadata": {
        "id": "m0SFYku-IkWD"
      },
      "source": [
        "🏷️ 5. Eliminar la columna que contiene la cantidad de días de mora"
      ]
    },
    {
      "cell_type": "code",
      "metadata": {
        "id": "fM4BEiGYWnQ9"
      },
      "source": [
        "df = df.drop(\"dias_mora\", axis = 1 )"
      ],
      "execution_count": 10,
      "outputs": []
    },
    {
      "cell_type": "code",
      "metadata": {
        "colab": {
          "base_uri": "https://localhost:8080/",
          "height": 415
        },
        "id": "-7wEbgcebxmv",
        "outputId": "7e8390a1-c26c-4711-954d-17e3a6aa382a"
      },
      "source": [
        "del df['dias_mora']\n"
      ],
      "execution_count": 11,
      "outputs": [
        {
          "output_type": "execute_result",
          "data": {
            "text/html": [
              "<div>\n",
              "<style scoped>\n",
              "    .dataframe tbody tr th:only-of-type {\n",
              "        vertical-align: middle;\n",
              "    }\n",
              "\n",
              "    .dataframe tbody tr th {\n",
              "        vertical-align: top;\n",
              "    }\n",
              "\n",
              "    .dataframe thead th {\n",
              "        text-align: right;\n",
              "    }\n",
              "</style>\n",
              "<table border=\"1\" class=\"dataframe\">\n",
              "  <thead>\n",
              "    <tr style=\"text-align: right;\">\n",
              "      <th></th>\n",
              "      <th>PLAZO</th>\n",
              "      <th>PRESTAMOS_ANTERIORES</th>\n",
              "      <th>SCORE_VERAZ</th>\n",
              "      <th>ESTADO_CIVIL</th>\n",
              "      <th>DEUDA_SIST_FIN</th>\n",
              "      <th>INGRESOS_PERSONALES</th>\n",
              "      <th>Mora_mas_90</th>\n",
              "    </tr>\n",
              "  </thead>\n",
              "  <tbody>\n",
              "    <tr>\n",
              "      <th>0</th>\n",
              "      <td>48</td>\n",
              "      <td>3</td>\n",
              "      <td>801.0</td>\n",
              "      <td>NaN</td>\n",
              "      <td>153878.43720</td>\n",
              "      <td>212512.59370</td>\n",
              "      <td>0</td>\n",
              "    </tr>\n",
              "    <tr>\n",
              "      <th>1</th>\n",
              "      <td>18</td>\n",
              "      <td>1</td>\n",
              "      <td>NaN</td>\n",
              "      <td>Soltero</td>\n",
              "      <td>22306.12750</td>\n",
              "      <td>130572.45360</td>\n",
              "      <td>0</td>\n",
              "    </tr>\n",
              "    <tr>\n",
              "      <th>2</th>\n",
              "      <td>47</td>\n",
              "      <td>5</td>\n",
              "      <td>446.0</td>\n",
              "      <td>Soltero</td>\n",
              "      <td>29200.00000</td>\n",
              "      <td>230000.00000</td>\n",
              "      <td>0</td>\n",
              "    </tr>\n",
              "    <tr>\n",
              "      <th>3</th>\n",
              "      <td>48</td>\n",
              "      <td>4</td>\n",
              "      <td>NaN</td>\n",
              "      <td>Soltero</td>\n",
              "      <td>81159.60888</td>\n",
              "      <td>105732.66300</td>\n",
              "      <td>0</td>\n",
              "    </tr>\n",
              "    <tr>\n",
              "      <th>4</th>\n",
              "      <td>24</td>\n",
              "      <td>3</td>\n",
              "      <td>153.0</td>\n",
              "      <td>Soltero</td>\n",
              "      <td>16527.33398</td>\n",
              "      <td>112860.68950</td>\n",
              "      <td>0</td>\n",
              "    </tr>\n",
              "    <tr>\n",
              "      <th>...</th>\n",
              "      <td>...</td>\n",
              "      <td>...</td>\n",
              "      <td>...</td>\n",
              "      <td>...</td>\n",
              "      <td>...</td>\n",
              "      <td>...</td>\n",
              "      <td>...</td>\n",
              "    </tr>\n",
              "    <tr>\n",
              "      <th>2608</th>\n",
              "      <td>32</td>\n",
              "      <td>3</td>\n",
              "      <td>589.0</td>\n",
              "      <td>CASADO</td>\n",
              "      <td>78494.76057</td>\n",
              "      <td>206844.30150</td>\n",
              "      <td>1</td>\n",
              "    </tr>\n",
              "    <tr>\n",
              "      <th>2609</th>\n",
              "      <td>48</td>\n",
              "      <td>3</td>\n",
              "      <td>NaN</td>\n",
              "      <td>CASADO</td>\n",
              "      <td>310585.85240</td>\n",
              "      <td>166153.47920</td>\n",
              "      <td>1</td>\n",
              "    </tr>\n",
              "    <tr>\n",
              "      <th>2610</th>\n",
              "      <td>36</td>\n",
              "      <td>2</td>\n",
              "      <td>658.0</td>\n",
              "      <td>NaN</td>\n",
              "      <td>39961.73804</td>\n",
              "      <td>67068.65126</td>\n",
              "      <td>1</td>\n",
              "    </tr>\n",
              "    <tr>\n",
              "      <th>2611</th>\n",
              "      <td>12</td>\n",
              "      <td>4</td>\n",
              "      <td>943.0</td>\n",
              "      <td>CASADO</td>\n",
              "      <td>34774.78806</td>\n",
              "      <td>278198.30450</td>\n",
              "      <td>1</td>\n",
              "    </tr>\n",
              "    <tr>\n",
              "      <th>2612</th>\n",
              "      <td>24</td>\n",
              "      <td>1</td>\n",
              "      <td>583.0</td>\n",
              "      <td>SOLTERO</td>\n",
              "      <td>48440.46035</td>\n",
              "      <td>132592.50100</td>\n",
              "      <td>1</td>\n",
              "    </tr>\n",
              "  </tbody>\n",
              "</table>\n",
              "<p>2613 rows × 7 columns</p>\n",
              "</div>"
            ],
            "text/plain": [
              "      PLAZO  PRESTAMOS_ANTERIORES  ...  INGRESOS_PERSONALES Mora_mas_90\n",
              "0        48                     3  ...         212512.59370           0\n",
              "1        18                     1  ...         130572.45360           0\n",
              "2        47                     5  ...         230000.00000           0\n",
              "3        48                     4  ...         105732.66300           0\n",
              "4        24                     3  ...         112860.68950           0\n",
              "...     ...                   ...  ...                  ...         ...\n",
              "2608     32                     3  ...         206844.30150           1\n",
              "2609     48                     3  ...         166153.47920           1\n",
              "2610     36                     2  ...          67068.65126           1\n",
              "2611     12                     4  ...         278198.30450           1\n",
              "2612     24                     1  ...         132592.50100           1\n",
              "\n",
              "[2613 rows x 7 columns]"
            ]
          },
          "metadata": {},
          "execution_count": 11
        }
      ]
    },
    {
      "cell_type": "markdown",
      "metadata": {
        "id": "c0PU-qrHIpTK"
      },
      "source": [
        "🏷️ 6. Cual es el **`ESTADO_CIVIL`** más frecuente?"
      ]
    },
    {
      "cell_type": "code",
      "metadata": {
        "id": "B6J8mtQuWoTl",
        "colab": {
          "base_uri": "https://localhost:8080/"
        },
        "outputId": "29fe861c-cc0b-4222-b1ed-d0418380ebe0"
      },
      "source": [
        "df.ESTADO_CIVIL.value_counts()"
      ],
      "execution_count": 12,
      "outputs": [
        {
          "output_type": "execute_result",
          "data": {
            "text/plain": [
              "CASADO        1092\n",
              "SOLTERO        672\n",
              "Soltero        501\n",
              "DIVORCIADO     253\n",
              "VIUDO           25\n",
              "Name: ESTADO_CIVIL, dtype: int64"
            ]
          },
          "metadata": {},
          "execution_count": 12
        }
      ]
    },
    {
      "cell_type": "markdown",
      "metadata": {
        "id": "kktypvRNItxF"
      },
      "source": [
        "🏷️ 7. Verificar nuevamente el ejercicio 6 y corregir lo que sea necesario"
      ]
    },
    {
      "cell_type": "code",
      "metadata": {
        "id": "wDqHc70BWpEO",
        "colab": {
          "base_uri": "https://localhost:8080/"
        },
        "outputId": "ae696139-2f42-4cd3-9bb6-3f0b1f92e627"
      },
      "source": [
        "df.ESTADO_CIVIL.unique()"
      ],
      "execution_count": 13,
      "outputs": [
        {
          "output_type": "execute_result",
          "data": {
            "text/plain": [
              "array([nan, 'Soltero', 'CASADO', 'DIVORCIADO', 'SOLTERO', 'VIUDO'],\n",
              "      dtype=object)"
            ]
          },
          "metadata": {},
          "execution_count": 13
        }
      ]
    },
    {
      "cell_type": "code",
      "metadata": {
        "id": "fm9X2O7ec9Jg"
      },
      "source": [
        "df[\"ESTADO_CIVIL\"] = np.where(df[\"ESTADO_CIVIL\"] == \"Soltero\", \"SOLTERO\", df[\"ESTADO_CIVIL\"])"
      ],
      "execution_count": 14,
      "outputs": []
    },
    {
      "cell_type": "code",
      "metadata": {
        "colab": {
          "base_uri": "https://localhost:8080/"
        },
        "id": "h1elivUvdXbr",
        "outputId": "e72bd04b-ad39-4dbb-b795-ecb3dffd5099"
      },
      "source": [
        "df.ESTADO_CIVIL.value_counts()"
      ],
      "execution_count": 15,
      "outputs": [
        {
          "output_type": "execute_result",
          "data": {
            "text/plain": [
              "SOLTERO       1173\n",
              "CASADO        1092\n",
              "DIVORCIADO     253\n",
              "VIUDO           25\n",
              "Name: ESTADO_CIVIL, dtype: int64"
            ]
          },
          "metadata": {},
          "execution_count": 15
        }
      ]
    },
    {
      "cell_type": "markdown",
      "metadata": {
        "id": "mzi3FD5LIzi6"
      },
      "source": [
        "🏷️ 8. Verificar si hay observaciones que no tengan un valor en la variable ESTADO_CIVIL y asingar el valor más frecuente. (Utilizar np.where)"
      ]
    },
    {
      "cell_type": "code",
      "metadata": {
        "id": "eDbzWHNRWquN",
        "colab": {
          "base_uri": "https://localhost:8080/"
        },
        "outputId": "e7d203c1-d4a8-4622-8b56-9c5c830dd336"
      },
      "source": [
        "df.ESTADO_CIVIL.unique()"
      ],
      "execution_count": 16,
      "outputs": [
        {
          "output_type": "execute_result",
          "data": {
            "text/plain": [
              "array([nan, 'SOLTERO', 'CASADO', 'DIVORCIADO', 'VIUDO'], dtype=object)"
            ]
          },
          "metadata": {},
          "execution_count": 16
        }
      ]
    },
    {
      "cell_type": "code",
      "metadata": {
        "colab": {
          "base_uri": "https://localhost:8080/"
        },
        "id": "uk_xdY9geK4i",
        "outputId": "12df091b-8895-4b7d-8f80-6860547df7cd"
      },
      "source": [
        "df.ESTADO_CIVIL.isna().sum()"
      ],
      "execution_count": 18,
      "outputs": [
        {
          "output_type": "execute_result",
          "data": {
            "text/plain": [
              "70"
            ]
          },
          "metadata": {},
          "execution_count": 18
        }
      ]
    },
    {
      "cell_type": "code",
      "metadata": {
        "colab": {
          "base_uri": "https://localhost:8080/",
          "height": 35
        },
        "id": "OovYkFKEeme2",
        "outputId": "30e6f55a-a342-4598-fa9a-b3ce623adbc3"
      },
      "source": [
        "Moda = df.ESTADO_CIVIL.value_counts().index[0]\n",
        "Moda\n"
      ],
      "execution_count": 21,
      "outputs": [
        {
          "output_type": "execute_result",
          "data": {
            "application/vnd.google.colaboratory.intrinsic+json": {
              "type": "string"
            },
            "text/plain": [
              "'SOLTERO'"
            ]
          },
          "metadata": {},
          "execution_count": 21
        }
      ]
    },
    {
      "cell_type": "code",
      "metadata": {
        "id": "ZRrbxw2se_0p"
      },
      "source": [
        "df[\"ESTADO_CIVIL\"] = np.where(df.ESTADO_CIVIL.isna(), Moda, df.ESTADO_CIVIL)"
      ],
      "execution_count": 22,
      "outputs": []
    },
    {
      "cell_type": "code",
      "metadata": {
        "colab": {
          "base_uri": "https://localhost:8080/"
        },
        "id": "qFaA1Lbffu-3",
        "outputId": "9416b2af-109e-49c8-a125-21a3397337ae"
      },
      "source": [
        "df.ESTADO_CIVIL.value_counts()"
      ],
      "execution_count": 23,
      "outputs": [
        {
          "output_type": "execute_result",
          "data": {
            "text/plain": [
              "SOLTERO       1243\n",
              "CASADO        1092\n",
              "DIVORCIADO     253\n",
              "VIUDO           25\n",
              "Name: ESTADO_CIVIL, dtype: int64"
            ]
          },
          "metadata": {},
          "execution_count": 23
        }
      ]
    },
    {
      "cell_type": "markdown",
      "metadata": {
        "id": "BOCXDK7fI6Xz"
      },
      "source": [
        "🏷️ 9. Existen valores nulos en la variable **`score_veraz`**, por lo cual asginar la mediana para dichas observaciones.\n",
        "(Utilizar **`.loc`**)"
      ]
    },
    {
      "cell_type": "code",
      "metadata": {
        "id": "nZKe5hzOWr4F",
        "colab": {
          "base_uri": "https://localhost:8080/"
        },
        "outputId": "9ff2f6ff-8251-4109-dfd3-c1eb3fee0c85"
      },
      "source": [
        "df.SCORE_VERAZ.isna().sum()"
      ],
      "execution_count": 24,
      "outputs": [
        {
          "output_type": "execute_result",
          "data": {
            "text/plain": [
              "532"
            ]
          },
          "metadata": {},
          "execution_count": 24
        }
      ]
    },
    {
      "cell_type": "code",
      "metadata": {
        "colab": {
          "base_uri": "https://localhost:8080/"
        },
        "id": "0Z7w43XcgkNa",
        "outputId": "aef9e38d-4111-4e82-ab9f-f37695f815c8"
      },
      "source": [
        "Mediana = df.SCORE_VERAZ.median()\n",
        "Mediana"
      ],
      "execution_count": 26,
      "outputs": [
        {
          "output_type": "execute_result",
          "data": {
            "text/plain": [
              "731.0"
            ]
          },
          "metadata": {},
          "execution_count": 26
        }
      ]
    },
    {
      "cell_type": "code",
      "metadata": {
        "id": "4caz3yCvhGr4"
      },
      "source": [
        "df.loc[ df.SCORE_VERAZ.isna(), \"SCORE_VERAZ\" ] = Mediana"
      ],
      "execution_count": 27,
      "outputs": []
    },
    {
      "cell_type": "code",
      "metadata": {
        "colab": {
          "base_uri": "https://localhost:8080/"
        },
        "id": "5jfDlOqfhfK8",
        "outputId": "c0edd349-76f9-442c-f76d-dc328506e3bc"
      },
      "source": [
        "df.SCORE_VERAZ.isna().sum()"
      ],
      "execution_count": 28,
      "outputs": [
        {
          "output_type": "execute_result",
          "data": {
            "text/plain": [
              "0"
            ]
          },
          "metadata": {},
          "execution_count": 28
        }
      ]
    },
    {
      "cell_type": "markdown",
      "metadata": {
        "id": "fmTaaBobJBC9"
      },
      "source": [
        "🏷️ 10. El Score Veraz se puede asignar una categoria en base a los scores, por lo cual genere esa variable teniendo en cuenta las categorias que se visualizan en la siguiente imagen.\n",
        "(Utilizar **`.loc`**)\n",
        "\n",
        "<center>\n",
        "<img src=\"https://www.cotizacion.co/img/valores-de-fico-score.jpg\" width=\"50%\" height=\"10%\"> \n",
        "</center>"
      ]
    },
    {
      "cell_type": "code",
      "metadata": {
        "id": "JPs01RbqWtqR"
      },
      "source": [
        "df[\"SCORE_VERAZ_CAT\"] = \" \""
      ],
      "execution_count": 29,
      "outputs": []
    },
    {
      "cell_type": "code",
      "metadata": {
        "id": "syD1Osq8iYUr"
      },
      "source": [
        "df.loc[df.SCORE_VERAZ.between(300,560), \"SCORE_VERAZ_CAT\"] = \"VERY BAD\"\n",
        "df.loc[df.SCORE_VERAZ.between(561,650), \"SCORE_VERAZ_CAT\"] = \"BAD\"\n",
        "df.loc[df.SCORE_VERAZ.between(651,700), \"SCORE_VERAZ_CAT\"] = \"FAIR\"\n",
        "df.loc[df.SCORE_VERAZ.between(701,750), \"SCORE_VERAZ_CAT\"] = \"GOOD\"\n",
        "df.loc[df.SCORE_VERAZ.between(751,850), \"SCORE_VERAZ_CAT\"] = \"EXCELLENT\""
      ],
      "execution_count": 32,
      "outputs": []
    },
    {
      "cell_type": "code",
      "metadata": {
        "colab": {
          "base_uri": "https://localhost:8080/",
          "height": 415
        },
        "id": "xb6PWuULiugk",
        "outputId": "107c6fc7-c900-44f1-cea9-23912c3c9593"
      },
      "source": [
        "df"
      ],
      "execution_count": 33,
      "outputs": [
        {
          "output_type": "execute_result",
          "data": {
            "text/html": [
              "<div>\n",
              "<style scoped>\n",
              "    .dataframe tbody tr th:only-of-type {\n",
              "        vertical-align: middle;\n",
              "    }\n",
              "\n",
              "    .dataframe tbody tr th {\n",
              "        vertical-align: top;\n",
              "    }\n",
              "\n",
              "    .dataframe thead th {\n",
              "        text-align: right;\n",
              "    }\n",
              "</style>\n",
              "<table border=\"1\" class=\"dataframe\">\n",
              "  <thead>\n",
              "    <tr style=\"text-align: right;\">\n",
              "      <th></th>\n",
              "      <th>PLAZO</th>\n",
              "      <th>PRESTAMOS_ANTERIORES</th>\n",
              "      <th>SCORE_VERAZ</th>\n",
              "      <th>ESTADO_CIVIL</th>\n",
              "      <th>DEUDA_SIST_FIN</th>\n",
              "      <th>INGRESOS_PERSONALES</th>\n",
              "      <th>Mora_mas_90</th>\n",
              "      <th>SCORE_VERAZ_CAT</th>\n",
              "    </tr>\n",
              "  </thead>\n",
              "  <tbody>\n",
              "    <tr>\n",
              "      <th>0</th>\n",
              "      <td>48</td>\n",
              "      <td>3</td>\n",
              "      <td>801.0</td>\n",
              "      <td>SOLTERO</td>\n",
              "      <td>153878.43720</td>\n",
              "      <td>212512.59370</td>\n",
              "      <td>0</td>\n",
              "      <td>EXCELLENT</td>\n",
              "    </tr>\n",
              "    <tr>\n",
              "      <th>1</th>\n",
              "      <td>18</td>\n",
              "      <td>1</td>\n",
              "      <td>731.0</td>\n",
              "      <td>SOLTERO</td>\n",
              "      <td>22306.12750</td>\n",
              "      <td>130572.45360</td>\n",
              "      <td>0</td>\n",
              "      <td>GOOD</td>\n",
              "    </tr>\n",
              "    <tr>\n",
              "      <th>2</th>\n",
              "      <td>47</td>\n",
              "      <td>5</td>\n",
              "      <td>446.0</td>\n",
              "      <td>SOLTERO</td>\n",
              "      <td>29200.00000</td>\n",
              "      <td>230000.00000</td>\n",
              "      <td>0</td>\n",
              "      <td>VERY BAD</td>\n",
              "    </tr>\n",
              "    <tr>\n",
              "      <th>3</th>\n",
              "      <td>48</td>\n",
              "      <td>4</td>\n",
              "      <td>731.0</td>\n",
              "      <td>SOLTERO</td>\n",
              "      <td>81159.60888</td>\n",
              "      <td>105732.66300</td>\n",
              "      <td>0</td>\n",
              "      <td>GOOD</td>\n",
              "    </tr>\n",
              "    <tr>\n",
              "      <th>4</th>\n",
              "      <td>24</td>\n",
              "      <td>3</td>\n",
              "      <td>153.0</td>\n",
              "      <td>SOLTERO</td>\n",
              "      <td>16527.33398</td>\n",
              "      <td>112860.68950</td>\n",
              "      <td>0</td>\n",
              "      <td></td>\n",
              "    </tr>\n",
              "    <tr>\n",
              "      <th>...</th>\n",
              "      <td>...</td>\n",
              "      <td>...</td>\n",
              "      <td>...</td>\n",
              "      <td>...</td>\n",
              "      <td>...</td>\n",
              "      <td>...</td>\n",
              "      <td>...</td>\n",
              "      <td>...</td>\n",
              "    </tr>\n",
              "    <tr>\n",
              "      <th>2608</th>\n",
              "      <td>32</td>\n",
              "      <td>3</td>\n",
              "      <td>589.0</td>\n",
              "      <td>CASADO</td>\n",
              "      <td>78494.76057</td>\n",
              "      <td>206844.30150</td>\n",
              "      <td>1</td>\n",
              "      <td>BAD</td>\n",
              "    </tr>\n",
              "    <tr>\n",
              "      <th>2609</th>\n",
              "      <td>48</td>\n",
              "      <td>3</td>\n",
              "      <td>731.0</td>\n",
              "      <td>CASADO</td>\n",
              "      <td>310585.85240</td>\n",
              "      <td>166153.47920</td>\n",
              "      <td>1</td>\n",
              "      <td>GOOD</td>\n",
              "    </tr>\n",
              "    <tr>\n",
              "      <th>2610</th>\n",
              "      <td>36</td>\n",
              "      <td>2</td>\n",
              "      <td>658.0</td>\n",
              "      <td>SOLTERO</td>\n",
              "      <td>39961.73804</td>\n",
              "      <td>67068.65126</td>\n",
              "      <td>1</td>\n",
              "      <td>FAIR</td>\n",
              "    </tr>\n",
              "    <tr>\n",
              "      <th>2611</th>\n",
              "      <td>12</td>\n",
              "      <td>4</td>\n",
              "      <td>943.0</td>\n",
              "      <td>CASADO</td>\n",
              "      <td>34774.78806</td>\n",
              "      <td>278198.30450</td>\n",
              "      <td>1</td>\n",
              "      <td></td>\n",
              "    </tr>\n",
              "    <tr>\n",
              "      <th>2612</th>\n",
              "      <td>24</td>\n",
              "      <td>1</td>\n",
              "      <td>583.0</td>\n",
              "      <td>SOLTERO</td>\n",
              "      <td>48440.46035</td>\n",
              "      <td>132592.50100</td>\n",
              "      <td>1</td>\n",
              "      <td>BAD</td>\n",
              "    </tr>\n",
              "  </tbody>\n",
              "</table>\n",
              "<p>2613 rows × 8 columns</p>\n",
              "</div>"
            ],
            "text/plain": [
              "      PLAZO  PRESTAMOS_ANTERIORES  ...  Mora_mas_90 SCORE_VERAZ_CAT\n",
              "0        48                     3  ...            0       EXCELLENT\n",
              "1        18                     1  ...            0            GOOD\n",
              "2        47                     5  ...            0        VERY BAD\n",
              "3        48                     4  ...            0            GOOD\n",
              "4        24                     3  ...            0                \n",
              "...     ...                   ...  ...          ...             ...\n",
              "2608     32                     3  ...            1             BAD\n",
              "2609     48                     3  ...            1            GOOD\n",
              "2610     36                     2  ...            1            FAIR\n",
              "2611     12                     4  ...            1                \n",
              "2612     24                     1  ...            1             BAD\n",
              "\n",
              "[2613 rows x 8 columns]"
            ]
          },
          "metadata": {},
          "execution_count": 33
        }
      ]
    },
    {
      "cell_type": "code",
      "metadata": {
        "id": "vpkThccEj3mz"
      },
      "source": [
        "df.loc[df.SCORE_VERAZ <= 560, \"SCORE_VERAZ_CAT\"] = \"VERY BAD\"\n",
        "df.loc[df.SCORE_VERAZ.between(561,650), \"SCORE_VERAZ_CAT\"] = \"BAD\"\n",
        "df.loc[df.SCORE_VERAZ.between(651,700), \"SCORE_VERAZ_CAT\"] = \"FAIR\"\n",
        "df.loc[df.SCORE_VERAZ.between(701,750), \"SCORE_VERAZ_CAT\"] = \"GOOD\"\n",
        "df.loc[df.SCORE_VERAZ >= 751, \"SCORE_VERAZ_CAT\"] = \"EXCELLENT\""
      ],
      "execution_count": 34,
      "outputs": []
    },
    {
      "cell_type": "code",
      "metadata": {
        "colab": {
          "base_uri": "https://localhost:8080/",
          "height": 415
        },
        "id": "Z1QhoR-ukBOw",
        "outputId": "b9601f8b-4e11-4a21-a59e-bc8c2f06acc4"
      },
      "source": [
        "df"
      ],
      "execution_count": 35,
      "outputs": [
        {
          "output_type": "execute_result",
          "data": {
            "text/html": [
              "<div>\n",
              "<style scoped>\n",
              "    .dataframe tbody tr th:only-of-type {\n",
              "        vertical-align: middle;\n",
              "    }\n",
              "\n",
              "    .dataframe tbody tr th {\n",
              "        vertical-align: top;\n",
              "    }\n",
              "\n",
              "    .dataframe thead th {\n",
              "        text-align: right;\n",
              "    }\n",
              "</style>\n",
              "<table border=\"1\" class=\"dataframe\">\n",
              "  <thead>\n",
              "    <tr style=\"text-align: right;\">\n",
              "      <th></th>\n",
              "      <th>PLAZO</th>\n",
              "      <th>PRESTAMOS_ANTERIORES</th>\n",
              "      <th>SCORE_VERAZ</th>\n",
              "      <th>ESTADO_CIVIL</th>\n",
              "      <th>DEUDA_SIST_FIN</th>\n",
              "      <th>INGRESOS_PERSONALES</th>\n",
              "      <th>Mora_mas_90</th>\n",
              "      <th>SCORE_VERAZ_CAT</th>\n",
              "    </tr>\n",
              "  </thead>\n",
              "  <tbody>\n",
              "    <tr>\n",
              "      <th>0</th>\n",
              "      <td>48</td>\n",
              "      <td>3</td>\n",
              "      <td>801.0</td>\n",
              "      <td>SOLTERO</td>\n",
              "      <td>153878.43720</td>\n",
              "      <td>212512.59370</td>\n",
              "      <td>0</td>\n",
              "      <td>EXCELLENT</td>\n",
              "    </tr>\n",
              "    <tr>\n",
              "      <th>1</th>\n",
              "      <td>18</td>\n",
              "      <td>1</td>\n",
              "      <td>731.0</td>\n",
              "      <td>SOLTERO</td>\n",
              "      <td>22306.12750</td>\n",
              "      <td>130572.45360</td>\n",
              "      <td>0</td>\n",
              "      <td>GOOD</td>\n",
              "    </tr>\n",
              "    <tr>\n",
              "      <th>2</th>\n",
              "      <td>47</td>\n",
              "      <td>5</td>\n",
              "      <td>446.0</td>\n",
              "      <td>SOLTERO</td>\n",
              "      <td>29200.00000</td>\n",
              "      <td>230000.00000</td>\n",
              "      <td>0</td>\n",
              "      <td>VERY BAD</td>\n",
              "    </tr>\n",
              "    <tr>\n",
              "      <th>3</th>\n",
              "      <td>48</td>\n",
              "      <td>4</td>\n",
              "      <td>731.0</td>\n",
              "      <td>SOLTERO</td>\n",
              "      <td>81159.60888</td>\n",
              "      <td>105732.66300</td>\n",
              "      <td>0</td>\n",
              "      <td>GOOD</td>\n",
              "    </tr>\n",
              "    <tr>\n",
              "      <th>4</th>\n",
              "      <td>24</td>\n",
              "      <td>3</td>\n",
              "      <td>153.0</td>\n",
              "      <td>SOLTERO</td>\n",
              "      <td>16527.33398</td>\n",
              "      <td>112860.68950</td>\n",
              "      <td>0</td>\n",
              "      <td>VERY BAD</td>\n",
              "    </tr>\n",
              "    <tr>\n",
              "      <th>...</th>\n",
              "      <td>...</td>\n",
              "      <td>...</td>\n",
              "      <td>...</td>\n",
              "      <td>...</td>\n",
              "      <td>...</td>\n",
              "      <td>...</td>\n",
              "      <td>...</td>\n",
              "      <td>...</td>\n",
              "    </tr>\n",
              "    <tr>\n",
              "      <th>2608</th>\n",
              "      <td>32</td>\n",
              "      <td>3</td>\n",
              "      <td>589.0</td>\n",
              "      <td>CASADO</td>\n",
              "      <td>78494.76057</td>\n",
              "      <td>206844.30150</td>\n",
              "      <td>1</td>\n",
              "      <td>BAD</td>\n",
              "    </tr>\n",
              "    <tr>\n",
              "      <th>2609</th>\n",
              "      <td>48</td>\n",
              "      <td>3</td>\n",
              "      <td>731.0</td>\n",
              "      <td>CASADO</td>\n",
              "      <td>310585.85240</td>\n",
              "      <td>166153.47920</td>\n",
              "      <td>1</td>\n",
              "      <td>GOOD</td>\n",
              "    </tr>\n",
              "    <tr>\n",
              "      <th>2610</th>\n",
              "      <td>36</td>\n",
              "      <td>2</td>\n",
              "      <td>658.0</td>\n",
              "      <td>SOLTERO</td>\n",
              "      <td>39961.73804</td>\n",
              "      <td>67068.65126</td>\n",
              "      <td>1</td>\n",
              "      <td>FAIR</td>\n",
              "    </tr>\n",
              "    <tr>\n",
              "      <th>2611</th>\n",
              "      <td>12</td>\n",
              "      <td>4</td>\n",
              "      <td>943.0</td>\n",
              "      <td>CASADO</td>\n",
              "      <td>34774.78806</td>\n",
              "      <td>278198.30450</td>\n",
              "      <td>1</td>\n",
              "      <td>EXCELLENT</td>\n",
              "    </tr>\n",
              "    <tr>\n",
              "      <th>2612</th>\n",
              "      <td>24</td>\n",
              "      <td>1</td>\n",
              "      <td>583.0</td>\n",
              "      <td>SOLTERO</td>\n",
              "      <td>48440.46035</td>\n",
              "      <td>132592.50100</td>\n",
              "      <td>1</td>\n",
              "      <td>BAD</td>\n",
              "    </tr>\n",
              "  </tbody>\n",
              "</table>\n",
              "<p>2613 rows × 8 columns</p>\n",
              "</div>"
            ],
            "text/plain": [
              "      PLAZO  PRESTAMOS_ANTERIORES  ...  Mora_mas_90 SCORE_VERAZ_CAT\n",
              "0        48                     3  ...            0       EXCELLENT\n",
              "1        18                     1  ...            0            GOOD\n",
              "2        47                     5  ...            0        VERY BAD\n",
              "3        48                     4  ...            0            GOOD\n",
              "4        24                     3  ...            0        VERY BAD\n",
              "...     ...                   ...  ...          ...             ...\n",
              "2608     32                     3  ...            1             BAD\n",
              "2609     48                     3  ...            1            GOOD\n",
              "2610     36                     2  ...            1            FAIR\n",
              "2611     12                     4  ...            1       EXCELLENT\n",
              "2612     24                     1  ...            1             BAD\n",
              "\n",
              "[2613 rows x 8 columns]"
            ]
          },
          "metadata": {},
          "execution_count": 35
        }
      ]
    },
    {
      "cell_type": "code",
      "metadata": {
        "id": "kEbBZgI9kJJQ"
      },
      "source": [
        "df[\"VERAZ_CAT_2\"] = pd.cut(df[\"SCORE_VERAZ\"], bins = [0, 560, 650, 700, 750 , 1000], labels = [\"VERY BAD\", \"BAD\", \"FAIR\", \"GOOD\", \"EXCELLENT\"])"
      ],
      "execution_count": 37,
      "outputs": []
    },
    {
      "cell_type": "code",
      "metadata": {
        "colab": {
          "base_uri": "https://localhost:8080/",
          "height": 415
        },
        "id": "7WWzF0jtlGZW",
        "outputId": "23b98adb-e2c4-47be-af8c-a854b7cbea50"
      },
      "source": [
        "df"
      ],
      "execution_count": 38,
      "outputs": [
        {
          "output_type": "execute_result",
          "data": {
            "text/html": [
              "<div>\n",
              "<style scoped>\n",
              "    .dataframe tbody tr th:only-of-type {\n",
              "        vertical-align: middle;\n",
              "    }\n",
              "\n",
              "    .dataframe tbody tr th {\n",
              "        vertical-align: top;\n",
              "    }\n",
              "\n",
              "    .dataframe thead th {\n",
              "        text-align: right;\n",
              "    }\n",
              "</style>\n",
              "<table border=\"1\" class=\"dataframe\">\n",
              "  <thead>\n",
              "    <tr style=\"text-align: right;\">\n",
              "      <th></th>\n",
              "      <th>PLAZO</th>\n",
              "      <th>PRESTAMOS_ANTERIORES</th>\n",
              "      <th>SCORE_VERAZ</th>\n",
              "      <th>ESTADO_CIVIL</th>\n",
              "      <th>DEUDA_SIST_FIN</th>\n",
              "      <th>INGRESOS_PERSONALES</th>\n",
              "      <th>Mora_mas_90</th>\n",
              "      <th>SCORE_VERAZ_CAT</th>\n",
              "      <th>VERAZ_CAT_2</th>\n",
              "    </tr>\n",
              "  </thead>\n",
              "  <tbody>\n",
              "    <tr>\n",
              "      <th>0</th>\n",
              "      <td>48</td>\n",
              "      <td>3</td>\n",
              "      <td>801.0</td>\n",
              "      <td>SOLTERO</td>\n",
              "      <td>153878.43720</td>\n",
              "      <td>212512.59370</td>\n",
              "      <td>0</td>\n",
              "      <td>EXCELLENT</td>\n",
              "      <td>EXCELLENT</td>\n",
              "    </tr>\n",
              "    <tr>\n",
              "      <th>1</th>\n",
              "      <td>18</td>\n",
              "      <td>1</td>\n",
              "      <td>731.0</td>\n",
              "      <td>SOLTERO</td>\n",
              "      <td>22306.12750</td>\n",
              "      <td>130572.45360</td>\n",
              "      <td>0</td>\n",
              "      <td>GOOD</td>\n",
              "      <td>GOOD</td>\n",
              "    </tr>\n",
              "    <tr>\n",
              "      <th>2</th>\n",
              "      <td>47</td>\n",
              "      <td>5</td>\n",
              "      <td>446.0</td>\n",
              "      <td>SOLTERO</td>\n",
              "      <td>29200.00000</td>\n",
              "      <td>230000.00000</td>\n",
              "      <td>0</td>\n",
              "      <td>VERY BAD</td>\n",
              "      <td>VERY BAD</td>\n",
              "    </tr>\n",
              "    <tr>\n",
              "      <th>3</th>\n",
              "      <td>48</td>\n",
              "      <td>4</td>\n",
              "      <td>731.0</td>\n",
              "      <td>SOLTERO</td>\n",
              "      <td>81159.60888</td>\n",
              "      <td>105732.66300</td>\n",
              "      <td>0</td>\n",
              "      <td>GOOD</td>\n",
              "      <td>GOOD</td>\n",
              "    </tr>\n",
              "    <tr>\n",
              "      <th>4</th>\n",
              "      <td>24</td>\n",
              "      <td>3</td>\n",
              "      <td>153.0</td>\n",
              "      <td>SOLTERO</td>\n",
              "      <td>16527.33398</td>\n",
              "      <td>112860.68950</td>\n",
              "      <td>0</td>\n",
              "      <td>VERY BAD</td>\n",
              "      <td>VERY BAD</td>\n",
              "    </tr>\n",
              "    <tr>\n",
              "      <th>...</th>\n",
              "      <td>...</td>\n",
              "      <td>...</td>\n",
              "      <td>...</td>\n",
              "      <td>...</td>\n",
              "      <td>...</td>\n",
              "      <td>...</td>\n",
              "      <td>...</td>\n",
              "      <td>...</td>\n",
              "      <td>...</td>\n",
              "    </tr>\n",
              "    <tr>\n",
              "      <th>2608</th>\n",
              "      <td>32</td>\n",
              "      <td>3</td>\n",
              "      <td>589.0</td>\n",
              "      <td>CASADO</td>\n",
              "      <td>78494.76057</td>\n",
              "      <td>206844.30150</td>\n",
              "      <td>1</td>\n",
              "      <td>BAD</td>\n",
              "      <td>BAD</td>\n",
              "    </tr>\n",
              "    <tr>\n",
              "      <th>2609</th>\n",
              "      <td>48</td>\n",
              "      <td>3</td>\n",
              "      <td>731.0</td>\n",
              "      <td>CASADO</td>\n",
              "      <td>310585.85240</td>\n",
              "      <td>166153.47920</td>\n",
              "      <td>1</td>\n",
              "      <td>GOOD</td>\n",
              "      <td>GOOD</td>\n",
              "    </tr>\n",
              "    <tr>\n",
              "      <th>2610</th>\n",
              "      <td>36</td>\n",
              "      <td>2</td>\n",
              "      <td>658.0</td>\n",
              "      <td>SOLTERO</td>\n",
              "      <td>39961.73804</td>\n",
              "      <td>67068.65126</td>\n",
              "      <td>1</td>\n",
              "      <td>FAIR</td>\n",
              "      <td>FAIR</td>\n",
              "    </tr>\n",
              "    <tr>\n",
              "      <th>2611</th>\n",
              "      <td>12</td>\n",
              "      <td>4</td>\n",
              "      <td>943.0</td>\n",
              "      <td>CASADO</td>\n",
              "      <td>34774.78806</td>\n",
              "      <td>278198.30450</td>\n",
              "      <td>1</td>\n",
              "      <td>EXCELLENT</td>\n",
              "      <td>EXCELLENT</td>\n",
              "    </tr>\n",
              "    <tr>\n",
              "      <th>2612</th>\n",
              "      <td>24</td>\n",
              "      <td>1</td>\n",
              "      <td>583.0</td>\n",
              "      <td>SOLTERO</td>\n",
              "      <td>48440.46035</td>\n",
              "      <td>132592.50100</td>\n",
              "      <td>1</td>\n",
              "      <td>BAD</td>\n",
              "      <td>BAD</td>\n",
              "    </tr>\n",
              "  </tbody>\n",
              "</table>\n",
              "<p>2613 rows × 9 columns</p>\n",
              "</div>"
            ],
            "text/plain": [
              "      PLAZO  PRESTAMOS_ANTERIORES  ...  SCORE_VERAZ_CAT VERAZ_CAT_2\n",
              "0        48                     3  ...        EXCELLENT   EXCELLENT\n",
              "1        18                     1  ...             GOOD        GOOD\n",
              "2        47                     5  ...         VERY BAD    VERY BAD\n",
              "3        48                     4  ...             GOOD        GOOD\n",
              "4        24                     3  ...         VERY BAD    VERY BAD\n",
              "...     ...                   ...  ...              ...         ...\n",
              "2608     32                     3  ...              BAD         BAD\n",
              "2609     48                     3  ...             GOOD        GOOD\n",
              "2610     36                     2  ...             FAIR        FAIR\n",
              "2611     12                     4  ...        EXCELLENT   EXCELLENT\n",
              "2612     24                     1  ...              BAD         BAD\n",
              "\n",
              "[2613 rows x 9 columns]"
            ]
          },
          "metadata": {},
          "execution_count": 38
        }
      ]
    },
    {
      "cell_type": "markdown",
      "metadata": {
        "id": "H8CQPNzMJKgk"
      },
      "source": [
        "🏷️ 11. Cual es la categoria que más frecuente"
      ]
    },
    {
      "cell_type": "code",
      "metadata": {
        "id": "IgAfQWhkWuuc",
        "colab": {
          "base_uri": "https://localhost:8080/",
          "height": 35
        },
        "outputId": "e35c9023-0f59-4e08-90e3-a8b38533cc06"
      },
      "source": [
        "df.SCORE_VERAZ_CAT.value_counts().index[0]"
      ],
      "execution_count": 39,
      "outputs": [
        {
          "output_type": "execute_result",
          "data": {
            "application/vnd.google.colaboratory.intrinsic+json": {
              "type": "string"
            },
            "text/plain": [
              "'EXCELLENT'"
            ]
          },
          "metadata": {},
          "execution_count": 39
        }
      ]
    },
    {
      "cell_type": "markdown",
      "metadata": {
        "id": "mlKO5faCJO1A"
      },
      "source": [
        "🏷️ 12. Como podemos corregir y detectar cuales son los valores que no asignamos."
      ]
    },
    {
      "cell_type": "code",
      "metadata": {
        "id": "trNvrX-kRCXc"
      },
      "source": [
        ""
      ],
      "execution_count": null,
      "outputs": []
    },
    {
      "cell_type": "markdown",
      "metadata": {
        "id": "PnJI0qSHJTCN"
      },
      "source": [
        "🏷️ 13. En base a las categorias generadas asignar una variable dummy que:\n",
        "\n",
        "  * Asigne un valor **1** si es **'GOOD'** o **'EXCELLENT'**\n",
        "  * Para el resto de los valores asignar un **0**"
      ]
    },
    {
      "cell_type": "code",
      "metadata": {
        "id": "PuSMBC_SWwyX"
      },
      "source": [
        "df[\"VERAZ_DUMMY\"] = np.where(df.SCORE_VERAZ_CAT.isin([\"GOOD\", \"EXCELLENT\"]), 1, 0)"
      ],
      "execution_count": 40,
      "outputs": []
    },
    {
      "cell_type": "code",
      "metadata": {
        "id": "M_mqbITmSjnF",
        "colab": {
          "base_uri": "https://localhost:8080/",
          "height": 415
        },
        "outputId": "3bd61083-6785-48f8-ecfa-d7c07a50b5b8"
      },
      "source": [
        "df"
      ],
      "execution_count": 41,
      "outputs": [
        {
          "output_type": "execute_result",
          "data": {
            "text/html": [
              "<div>\n",
              "<style scoped>\n",
              "    .dataframe tbody tr th:only-of-type {\n",
              "        vertical-align: middle;\n",
              "    }\n",
              "\n",
              "    .dataframe tbody tr th {\n",
              "        vertical-align: top;\n",
              "    }\n",
              "\n",
              "    .dataframe thead th {\n",
              "        text-align: right;\n",
              "    }\n",
              "</style>\n",
              "<table border=\"1\" class=\"dataframe\">\n",
              "  <thead>\n",
              "    <tr style=\"text-align: right;\">\n",
              "      <th></th>\n",
              "      <th>PLAZO</th>\n",
              "      <th>PRESTAMOS_ANTERIORES</th>\n",
              "      <th>SCORE_VERAZ</th>\n",
              "      <th>ESTADO_CIVIL</th>\n",
              "      <th>DEUDA_SIST_FIN</th>\n",
              "      <th>INGRESOS_PERSONALES</th>\n",
              "      <th>Mora_mas_90</th>\n",
              "      <th>SCORE_VERAZ_CAT</th>\n",
              "      <th>VERAZ_CAT_2</th>\n",
              "      <th>VERAZ_DUMMY</th>\n",
              "    </tr>\n",
              "  </thead>\n",
              "  <tbody>\n",
              "    <tr>\n",
              "      <th>0</th>\n",
              "      <td>48</td>\n",
              "      <td>3</td>\n",
              "      <td>801.0</td>\n",
              "      <td>SOLTERO</td>\n",
              "      <td>153878.43720</td>\n",
              "      <td>212512.59370</td>\n",
              "      <td>0</td>\n",
              "      <td>EXCELLENT</td>\n",
              "      <td>EXCELLENT</td>\n",
              "      <td>1</td>\n",
              "    </tr>\n",
              "    <tr>\n",
              "      <th>1</th>\n",
              "      <td>18</td>\n",
              "      <td>1</td>\n",
              "      <td>731.0</td>\n",
              "      <td>SOLTERO</td>\n",
              "      <td>22306.12750</td>\n",
              "      <td>130572.45360</td>\n",
              "      <td>0</td>\n",
              "      <td>GOOD</td>\n",
              "      <td>GOOD</td>\n",
              "      <td>1</td>\n",
              "    </tr>\n",
              "    <tr>\n",
              "      <th>2</th>\n",
              "      <td>47</td>\n",
              "      <td>5</td>\n",
              "      <td>446.0</td>\n",
              "      <td>SOLTERO</td>\n",
              "      <td>29200.00000</td>\n",
              "      <td>230000.00000</td>\n",
              "      <td>0</td>\n",
              "      <td>VERY BAD</td>\n",
              "      <td>VERY BAD</td>\n",
              "      <td>0</td>\n",
              "    </tr>\n",
              "    <tr>\n",
              "      <th>3</th>\n",
              "      <td>48</td>\n",
              "      <td>4</td>\n",
              "      <td>731.0</td>\n",
              "      <td>SOLTERO</td>\n",
              "      <td>81159.60888</td>\n",
              "      <td>105732.66300</td>\n",
              "      <td>0</td>\n",
              "      <td>GOOD</td>\n",
              "      <td>GOOD</td>\n",
              "      <td>1</td>\n",
              "    </tr>\n",
              "    <tr>\n",
              "      <th>4</th>\n",
              "      <td>24</td>\n",
              "      <td>3</td>\n",
              "      <td>153.0</td>\n",
              "      <td>SOLTERO</td>\n",
              "      <td>16527.33398</td>\n",
              "      <td>112860.68950</td>\n",
              "      <td>0</td>\n",
              "      <td>VERY BAD</td>\n",
              "      <td>VERY BAD</td>\n",
              "      <td>0</td>\n",
              "    </tr>\n",
              "    <tr>\n",
              "      <th>...</th>\n",
              "      <td>...</td>\n",
              "      <td>...</td>\n",
              "      <td>...</td>\n",
              "      <td>...</td>\n",
              "      <td>...</td>\n",
              "      <td>...</td>\n",
              "      <td>...</td>\n",
              "      <td>...</td>\n",
              "      <td>...</td>\n",
              "      <td>...</td>\n",
              "    </tr>\n",
              "    <tr>\n",
              "      <th>2608</th>\n",
              "      <td>32</td>\n",
              "      <td>3</td>\n",
              "      <td>589.0</td>\n",
              "      <td>CASADO</td>\n",
              "      <td>78494.76057</td>\n",
              "      <td>206844.30150</td>\n",
              "      <td>1</td>\n",
              "      <td>BAD</td>\n",
              "      <td>BAD</td>\n",
              "      <td>0</td>\n",
              "    </tr>\n",
              "    <tr>\n",
              "      <th>2609</th>\n",
              "      <td>48</td>\n",
              "      <td>3</td>\n",
              "      <td>731.0</td>\n",
              "      <td>CASADO</td>\n",
              "      <td>310585.85240</td>\n",
              "      <td>166153.47920</td>\n",
              "      <td>1</td>\n",
              "      <td>GOOD</td>\n",
              "      <td>GOOD</td>\n",
              "      <td>1</td>\n",
              "    </tr>\n",
              "    <tr>\n",
              "      <th>2610</th>\n",
              "      <td>36</td>\n",
              "      <td>2</td>\n",
              "      <td>658.0</td>\n",
              "      <td>SOLTERO</td>\n",
              "      <td>39961.73804</td>\n",
              "      <td>67068.65126</td>\n",
              "      <td>1</td>\n",
              "      <td>FAIR</td>\n",
              "      <td>FAIR</td>\n",
              "      <td>0</td>\n",
              "    </tr>\n",
              "    <tr>\n",
              "      <th>2611</th>\n",
              "      <td>12</td>\n",
              "      <td>4</td>\n",
              "      <td>943.0</td>\n",
              "      <td>CASADO</td>\n",
              "      <td>34774.78806</td>\n",
              "      <td>278198.30450</td>\n",
              "      <td>1</td>\n",
              "      <td>EXCELLENT</td>\n",
              "      <td>EXCELLENT</td>\n",
              "      <td>1</td>\n",
              "    </tr>\n",
              "    <tr>\n",
              "      <th>2612</th>\n",
              "      <td>24</td>\n",
              "      <td>1</td>\n",
              "      <td>583.0</td>\n",
              "      <td>SOLTERO</td>\n",
              "      <td>48440.46035</td>\n",
              "      <td>132592.50100</td>\n",
              "      <td>1</td>\n",
              "      <td>BAD</td>\n",
              "      <td>BAD</td>\n",
              "      <td>0</td>\n",
              "    </tr>\n",
              "  </tbody>\n",
              "</table>\n",
              "<p>2613 rows × 10 columns</p>\n",
              "</div>"
            ],
            "text/plain": [
              "      PLAZO  PRESTAMOS_ANTERIORES  ...  VERAZ_CAT_2 VERAZ_DUMMY\n",
              "0        48                     3  ...    EXCELLENT           1\n",
              "1        18                     1  ...         GOOD           1\n",
              "2        47                     5  ...     VERY BAD           0\n",
              "3        48                     4  ...         GOOD           1\n",
              "4        24                     3  ...     VERY BAD           0\n",
              "...     ...                   ...  ...          ...         ...\n",
              "2608     32                     3  ...          BAD           0\n",
              "2609     48                     3  ...         GOOD           1\n",
              "2610     36                     2  ...         FAIR           0\n",
              "2611     12                     4  ...    EXCELLENT           1\n",
              "2612     24                     1  ...          BAD           0\n",
              "\n",
              "[2613 rows x 10 columns]"
            ]
          },
          "metadata": {},
          "execution_count": 41
        }
      ]
    },
    {
      "cell_type": "markdown",
      "metadata": {
        "id": "HSomeOPeJhFN"
      },
      "source": [
        "🏷️ 14. Generar una carpeta que contenga un archivo por cada categoria de score veraz. Se debe tener en cuenta que si alguna categoria contiene espacios, remplazar por \"_\"\n",
        "\n",
        "  La carpeta debe tener la denominación (**score_prestamos_YYYYMMDD**)"
      ]
    },
    {
      "cell_type": "markdown",
      "metadata": {
        "id": "FGqTBXjdRmub"
      },
      "source": [
        "1. Creo la carpeta\n",
        "2. for \n",
        "  * 1. filtrar por la categoria loc\n",
        "  * 2. to_csv---> guardo en la carpeta del paso 1\n",
        "  "
      ]
    },
    {
      "cell_type": "code",
      "metadata": {
        "id": "lBZaiUAlEPiJ"
      },
      "source": [
        ""
      ],
      "execution_count": null,
      "outputs": []
    }
  ]
}