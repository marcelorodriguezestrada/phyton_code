{
  "nbformat": 4,
  "nbformat_minor": 0,
  "metadata": {
    "kernelspec": {
      "display_name": "Python 3",
      "language": "python",
      "name": "python3"
    },
    "colab": {
      "name": "EANT_Clase_Dash_Intro_Clase.ipynb",
      "provenance": [],
      "collapsed_sections": []
    }
  },
  "cells": [
    {
      "cell_type": "markdown",
      "metadata": {
        "id": "TlesOSCCdyWc"
      },
      "source": [
        " <img src=\"https://eant.tech/imagenes/logo.png\" width=25% height=80%  >"
      ]
    },
    {
      "cell_type": "markdown",
      "metadata": {
        "id": "muGaAj5qLyck"
      },
      "source": [
        "### <img src=\"http://icons.iconarchive.com/icons/cornmanthe3rd/plex/256/Other-python-icon.png\" width=\"40\"> Dashboards en python 📊\n",
        "\n",
        "En la clase de hoy vamos a utilizar dash para crear dashboards en python. Para utilizar [dash](https://plotly.com/dash/), existe una versión adaptada para utilizar en jupyter (JupyterDash) que es la que estaremos utilizando  en la clase. \n",
        "\n",
        "<center>\n",
        "\n",
        "![](https://tylertech.plotly.com/assets/plotly-dash-logo.png)\n",
        "\n",
        "</center>"
      ]
    },
    {
      "cell_type": "markdown",
      "metadata": {
        "id": "24pXxi2wLycl"
      },
      "source": [
        "## Librerías"
      ]
    },
    {
      "cell_type": "code",
      "metadata": {
        "id": "q2YzNJPrLycm"
      },
      "source": [
        "#Instalación\n",
        "!pip install jupyter-dash\n",
        "!pip install dash\n",
        "!pip install dash_core_components\n",
        "!pip install dash_html_components\n",
        "!pip install dash_table"
      ],
      "execution_count": null,
      "outputs": []
    },
    {
      "cell_type": "code",
      "metadata": {
        "id": "5IoPfeL4Lycr"
      },
      "source": [
        "import pandas as pd\n",
        "import numpy as np\n",
        "\n",
        "# import dash\n",
        "from jupyter_dash import JupyterDash\n",
        "import dash_core_components as dcc\n",
        "import dash_html_components as html\n",
        "from dash.dependencies import Input,Output,State\n",
        "import dash_table\n",
        "\n",
        "import plotly.express as px"
      ],
      "execution_count": null,
      "outputs": []
    },
    {
      "cell_type": "code",
      "metadata": {
        "id": "wGQgHKKm_uSr"
      },
      "source": [
        "# Ports disponibles localmente: 8124,8125,8126, 8050\n",
        "#app._terminate_server_for_port(\"localhost\", 8124)"
      ],
      "execution_count": null,
      "outputs": []
    },
    {
      "cell_type": "markdown",
      "metadata": {
        "id": "CNI_qL6HLydJ"
      },
      "source": [
        "# 2. Dash - Estructura básica\n",
        "Arrancamos creando el dash más simple:\n",
        "\n",
        "✏️ **Ejercicio  1**: Construir un dash que incluya un componente html.P que diga 'Hola mundo!'"
      ]
    },
    {
      "cell_type": "code",
      "metadata": {
        "id": "NqbxXIesLydT"
      },
      "source": [
        "app = JupyterDash()"
      ],
      "execution_count": 26,
      "outputs": []
    },
    {
      "cell_type": "code",
      "metadata": {
        "colab": {
          "base_uri": "https://localhost:8080/",
          "height": 50
        },
        "id": "y3oOZT9ispIq",
        "outputId": "d3c92ede-ca79-4487-cad7-e36ea8de58b0"
      },
      "source": [
        "app.layout = html.P(\"Hola mundo!\")\n",
        "\n",
        "if __name__ == \"__main__\":\n",
        "  app.run_server(mode = \"external\")"
      ],
      "execution_count": 4,
      "outputs": [
        {
          "output_type": "stream",
          "name": "stdout",
          "text": [
            "Dash app running on:\n"
          ]
        },
        {
          "output_type": "display_data",
          "data": {
            "application/javascript": [
              "(async (port, path, text, element) => {\n",
              "    if (!google.colab.kernel.accessAllowed) {\n",
              "      return;\n",
              "    }\n",
              "    element.appendChild(document.createTextNode(''));\n",
              "    const url = await google.colab.kernel.proxyPort(port);\n",
              "    const anchor = document.createElement('a');\n",
              "    anchor.href = new URL(path, url).toString();\n",
              "    anchor.target = '_blank';\n",
              "    anchor.setAttribute('data-href', url + path);\n",
              "    anchor.textContent = text;\n",
              "    element.appendChild(anchor);\n",
              "  })(8050, \"/\", \"http://127.0.0.1:8050/\", window.element)"
            ],
            "text/plain": [
              "<IPython.core.display.Javascript object>"
            ]
          },
          "metadata": {}
        }
      ]
    },
    {
      "cell_type": "markdown",
      "metadata": {
        "id": "dxE80DHF_uSu"
      },
      "source": [
        "Siempre al ejecutar un chunk de dash nos va a aparecer un puerto en donde el dash se está ejecutando localmente. Para disponibilizar el dash fuera de nuestra computadora local debemos hostearlo en algún lado, luego hablaremos de eso. \n"
      ]
    },
    {
      "cell_type": "markdown",
      "metadata": {
        "id": "Tn3M5929ncnr"
      },
      "source": [
        "✏️ **Ejercicio 2** Añadir distintos componentes html para ver cómo se ven en el dash: H1, H2, H3, H4, H5, H6, P"
      ]
    },
    {
      "cell_type": "code",
      "metadata": {
        "id": "IwdFy9XJnbI5",
        "colab": {
          "base_uri": "https://localhost:8080/",
          "height": 50
        },
        "outputId": "0c000584-1118-4ccf-caef-290a11ba8bd1"
      },
      "source": [
        " app.layout = html.Div(children= [\n",
        "                                  html.H1(\"Hola mundo!\"),\n",
        "                                  html.H2(\"Hola mundo!\"),\n",
        "                                  html.H3(\"Hola mundo!\"),\n",
        "                                  html.H4(\"Hola mundo!\"),\n",
        "                                  html.H5(\"Hola mundo!\"),\n",
        "                                  html.H6(\"Hola mundo!\"),\n",
        "                                  html.P(\"Hola mundo!\")])\n",
        " \n",
        " \n",
        "\n",
        "if __name__ == \"__main__\":\n",
        "  app.run_server(mode = \"external\")"
      ],
      "execution_count": 5,
      "outputs": [
        {
          "output_type": "stream",
          "name": "stdout",
          "text": [
            "Dash app running on:\n"
          ]
        },
        {
          "output_type": "display_data",
          "data": {
            "application/javascript": [
              "(async (port, path, text, element) => {\n",
              "    if (!google.colab.kernel.accessAllowed) {\n",
              "      return;\n",
              "    }\n",
              "    element.appendChild(document.createTextNode(''));\n",
              "    const url = await google.colab.kernel.proxyPort(port);\n",
              "    const anchor = document.createElement('a');\n",
              "    anchor.href = new URL(path, url).toString();\n",
              "    anchor.target = '_blank';\n",
              "    anchor.setAttribute('data-href', url + path);\n",
              "    anchor.textContent = text;\n",
              "    element.appendChild(anchor);\n",
              "  })(8050, \"/\", \"http://127.0.0.1:8050/\", window.element)"
            ],
            "text/plain": [
              "<IPython.core.display.Javascript object>"
            ]
          },
          "metadata": {}
        }
      ]
    },
    {
      "cell_type": "markdown",
      "metadata": {
        "id": "qUJJghvepgJa"
      },
      "source": [
        "✏️ **Ejercicio 3**: Añadir divs adentro de divs para generar una estructura más organizadas. \n",
        "* Primer div: título del dashboard\n",
        "* Segundo div: Descripción del dashboard\n",
        "* Tercer div: html.Iframe, que nos permite incluir un video de youtube dentro de nuestro dashboard (utilizando el parámetro src=url del video)\n",
        "   * **URL:** https://www.youtube.com/embed/BxV14h0kFs0"
      ]
    },
    {
      "cell_type": "code",
      "metadata": {
        "id": "jKZo4qKZofNB",
        "colab": {
          "base_uri": "https://localhost:8080/",
          "height": 50
        },
        "outputId": "8ad4fe7b-8de7-4012-e421-bb9ea6e62b4d"
      },
      "source": [
        "app.layout = html.Div( children = [\n",
        "             html.Div(html.H1(\"Mi primer Dash en python\")),\n",
        "             html.Div(html.P(\"Este Dash lo realizamos con plotly\")),\n",
        "             html.Div(html.Iframe(src = \"https://www.youtube.com/embed/BxV14h0kFs0\")) ])\n",
        "    \n",
        "\n",
        "if __name__ == \"__main__\":\n",
        "  app.run_server(mode = \"external\")"
      ],
      "execution_count": 6,
      "outputs": [
        {
          "output_type": "stream",
          "name": "stdout",
          "text": [
            "Dash app running on:\n"
          ]
        },
        {
          "output_type": "display_data",
          "data": {
            "application/javascript": [
              "(async (port, path, text, element) => {\n",
              "    if (!google.colab.kernel.accessAllowed) {\n",
              "      return;\n",
              "    }\n",
              "    element.appendChild(document.createTextNode(''));\n",
              "    const url = await google.colab.kernel.proxyPort(port);\n",
              "    const anchor = document.createElement('a');\n",
              "    anchor.href = new URL(path, url).toString();\n",
              "    anchor.target = '_blank';\n",
              "    anchor.setAttribute('data-href', url + path);\n",
              "    anchor.textContent = text;\n",
              "    element.appendChild(anchor);\n",
              "  })(8050, \"/\", \"http://127.0.0.1:8050/\", window.element)"
            ],
            "text/plain": [
              "<IPython.core.display.Javascript object>"
            ]
          },
          "metadata": {}
        }
      ]
    },
    {
      "cell_type": "markdown",
      "metadata": {
        "id": "6zg84Y-NLydW"
      },
      "source": [
        "# 3. Dash - dash core componets - Gráficos\n"
      ]
    },
    {
      "cell_type": "markdown",
      "metadata": {
        "id": "KXtYbW83_uSw"
      },
      "source": [
        "✏️ **Ejercicio 4**: Generar una app que incluya un componente dcc.Graph, definiendo el id de este componente como 'grafico_1' y la figure=figura_1.\n",
        "\n",
        "✏️ **4.1** Para lo cual es necesario generar un dataframe denominado **df_filt** que tenga los datos del año 2007 y las columnas 'country','continent','lifeExp', 'gdpPercap', 'pop'.\n",
        "\n",
        "✏️ **4.2** Posteriormente generar un scatterplot donde:\n",
        "* x=\"lifeExp\", \n",
        "* y=\"gdpPercap\", \n",
        "* color='pop',\n",
        "* size='pop',\n",
        "* labels: \n",
        "  * 'lifeExp':'Exp de vida', \n",
        "  * 'gdpPercap':'Pbi per cápita', \n",
        "  * 'pop':'Población'\n",
        "\n"
      ]
    },
    {
      "cell_type": "code",
      "metadata": {
        "id": "296ek6IFRvWP",
        "colab": {
          "base_uri": "https://localhost:8080/",
          "height": 203
        },
        "outputId": "4a17ed33-0072-49d8-a868-c782246dac03"
      },
      "source": [
        "df = px.data.gapminder()\n",
        "df_filt = df.loc[df.year == 2007, ['country','continent','lifeExp', 'gdpPercap', 'pop']].reset_index(drop= True)\n",
        "df_filt.head()"
      ],
      "execution_count": 9,
      "outputs": [
        {
          "output_type": "execute_result",
          "data": {
            "text/html": [
              "<div>\n",
              "<style scoped>\n",
              "    .dataframe tbody tr th:only-of-type {\n",
              "        vertical-align: middle;\n",
              "    }\n",
              "\n",
              "    .dataframe tbody tr th {\n",
              "        vertical-align: top;\n",
              "    }\n",
              "\n",
              "    .dataframe thead th {\n",
              "        text-align: right;\n",
              "    }\n",
              "</style>\n",
              "<table border=\"1\" class=\"dataframe\">\n",
              "  <thead>\n",
              "    <tr style=\"text-align: right;\">\n",
              "      <th></th>\n",
              "      <th>country</th>\n",
              "      <th>continent</th>\n",
              "      <th>lifeExp</th>\n",
              "      <th>gdpPercap</th>\n",
              "      <th>pop</th>\n",
              "    </tr>\n",
              "  </thead>\n",
              "  <tbody>\n",
              "    <tr>\n",
              "      <th>0</th>\n",
              "      <td>Afghanistan</td>\n",
              "      <td>Asia</td>\n",
              "      <td>43.828</td>\n",
              "      <td>974.580338</td>\n",
              "      <td>31889923</td>\n",
              "    </tr>\n",
              "    <tr>\n",
              "      <th>1</th>\n",
              "      <td>Albania</td>\n",
              "      <td>Europe</td>\n",
              "      <td>76.423</td>\n",
              "      <td>5937.029526</td>\n",
              "      <td>3600523</td>\n",
              "    </tr>\n",
              "    <tr>\n",
              "      <th>2</th>\n",
              "      <td>Algeria</td>\n",
              "      <td>Africa</td>\n",
              "      <td>72.301</td>\n",
              "      <td>6223.367465</td>\n",
              "      <td>33333216</td>\n",
              "    </tr>\n",
              "    <tr>\n",
              "      <th>3</th>\n",
              "      <td>Angola</td>\n",
              "      <td>Africa</td>\n",
              "      <td>42.731</td>\n",
              "      <td>4797.231267</td>\n",
              "      <td>12420476</td>\n",
              "    </tr>\n",
              "    <tr>\n",
              "      <th>4</th>\n",
              "      <td>Argentina</td>\n",
              "      <td>Americas</td>\n",
              "      <td>75.320</td>\n",
              "      <td>12779.379640</td>\n",
              "      <td>40301927</td>\n",
              "    </tr>\n",
              "  </tbody>\n",
              "</table>\n",
              "</div>"
            ],
            "text/plain": [
              "       country continent  lifeExp     gdpPercap       pop\n",
              "0  Afghanistan      Asia   43.828    974.580338  31889923\n",
              "1      Albania    Europe   76.423   5937.029526   3600523\n",
              "2      Algeria    Africa   72.301   6223.367465  33333216\n",
              "3       Angola    Africa   42.731   4797.231267  12420476\n",
              "4    Argentina  Americas   75.320  12779.379640  40301927"
            ]
          },
          "metadata": {},
          "execution_count": 9
        }
      ]
    },
    {
      "cell_type": "code",
      "metadata": {
        "id": "mg6ZQKHtqhJ9",
        "colab": {
          "base_uri": "https://localhost:8080/",
          "height": 542
        },
        "outputId": "c4676d34-84a8-4ed4-80da-5173b0866998"
      },
      "source": [
        "figura_1 = px.scatter(data_frame= df_filt, x= \"lifeExp\", y = \"gdpPercap\", color = \"pop\", \n",
        "                      size= \"pop\", size_max= 70, labels= { \"lifeExp\" : \"Esperanza de vida\", \"gdpPercap\" : \"PBI per capita\", \"pop\" : \"Población\"})\n",
        "\n",
        "figura_1.show()"
      ],
      "execution_count": 10,
      "outputs": [
        {
          "output_type": "display_data",
          "data": {
            "text/html": [
              "<html>\n",
              "<head><meta charset=\"utf-8\" /></head>\n",
              "<body>\n",
              "    <div>            <script src=\"https://cdnjs.cloudflare.com/ajax/libs/mathjax/2.7.5/MathJax.js?config=TeX-AMS-MML_SVG\"></script><script type=\"text/javascript\">if (window.MathJax) {MathJax.Hub.Config({SVG: {font: \"STIX-Web\"}});}</script>                <script type=\"text/javascript\">window.PlotlyConfig = {MathJaxConfig: 'local'};</script>\n",
              "        <script src=\"https://cdn.plot.ly/plotly-2.4.2.min.js\"></script>                <div id=\"b21f95eb-e5dd-4985-93b6-e33246dd3ff2\" class=\"plotly-graph-div\" style=\"height:525px; width:100%;\"></div>            <script type=\"text/javascript\">                                    window.PLOTLYENV=window.PLOTLYENV || {};                                    if (document.getElementById(\"b21f95eb-e5dd-4985-93b6-e33246dd3ff2\")) {                    Plotly.newPlot(                        \"b21f95eb-e5dd-4985-93b6-e33246dd3ff2\",                        [{\"hovertemplate\":\"Esperanza de vida=%{x}<br>PBI per capita=%{y}<br>Poblaci\\u00f3n=%{marker.color}<extra></extra>\",\"legendgroup\":\"\",\"marker\":{\"color\":[31889923,3600523,33333216,12420476,40301927,20434176,8199783,708573,150448339,10392226,8078314,9119152,4552198,1639131,190010647,7322858,14326203,8390505,14131858,17696293,33390141,4369038,10238807,16284741,1318683096,44227550,710960,64606759,3800610,4133884,18013409,4493312,11416987,10228744,5468120,496374,9319622,13755680,80264543,6939688,551201,4906585,76511887,5238460,61083916,1454867,1688359,82400996,22873338,10706290,12572928,9947814,1472041,8502814,7483763,6980412,9956108,301931,1110396331,223547000,69453570,27499638,4109086,6426679,58147733,2780132,127467972,6053193,35610177,23301725,49044790,2505559,3921278,2012649,3193942,6036914,19167654,13327079,24821286,12031795,3270065,1250882,108700891,2874127,684736,33757175,19951656,47761980,2055080,28901790,16570613,4115771,5675356,12894865,135031164,4627926,3204897,169270617,3242173,6667147,28674757,91077287,38518241,10642836,3942491,798094,22276056,8860588,199579,27601038,12267493,10150265,6144562,4553009,5447502,2009245,9118773,43997828,40448191,20378239,42292929,1133066,9031088,7554661,19314747,23174294,38139640,65068149,5701579,1056608,10276158,71158647,29170398,60776238,301139947,3447496,26084662,85262356,4018332,22211743,11746035,12311143],\"coloraxis\":\"coloraxis\",\"size\":[31889923,3600523,33333216,12420476,40301927,20434176,8199783,708573,150448339,10392226,8078314,9119152,4552198,1639131,190010647,7322858,14326203,8390505,14131858,17696293,33390141,4369038,10238807,16284741,1318683096,44227550,710960,64606759,3800610,4133884,18013409,4493312,11416987,10228744,5468120,496374,9319622,13755680,80264543,6939688,551201,4906585,76511887,5238460,61083916,1454867,1688359,82400996,22873338,10706290,12572928,9947814,1472041,8502814,7483763,6980412,9956108,301931,1110396331,223547000,69453570,27499638,4109086,6426679,58147733,2780132,127467972,6053193,35610177,23301725,49044790,2505559,3921278,2012649,3193942,6036914,19167654,13327079,24821286,12031795,3270065,1250882,108700891,2874127,684736,33757175,19951656,47761980,2055080,28901790,16570613,4115771,5675356,12894865,135031164,4627926,3204897,169270617,3242173,6667147,28674757,91077287,38518241,10642836,3942491,798094,22276056,8860588,199579,27601038,12267493,10150265,6144562,4553009,5447502,2009245,9118773,43997828,40448191,20378239,42292929,1133066,9031088,7554661,19314747,23174294,38139640,65068149,5701579,1056608,10276158,71158647,29170398,60776238,301139947,3447496,26084662,85262356,4018332,22211743,11746035,12311143],\"sizemode\":\"area\",\"sizeref\":269118.99918367347,\"symbol\":\"circle\"},\"mode\":\"markers\",\"name\":\"\",\"orientation\":\"v\",\"showlegend\":false,\"type\":\"scatter\",\"x\":[43.828,76.423,72.301,42.731,75.32,81.235,79.829,75.635,64.062,79.441,56.728,65.554,74.852,50.728,72.39,73.005,52.295,49.58,59.723,50.43,80.653,44.74100000000001,50.651,78.553,72.961,72.889,65.152,46.461999999999996,55.321999999999996,78.782,48.328,75.748,78.273,76.486,78.332,54.791000000000004,72.235,74.994,71.33800000000002,71.878,51.57899999999999,58.04,52.946999999999996,79.313,80.657,56.735,59.448,79.406,60.022,79.483,70.259,56.007,46.38800000000001,60.916000000000004,70.19800000000001,82.208,73.33800000000002,81.757,64.69800000000001,70.65,70.964,59.545,78.885,80.745,80.546,72.567,82.603,72.535,54.11,67.297,78.623,77.58800000000002,71.993,42.592,45.678000000000004,73.952,59.44300000000001,48.303000000000004,74.241,54.467,64.164,72.801,76.195,66.803,74.543,71.164,42.082,62.068999999999996,52.90600000000001,63.785,79.762,80.204,72.899,56.867,46.858999999999995,80.196,75.64,65.483,75.53699999999998,71.752,71.421,71.688,75.563,78.098,78.74600000000002,76.442,72.476,46.242,65.528,72.777,63.062,74.002,42.56800000000001,79.972,74.663,77.926,48.159,49.339,80.941,72.396,58.556000000000004,39.613,80.884,81.70100000000002,74.143,78.4,52.516999999999996,70.616,58.42,69.819,73.923,71.777,51.542,79.425,78.242,76.384,73.747,74.249,73.422,62.698,42.38399999999999,43.486999999999995],\"xaxis\":\"x\",\"y\":[974.5803384,5937.0295259999975,6223.367465,4797.231267,12779.379640000001,34435.367439999995,36126.4927,29796.048339999998,1391.253792,33692.60508,1441.284873,3822.1370840000004,7446.298803,12569.851770000001,9065.800825,10680.79282,1217.032994,430.07069160000003,1713.7786859999999,2042.0952399999999,36319.235010000004,706.016537,1704.0637239999999,13171.63885,4959.1148539999995,7006.580419,986.1478792000001,277.55185869999997,3632.557798,9645.06142,1544.750112,14619.222719999998,8948.102923,22833.30851,35278.41874,2082.4815670000007,6025.374752000002,6873.262326000001,5581.180998,5728.353514,12154.08975,641.3695236000002,690.8055759,33207.0844,30470.0167,13206.48452,752.7497265,32170.37442,1327.60891,27538.41188,5186.050003,942.6542111,579.2317429999998,1201.637154,3548.330846000001,39724.97867,18008.94444,36180.789189999996,2452.210407,3540.6515640000002,11605.71449,4471.061906,40675.99635,25523.2771,28569.7197,7320.880262000002,31656.06806,4519.461171,1463.249282,1593.06548,23348.13973000001,47306.98978,10461.05868,1569.331442,414.5073415,12057.49928,1044.770126,759.3499101,12451.6558,1042.581557,1803.1514960000002,10956.99112,11977.57496,3095.772271000001,9253.896111,3820.17523,823.6856205,944.0,4811.060429,1091.359778,36797.93332,25185.00911,2749.320965,619.6768923999998,2013.9773050000001,49357.19017,22316.19287,2605.94758,9809.185636,4172.838464,7408.905561,3190.481016,15389.924680000002,20509.64777,19328.70901,7670.122558,10808.47561,863.0884639000003,1598.435089,21654.83194,1712.4721359999999,9786.534714,862.5407561000003,47143.179639999995,18678.31435,25768.25759,926.1410683,9269.657808,28821.0637,3970.0954070000003,2602.394995,4513.480643,33859.74835,37506.419069999996,4184.548089,28718.27684,1107.482182,7458.396326999998,882.9699437999999,18008.50924,7092.923025,8458.276384,1056.3801210000001,33203.26128,42951.65309,10611.46299,11415.805690000001,2441.576404,3025.349798,2280.769906,1271.211593,469.70929810000007],\"yaxis\":\"y\"}],                        {\"coloraxis\":{\"colorbar\":{\"title\":{\"text\":\"Poblaci\\u00f3n\"}},\"colorscale\":[[0.0,\"#0d0887\"],[0.1111111111111111,\"#46039f\"],[0.2222222222222222,\"#7201a8\"],[0.3333333333333333,\"#9c179e\"],[0.4444444444444444,\"#bd3786\"],[0.5555555555555556,\"#d8576b\"],[0.6666666666666666,\"#ed7953\"],[0.7777777777777778,\"#fb9f3a\"],[0.8888888888888888,\"#fdca26\"],[1.0,\"#f0f921\"]]},\"legend\":{\"itemsizing\":\"constant\",\"tracegroupgap\":0},\"margin\":{\"t\":60},\"template\":{\"data\":{\"bar\":[{\"error_x\":{\"color\":\"#2a3f5f\"},\"error_y\":{\"color\":\"#2a3f5f\"},\"marker\":{\"line\":{\"color\":\"#E5ECF6\",\"width\":0.5},\"pattern\":{\"fillmode\":\"overlay\",\"size\":10,\"solidity\":0.2}},\"type\":\"bar\"}],\"barpolar\":[{\"marker\":{\"line\":{\"color\":\"#E5ECF6\",\"width\":0.5},\"pattern\":{\"fillmode\":\"overlay\",\"size\":10,\"solidity\":0.2}},\"type\":\"barpolar\"}],\"carpet\":[{\"aaxis\":{\"endlinecolor\":\"#2a3f5f\",\"gridcolor\":\"white\",\"linecolor\":\"white\",\"minorgridcolor\":\"white\",\"startlinecolor\":\"#2a3f5f\"},\"baxis\":{\"endlinecolor\":\"#2a3f5f\",\"gridcolor\":\"white\",\"linecolor\":\"white\",\"minorgridcolor\":\"white\",\"startlinecolor\":\"#2a3f5f\"},\"type\":\"carpet\"}],\"choropleth\":[{\"colorbar\":{\"outlinewidth\":0,\"ticks\":\"\"},\"type\":\"choropleth\"}],\"contour\":[{\"colorbar\":{\"outlinewidth\":0,\"ticks\":\"\"},\"colorscale\":[[0.0,\"#0d0887\"],[0.1111111111111111,\"#46039f\"],[0.2222222222222222,\"#7201a8\"],[0.3333333333333333,\"#9c179e\"],[0.4444444444444444,\"#bd3786\"],[0.5555555555555556,\"#d8576b\"],[0.6666666666666666,\"#ed7953\"],[0.7777777777777778,\"#fb9f3a\"],[0.8888888888888888,\"#fdca26\"],[1.0,\"#f0f921\"]],\"type\":\"contour\"}],\"contourcarpet\":[{\"colorbar\":{\"outlinewidth\":0,\"ticks\":\"\"},\"type\":\"contourcarpet\"}],\"heatmap\":[{\"colorbar\":{\"outlinewidth\":0,\"ticks\":\"\"},\"colorscale\":[[0.0,\"#0d0887\"],[0.1111111111111111,\"#46039f\"],[0.2222222222222222,\"#7201a8\"],[0.3333333333333333,\"#9c179e\"],[0.4444444444444444,\"#bd3786\"],[0.5555555555555556,\"#d8576b\"],[0.6666666666666666,\"#ed7953\"],[0.7777777777777778,\"#fb9f3a\"],[0.8888888888888888,\"#fdca26\"],[1.0,\"#f0f921\"]],\"type\":\"heatmap\"}],\"heatmapgl\":[{\"colorbar\":{\"outlinewidth\":0,\"ticks\":\"\"},\"colorscale\":[[0.0,\"#0d0887\"],[0.1111111111111111,\"#46039f\"],[0.2222222222222222,\"#7201a8\"],[0.3333333333333333,\"#9c179e\"],[0.4444444444444444,\"#bd3786\"],[0.5555555555555556,\"#d8576b\"],[0.6666666666666666,\"#ed7953\"],[0.7777777777777778,\"#fb9f3a\"],[0.8888888888888888,\"#fdca26\"],[1.0,\"#f0f921\"]],\"type\":\"heatmapgl\"}],\"histogram\":[{\"marker\":{\"pattern\":{\"fillmode\":\"overlay\",\"size\":10,\"solidity\":0.2}},\"type\":\"histogram\"}],\"histogram2d\":[{\"colorbar\":{\"outlinewidth\":0,\"ticks\":\"\"},\"colorscale\":[[0.0,\"#0d0887\"],[0.1111111111111111,\"#46039f\"],[0.2222222222222222,\"#7201a8\"],[0.3333333333333333,\"#9c179e\"],[0.4444444444444444,\"#bd3786\"],[0.5555555555555556,\"#d8576b\"],[0.6666666666666666,\"#ed7953\"],[0.7777777777777778,\"#fb9f3a\"],[0.8888888888888888,\"#fdca26\"],[1.0,\"#f0f921\"]],\"type\":\"histogram2d\"}],\"histogram2dcontour\":[{\"colorbar\":{\"outlinewidth\":0,\"ticks\":\"\"},\"colorscale\":[[0.0,\"#0d0887\"],[0.1111111111111111,\"#46039f\"],[0.2222222222222222,\"#7201a8\"],[0.3333333333333333,\"#9c179e\"],[0.4444444444444444,\"#bd3786\"],[0.5555555555555556,\"#d8576b\"],[0.6666666666666666,\"#ed7953\"],[0.7777777777777778,\"#fb9f3a\"],[0.8888888888888888,\"#fdca26\"],[1.0,\"#f0f921\"]],\"type\":\"histogram2dcontour\"}],\"mesh3d\":[{\"colorbar\":{\"outlinewidth\":0,\"ticks\":\"\"},\"type\":\"mesh3d\"}],\"parcoords\":[{\"line\":{\"colorbar\":{\"outlinewidth\":0,\"ticks\":\"\"}},\"type\":\"parcoords\"}],\"pie\":[{\"automargin\":true,\"type\":\"pie\"}],\"scatter\":[{\"marker\":{\"colorbar\":{\"outlinewidth\":0,\"ticks\":\"\"}},\"type\":\"scatter\"}],\"scatter3d\":[{\"line\":{\"colorbar\":{\"outlinewidth\":0,\"ticks\":\"\"}},\"marker\":{\"colorbar\":{\"outlinewidth\":0,\"ticks\":\"\"}},\"type\":\"scatter3d\"}],\"scattercarpet\":[{\"marker\":{\"colorbar\":{\"outlinewidth\":0,\"ticks\":\"\"}},\"type\":\"scattercarpet\"}],\"scattergeo\":[{\"marker\":{\"colorbar\":{\"outlinewidth\":0,\"ticks\":\"\"}},\"type\":\"scattergeo\"}],\"scattergl\":[{\"marker\":{\"colorbar\":{\"outlinewidth\":0,\"ticks\":\"\"}},\"type\":\"scattergl\"}],\"scattermapbox\":[{\"marker\":{\"colorbar\":{\"outlinewidth\":0,\"ticks\":\"\"}},\"type\":\"scattermapbox\"}],\"scatterpolar\":[{\"marker\":{\"colorbar\":{\"outlinewidth\":0,\"ticks\":\"\"}},\"type\":\"scatterpolar\"}],\"scatterpolargl\":[{\"marker\":{\"colorbar\":{\"outlinewidth\":0,\"ticks\":\"\"}},\"type\":\"scatterpolargl\"}],\"scatterternary\":[{\"marker\":{\"colorbar\":{\"outlinewidth\":0,\"ticks\":\"\"}},\"type\":\"scatterternary\"}],\"surface\":[{\"colorbar\":{\"outlinewidth\":0,\"ticks\":\"\"},\"colorscale\":[[0.0,\"#0d0887\"],[0.1111111111111111,\"#46039f\"],[0.2222222222222222,\"#7201a8\"],[0.3333333333333333,\"#9c179e\"],[0.4444444444444444,\"#bd3786\"],[0.5555555555555556,\"#d8576b\"],[0.6666666666666666,\"#ed7953\"],[0.7777777777777778,\"#fb9f3a\"],[0.8888888888888888,\"#fdca26\"],[1.0,\"#f0f921\"]],\"type\":\"surface\"}],\"table\":[{\"cells\":{\"fill\":{\"color\":\"#EBF0F8\"},\"line\":{\"color\":\"white\"}},\"header\":{\"fill\":{\"color\":\"#C8D4E3\"},\"line\":{\"color\":\"white\"}},\"type\":\"table\"}]},\"layout\":{\"annotationdefaults\":{\"arrowcolor\":\"#2a3f5f\",\"arrowhead\":0,\"arrowwidth\":1},\"autotypenumbers\":\"strict\",\"coloraxis\":{\"colorbar\":{\"outlinewidth\":0,\"ticks\":\"\"}},\"colorscale\":{\"diverging\":[[0,\"#8e0152\"],[0.1,\"#c51b7d\"],[0.2,\"#de77ae\"],[0.3,\"#f1b6da\"],[0.4,\"#fde0ef\"],[0.5,\"#f7f7f7\"],[0.6,\"#e6f5d0\"],[0.7,\"#b8e186\"],[0.8,\"#7fbc41\"],[0.9,\"#4d9221\"],[1,\"#276419\"]],\"sequential\":[[0.0,\"#0d0887\"],[0.1111111111111111,\"#46039f\"],[0.2222222222222222,\"#7201a8\"],[0.3333333333333333,\"#9c179e\"],[0.4444444444444444,\"#bd3786\"],[0.5555555555555556,\"#d8576b\"],[0.6666666666666666,\"#ed7953\"],[0.7777777777777778,\"#fb9f3a\"],[0.8888888888888888,\"#fdca26\"],[1.0,\"#f0f921\"]],\"sequentialminus\":[[0.0,\"#0d0887\"],[0.1111111111111111,\"#46039f\"],[0.2222222222222222,\"#7201a8\"],[0.3333333333333333,\"#9c179e\"],[0.4444444444444444,\"#bd3786\"],[0.5555555555555556,\"#d8576b\"],[0.6666666666666666,\"#ed7953\"],[0.7777777777777778,\"#fb9f3a\"],[0.8888888888888888,\"#fdca26\"],[1.0,\"#f0f921\"]]},\"colorway\":[\"#636efa\",\"#EF553B\",\"#00cc96\",\"#ab63fa\",\"#FFA15A\",\"#19d3f3\",\"#FF6692\",\"#B6E880\",\"#FF97FF\",\"#FECB52\"],\"font\":{\"color\":\"#2a3f5f\"},\"geo\":{\"bgcolor\":\"white\",\"lakecolor\":\"white\",\"landcolor\":\"#E5ECF6\",\"showlakes\":true,\"showland\":true,\"subunitcolor\":\"white\"},\"hoverlabel\":{\"align\":\"left\"},\"hovermode\":\"closest\",\"mapbox\":{\"style\":\"light\"},\"paper_bgcolor\":\"white\",\"plot_bgcolor\":\"#E5ECF6\",\"polar\":{\"angularaxis\":{\"gridcolor\":\"white\",\"linecolor\":\"white\",\"ticks\":\"\"},\"bgcolor\":\"#E5ECF6\",\"radialaxis\":{\"gridcolor\":\"white\",\"linecolor\":\"white\",\"ticks\":\"\"}},\"scene\":{\"xaxis\":{\"backgroundcolor\":\"#E5ECF6\",\"gridcolor\":\"white\",\"gridwidth\":2,\"linecolor\":\"white\",\"showbackground\":true,\"ticks\":\"\",\"zerolinecolor\":\"white\"},\"yaxis\":{\"backgroundcolor\":\"#E5ECF6\",\"gridcolor\":\"white\",\"gridwidth\":2,\"linecolor\":\"white\",\"showbackground\":true,\"ticks\":\"\",\"zerolinecolor\":\"white\"},\"zaxis\":{\"backgroundcolor\":\"#E5ECF6\",\"gridcolor\":\"white\",\"gridwidth\":2,\"linecolor\":\"white\",\"showbackground\":true,\"ticks\":\"\",\"zerolinecolor\":\"white\"}},\"shapedefaults\":{\"line\":{\"color\":\"#2a3f5f\"}},\"ternary\":{\"aaxis\":{\"gridcolor\":\"white\",\"linecolor\":\"white\",\"ticks\":\"\"},\"baxis\":{\"gridcolor\":\"white\",\"linecolor\":\"white\",\"ticks\":\"\"},\"bgcolor\":\"#E5ECF6\",\"caxis\":{\"gridcolor\":\"white\",\"linecolor\":\"white\",\"ticks\":\"\"}},\"title\":{\"x\":0.05},\"xaxis\":{\"automargin\":true,\"gridcolor\":\"white\",\"linecolor\":\"white\",\"ticks\":\"\",\"title\":{\"standoff\":15},\"zerolinecolor\":\"white\",\"zerolinewidth\":2},\"yaxis\":{\"automargin\":true,\"gridcolor\":\"white\",\"linecolor\":\"white\",\"ticks\":\"\",\"title\":{\"standoff\":15},\"zerolinecolor\":\"white\",\"zerolinewidth\":2}}},\"xaxis\":{\"anchor\":\"y\",\"domain\":[0.0,1.0],\"title\":{\"text\":\"Esperanza de vida\"}},\"yaxis\":{\"anchor\":\"x\",\"domain\":[0.0,1.0],\"title\":{\"text\":\"PBI per capita\"}}},                        {\"responsive\": true}                    ).then(function(){\n",
              "                            \n",
              "var gd = document.getElementById('b21f95eb-e5dd-4985-93b6-e33246dd3ff2');\n",
              "var x = new MutationObserver(function (mutations, observer) {{\n",
              "        var display = window.getComputedStyle(gd).display;\n",
              "        if (!display || display === 'none') {{\n",
              "            console.log([gd, 'removed!']);\n",
              "            Plotly.purge(gd);\n",
              "            observer.disconnect();\n",
              "        }}\n",
              "}});\n",
              "\n",
              "// Listen for the removal of the full notebook cells\n",
              "var notebookContainer = gd.closest('#notebook-container');\n",
              "if (notebookContainer) {{\n",
              "    x.observe(notebookContainer, {childList: true});\n",
              "}}\n",
              "\n",
              "// Listen for the clearing of the current output cell\n",
              "var outputEl = gd.closest('.output');\n",
              "if (outputEl) {{\n",
              "    x.observe(outputEl, {childList: true});\n",
              "}}\n",
              "\n",
              "                        })                };                            </script>        </div>\n",
              "</body>\n",
              "</html>"
            ]
          },
          "metadata": {}
        }
      ]
    },
    {
      "cell_type": "code",
      "metadata": {
        "id": "7naYtomgLydW",
        "colab": {
          "base_uri": "https://localhost:8080/",
          "height": 50
        },
        "outputId": "1bea5d97-623e-4a45-d718-04e90fc5e410"
      },
      "source": [
        "app.layout = html.Div( children = [\n",
        "             html.Div(html.H1(\"Mi primer Dash en python\")),\n",
        "             html.Div(html.P(\"Este Dash lo realizamos con plotly\")),\n",
        "             dcc.Graph(id = \"Grafico_1\", figure= figura_1)])\n",
        "    \n",
        "\n",
        "if __name__ == \"__main__\":\n",
        "  app.run_server(mode = \"external\")"
      ],
      "execution_count": 11,
      "outputs": [
        {
          "output_type": "stream",
          "name": "stdout",
          "text": [
            "Dash app running on:\n"
          ]
        },
        {
          "output_type": "display_data",
          "data": {
            "application/javascript": [
              "(async (port, path, text, element) => {\n",
              "    if (!google.colab.kernel.accessAllowed) {\n",
              "      return;\n",
              "    }\n",
              "    element.appendChild(document.createTextNode(''));\n",
              "    const url = await google.colab.kernel.proxyPort(port);\n",
              "    const anchor = document.createElement('a');\n",
              "    anchor.href = new URL(path, url).toString();\n",
              "    anchor.target = '_blank';\n",
              "    anchor.setAttribute('data-href', url + path);\n",
              "    anchor.textContent = text;\n",
              "    element.appendChild(anchor);\n",
              "  })(8050, \"/\", \"http://127.0.0.1:8050/\", window.element)"
            ],
            "text/plain": [
              "<IPython.core.display.Javascript object>"
            ]
          },
          "metadata": {}
        }
      ]
    },
    {
      "cell_type": "markdown",
      "metadata": {
        "id": "oNf5VSjDLydp"
      },
      "source": [
        "# 4. Dash - dash core componets - Botones\n"
      ]
    },
    {
      "cell_type": "markdown",
      "metadata": {
        "id": "qF2qitczuCMu"
      },
      "source": [
        "## Dropdown"
      ]
    },
    {
      "cell_type": "markdown",
      "metadata": {
        "id": "ra026Qo9_uSz"
      },
      "source": [
        "✏️ **Ejercicio 5**: Generar un Dropdown que permita seleccionar entre dos alternativas: Americas o Europe. Americas y Europe son los valores mientras que los labels deben ser América y Europa. "
      ]
    },
    {
      "cell_type": "code",
      "metadata": {
        "id": "EYWznSCCskN7",
        "colab": {
          "base_uri": "https://localhost:8080/",
          "height": 50
        },
        "outputId": "84e8d9b1-f359-4d79-f423-4c37c20c48f0"
      },
      "source": [
        "app.layout = html.Div( children = [\n",
        "             html.Div(html.H1(\"Mi primer Dash en python\")),\n",
        "             html.Div(html.P(\"Este Dash lo realizamos con plotly\")),\n",
        "             dcc.Dropdown(id = \"dropdown\", options= [{\"label\" : \"Europa\", \"value\" : \"Europe\"},\n",
        "                                                     {\"label\" : \"America\" , \"value\" : \"Americas\"}],\n",
        "                          value = \"Americas\",\n",
        "                          multi = False),\n",
        "             dcc.Graph(id = \"Grafico_1\", figure= figura_1)])\n",
        "    \n",
        "\n",
        "if __name__ == \"__main__\":\n",
        "  app.run_server(mode = \"external\")"
      ],
      "execution_count": 12,
      "outputs": [
        {
          "output_type": "stream",
          "name": "stdout",
          "text": [
            "Dash app running on:\n"
          ]
        },
        {
          "output_type": "display_data",
          "data": {
            "application/javascript": [
              "(async (port, path, text, element) => {\n",
              "    if (!google.colab.kernel.accessAllowed) {\n",
              "      return;\n",
              "    }\n",
              "    element.appendChild(document.createTextNode(''));\n",
              "    const url = await google.colab.kernel.proxyPort(port);\n",
              "    const anchor = document.createElement('a');\n",
              "    anchor.href = new URL(path, url).toString();\n",
              "    anchor.target = '_blank';\n",
              "    anchor.setAttribute('data-href', url + path);\n",
              "    anchor.textContent = text;\n",
              "    element.appendChild(anchor);\n",
              "  })(8050, \"/\", \"http://127.0.0.1:8050/\", window.element)"
            ],
            "text/plain": [
              "<IPython.core.display.Javascript object>"
            ]
          },
          "metadata": {}
        }
      ]
    },
    {
      "cell_type": "markdown",
      "metadata": {
        "id": "3a-tR-tvuI4z"
      },
      "source": [
        "## Radio items"
      ]
    },
    {
      "cell_type": "markdown",
      "metadata": {
        "id": "t7EKDHUH_uS0"
      },
      "source": [
        "✏️ **Ejercicio 6**: Generar un RadioItems que permita seleccionar entre dos alternativas: Americas o Europe. Americas y Europe son los valores mientras que los labels deben ser América y Europa."
      ]
    },
    {
      "cell_type": "code",
      "metadata": {
        "id": "aVhOXGuasktn",
        "colab": {
          "base_uri": "https://localhost:8080/",
          "height": 50
        },
        "outputId": "942541dd-01c3-44da-c3a0-0844a03993ab"
      },
      "source": [
        "app.layout = html.Div( children = [\n",
        "             html.Div(html.H1(\"Mi primer Dash en python\")),\n",
        "             html.Div(html.P(\"Este Dash lo realizamos con plotly\")),\n",
        "             dcc.RadioItems(id = \"radioitem\", options= [{\"label\" : \"Europa\", \"value\" : \"Europe\"},\n",
        "                                                     {\"label\" : \"America\" , \"value\" : \"Americas\"}],\n",
        "                          value = \"Americas\"),\n",
        "             dcc.Graph(id = \"Grafico_1\", figure= figura_1)])\n",
        "    \n",
        "\n",
        "if __name__ == \"__main__\":\n",
        "  app.run_server(mode = \"external\")"
      ],
      "execution_count": 22,
      "outputs": [
        {
          "output_type": "stream",
          "name": "stdout",
          "text": [
            "Dash app running on:\n"
          ]
        },
        {
          "output_type": "display_data",
          "data": {
            "application/javascript": [
              "(async (port, path, text, element) => {\n",
              "    if (!google.colab.kernel.accessAllowed) {\n",
              "      return;\n",
              "    }\n",
              "    element.appendChild(document.createTextNode(''));\n",
              "    const url = await google.colab.kernel.proxyPort(port);\n",
              "    const anchor = document.createElement('a');\n",
              "    anchor.href = new URL(path, url).toString();\n",
              "    anchor.target = '_blank';\n",
              "    anchor.setAttribute('data-href', url + path);\n",
              "    anchor.textContent = text;\n",
              "    element.appendChild(anchor);\n",
              "  })(8050, \"/\", \"http://127.0.0.1:8050/\", window.element)"
            ],
            "text/plain": [
              "<IPython.core.display.Javascript object>"
            ]
          },
          "metadata": {}
        }
      ]
    },
    {
      "cell_type": "markdown",
      "metadata": {
        "id": "aL5N89UzwjOX"
      },
      "source": [
        "# 5. Dash - Callbacks \n",
        "\n",
        "Qué ocurre al tocar los botones que generamos en el punto anterior: \n"
      ]
    },
    {
      "cell_type": "markdown",
      "metadata": {
        "id": "i5dmaUfo_uS2"
      },
      "source": [
        "✏️ **Ejercicio 7**: En el dash del punto 12, generar una función callback que ante el Input (selección del valor del dropdown), genere un Output (cambie el texto de children en el html.Div). "
      ]
    },
    {
      "cell_type": "code",
      "metadata": {
        "colab": {
          "base_uri": "https://localhost:8080/",
          "height": 50
        },
        "id": "XdBCAvfK0bEv",
        "outputId": "9c944c7d-4d77-4bb3-efdf-82ee0a5ce0da"
      },
      "source": [
        "app.layout = html.Div( children = [\n",
        "             html.Div(html.H1(\"Mi primer Dash en python\")),\n",
        "             html.Div(html.P(\"Este Dash lo realizamos con plotly\")),\n",
        "             dcc.Dropdown(id = \"dropdown\", options= [{\"label\" : \"Europa\", \"value\" : \"Europe\"},\n",
        "                                                     {\"label\" : \"America\" , \"value\" : \"Americas\"}],\n",
        "                          value = \"Americas\",\n",
        "                          multi = False),\n",
        "             html.Br(),\n",
        "             html.Div(id = \"Continente\", children = \"Continente seleccionado:\"),\n",
        "             dcc.Graph(id = \"Grafico_1\", figure= figura_1)])\n",
        "\n",
        "\n",
        "if __name__ == \"__main__\":\n",
        "  app.run_server(mode = \"external\")\n",
        "  "
      ],
      "execution_count": 28,
      "outputs": [
        {
          "output_type": "stream",
          "name": "stdout",
          "text": [
            "Dash app running on:\n"
          ]
        },
        {
          "output_type": "display_data",
          "data": {
            "application/javascript": [
              "(async (port, path, text, element) => {\n",
              "    if (!google.colab.kernel.accessAllowed) {\n",
              "      return;\n",
              "    }\n",
              "    element.appendChild(document.createTextNode(''));\n",
              "    const url = await google.colab.kernel.proxyPort(port);\n",
              "    const anchor = document.createElement('a');\n",
              "    anchor.href = new URL(path, url).toString();\n",
              "    anchor.target = '_blank';\n",
              "    anchor.setAttribute('data-href', url + path);\n",
              "    anchor.textContent = text;\n",
              "    element.appendChild(anchor);\n",
              "  })(8050, \"/\", \"http://127.0.0.1:8050/\", window.element)"
            ],
            "text/plain": [
              "<IPython.core.display.Javascript object>"
            ]
          },
          "metadata": {}
        }
      ]
    },
    {
      "cell_type": "code",
      "metadata": {
        "id": "2rZn2H6L2OUY",
        "colab": {
          "base_uri": "https://localhost:8080/",
          "height": 50
        },
        "outputId": "07e16501-8f1e-4a71-b9ac-f9c54fdca15b"
      },
      "source": [
        "app.layout = html.Div( children = [\n",
        "             html.Div(html.H1(\"Mi primer Dash en python\")),\n",
        "             html.Div(html.P(\"Este Dash lo realizamos con plotly\")),\n",
        "             dcc.Dropdown(id = \"dropdown\", options= [{\"label\" : \"Europa\", \"value\" : \"Europe\"},\n",
        "                                                     {\"label\" : \"America\" , \"value\" : \"Americas\"}],\n",
        "                          value = \"Americas\",\n",
        "                          multi = False),\n",
        "             html.Br(),\n",
        "             html.Div(id = \"Continente\", children = \"Continente seleccionado:\"),\n",
        "             dcc.Graph(id = \"Grafico_1\", figure= figura_1)])\n",
        "\n",
        "@app.callback( \n",
        "   Output(component_id= \"Continente\" , component_property= \"children\"),\n",
        "   Input(component_id= \"dropdown\", component_property= \"value\"))\n",
        "\n",
        "def update_dropdown(select_value):\n",
        "  return \"Continente seleccionado\" + select_value\n",
        "    \n",
        "\n",
        "if __name__ == \"__main__\":\n",
        "  app.run_server(mode = \"external\")"
      ],
      "execution_count": 29,
      "outputs": [
        {
          "output_type": "stream",
          "name": "stdout",
          "text": [
            "Dash app running on:\n"
          ]
        },
        {
          "output_type": "display_data",
          "data": {
            "application/javascript": [
              "(async (port, path, text, element) => {\n",
              "    if (!google.colab.kernel.accessAllowed) {\n",
              "      return;\n",
              "    }\n",
              "    element.appendChild(document.createTextNode(''));\n",
              "    const url = await google.colab.kernel.proxyPort(port);\n",
              "    const anchor = document.createElement('a');\n",
              "    anchor.href = new URL(path, url).toString();\n",
              "    anchor.target = '_blank';\n",
              "    anchor.setAttribute('data-href', url + path);\n",
              "    anchor.textContent = text;\n",
              "    element.appendChild(anchor);\n",
              "  })(8050, \"/\", \"http://127.0.0.1:8050/\", window.element)"
            ],
            "text/plain": [
              "<IPython.core.display.Javascript object>"
            ]
          },
          "metadata": {}
        }
      ]
    },
    {
      "cell_type": "markdown",
      "metadata": {
        "id": "RSzFPghZSXTb"
      },
      "source": [
        "✏️ **Ejercicio 8:** En el dash del punto anterior modificar para tener un dropdown multiple, que su valor inicial sea Americas.\n",
        "Asimismo cuando seleciona un pais que retorne los valores seleccionados y cambie el texto de children en el html.Div"
      ]
    },
    {
      "cell_type": "code",
      "metadata": {
        "id": "zZlIqPRPDTJU"
      },
      "source": [
        ""
      ],
      "execution_count": null,
      "outputs": []
    },
    {
      "cell_type": "code",
      "metadata": {
        "id": "M04MtagdpxeG",
        "colab": {
          "base_uri": "https://localhost:8080/",
          "height": 50
        },
        "outputId": "8e1f59d8-298b-4896-dcbb-950215937ddc"
      },
      "source": [
        "app = JupyterDash()\n",
        "app.layout = html.Div( children = [\n",
        "             html.Div(html.H1(\"Mi primer Dash en python\")),\n",
        "             html.Div(html.P(\"Este Dash lo realizamos con plotly\")),\n",
        "             dcc.Dropdown(id = \"dropdown\", options= [{\"label\" : \"Europa\", \"value\" : \"Europe\"},\n",
        "                                                     {\"label\" : \"America\" , \"value\" : \"Americas\"}],\n",
        "                          value = [\"Americas\"],\n",
        "                          multi = True),\n",
        "             html.Br(),\n",
        "             html.Div(id = \"Continente\", children = \"Continente seleccionado:\"),\n",
        "             dcc.Graph(id = \"Grafico_1\", figure= figura_1)])\n",
        "\n",
        "@app.callback( \n",
        "   Output(component_id= \"Continente\" , component_property= \"children\"),\n",
        "   Input(component_id= \"dropdown\", component_property= \"value\"))\n",
        "\n",
        "def update_dropdown(select_value):\n",
        "  if len(select_value) == 1:\n",
        "    return \"Continente seleccionado:\" + select_value[0]\n",
        "  elif len(select_value) == 2:\n",
        "    return \"Continente seleccionado:\" + select_value[0] + \"y\" + select_value[1]\n",
        "  else:\n",
        "    return \"No hay valores seleccionados\"\n",
        "\n",
        "    \n",
        "\n",
        "if __name__ == \"__main__\":\n",
        "  app.run_server(mode = \"external\")"
      ],
      "execution_count": 32,
      "outputs": [
        {
          "output_type": "stream",
          "name": "stdout",
          "text": [
            "Dash app running on:\n"
          ]
        },
        {
          "output_type": "display_data",
          "data": {
            "application/javascript": [
              "(async (port, path, text, element) => {\n",
              "    if (!google.colab.kernel.accessAllowed) {\n",
              "      return;\n",
              "    }\n",
              "    element.appendChild(document.createTextNode(''));\n",
              "    const url = await google.colab.kernel.proxyPort(port);\n",
              "    const anchor = document.createElement('a');\n",
              "    anchor.href = new URL(path, url).toString();\n",
              "    anchor.target = '_blank';\n",
              "    anchor.setAttribute('data-href', url + path);\n",
              "    anchor.textContent = text;\n",
              "    element.appendChild(anchor);\n",
              "  })(8050, \"/\", \"http://127.0.0.1:8050/\", window.element)"
            ],
            "text/plain": [
              "<IPython.core.display.Javascript object>"
            ]
          },
          "metadata": {}
        }
      ]
    },
    {
      "cell_type": "markdown",
      "metadata": {
        "id": "Ht5VhWBarKHX"
      },
      "source": [
        "✏️ **Ejercicio 9:** En el dash del punto anterior modificar que el dropdown tabmien modifique el grafico en base al valor seleccionado."
      ]
    },
    {
      "cell_type": "code",
      "metadata": {
        "id": "jSyuAcAeRHdc",
        "colab": {
          "base_uri": "https://localhost:8080/",
          "height": 50
        },
        "outputId": "35b9ed63-40b7-44ca-a274-a70e3ef68743"
      },
      "source": [
        "app = JupyterDash()\n",
        "app.layout = html.Div( children = [\n",
        "             html.Div(html.H1(\"Mi primer Dash en python\")),\n",
        "             html.Div(html.P(\"Este Dash lo realizamos con plotly\")),\n",
        "             dcc.Dropdown(id = \"dropdown\", options= [{\"label\" : \"Europa\", \"value\" : \"Europe\"},\n",
        "                                                     {\"label\" : \"America\" , \"value\" : \"Americas\"}],\n",
        "                          value = [\"Americas\"],\n",
        "                          multi = True),\n",
        "             html.Br(),\n",
        "             html.Div(id = \"Continente\", children = \"Continente seleccionado:\"),\n",
        "             dcc.Graph(id = \"Grafico_1\", figure= figura_1)])\n",
        "\n",
        "@app.callback( \n",
        "   Output(component_id= \"Continente\" , component_property= \"children\"),\n",
        "   Input(component_id= \"dropdown\", component_property= \"value\"))\n",
        "\n",
        "def update_dropdown(select_value):\n",
        "  if len(select_value) == 1:\n",
        "    return \"Continente seleccionado:\" + select_value[0]\n",
        "  elif len(select_value) == 2:\n",
        "    return \"Continente seleccionado:\" + select_value[0] + \"y\" + select_value[1]\n",
        "  else:\n",
        "    return \"No hay valores seleccionados\"\n",
        "\n",
        "\n",
        "@app.callback(\n",
        "    Output(component_id= \"Grafico_1\", component_property= \"figure\"),\n",
        "    Input(component_id= \"dropdown\", component_property= \"value\"))\n",
        "\n",
        "def update_grafico(select_value):\n",
        "  figura_1 = px.scatter(data_frame= df_filt.loc[df_filt[\"continent\"].isin(select_value), :] , x= \"lifeExp\", y = \"gdpPercap\", color = \"pop\", \n",
        "                      size= \"pop\", \n",
        "                      size_max= 70,\n",
        "                      labels= { \"lifeExp\" : \"Esperanza de vida\", \"gdpPercap\" : \"PBI per capita\", \"pop\" : \"Población\"})\n",
        "  return figura_1\n",
        "\n",
        "\n",
        "\n",
        "if __name__ == \"__main__\":\n",
        "  app.run_server(mode = \"external\")\n"
      ],
      "execution_count": 33,
      "outputs": [
        {
          "output_type": "stream",
          "name": "stdout",
          "text": [
            "Dash app running on:\n"
          ]
        },
        {
          "output_type": "display_data",
          "data": {
            "application/javascript": [
              "(async (port, path, text, element) => {\n",
              "    if (!google.colab.kernel.accessAllowed) {\n",
              "      return;\n",
              "    }\n",
              "    element.appendChild(document.createTextNode(''));\n",
              "    const url = await google.colab.kernel.proxyPort(port);\n",
              "    const anchor = document.createElement('a');\n",
              "    anchor.href = new URL(path, url).toString();\n",
              "    anchor.target = '_blank';\n",
              "    anchor.setAttribute('data-href', url + path);\n",
              "    anchor.textContent = text;\n",
              "    element.appendChild(anchor);\n",
              "  })(8050, \"/\", \"http://127.0.0.1:8050/\", window.element)"
            ],
            "text/plain": [
              "<IPython.core.display.Javascript object>"
            ]
          },
          "metadata": {}
        }
      ]
    },
    {
      "cell_type": "markdown",
      "metadata": {
        "id": "ld9X3WiVLyeB"
      },
      "source": [
        "# 5. Dash - Datatables\n"
      ]
    },
    {
      "cell_type": "markdown",
      "metadata": {
        "id": "yfWU3RfV_uS5"
      },
      "source": [
        "✏️ **Ejercicio 10**: convertir df_filt a una lista de diccionarios para cada fila utilizando to_dict('records')"
      ]
    },
    {
      "cell_type": "code",
      "metadata": {
        "id": "ocHApAjY_uS5",
        "colab": {
          "base_uri": "https://localhost:8080/",
          "height": 50
        },
        "outputId": "7733da88-acfc-404c-c6c8-4a3884937ff7"
      },
      "source": [
        "app = JupyterDash()\n",
        "app.layout = html.Div( children = [\n",
        "             html.Div(html.H1(\"Mi primer Dash en python\")),\n",
        "             html.Div(html.P(\"Este Dash lo realizamos con plotly\")),\n",
        "             dcc.Dropdown(id = \"dropdown\", options= [{\"label\" : \"Europa\", \"value\" : \"Europe\"},\n",
        "                                                     {\"label\" : \"America\" , \"value\" : \"Americas\"}],\n",
        "                          value = [\"Americas\"],\n",
        "                          multi = True),\n",
        "             html.Br(),\n",
        "             html.Div(id = \"Continente\", children = \"Continente seleccionado:\"),\n",
        "             dcc.Graph(id = \"Grafico_1\", figure= figura_1)])\n",
        "\n",
        "@app.callback( \n",
        "   Output(component_id= \"Continente\" , component_property= \"children\"),\n",
        "   Input(component_id= \"dropdown\", component_property= \"value\"))\n",
        "\n",
        "def update_dropdown(select_value):\n",
        "  if len(select_value) == 1:\n",
        "    return \"Continente seleccionado:\" + select_value[0]\n",
        "  elif len(select_value) == 2:\n",
        "    return \"Continente seleccionado:\" + select_value[0] + \"y\" + select_value[1]\n",
        "  else:\n",
        "    return \"No hay valores seleccionados\"\n",
        "\n",
        "\n",
        "@app.callback(\n",
        "    Output(component_id= \"Grafico_1\", component_property= \"figure\"),\n",
        "    Input(component_id= \"dropdown\", component_property= \"value\"))\n",
        "\n",
        "def update_grafico(select_value):\n",
        "  if len(select_value) > 0:\n",
        "   figura_1 = px.scatter(data_frame= df_filt.loc[df_filt[\"continent\"].isin(select_value), :] , x= \"lifeExp\", y = \"gdpPercap\", color = \"pop\", \n",
        "                      size= \"pop\", \n",
        "                      size_max= 70,\n",
        "                      labels= { \"lifeExp\" : \"Esperanza de vida\", \"gdpPercap\" : \"PBI per capita\", \"pop\" : \"Población\"})\n",
        "  else: \n",
        "   figura_1 = px.scatter(data_frame= df_filt , x= \"lifeExp\", y = \"gdpPercap\", color = \"pop\", \n",
        "                      size= \"pop\", \n",
        "                      size_max= 70,\n",
        "                      labels= { \"lifeExp\" : \"Esperanza de vida\", \"gdpPercap\" : \"PBI per capita\", \"pop\" : \"Población\"})\n",
        "  return figura_1\n",
        "\n",
        "\n",
        "\n",
        "if __name__ == \"__main__\":\n",
        "  app.run_server(mode = \"external\")\n"
      ],
      "execution_count": 35,
      "outputs": [
        {
          "output_type": "stream",
          "name": "stdout",
          "text": [
            "Dash app running on:\n"
          ]
        },
        {
          "output_type": "display_data",
          "data": {
            "application/javascript": [
              "(async (port, path, text, element) => {\n",
              "    if (!google.colab.kernel.accessAllowed) {\n",
              "      return;\n",
              "    }\n",
              "    element.appendChild(document.createTextNode(''));\n",
              "    const url = await google.colab.kernel.proxyPort(port);\n",
              "    const anchor = document.createElement('a');\n",
              "    anchor.href = new URL(path, url).toString();\n",
              "    anchor.target = '_blank';\n",
              "    anchor.setAttribute('data-href', url + path);\n",
              "    anchor.textContent = text;\n",
              "    element.appendChild(anchor);\n",
              "  })(8050, \"/\", \"http://127.0.0.1:8050/\", window.element)"
            ],
            "text/plain": [
              "<IPython.core.display.Javascript object>"
            ]
          },
          "metadata": {}
        }
      ]
    },
    {
      "cell_type": "code",
      "metadata": {
        "id": "tIGFdRedH8Nj"
      },
      "source": [
        "data_table = df_filt.to_dict(\"records\")"
      ],
      "execution_count": 36,
      "outputs": []
    },
    {
      "cell_type": "code",
      "metadata": {
        "colab": {
          "base_uri": "https://localhost:8080/"
        },
        "id": "7hv_k-buICIS",
        "outputId": "08ae1da8-d59c-468a-84a8-ad1d1f3d307d"
      },
      "source": [
        "data_table[:2]"
      ],
      "execution_count": 37,
      "outputs": [
        {
          "output_type": "execute_result",
          "data": {
            "text/plain": [
              "[{'continent': 'Asia',\n",
              "  'country': 'Afghanistan',\n",
              "  'gdpPercap': 974.5803384,\n",
              "  'lifeExp': 43.828,\n",
              "  'pop': 31889923},\n",
              " {'continent': 'Europe',\n",
              "  'country': 'Albania',\n",
              "  'gdpPercap': 5937.0295259999975,\n",
              "  'lifeExp': 76.423,\n",
              "  'pop': 3600523}]"
            ]
          },
          "metadata": {},
          "execution_count": 37
        }
      ]
    },
    {
      "cell_type": "markdown",
      "metadata": {
        "id": "72G4CF0G_uS6"
      },
      "source": [
        "✏️ **Ejercicio 11**: Generar una lista de diccionarios con el siguiente formato: \n",
        "\n",
        "    [{'name': Nombre de la variable como queremos que aparezca , 'id': Nombre de la variable en el dataframe}]\n",
        "        "
      ]
    },
    {
      "cell_type": "code",
      "metadata": {
        "id": "x5mC9DuP_uS6",
        "colab": {
          "base_uri": "https://localhost:8080/"
        },
        "outputId": "8d824419-d195-4c90-9f05-cae1a5501499"
      },
      "source": [
        "[ {\"name\": i, \"id\" : i}  for i in df_filt.columns]"
      ],
      "execution_count": 38,
      "outputs": [
        {
          "output_type": "execute_result",
          "data": {
            "text/plain": [
              "[{'id': 'country', 'name': 'country'},\n",
              " {'id': 'continent', 'name': 'continent'},\n",
              " {'id': 'lifeExp', 'name': 'lifeExp'},\n",
              " {'id': 'gdpPercap', 'name': 'gdpPercap'},\n",
              " {'id': 'pop', 'name': 'pop'}]"
            ]
          },
          "metadata": {},
          "execution_count": 38
        }
      ]
    },
    {
      "cell_type": "markdown",
      "metadata": {
        "id": "T_y3JefD_uS7"
      },
      "source": [
        "✏️ **Ejercicio 12**: Generar un dash que incluya una dash_table.DataTable. Este datatable debe tener:\n",
        "* style_header={'backgroundColor': 'steelblue', 'color':'white'},\n",
        "* style_cell={'backgroundColor': 'ghostwhite','color': 'steelblue'},\n",
        "* filter_action='native', \n",
        "* page_current= 0,\n",
        "* page_size= 10,"
      ]
    },
    {
      "cell_type": "code",
      "metadata": {
        "id": "VsL7SYjTu7ob",
        "colab": {
          "base_uri": "https://localhost:8080/",
          "height": 50
        },
        "outputId": "4e3e81ae-5b5c-490d-ad58-05e46052fd5b"
      },
      "source": [
        "app = JupyterDash()\n",
        "app.layout = html.Div( children = [\n",
        "             html.Div(html.H1(\"Mi primer Dash en python\")),\n",
        "             html.Div(html.P(\"Este Dash lo realizamos con plotly\")),\n",
        "             dcc.Dropdown(id = \"dropdown\", options= [{\"label\" : \"Europa\", \"value\" : \"Europe\"},\n",
        "                                                     {\"label\" : \"America\" , \"value\" : \"Americas\"}],\n",
        "                          value = [\"Americas\"],\n",
        "                          multi = True),\n",
        "             html.Br(),\n",
        "             html.Div(id = \"Continente\", children = \"Continente seleccionado:\"),\n",
        "             dcc.Graph(id = \"Grafico_1\", figure= figura_1),\n",
        "             dash_table.DataTable(id= \"tabla\",\n",
        "                                  data = data_table,\n",
        "                                  columns = [{\"name\": i, \"id\" : i}  for i in df_filt.columns],\n",
        "                                  style_header = {'backgroundColor': 'steelblue', 'color':'white'},\n",
        "                                  style_cell = {'backgroundColor': 'ghostwhite','color': 'steelblue'},\n",
        "                                  filter_action = \"native\",\n",
        "                                  page_current = 0,\n",
        "                                  page_size = 10)])\n",
        "\n",
        "@app.callback( \n",
        "   Output(component_id= \"Continente\" , component_property= \"children\"),\n",
        "   Input(component_id= \"dropdown\", component_property= \"value\"))\n",
        "\n",
        "def update_dropdown(select_value):\n",
        "  if len(select_value) == 1:\n",
        "    return \"Continente seleccionado:\" + select_value[0]\n",
        "  elif len(select_value) == 2:\n",
        "    return \"Continente seleccionado:\" + select_value[0] + \"y\" + select_value[1]\n",
        "  else:\n",
        "    return \"No hay valores seleccionados\"\n",
        "\n",
        "\n",
        "@app.callback(\n",
        "    Output(component_id= \"Grafico_1\", component_property= \"figure\"),\n",
        "    Input(component_id= \"dropdown\", component_property= \"value\"))\n",
        "\n",
        "def update_grafico(select_value):\n",
        "  if len(select_value) > 0:\n",
        "   figura_1 = px.scatter(data_frame= df_filt.loc[df_filt[\"continent\"].isin(select_value), :] , x= \"lifeExp\", y = \"gdpPercap\", color = \"pop\", \n",
        "                      size= \"pop\", \n",
        "                      size_max= 70,\n",
        "                      labels= { \"lifeExp\" : \"Esperanza de vida\", \"gdpPercap\" : \"PBI per capita\", \"pop\" : \"Población\"})\n",
        "  else: \n",
        "   figura_1 = px.scatter(data_frame= df_filt , x= \"lifeExp\", y = \"gdpPercap\", color = \"pop\", \n",
        "                      size= \"pop\", \n",
        "                      size_max= 70,\n",
        "                      labels= { \"lifeExp\" : \"Esperanza de vida\", \"gdpPercap\" : \"PBI per capita\", \"pop\" : \"Población\"})\n",
        "  return figura_1\n",
        "\n",
        "\n",
        "\n",
        "if __name__ == \"__main__\":\n",
        "  app.run_server(mode = \"external\")"
      ],
      "execution_count": 40,
      "outputs": [
        {
          "output_type": "stream",
          "name": "stdout",
          "text": [
            "Dash app running on:\n"
          ]
        },
        {
          "output_type": "display_data",
          "data": {
            "application/javascript": [
              "(async (port, path, text, element) => {\n",
              "    if (!google.colab.kernel.accessAllowed) {\n",
              "      return;\n",
              "    }\n",
              "    element.appendChild(document.createTextNode(''));\n",
              "    const url = await google.colab.kernel.proxyPort(port);\n",
              "    const anchor = document.createElement('a');\n",
              "    anchor.href = new URL(path, url).toString();\n",
              "    anchor.target = '_blank';\n",
              "    anchor.setAttribute('data-href', url + path);\n",
              "    anchor.textContent = text;\n",
              "    element.appendChild(anchor);\n",
              "  })(8050, \"/\", \"http://127.0.0.1:8050/\", window.element)"
            ],
            "text/plain": [
              "<IPython.core.display.Javascript object>"
            ]
          },
          "metadata": {}
        }
      ]
    },
    {
      "cell_type": "markdown",
      "metadata": {
        "id": "t1-SqwHPv59q"
      },
      "source": [
        "✏️ **Ejercicio 13:**  Añadir una función callback que tome como Input el valor del dropdown y como Output la data de la tabla, de tal forma que al seleccionar el (o los) continentes la tabla también se modifique."
      ]
    },
    {
      "cell_type": "code",
      "metadata": {
        "id": "-VatpfIRvWoY"
      },
      "source": [
        " "
      ],
      "execution_count": null,
      "outputs": []
    }
  ]
}