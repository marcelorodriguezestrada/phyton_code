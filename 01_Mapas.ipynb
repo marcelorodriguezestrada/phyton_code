{
  "nbformat": 4,
  "nbformat_minor": 0,
  "metadata": {
    "colab": {
      "name": "01-Mapas.ipynb",
      "provenance": [],
      "collapsed_sections": []
    },
    "kernelspec": {
      "name": "python3",
      "display_name": "Python 3"
    }
  },
  "cells": [
    {
      "cell_type": "markdown",
      "metadata": {
        "id": "ab7kbPcBE04j"
      },
      "source": [
        " <img src=\"https://eant.tech/imagenes/logo.png\" width=25% height=80%  >"
      ]
    },
    {
      "cell_type": "markdown",
      "metadata": {
        "id": "OvEjXYlcE18-"
      },
      "source": [
        "## <img src=\"http://icons.iconarchive.com/icons/cornmanthe3rd/plex/256/Other-python-icon.png\" width=\"40\"> Ejercicio Terremotos 🌍🌊🌐🏔️"
      ]
    },
    {
      "cell_type": "markdown",
      "metadata": {
        "id": "FdDrvkfle9cT"
      },
      "source": [
        "<center>\n",
        "<img src=\"https://i.ibb.co/Z8DYxPV/ciudad-destruida-zona-guerra-107791-3703.jpg\" alt=\"ciudad-destruida-zona-guerra-107791-3703\" border=\"0\">\n",
        "\n",
        "> source image: [link](https://www.freepik.es/vector-gratis/ciudad-destruida-zona-guerra_10385769.htm#page=1&query=Terremoto&position=2)"
      ]
    },
    {
      "cell_type": "markdown",
      "metadata": {
        "id": "4ZhG_aannolO"
      },
      "source": [
        "🏷️ Importar las siguientes librerías de python\n",
        "\n",
        "* pandas [`pd`]\n",
        "* folium\n",
        "* numpy [`np`]\n",
        "* matplotlib.pyplot [`plt`]"
      ]
    },
    {
      "cell_type": "code",
      "metadata": {
        "id": "aTcc9FhWP3KF"
      },
      "source": [
        ""
      ],
      "execution_count": null,
      "outputs": []
    },
    {
      "cell_type": "markdown",
      "metadata": {
        "id": "GgsIy1eBoDeN"
      },
      "source": [
        "🏷️ Importar el dataframe denominado `terremotos` que se encuentra en la siguiente url\n"
      ]
    },
    {
      "cell_type": "code",
      "metadata": {
        "id": "YlRjk8N1oABz"
      },
      "source": [
        "url=\"https://raw.githubusercontent.com/cienciadedatos/datos-de-miercoles/master/datos/2019/2019-05-29/terremotos.csv\""
      ],
      "execution_count": null,
      "outputs": []
    },
    {
      "cell_type": "code",
      "metadata": {
        "id": "6oE2PP4zQBI3"
      },
      "source": [
        ""
      ],
      "execution_count": null,
      "outputs": []
    },
    {
      "cell_type": "markdown",
      "metadata": {
        "id": "CY3dshk4oMef"
      },
      "source": [
        "🏷️ Imprimir las primeras 5 observaciones"
      ]
    },
    {
      "cell_type": "code",
      "metadata": {
        "id": "WvMN8MR4QNrp"
      },
      "source": [
        ""
      ],
      "execution_count": null,
      "outputs": []
    },
    {
      "cell_type": "markdown",
      "metadata": {
        "id": "DBjPBAbLoTSc"
      },
      "source": [
        "🏷️ Imprimir la cantidad de filas y columnas que posee el dataframe"
      ]
    },
    {
      "cell_type": "code",
      "metadata": {
        "id": "FsvT9z_wQShT"
      },
      "source": [
        ""
      ],
      "execution_count": null,
      "outputs": []
    },
    {
      "cell_type": "markdown",
      "metadata": {
        "id": "mzeXQ7n0oYBY"
      },
      "source": [
        "🏷️ Calcular la media, cuartiles, máximo, mínimo y desviación de las columnas profundidad y magnitud."
      ]
    },
    {
      "cell_type": "code",
      "metadata": {
        "id": "mEz7-Ss1QWND"
      },
      "source": [
        ""
      ],
      "execution_count": null,
      "outputs": []
    },
    {
      "cell_type": "markdown",
      "metadata": {
        "id": "jX1xZKzDoj5K"
      },
      "source": [
        "🏷️ Valide si el dataframe posee columnas con valores nulos"
      ]
    },
    {
      "cell_type": "code",
      "metadata": {
        "id": "PE_g8sshQwMf"
      },
      "source": [
        ""
      ],
      "execution_count": null,
      "outputs": []
    },
    {
      "cell_type": "markdown",
      "metadata": {
        "id": "XsjYsOwLorT0"
      },
      "source": [
        "🏷️ Realizar una nueva variable denominada `hora_` que tenga el mismo valor que la variable `hora` en formato numérico"
      ]
    },
    {
      "cell_type": "code",
      "metadata": {
        "id": "q-ioK5WEQl7w"
      },
      "source": [
        ""
      ],
      "execution_count": null,
      "outputs": []
    },
    {
      "cell_type": "markdown",
      "metadata": {
        "id": "1vL-RfcapPwc"
      },
      "source": [
        "🏷️ ¿Cuáles son las horas que más terremotos se producen?"
      ]
    },
    {
      "cell_type": "code",
      "metadata": {
        "id": "ZFyy7fHGZiMR"
      },
      "source": [
        ""
      ],
      "execution_count": null,
      "outputs": []
    },
    {
      "cell_type": "markdown",
      "metadata": {
        "id": "zGyj7ZhOUzU4"
      },
      "source": [
        "🏷️ Agregar una columna teniendo en cuenta los momentos del día\n",
        "\n",
        "Momento | Intervalo\n",
        "----|----\n",
        " 'Madrugada'| de las   00 a las 06\n",
        " 'Mañana'   | de las   07 a las 12\n",
        " 'Tarde'    | de las 13  a las 19\n",
        " 'Noche'    | de las 20  a las 23"
      ]
    },
    {
      "cell_type": "code",
      "metadata": {
        "id": "HzxvswCRVWws"
      },
      "source": [
        ""
      ],
      "execution_count": null,
      "outputs": []
    },
    {
      "cell_type": "markdown",
      "metadata": {
        "id": "ndH9-0cVpefZ"
      },
      "source": [
        "🏷️ Ahora volver a calcular cual es el momento del día con más terremotos."
      ]
    },
    {
      "cell_type": "code",
      "metadata": {
        "id": "bzc9guT-Z4Wz"
      },
      "source": [
        ""
      ],
      "execution_count": null,
      "outputs": []
    },
    {
      "cell_type": "markdown",
      "metadata": {
        "id": "MEaI5hF-aR2l"
      },
      "source": [
        "🏷️ Agregar una variable que muestre las categorías de los terremotos, para lo cual tome como base la descripción que aparece a continuación\n",
        "\n",
        "> Para mas info: https://es.wikipedia.org/wiki/Escala_sismol%C3%B3gica_de_Richter\n",
        "\n",
        "\n",
        "Magnitud |\tDescripción\t| Efectos de un sismo\t| Frecuencia de ocurrencia\n",
        "---|---|---|---|\n",
        "Menos de 2,0 \t|Micro\t| Los microsismos no son perceptibles.|\tAlrededor de 8000 por día\n",
        "2,0-2,9 |\tMenor\t |Generalmente no son perceptibles.\t|Alrededor de 1000 por día\n",
        "3,0-3,9 | Menor |\tPerceptibles a menudo, pero rara vez provocan daños. |\t49 000 por año.\n",
        "4,0-4,9\t | Ligero\t| Movimiento de objetos en las habitaciones que genera ruido. <br> Sismo significativo pero con daño poco probable.\t| 6200 por año.\n",
        "5,0-5,9\t| Moderado\t| Puede causar daños mayores en edificaciones débiles o mal construidas. <br> En edificaciones bien diseñadas los daños son leves.\t| 800 por año.\n",
        "6,0-6,9\t| \tFuerte \t| \tPueden llegar a destruir áreas pobladas, en hasta unos 160 kilómetros a la redonda.\t| \t120 por año.\n",
        "7,0-7,9\t| \tMayor\t\t| Puede causar serios daños en extensas zonas.\t\t| 18 por año.\n",
        "8,0-8,9\t\t| Épico o Cataclismo\t| \tPuede causar graves daños en zonas de varios cientos de kilómetros.\t\t| 1-3 por año.\n",
        "9,0-9,9\t| Épico o Cataclismo\t| \tDevastadores en zonas de varios miles de kilómetros.\t| 1-2 en 20 años.\n",
        "10,0+\t\t| Legendario o apocalíptico\t\t| Nunca registrado. | Nunca ha sucedido un sismo de esta magnitud.\n",
        "\n"
      ]
    },
    {
      "cell_type": "code",
      "metadata": {
        "id": "uFA39oIGc279"
      },
      "source": [
        ""
      ],
      "execution_count": null,
      "outputs": []
    },
    {
      "cell_type": "markdown",
      "metadata": {
        "id": "ZQQgMQKsfHf2"
      },
      "source": [
        "🏷️ ¿Cuántos terremotos en base a las categorías ocurrieron?"
      ]
    },
    {
      "cell_type": "code",
      "metadata": {
        "id": "MyGD7kSqfcPA"
      },
      "source": [
        ""
      ],
      "execution_count": null,
      "outputs": []
    },
    {
      "cell_type": "code",
      "metadata": {
        "id": "YPg68-mKfHzK"
      },
      "source": [
        ""
      ],
      "execution_count": null,
      "outputs": []
    },
    {
      "cell_type": "markdown",
      "metadata": {
        "id": "gDQtpT1ap9cs"
      },
      "source": [
        "🏷️ Imprimir las observaciones que contienen en categoría la descripción \"Sin condiciones posibles\""
      ]
    },
    {
      "cell_type": "code",
      "metadata": {
        "id": "znPaaPStfgAK"
      },
      "source": [
        ""
      ],
      "execution_count": null,
      "outputs": []
    },
    {
      "cell_type": "markdown",
      "metadata": {
        "id": "Dt-5CaR3frUh"
      },
      "source": [
        "🏷️ Cómo podemos corregir los que se asignaron como **`Sin condiciones posibles`**?"
      ]
    },
    {
      "cell_type": "code",
      "metadata": {
        "id": "k4Xgivydfq9T"
      },
      "source": [
        ""
      ],
      "execution_count": null,
      "outputs": []
    },
    {
      "cell_type": "markdown",
      "metadata": {
        "id": "PmVUvvOuf-Kx"
      },
      "source": [
        "🏷️ Generar una base con los terremotos tiene valores magnitudes mayores a 6 a partir del 2016 en adelante"
      ]
    },
    {
      "cell_type": "code",
      "metadata": {
        "id": "fXD8O5WDf-c_"
      },
      "source": [
        ""
      ],
      "execution_count": null,
      "outputs": []
    },
    {
      "cell_type": "markdown",
      "metadata": {
        "id": "ErEmsgaWqaVA"
      },
      "source": [
        "🏷️ ¿Cuántas filas y columnas posee el nuevo dataframe?"
      ]
    },
    {
      "cell_type": "code",
      "metadata": {
        "id": "4Vvwp3TnoNGd"
      },
      "source": [
        ""
      ],
      "execution_count": null,
      "outputs": []
    },
    {
      "cell_type": "markdown",
      "metadata": {
        "id": "O_qhr4DsoRP-"
      },
      "source": [
        "9. Mapas\n",
        "\n",
        "<center>\n",
        "<img src=\"https://i.ibb.co/2Kh4z1y/Maps-banner.jpg\" alt=\"Maps-banner\" border=\"0\">\n",
        "\n",
        "> source image: [link](https://www.kawarthalakes.ca/en/things-to-do/maps.aspx)"
      ]
    },
    {
      "cell_type": "markdown",
      "metadata": {
        "id": "HvEm_xc8-5tP"
      },
      "source": [
        "🏷️ Generar un mapa que tenga como valor inicial las coordenadas del obelisco de Buenos Aires, las cuales son:\n",
        "* Longitud= -71.0833300\n",
        "* Latitud= -41.5500000"
      ]
    },
    {
      "cell_type": "code",
      "metadata": {
        "id": "urTKUB_roSkH"
      },
      "source": [
        ""
      ],
      "execution_count": null,
      "outputs": []
    },
    {
      "cell_type": "markdown",
      "metadata": {
        "id": "Dcba_vMRqtEX"
      },
      "source": [
        "🏷️ Modificar el mapa para visualizarlo con las siguientes opciones: \"OpenStreetMap\" y \"CartoDB Dark_Matter\""
      ]
    },
    {
      "cell_type": "code",
      "metadata": {
        "id": "BPwkTxa1q-IL"
      },
      "source": [
        ""
      ],
      "execution_count": null,
      "outputs": []
    },
    {
      "cell_type": "markdown",
      "metadata": {
        "id": "u84tKlIjpOno"
      },
      "source": [
        "🏷️  Permitir que las siguientes opciones \n",
        "* **Tiles**\n",
        "  - \"OpenStreetMap\"\n",
        "  - \"Stamen Terrain\" \n",
        "  - \"Stamen Toner\"\n",
        "  - \"Stamen Watercolor\"\n",
        "  - \"CartoDB Dark_Matter\"\n"
      ]
    },
    {
      "cell_type": "code",
      "metadata": {
        "id": "7YHue5qVqABH"
      },
      "source": [
        ""
      ],
      "execution_count": null,
      "outputs": []
    },
    {
      "cell_type": "markdown",
      "metadata": {
        "id": "ncrNzLZo7NJu"
      },
      "source": [
        "🏷️  Ubicar al obelisco de buenos aires en el mapa (lat=40.758896,long=-73.985130)"
      ]
    },
    {
      "cell_type": "code",
      "metadata": {
        "id": "J2Rll_tz5hVo"
      },
      "source": [
        ""
      ],
      "execution_count": null,
      "outputs": []
    },
    {
      "cell_type": "markdown",
      "metadata": {
        "id": "f3EFeSM47Ub5"
      },
      "source": [
        "🏷️  Agregar un popup al mapa con la denominación del lugar "
      ]
    },
    {
      "cell_type": "code",
      "metadata": {
        "id": "Li6G83Nz7Vpz"
      },
      "source": [
        ""
      ],
      "execution_count": null,
      "outputs": []
    },
    {
      "cell_type": "markdown",
      "metadata": {
        "id": "ZnNI0Equ7eWN"
      },
      "source": [
        "🏷️  Agregar un circulo en la adyacencia, el cual tenga:\n",
        "* radio: 50\n",
        "* fill: True\n",
        "* fill_color: blue"
      ]
    },
    {
      "cell_type": "code",
      "metadata": {
        "id": "2UUwf3ee7d0G"
      },
      "source": [
        ""
      ],
      "execution_count": null,
      "outputs": []
    },
    {
      "cell_type": "markdown",
      "metadata": {
        "id": "UmGROkPA8nsL"
      },
      "source": [
        "🏷️  Generar un objeto `minimap`"
      ]
    },
    {
      "cell_type": "code",
      "metadata": {
        "id": "fCJf5V6D86az"
      },
      "source": [
        "from folium.plugins import MiniMap"
      ],
      "execution_count": null,
      "outputs": []
    },
    {
      "cell_type": "code",
      "metadata": {
        "id": "8dvCCoZr8nQN"
      },
      "source": [
        ""
      ],
      "execution_count": null,
      "outputs": []
    },
    {
      "cell_type": "markdown",
      "metadata": {
        "id": "dP55eL4-lRJx"
      },
      "source": [
        "🏷️  Permitir que el minimap se pueda minimizar"
      ]
    },
    {
      "cell_type": "code",
      "metadata": {
        "id": "uXZm-c0R9Bsp"
      },
      "source": [
        ""
      ],
      "execution_count": null,
      "outputs": []
    },
    {
      "cell_type": "markdown",
      "metadata": {
        "id": "QhMDyYUilOug"
      },
      "source": [
        "🏷️  Cambiar el tipo de mosaico del minimap, el mismo debe ser 'Stamen Terrain'"
      ]
    },
    {
      "cell_type": "code",
      "metadata": {
        "id": "NUxzJuLakqEW"
      },
      "source": [
        ""
      ],
      "execution_count": null,
      "outputs": []
    },
    {
      "cell_type": "markdown",
      "metadata": {
        "id": "kYCH9fj2lNOY"
      },
      "source": [
        "🏷️  Cambiar la posición del minimap"
      ]
    },
    {
      "cell_type": "code",
      "metadata": {
        "id": "-7SQfi-5kzMP"
      },
      "source": [
        ""
      ],
      "execution_count": null,
      "outputs": []
    },
    {
      "cell_type": "markdown",
      "metadata": {
        "id": "Ikby1zmf_5Wx"
      },
      "source": [
        "### Mapas de terremotos 🌍🌊🌐🏔️"
      ]
    },
    {
      "cell_type": "markdown",
      "metadata": {
        "id": "v9htQo0uY7ud"
      },
      "source": [
        "🏷️  Para generar los marcadores donde se generaron los incidentes es necesario utilizar un ciclo `for` por lo cual debemos asegurar que no existan índices duplicados"
      ]
    },
    {
      "cell_type": "code",
      "metadata": {
        "id": "7bdNCY6dBXjw"
      },
      "source": [
        ""
      ],
      "execution_count": null,
      "outputs": []
    },
    {
      "cell_type": "markdown",
      "metadata": {
        "id": "1jHQf_ucZRZR"
      },
      "source": [
        "🏷️  Generar los marcadores para cada observación y agregarlos al mapa.\n",
        "Iniciar vista inicial del mapa en:\n",
        "* latitud:0\n",
        "* longitud:0\n",
        "* zoom: 4"
      ]
    },
    {
      "cell_type": "code",
      "metadata": {
        "id": "cOGHnONeBblz"
      },
      "source": [
        ""
      ],
      "execution_count": null,
      "outputs": []
    },
    {
      "cell_type": "markdown",
      "metadata": {
        "id": "AyhStnFzZZJx"
      },
      "source": [
        "🏷️  Generar un círculo para cada observación, y debe tener las siguientes características:\n",
        "* color: `rojo`\n",
        "* radio: debe ser igual al valor que tiene la variable magnitud.\n",
        "* fill: true\n",
        "* color: blue"
      ]
    },
    {
      "cell_type": "code",
      "metadata": {
        "id": "qaYT72LyCI33"
      },
      "source": [
        ""
      ],
      "execution_count": null,
      "outputs": []
    },
    {
      "cell_type": "markdown",
      "metadata": {
        "id": "I7uTEwAZaDhx"
      },
      "source": [
        "🏷️  Incrementar el radio multiplicando el valor de la variable magnitud por 5"
      ]
    },
    {
      "cell_type": "code",
      "metadata": {
        "id": "A1SolffrDOC1"
      },
      "source": [
        ""
      ],
      "execution_count": null,
      "outputs": []
    },
    {
      "cell_type": "markdown",
      "metadata": {
        "id": "Qnz9sd5fDe0B"
      },
      "source": [
        "🏷️  Vamos agregar un popup que tenga la profundidad del terremoto\n"
      ]
    },
    {
      "cell_type": "code",
      "metadata": {
        "id": "Yu1Fid6GDkSB"
      },
      "source": [
        ""
      ],
      "execution_count": null,
      "outputs": []
    },
    {
      "cell_type": "markdown",
      "metadata": {
        "id": "Yiw9unDxEOh0"
      },
      "source": [
        "🏷️  Modificar el popup para que tenga la profundidad del terremoto y la magnitud"
      ]
    },
    {
      "cell_type": "code",
      "metadata": {
        "id": "1Eek1cJXueIB"
      },
      "source": [
        ""
      ],
      "execution_count": null,
      "outputs": []
    },
    {
      "cell_type": "markdown",
      "metadata": {
        "id": "vFG7wIF1QMYu"
      },
      "source": [
        "🏷️  Modificar el icono de cada marker por `tag`, los mismos pueden ser seleccionado en:\n",
        "\n",
        "> https://getbootstrap.com/docs/3.3/components/"
      ]
    },
    {
      "cell_type": "code",
      "metadata": {
        "id": "tba2ac5LQ275"
      },
      "source": [
        ""
      ],
      "execution_count": null,
      "outputs": []
    },
    {
      "cell_type": "markdown",
      "metadata": {
        "id": "knquu_1lUsPl"
      },
      "source": [
        "🏷️  Modifiquemos el icono condicionalmente asignando:\n",
        "* Fuerte: `tag`, color: `purple`\n",
        "* Mayor: `cloud`, color: `blue`\n"
      ]
    },
    {
      "cell_type": "code",
      "metadata": {
        "id": "3xKNJ-mvVjix"
      },
      "source": [
        ""
      ],
      "execution_count": null,
      "outputs": []
    },
    {
      "cell_type": "markdown",
      "metadata": {
        "id": "UzfT5AA0Wb0_"
      },
      "source": [
        "🏷️  Generar cluster en el mapa"
      ]
    },
    {
      "cell_type": "code",
      "metadata": {
        "id": "UzUmOnXg7rcz"
      },
      "source": [
        "from folium.plugins import MarkerCluster"
      ],
      "execution_count": null,
      "outputs": []
    },
    {
      "cell_type": "code",
      "metadata": {
        "id": "TIky4qeEY0tP"
      },
      "source": [
        ""
      ],
      "execution_count": null,
      "outputs": []
    },
    {
      "cell_type": "markdown",
      "metadata": {
        "id": "ctUVR3iUnvb5"
      },
      "source": [
        "## <img src=\"http://icons.iconarchive.com/icons/cornmanthe3rd/plex/256/Other-python-icon.png\" width=\"40\"> Ejercicio Hospitales y Clínicas 🩺💉🏥"
      ]
    },
    {
      "cell_type": "markdown",
      "metadata": {
        "id": "Jc-GWprPuqUi"
      },
      "source": [
        "\n",
        "Generar un mapa de la ciudad de Buenos Aires, donde se muestren con diferentes iconos:\n",
        "* las clínicas privadas `[centros-de-salud-privados.csv]`\n",
        "* los hospitales `[hospitales.csv]`\n",
        "\n",
        "El mapa debe tener:\n",
        "* zoom=10, \n",
        "* latitud y longitud que sea el promedio de ambas variables del dataset.\n",
        "* Generar clusters para la visualización.\n"
      ]
    },
    {
      "cell_type": "code",
      "metadata": {
        "id": "X8IfDVUlup5b",
        "colab": {
          "base_uri": "https://localhost:8080/"
        },
        "outputId": "c6410c35-27a5-4612-f82a-eec723805c06"
      },
      "source": [
        "from google.colab import drive \n",
        "drive.mount('/content/gdrive')"
      ],
      "execution_count": null,
      "outputs": [
        {
          "output_type": "stream",
          "text": [
            "Mounted at /content/gdrive\n"
          ],
          "name": "stdout"
        }
      ]
    },
    {
      "cell_type": "code",
      "metadata": {
        "id": "xGZjCnfnrNqp"
      },
      "source": [
        ""
      ],
      "execution_count": null,
      "outputs": []
    }
  ]
}