{
  "nbformat": 4,
  "nbformat_minor": 0,
  "metadata": {
    "colab": {
      "name": "01_Funciones.ipynb",
      "provenance": [],
      "collapsed_sections": []
    },
    "kernelspec": {
      "name": "python3",
      "display_name": "Python 3"
    }
  },
  "cells": [
    {
      "cell_type": "markdown",
      "metadata": {
        "id": "vjEFDXTVkope"
      },
      "source": [
        "## <img src=\"http://icons.iconarchive.com/icons/cornmanthe3rd/plex/256/Other-python-icon.png\" width=\"40\"> Funciones en python: Saludos  👋"
      ]
    },
    {
      "cell_type": "markdown",
      "metadata": {
        "id": "TZEltNtwk1DI"
      },
      "source": [
        "🔹 Generar tres funciones que retorne los saludos en diferentes idiomas:\n",
        "\n",
        "Nombre de Función | Debe retonar...\n",
        "----|-----\n",
        "* saludo_es |➡️ \"Hola Mundo\"\n",
        "* saludos_fr |➡️ debe retornar \"Bonjour le monde\"\n",
        "* saludo_en |➡️ debe retonar \"hello world\""
      ]
    },
    {
      "cell_type": "code",
      "metadata": {
        "id": "z-K9-slooiTv"
      },
      "source": [
        "def saludo_es():\n",
        "  return (\"Hola mundo\") \n",
        "\n",
        "\n",
        "def saludos_fr():\n",
        "  return (\"Bonjour le monde\")\n",
        "\n",
        "\n",
        "def saludos_en():\n",
        "  return(\"Hello world\")\n",
        "\n",
        "\n"
      ],
      "execution_count": 6,
      "outputs": []
    },
    {
      "cell_type": "code",
      "metadata": {
        "colab": {
          "base_uri": "https://localhost:8080/",
          "height": 35
        },
        "id": "CrTmtPJQd3xX",
        "outputId": "6789abca-de07-40bd-d007-4ef3746a4616"
      },
      "source": [
        "saludos_en()"
      ],
      "execution_count": 9,
      "outputs": [
        {
          "output_type": "execute_result",
          "data": {
            "application/vnd.google.colaboratory.intrinsic+json": {
              "type": "string"
            },
            "text/plain": [
              "'Hello world'"
            ]
          },
          "metadata": {},
          "execution_count": 9
        }
      ]
    },
    {
      "cell_type": "markdown",
      "metadata": {
        "id": "QBlOXp_BlcBJ"
      },
      "source": [
        "🔹 Generar una función denominada `\"saludar\"` que retorne un string en mayuscula y al finalizar concatenar: `\"!!!\"`"
      ]
    },
    {
      "cell_type": "code",
      "metadata": {
        "id": "tEgl-J9jo7Gz"
      },
      "source": [
        "def saludar(saludo):\n",
        "  return saludo.upper() + \"!!!\""
      ],
      "execution_count": 10,
      "outputs": []
    },
    {
      "cell_type": "code",
      "metadata": {
        "colab": {
          "base_uri": "https://localhost:8080/",
          "height": 35
        },
        "id": "NYucwee7f7Hs",
        "outputId": "568796c5-bb74-4fa2-e0b6-99b8b1e36c78"
      },
      "source": [
        "saludar(saludo = \"Hola mundo\")"
      ],
      "execution_count": 12,
      "outputs": [
        {
          "output_type": "execute_result",
          "data": {
            "application/vnd.google.colaboratory.intrinsic+json": {
              "type": "string"
            },
            "text/plain": [
              "'HOLA MUNDO!!!'"
            ]
          },
          "metadata": {},
          "execution_count": 12
        }
      ]
    },
    {
      "cell_type": "code",
      "metadata": {
        "id": "QXC49JS4gOdp"
      },
      "source": [
        "def saludos(saludo, simbolo):\n",
        "  return saludo.upper() + simbolo"
      ],
      "execution_count": 15,
      "outputs": []
    },
    {
      "cell_type": "code",
      "metadata": {
        "colab": {
          "base_uri": "https://localhost:8080/",
          "height": 35
        },
        "id": "EPeMmDY-gpdB",
        "outputId": "cab66932-ae8d-4371-8498-cf22dc98882b"
      },
      "source": [
        "saludos(simbolo = \"!\", saludo = \"Hola mundo\")"
      ],
      "execution_count": 17,
      "outputs": [
        {
          "output_type": "execute_result",
          "data": {
            "application/vnd.google.colaboratory.intrinsic+json": {
              "type": "string"
            },
            "text/plain": [
              "'HOLA MUNDO!'"
            ]
          },
          "metadata": {},
          "execution_count": 17
        }
      ]
    },
    {
      "cell_type": "code",
      "metadata": {
        "id": "SGgTXBVXgpbe"
      },
      "source": [
        ""
      ],
      "execution_count": null,
      "outputs": []
    },
    {
      "cell_type": "markdown",
      "metadata": {
        "id": "OKLtAESiltzX"
      },
      "source": [
        "🔹 Retonar el string `HOLA MUNDO!!!`, utilizando las funciones anteriormente utilizadas"
      ]
    },
    {
      "cell_type": "code",
      "metadata": {
        "id": "q8GdkMeUpMUF",
        "colab": {
          "base_uri": "https://localhost:8080/",
          "height": 35
        },
        "outputId": "139d617a-3f1c-43a8-b934-aaac29ac7d1e"
      },
      "source": [
        "\n",
        "saludar(saludo_es())"
      ],
      "execution_count": 19,
      "outputs": [
        {
          "output_type": "execute_result",
          "data": {
            "application/vnd.google.colaboratory.intrinsic+json": {
              "type": "string"
            },
            "text/plain": [
              "'HOLA MUNDO!!!'"
            ]
          },
          "metadata": {},
          "execution_count": 19
        }
      ]
    },
    {
      "cell_type": "markdown",
      "metadata": {
        "id": "PT1xJKJGmWHA"
      },
      "source": [
        "🔹 Modificar la función saludar para que reciba parametro denominado `idioma` y en base al mismo invoque alguna de las funciones generados en los ejercicios anteriores.\n",
        "En el caso de no encontrar el idioma retonar `no se encuentra el idioma`"
      ]
    },
    {
      "cell_type": "code",
      "metadata": {
        "id": "re0Gw690Q0ov"
      },
      "source": [
        "def saludar_idioma(idioma):\n",
        "  \"Esta funcion retorna el saludo en tres idiomas: ingles (en), español (es) y frances (fr)\"\n",
        "  if idioma == \"es\":\n",
        "    resultado = saludo_es()\n",
        "  elif idioma == \"fr\":\n",
        "    resultado = saludos_fr()\n",
        "  elif idioma == \"en\":\n",
        "    resultado = saludos_en()\n",
        "  else:\n",
        "    resultado = \"No encuentro el idioma\"\n",
        "  return resultado"
      ],
      "execution_count": 24,
      "outputs": []
    },
    {
      "cell_type": "code",
      "metadata": {
        "colab": {
          "base_uri": "https://localhost:8080/",
          "height": 35
        },
        "id": "-UW3enN6i-_1",
        "outputId": "c973263a-21a3-4206-c654-4406434a732d"
      },
      "source": [
        "saludar_idioma(\"fr\")"
      ],
      "execution_count": 25,
      "outputs": [
        {
          "output_type": "execute_result",
          "data": {
            "application/vnd.google.colaboratory.intrinsic+json": {
              "type": "string"
            },
            "text/plain": [
              "'Bonjour le monde'"
            ]
          },
          "metadata": {},
          "execution_count": 25
        }
      ]
    },
    {
      "cell_type": "markdown",
      "metadata": {
        "id": "nl8PSv6Am3mQ"
      },
      "source": [
        "🔹 Modificar la función saludar para que ademas concatene `!!!` y retorne los valores en mayuscuslas."
      ]
    },
    {
      "cell_type": "code",
      "metadata": {
        "id": "k58zgZK5qNb8"
      },
      "source": [
        "def saludar_idioma(idioma):\n",
        "  \"Esta funcion retorna el saludo en tres idiomas: ingles (en), español (es) y frances (fr)\"\n",
        "  if idioma == \"es\":\n",
        "    resultado = saludo_es()\n",
        "  elif idioma == \"fr\":\n",
        "    resultado = saludos_fr()\n",
        "  elif idioma == \"en\":\n",
        "    resultado = saludos_en()\n",
        "  else:\n",
        "    resultado = \"No encuentro el idioma\"\n",
        "  return resultado.upper() + \"!!!\""
      ],
      "execution_count": 26,
      "outputs": []
    },
    {
      "cell_type": "code",
      "metadata": {
        "id": "tDATvOtsqHQG",
        "colab": {
          "base_uri": "https://localhost:8080/",
          "height": 35
        },
        "outputId": "36eba13a-81bc-4c00-f1af-2808c711836e"
      },
      "source": [
        "saludar_idioma(\"en\")"
      ],
      "execution_count": 27,
      "outputs": [
        {
          "output_type": "execute_result",
          "data": {
            "application/vnd.google.colaboratory.intrinsic+json": {
              "type": "string"
            },
            "text/plain": [
              "'HELLO WORLD!!!'"
            ]
          },
          "metadata": {},
          "execution_count": 27
        }
      ]
    },
    {
      "cell_type": "markdown",
      "metadata": {
        "id": "dd99qtW9nr1w"
      },
      "source": [
        "## <img src=\"http://icons.iconarchive.com/icons/cornmanthe3rd/plex/256/Other-python-icon.png\" width=\"40\"> Funciones en python: Propinas 💲💰💳"
      ]
    },
    {
      "cell_type": "markdown",
      "metadata": {
        "id": "hOrQzWK5o84X"
      },
      "source": [
        "🔹 Generar una función denominada `propina` en la cual reciba un valor y calcule el 10% en concepto de propina"
      ]
    },
    {
      "cell_type": "code",
      "metadata": {
        "id": "VvggxB25uVkV"
      },
      "source": [
        "def calculo_propina(valor):\n",
        "  propina = valor*10/100\n",
        "  return propina"
      ],
      "execution_count": 28,
      "outputs": []
    },
    {
      "cell_type": "code",
      "metadata": {
        "colab": {
          "base_uri": "https://localhost:8080/"
        },
        "id": "4bqE5ehYlM3z",
        "outputId": "61a3ce39-70db-49f0-c1b5-2ae97808fdf3"
      },
      "source": [
        "calculo_propina(120)"
      ],
      "execution_count": 29,
      "outputs": [
        {
          "output_type": "execute_result",
          "data": {
            "text/plain": [
              "12.0"
            ]
          },
          "metadata": {},
          "execution_count": 29
        }
      ]
    },
    {
      "cell_type": "markdown",
      "metadata": {
        "id": "sPraf0PSpdGd"
      },
      "source": [
        "🔹 Modificar la función `propina` la cual tenga como parametros el `total del ticket` y la `propina`"
      ]
    },
    {
      "cell_type": "code",
      "metadata": {
        "id": "YWO0E3mSuV74"
      },
      "source": [
        "def calculo_propina(valor, prop):\n",
        "  propina = valor*prop/100\n",
        "  return propina"
      ],
      "execution_count": 30,
      "outputs": []
    },
    {
      "cell_type": "code",
      "metadata": {
        "colab": {
          "base_uri": "https://localhost:8080/"
        },
        "id": "HjPBcqqWlrWo",
        "outputId": "9a084aa4-5d7b-4a4d-cd91-0725b324f3d5"
      },
      "source": [
        "calculo_propina(172,10)"
      ],
      "execution_count": 31,
      "outputs": [
        {
          "output_type": "execute_result",
          "data": {
            "text/plain": [
              "17.2"
            ]
          },
          "metadata": {},
          "execution_count": 31
        }
      ]
    },
    {
      "cell_type": "code",
      "metadata": {
        "id": "ivH8GzNQlwL6"
      },
      "source": [
        "def calculo_propina(valor, prop= 10):\n",
        "  propina = valor*prop/100\n",
        "  return propina"
      ],
      "execution_count": 32,
      "outputs": []
    },
    {
      "cell_type": "code",
      "metadata": {
        "colab": {
          "base_uri": "https://localhost:8080/"
        },
        "id": "n8SaYsaHl9sC",
        "outputId": "94920104-5662-4025-e1b5-65047fc198f0"
      },
      "source": [
        "calculo_propina(180, prop = 15)"
      ],
      "execution_count": 34,
      "outputs": [
        {
          "output_type": "execute_result",
          "data": {
            "text/plain": [
              "27.0"
            ]
          },
          "metadata": {},
          "execution_count": 34
        }
      ]
    },
    {
      "cell_type": "markdown",
      "metadata": {
        "id": "N6gGx1tLpxCm"
      },
      "source": [
        "🔹 Generar la función `propina_lista` la cual tenga como parametros el `total del ticket` y una lista `propina`"
      ]
    },
    {
      "cell_type": "code",
      "metadata": {
        "id": "rAefx3OwuVYU"
      },
      "source": [
        "def propina_lista(valor, prop):\n",
        "  resultados = []\n",
        "  for i in prop:\n",
        "    propina = valor*i/100\n",
        "    resultados.append(propina)\n",
        "  return resultados"
      ],
      "execution_count": 50,
      "outputs": []
    },
    {
      "cell_type": "code",
      "metadata": {
        "id": "mbnSNabAnxQh"
      },
      "source": [
        "def propina_lista(total_ticket, propinas):\n",
        "  return [calculo_propina(total_ticket, propina) for propina in propinas]\n"
      ],
      "execution_count": 49,
      "outputs": []
    },
    {
      "cell_type": "code",
      "metadata": {
        "colab": {
          "base_uri": "https://localhost:8080/"
        },
        "id": "b4wT0m7wnUrA",
        "outputId": "0f9192a2-f767-4410-b446-07398cf353a6"
      },
      "source": [
        "calculo_propina(360, [30,50])"
      ],
      "execution_count": 44,
      "outputs": [
        {
          "output_type": "execute_result",
          "data": {
            "text/plain": [
              "[108.0, 180.0]"
            ]
          },
          "metadata": {},
          "execution_count": 44
        }
      ]
    },
    {
      "cell_type": "code",
      "metadata": {
        "id": "ycZ65khcofSe"
      },
      "source": [
        "def calculo_propina(valor, prop = [10,15,20]):\n",
        "  resultados = [valor*i/100 for i in prop]\n",
        "  return resultados"
      ],
      "execution_count": 53,
      "outputs": []
    },
    {
      "cell_type": "markdown",
      "metadata": {
        "id": "81dD9yrAskaX"
      },
      "source": [
        "🔹 Ahora tenemos una serie de tickets y necesitamos aplicar a cada uno de ellos la función aplicada en el paso anterior."
      ]
    },
    {
      "cell_type": "code",
      "metadata": {
        "id": "ZfRWqUcExtX9"
      },
      "source": [
        "tickets=[200,4000,5000,6000,4000]"
      ],
      "execution_count": 45,
      "outputs": []
    },
    {
      "cell_type": "code",
      "metadata": {
        "id": "yyjU8cWHttfv",
        "colab": {
          "base_uri": "https://localhost:8080/"
        },
        "outputId": "fead48a2-113a-46cf-8f77-cc1f589609dc"
      },
      "source": [
        "[calculo_propina(i) for i in tickets]"
      ],
      "execution_count": 48,
      "outputs": [
        {
          "output_type": "execute_result",
          "data": {
            "text/plain": [
              "[[20.0, 30.0, 40.0],\n",
              " [400.0, 600.0, 800.0],\n",
              " [500.0, 750.0, 1000.0],\n",
              " [600.0, 900.0, 1200.0],\n",
              " [400.0, 600.0, 800.0]]"
            ]
          },
          "metadata": {},
          "execution_count": 48
        }
      ]
    },
    {
      "cell_type": "markdown",
      "metadata": {
        "id": "kbLZw_qHwCNR"
      },
      "source": [
        "#### Función map(fun,iter)\n",
        "La función **map** permite aplicar una función sobre todos los elementos y como resultado retorna un objeto iterable de tipo map\n",
        "<center>\n",
        "<img src=\"https://i.ibb.co/QXv25jM/Captura-de-Pantalla-2020-10-25-a-la-s-18-52-00.png\" border=\"0\" width=\"30%\"> \n",
        "</center>"
      ]
    },
    {
      "cell_type": "markdown",
      "metadata": {
        "id": "WrhroLRpo6MH"
      },
      "source": [
        "🔹 Aplicar la función `propina_lista` a la lista denominada `tickets`"
      ]
    },
    {
      "cell_type": "code",
      "metadata": {
        "id": "bdtJrxQvtsEU",
        "colab": {
          "base_uri": "https://localhost:8080/"
        },
        "outputId": "5432a1a6-4ae6-490d-a88c-1bbb5d9fd5f4"
      },
      "source": [
        "list(map(calculo_propina, tickets))"
      ],
      "execution_count": 56,
      "outputs": [
        {
          "output_type": "execute_result",
          "data": {
            "text/plain": [
              "[[20.0, 30.0, 40.0],\n",
              " [400.0, 600.0, 800.0],\n",
              " [500.0, 750.0, 1000.0],\n",
              " [600.0, 900.0, 1200.0],\n",
              " [400.0, 600.0, 800.0]]"
            ]
          },
          "metadata": {},
          "execution_count": 56
        }
      ]
    },
    {
      "cell_type": "markdown",
      "metadata": {
        "id": "mDA6OfKu6uqj"
      },
      "source": [
        "### Funciones lambda"
      ]
    },
    {
      "cell_type": "markdown",
      "metadata": {
        "id": "eT9Twg8hpLhH"
      },
      "source": [
        "🔹 Generar a partir de la función `propina_unica` una función lambda\n",
        "\n",
        "~~~~\n",
        "def propina_unica(ticket_total):\n",
        "  resultado=(ticket_total*10/100)\n",
        "  return resultado\n",
        "~~~~"
      ]
    },
    {
      "cell_type": "code",
      "metadata": {
        "id": "41r23xUy6J8v"
      },
      "source": [
        ""
      ],
      "execution_count": null,
      "outputs": []
    },
    {
      "cell_type": "code",
      "metadata": {
        "id": "E-9dY2Vg69KL"
      },
      "source": [
        ""
      ],
      "execution_count": null,
      "outputs": []
    },
    {
      "cell_type": "markdown",
      "metadata": {
        "id": "cV41TzC2w5DG"
      },
      "source": [
        "#### Función filter(fun,iter)\n",
        "La función **filter** permite aplicar una función sobre todos los elementos y como resultado retorna un objeto iterable los valores que sean verdaderos.\n",
        "\n",
        "<center>\n",
        "<img src=\"https://i.ibb.co/jk4GdbQ/Captura-de-Pantalla-2020-10-25-a-la-s-19-02-48.png\" alt=\"Captura-de-Pantalla-2020-10-25-a-la-s-19-02-48\" border=\"0\" width=\"30%\"> \n",
        "</center>\n",
        "\n"
      ]
    },
    {
      "cell_type": "markdown",
      "metadata": {
        "id": "UYiNlgYZqH_v"
      },
      "source": [
        "🔹 Utilizar una función filter para aplicar una función lambda en la cual retorne los tickets que superan el promedio de la siguiente lista:\n",
        "~~~\n",
        "tickets=[200,4000,5000,6000,4000]\n",
        "~~~"
      ]
    },
    {
      "cell_type": "code",
      "metadata": {
        "id": "PR1InunI6Boj"
      },
      "source": [
        "tickets=[200,4000,5000,6000,4000]"
      ],
      "execution_count": null,
      "outputs": []
    },
    {
      "cell_type": "markdown",
      "metadata": {
        "id": "mGwHNc68B9B2"
      },
      "source": [
        "## <img src=\"http://icons.iconarchive.com/icons/cornmanthe3rd/plex/256/Other-python-icon.png\" width=\"40\"> Funciones en python: Temperatura 🌡️🌤️🌦️"
      ]
    },
    {
      "cell_type": "markdown",
      "metadata": {
        "id": "Pl8PowX31UpH"
      },
      "source": [
        "🏷️ 1. Generar una lista con las siguientes temperaturas: 10, 22.5, 40, 33, 20 y  50"
      ]
    },
    {
      "cell_type": "code",
      "metadata": {
        "id": "Z0ufDBQz15Hn"
      },
      "source": [
        ""
      ],
      "execution_count": null,
      "outputs": []
    },
    {
      "cell_type": "markdown",
      "metadata": {
        "id": "JI59SVVs19zL"
      },
      "source": [
        "🏷️ 2. Generar una función lambda para pasar la temperatura de grados celsius a fahrenheit, en base a la siguiente formula:\n",
        "\n",
        "$$ Fahrenheit= (ºC*9/5)+32$$\n",
        "\n"
      ]
    },
    {
      "cell_type": "code",
      "metadata": {
        "id": "JQLEnS47B8So"
      },
      "source": [
        "\n"
      ],
      "execution_count": null,
      "outputs": []
    },
    {
      "cell_type": "markdown",
      "metadata": {
        "id": "hkBGI7X231r2"
      },
      "source": [
        "🏷️ 3. Imprimir las temperaturas superiores al promedio, utilizar **filter**"
      ]
    },
    {
      "cell_type": "code",
      "metadata": {
        "id": "-Kd3SxCSC7pn"
      },
      "source": [
        ""
      ],
      "execution_count": null,
      "outputs": []
    }
  ]
}