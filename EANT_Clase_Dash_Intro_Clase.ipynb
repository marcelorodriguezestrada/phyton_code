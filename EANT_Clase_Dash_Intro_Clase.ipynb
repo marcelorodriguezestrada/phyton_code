{
  "nbformat": 4,
  "nbformat_minor": 0,
  "metadata": {
    "kernelspec": {
      "display_name": "Python 3",
      "language": "python",
      "name": "python3"
    },
    "colab": {
      "name": "EANT-Clase-Dash-Intro-Clase.ipynb",
      "provenance": [],
      "collapsed_sections": []
    }
  },
  "cells": [
    {
      "cell_type": "markdown",
      "metadata": {
        "id": "TlesOSCCdyWc"
      },
      "source": [
        " <img src=\"https://eant.tech/imagenes/logo.png\" width=25% height=80%  >"
      ]
    },
    {
      "cell_type": "markdown",
      "metadata": {
        "id": "muGaAj5qLyck"
      },
      "source": [
        "### <img src=\"http://icons.iconarchive.com/icons/cornmanthe3rd/plex/256/Other-python-icon.png\" width=\"40\"> Dashboards en python 📊\n",
        "\n",
        "En la clase de hoy vamos a utilizar dash para crear dashboards en python. Para utilizar [dash](https://plotly.com/dash/), existe una versión adaptada para utilizar en jupyter (JupyterDash) que es la que estaremos utilizando  en la clase. \n",
        "\n",
        "<center>\n",
        "\n",
        "![](https://tylertech.plotly.com/assets/plotly-dash-logo.png)\n",
        "\n",
        "</center>"
      ]
    },
    {
      "cell_type": "markdown",
      "metadata": {
        "id": "24pXxi2wLycl"
      },
      "source": [
        "## Librerías"
      ]
    },
    {
      "cell_type": "code",
      "metadata": {
        "id": "q2YzNJPrLycm"
      },
      "source": [
        "# Instalación\n",
        "#!pip install jupyter-dash\n",
        "#!pip install dash\n",
        "#!pip install dash_core_components\n",
        "#!pip install dash_html_components\n",
        "#!pip install dash_table"
      ],
      "execution_count": null,
      "outputs": []
    },
    {
      "cell_type": "code",
      "metadata": {
        "id": "5IoPfeL4Lycr"
      },
      "source": [
        "import pandas as pd\n",
        "import numpy as np\n",
        "\n",
        "# import dash\n",
        "from jupyter_dash import JupyterDash\n",
        "import dash_core_components as dcc\n",
        "import dash_html_components as html\n",
        "from dash.dependencies import Input,Output,State\n",
        "import dash_table\n",
        "\n",
        "import plotly.express as px"
      ],
      "execution_count": null,
      "outputs": []
    },
    {
      "cell_type": "code",
      "metadata": {
        "id": "wGQgHKKm_uSr"
      },
      "source": [
        "# Ports disponibles localmente: 8124,8125,8126, 8050\n",
        "# app._terminate_server_for_port(\"localhost\", 8124)"
      ],
      "execution_count": null,
      "outputs": []
    },
    {
      "cell_type": "markdown",
      "metadata": {
        "id": "CNI_qL6HLydJ"
      },
      "source": [
        "# 2. Dash - Estructura básica\n",
        "Arrancamos creando el dash más simple:\n",
        "\n",
        "✏️ **Ejercicio  1**: Construir un dash que incluya un componente html.P que diga 'Hola mundo!'"
      ]
    },
    {
      "cell_type": "code",
      "metadata": {
        "id": "NqbxXIesLydT"
      },
      "source": [
        ""
      ],
      "execution_count": null,
      "outputs": []
    },
    {
      "cell_type": "markdown",
      "metadata": {
        "id": "dxE80DHF_uSu"
      },
      "source": [
        "Siempre al ejecutar un chunk de dash nos va a aparecer un puerto en donde el dash se está ejecutando localmente. Para disponibilizar el dash fuera de nuestra computadora local debemos hostearlo en algún lado, luego hablaremos de eso. \n"
      ]
    },
    {
      "cell_type": "markdown",
      "metadata": {
        "id": "Tn3M5929ncnr"
      },
      "source": [
        "✏️ **Ejercicio 2** Añadir distintos componentes html para ver cómo se ven en el dash: H1, H2, H3, H4, H5, H6, P"
      ]
    },
    {
      "cell_type": "code",
      "metadata": {
        "id": "IwdFy9XJnbI5"
      },
      "source": [
        " "
      ],
      "execution_count": null,
      "outputs": []
    },
    {
      "cell_type": "markdown",
      "metadata": {
        "id": "qUJJghvepgJa"
      },
      "source": [
        "✏️ **Ejercicio 3**: Añadir divs adentro de divs para generar una estructura más organizadas. \n",
        "* Primer div: título del dashboard\n",
        "* Segundo div: Descripción del dashboard\n",
        "* Tercer div: html.Iframe, que nos permite incluir un video de youtube dentro de nuestro dashboard (utilizando el parámetro src=url del video)\n",
        "   * **URL:** https://www.youtube.com/embed/BxV14h0kFs0"
      ]
    },
    {
      "cell_type": "code",
      "metadata": {
        "id": "jKZo4qKZofNB"
      },
      "source": [
        ""
      ],
      "execution_count": null,
      "outputs": []
    },
    {
      "cell_type": "markdown",
      "metadata": {
        "id": "6zg84Y-NLydW"
      },
      "source": [
        "# 3. Dash - dash core componets - Gráficos\n"
      ]
    },
    {
      "cell_type": "markdown",
      "metadata": {
        "id": "KXtYbW83_uSw"
      },
      "source": [
        "✏️ **Ejercicio 4**: Generar una app que incluya un componente dcc.Graph, definiendo el id de este componente como 'grafico_1' y la figure=figura_1.\n",
        "\n",
        "✏️ **4.1** Para lo cual es necesario generar un dataframe denominado **df_filt** que tenga los datos del año 2007 y las columnas 'country','continent','lifeExp', 'gdpPercap', 'pop'.\n",
        "\n",
        "✏️ **4.2** Posteriormente generar un scatterplot donde:\n",
        "* x=\"lifeExp\", \n",
        "* y=\"gdpPercap\", \n",
        "* color='pop',\n",
        "* size='pop',\n",
        "* labels: \n",
        "  * 'lifeExp':'Exp de vida', \n",
        "  * 'gdpPercap':'Pbi per cápita', \n",
        "  * 'pop':'Población'\n",
        "\n"
      ]
    },
    {
      "cell_type": "code",
      "metadata": {
        "id": "296ek6IFRvWP"
      },
      "source": [
        ""
      ],
      "execution_count": null,
      "outputs": []
    },
    {
      "cell_type": "code",
      "metadata": {
        "id": "mg6ZQKHtqhJ9"
      },
      "source": [
        ""
      ],
      "execution_count": null,
      "outputs": []
    },
    {
      "cell_type": "code",
      "metadata": {
        "id": "7naYtomgLydW"
      },
      "source": [
        ""
      ],
      "execution_count": null,
      "outputs": []
    },
    {
      "cell_type": "markdown",
      "metadata": {
        "id": "oNf5VSjDLydp"
      },
      "source": [
        "# 4. Dash - dash core componets - Botones\n"
      ]
    },
    {
      "cell_type": "markdown",
      "metadata": {
        "id": "qF2qitczuCMu"
      },
      "source": [
        "## Dropdown"
      ]
    },
    {
      "cell_type": "markdown",
      "metadata": {
        "id": "ra026Qo9_uSz"
      },
      "source": [
        "✏️ **Ejercicio 5**: Generar un Dropdown que permita seleccionar entre dos alternativas: Americas o Europe. Americas y Europe son los valores mientras que los labels deben ser América y Europa. "
      ]
    },
    {
      "cell_type": "code",
      "metadata": {
        "id": "EYWznSCCskN7"
      },
      "source": [
        ""
      ],
      "execution_count": null,
      "outputs": []
    },
    {
      "cell_type": "markdown",
      "metadata": {
        "id": "3a-tR-tvuI4z"
      },
      "source": [
        "## Radio items"
      ]
    },
    {
      "cell_type": "markdown",
      "metadata": {
        "id": "t7EKDHUH_uS0"
      },
      "source": [
        "✏️ **Ejercicio 6**: Generar un RadioItems que permita seleccionar entre dos alternativas: Americas o Europe. Americas y Europe son los valores mientras que los labels deben ser América y Europa."
      ]
    },
    {
      "cell_type": "code",
      "metadata": {
        "id": "aVhOXGuasktn"
      },
      "source": [
        ""
      ],
      "execution_count": null,
      "outputs": []
    },
    {
      "cell_type": "markdown",
      "metadata": {
        "id": "aL5N89UzwjOX"
      },
      "source": [
        "# 5. Dash - Callbacks \n",
        "\n",
        "Qué ocurre al tocar los botones que generamos en el punto anterior: \n"
      ]
    },
    {
      "cell_type": "markdown",
      "metadata": {
        "id": "i5dmaUfo_uS2"
      },
      "source": [
        "✏️ **Ejercicio 7**: En el dash del punto 12, generar una función callback que ante el Input (selección del valor del dropdown), genere un Output (cambie el texto de children en el html.Div). "
      ]
    },
    {
      "cell_type": "code",
      "metadata": {
        "id": "2rZn2H6L2OUY"
      },
      "source": [
        ""
      ],
      "execution_count": null,
      "outputs": []
    },
    {
      "cell_type": "markdown",
      "metadata": {
        "id": "RSzFPghZSXTb"
      },
      "source": [
        "✏️ **Ejercicio 8:** En el dash del punto anterior modificar para tener un dropdown multiple, que su valor inicial sea Americas.\n",
        "Asimismo cuando seleciona un pais que retorne los valores seleccionados y cambie el texto de children en el html.Div"
      ]
    },
    {
      "cell_type": "code",
      "metadata": {
        "id": "M04MtagdpxeG"
      },
      "source": [
        ""
      ],
      "execution_count": null,
      "outputs": []
    },
    {
      "cell_type": "markdown",
      "metadata": {
        "id": "Ht5VhWBarKHX"
      },
      "source": [
        "✏️ **Ejercicio 9:** En el dash del punto anterior modificar que el dropdown tabmien modifique el grafico en base al valor seleccionado."
      ]
    },
    {
      "cell_type": "code",
      "metadata": {
        "id": "jSyuAcAeRHdc"
      },
      "source": [
        ""
      ],
      "execution_count": null,
      "outputs": []
    },
    {
      "cell_type": "markdown",
      "metadata": {
        "id": "ld9X3WiVLyeB"
      },
      "source": [
        "# 5. Dash - Datatables\n"
      ]
    },
    {
      "cell_type": "markdown",
      "metadata": {
        "id": "yfWU3RfV_uS5"
      },
      "source": [
        "✏️ **Ejercicio 10**: convertir df_filt a una lista de diccionarios para cada fila utilizando to_dict('records')"
      ]
    },
    {
      "cell_type": "code",
      "metadata": {
        "id": "ocHApAjY_uS5"
      },
      "source": [
        ""
      ],
      "execution_count": null,
      "outputs": []
    },
    {
      "cell_type": "markdown",
      "metadata": {
        "id": "72G4CF0G_uS6"
      },
      "source": [
        "✏️ **Ejercicio 11**: Generar una lista de diccionarios con el siguiente formato: \n",
        "\n",
        "    [{'name': Nombre de la variable como queremos que aparezca , 'id': Nombre de la variable en el dataframe}]\n",
        "        "
      ]
    },
    {
      "cell_type": "code",
      "metadata": {
        "id": "x5mC9DuP_uS6"
      },
      "source": [
        ""
      ],
      "execution_count": null,
      "outputs": []
    },
    {
      "cell_type": "markdown",
      "metadata": {
        "id": "T_y3JefD_uS7"
      },
      "source": [
        "✏️ **Ejercicio 12**: Generar un dash que incluya una dash_table.DataTable. Este datatable debe tener:\n",
        "* style_header={'backgroundColor': 'steelblue', 'color':'white'},\n",
        "* style_cell={'backgroundColor': 'ghostwhite','color': 'steelblue'},\n",
        "* filter_action='native', \n",
        "* page_current= 0,\n",
        "* page_size= 10,"
      ]
    },
    {
      "cell_type": "code",
      "metadata": {
        "id": "VsL7SYjTu7ob"
      },
      "source": [
        ""
      ],
      "execution_count": null,
      "outputs": []
    },
    {
      "cell_type": "markdown",
      "metadata": {
        "id": "t1-SqwHPv59q"
      },
      "source": [
        "✏️ **Ejercicio 13:**  Añadir una función callback que tome como Input el valor del dropdown y como Output la data de la tabla, de tal forma que al seleccionar el (o los) continentes la tabla también se modifique."
      ]
    },
    {
      "cell_type": "code",
      "metadata": {
        "id": "-VatpfIRvWoY"
      },
      "source": [
        " "
      ],
      "execution_count": null,
      "outputs": []
    }
  ]
}