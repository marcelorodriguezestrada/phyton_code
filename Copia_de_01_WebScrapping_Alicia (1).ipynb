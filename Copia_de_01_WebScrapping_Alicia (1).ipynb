{
  "nbformat": 4,
  "nbformat_minor": 0,
  "metadata": {
    "colab": {
      "name": "Copia de 01-WebScrapping-Alicia.ipynb",
      "provenance": [],
      "collapsed_sections": []
    },
    "kernelspec": {
      "name": "python3",
      "display_name": "Python 3"
    }
  },
  "cells": [
    {
      "cell_type": "markdown",
      "metadata": {
        "id": "N_UWvZY4THin"
      },
      "source": [
        "## <img src=\"http://icons.iconarchive.com/icons/cornmanthe3rd/plex/256/Other-python-icon.png\" width=\"40\"> Ejercicio Alicia en el país de las maravillas 🃏♥️🐰👧🏼\n",
        "\n",
        "<center>\n",
        "<img src=\"https://i.blogs.es/ef9728/alicia-en-el-pais-de-las-maravillas-cartel/1366_2000.jpg\" alt=\"alicia\" border=\"1\">\n",
        "\n",
        "Source Image:[link](https://i.blogs.es/ef9728/alicia-en-el-pais-de-las-maravillas-cartel/1366_2000.jpg)\n",
        "</center>\n",
        "<br>\n",
        "\n",
        "----\n",
        "<br>\n",
        "\n",
        "En este ejercicio vamos a utilizar la página web denominada \"Alicia.html\", la cual contiene información sobre **\"Alicia en el país de las maravillas\"**. Este cuento clásico tiene 155 años de antigüedad, ya que el mismo fue publicado el 26 de noviembre de 1865 por Lewis Carroll. Aunque ese nombre era un seudónimo y verdadero nombre era Charles Lutwidge Dodgson. Chareles Dogson que fue matemático y profesor en la Universidad de Oxford, además era un aficionado por la fotografía.\n",
        "\n",
        "<br>\n",
        "\n",
        "------------\n",
        "\n",
        "<br>\n",
        "\n",
        "En esta notebook vamos aprender a realizar **Web Scrapping**.\n",
        "El cual lo podemos definir como un proceso que se usa para extraer el contenido y datos de un sitio web. \n",
        "\n",
        "Algunas de las principales aplicaciones que se pueden realizar con esta técnica es:\n",
        "\n",
        "> * E-commerce: poder extraer precios de productos publicados.\n",
        "> * Diarios/ Noticias: Poder recopilar noticias de diarios y revistas online.\n",
        "> * Marketing: Se puede extraer información sobre publicaciones realizadas por consumidores, tales como reviews u opiniones sobre productos y servicios.\n",
        "> * Finanzas: Se pueden extraer datos como indicadores sobre acciones, precios de divisas o tasas.\n",
        "\n",
        "\n",
        "\n",
        "<center>\n",
        "<img src=\"https://i.ibb.co/VBFqK9M/Copia-de-py.png\" alt=\"webscraping\" border=\"1\">"
      ]
    },
    {
      "cell_type": "markdown",
      "metadata": {
        "id": "U4RWE4N-uppE"
      },
      "source": [
        "🏷️ 1. Importar los siguientes paquetes\n",
        "\n",
        "Concepto |modulo | alias | descripción\n",
        "-----|-----|----|----\n",
        "Dataframes| pandas | pd | Manipulación de dataframes\n",
        "Dataframes|numpy | np | Utilizamos la función where para generar nuevas variables.\n",
        "Dataframes|google.colab | | Importar archivos de drive\n",
        "web scrapping|bs4 | | Extraer datos de un html\n",
        "web scrapping|request | | Importar una pagina web\n"
      ]
    },
    {
      "cell_type": "code",
      "metadata": {
        "id": "VzDMUKq6upZO"
      },
      "source": [
        "# Dataframes\n",
        "import pandas as pd\n",
        "import numpy as np\n",
        "from google.colab import drive \n",
        "from bs4 import BeautifulSoup\n",
        "import requests"
      ],
      "execution_count": 3,
      "outputs": []
    },
    {
      "cell_type": "markdown",
      "metadata": {
        "id": "bg4uVkROZCnj"
      },
      "source": [
        "🏷️ 2. Importar el archivo Alicia.html"
      ]
    },
    {
      "cell_type": "code",
      "metadata": {
        "colab": {
          "base_uri": "https://localhost:8080/"
        },
        "id": "MTtsoAPcax7d",
        "outputId": "050fa503-95ac-4d8e-bc07-629d8716af23"
      },
      "source": [
        "from google.colab import drive\n",
        "drive.mount('/content/drive')"
      ],
      "execution_count": 4,
      "outputs": [
        {
          "output_type": "stream",
          "name": "stdout",
          "text": [
            "Mounted at /content/drive\n"
          ]
        }
      ]
    },
    {
      "cell_type": "code",
      "metadata": {
        "id": "9tPtYMNQqUVi"
      },
      "source": [
        "docs = \"/content/drive/MyDrive/Alicia.html\""
      ],
      "execution_count": 5,
      "outputs": []
    },
    {
      "cell_type": "code",
      "metadata": {
        "id": "s1Id3Hj0bLq3"
      },
      "source": [
        "soup = BeautifulSoup((open(docs, encoding= \"utf-8\").read()),\"html.parser\")"
      ],
      "execution_count": 8,
      "outputs": []
    },
    {
      "cell_type": "code",
      "metadata": {
        "id": "M7t-45dNbkft"
      },
      "source": [
        "soup"
      ],
      "execution_count": null,
      "outputs": []
    },
    {
      "cell_type": "markdown",
      "metadata": {
        "id": "JdugJlphWhej"
      },
      "source": [
        "🏷️ 3. Generar un objeto denominado títulos que contenga el tag `h2`\n"
      ]
    },
    {
      "cell_type": "code",
      "metadata": {
        "id": "oHe97o8hWg3a",
        "colab": {
          "base_uri": "https://localhost:8080/"
        },
        "outputId": "8f6af62c-0e4c-467f-eec6-b160750369ca"
      },
      "source": [
        "soup.findAll(\"h2\")"
      ],
      "execution_count": 11,
      "outputs": [
        {
          "output_type": "execute_result",
          "data": {
            "text/plain": [
              "[<h2>Historia</h2>,\n",
              " <h2>Ediciones en español</h2>,\n",
              " <h2 id=\"filmaffinity\"><a href=\"https://www.filmaffinity.com/es/film362992.html\">filmaffinity</a></h2>]"
            ]
          },
          "metadata": {},
          "execution_count": 11
        }
      ]
    },
    {
      "cell_type": "code",
      "metadata": {
        "colab": {
          "base_uri": "https://localhost:8080/",
          "height": 35
        },
        "id": "f6y5f0YXdxIn",
        "outputId": "e1a79137-d554-4160-8a67-0beb0467d783"
      },
      "source": [
        "soup.find(\"h2\").get_text()"
      ],
      "execution_count": 17,
      "outputs": [
        {
          "output_type": "execute_result",
          "data": {
            "application/vnd.google.colaboratory.intrinsic+json": {
              "type": "string"
            },
            "text/plain": [
              "'Historia'"
            ]
          },
          "metadata": {},
          "execution_count": 17
        }
      ]
    },
    {
      "cell_type": "markdown",
      "metadata": {
        "id": "Cbg0UwyBXVbz"
      },
      "source": [
        "🏷️ 4. Obtener el string de cada elemento de la lista obtenida del paso anterior"
      ]
    },
    {
      "cell_type": "code",
      "metadata": {
        "id": "VlY1mZrqXaPQ"
      },
      "source": [
        "titulos = [ i.get_text()  for i in soup.findAll(\"h2\")  ]"
      ],
      "execution_count": 18,
      "outputs": []
    },
    {
      "cell_type": "code",
      "metadata": {
        "colab": {
          "base_uri": "https://localhost:8080/"
        },
        "id": "VBwyQsUBe1-T",
        "outputId": "cd68e5d5-35df-41eb-c930-255609b13fe4"
      },
      "source": [
        "titulos"
      ],
      "execution_count": 19,
      "outputs": [
        {
          "output_type": "execute_result",
          "data": {
            "text/plain": [
              "['Historia', 'Ediciones en español', 'filmaffinity']"
            ]
          },
          "metadata": {},
          "execution_count": 19
        }
      ]
    },
    {
      "cell_type": "markdown",
      "metadata": {
        "id": "b0I0n1-gXymj"
      },
      "source": [
        "🏷️ 5. Seleccionar el segundo elemento `p` que contiene la descripción de la historia"
      ]
    },
    {
      "cell_type": "code",
      "metadata": {
        "id": "4-8aYyGIXz9w"
      },
      "source": [
        "descripcion = soup.findAll(\"p\")[1].get_text()"
      ],
      "execution_count": 31,
      "outputs": []
    },
    {
      "cell_type": "code",
      "metadata": {
        "colab": {
          "base_uri": "https://localhost:8080/",
          "height": 136
        },
        "id": "H4T6kw8Pl-q_",
        "outputId": "b5813ffe-da35-4c0f-ecbc-74b29a828241"
      },
      "source": [
        "soup.findAll(\"p\")[1].get_text()"
      ],
      "execution_count": 26,
      "outputs": [
        {
          "output_type": "execute_result",
          "data": {
            "application/vnd.google.colaboratory.intrinsic+json": {
              "type": "string"
            },
            "text/plain": [
              "'Las aventuras de Alicia en el país de las maravillas, comúnmente abreviado como Alicia en el país de las maravillas, es una novela de fantasía escrita por el matemático, lógico, fotógrafo y escritor británico Charles Lutwidge Dodgson, bajo el seudónimo de Lewis Carroll, publicada en 1865. La historia cuenta cómo una niña llamada Alicia cae por un agujero, encontrándose en un mundo peculiar, poblado por humanos y criaturas antropomórficas. El libro juega con la lógica, dando a la novela gran popularidad tanto en niños como en adultos. Está considerada una de las mejores novelas del género del Sinsentido. Su narrativa y estructura, junto con sus personajes, han sido una gran influencia tanto en la cultura popular como en la literatura, sobre todo en el género fantástico.\\n\\tEn esta obra aparecen algunos de los personajes más famosos de Lewis Carroll, como el Conejo Blanco, la Liebre de Marzo, el Sombrerero, la Oruga azul, el Gato de Cheshire o la Reina de Corazones;1\\u200b quienes han cobrado importancia suficiente como para ser reconocidos fuera del mundo de Alicia.'"
            ]
          },
          "metadata": {},
          "execution_count": 26
        }
      ]
    },
    {
      "cell_type": "markdown",
      "metadata": {
        "id": "Kjmzr2kXYO5N"
      },
      "source": [
        "🏷️ 6. Eliminar del string del ejercicio anterior los saltos de líneas y tabulaciones"
      ]
    },
    {
      "cell_type": "code",
      "metadata": {
        "id": "asLFLjX-mTws"
      },
      "source": [
        "descripcion = descripcion.replace(\"\\n\", \" \").replace(\"\\t\", \" \").replace(\"\\u200b\", \"\")"
      ],
      "execution_count": 33,
      "outputs": []
    },
    {
      "cell_type": "markdown",
      "metadata": {
        "id": "Cq229GdpYj_F"
      },
      "source": [
        "🏷️ 7. El texto anterior contiene una referencia , por lo cual generar una variable denominada `ref`"
      ]
    },
    {
      "cell_type": "code",
      "metadata": {
        "id": "2hoqLm3wY6F1",
        "colab": {
          "base_uri": "https://localhost:8080/",
          "height": 35
        },
        "outputId": "52509d8a-ccab-41a3-b3bc-6d251e158cbf"
      },
      "source": [
        "soup.findAll(\"p\", { \"id\" : \"Ref\"})[0].get_text()"
      ],
      "execution_count": 46,
      "outputs": [
        {
          "output_type": "execute_result",
          "data": {
            "application/vnd.google.colaboratory.intrinsic+json": {
              "type": "string"
            },
            "text/plain": [
              "'Referenicas: wikipedia'"
            ]
          },
          "metadata": {},
          "execution_count": 46
        }
      ]
    },
    {
      "cell_type": "markdown",
      "metadata": {
        "id": "McdJfPvXZWiR"
      },
      "source": [
        "🏷️ 8. Obtener el hipervínculo de la referencia"
      ]
    },
    {
      "cell_type": "code",
      "metadata": {
        "id": "H8LYeMCLuEpF",
        "colab": {
          "base_uri": "https://localhost:8080/"
        },
        "outputId": "0cf384ef-8c5e-4797-fd73-04fe1dd54b55"
      },
      "source": [
        "soup.findAll(\"p\", { \"id\" : \"Ref\"})[0].findAll(\"a\")[0].get_attribute_list(\"href\")"
      ],
      "execution_count": 47,
      "outputs": [
        {
          "output_type": "execute_result",
          "data": {
            "text/plain": [
              "['https://es.wikipedia.org/wiki/Las_aventuras_de_Alicia_en_el_pa%C3%ADs_de_las_maravillas']"
            ]
          },
          "metadata": {},
          "execution_count": 47
        }
      ]
    },
    {
      "cell_type": "code",
      "metadata": {
        "id": "9u5HxbT9ZdcY",
        "colab": {
          "base_uri": "https://localhost:8080/",
          "height": 35
        },
        "outputId": "95a3a6e6-0631-40ed-cf44-121a7d89a933"
      },
      "source": [
        "soup.findAll('p', {'id' : \"Ref\"})[0].a['href']\n"
      ],
      "execution_count": 48,
      "outputs": [
        {
          "output_type": "execute_result",
          "data": {
            "application/vnd.google.colaboratory.intrinsic+json": {
              "type": "string"
            },
            "text/plain": [
              "'https://es.wikipedia.org/wiki/Las_aventuras_de_Alicia_en_el_pa%C3%ADs_de_las_maravillas'"
            ]
          },
          "metadata": {},
          "execution_count": 48
        }
      ]
    },
    {
      "cell_type": "code",
      "metadata": {
        "id": "B64mibbevE7l"
      },
      "source": [
        ""
      ],
      "execution_count": null,
      "outputs": []
    },
    {
      "cell_type": "markdown",
      "metadata": {
        "id": "xfHv7OvLaSNo"
      },
      "source": [
        "🏷️ 9. Generar una lista con todos los elemento li\n"
      ]
    },
    {
      "cell_type": "code",
      "metadata": {
        "id": "miy4lKM5aWnH",
        "colab": {
          "base_uri": "https://localhost:8080/"
        },
        "outputId": "64c6008a-bc4d-4b8f-e2a2-db396799caa7"
      },
      "source": [
        "lista = soup.findAll(\"li\")\n",
        "lista"
      ],
      "execution_count": 50,
      "outputs": [
        {
          "output_type": "execute_result",
          "data": {
            "text/plain": [
              "[<li>Capítulo I: El descenso por la madriguera</li>,\n",
              " <li>Capítulo II: En un mar de lágrimas</li>,\n",
              " <li>Capítulo III: Una carrera en comité y un cuento largo</li>,\n",
              " <li>Capítulo IV: La habitación del Conejo Blanco</li>,\n",
              " <li>Capítulo V: El consejo de una oruga</li>,\n",
              " <li>Capítulo VI: Cerdo y pimienta</li>,\n",
              " <li>Capítulo VII: Una merienda de locos</li>,\n",
              " <li>Capítulo VIII: El croquet de la reina</li>,\n",
              " <li>Capítulo IX: Historia de la Falsa Tortuga</li>,\n",
              " <li>Capítulo X: El baile de la langosta</li>,\n",
              " <li>Capítulo XI: ¿Quién robó las tartas?</li>,\n",
              " <li>Capítulo XII: La declaración de Alicia</li>,\n",
              " <li>Alicia en el País de las Maravillas: A través del espejo; Traducción de Ramón Buckley; Ediciones Cátedra: Madrid, 1992; ISBN 84-376-1092-3</li>,\n",
              " <li>Alicia en el País de las Maravillas. A través del espejo; Traducción de Mauro Armiño; Colección Avatares. Ediciones Valdemar: Madrid, 1998 [4ª edición 2006]; ISBN 84-7702-235-6.</li>,\n",
              " <li>Aventuras de Alicia en el País de las Maravillas. A través del espejo; ;Colección El Club Diógenes. Ediciones Valdemar: Madrid, 2006; ISBN 84-7702-447-2</li>,\n",
              " <li>Alicia en el País de las Maravillas; Traducción de Gabriel López Guix; Ediciones B: Barcelona, 2002; ISBN 84-666-0802-8</li>,\n",
              " <li>Alicia en el País de las Maravillas Silvia y Bruno; Traducción de Luis Maristany y Leonardo Domingo; Editorial Edhasa: Barcelona, 2002; ISBN 84-350-4011-9</li>,\n",
              " <li>Aventuras de Alicia en el País de las Maravillas; ;Edición de Pilar Torralba Álvarez. Akal Ediciones: Madrid, 2005; ISBN 84-460-1995-7</li>,\n",
              " <li>Alicia en el País de las Maravillas. A través del espejo; Traducción de Francisco Torres Oliver; Akal Ediciones: Madrid, 2003; ISBN 84-460-2071-8. </li>,\n",
              " <li>Alicia en el País de las Maravillas. A través del espejo; ;Edición de Martin Gardner. Akal Ediciones: Madrid, 1984 [2ª edición 1987 (1998/1999)]; ISBN 978-84-7339-694-3 </li>,\n",
              " <li>Alicia en el País de las Maravillas. ;Traducción de Jaime de Ojeda.; Ediciones Siruela: Madrid, 2004.; ISBN 84-7844-760-1</li>,\n",
              " <li>Alicia en el País de las Maravillas. ;Traducción de Graciela Montes; Ediciones Colihue: Buenos Aires, 1996.; ISBN 950-581-272-8</li>,\n",
              " <li>Alicia en el País de las Maravillas. ;Traducción de Cora Bosh. ;Editorial: Atlántida Buenos Aires, 2010. ;ISBN 978-950-08-1636-6</li>,\n",
              " <li>Alicia en el País de las Maravillas. ;Traducción de Jaime Ojeda. ;Editorial: Alianza editorial, 2010. ;ISBN 978-84-206-6428-6</li>,\n",
              " <li><stong>2010</stong>: 2 Oscars: Mejor dirección artística y vestuario. 3 nominaciones: efectos visuales</li>,\n",
              " <li><stong>2010</stong>: Globos de Oro: 3 nominaciones, incluyendo Mejor película comedia o musical</li>,\n",
              " <li><stong>2010</stong>: 2 Premios BAFTA: Mejor vestuario y maquillaje y peluquería. 5 nominaciones</li>,\n",
              " <li><stong>2010</stong>: Satellite Awards: Mejor vestuario y efectos visuales</li>,\n",
              " <li><stong>2010</stong>: 2 Critics' Choice Awards: Mejor vestuario y maquillaje. 4 nominaciones</li>,\n",
              " <li><stong>FilmAffinity</stong>: En su estreno en cines 3D, la película fue precedida del cortometraje de animación español (nominado al Oscar) \"La dama y la muerte\". Click para votarlo. </li>,\n",
              " <li><stong>Luis Martínez, Diario El Mundo: </stong>\"Se comprende mal que Burton haya convertido la anarquía narrativa-existencial de uno de los libros más rigurosamente libertinos jamás escrito en algo tan relamido. De hecho, por momentos, no se entiende nada. (...) Burton, sencillamente, aburre.\" </li>,\n",
              " <li><stong>Carlos Boyero, Diario El País: </stong>\"Hay bastantes cosas que funcionan admirablemente en esta película, como la capacidad hipnótica de sus imágenes (...) un clima que te mantiene expectante. (...) Sin embargo, me cansa un poquito la grandilocuencia delirante de Depp. Es una película que ves y escuchas con agrado, pero el poso que deja es escaso.\" </li>,\n",
              " <li><stong>Jordi Costa, Fotogramas: </stong>\"Película virtuosa (...) pero resulta inevitable preguntarse qué sustenta el sesgo inquietante y crepuscular de su relectura (...) Burton ha aprendido a dominar su caligrafía extraña, para dejar claro que ya no tiene demasiado que contar.\" </li>,\n",
              " <li><stong>Federico Marín Bellón, Diario ABC: </stong>\"Empieza con brillantez, se aburre en la mayor parte de su recorrido por el país de nunca máis y termina con una batalla de lo más vistosa, colocada justo a tiempo para que el personal no se pregunte por qué demonios lleva hora y media mirando la pantalla\"</li>,\n",
              " <li><stong>Todd McCarthy, Variety:  </stong>\"Tiene sus momentos de deleite, humor y deslumbramiento. Pero también se hace más común a medida que avanza (...) no todo ha salido mal, al menos no del todo. (...) La película se siente mucho más convencional de lo que debería.\" </li>,\n",
              " <li><stong>Michael Rechtshaffen, The Hollywood Reporter: </stong>\"Verdadera y locamente maravillosa. (...) Ni siquiera el estilo extravagante marca de la casa del director te prepara para el espectáculo intensamente disfrutable que es 'Alice in Wonderland'\"</li>]"
            ]
          },
          "metadata": {},
          "execution_count": 50
        }
      ]
    },
    {
      "cell_type": "markdown",
      "metadata": {
        "id": "RE-9TWXWadYa"
      },
      "source": [
        "🏷️ 10. Seleccionar todos los elementos li pero solo los que corresponden a los capítulos, realizar un dataframe donde tenga dos columnas:\n",
        "* Captiulo nro\n",
        "* Capitulo denominación"
      ]
    },
    {
      "cell_type": "code",
      "metadata": {
        "id": "z8AhtxHva4T8",
        "colab": {
          "base_uri": "https://localhost:8080/"
        },
        "outputId": "a62817bf-baec-4ce3-b776-d77e59db0828"
      },
      "source": [
        "capitulos = soup.findAll(\"ul\")[0].findAll(\"li\")\n",
        "capitulos = [i.get_text()  for i in capitulos]\n",
        "capitulos"
      ],
      "execution_count": 52,
      "outputs": [
        {
          "output_type": "execute_result",
          "data": {
            "text/plain": [
              "['Capítulo I: El descenso por la madriguera',\n",
              " 'Capítulo II: En un mar de lágrimas',\n",
              " 'Capítulo III: Una carrera en comité y un cuento largo',\n",
              " 'Capítulo IV: La habitación del Conejo Blanco',\n",
              " 'Capítulo V: El consejo de una oruga',\n",
              " 'Capítulo VI: Cerdo y pimienta',\n",
              " 'Capítulo VII: Una merienda de locos',\n",
              " 'Capítulo VIII: El croquet de la reina',\n",
              " 'Capítulo IX: Historia de la Falsa Tortuga',\n",
              " 'Capítulo X: El baile de la langosta',\n",
              " 'Capítulo XI: ¿Quién robó las tartas?',\n",
              " 'Capítulo XII: La declaración de Alicia']"
            ]
          },
          "metadata": {},
          "execution_count": 52
        }
      ]
    },
    {
      "cell_type": "code",
      "metadata": {
        "colab": {
          "base_uri": "https://localhost:8080/"
        },
        "id": "KUCM6jDgr8T-",
        "outputId": "49a6e1a9-7512-4083-c422-81a927cbb50e"
      },
      "source": [
        "[i.split(\":\")[1] for i in capitulos]"
      ],
      "execution_count": 54,
      "outputs": [
        {
          "output_type": "execute_result",
          "data": {
            "text/plain": [
              "[' El descenso por la madriguera',\n",
              " ' En un mar de lágrimas',\n",
              " ' Una carrera en comité y un cuento largo',\n",
              " ' La habitación del Conejo Blanco',\n",
              " ' El consejo de una oruga',\n",
              " ' Cerdo y pimienta',\n",
              " ' Una merienda de locos',\n",
              " ' El croquet de la reina',\n",
              " ' Historia de la Falsa Tortuga',\n",
              " ' El baile de la langosta',\n",
              " ' ¿Quién robó las tartas?',\n",
              " ' La declaración de Alicia']"
            ]
          },
          "metadata": {},
          "execution_count": 54
        }
      ]
    },
    {
      "cell_type": "code",
      "metadata": {
        "id": "z60hMh2Qsc-G"
      },
      "source": [
        "df = pd.DataFrame({\"Capitulo\" : [i.split(\":\")[0] for i in capitulos],\n",
        "                   \"Titulo\"  : [i.split(\":\")[1] for i in capitulos]})"
      ],
      "execution_count": 55,
      "outputs": []
    },
    {
      "cell_type": "code",
      "metadata": {
        "colab": {
          "base_uri": "https://localhost:8080/",
          "height": 417
        },
        "id": "mlmBK7fFszdL",
        "outputId": "d8ba2951-a725-4560-ca49-2d043ac43129"
      },
      "source": [
        "df"
      ],
      "execution_count": 56,
      "outputs": [
        {
          "output_type": "execute_result",
          "data": {
            "text/html": [
              "<div>\n",
              "<style scoped>\n",
              "    .dataframe tbody tr th:only-of-type {\n",
              "        vertical-align: middle;\n",
              "    }\n",
              "\n",
              "    .dataframe tbody tr th {\n",
              "        vertical-align: top;\n",
              "    }\n",
              "\n",
              "    .dataframe thead th {\n",
              "        text-align: right;\n",
              "    }\n",
              "</style>\n",
              "<table border=\"1\" class=\"dataframe\">\n",
              "  <thead>\n",
              "    <tr style=\"text-align: right;\">\n",
              "      <th></th>\n",
              "      <th>Capitulo</th>\n",
              "      <th>Titulo</th>\n",
              "    </tr>\n",
              "  </thead>\n",
              "  <tbody>\n",
              "    <tr>\n",
              "      <th>0</th>\n",
              "      <td>Capítulo I</td>\n",
              "      <td>El descenso por la madriguera</td>\n",
              "    </tr>\n",
              "    <tr>\n",
              "      <th>1</th>\n",
              "      <td>Capítulo II</td>\n",
              "      <td>En un mar de lágrimas</td>\n",
              "    </tr>\n",
              "    <tr>\n",
              "      <th>2</th>\n",
              "      <td>Capítulo III</td>\n",
              "      <td>Una carrera en comité y un cuento largo</td>\n",
              "    </tr>\n",
              "    <tr>\n",
              "      <th>3</th>\n",
              "      <td>Capítulo IV</td>\n",
              "      <td>La habitación del Conejo Blanco</td>\n",
              "    </tr>\n",
              "    <tr>\n",
              "      <th>4</th>\n",
              "      <td>Capítulo V</td>\n",
              "      <td>El consejo de una oruga</td>\n",
              "    </tr>\n",
              "    <tr>\n",
              "      <th>5</th>\n",
              "      <td>Capítulo VI</td>\n",
              "      <td>Cerdo y pimienta</td>\n",
              "    </tr>\n",
              "    <tr>\n",
              "      <th>6</th>\n",
              "      <td>Capítulo VII</td>\n",
              "      <td>Una merienda de locos</td>\n",
              "    </tr>\n",
              "    <tr>\n",
              "      <th>7</th>\n",
              "      <td>Capítulo VIII</td>\n",
              "      <td>El croquet de la reina</td>\n",
              "    </tr>\n",
              "    <tr>\n",
              "      <th>8</th>\n",
              "      <td>Capítulo IX</td>\n",
              "      <td>Historia de la Falsa Tortuga</td>\n",
              "    </tr>\n",
              "    <tr>\n",
              "      <th>9</th>\n",
              "      <td>Capítulo X</td>\n",
              "      <td>El baile de la langosta</td>\n",
              "    </tr>\n",
              "    <tr>\n",
              "      <th>10</th>\n",
              "      <td>Capítulo XI</td>\n",
              "      <td>¿Quién robó las tartas?</td>\n",
              "    </tr>\n",
              "    <tr>\n",
              "      <th>11</th>\n",
              "      <td>Capítulo XII</td>\n",
              "      <td>La declaración de Alicia</td>\n",
              "    </tr>\n",
              "  </tbody>\n",
              "</table>\n",
              "</div>"
            ],
            "text/plain": [
              "         Capitulo                                    Titulo\n",
              "0      Capítulo I             El descenso por la madriguera\n",
              "1     Capítulo II                     En un mar de lágrimas\n",
              "2    Capítulo III   Una carrera en comité y un cuento largo\n",
              "3     Capítulo IV           La habitación del Conejo Blanco\n",
              "4      Capítulo V                   El consejo de una oruga\n",
              "5     Capítulo VI                          Cerdo y pimienta\n",
              "6    Capítulo VII                     Una merienda de locos\n",
              "7   Capítulo VIII                    El croquet de la reina\n",
              "8     Capítulo IX              Historia de la Falsa Tortuga\n",
              "9      Capítulo X                   El baile de la langosta\n",
              "10    Capítulo XI                   ¿Quién robó las tartas?\n",
              "11   Capítulo XII                  La declaración de Alicia"
            ]
          },
          "metadata": {},
          "execution_count": 56
        }
      ]
    },
    {
      "cell_type": "markdown",
      "metadata": {
        "id": "3TopaRF_c8oM"
      },
      "source": [
        "🏷️ 11. Generar un dataframe en base a los datos que estan en el apartado **`Ediciones en español`**"
      ]
    },
    {
      "cell_type": "code",
      "metadata": {
        "id": "JsVcAe_qdN5O"
      },
      "source": [
        "referencias = soup.findAll(\"ol\")[0].findAll(\"li\")\n",
        "referencias = [i.get_text()    for i in referencias]"
      ],
      "execution_count": 60,
      "outputs": []
    },
    {
      "cell_type": "code",
      "metadata": {
        "id": "Rd_tEs9J415A",
        "colab": {
          "base_uri": "https://localhost:8080/"
        },
        "outputId": "9c352e23-9d53-46b1-bb5a-59afebc1873c"
      },
      "source": [
        "referencias"
      ],
      "execution_count": 61,
      "outputs": [
        {
          "output_type": "execute_result",
          "data": {
            "text/plain": [
              "['Alicia en el País de las Maravillas: A través del espejo; Traducción de Ramón Buckley; Ediciones Cátedra: Madrid, 1992; ISBN 84-376-1092-3',\n",
              " 'Alicia en el País de las Maravillas. A través del espejo; Traducción de Mauro Armiño; Colección Avatares. Ediciones Valdemar: Madrid, 1998 [4ª edición 2006]; ISBN 84-7702-235-6.',\n",
              " 'Aventuras de Alicia en el País de las Maravillas. A través del espejo; ;Colección El Club Diógenes. Ediciones Valdemar: Madrid, 2006; ISBN 84-7702-447-2',\n",
              " 'Alicia en el País de las Maravillas; Traducción de Gabriel López Guix; Ediciones B: Barcelona, 2002; ISBN 84-666-0802-8',\n",
              " 'Alicia en el País de las Maravillas Silvia y Bruno; Traducción de Luis Maristany y Leonardo Domingo; Editorial Edhasa: Barcelona, 2002; ISBN 84-350-4011-9',\n",
              " 'Aventuras de Alicia en el País de las Maravillas; ;Edición de Pilar Torralba Álvarez. Akal Ediciones: Madrid, 2005; ISBN 84-460-1995-7',\n",
              " 'Alicia en el País de las Maravillas. A través del espejo; Traducción de Francisco Torres Oliver; Akal Ediciones: Madrid, 2003; ISBN 84-460-2071-8. ',\n",
              " 'Alicia en el País de las Maravillas. A través del espejo; ;Edición de Martin Gardner. Akal Ediciones: Madrid, 1984 [2ª edición 1987 (1998/1999)]; ISBN 978-84-7339-694-3 ',\n",
              " 'Alicia en el País de las Maravillas. ;Traducción de Jaime de Ojeda.; Ediciones Siruela: Madrid, 2004.; ISBN 84-7844-760-1',\n",
              " 'Alicia en el País de las Maravillas. ;Traducción de Graciela Montes; Ediciones Colihue: Buenos Aires, 1996.; ISBN 950-581-272-8',\n",
              " 'Alicia en el País de las Maravillas. ;Traducción de Cora Bosh. ;Editorial: Atlántida Buenos Aires, 2010. ;ISBN 978-950-08-1636-6',\n",
              " 'Alicia en el País de las Maravillas. ;Traducción de Jaime Ojeda. ;Editorial: Alianza editorial, 2010. ;ISBN 978-84-206-6428-6']"
            ]
          },
          "metadata": {},
          "execution_count": 61
        }
      ]
    },
    {
      "cell_type": "code",
      "metadata": {
        "id": "RatjRs0guJNw"
      },
      "source": [
        "nombre_libro = [i.split(\";\")[0].strip()  for i in referencias ]\n",
        "traductor =  [i.split(\";\")[1].strip()  for i in referencias ]\n",
        "edicion = [i.split(\";\")[2].strip()  for i in referencias ]\n",
        "codigo = [i.split(\";\")[3].strip()  for i in referencias ]"
      ],
      "execution_count": 75,
      "outputs": []
    },
    {
      "cell_type": "code",
      "metadata": {
        "id": "bW9lghvTuaxm"
      },
      "source": [
        "df_ = pd.DataFrame({ \"Nombre_libro\" : nombre_libro,\n",
        "                    \"Traductor\" : traductor,\n",
        "                    \"Edición\" : edicion,\n",
        "                    \"Codigo\" : codigo})"
      ],
      "execution_count": 76,
      "outputs": []
    },
    {
      "cell_type": "code",
      "metadata": {
        "colab": {
          "base_uri": "https://localhost:8080/",
          "height": 417
        },
        "id": "rzxr7wIpvMfs",
        "outputId": "ec85d98a-a629-41a2-e7b3-8da2b4cb0b10"
      },
      "source": [
        "df_"
      ],
      "execution_count": 77,
      "outputs": [
        {
          "output_type": "execute_result",
          "data": {
            "text/html": [
              "<div>\n",
              "<style scoped>\n",
              "    .dataframe tbody tr th:only-of-type {\n",
              "        vertical-align: middle;\n",
              "    }\n",
              "\n",
              "    .dataframe tbody tr th {\n",
              "        vertical-align: top;\n",
              "    }\n",
              "\n",
              "    .dataframe thead th {\n",
              "        text-align: right;\n",
              "    }\n",
              "</style>\n",
              "<table border=\"1\" class=\"dataframe\">\n",
              "  <thead>\n",
              "    <tr style=\"text-align: right;\">\n",
              "      <th></th>\n",
              "      <th>Nombre_libro</th>\n",
              "      <th>Traductor</th>\n",
              "      <th>Edición</th>\n",
              "      <th>Codigo</th>\n",
              "    </tr>\n",
              "  </thead>\n",
              "  <tbody>\n",
              "    <tr>\n",
              "      <th>0</th>\n",
              "      <td>Alicia en el País de las Maravillas: A través ...</td>\n",
              "      <td>Traducción de Ramón Buckley</td>\n",
              "      <td>Ediciones Cátedra: Madrid, 1992</td>\n",
              "      <td>ISBN 84-376-1092-3</td>\n",
              "    </tr>\n",
              "    <tr>\n",
              "      <th>1</th>\n",
              "      <td>Alicia en el País de las Maravillas. A través ...</td>\n",
              "      <td>Traducción de Mauro Armiño</td>\n",
              "      <td>Colección Avatares. Ediciones Valdemar: Madrid...</td>\n",
              "      <td>ISBN 84-7702-235-6.</td>\n",
              "    </tr>\n",
              "    <tr>\n",
              "      <th>2</th>\n",
              "      <td>Aventuras de Alicia en el País de las Maravill...</td>\n",
              "      <td></td>\n",
              "      <td>Colección El Club Diógenes. Ediciones Valdemar...</td>\n",
              "      <td>ISBN 84-7702-447-2</td>\n",
              "    </tr>\n",
              "    <tr>\n",
              "      <th>3</th>\n",
              "      <td>Alicia en el País de las Maravillas</td>\n",
              "      <td>Traducción de Gabriel López Guix</td>\n",
              "      <td>Ediciones B: Barcelona, 2002</td>\n",
              "      <td>ISBN 84-666-0802-8</td>\n",
              "    </tr>\n",
              "    <tr>\n",
              "      <th>4</th>\n",
              "      <td>Alicia en el País de las Maravillas Silvia y B...</td>\n",
              "      <td>Traducción de Luis Maristany y Leonardo Domingo</td>\n",
              "      <td>Editorial Edhasa: Barcelona, 2002</td>\n",
              "      <td>ISBN 84-350-4011-9</td>\n",
              "    </tr>\n",
              "    <tr>\n",
              "      <th>5</th>\n",
              "      <td>Aventuras de Alicia en el País de las Maravillas</td>\n",
              "      <td></td>\n",
              "      <td>Edición de Pilar Torralba Álvarez. Akal Edicio...</td>\n",
              "      <td>ISBN 84-460-1995-7</td>\n",
              "    </tr>\n",
              "    <tr>\n",
              "      <th>6</th>\n",
              "      <td>Alicia en el País de las Maravillas. A través ...</td>\n",
              "      <td>Traducción de Francisco Torres Oliver</td>\n",
              "      <td>Akal Ediciones: Madrid, 2003</td>\n",
              "      <td>ISBN 84-460-2071-8.</td>\n",
              "    </tr>\n",
              "    <tr>\n",
              "      <th>7</th>\n",
              "      <td>Alicia en el País de las Maravillas. A través ...</td>\n",
              "      <td></td>\n",
              "      <td>Edición de Martin Gardner. Akal Ediciones: Mad...</td>\n",
              "      <td>ISBN 978-84-7339-694-3</td>\n",
              "    </tr>\n",
              "    <tr>\n",
              "      <th>8</th>\n",
              "      <td>Alicia en el País de las Maravillas.</td>\n",
              "      <td>Traducción de Jaime de Ojeda.</td>\n",
              "      <td>Ediciones Siruela: Madrid, 2004.</td>\n",
              "      <td>ISBN 84-7844-760-1</td>\n",
              "    </tr>\n",
              "    <tr>\n",
              "      <th>9</th>\n",
              "      <td>Alicia en el País de las Maravillas.</td>\n",
              "      <td>Traducción de Graciela Montes</td>\n",
              "      <td>Ediciones Colihue: Buenos Aires, 1996.</td>\n",
              "      <td>ISBN 950-581-272-8</td>\n",
              "    </tr>\n",
              "    <tr>\n",
              "      <th>10</th>\n",
              "      <td>Alicia en el País de las Maravillas.</td>\n",
              "      <td>Traducción de Cora Bosh.</td>\n",
              "      <td>Editorial: Atlántida Buenos Aires, 2010.</td>\n",
              "      <td>ISBN 978-950-08-1636-6</td>\n",
              "    </tr>\n",
              "    <tr>\n",
              "      <th>11</th>\n",
              "      <td>Alicia en el País de las Maravillas.</td>\n",
              "      <td>Traducción de Jaime Ojeda.</td>\n",
              "      <td>Editorial: Alianza editorial, 2010.</td>\n",
              "      <td>ISBN 978-84-206-6428-6</td>\n",
              "    </tr>\n",
              "  </tbody>\n",
              "</table>\n",
              "</div>"
            ],
            "text/plain": [
              "                                         Nombre_libro  ...                  Codigo\n",
              "0   Alicia en el País de las Maravillas: A través ...  ...      ISBN 84-376-1092-3\n",
              "1   Alicia en el País de las Maravillas. A través ...  ...     ISBN 84-7702-235-6.\n",
              "2   Aventuras de Alicia en el País de las Maravill...  ...      ISBN 84-7702-447-2\n",
              "3                 Alicia en el País de las Maravillas  ...      ISBN 84-666-0802-8\n",
              "4   Alicia en el País de las Maravillas Silvia y B...  ...      ISBN 84-350-4011-9\n",
              "5    Aventuras de Alicia en el País de las Maravillas  ...      ISBN 84-460-1995-7\n",
              "6   Alicia en el País de las Maravillas. A través ...  ...     ISBN 84-460-2071-8.\n",
              "7   Alicia en el País de las Maravillas. A través ...  ...  ISBN 978-84-7339-694-3\n",
              "8                Alicia en el País de las Maravillas.  ...      ISBN 84-7844-760-1\n",
              "9                Alicia en el País de las Maravillas.  ...      ISBN 950-581-272-8\n",
              "10               Alicia en el País de las Maravillas.  ...  ISBN 978-950-08-1636-6\n",
              "11               Alicia en el País de las Maravillas.  ...  ISBN 978-84-206-6428-6\n",
              "\n",
              "[12 rows x 4 columns]"
            ]
          },
          "metadata": {},
          "execution_count": 77
        }
      ]
    },
    {
      "cell_type": "markdown",
      "metadata": {
        "id": "uGZ_cgfgfxyz"
      },
      "source": [
        "🏷️ 12. Generar un dataframe con los datos correspondientes a la Ficha Técnica"
      ]
    },
    {
      "cell_type": "code",
      "metadata": {
        "id": "LJ631c5K8Tx3"
      },
      "source": [
        "ft = soup.findAll(\"table\", {\"class\" : \"tabla\"})[0].findAll(\"td\")"
      ],
      "execution_count": 81,
      "outputs": []
    },
    {
      "cell_type": "code",
      "metadata": {
        "id": "1Dbm4-TDl_gX",
        "colab": {
          "base_uri": "https://localhost:8080/"
        },
        "outputId": "74beb162-753d-4ce3-c54e-f0f32fc4855d"
      },
      "source": [
        "ft"
      ],
      "execution_count": 82,
      "outputs": [
        {
          "output_type": "execute_result",
          "data": {
            "text/plain": [
              "[<td>Título Original</td>,\n",
              " <td>Alice in Wonderland</td>,\n",
              " <td>Título</td>,\n",
              " <td>Alicia en el país de las maravillas</td>,\n",
              " <td>Fecha de estreno</td>,\n",
              " <td>1951-01-01</td>,\n",
              " <td>Dirección</td>,\n",
              " <td>Clyde Geronimi, Wilfred Jackson, Hamilton Luske</td>,\n",
              " <td>Producción</td>,\n",
              " <td>Walt Disney</td>,\n",
              " <td>Guión</td>,\n",
              " <td>Winston Hibler, Ted Sears, Bill Peet, Erdman Penner, Joe Rinaldi, Milt Banta, William Cottrell, Dick Kelsey, Joe Grant, Dick Huemer, Del Connell, Tom Oreb, John Walbridge</td>,\n",
              " <td>Musica</td>,\n",
              " <td>Oliver Walace</td>,\n",
              " <td>País</td>,\n",
              " <td>Estados Unidos</td>,\n",
              " <td>Año</td>,\n",
              " <td>1951</td>,\n",
              " <td>Género</td>,\n",
              " <td>Animación, Fantasía, Aventura, Comedia Musical</td>,\n",
              " <td>Duración</td>,\n",
              " <td>75 minutos</td>]"
            ]
          },
          "metadata": {},
          "execution_count": 82
        }
      ]
    },
    {
      "cell_type": "code",
      "metadata": {
        "colab": {
          "base_uri": "https://localhost:8080/"
        },
        "id": "joUSe4j7x5WR",
        "outputId": "e2f151ab-4d75-4258-dd55-050911210114"
      },
      "source": [
        "len(ft)"
      ],
      "execution_count": 83,
      "outputs": [
        {
          "output_type": "execute_result",
          "data": {
            "text/plain": [
              "22"
            ]
          },
          "metadata": {},
          "execution_count": 83
        }
      ]
    },
    {
      "cell_type": "code",
      "metadata": {
        "id": "KGNvHImN-fut"
      },
      "source": [
        "Concepto = []\n",
        "Valor = []\n",
        "\n",
        "for i in list(range(0,len(ft))):\n",
        "  if i%2 == 0:\n",
        "    Concepto.append(ft[i].get_text())\n",
        "  else:\n",
        "    Valor.append(ft[i].get_text())"
      ],
      "execution_count": 84,
      "outputs": []
    },
    {
      "cell_type": "code",
      "metadata": {
        "id": "de_iz-gEyaFH"
      },
      "source": [
        "Df = pd.DataFrame({\"Concepto\" : Concepto,\n",
        "                   \"Valor\" : Valor})"
      ],
      "execution_count": 87,
      "outputs": []
    },
    {
      "cell_type": "code",
      "metadata": {
        "colab": {
          "base_uri": "https://localhost:8080/",
          "height": 387
        },
        "id": "_vv9y8YCy1a7",
        "outputId": "2c7a9eb2-311d-416f-a581-7efb6c045307"
      },
      "source": [
        "Df"
      ],
      "execution_count": 88,
      "outputs": [
        {
          "output_type": "execute_result",
          "data": {
            "text/html": [
              "<div>\n",
              "<style scoped>\n",
              "    .dataframe tbody tr th:only-of-type {\n",
              "        vertical-align: middle;\n",
              "    }\n",
              "\n",
              "    .dataframe tbody tr th {\n",
              "        vertical-align: top;\n",
              "    }\n",
              "\n",
              "    .dataframe thead th {\n",
              "        text-align: right;\n",
              "    }\n",
              "</style>\n",
              "<table border=\"1\" class=\"dataframe\">\n",
              "  <thead>\n",
              "    <tr style=\"text-align: right;\">\n",
              "      <th></th>\n",
              "      <th>Concepto</th>\n",
              "      <th>Valor</th>\n",
              "    </tr>\n",
              "  </thead>\n",
              "  <tbody>\n",
              "    <tr>\n",
              "      <th>0</th>\n",
              "      <td>Título Original</td>\n",
              "      <td>Alice in Wonderland</td>\n",
              "    </tr>\n",
              "    <tr>\n",
              "      <th>1</th>\n",
              "      <td>Título</td>\n",
              "      <td>Alicia en el país de las maravillas</td>\n",
              "    </tr>\n",
              "    <tr>\n",
              "      <th>2</th>\n",
              "      <td>Fecha de estreno</td>\n",
              "      <td>1951-01-01</td>\n",
              "    </tr>\n",
              "    <tr>\n",
              "      <th>3</th>\n",
              "      <td>Dirección</td>\n",
              "      <td>Clyde Geronimi, Wilfred Jackson, Hamilton Luske</td>\n",
              "    </tr>\n",
              "    <tr>\n",
              "      <th>4</th>\n",
              "      <td>Producción</td>\n",
              "      <td>Walt Disney</td>\n",
              "    </tr>\n",
              "    <tr>\n",
              "      <th>5</th>\n",
              "      <td>Guión</td>\n",
              "      <td>Winston Hibler, Ted Sears, Bill Peet, Erdman P...</td>\n",
              "    </tr>\n",
              "    <tr>\n",
              "      <th>6</th>\n",
              "      <td>Musica</td>\n",
              "      <td>Oliver Walace</td>\n",
              "    </tr>\n",
              "    <tr>\n",
              "      <th>7</th>\n",
              "      <td>País</td>\n",
              "      <td>Estados Unidos</td>\n",
              "    </tr>\n",
              "    <tr>\n",
              "      <th>8</th>\n",
              "      <td>Año</td>\n",
              "      <td>1951</td>\n",
              "    </tr>\n",
              "    <tr>\n",
              "      <th>9</th>\n",
              "      <td>Género</td>\n",
              "      <td>Animación, Fantasía, Aventura, Comedia Musical</td>\n",
              "    </tr>\n",
              "    <tr>\n",
              "      <th>10</th>\n",
              "      <td>Duración</td>\n",
              "      <td>75 minutos</td>\n",
              "    </tr>\n",
              "  </tbody>\n",
              "</table>\n",
              "</div>"
            ],
            "text/plain": [
              "            Concepto                                              Valor\n",
              "0    Título Original                                Alice in Wonderland\n",
              "1             Título                Alicia en el país de las maravillas\n",
              "2   Fecha de estreno                                         1951-01-01\n",
              "3          Dirección    Clyde Geronimi, Wilfred Jackson, Hamilton Luske\n",
              "4         Producción                                        Walt Disney\n",
              "5              Guión  Winston Hibler, Ted Sears, Bill Peet, Erdman P...\n",
              "6             Musica                                      Oliver Walace\n",
              "7               País                                     Estados Unidos\n",
              "8                Año                                               1951\n",
              "9             Género     Animación, Fantasía, Aventura, Comedia Musical\n",
              "10          Duración                                         75 minutos"
            ]
          },
          "metadata": {},
          "execution_count": 88
        }
      ]
    },
    {
      "cell_type": "markdown",
      "metadata": {
        "id": "BWLPM0AJf01g"
      },
      "source": [
        "🏷️ 13. En base al reparto de las películas realizadas:\n",
        "1. Cuales son los actores que realizaron más de un personaje.\n",
        "2. Qué personajes están desarrollado en la versión de idioma ingles pero no están en su versión latina.\n",
        "3. Que personajes están desarrollado en la versión latina pero no estan en su versión idioma inglés.\n"
      ]
    },
    {
      "cell_type": "code",
      "metadata": {
        "id": "wpm6tM2I_6Dq"
      },
      "source": [
        ""
      ],
      "execution_count": null,
      "outputs": []
    },
    {
      "cell_type": "code",
      "metadata": {
        "id": "tKaKEgXxBggt"
      },
      "source": [
        ""
      ],
      "execution_count": null,
      "outputs": []
    },
    {
      "cell_type": "code",
      "metadata": {
        "id": "aEbV2tjYB5T4"
      },
      "source": [
        ""
      ],
      "execution_count": null,
      "outputs": []
    },
    {
      "cell_type": "code",
      "metadata": {
        "id": "MW6mAr0AgQFy"
      },
      "source": [
        ""
      ],
      "execution_count": null,
      "outputs": []
    },
    {
      "cell_type": "code",
      "metadata": {
        "id": "vpuFSulxkIvx"
      },
      "source": [
        "#1. Cuales son los actores que realizaron más de un personaje.\n"
      ],
      "execution_count": null,
      "outputs": []
    },
    {
      "cell_type": "code",
      "metadata": {
        "id": "2UgcHrLflALG"
      },
      "source": [
        "#2. Que personajes estan desarrollado en la version de idioma ingles pero no estan en su version latina.\n"
      ],
      "execution_count": null,
      "outputs": []
    },
    {
      "cell_type": "code",
      "metadata": {
        "id": "sdpi4XD8kUgn"
      },
      "source": [
        "#3. Que personajes estan desarrollado en la version latina pero no estan en su version idioma ingles.\n"
      ],
      "execution_count": null,
      "outputs": []
    },
    {
      "cell_type": "markdown",
      "metadata": {
        "id": "2oaC_H_wgfnH"
      },
      "source": [
        "🏷️ 14. Cuantos Actores tiene el reparto de la pelicula de Tim Burton, genere una lista con los nombres de cada uno de ellos."
      ]
    },
    {
      "cell_type": "code",
      "metadata": {
        "id": "pEZZES6OmaOy"
      },
      "source": [
        ""
      ],
      "execution_count": null,
      "outputs": []
    },
    {
      "cell_type": "markdown",
      "metadata": {
        "id": "XW-pfL6igm6P"
      },
      "source": [
        "🏷️ 15. Generar una lista para mostrar todos los datos relacionados a las nominaciones y premios."
      ]
    },
    {
      "cell_type": "code",
      "metadata": {
        "id": "qTAqHWfr_vFZ"
      },
      "source": [
        ""
      ],
      "execution_count": null,
      "outputs": []
    },
    {
      "cell_type": "markdown",
      "metadata": {
        "id": "q1zvfuItg3w3"
      },
      "source": [
        "🏷️ 16. Genere un dataframe con las críticas:\n",
        "* Una de las columnas debe tener el nombre de la persona o empresa que lo realizó\n",
        "* Otra columna debe contener la crítica.\n",
        "\n"
      ]
    },
    {
      "cell_type": "code",
      "metadata": {
        "id": "QQ1bCpvkhOV_"
      },
      "source": [
        ""
      ],
      "execution_count": null,
      "outputs": []
    }
  ]
}