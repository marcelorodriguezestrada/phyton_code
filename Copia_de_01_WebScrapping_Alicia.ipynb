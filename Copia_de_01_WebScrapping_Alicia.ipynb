{
  "nbformat": 4,
  "nbformat_minor": 0,
  "metadata": {
    "colab": {
      "name": "Copia de 01-WebScrapping-Alicia.ipynb",
      "provenance": [],
      "collapsed_sections": []
    },
    "kernelspec": {
      "name": "python3",
      "display_name": "Python 3"
    }
  },
  "cells": [
    {
      "cell_type": "markdown",
      "metadata": {
        "id": "N_UWvZY4THin"
      },
      "source": [
        "## <img src=\"http://icons.iconarchive.com/icons/cornmanthe3rd/plex/256/Other-python-icon.png\" width=\"40\"> Ejercicio Alicia en el país de las maravillas 🃏♥️🐰👧🏼\n",
        "\n",
        "<center>\n",
        "<img src=\"https://i.blogs.es/ef9728/alicia-en-el-pais-de-las-maravillas-cartel/1366_2000.jpg\" alt=\"alicia\" border=\"1\">\n",
        "\n",
        "Source Image:[link](https://i.blogs.es/ef9728/alicia-en-el-pais-de-las-maravillas-cartel/1366_2000.jpg)\n",
        "</center>\n",
        "<br>\n",
        "\n",
        "----\n",
        "<br>\n",
        "\n",
        "En este ejercicio vamos a utilizar la página web denominada \"Alicia.html\", la cual contiene información sobre **\"Alicia en el país de las maravillas\"**. Este cuento clásico tiene 155 años de antigüedad, ya que el mismo fue publicado el 26 de noviembre de 1865 por Lewis Carroll. Aunque ese nombre era un seudónimo y verdadero nombre era Charles Lutwidge Dodgson. Chareles Dogson que fue matemático y profesor en la Universidad de Oxford, además era un aficionado por la fotografía.\n",
        "\n",
        "<br>\n",
        "\n",
        "------------\n",
        "\n",
        "<br>\n",
        "\n",
        "En esta notebook vamos aprender a realizar **Web Scrapping**.\n",
        "El cual lo podemos definir como un proceso que se usa para extraer el contenido y datos de un sitio web. \n",
        "\n",
        "Algunas de las principales aplicaciones que se pueden realizar con esta técnica es:\n",
        "\n",
        "> * E-commerce: poder extraer precios de productos publicados.\n",
        "> * Diarios/ Noticias: Poder recopilar noticias de diarios y revistas online.\n",
        "> * Marketing: Se puede extraer información sobre publicaciones realizadas por consumidores, tales como reviews u opiniones sobre productos y servicios.\n",
        "> * Finanzas: Se pueden extraer datos como indicadores sobre acciones, precios de divisas o tasas.\n",
        "\n",
        "\n",
        "\n",
        "<center>\n",
        "<img src=\"https://i.ibb.co/VBFqK9M/Copia-de-py.png\" alt=\"webscraping\" border=\"1\">"
      ]
    },
    {
      "cell_type": "markdown",
      "metadata": {
        "id": "U4RWE4N-uppE"
      },
      "source": [
        "🏷️ 1. Importar los siguientes paquetes\n",
        "\n",
        "Concepto |modulo | alias | descripción\n",
        "-----|-----|----|----\n",
        "Dataframes| pandas | pd | Manipulación de dataframes\n",
        "Dataframes|numpy | np | Utilizamos la función where para generar nuevas variables.\n",
        "Dataframes|google.colab | | Importar archivos de drive\n",
        "web scrapping|bs4 | | Extraer datos de un html\n",
        "web scrapping|request | | Importar una pagina web\n"
      ]
    },
    {
      "cell_type": "code",
      "metadata": {
        "id": "VzDMUKq6upZO"
      },
      "source": [
        "# Dataframes\n",
        "import pandas as pd\n",
        "import numpy as np\n",
        "from google.colab import drive \n",
        "from bs4 import BeautifulSoup"
      ],
      "execution_count": null,
      "outputs": []
    },
    {
      "cell_type": "markdown",
      "metadata": {
        "id": "bg4uVkROZCnj"
      },
      "source": [
        "🏷️ 2. Importar el archivo Alicia.html"
      ]
    },
    {
      "cell_type": "code",
      "metadata": {
        "id": "LwgugigmoT2N"
      },
      "source": [
        ""
      ],
      "execution_count": null,
      "outputs": []
    },
    {
      "cell_type": "code",
      "metadata": {
        "id": "9tPtYMNQqUVi"
      },
      "source": [
        ""
      ],
      "execution_count": null,
      "outputs": []
    },
    {
      "cell_type": "markdown",
      "metadata": {
        "id": "JdugJlphWhej"
      },
      "source": [
        "🏷️ 3. Generar un objeto denominado títulos que contenga el tag `h2`\n"
      ]
    },
    {
      "cell_type": "code",
      "metadata": {
        "id": "oHe97o8hWg3a"
      },
      "source": [
        ""
      ],
      "execution_count": null,
      "outputs": []
    },
    {
      "cell_type": "markdown",
      "metadata": {
        "id": "Cbg0UwyBXVbz"
      },
      "source": [
        "🏷️ 4. Obtener el string de cada elemento de la lista obtenida del paso anterior"
      ]
    },
    {
      "cell_type": "code",
      "metadata": {
        "id": "VlY1mZrqXaPQ"
      },
      "source": [
        ""
      ],
      "execution_count": null,
      "outputs": []
    },
    {
      "cell_type": "markdown",
      "metadata": {
        "id": "b0I0n1-gXymj"
      },
      "source": [
        "🏷️ 5. Seleccionar el segundo elemento `p` que contiene la descripción de la historia"
      ]
    },
    {
      "cell_type": "code",
      "metadata": {
        "id": "4-8aYyGIXz9w"
      },
      "source": [
        ""
      ],
      "execution_count": null,
      "outputs": []
    },
    {
      "cell_type": "markdown",
      "metadata": {
        "id": "Kjmzr2kXYO5N"
      },
      "source": [
        "🏷️ 6. Eliminar del string del ejercicio anterior los saltos de líneas y tabulaciones"
      ]
    },
    {
      "cell_type": "code",
      "metadata": {
        "id": "5UUrCQvSYXPb"
      },
      "source": [
        ""
      ],
      "execution_count": null,
      "outputs": []
    },
    {
      "cell_type": "markdown",
      "metadata": {
        "id": "Cq229GdpYj_F"
      },
      "source": [
        "🏷️ 7. El texto anterior contiene una referencia , por lo cual generar una variable denominada `ref`"
      ]
    },
    {
      "cell_type": "code",
      "metadata": {
        "id": "2hoqLm3wY6F1"
      },
      "source": [
        ""
      ],
      "execution_count": null,
      "outputs": []
    },
    {
      "cell_type": "markdown",
      "metadata": {
        "id": "McdJfPvXZWiR"
      },
      "source": [
        "🏷️ 8. Obtener el hipervínculo de la referencia"
      ]
    },
    {
      "cell_type": "code",
      "metadata": {
        "id": "H8LYeMCLuEpF"
      },
      "source": [
        ""
      ],
      "execution_count": null,
      "outputs": []
    },
    {
      "cell_type": "code",
      "metadata": {
        "id": "9u5HxbT9ZdcY"
      },
      "source": [
        ""
      ],
      "execution_count": null,
      "outputs": []
    },
    {
      "cell_type": "code",
      "metadata": {
        "id": "B64mibbevE7l"
      },
      "source": [
        ""
      ],
      "execution_count": null,
      "outputs": []
    },
    {
      "cell_type": "markdown",
      "metadata": {
        "id": "xfHv7OvLaSNo"
      },
      "source": [
        "🏷️ 9. Generar una lista con todos los elemento li\n"
      ]
    },
    {
      "cell_type": "code",
      "metadata": {
        "id": "miy4lKM5aWnH"
      },
      "source": [
        ""
      ],
      "execution_count": null,
      "outputs": []
    },
    {
      "cell_type": "markdown",
      "metadata": {
        "id": "RE-9TWXWadYa"
      },
      "source": [
        "🏷️ 10. Seleccionar todos los elementos li pero solo los que corresponden a los capítulos, realizar un dataframe donde tenga dos columnas:\n",
        "* Captiulo nro\n",
        "* Capitulo denominación"
      ]
    },
    {
      "cell_type": "code",
      "metadata": {
        "id": "z8AhtxHva4T8"
      },
      "source": [
        ""
      ],
      "execution_count": null,
      "outputs": []
    },
    {
      "cell_type": "markdown",
      "metadata": {
        "id": "3TopaRF_c8oM"
      },
      "source": [
        "🏷️ 11. Generar un dataframe en base a los datos que estan en el apartado **`Ediciones en español`**"
      ]
    },
    {
      "cell_type": "code",
      "metadata": {
        "id": "JsVcAe_qdN5O"
      },
      "source": [
        ""
      ],
      "execution_count": null,
      "outputs": []
    },
    {
      "cell_type": "code",
      "metadata": {
        "id": "Rd_tEs9J415A"
      },
      "source": [
        ""
      ],
      "execution_count": null,
      "outputs": []
    },
    {
      "cell_type": "markdown",
      "metadata": {
        "id": "uGZ_cgfgfxyz"
      },
      "source": [
        "🏷️ 12. Generar un dataframe con los datos correspondientes a la Ficha Técnica"
      ]
    },
    {
      "cell_type": "code",
      "metadata": {
        "id": "LJ631c5K8Tx3"
      },
      "source": [
        ""
      ],
      "execution_count": null,
      "outputs": []
    },
    {
      "cell_type": "code",
      "metadata": {
        "id": "1Dbm4-TDl_gX"
      },
      "source": [
        ""
      ],
      "execution_count": null,
      "outputs": []
    },
    {
      "cell_type": "code",
      "metadata": {
        "id": "KGNvHImN-fut"
      },
      "source": [
        ""
      ],
      "execution_count": null,
      "outputs": []
    },
    {
      "cell_type": "markdown",
      "metadata": {
        "id": "BWLPM0AJf01g"
      },
      "source": [
        "🏷️ 13. En base al reparto de las películas realizadas:\n",
        "1. Cuales son los actores que realizaron más de un personaje.\n",
        "2. Qué personajes están desarrollado en la versión de idioma ingles pero no están en su versión latina.\n",
        "3. Que personajes están desarrollado en la versión latina pero no estan en su versión idioma inglés.\n"
      ]
    },
    {
      "cell_type": "code",
      "metadata": {
        "id": "wpm6tM2I_6Dq"
      },
      "source": [
        ""
      ],
      "execution_count": null,
      "outputs": []
    },
    {
      "cell_type": "code",
      "metadata": {
        "id": "tKaKEgXxBggt"
      },
      "source": [
        ""
      ],
      "execution_count": null,
      "outputs": []
    },
    {
      "cell_type": "code",
      "metadata": {
        "id": "aEbV2tjYB5T4"
      },
      "source": [
        ""
      ],
      "execution_count": null,
      "outputs": []
    },
    {
      "cell_type": "code",
      "metadata": {
        "id": "MW6mAr0AgQFy"
      },
      "source": [
        ""
      ],
      "execution_count": null,
      "outputs": []
    },
    {
      "cell_type": "code",
      "metadata": {
        "id": "vpuFSulxkIvx"
      },
      "source": [
        "#1. Cuales son los actores que realizaron más de un personaje.\n"
      ],
      "execution_count": null,
      "outputs": []
    },
    {
      "cell_type": "code",
      "metadata": {
        "id": "2UgcHrLflALG"
      },
      "source": [
        "#2. Que personajes estan desarrollado en la version de idioma ingles pero no estan en su version latina.\n"
      ],
      "execution_count": null,
      "outputs": []
    },
    {
      "cell_type": "code",
      "metadata": {
        "id": "sdpi4XD8kUgn"
      },
      "source": [
        "#3. Que personajes estan desarrollado en la version latina pero no estan en su version idioma ingles.\n"
      ],
      "execution_count": null,
      "outputs": []
    },
    {
      "cell_type": "markdown",
      "metadata": {
        "id": "2oaC_H_wgfnH"
      },
      "source": [
        "🏷️ 14. Cuantos Actores tiene el reparto de la pelicula de Tim Burton, genere una lista con los nombres de cada uno de ellos."
      ]
    },
    {
      "cell_type": "code",
      "metadata": {
        "id": "pEZZES6OmaOy"
      },
      "source": [
        ""
      ],
      "execution_count": null,
      "outputs": []
    },
    {
      "cell_type": "markdown",
      "metadata": {
        "id": "XW-pfL6igm6P"
      },
      "source": [
        "🏷️ 15. Generar una lista para mostrar todos los datos relacionados a las nominaciones y premios."
      ]
    },
    {
      "cell_type": "code",
      "metadata": {
        "id": "qTAqHWfr_vFZ"
      },
      "source": [
        ""
      ],
      "execution_count": null,
      "outputs": []
    },
    {
      "cell_type": "markdown",
      "metadata": {
        "id": "q1zvfuItg3w3"
      },
      "source": [
        "🏷️ 16. Genere un dataframe con las críticas:\n",
        "* Una de las columnas debe tener el nombre de la persona o empresa que lo realizó\n",
        "* Otra columna debe contener la crítica.\n",
        "\n"
      ]
    },
    {
      "cell_type": "code",
      "metadata": {
        "id": "QQ1bCpvkhOV_"
      },
      "source": [
        ""
      ],
      "execution_count": null,
      "outputs": []
    }
  ]
}