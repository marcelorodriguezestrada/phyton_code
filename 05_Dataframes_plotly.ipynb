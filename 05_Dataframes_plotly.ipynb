{
  "nbformat": 4,
  "nbformat_minor": 0,
  "metadata": {
    "colab": {
      "name": "05-Dataframes_plotly.ipynb",
      "provenance": [],
      "collapsed_sections": []
    },
    "kernelspec": {
      "name": "python3",
      "display_name": "Python 3"
    }
  },
  "cells": [
    {
      "cell_type": "markdown",
      "metadata": {
        "id": "xukFEhNLle_K"
      },
      "source": [
        " <img src=\"https://eant.tech/imagenes/logo.png\" width=25% height=80%  >"
      ]
    },
    {
      "cell_type": "markdown",
      "metadata": {
        "id": "vruvL1u2VZKw"
      },
      "source": [
        "\n",
        "<center>\n",
        "<img src=\"https://upload.wikimedia.org/wikipedia/commons/thumb/3/37/Plotly-logo-01-square.png/1200px-Plotly-logo-01-square.png\" width=\"50%\"> \n",
        "</center>\n",
        "\n",
        "Plotly es un paquete para crear gráficos interactivos y animados,\n",
        "Es un paquete con el que se puede desarrollar dashboard en python y también tiene versiones para lenguajes tales como: python, R, Julia y Javascript.\n",
        "Para ver la documentación del paquete en: https://plotly.com/python/\n"
      ]
    },
    {
      "cell_type": "markdown",
      "metadata": {
        "id": "2O9l9P94ksnO"
      },
      "source": [
        "## <img src=\"http://icons.iconarchive.com/icons/cornmanthe3rd/plex/256/Other-python-icon.png\" width=\"40\"> Ejercicio Gapminder 📍🗺️🌎\n",
        "\n",
        "La fundación Gapminder es una organización sin fines de lucro con sede en Suecia que promueve el desarrollo global mediante el uso de estadísticas.\n",
        "\n",
        "<center>\n",
        "<img src=\"https://s3-eu-west-1.amazonaws.com/static.gapminder.org/GapminderMedia/wp-uploads/20170113171243/Gapminder-Offline-Tools.png\" width=\"50%\"> \n",
        "</center>\n",
        "\n"
      ]
    },
    {
      "cell_type": "markdown",
      "metadata": {
        "id": "2gE5NiWIUGG9"
      },
      "source": [
        "⚠️ 1. Instalar el paquete de plotly nuevamente como upgrade y reiniciar el entorno."
      ]
    },
    {
      "cell_type": "code",
      "metadata": {
        "id": "fmBQST81b-sN",
        "colab": {
          "base_uri": "https://localhost:8080/"
        },
        "outputId": "cb3be792-4d0e-4421-f23f-93649a9a19a5"
      },
      "source": [
        "!pip install --upgrade plotly"
      ],
      "execution_count": null,
      "outputs": [
        {
          "output_type": "stream",
          "text": [
            "Collecting plotly\n",
            "\u001b[?25l  Downloading https://files.pythonhosted.org/packages/1f/f6/bd3c17c8003b6641df1228e80e1acac97ed8402635e46c2571f8e1ef63af/plotly-4.14.3-py2.py3-none-any.whl (13.2MB)\n",
            "\u001b[K     |████████████████████████████████| 13.2MB 272kB/s \n",
            "\u001b[?25hRequirement already satisfied, skipping upgrade: six in /usr/local/lib/python3.7/dist-packages (from plotly) (1.15.0)\n",
            "Requirement already satisfied, skipping upgrade: retrying>=1.3.3 in /usr/local/lib/python3.7/dist-packages (from plotly) (1.3.3)\n",
            "Installing collected packages: plotly\n",
            "  Found existing installation: plotly 4.4.1\n",
            "    Uninstalling plotly-4.4.1:\n",
            "      Successfully uninstalled plotly-4.4.1\n",
            "Successfully installed plotly-4.14.3\n"
          ],
          "name": "stdout"
        }
      ]
    },
    {
      "cell_type": "markdown",
      "metadata": {
        "id": "M-w47Pa6UVyY"
      },
      "source": [
        "🏷️ 2. Importar los siguientes paquetes"
      ]
    },
    {
      "cell_type": "code",
      "metadata": {
        "id": "7IEop_mp2oFm"
      },
      "source": [
        "import pandas as pd\n",
        "import plotly.express as px\n",
        "import matplotlib.pyplot as plt\n",
        "import numpy as np\n",
        "import plotly.graph_objects as go"
      ],
      "execution_count": null,
      "outputs": []
    },
    {
      "cell_type": "markdown",
      "metadata": {
        "id": "ZPxaVheOeEt_"
      },
      "source": [
        "🏷️ 3. Importar el dataframe de gapminder que se encuentra en el paquete de plotly"
      ]
    },
    {
      "cell_type": "code",
      "metadata": {
        "id": "cR2STjRYks7g"
      },
      "source": [
        ""
      ],
      "execution_count": null,
      "outputs": []
    },
    {
      "cell_type": "markdown",
      "metadata": {
        "id": "fbE3XISs2ZqE"
      },
      "source": [
        "🏷️ 4. Visualizar los primeros registros del dataframe"
      ]
    },
    {
      "cell_type": "code",
      "metadata": {
        "id": "UgjE0zBUkt7H"
      },
      "source": [
        ""
      ],
      "execution_count": null,
      "outputs": []
    },
    {
      "cell_type": "markdown",
      "metadata": {
        "id": "-7r2Gfecepo-"
      },
      "source": [
        "🏷️ 5. Generar un dataframe que contenga los datos del ultimo año "
      ]
    },
    {
      "cell_type": "code",
      "metadata": {
        "id": "D4PyehLMku39"
      },
      "source": [
        ""
      ],
      "execution_count": null,
      "outputs": []
    },
    {
      "cell_type": "markdown",
      "metadata": {
        "id": "WGvzjzfBKUSF"
      },
      "source": [
        "🏷️ 6. Generar un scatter plot con:\n",
        "* el eje x PIB per Capita\n",
        "* el eje y: Esperanza de vida (en años)\n",
        "\n",
        "\n",
        "\n",
        "\n",
        "\n"
      ]
    },
    {
      "cell_type": "code",
      "metadata": {
        "id": "acUUWR3gkvuw"
      },
      "source": [
        ""
      ],
      "execution_count": null,
      "outputs": []
    },
    {
      "cell_type": "markdown",
      "metadata": {
        "id": "3NQyzCYWRHC4"
      },
      "source": [
        "🏷️ 7. Modificar el grafico anterior para generar un histograma para cada una de las variables graficadas"
      ]
    },
    {
      "cell_type": "code",
      "metadata": {
        "id": "p1ANxIA0kwxD"
      },
      "source": [
        ""
      ],
      "execution_count": null,
      "outputs": []
    },
    {
      "cell_type": "markdown",
      "metadata": {
        "id": "3QnuErzoLu8v"
      },
      "source": [
        "🏷️ 8. Modificar el grafico del paso anterior para cambiar el color de los puntos teniendo en cuenta la variable `continente`"
      ]
    },
    {
      "cell_type": "code",
      "metadata": {
        "id": "RhHCCyeNkx9O"
      },
      "source": [
        ""
      ],
      "execution_count": null,
      "outputs": []
    },
    {
      "cell_type": "markdown",
      "metadata": {
        "id": "a0MSqqKKMGe8"
      },
      "source": [
        "🏷️ 9. Modificar el grafico del paso anterior para que los puntos tomen un tamaño basados en la variable población"
      ]
    },
    {
      "cell_type": "code",
      "metadata": {
        "id": "WCo-w0ZukywL"
      },
      "source": [
        ""
      ],
      "execution_count": null,
      "outputs": []
    },
    {
      "cell_type": "markdown",
      "metadata": {
        "id": "Z16UD-H1Mf3d"
      },
      "source": [
        "🏷️ 10.  Modificar el grafico del paso anterior para agregar en el popup la denominación del pais"
      ]
    },
    {
      "cell_type": "code",
      "metadata": {
        "id": "A3qysrkLkzsO"
      },
      "source": [
        ""
      ],
      "execution_count": null,
      "outputs": []
    },
    {
      "cell_type": "markdown",
      "metadata": {
        "id": "A8K3rzi6Mp5A"
      },
      "source": [
        "🏷️ 11. Modificar el grafico para que retorne un titulo"
      ]
    },
    {
      "cell_type": "code",
      "metadata": {
        "id": "UNtoDxrok0uU"
      },
      "source": [
        ""
      ],
      "execution_count": null,
      "outputs": []
    },
    {
      "cell_type": "markdown",
      "metadata": {
        "id": "7E7hGmvONLtF"
      },
      "source": [
        "🏷️ 12. Modificar el titulo los siguientes parametros: size ,color y centrarlo"
      ]
    },
    {
      "cell_type": "code",
      "metadata": {
        "id": "omk4HMpFk1o0"
      },
      "source": [
        ""
      ],
      "execution_count": null,
      "outputs": []
    },
    {
      "cell_type": "markdown",
      "metadata": {
        "id": "aqsm4ytnODmu"
      },
      "source": [
        "🏷️ 13. Modificar las leyendas del grafico del ejercicio anterior:\n",
        "* 'gdpPercap'='gdp'\n",
        "* 'lifeExp'='lexp'"
      ]
    },
    {
      "cell_type": "code",
      "metadata": {
        "id": "lsighBVLk27l"
      },
      "source": [
        ""
      ],
      "execution_count": null,
      "outputs": []
    },
    {
      "cell_type": "markdown",
      "metadata": {
        "id": "fXOguqdOPbP5"
      },
      "source": [
        "🏷️ 14.  Generar un grafico con mosaicos en columnas por la variable continentes"
      ]
    },
    {
      "cell_type": "code",
      "metadata": {
        "id": "8rnNCSAfk4CK"
      },
      "source": [
        ""
      ],
      "execution_count": null,
      "outputs": []
    },
    {
      "cell_type": "markdown",
      "metadata": {
        "id": "ij7fnAyNQKiu"
      },
      "source": [
        "🏷️ 15. Eliminar las leyendas por continentes."
      ]
    },
    {
      "cell_type": "code",
      "metadata": {
        "id": "ehCB_hdik4_c"
      },
      "source": [
        ""
      ],
      "execution_count": null,
      "outputs": []
    },
    {
      "cell_type": "markdown",
      "metadata": {
        "id": "Q85VmW6kRKVY"
      },
      "source": [
        "🏷️ 16. Generar un scatterplot en 3d donde:\n",
        "* Eje x `PIB per Capita`\n",
        "* Eje y `Esperanza de vida (en años)`\n",
        "* Eje z `Población`"
      ]
    },
    {
      "cell_type": "code",
      "metadata": {
        "id": "DBUQU1IGk5xr"
      },
      "source": [
        ""
      ],
      "execution_count": null,
      "outputs": []
    },
    {
      "cell_type": "markdown",
      "metadata": {
        "id": "DkPNJVQFRwbl"
      },
      "source": [
        "🏷️ 17. Generar un dataframe denominado `Argentina` con los datos correspondientes al pais."
      ]
    },
    {
      "cell_type": "code",
      "metadata": {
        "id": "GQ5UtXGZk65E"
      },
      "source": [
        ""
      ],
      "execution_count": null,
      "outputs": []
    },
    {
      "cell_type": "code",
      "metadata": {
        "id": "CdA-nXQGk7Ey"
      },
      "source": [
        ""
      ],
      "execution_count": null,
      "outputs": []
    },
    {
      "cell_type": "markdown",
      "metadata": {
        "id": "8_0FKWMLSMxz"
      },
      "source": [
        "🏷️ 18. Generar un lineplot con los datos obtenidos en el paso anterior, para lo cual en:\n",
        "* eje x: `años`\n",
        "* eje y: `Esperanza de vida (en años)` texto en cursiva"
      ]
    },
    {
      "cell_type": "code",
      "metadata": {
        "id": "YpA5mH7Nk9B-"
      },
      "source": [
        ""
      ],
      "execution_count": null,
      "outputs": []
    },
    {
      "cell_type": "markdown",
      "metadata": {
        "id": "oj53FdleTOoK"
      },
      "source": [
        "🏷️ 19. Generar un lineplot con los datos para Argentina, Brasil y Chile:\n",
        "* eje x: `años`\n",
        "* eje y: `Esperanza de vida (en años)`\n",
        "* Asignar diferentes colores por pais.\n"
      ]
    },
    {
      "cell_type": "code",
      "metadata": {
        "id": "Agi2OFOrk-u1"
      },
      "source": [
        ""
      ],
      "execution_count": null,
      "outputs": []
    },
    {
      "cell_type": "markdown",
      "metadata": {
        "id": "b96jmbgyT4rs"
      },
      "source": [
        "🏷️ 20. Cual de los paises es el que tiene mayor expectativa de vida:\n",
        "\n",
        "* [ ] Argentina\n",
        "* [ ] Brasil\n",
        "* [x] Chile"
      ]
    },
    {
      "cell_type": "markdown",
      "metadata": {
        "id": "pgwjdz-qTNZ0"
      },
      "source": [
        "🏷️ 21. Generar un grafico donde:\n",
        "* Argentina tenga formato scatterplot.\n",
        "* Brasil tenga formato scatterplot+lineplot\n",
        "* Chile tenga formato lineplot"
      ]
    },
    {
      "cell_type": "code",
      "metadata": {
        "id": "J7NnrPsplATz"
      },
      "source": [
        ""
      ],
      "execution_count": null,
      "outputs": []
    },
    {
      "cell_type": "markdown",
      "metadata": {
        "id": "g052S_TgVQXA"
      },
      "source": [
        "🏷️ 22. Modificar el grafico anterior para que el color de la grafica de Argentina es color '#48b051' y un size 15"
      ]
    },
    {
      "cell_type": "code",
      "metadata": {
        "id": "WweV0eIQlBn7"
      },
      "source": [
        ""
      ],
      "execution_count": null,
      "outputs": []
    },
    {
      "cell_type": "markdown",
      "metadata": {
        "id": "GRQUnkU2VmfJ"
      },
      "source": [
        "🏷️ 23. Con los datos obtenidos de Argentina generar un barplot donde:\n",
        "* Eje x es año\n",
        "* Eje y es la población"
      ]
    },
    {
      "cell_type": "code",
      "metadata": {
        "id": "OJe_ljEFlCqQ"
      },
      "source": [
        ""
      ],
      "execution_count": null,
      "outputs": []
    },
    {
      "cell_type": "markdown",
      "metadata": {
        "id": "-3IJMaLCVzs0"
      },
      "source": [
        "🏷️ 24. Modificar el grafico anterior modificando el parametro color por la variable `lifeExp`"
      ]
    },
    {
      "cell_type": "code",
      "metadata": {
        "id": "7bg-oTh-lDjO"
      },
      "source": [
        ""
      ],
      "execution_count": null,
      "outputs": []
    },
    {
      "cell_type": "markdown",
      "metadata": {
        "id": "UP-aU0S9WlNP"
      },
      "source": [
        "🏷️ 25. Modificar el grafico para que la parte superior del grafico tenga la leyenda de la población por cada año."
      ]
    },
    {
      "cell_type": "code",
      "metadata": {
        "id": "u9jVmiHMlEqS"
      },
      "source": [
        ""
      ],
      "execution_count": null,
      "outputs": []
    },
    {
      "cell_type": "markdown",
      "metadata": {
        "id": "yfEqjfI1XR0W"
      },
      "source": [
        "🏷️ 26. Generar un boxplot con los datos de los continentes y la Esperanza de vida (en años).\n",
        "\n",
        "El grafico debe ser para los años 1992 y 2007."
      ]
    },
    {
      "cell_type": "code",
      "metadata": {
        "id": "9HuSJ8tAlFnM"
      },
      "source": [
        ""
      ],
      "execution_count": null,
      "outputs": []
    },
    {
      "cell_type": "markdown",
      "metadata": {
        "id": "bT2LYg4HX7N9"
      },
      "source": [
        "🏷️ 27. Cuales de los continentes se visualiza que no mejoro su mediana \"lifeExp\" con el paso del tiempo.\n",
        "\n",
        "* [ ] America\n",
        "* [ ] Asia\n",
        "* [x] Africa\n",
        "* [ ] Europa\n",
        "* [ ] Oceania\n"
      ]
    },
    {
      "cell_type": "markdown",
      "metadata": {
        "id": "SIwWUTAaYZwf"
      },
      "source": [
        "🏷️ 28. Generar un violinplot en el cual y en el mismo superponer un boxplot para poder visualizar la mediana por continente, en los ejes deben ir las siguientes variables:\n",
        "* Eje x: lifeExp\n",
        "* Eje y: continent\n"
      ]
    },
    {
      "cell_type": "code",
      "metadata": {
        "id": "pISbZ8W_lHXh"
      },
      "source": [
        ""
      ],
      "execution_count": null,
      "outputs": []
    },
    {
      "cell_type": "markdown",
      "metadata": {
        "id": "xEuqWs3dY7-5"
      },
      "source": [
        "🏷️ 29. Modificar el grafico anterior para poder visualizar los puntos."
      ]
    },
    {
      "cell_type": "code",
      "metadata": {
        "id": "d9tcZiH_RxWz"
      },
      "source": [
        ""
      ],
      "execution_count": null,
      "outputs": []
    },
    {
      "cell_type": "markdown",
      "metadata": {
        "id": "bgOj48wUZBdC"
      },
      "source": [
        "🏷️ 30. Modificar el grafico anterior para poder visualizar en cada observación los datos de todas las columnas"
      ]
    },
    {
      "cell_type": "code",
      "metadata": {
        "id": "sAu09B-slI6K"
      },
      "source": [
        ""
      ],
      "execution_count": null,
      "outputs": []
    },
    {
      "cell_type": "markdown",
      "metadata": {
        "id": "XMz-7dk9ZXYW"
      },
      "source": [
        "🏷️ 31. Generar un grafico de pie en el cual se visualicen los 10 paises con más población en America para el año 2007"
      ]
    },
    {
      "cell_type": "code",
      "metadata": {
        "id": "LYC90zhQlJ5i"
      },
      "source": [
        ""
      ],
      "execution_count": null,
      "outputs": []
    },
    {
      "cell_type": "markdown",
      "metadata": {
        "id": "jmpNP0KkZp52"
      },
      "source": [
        "🏷️ 32. Modificar el grafico anterior para generar un fontsize de 20, y modificar el estilo de la linea de contorno del grafico."
      ]
    },
    {
      "cell_type": "code",
      "metadata": {
        "id": "I-d3ylenlLR2"
      },
      "source": [
        ""
      ],
      "execution_count": null,
      "outputs": []
    },
    {
      "cell_type": "markdown",
      "metadata": {
        "id": "LMbXnotjZowW"
      },
      "source": [
        "🏷️ 33. Modificar el grafico anterior para convertirlo en un grafico de dona."
      ]
    },
    {
      "cell_type": "code",
      "metadata": {
        "id": "37kqjXqDlMGx"
      },
      "source": [
        ""
      ],
      "execution_count": null,
      "outputs": []
    },
    {
      "cell_type": "markdown",
      "metadata": {
        "id": "Xue9EJPYaQTP"
      },
      "source": [
        "🏷️ 34. Modificar el template del grafico para colocarlo en formato dark"
      ]
    },
    {
      "cell_type": "code",
      "metadata": {
        "colab": {
          "base_uri": "https://localhost:8080/"
        },
        "id": "GJQ5wylXRFtp",
        "outputId": "a80e9d43-04a7-42f0-e2d0-dd4e5c0463ae"
      },
      "source": [
        "import plotly.io as pio\n",
        "pio.templates"
      ],
      "execution_count": null,
      "outputs": [
        {
          "output_type": "execute_result",
          "data": {
            "text/plain": [
              "Templates configuration\n",
              "-----------------------\n",
              "    Default template: 'plotly'\n",
              "    Available templates:\n",
              "        ['ggplot2', 'seaborn', 'simple_white', 'plotly',\n",
              "         'plotly_white', 'plotly_dark', 'presentation', 'xgridoff',\n",
              "         'ygridoff', 'gridon', 'none']"
            ]
          },
          "metadata": {
            "tags": []
          },
          "execution_count": 42
        }
      ]
    },
    {
      "cell_type": "code",
      "metadata": {
        "id": "K9J4I264lOaR"
      },
      "source": [
        ""
      ],
      "execution_count": null,
      "outputs": []
    },
    {
      "cell_type": "markdown",
      "metadata": {
        "id": "kFvGYdemafy6"
      },
      "source": [
        "🏷️ 35. Generar un treemap para los paises de America en el año 2007"
      ]
    },
    {
      "cell_type": "code",
      "metadata": {
        "id": "5JugCodIlPRx"
      },
      "source": [
        ""
      ],
      "execution_count": null,
      "outputs": []
    },
    {
      "cell_type": "markdown",
      "metadata": {
        "id": "GixFB057a0ZW"
      },
      "source": [
        "🏷️ 36. Generar un sunburst plot para los 25 paises con más población en mundo y asignar colores para el 2007 por la esperanza de vida.\n",
        "\n"
      ]
    },
    {
      "cell_type": "code",
      "metadata": {
        "id": "RePeGiNmlQHk"
      },
      "source": [
        ""
      ],
      "execution_count": null,
      "outputs": []
    },
    {
      "cell_type": "markdown",
      "metadata": {
        "id": "UhyuiShLafq_"
      },
      "source": [
        "🏷️ 37. Generar un scatterplot animado en la cual:\n",
        "* el eje x PIB per Capita\n",
        "* el eje y: Esperanza de vida (en años)\n",
        "* animación debe estar dado por el año (frames) y el grupo de variables son los paises."
      ]
    },
    {
      "cell_type": "code",
      "metadata": {
        "id": "xKqIFj8JlRMr"
      },
      "source": [
        ""
      ],
      "execution_count": null,
      "outputs": []
    },
    {
      "cell_type": "code",
      "metadata": {
        "colab": {
          "base_uri": "https://localhost:8080/"
        },
        "id": "C2nbEF0XXNhZ",
        "outputId": "526abab1-c625-465c-a231-4907fd5263b9"
      },
      "source": [
        "df.columns"
      ],
      "execution_count": null,
      "outputs": [
        {
          "output_type": "execute_result",
          "data": {
            "text/plain": [
              "Index(['country', 'continent', 'year', 'lifeExp', 'pop', 'gdpPercap',\n",
              "       'iso_alpha', 'iso_num'],\n",
              "      dtype='object')"
            ]
          },
          "metadata": {
            "tags": []
          },
          "execution_count": 71
        }
      ]
    },
    {
      "cell_type": "markdown",
      "metadata": {
        "id": "esbesKYNcpSO"
      },
      "source": [
        "🏷️ 38. Modificar el grafico anterior para generar un facet por continentes."
      ]
    },
    {
      "cell_type": "code",
      "metadata": {
        "id": "J6e87al0lSSb"
      },
      "source": [
        ""
      ],
      "execution_count": null,
      "outputs": []
    }
  ]
}